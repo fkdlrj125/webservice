{
 "cells": [
  {
   "cell_type": "code",
   "execution_count": null,
   "id": "f299f395",
   "metadata": {},
   "outputs": [],
   "source": [
    "# 네이버 증권에서 국내 증시에 인기 검색 종목 테이블 추출 후 \n",
    "# 모든 값이 결측치인 행만 삭제\n",
    "# 타입 알맞게 변경\n",
    "# 국내증시.csv 파일로 저장(인덱스 제외)"
   ]
  }
 ],
 "metadata": {
  "kernelspec": {
   "display_name": "ex_kernel",
   "language": "python",
   "name": "ex"
  },
  "language_info": {
   "codemirror_mode": {
    "name": "ipython",
    "version": 3
   },
   "file_extension": ".py",
   "mimetype": "text/x-python",
   "name": "python",
   "nbconvert_exporter": "python",
   "pygments_lexer": "ipython3",
   "version": "3.8.10"
  },
  "toc": {
   "base_numbering": 1,
   "nav_menu": {},
   "number_sections": true,
   "sideBar": true,
   "skip_h1_title": false,
   "title_cell": "Table of Contents",
   "title_sidebar": "Contents",
   "toc_cell": false,
   "toc_position": {},
   "toc_section_display": true,
   "toc_window_display": false
  }
 },
 "nbformat": 4,
 "nbformat_minor": 5
}
