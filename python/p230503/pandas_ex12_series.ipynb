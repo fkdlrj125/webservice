{
 "cells": [
  {
   "cell_type": "markdown",
   "id": "dc92139a",
   "metadata": {},
   "source": [
    "# Series 기본 개념\n",
    "- 1차원 형태\n",
    "- 행의 index만 존재"
   ]
  },
  {
   "cell_type": "markdown",
   "id": "931f8b80",
   "metadata": {},
   "source": [
    "## Series 생성\n",
    "- 문법 : pandas.Series()"
   ]
  },
  {
   "cell_type": "code",
   "execution_count": 1,
   "id": "756d2d60",
   "metadata": {},
   "outputs": [],
   "source": [
    "import pandas as pd"
   ]
  },
  {
   "cell_type": "code",
   "execution_count": 2,
   "id": "d95b9fa9",
   "metadata": {},
   "outputs": [
    {
     "data": {
      "text/plain": [
       "0    10\n",
       "1    20\n",
       "2    30\n",
       "3    40\n",
       "dtype: int64"
      ]
     },
     "execution_count": 2,
     "metadata": {},
     "output_type": "execute_result"
    }
   ],
   "source": [
    "se = pd.Series([10, 20, 30, 40])\n",
    "se"
   ]
  },
  {
   "cell_type": "code",
   "execution_count": 55,
   "id": "d4731b52",
   "metadata": {},
   "outputs": [
    {
     "name": "stdout",
     "output_type": "stream",
     "text": [
      "<class 'pandas.core.series.Series'>\n",
      "RangeIndex: 4 entries, 0 to 3\n",
      "Series name: None\n",
      "Non-Null Count  Dtype\n",
      "--------------  -----\n",
      "4 non-null      int64\n",
      "dtypes: int64(1)\n",
      "memory usage: 160.0 bytes\n"
     ]
    }
   ],
   "source": [
    "se.info()"
   ]
  },
  {
   "cell_type": "markdown",
   "id": "c18b6eb6",
   "metadata": {},
   "source": [
    "## 타입\n"
   ]
  },
  {
   "cell_type": "code",
   "execution_count": 3,
   "id": "3321514f",
   "metadata": {},
   "outputs": [
    {
     "data": {
      "text/plain": [
       "pandas.core.series.Series"
      ]
     },
     "execution_count": 3,
     "metadata": {},
     "output_type": "execute_result"
    }
   ],
   "source": [
    "type(se)"
   ]
  },
  {
   "cell_type": "code",
   "execution_count": 7,
   "id": "83206859",
   "metadata": {},
   "outputs": [
    {
     "data": {
      "text/plain": [
       "dtype('int64')"
      ]
     },
     "execution_count": 7,
     "metadata": {},
     "output_type": "execute_result"
    }
   ],
   "source": [
    "se.dtype"
   ]
  },
  {
   "cell_type": "code",
   "execution_count": 8,
   "id": "831c388d",
   "metadata": {},
   "outputs": [
    {
     "data": {
      "text/plain": [
       "dtype('int64')"
      ]
     },
     "execution_count": 8,
     "metadata": {},
     "output_type": "execute_result"
    }
   ],
   "source": [
    "se.dtypes"
   ]
  },
  {
   "cell_type": "markdown",
   "id": "5b6707d3",
   "metadata": {},
   "source": [
    "## 인덱스\n"
   ]
  },
  {
   "cell_type": "code",
   "execution_count": 9,
   "id": "c53dfbd1",
   "metadata": {},
   "outputs": [
    {
     "data": {
      "text/plain": [
       "RangeIndex(start=0, stop=4, step=1)"
      ]
     },
     "execution_count": 9,
     "metadata": {},
     "output_type": "execute_result"
    }
   ],
   "source": [
    "se.index"
   ]
  },
  {
   "cell_type": "code",
   "execution_count": 11,
   "id": "601f60aa",
   "metadata": {},
   "outputs": [
    {
     "data": {
      "text/plain": [
       "1"
      ]
     },
     "execution_count": 11,
     "metadata": {},
     "output_type": "execute_result"
    }
   ],
   "source": [
    "# 인덱싱\n",
    "se.index[1]"
   ]
  },
  {
   "cell_type": "code",
   "execution_count": 12,
   "id": "9d8ea12a",
   "metadata": {},
   "outputs": [
    {
     "data": {
      "text/plain": [
       "RangeIndex(start=1, stop=4, step=1)"
      ]
     },
     "execution_count": 12,
     "metadata": {},
     "output_type": "execute_result"
    }
   ],
   "source": [
    "# 슬라이싱\n",
    "se.index[1:]"
   ]
  },
  {
   "cell_type": "code",
   "execution_count": 13,
   "id": "bbce3920",
   "metadata": {},
   "outputs": [
    {
     "data": {
      "text/plain": [
       "RangeIndex(start=2, stop=3, step=1)"
      ]
     },
     "execution_count": 13,
     "metadata": {},
     "output_type": "execute_result"
    }
   ],
   "source": [
    "se.index[2:3]"
   ]
  },
  {
   "cell_type": "code",
   "execution_count": 16,
   "id": "2dacb3ae",
   "metadata": {},
   "outputs": [],
   "source": [
    "# 인덱스 일부 변경 : 1 -> 'one'\n",
    "# # 복사본\n",
    "# se.rename({1 : 'one'})\n",
    "# # 원본 적용\n",
    "# se.rename({1 : 'one'}, inplace=True)"
   ]
  },
  {
   "cell_type": "code",
   "execution_count": 17,
   "id": "ec44ac4d",
   "metadata": {},
   "outputs": [
    {
     "data": {
      "text/plain": [
       "Index([0, 'one', 2, 3], dtype='object')"
      ]
     },
     "execution_count": 17,
     "metadata": {},
     "output_type": "execute_result"
    }
   ],
   "source": [
    "se.index"
   ]
  },
  {
   "cell_type": "code",
   "execution_count": 18,
   "id": "424de7f8",
   "metadata": {},
   "outputs": [
    {
     "data": {
      "text/plain": [
       "하나    10\n",
       "둘     20\n",
       "셋     30\n",
       "넷     40\n",
       "dtype: int64"
      ]
     },
     "execution_count": 18,
     "metadata": {},
     "output_type": "execute_result"
    }
   ],
   "source": [
    "se.index = ['하나', '둘', '셋', '넷']\n",
    "se"
   ]
  },
  {
   "cell_type": "code",
   "execution_count": 19,
   "id": "7b7d533f",
   "metadata": {},
   "outputs": [
    {
     "data": {
      "text/plain": [
       "Index(['하나', '둘', '셋', '넷'], dtype='object')"
      ]
     },
     "execution_count": 19,
     "metadata": {},
     "output_type": "execute_result"
    }
   ],
   "source": [
    "se.index"
   ]
  },
  {
   "cell_type": "code",
   "execution_count": 27,
   "id": "003155e4",
   "metadata": {},
   "outputs": [
    {
     "data": {
      "text/plain": [
       "40"
      ]
     },
     "execution_count": 27,
     "metadata": {},
     "output_type": "execute_result"
    }
   ],
   "source": [
    "# se['하나':'하나']\n",
    "# se['하나']\n",
    "# se.loc['하나']\n",
    "# se.iloc[0]\n",
    "# 내부적으로 처리되는 인덱스로 바로 접근 가능\n",
    "se[0]\n",
    "se[-1]"
   ]
  },
  {
   "cell_type": "code",
   "execution_count": 28,
   "id": "4cb75f93",
   "metadata": {},
   "outputs": [
    {
     "data": {
      "text/plain": [
       "하나    10\n",
       "둘     20\n",
       "dtype: int64"
      ]
     },
     "execution_count": 28,
     "metadata": {},
     "output_type": "execute_result"
    }
   ],
   "source": [
    "# 슬라이싱 - 첫 번째 ~ 두 번째 값 추출\n",
    "se[:2]"
   ]
  },
  {
   "cell_type": "code",
   "execution_count": 30,
   "id": "c6067169",
   "metadata": {},
   "outputs": [],
   "source": [
    "# 인덱스 변경\n",
    "se.index = range(4)\n",
    "type(se.index)"
   ]
  },
  {
   "cell_type": "code",
   "execution_count": 31,
   "id": "9ddcef18",
   "metadata": {},
   "outputs": [
    {
     "data": {
      "text/plain": [
       "pandas.core.indexes.range.RangeIndex"
      ]
     },
     "execution_count": 31,
     "metadata": {},
     "output_type": "execute_result"
    }
   ],
   "source": [
    "type(se.index)"
   ]
  },
  {
   "cell_type": "code",
   "execution_count": 35,
   "id": "1c601c0c",
   "metadata": {},
   "outputs": [
    {
     "ename": "KeyError",
     "evalue": "-1",
     "output_type": "error",
     "traceback": [
      "\u001b[1;31m---------------------------------------------------------------------------\u001b[0m",
      "\u001b[1;31mValueError\u001b[0m                                Traceback (most recent call last)",
      "File \u001b[1;32m~\\anaconda3\\envs\\ex\\lib\\site-packages\\pandas\\core\\indexes\\range.py:345\u001b[0m, in \u001b[0;36mRangeIndex.get_loc\u001b[1;34m(self, key)\u001b[0m\n\u001b[0;32m    344\u001b[0m \u001b[38;5;28;01mtry\u001b[39;00m:\n\u001b[1;32m--> 345\u001b[0m     \u001b[38;5;28;01mreturn\u001b[39;00m \u001b[38;5;28;43mself\u001b[39;49m\u001b[38;5;241;43m.\u001b[39;49m\u001b[43m_range\u001b[49m\u001b[38;5;241;43m.\u001b[39;49m\u001b[43mindex\u001b[49m\u001b[43m(\u001b[49m\u001b[43mnew_key\u001b[49m\u001b[43m)\u001b[49m\n\u001b[0;32m    346\u001b[0m \u001b[38;5;28;01mexcept\u001b[39;00m \u001b[38;5;167;01mValueError\u001b[39;00m \u001b[38;5;28;01mas\u001b[39;00m err:\n",
      "\u001b[1;31mValueError\u001b[0m: -1 is not in range",
      "\nThe above exception was the direct cause of the following exception:\n",
      "\u001b[1;31mKeyError\u001b[0m                                  Traceback (most recent call last)",
      "Cell \u001b[1;32mIn[35], line 3\u001b[0m\n\u001b[0;32m      1\u001b[0m \u001b[38;5;66;03m# 인덱싱 : 마지막 값 추출\u001b[39;00m\n\u001b[0;32m      2\u001b[0m se[\u001b[38;5;241m3\u001b[39m]\n\u001b[1;32m----> 3\u001b[0m \u001b[43mse\u001b[49m\u001b[43m[\u001b[49m\u001b[38;5;241;43m-\u001b[39;49m\u001b[38;5;241;43m1\u001b[39;49m\u001b[43m]\u001b[49m \u001b[38;5;66;03m# Error -> 라벨과 내부적으로 쓰는 인덱스와 구분이 되지 않기 때문에\u001b[39;00m\n",
      "File \u001b[1;32m~\\anaconda3\\envs\\ex\\lib\\site-packages\\pandas\\core\\series.py:1007\u001b[0m, in \u001b[0;36mSeries.__getitem__\u001b[1;34m(self, key)\u001b[0m\n\u001b[0;32m   1004\u001b[0m     \u001b[38;5;28;01mreturn\u001b[39;00m \u001b[38;5;28mself\u001b[39m\u001b[38;5;241m.\u001b[39m_values[key]\n\u001b[0;32m   1006\u001b[0m \u001b[38;5;28;01melif\u001b[39;00m key_is_scalar:\n\u001b[1;32m-> 1007\u001b[0m     \u001b[38;5;28;01mreturn\u001b[39;00m \u001b[38;5;28;43mself\u001b[39;49m\u001b[38;5;241;43m.\u001b[39;49m\u001b[43m_get_value\u001b[49m\u001b[43m(\u001b[49m\u001b[43mkey\u001b[49m\u001b[43m)\u001b[49m\n\u001b[0;32m   1009\u001b[0m \u001b[38;5;28;01mif\u001b[39;00m is_hashable(key):\n\u001b[0;32m   1010\u001b[0m     \u001b[38;5;66;03m# Otherwise index.get_value will raise InvalidIndexError\u001b[39;00m\n\u001b[0;32m   1011\u001b[0m     \u001b[38;5;28;01mtry\u001b[39;00m:\n\u001b[0;32m   1012\u001b[0m         \u001b[38;5;66;03m# For labels that don't resolve as scalars like tuples and frozensets\u001b[39;00m\n",
      "File \u001b[1;32m~\\anaconda3\\envs\\ex\\lib\\site-packages\\pandas\\core\\series.py:1116\u001b[0m, in \u001b[0;36mSeries._get_value\u001b[1;34m(self, label, takeable)\u001b[0m\n\u001b[0;32m   1113\u001b[0m     \u001b[38;5;28;01mreturn\u001b[39;00m \u001b[38;5;28mself\u001b[39m\u001b[38;5;241m.\u001b[39m_values[label]\n\u001b[0;32m   1115\u001b[0m \u001b[38;5;66;03m# Similar to Index.get_value, but we do not fall back to positional\u001b[39;00m\n\u001b[1;32m-> 1116\u001b[0m loc \u001b[38;5;241m=\u001b[39m \u001b[38;5;28;43mself\u001b[39;49m\u001b[38;5;241;43m.\u001b[39;49m\u001b[43mindex\u001b[49m\u001b[38;5;241;43m.\u001b[39;49m\u001b[43mget_loc\u001b[49m\u001b[43m(\u001b[49m\u001b[43mlabel\u001b[49m\u001b[43m)\u001b[49m\n\u001b[0;32m   1118\u001b[0m \u001b[38;5;28;01mif\u001b[39;00m is_integer(loc):\n\u001b[0;32m   1119\u001b[0m     \u001b[38;5;28;01mreturn\u001b[39;00m \u001b[38;5;28mself\u001b[39m\u001b[38;5;241m.\u001b[39m_values[loc]\n",
      "File \u001b[1;32m~\\anaconda3\\envs\\ex\\lib\\site-packages\\pandas\\core\\indexes\\range.py:347\u001b[0m, in \u001b[0;36mRangeIndex.get_loc\u001b[1;34m(self, key)\u001b[0m\n\u001b[0;32m    345\u001b[0m         \u001b[38;5;28;01mreturn\u001b[39;00m \u001b[38;5;28mself\u001b[39m\u001b[38;5;241m.\u001b[39m_range\u001b[38;5;241m.\u001b[39mindex(new_key)\n\u001b[0;32m    346\u001b[0m     \u001b[38;5;28;01mexcept\u001b[39;00m \u001b[38;5;167;01mValueError\u001b[39;00m \u001b[38;5;28;01mas\u001b[39;00m err:\n\u001b[1;32m--> 347\u001b[0m         \u001b[38;5;28;01mraise\u001b[39;00m \u001b[38;5;167;01mKeyError\u001b[39;00m(key) \u001b[38;5;28;01mfrom\u001b[39;00m \u001b[38;5;21;01merr\u001b[39;00m\n\u001b[0;32m    348\u001b[0m \u001b[38;5;28;01mif\u001b[39;00m \u001b[38;5;28misinstance\u001b[39m(key, Hashable):\n\u001b[0;32m    349\u001b[0m     \u001b[38;5;28;01mraise\u001b[39;00m \u001b[38;5;167;01mKeyError\u001b[39;00m(key)\n",
      "\u001b[1;31mKeyError\u001b[0m: -1"
     ]
    }
   ],
   "source": [
    "# 인덱싱 : 마지막 값 추출\n",
    "se[3]\n",
    "# se[-1] # Error -> 라벨과 내부적으로 쓰는 인덱스와 구분이 되지 않기 때문에"
   ]
  },
  {
   "cell_type": "markdown",
   "id": "725f57eb",
   "metadata": {},
   "source": [
    "## 값 추출과 개수"
   ]
  },
  {
   "cell_type": "code",
   "execution_count": 38,
   "id": "5cb522d0",
   "metadata": {},
   "outputs": [
    {
     "data": {
      "text/plain": [
       "10"
      ]
     },
     "execution_count": 38,
     "metadata": {},
     "output_type": "execute_result"
    }
   ],
   "source": [
    "# 값만 추출\n",
    "se.values[0]"
   ]
  },
  {
   "cell_type": "code",
   "execution_count": 39,
   "id": "4dbac283",
   "metadata": {},
   "outputs": [
    {
     "data": {
      "text/plain": [
       "numpy.ndarray"
      ]
     },
     "execution_count": 39,
     "metadata": {},
     "output_type": "execute_result"
    }
   ],
   "source": [
    "type(se.values)"
   ]
  },
  {
   "cell_type": "code",
   "execution_count": 54,
   "id": "e088d24f",
   "metadata": {},
   "outputs": [
    {
     "data": {
      "text/plain": [
       "10    1\n",
       "20    1\n",
       "30    1\n",
       "40    1\n",
       "Name: count, dtype: int64"
      ]
     },
     "execution_count": 54,
     "metadata": {},
     "output_type": "execute_result"
    }
   ],
   "source": [
    "len(se)\n",
    "se.value_counts()"
   ]
  },
  {
   "cell_type": "markdown",
   "id": "23f1fe75",
   "metadata": {},
   "source": [
    "# 시리즈  연산\n",
    "- 인덱스가 일치해야 가능\n",
    "- 인덱스가 일치하지 않으면 결측치\n",
    "\n",
    "## 시리즈 생성 : 인덱스 다름"
   ]
  },
  {
   "cell_type": "code",
   "execution_count": 50,
   "id": "1c7a0e0d",
   "metadata": {},
   "outputs": [],
   "source": [
    "s1 = pd.Series([2, 4, 6], index=['n1', 'n2', 'n3'])\n",
    "s2 = pd.Series([1, 5, 3], index=['n1', 'n3', 'n2'])"
   ]
  },
  {
   "cell_type": "markdown",
   "id": "2c39d508",
   "metadata": {},
   "source": [
    "## 연산"
   ]
  },
  {
   "cell_type": "code",
   "execution_count": 47,
   "id": "cfde7b44",
   "metadata": {},
   "outputs": [
    {
     "data": {
      "text/plain": [
       "n1     3\n",
       "n2     7\n",
       "n3    11\n",
       "dtype: int64"
      ]
     },
     "execution_count": 47,
     "metadata": {},
     "output_type": "execute_result"
    }
   ],
   "source": [
    "s1 + s2"
   ]
  },
  {
   "cell_type": "markdown",
   "id": "7e3a790a",
   "metadata": {},
   "source": [
    "## 시리즈 생성 : 없는 인덱스 "
   ]
  },
  {
   "cell_type": "code",
   "execution_count": 50,
   "id": "55200ea5",
   "metadata": {},
   "outputs": [],
   "source": [
    "s3 = pd.Series([2, 4, 6], index=['n1', 'n2', 'n3'])\n",
    "s4 = pd.Series([1, 5, 3], index=['n1', 'n3', 'n5'])"
   ]
  },
  {
   "cell_type": "markdown",
   "id": "c7f4780e",
   "metadata": {},
   "source": [
    "## 연산"
   ]
  },
  {
   "cell_type": "code",
   "execution_count": 53,
   "id": "8deebe50",
   "metadata": {},
   "outputs": [
    {
     "data": {
      "text/plain": [
       "n1     3.0\n",
       "n2     NaN\n",
       "n3    11.0\n",
       "n5     NaN\n",
       "dtype: float64"
      ]
     },
     "execution_count": 53,
     "metadata": {},
     "output_type": "execute_result"
    }
   ],
   "source": [
    "s3 + s4"
   ]
  },
  {
   "cell_type": "code",
   "execution_count": null,
   "id": "85a15cc5",
   "metadata": {},
   "outputs": [],
   "source": []
  },
  {
   "cell_type": "code",
   "execution_count": null,
   "id": "f8d02785",
   "metadata": {},
   "outputs": [],
   "source": []
  }
 ],
 "metadata": {
  "kernelspec": {
   "display_name": "ex_kernel",
   "language": "python",
   "name": "ex"
  },
  "language_info": {
   "codemirror_mode": {
    "name": "ipython",
    "version": 3
   },
   "file_extension": ".py",
   "mimetype": "text/x-python",
   "name": "python",
   "nbconvert_exporter": "python",
   "pygments_lexer": "ipython3",
   "version": "3.8.10"
  },
  "toc": {
   "base_numbering": 1,
   "nav_menu": {},
   "number_sections": true,
   "sideBar": true,
   "skip_h1_title": false,
   "title_cell": "Table of Contents",
   "title_sidebar": "Contents",
   "toc_cell": false,
   "toc_position": {
    "height": "calc(100% - 180px)",
    "left": "10px",
    "top": "150px",
    "width": "165px"
   },
   "toc_section_display": true,
   "toc_window_display": true
  }
 },
 "nbformat": 4,
 "nbformat_minor": 5
}
