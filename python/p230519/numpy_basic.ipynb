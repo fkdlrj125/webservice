{
 "cells": [
  {
   "cell_type": "code",
   "execution_count": 1,
   "id": "14b324bf",
   "metadata": {},
   "outputs": [],
   "source": [
    "import numpy as np"
   ]
  },
  {
   "cell_type": "markdown",
   "id": "12ac6ec9",
   "metadata": {},
   "source": [
    "- numpy\n",
    "    - Numerical Python\n",
    "    - 파이썬의 고성능 과학 계산용 라이브러리\n",
    "    - Matrix와 Vector와 같은 Array 연산 가능\n",
    "    - list에 비해 연산 속도가 빠르고, 메모리를 효율적으로 사용\n",
    "    - 반복문 없이 배열 연산 가능\n",
    "    - 선형대수와 관련된 다양한 기능 제공\n",
    "    - C, C++, 포트란 등의 언어 통합 가능"
   ]
  },
  {
   "cell_type": "markdown",
   "id": "ee8dac0e",
   "metadata": {},
   "source": [
    "- axis(축)\n",
    "    - 1차원 배열 : 선\n",
    "        - 축이 1개 : 행 또는 열\n",
    "    - 2차원 배열 : 면\n",
    "        - 축이 2개 : 행, 열\n",
    "        - 1차원 배열이 여러 개 존재하는 배열\n",
    "    - 3차원 배열 : 입체\n",
    "        - 축이 3개 : (깊이, 차원, 높이, 층), 행, 열\n",
    "        - 2차원 배열이 여러 개 존재하는 배열\n",
    "    <br><br>\n",
    "    - 축이 증가할 때마다 앞에 추가"
   ]
  },
  {
   "cell_type": "markdown",
   "id": "dde49857",
   "metadata": {},
   "source": [
    "# 차원에 따른 이름\n",
    "차원 | 이름 | 예제\n",
    "- | - | -\n",
    "0차원 | scalar(스칼라) | 7\n",
    "1차원 | vector(벡터 | [10, 20, 30]\n",
    "2차원 | matrix(매트릭스) | [[10, 20], [30, 40]]\n",
    "3차원 | tensor(텐서) | [[[10, 20], [7, 9 11]], [[2, 4, 6], [8, 10, 11]]]\n",
    "n차원 | n-tensor | ..."
   ]
  },
  {
   "cell_type": "markdown",
   "id": "7a86833a",
   "metadata": {},
   "source": [
    "## 스칼라 (scalar)\n",
    "- 상수\n",
    "- 벡터나 매트릭스나 텐서의 가장 작은 요소 하나의 값"
   ]
  },
  {
   "cell_type": "code",
   "execution_count": 4,
   "id": "a3670802",
   "metadata": {},
   "outputs": [
    {
     "data": {
      "text/plain": [
       "True"
      ]
     },
     "execution_count": 4,
     "metadata": {},
     "output_type": "execute_result"
    }
   ],
   "source": [
    "np.isscalar(3)"
   ]
  },
  {
   "cell_type": "code",
   "execution_count": 5,
   "id": "15eb855b",
   "metadata": {},
   "outputs": [
    {
     "data": {
      "text/plain": [
       "True"
      ]
     },
     "execution_count": 5,
     "metadata": {},
     "output_type": "execute_result"
    }
   ],
   "source": [
    "np.isscalar('a')"
   ]
  },
  {
   "cell_type": "code",
   "execution_count": 6,
   "id": "49ef581d",
   "metadata": {},
   "outputs": [
    {
     "data": {
      "text/plain": [
       "True"
      ]
     },
     "execution_count": 6,
     "metadata": {},
     "output_type": "execute_result"
    }
   ],
   "source": [
    "np.isscalar(5.2)"
   ]
  },
  {
   "cell_type": "code",
   "execution_count": 8,
   "id": "80b559ac",
   "metadata": {},
   "outputs": [
    {
     "data": {
      "text/plain": [
       "True"
      ]
     },
     "execution_count": 8,
     "metadata": {},
     "output_type": "execute_result"
    }
   ],
   "source": [
    "np.isscalar(True)"
   ]
  },
  {
   "cell_type": "code",
   "execution_count": 10,
   "id": "47c9647c",
   "metadata": {},
   "outputs": [
    {
     "data": {
      "text/plain": [
       "False"
      ]
     },
     "execution_count": 10,
     "metadata": {},
     "output_type": "execute_result"
    }
   ],
   "source": [
    "np.isscalar([4]) "
   ]
  },
  {
   "cell_type": "code",
   "execution_count": 11,
   "id": "adcd1162",
   "metadata": {},
   "outputs": [
    {
     "data": {
      "text/plain": [
       "False"
      ]
     },
     "execution_count": 11,
     "metadata": {},
     "output_type": "execute_result"
    }
   ],
   "source": [
    "np.isscalar(np.arange(5))"
   ]
  },
  {
   "cell_type": "code",
   "execution_count": 13,
   "id": "d50d6762",
   "metadata": {},
   "outputs": [
    {
     "data": {
      "text/plain": [
       "False"
      ]
     },
     "execution_count": 13,
     "metadata": {},
     "output_type": "execute_result"
    }
   ],
   "source": [
    "np.isscalar((5,))"
   ]
  },
  {
   "cell_type": "code",
   "execution_count": 14,
   "id": "a4ecfabf",
   "metadata": {},
   "outputs": [
    {
     "data": {
      "text/plain": [
       "False"
      ]
     },
     "execution_count": 14,
     "metadata": {},
     "output_type": "execute_result"
    }
   ],
   "source": [
    "np.isscalar((5,2))"
   ]
  },
  {
   "cell_type": "markdown",
   "id": "c7bf7a48",
   "metadata": {},
   "source": [
    "## vector\n",
    "- 수학적 의미 : 크기와 방향을 갖는 물리량\n",
    "- numpy : 스칼라가 모여 만들어진 배열(1차원 배열) -> 선\n",
    "- 공간에서의 한 점\n",
    "- axis0(행 또는 열)"
   ]
  },
  {
   "cell_type": "code",
   "execution_count": 23,
   "id": "ac1eafb9",
   "metadata": {},
   "outputs": [
    {
     "name": "stdout",
     "output_type": "stream",
     "text": [
      "[0 1 2 3 4]\n",
      "<class 'numpy.ndarray'>\n",
      "ar size : 5\n",
      "ar len : 5\n",
      "ar shape : (5,)\n",
      "ar dtype : int32\n",
      "ar nbytes : 20\n"
     ]
    }
   ],
   "source": [
    "ar = np.arange(5)\n",
    "print(ar)\n",
    "print(type(ar))\n",
    "print('ar size :', ar.size) # 전체 요소 개수\n",
    "print('ar len :', len(ar)) # 해당 축의 요소 개수\n",
    "print('ar shape :', ar.shape) # 크기(길이)가 5인 1차원 배열, 크기가 5인 벡터\n",
    "print('ar dtype :', ar.dtype) # int32 : 32bit -> 4byte\n",
    "print('ar nbytes :', ar.nbytes) # 배열의 메모리 크기 : 4byte 정수가 5개\n",
    "# 데이터가 많아질 수록 학습속도가 느려지기 때문에 타입의 크기를 줄여주는 게 중요"
   ]
  },
  {
   "cell_type": "markdown",
   "id": "2fbe27a9",
   "metadata": {},
   "source": [
    "## matrix\n",
    "- 행과 열 : 행렬\n",
    "- 2차원 배열 : 1차원 배열 여러 개 -> 면\n",
    "- 여러 개의 벡터(벡터를 원소로 가진다)\n",
    "- axis0(행), axis1(열)"
   ]
  },
  {
   "cell_type": "code",
   "execution_count": 28,
   "id": "54b77732",
   "metadata": {},
   "outputs": [
    {
     "name": "stdout",
     "output_type": "stream",
     "text": [
      "[[0 1 2 3 4]\n",
      " [0 1 2 3 4]]\n",
      "ar2 size : 10\n",
      "ar2 len : 2\n",
      "ar2[0] len : 5\n",
      "ar2 shape : (2, 5)\n",
      "ar2 dtype : int32\n",
      "ar2 nbytes : 40\n"
     ]
    }
   ],
   "source": [
    "ar2 = np.array([ar, ar])\n",
    "print(ar2)\n",
    "print('ar2 size :', ar2.size) # 배열의 모든 요소의 수\n",
    "print('ar2 len :', len(ar2)) # 축(행)의 요소 수\n",
    "print('ar2[0] len :', len(ar2[0])) # 축(열)의 요소 수\n",
    "print('ar2 shape :',ar2.shape) # 크기가 2x5인 2차원 배열(matrix)\n",
    "print('ar2 dtype :', ar2.dtype) # dtype : 32bit -> 4byte\n",
    "print('ar2 nbytes :', ar2.nbytes) # 4byte 정수가 10개"
   ]
  },
  {
   "cell_type": "markdown",
   "id": "eb55199c",
   "metadata": {},
   "source": [
    "## tensor\n",
    "- 행, 열, 깊이/차원/높이\n",
    "- 3차원 배열 : 2차원 배열 여러 개 -> 입체\n",
    "- axis0(깊이/차원), axis1(행), axis2(열)"
   ]
  },
  {
   "cell_type": "code",
   "execution_count": 36,
   "id": "58c2dd86",
   "metadata": {},
   "outputs": [
    {
     "name": "stdout",
     "output_type": "stream",
     "text": [
      "[[[0 1 2 3 4]\n",
      "  [0 1 2 3 4]]\n",
      "\n",
      " [[0 1 2 3 4]\n",
      "  [0 1 2 3 4]]\n",
      "\n",
      " [[0 1 2 3 4]\n",
      "  [0 1 2 3 4]]]\n",
      "ar3 size : 30\n",
      "ar3 len : 3\n",
      "ar3[0] len : 2\n",
      "ar3[0, 0] : 5\n",
      "ar3 shape : (3, 2, 5)\n",
      "ar3 dtype : int32\n",
      "ar3 nbytes 120\n"
     ]
    }
   ],
   "source": [
    "ar3 = np.array([ar2, ar2, ar2])\n",
    "print(ar3)\n",
    "print('ar3 size :', ar3.size)\n",
    "print('ar3 len :', len(ar3)) # 축(높이/차원)의 길이\n",
    "print('ar3[0] len :', len(ar3[0])) # 축(행)의 길이\n",
    "print('ar3[0, 0] len:', len(ar3[0,0])) # 축(열)의 길이\n",
    "print('ar3 shape :', ar3.shape)\n",
    "print('ar3 dtype :', ar3.dtype)\n",
    "print('ar3 nbytes', ar3.nbytes) # 4byte 정수 30개"
   ]
  },
  {
   "cell_type": "markdown",
   "id": "59580c50",
   "metadata": {},
   "source": [
    "# numpy type\n",
    "- int : 정수\n",
    "- uint(unsigned int) : 0, 양의 정수\n",
    "- float : 실수\n",
    "- complex : 복소수 - 실수, 허수\n",
    "- bool : 논리\n",
    "- _ : 기본 타입"
   ]
  },
  {
   "cell_type": "code",
   "execution_count": 37,
   "id": "1e17724c",
   "metadata": {},
   "outputs": [
    {
     "data": {
      "text/plain": [
       "array([0, 1, 2, 3, 4])"
      ]
     },
     "execution_count": 37,
     "metadata": {},
     "output_type": "execute_result"
    }
   ],
   "source": [
    "ar = np.arange(5)\n",
    "ar"
   ]
  },
  {
   "cell_type": "code",
   "execution_count": 38,
   "id": "b46a2f82",
   "metadata": {},
   "outputs": [
    {
     "data": {
      "text/plain": [
       "dtype('int32')"
      ]
     },
     "execution_count": 38,
     "metadata": {},
     "output_type": "execute_result"
    }
   ],
   "source": [
    "ar.dtype"
   ]
  },
  {
   "cell_type": "markdown",
   "id": "98adf73b",
   "metadata": {},
   "source": [
    "## int"
   ]
  },
  {
   "cell_type": "code",
   "execution_count": 42,
   "id": "d3f5ae17",
   "metadata": {},
   "outputs": [
    {
     "data": {
      "text/plain": [
       "array([0, 1, 2, 3, 4], dtype=int8)"
      ]
     },
     "execution_count": 42,
     "metadata": {},
     "output_type": "execute_result"
    }
   ],
   "source": [
    "# int의 타입 종류\n",
    "ar.astype('int8') # 8bit = 1byte"
   ]
  },
  {
   "cell_type": "code",
   "execution_count": 43,
   "id": "06ca0647",
   "metadata": {},
   "outputs": [
    {
     "data": {
      "text/plain": [
       "array([0, 1, 2, 3, 4], dtype=int16)"
      ]
     },
     "execution_count": 43,
     "metadata": {},
     "output_type": "execute_result"
    }
   ],
   "source": [
    "ar.astype('int16') # 16bit = 2byte"
   ]
  },
  {
   "cell_type": "code",
   "execution_count": 44,
   "id": "6d75843c",
   "metadata": {},
   "outputs": [
    {
     "data": {
      "text/plain": [
       "array([0, 1, 2, 3, 4])"
      ]
     },
     "execution_count": 44,
     "metadata": {},
     "output_type": "execute_result"
    }
   ],
   "source": [
    "ar.astype('int32') # default = 4byte"
   ]
  },
  {
   "cell_type": "code",
   "execution_count": 41,
   "id": "42b144e4",
   "metadata": {
    "scrolled": true
   },
   "outputs": [
    {
     "data": {
      "text/plain": [
       "array([0, 1, 2, 3, 4], dtype=int64)"
      ]
     },
     "execution_count": 41,
     "metadata": {},
     "output_type": "execute_result"
    }
   ],
   "source": [
    "ar.astype('int64') # 64bit = 8byte"
   ]
  },
  {
   "cell_type": "code",
   "execution_count": 64,
   "id": "35208809",
   "metadata": {},
   "outputs": [
    {
     "data": {
      "text/plain": [
       "numpy.int64"
      ]
     },
     "execution_count": 64,
     "metadata": {},
     "output_type": "execute_result"
    }
   ],
   "source": [
    "type(ar.astype('int64')[-1])"
   ]
  },
  {
   "cell_type": "code",
   "execution_count": 65,
   "id": "cd5859c3",
   "metadata": {},
   "outputs": [
    {
     "data": {
      "text/plain": [
       "dtype('int64')"
      ]
     },
     "execution_count": 65,
     "metadata": {},
     "output_type": "execute_result"
    }
   ],
   "source": [
    "ar.astype('int64')[-1].dtype"
   ]
  },
  {
   "cell_type": "code",
   "execution_count": 50,
   "id": "35a9c254",
   "metadata": {
    "scrolled": true
   },
   "outputs": [
    {
     "ename": "TypeError",
     "evalue": "data type 'int128' not understood",
     "output_type": "error",
     "traceback": [
      "\u001b[1;31m---------------------------------------------------------------------------\u001b[0m",
      "\u001b[1;31mTypeError\u001b[0m                                 Traceback (most recent call last)",
      "Cell \u001b[1;32mIn[50], line 1\u001b[0m\n\u001b[1;32m----> 1\u001b[0m \u001b[43mar\u001b[49m\u001b[38;5;241;43m.\u001b[39;49m\u001b[43mastype\u001b[49m\u001b[43m(\u001b[49m\u001b[38;5;124;43m'\u001b[39;49m\u001b[38;5;124;43mint128\u001b[39;49m\u001b[38;5;124;43m'\u001b[39;49m\u001b[43m)\u001b[49m \u001b[38;5;66;03m# error\u001b[39;00m\n",
      "\u001b[1;31mTypeError\u001b[0m: data type 'int128' not understood"
     ]
    }
   ],
   "source": [
    "# ar.astype('int128') # error"
   ]
  },
  {
   "cell_type": "markdown",
   "id": "4f7abc69",
   "metadata": {},
   "source": [
    "## unsigned int"
   ]
  },
  {
   "cell_type": "code",
   "execution_count": 45,
   "id": "d35dc6cc",
   "metadata": {},
   "outputs": [
    {
     "data": {
      "text/plain": [
       "array([0, 1, 2, 3, 4], dtype=uint8)"
      ]
     },
     "execution_count": 45,
     "metadata": {},
     "output_type": "execute_result"
    }
   ],
   "source": [
    "# unsigned int의 타입 종류\n",
    "ar.astype('uint8')"
   ]
  },
  {
   "cell_type": "code",
   "execution_count": 46,
   "id": "589e9243",
   "metadata": {},
   "outputs": [
    {
     "data": {
      "text/plain": [
       "array([0, 1, 2, 3, 4], dtype=uint16)"
      ]
     },
     "execution_count": 46,
     "metadata": {},
     "output_type": "execute_result"
    }
   ],
   "source": [
    "ar.astype('uint16')"
   ]
  },
  {
   "cell_type": "code",
   "execution_count": 47,
   "id": "82c6fd20",
   "metadata": {},
   "outputs": [
    {
     "data": {
      "text/plain": [
       "array([0, 1, 2, 3, 4], dtype=uint32)"
      ]
     },
     "execution_count": 47,
     "metadata": {},
     "output_type": "execute_result"
    }
   ],
   "source": [
    "ar.astype('uint32')"
   ]
  },
  {
   "cell_type": "code",
   "execution_count": 48,
   "id": "10da6af8",
   "metadata": {},
   "outputs": [
    {
     "data": {
      "text/plain": [
       "array([0, 1, 2, 3, 4], dtype=uint64)"
      ]
     },
     "execution_count": 48,
     "metadata": {},
     "output_type": "execute_result"
    }
   ],
   "source": [
    "ar.astype('uint64')"
   ]
  },
  {
   "cell_type": "code",
   "execution_count": 49,
   "id": "17fd58c9",
   "metadata": {},
   "outputs": [
    {
     "ename": "TypeError",
     "evalue": "data type 'uint128' not understood",
     "output_type": "error",
     "traceback": [
      "\u001b[1;31m---------------------------------------------------------------------------\u001b[0m",
      "\u001b[1;31mTypeError\u001b[0m                                 Traceback (most recent call last)",
      "Cell \u001b[1;32mIn[49], line 1\u001b[0m\n\u001b[1;32m----> 1\u001b[0m \u001b[43mar\u001b[49m\u001b[38;5;241;43m.\u001b[39;49m\u001b[43mastype\u001b[49m\u001b[43m(\u001b[49m\u001b[38;5;124;43m'\u001b[39;49m\u001b[38;5;124;43muint128\u001b[39;49m\u001b[38;5;124;43m'\u001b[39;49m\u001b[43m)\u001b[49m\n",
      "\u001b[1;31mTypeError\u001b[0m: data type 'uint128' not understood"
     ]
    }
   ],
   "source": [
    "# ar.astype('uint128') # error"
   ]
  },
  {
   "cell_type": "markdown",
   "id": "56594ada",
   "metadata": {},
   "source": [
    "## float"
   ]
  },
  {
   "cell_type": "code",
   "execution_count": 51,
   "id": "9184ac61",
   "metadata": {},
   "outputs": [
    {
     "ename": "TypeError",
     "evalue": "data type 'float8' not understood",
     "output_type": "error",
     "traceback": [
      "\u001b[1;31m---------------------------------------------------------------------------\u001b[0m",
      "\u001b[1;31mTypeError\u001b[0m                                 Traceback (most recent call last)",
      "Cell \u001b[1;32mIn[51], line 1\u001b[0m\n\u001b[1;32m----> 1\u001b[0m \u001b[43mar\u001b[49m\u001b[38;5;241;43m.\u001b[39;49m\u001b[43mastype\u001b[49m\u001b[43m(\u001b[49m\u001b[38;5;124;43m'\u001b[39;49m\u001b[38;5;124;43mfloat8\u001b[39;49m\u001b[38;5;124;43m'\u001b[39;49m\u001b[43m)\u001b[49m\n",
      "\u001b[1;31mTypeError\u001b[0m: data type 'float8' not understood"
     ]
    }
   ],
   "source": [
    "# ar.astype('float8') # Error"
   ]
  },
  {
   "cell_type": "code",
   "execution_count": 52,
   "id": "84c21594",
   "metadata": {},
   "outputs": [
    {
     "data": {
      "text/plain": [
       "array([0., 1., 2., 3., 4.], dtype=float16)"
      ]
     },
     "execution_count": 52,
     "metadata": {},
     "output_type": "execute_result"
    }
   ],
   "source": [
    "ar.astype('float16') "
   ]
  },
  {
   "cell_type": "code",
   "execution_count": 53,
   "id": "0fbbdf6d",
   "metadata": {},
   "outputs": [
    {
     "data": {
      "text/plain": [
       "array([0., 1., 2., 3., 4.], dtype=float32)"
      ]
     },
     "execution_count": 53,
     "metadata": {},
     "output_type": "execute_result"
    }
   ],
   "source": [
    "ar.astype('float32') "
   ]
  },
  {
   "cell_type": "code",
   "execution_count": 54,
   "id": "91a18bfc",
   "metadata": {},
   "outputs": [
    {
     "data": {
      "text/plain": [
       "array([0., 1., 2., 3., 4.])"
      ]
     },
     "execution_count": 54,
     "metadata": {},
     "output_type": "execute_result"
    }
   ],
   "source": [
    "ar.astype('float64') # default"
   ]
  },
  {
   "cell_type": "code",
   "execution_count": 55,
   "id": "809f5288",
   "metadata": {},
   "outputs": [
    {
     "ename": "TypeError",
     "evalue": "data type 'float128' not understood",
     "output_type": "error",
     "traceback": [
      "\u001b[1;31m---------------------------------------------------------------------------\u001b[0m",
      "\u001b[1;31mTypeError\u001b[0m                                 Traceback (most recent call last)",
      "Cell \u001b[1;32mIn[55], line 1\u001b[0m\n\u001b[1;32m----> 1\u001b[0m \u001b[43mar\u001b[49m\u001b[38;5;241;43m.\u001b[39;49m\u001b[43mastype\u001b[49m\u001b[43m(\u001b[49m\u001b[38;5;124;43m'\u001b[39;49m\u001b[38;5;124;43mfloat128\u001b[39;49m\u001b[38;5;124;43m'\u001b[39;49m\u001b[43m)\u001b[49m \n",
      "\u001b[1;31mTypeError\u001b[0m: data type 'float128' not understood"
     ]
    }
   ],
   "source": [
    "ar.astype('float128') # Error"
   ]
  },
  {
   "cell_type": "markdown",
   "id": "08caa50e",
   "metadata": {},
   "source": [
    "## str\n",
    "- U#\n",
    "    - U : 유니코드\n",
    "    - '#' : 스칼라의 최대 길이"
   ]
  },
  {
   "cell_type": "code",
   "execution_count": 57,
   "id": "8d4e51ad",
   "metadata": {},
   "outputs": [
    {
     "data": {
      "text/plain": [
       "dtype('<U2')"
      ]
     },
     "execution_count": 57,
     "metadata": {},
     "output_type": "execute_result"
    }
   ],
   "source": [
    "ar_str = np.array(['hi'])\n",
    "ar_str.dtype"
   ]
  },
  {
   "cell_type": "code",
   "execution_count": 58,
   "id": "3bc7c215",
   "metadata": {},
   "outputs": [
    {
     "data": {
      "text/plain": [
       "dtype('<U5')"
      ]
     },
     "execution_count": 58,
     "metadata": {},
     "output_type": "execute_result"
    }
   ],
   "source": [
    "ar_str = np.array(['hello'])\n",
    "ar_str.dtype"
   ]
  },
  {
   "cell_type": "code",
   "execution_count": 61,
   "id": "cf89d80f",
   "metadata": {},
   "outputs": [
    {
     "data": {
      "text/plain": [
       "dtype('<U9')"
      ]
     },
     "execution_count": 61,
     "metadata": {},
     "output_type": "execute_result"
    }
   ],
   "source": [
    "ar_str = np.array(['오늘도 좋은 하루'])\n",
    "ar_str.dtype\n",
    "# 스칼라의 길이가 숫자로 추가됨"
   ]
  },
  {
   "cell_type": "code",
   "execution_count": 60,
   "id": "8c52d9ee",
   "metadata": {},
   "outputs": [
    {
     "data": {
      "text/plain": [
       "dtype('<U5')"
      ]
     },
     "execution_count": 60,
     "metadata": {},
     "output_type": "execute_result"
    }
   ],
   "source": [
    "ar_str = np.array(['hi', 'hello']) # 스칼라가 가장 긴 길이로 붙음\n",
    "ar_str.dtype"
   ]
  },
  {
   "cell_type": "code",
   "execution_count": 66,
   "id": "2f2c9750",
   "metadata": {},
   "outputs": [
    {
     "data": {
      "text/plain": [
       "dtype('<U12')"
      ]
     },
     "execution_count": 66,
     "metadata": {},
     "output_type": "execute_result"
    }
   ],
   "source": [
    "ar_str = np.array(['hi', 'hello', '아하하하하하하하하하핳하']) # 스칼라가 가장 긴 길이로 붙음\n",
    "ar_str.dtype"
   ]
  },
  {
   "cell_type": "markdown",
   "id": "89540ee2",
   "metadata": {},
   "source": [
    "# 전치 행렬"
   ]
  },
  {
   "cell_type": "code",
   "execution_count": 69,
   "id": "201e06f8",
   "metadata": {},
   "outputs": [
    {
     "data": {
      "text/plain": [
       "array([[0, 1, 2, 3, 4],\n",
       "       [0, 1, 2, 3, 4]])"
      ]
     },
     "execution_count": 69,
     "metadata": {},
     "output_type": "execute_result"
    }
   ],
   "source": [
    "ar2"
   ]
  },
  {
   "cell_type": "code",
   "execution_count": 70,
   "id": "0bf98b89",
   "metadata": {},
   "outputs": [
    {
     "data": {
      "text/plain": [
       "(2, 5)"
      ]
     },
     "execution_count": 70,
     "metadata": {},
     "output_type": "execute_result"
    }
   ],
   "source": [
    "ar2.shape"
   ]
  },
  {
   "cell_type": "code",
   "execution_count": 76,
   "id": "54801faa",
   "metadata": {},
   "outputs": [
    {
     "data": {
      "text/plain": [
       "array([[0, 0],\n",
       "       [1, 1],\n",
       "       [2, 2],\n",
       "       [3, 3],\n",
       "       [4, 4]])"
      ]
     },
     "execution_count": 76,
     "metadata": {},
     "output_type": "execute_result"
    }
   ],
   "source": [
    "ar2.transpose()"
   ]
  },
  {
   "cell_type": "code",
   "execution_count": 72,
   "id": "6c43edd3",
   "metadata": {},
   "outputs": [
    {
     "data": {
      "text/plain": [
       "(5, 2)"
      ]
     },
     "execution_count": 72,
     "metadata": {},
     "output_type": "execute_result"
    }
   ],
   "source": [
    "ar2.transpose().shape"
   ]
  },
  {
   "cell_type": "code",
   "execution_count": 73,
   "id": "50c7e9f0",
   "metadata": {},
   "outputs": [
    {
     "data": {
      "text/plain": [
       "array([[0, 0],\n",
       "       [1, 1],\n",
       "       [2, 2],\n",
       "       [3, 3],\n",
       "       [4, 4]])"
      ]
     },
     "execution_count": 73,
     "metadata": {},
     "output_type": "execute_result"
    }
   ],
   "source": [
    "ar2.T"
   ]
  },
  {
   "cell_type": "code",
   "execution_count": 74,
   "id": "aa57897d",
   "metadata": {},
   "outputs": [
    {
     "data": {
      "text/plain": [
       "(5, 2)"
      ]
     },
     "execution_count": 74,
     "metadata": {},
     "output_type": "execute_result"
    }
   ],
   "source": [
    "ar2.T.shape"
   ]
  },
  {
   "cell_type": "markdown",
   "id": "47f3c2b6",
   "metadata": {},
   "source": [
    "## 다차원 배열을 1차원 배열로 크기 변경(변형)"
   ]
  },
  {
   "cell_type": "code",
   "execution_count": 80,
   "id": "869c1985",
   "metadata": {},
   "outputs": [
    {
     "data": {
      "text/plain": [
       "array([[0, 1, 2, 3, 4],\n",
       "       [0, 1, 2, 3, 4]])"
      ]
     },
     "execution_count": 80,
     "metadata": {},
     "output_type": "execute_result"
    }
   ],
   "source": [
    "ar2"
   ]
  },
  {
   "cell_type": "code",
   "execution_count": 78,
   "id": "2161ac2b",
   "metadata": {},
   "outputs": [
    {
     "data": {
      "text/plain": [
       "array([0, 1, 2, 3, 4, 0, 1, 2, 3, 4])"
      ]
     },
     "execution_count": 78,
     "metadata": {},
     "output_type": "execute_result"
    }
   ],
   "source": [
    "ar2.reshape(-1,)"
   ]
  },
  {
   "cell_type": "code",
   "execution_count": 81,
   "id": "8a4384d6",
   "metadata": {},
   "outputs": [
    {
     "data": {
      "text/plain": [
       "array([0, 1, 2, 3, 4, 0, 1, 2, 3, 4])"
      ]
     },
     "execution_count": 81,
     "metadata": {},
     "output_type": "execute_result"
    }
   ],
   "source": [
    "ar2.flatten() "
   ]
  },
  {
   "cell_type": "code",
   "execution_count": 82,
   "id": "63f117e5",
   "metadata": {},
   "outputs": [
    {
     "data": {
      "text/plain": [
       "array([0, 1, 2, 3, 4, 0, 1, 2, 3, 4])"
      ]
     },
     "execution_count": 82,
     "metadata": {},
     "output_type": "execute_result"
    }
   ],
   "source": [
    "ar2.ravel() "
   ]
  },
  {
   "cell_type": "code",
   "execution_count": 83,
   "id": "79f0c87f",
   "metadata": {},
   "outputs": [
    {
     "data": {
      "text/plain": [
       "array([0, 1, 2, 3, 4, 0, 1, 2, 3, 4, 0, 1, 2, 3, 4, 0, 1, 2, 3, 4, 0, 1,\n",
       "       2, 3, 4, 0, 1, 2, 3, 4])"
      ]
     },
     "execution_count": 83,
     "metadata": {},
     "output_type": "execute_result"
    }
   ],
   "source": [
    "ar3.reshape(-1,)"
   ]
  },
  {
   "cell_type": "code",
   "execution_count": 86,
   "id": "67656876",
   "metadata": {
    "collapsed": true
   },
   "outputs": [
    {
     "name": "stdout",
     "output_type": "stream",
     "text": [
      "Help on built-in function flatten:\n",
      "\n",
      "flatten(...) method of numpy.ndarray instance\n",
      "    a.flatten(order='C')\n",
      "    \n",
      "    Return a copy of the array collapsed into one dimension.\n",
      "    \n",
      "    Parameters\n",
      "    ----------\n",
      "    order : {'C', 'F', 'A', 'K'}, optional\n",
      "        'C' means to flatten in row-major (C-style) order.\n",
      "        'F' means to flatten in column-major (Fortran-\n",
      "        style) order. 'A' means to flatten in column-major\n",
      "        order if `a` is Fortran *contiguous* in memory,\n",
      "        row-major order otherwise. 'K' means to flatten\n",
      "        `a` in the order the elements occur in memory.\n",
      "        The default is 'C'.\n",
      "    \n",
      "    Returns\n",
      "    -------\n",
      "    y : ndarray\n",
      "        A copy of the input array, flattened to one dimension.\n",
      "    \n",
      "    See Also\n",
      "    --------\n",
      "    ravel : Return a flattened array.\n",
      "    flat : A 1-D flat iterator over the array.\n",
      "    \n",
      "    Examples\n",
      "    --------\n",
      "    >>> a = np.array([[1,2], [3,4]])\n",
      "    >>> a.flatten()\n",
      "    array([1, 2, 3, 4])\n",
      "    >>> a.flatten('F')\n",
      "    array([1, 3, 2, 4])\n",
      "\n"
     ]
    }
   ],
   "source": [
    "help(ar3.flatten)"
   ]
  },
  {
   "cell_type": "code",
   "execution_count": 84,
   "id": "405b912d",
   "metadata": {},
   "outputs": [
    {
     "data": {
      "text/plain": [
       "array([0, 1, 2, 3, 4, 0, 1, 2, 3, 4, 0, 1, 2, 3, 4, 0, 1, 2, 3, 4, 0, 1,\n",
       "       2, 3, 4, 0, 1, 2, 3, 4])"
      ]
     },
     "execution_count": 84,
     "metadata": {},
     "output_type": "execute_result"
    }
   ],
   "source": [
    "ar3.flatten()"
   ]
  },
  {
   "cell_type": "code",
   "execution_count": 87,
   "id": "612f05cc",
   "metadata": {
    "collapsed": true
   },
   "outputs": [
    {
     "name": "stdout",
     "output_type": "stream",
     "text": [
      "Help on built-in function ravel:\n",
      "\n",
      "ravel(...) method of numpy.ndarray instance\n",
      "    a.ravel([order])\n",
      "    \n",
      "    Return a flattened array.\n",
      "    \n",
      "    Refer to `numpy.ravel` for full documentation.\n",
      "    \n",
      "    See Also\n",
      "    --------\n",
      "    numpy.ravel : equivalent function\n",
      "    \n",
      "    ndarray.flat : a flat iterator on the array.\n",
      "\n"
     ]
    }
   ],
   "source": [
    "help(ar3.ravel)"
   ]
  },
  {
   "cell_type": "code",
   "execution_count": 85,
   "id": "bfaaf123",
   "metadata": {},
   "outputs": [
    {
     "data": {
      "text/plain": [
       "array([0, 1, 2, 3, 4, 0, 1, 2, 3, 4, 0, 1, 2, 3, 4, 0, 1, 2, 3, 4, 0, 1,\n",
       "       2, 3, 4, 0, 1, 2, 3, 4])"
      ]
     },
     "execution_count": 85,
     "metadata": {},
     "output_type": "execute_result"
    }
   ],
   "source": [
    "ar3.ravel()"
   ]
  }
 ],
 "metadata": {
  "kernelspec": {
   "display_name": "ex_kernel",
   "language": "python",
   "name": "ex"
  },
  "language_info": {
   "codemirror_mode": {
    "name": "ipython",
    "version": 3
   },
   "file_extension": ".py",
   "mimetype": "text/x-python",
   "name": "python",
   "nbconvert_exporter": "python",
   "pygments_lexer": "ipython3",
   "version": "3.8.10"
  },
  "toc": {
   "base_numbering": 1,
   "nav_menu": {},
   "number_sections": true,
   "sideBar": true,
   "skip_h1_title": false,
   "title_cell": "Table of Contents",
   "title_sidebar": "Contents",
   "toc_cell": false,
   "toc_position": {
    "height": "calc(100% - 180px)",
    "left": "10px",
    "top": "150px",
    "width": "215.594px"
   },
   "toc_section_display": true,
   "toc_window_display": true
  }
 },
 "nbformat": 4,
 "nbformat_minor": 5
}
