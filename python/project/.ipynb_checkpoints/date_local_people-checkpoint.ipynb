{
 "cells": [
  {
   "cell_type": "code",
   "execution_count": 1,
   "id": "b502740e",
   "metadata": {},
   "outputs": [],
   "source": [
    "import pandas as pd\n",
    "import numpy as np\n",
    "import matplotlib.pyplot as plt\n",
    "import seaborn as sns\n",
    "plt.rc('font', family='D2coding')"
   ]
  },
  {
   "cell_type": "markdown",
   "id": "2a1f993c",
   "metadata": {},
   "source": [
    "# csv파일 읽어오기"
   ]
  },
  {
   "cell_type": "code",
   "execution_count": 56,
   "id": "5565c37f",
   "metadata": {},
   "outputs": [],
   "source": [
    "place_df = pd.read_csv('장소데이터.csv')\n",
    "place_info_df = pd.read_csv('장소정보데이터.csv')\n",
    "people_activate = pd.read_csv('연령대별_평균시간_20230525183401.csv', encoding='cp949')"
   ]
  },
  {
   "cell_type": "markdown",
   "id": "b42947c0",
   "metadata": {},
   "source": [
    "# 데이터 분석"
   ]
  },
  {
   "cell_type": "code",
   "execution_count": 3,
   "id": "3353aa99",
   "metadata": {},
   "outputs": [
    {
     "data": {
      "text/html": [
       "<div>\n",
       "<style scoped>\n",
       "    .dataframe tbody tr th:only-of-type {\n",
       "        vertical-align: middle;\n",
       "    }\n",
       "\n",
       "    .dataframe tbody tr th {\n",
       "        vertical-align: top;\n",
       "    }\n",
       "\n",
       "    .dataframe thead th {\n",
       "        text-align: right;\n",
       "    }\n",
       "</style>\n",
       "<table border=\"1\" class=\"dataframe\">\n",
       "  <thead>\n",
       "    <tr style=\"text-align: right;\">\n",
       "      <th></th>\n",
       "      <th>수집일시</th>\n",
       "      <th>장소</th>\n",
       "      <th>최대인구</th>\n",
       "      <th>최소인구</th>\n",
       "      <th>10대</th>\n",
       "      <th>2030대</th>\n",
       "      <th>4050대</th>\n",
       "      <th>6070대</th>\n",
       "    </tr>\n",
       "  </thead>\n",
       "  <tbody>\n",
       "    <tr>\n",
       "      <th>0</th>\n",
       "      <td>2023-05-20 10</td>\n",
       "      <td>강남 MICE 관광특구</td>\n",
       "      <td>5500</td>\n",
       "      <td>5000</td>\n",
       "      <td>4.7</td>\n",
       "      <td>45.5</td>\n",
       "      <td>38.6</td>\n",
       "      <td>11.3</td>\n",
       "    </tr>\n",
       "    <tr>\n",
       "      <th>1</th>\n",
       "      <td>2023-05-20 10</td>\n",
       "      <td>동대문 관광특구</td>\n",
       "      <td>14000</td>\n",
       "      <td>12000</td>\n",
       "      <td>4.3</td>\n",
       "      <td>41.6</td>\n",
       "      <td>34.6</td>\n",
       "      <td>19.5</td>\n",
       "    </tr>\n",
       "    <tr>\n",
       "      <th>2</th>\n",
       "      <td>2023-05-20 10</td>\n",
       "      <td>명동 관광특구</td>\n",
       "      <td>20000</td>\n",
       "      <td>18000</td>\n",
       "      <td>3.5</td>\n",
       "      <td>39.0</td>\n",
       "      <td>38.4</td>\n",
       "      <td>19.2</td>\n",
       "    </tr>\n",
       "    <tr>\n",
       "      <th>3</th>\n",
       "      <td>2023-05-20 10</td>\n",
       "      <td>이태원 관광특구</td>\n",
       "      <td>5000</td>\n",
       "      <td>4500</td>\n",
       "      <td>3.4</td>\n",
       "      <td>43.5</td>\n",
       "      <td>34.7</td>\n",
       "      <td>18.5</td>\n",
       "    </tr>\n",
       "    <tr>\n",
       "      <th>4</th>\n",
       "      <td>2023-05-20 10</td>\n",
       "      <td>잠실 관광특구</td>\n",
       "      <td>30000</td>\n",
       "      <td>28000</td>\n",
       "      <td>10.8</td>\n",
       "      <td>40.5</td>\n",
       "      <td>32.4</td>\n",
       "      <td>16.2</td>\n",
       "    </tr>\n",
       "  </tbody>\n",
       "</table>\n",
       "</div>"
      ],
      "text/plain": [
       "            수집일시            장소   최대인구   최소인구   10대  2030대  4050대  6070대\n",
       "0  2023-05-20 10  강남 MICE 관광특구   5500   5000   4.7   45.5   38.6   11.3\n",
       "1  2023-05-20 10      동대문 관광특구  14000  12000   4.3   41.6   34.6   19.5\n",
       "2  2023-05-20 10       명동 관광특구  20000  18000   3.5   39.0   38.4   19.2\n",
       "3  2023-05-20 10      이태원 관광특구   5000   4500   3.4   43.5   34.7   18.5\n",
       "4  2023-05-20 10       잠실 관광특구  30000  28000  10.8   40.5   32.4   16.2"
      ]
     },
     "execution_count": 3,
     "metadata": {},
     "output_type": "execute_result"
    }
   ],
   "source": [
    "place_df[:5]"
   ]
  },
  {
   "cell_type": "code",
   "execution_count": 4,
   "id": "1949df98",
   "metadata": {
    "scrolled": true
   },
   "outputs": [
    {
     "data": {
      "text/html": [
       "<div>\n",
       "<style scoped>\n",
       "    .dataframe tbody tr th:only-of-type {\n",
       "        vertical-align: middle;\n",
       "    }\n",
       "\n",
       "    .dataframe tbody tr th {\n",
       "        vertical-align: top;\n",
       "    }\n",
       "\n",
       "    .dataframe thead th {\n",
       "        text-align: right;\n",
       "    }\n",
       "</style>\n",
       "<table border=\"1\" class=\"dataframe\">\n",
       "  <thead>\n",
       "    <tr style=\"text-align: right;\">\n",
       "      <th></th>\n",
       "      <th>수집일시</th>\n",
       "      <th>장소</th>\n",
       "      <th>기온</th>\n",
       "      <th>체감온도</th>\n",
       "      <th>강수량</th>\n",
       "      <th>미세먼지지표</th>\n",
       "      <th>전체도로평균속도</th>\n",
       "      <th>전체도로평균속도현황</th>\n",
       "    </tr>\n",
       "  </thead>\n",
       "  <tbody>\n",
       "    <tr>\n",
       "      <th>0</th>\n",
       "      <td>2023-05-20 10</td>\n",
       "      <td>강남 MICE 관광특구</td>\n",
       "      <td>24.1</td>\n",
       "      <td>24.2</td>\n",
       "      <td>-</td>\n",
       "      <td>좋음</td>\n",
       "      <td>16</td>\n",
       "      <td>서행</td>\n",
       "    </tr>\n",
       "    <tr>\n",
       "      <th>1</th>\n",
       "      <td>2023-05-20 10</td>\n",
       "      <td>동대문 관광특구</td>\n",
       "      <td>24.0</td>\n",
       "      <td>24.5</td>\n",
       "      <td>-</td>\n",
       "      <td>좋음</td>\n",
       "      <td>20</td>\n",
       "      <td>서행</td>\n",
       "    </tr>\n",
       "  </tbody>\n",
       "</table>\n",
       "</div>"
      ],
      "text/plain": [
       "            수집일시            장소    기온  체감온도 강수량 미세먼지지표  전체도로평균속도 전체도로평균속도현황\n",
       "0  2023-05-20 10  강남 MICE 관광특구  24.1  24.2   -     좋음        16         서행\n",
       "1  2023-05-20 10      동대문 관광특구  24.0  24.5   -     좋음        20         서행"
      ]
     },
     "execution_count": 4,
     "metadata": {},
     "output_type": "execute_result"
    }
   ],
   "source": [
    "place_info_df[:2]"
   ]
  },
  {
   "cell_type": "code",
   "execution_count": 5,
   "id": "bba82b38",
   "metadata": {
    "scrolled": true
   },
   "outputs": [
    {
     "data": {
      "text/html": [
       "<div>\n",
       "<style scoped>\n",
       "    .dataframe tbody tr th:only-of-type {\n",
       "        vertical-align: middle;\n",
       "    }\n",
       "\n",
       "    .dataframe tbody tr th {\n",
       "        vertical-align: top;\n",
       "    }\n",
       "\n",
       "    .dataframe thead th {\n",
       "        text-align: right;\n",
       "    }\n",
       "</style>\n",
       "<table border=\"1\" class=\"dataframe\">\n",
       "  <thead>\n",
       "    <tr style=\"text-align: right;\">\n",
       "      <th></th>\n",
       "      <th>연령대별</th>\n",
       "      <th>행동분류별</th>\n",
       "      <th>2019</th>\n",
       "      <th>2019.1</th>\n",
       "      <th>2019.2</th>\n",
       "    </tr>\n",
       "  </thead>\n",
       "  <tbody>\n",
       "    <tr>\n",
       "      <th>0</th>\n",
       "      <td>연령대별</td>\n",
       "      <td>행동분류별</td>\n",
       "      <td>평일</td>\n",
       "      <td>토요일</td>\n",
       "      <td>일요일</td>\n",
       "    </tr>\n",
       "    <tr>\n",
       "      <th>1</th>\n",
       "      <td>연령대별</td>\n",
       "      <td>행동분류별</td>\n",
       "      <td>계</td>\n",
       "      <td>계</td>\n",
       "      <td>계</td>\n",
       "    </tr>\n",
       "    <tr>\n",
       "      <th>2</th>\n",
       "      <td>10~19세(10대)</td>\n",
       "      <td>개인유지</td>\n",
       "      <td>11:17</td>\n",
       "      <td>12:46</td>\n",
       "      <td>13:03</td>\n",
       "    </tr>\n",
       "    <tr>\n",
       "      <th>3</th>\n",
       "      <td>10~19세(10대)</td>\n",
       "      <td>일</td>\n",
       "      <td>0:15</td>\n",
       "      <td>0:18</td>\n",
       "      <td>0:13</td>\n",
       "    </tr>\n",
       "    <tr>\n",
       "      <th>4</th>\n",
       "      <td>10~19세(10대)</td>\n",
       "      <td>학습</td>\n",
       "      <td>6:38</td>\n",
       "      <td>2:32</td>\n",
       "      <td>2:19</td>\n",
       "    </tr>\n",
       "  </tbody>\n",
       "</table>\n",
       "</div>"
      ],
      "text/plain": [
       "          연령대별  행동분류별   2019 2019.1 2019.2\n",
       "0         연령대별  행동분류별     평일    토요일    일요일\n",
       "1         연령대별  행동분류별      계      계      계\n",
       "2  10~19세(10대)   개인유지  11:17  12:46  13:03\n",
       "3  10~19세(10대)      일   0:15   0:18   0:13\n",
       "4  10~19세(10대)     학습   6:38   2:32   2:19"
      ]
     },
     "execution_count": 5,
     "metadata": {},
     "output_type": "execute_result"
    }
   ],
   "source": [
    "people_activate[:5]\n",
    "# 요일평균, 평일, 토요일, 일요일이 중복되고 그 아래에 계, 남자, 여자가 존재하고 연령대별과 행동분류도 중복되기 때문에 멀티인덱스로 만듦"
   ]
  },
  {
   "cell_type": "code",
   "execution_count": 6,
   "id": "afada714",
   "metadata": {
    "scrolled": true
   },
   "outputs": [
    {
     "name": "stdout",
     "output_type": "stream",
     "text": [
      "<class 'pandas.core.frame.DataFrame'>\n",
      "RangeIndex: 4250 entries, 0 to 4249\n",
      "Data columns (total 8 columns):\n",
      " #   Column  Non-Null Count  Dtype  \n",
      "---  ------  --------------  -----  \n",
      " 0   수집일시    4250 non-null   object \n",
      " 1   장소      4250 non-null   object \n",
      " 2   최대인구    4250 non-null   int64  \n",
      " 3   최소인구    4250 non-null   int64  \n",
      " 4   10대     4250 non-null   float64\n",
      " 5   2030대   4250 non-null   float64\n",
      " 6   4050대   4250 non-null   float64\n",
      " 7   6070대   4250 non-null   float64\n",
      "dtypes: float64(4), int64(2), object(2)\n",
      "memory usage: 265.8+ KB\n"
     ]
    }
   ],
   "source": [
    "place_df.info()\n",
    "# 결측치 없고 수집일시의 dtype만 날짜 dtype인 datetime으로 변경"
   ]
  },
  {
   "cell_type": "code",
   "execution_count": 7,
   "id": "a117283f",
   "metadata": {
    "scrolled": true
   },
   "outputs": [
    {
     "name": "stdout",
     "output_type": "stream",
     "text": [
      "<class 'pandas.core.frame.DataFrame'>\n",
      "RangeIndex: 4250 entries, 0 to 4249\n",
      "Data columns (total 8 columns):\n",
      " #   Column      Non-Null Count  Dtype  \n",
      "---  ------      --------------  -----  \n",
      " 0   수집일시        4250 non-null   object \n",
      " 1   장소          4250 non-null   object \n",
      " 2   기온          4250 non-null   float64\n",
      " 3   체감온도        4250 non-null   float64\n",
      " 4   강수량         4250 non-null   object \n",
      " 5   미세먼지지표      4250 non-null   object \n",
      " 6   전체도로평균속도    4250 non-null   int64  \n",
      " 7   전체도로평균속도현황  4250 non-null   object \n",
      "dtypes: float64(2), int64(1), object(5)\n",
      "memory usage: 265.8+ KB\n"
     ]
    }
   ],
   "source": [
    "place_info_df.info()\n",
    "# 결측치 없고 수집일시의 dtype만 날짜 dtype인 datetime으로 변경"
   ]
  },
  {
   "cell_type": "code",
   "execution_count": 8,
   "id": "e2764c5b",
   "metadata": {
    "scrolled": true
   },
   "outputs": [
    {
     "name": "stdout",
     "output_type": "stream",
     "text": [
      "<class 'pandas.core.frame.DataFrame'>\n",
      "RangeIndex: 56 entries, 0 to 55\n",
      "Data columns (total 5 columns):\n",
      " #   Column  Non-Null Count  Dtype \n",
      "---  ------  --------------  ----- \n",
      " 0   연령대별    56 non-null     object\n",
      " 1   행동분류별   56 non-null     object\n",
      " 2   2019    56 non-null     object\n",
      " 3   2019.1  56 non-null     object\n",
      " 4   2019.2  56 non-null     object\n",
      "dtypes: object(5)\n",
      "memory usage: 2.3+ KB\n"
     ]
    }
   ],
   "source": [
    "people_activate.info()\n",
    "# dtype을 float으로 변경"
   ]
  },
  {
   "cell_type": "markdown",
   "id": "6e17c37d",
   "metadata": {},
   "source": [
    "# 전처리\n",
    "- 수집한 데이터 중 24일 데이터 삭제\n",
    "- 수집한 데이터 중 수집일시의 dtype을 datetime64[ns]로 변경\n",
    "<BR><BR>\n",
    "- [place_df]\n",
    "    - 장소분류 추가\n",
    "    - 인수수 컬럼 추가(최대인구+최소인구의 평균)\n",
    "<BR><BR>\n",
    "- [people_activate]\n",
    "    - 멀티인덱스 설정\n",
    "    - dtype float으로 변경"
   ]
  },
  {
   "cell_type": "markdown",
   "id": "867e9252",
   "metadata": {},
   "source": [
    "## 수집일시의 dtype 변경"
   ]
  },
  {
   "cell_type": "code",
   "execution_count": 9,
   "id": "6d759cc6",
   "metadata": {},
   "outputs": [],
   "source": [
    "place_df.수집일시 = place_df.수집일시.astype('datetime64[ns]')\n",
    "place_info_df.수집일시 = place_info_df.수집일시.astype('datetime64[ns]')"
   ]
  },
  {
   "cell_type": "code",
   "execution_count": 10,
   "id": "ad23413b",
   "metadata": {},
   "outputs": [
    {
     "data": {
      "text/plain": [
       "수집일시     datetime64[ns]\n",
       "장소               object\n",
       "최대인구              int64\n",
       "최소인구              int64\n",
       "10대             float64\n",
       "2030대           float64\n",
       "4050대           float64\n",
       "6070대           float64\n",
       "dtype: object"
      ]
     },
     "execution_count": 10,
     "metadata": {},
     "output_type": "execute_result"
    }
   ],
   "source": [
    "place_df.dtypes"
   ]
  },
  {
   "cell_type": "code",
   "execution_count": 11,
   "id": "0f14eb03",
   "metadata": {},
   "outputs": [
    {
     "data": {
      "text/plain": [
       "수집일시          datetime64[ns]\n",
       "장소                    object\n",
       "기온                   float64\n",
       "체감온도                 float64\n",
       "강수량                   object\n",
       "미세먼지지표                object\n",
       "전체도로평균속도               int64\n",
       "전체도로평균속도현황            object\n",
       "dtype: object"
      ]
     },
     "execution_count": 11,
     "metadata": {},
     "output_type": "execute_result"
    }
   ],
   "source": [
    "place_info_df.dtypes"
   ]
  },
  {
   "cell_type": "markdown",
   "id": "afcd9a92",
   "metadata": {},
   "source": [
    "## 수집일이 24인 데이터 삭제"
   ]
  },
  {
   "cell_type": "code",
   "execution_count": 12,
   "id": "1ac70b15",
   "metadata": {
    "scrolled": true
   },
   "outputs": [],
   "source": [
    "# 24일 데이터의 index 추출\n",
    "drop_data = place_df.수집일시[place_df.수집일시.dt.day==24].index"
   ]
  },
  {
   "cell_type": "code",
   "execution_count": 13,
   "id": "95aaa1e0",
   "metadata": {},
   "outputs": [
    {
     "data": {
      "text/plain": [
       "0      2023-05-20 10:00:00\n",
       "1      2023-05-20 10:00:00\n",
       "2      2023-05-20 10:00:00\n",
       "3      2023-05-20 10:00:00\n",
       "4      2023-05-20 10:00:00\n",
       "               ...        \n",
       "3845   2023-05-23 23:00:00\n",
       "3846   2023-05-23 23:00:00\n",
       "3847   2023-05-23 23:00:00\n",
       "3848   2023-05-23 23:00:00\n",
       "3849   2023-05-23 23:00:00\n",
       "Name: 수집일시, Length: 3850, dtype: datetime64[ns]"
      ]
     },
     "execution_count": 13,
     "metadata": {},
     "output_type": "execute_result"
    }
   ],
   "source": [
    "# 24일 데이터의 index로 행 삭제\n",
    "place_df.drop(index=drop_data).수집일시"
   ]
  },
  {
   "cell_type": "code",
   "execution_count": 14,
   "id": "38f69603",
   "metadata": {},
   "outputs": [],
   "source": [
    "# 24일 데이터의 index로 행 삭제 원본적용\n",
    "place_df.drop(index=drop_data, inplace=True)"
   ]
  },
  {
   "cell_type": "code",
   "execution_count": 15,
   "id": "102b0f83",
   "metadata": {},
   "outputs": [
    {
     "data": {
      "text/plain": [
       "3845   2023-05-23 23:00:00\n",
       "3846   2023-05-23 23:00:00\n",
       "3847   2023-05-23 23:00:00\n",
       "3848   2023-05-23 23:00:00\n",
       "3849   2023-05-23 23:00:00\n",
       "Name: 수집일시, dtype: datetime64[ns]"
      ]
     },
     "execution_count": 15,
     "metadata": {},
     "output_type": "execute_result"
    }
   ],
   "source": [
    "place_df.수집일시.tail()"
   ]
  },
  {
   "cell_type": "code",
   "execution_count": 16,
   "id": "b2d1c2a8",
   "metadata": {
    "scrolled": true
   },
   "outputs": [],
   "source": [
    "# 24일 데이터의 index 추출\n",
    "drop_data = place_info_df.수집일시[place_info_df.수집일시.dt.day==24].index"
   ]
  },
  {
   "cell_type": "code",
   "execution_count": 17,
   "id": "9df7ba7c",
   "metadata": {},
   "outputs": [
    {
     "data": {
      "text/plain": [
       "0      2023-05-20 10:00:00\n",
       "1      2023-05-20 10:00:00\n",
       "2      2023-05-20 10:00:00\n",
       "3      2023-05-20 10:00:00\n",
       "4      2023-05-20 10:00:00\n",
       "               ...        \n",
       "3845   2023-05-23 23:00:00\n",
       "3846   2023-05-23 23:00:00\n",
       "3847   2023-05-23 23:00:00\n",
       "3848   2023-05-23 23:00:00\n",
       "3849   2023-05-23 23:00:00\n",
       "Name: 수집일시, Length: 3850, dtype: datetime64[ns]"
      ]
     },
     "execution_count": 17,
     "metadata": {},
     "output_type": "execute_result"
    }
   ],
   "source": [
    "# 24일 데이터의 index로 행 삭제\n",
    "place_info_df.수집일시.drop(index=drop_data)"
   ]
  },
  {
   "cell_type": "code",
   "execution_count": 18,
   "id": "82a94c62",
   "metadata": {},
   "outputs": [],
   "source": [
    "# 24일 데이터의 index로 행 삭제 원본적용\n",
    "place_info_df.drop(index=drop_data, inplace=True)"
   ]
  },
  {
   "cell_type": "code",
   "execution_count": 19,
   "id": "3b997726",
   "metadata": {},
   "outputs": [
    {
     "data": {
      "text/plain": [
       "3845   2023-05-23 23:00:00\n",
       "3846   2023-05-23 23:00:00\n",
       "3847   2023-05-23 23:00:00\n",
       "3848   2023-05-23 23:00:00\n",
       "3849   2023-05-23 23:00:00\n",
       "Name: 수집일시, dtype: datetime64[ns]"
      ]
     },
     "execution_count": 19,
     "metadata": {},
     "output_type": "execute_result"
    }
   ],
   "source": [
    "place_info_df.수집일시.tail()"
   ]
  },
  {
   "cell_type": "markdown",
   "id": "af8c1a37",
   "metadata": {},
   "source": [
    "## place_df에 장소분류 컬럼 추가\n",
    "- 관광특구\n",
    "- 고궁문화유산\n",
    "- 공원\n",
    "- 발달상권\n",
    "- 인구밀집지역"
   ]
  },
  {
   "cell_type": "code",
   "execution_count": 20,
   "id": "c8c28844",
   "metadata": {},
   "outputs": [
    {
     "data": {
      "text/html": [
       "<div>\n",
       "<style scoped>\n",
       "    .dataframe tbody tr th:only-of-type {\n",
       "        vertical-align: middle;\n",
       "    }\n",
       "\n",
       "    .dataframe tbody tr th {\n",
       "        vertical-align: top;\n",
       "    }\n",
       "\n",
       "    .dataframe thead th {\n",
       "        text-align: right;\n",
       "    }\n",
       "</style>\n",
       "<table border=\"1\" class=\"dataframe\">\n",
       "  <thead>\n",
       "    <tr style=\"text-align: right;\">\n",
       "      <th></th>\n",
       "      <th>수집일시</th>\n",
       "      <th>장소</th>\n",
       "      <th>최대인구</th>\n",
       "      <th>최소인구</th>\n",
       "      <th>10대</th>\n",
       "      <th>2030대</th>\n",
       "      <th>4050대</th>\n",
       "      <th>6070대</th>\n",
       "    </tr>\n",
       "  </thead>\n",
       "  <tbody>\n",
       "    <tr>\n",
       "      <th>0</th>\n",
       "      <td>2023-05-20 10:00:00</td>\n",
       "      <td>강남 MICE 관광특구</td>\n",
       "      <td>5500</td>\n",
       "      <td>5000</td>\n",
       "      <td>4.7</td>\n",
       "      <td>45.5</td>\n",
       "      <td>38.6</td>\n",
       "      <td>11.3</td>\n",
       "    </tr>\n",
       "    <tr>\n",
       "      <th>1</th>\n",
       "      <td>2023-05-20 10:00:00</td>\n",
       "      <td>동대문 관광특구</td>\n",
       "      <td>14000</td>\n",
       "      <td>12000</td>\n",
       "      <td>4.3</td>\n",
       "      <td>41.6</td>\n",
       "      <td>34.6</td>\n",
       "      <td>19.5</td>\n",
       "    </tr>\n",
       "  </tbody>\n",
       "</table>\n",
       "</div>"
      ],
      "text/plain": [
       "                 수집일시            장소   최대인구   최소인구  10대  2030대  4050대  6070대\n",
       "0 2023-05-20 10:00:00  강남 MICE 관광특구   5500   5000  4.7   45.5   38.6   11.3\n",
       "1 2023-05-20 10:00:00      동대문 관광특구  14000  12000  4.3   41.6   34.6   19.5"
      ]
     },
     "execution_count": 20,
     "metadata": {},
     "output_type": "execute_result"
    }
   ],
   "source": [
    "place_df[:2]"
   ]
  },
  {
   "cell_type": "code",
   "execution_count": 21,
   "id": "8ae23d1b",
   "metadata": {
    "scrolled": true
   },
   "outputs": [],
   "source": [
    "# 장소분류할 인덱스 추출\n",
    "travel_index = place_df.장소[place_df.장소.isin(place_df.장소[:7])].index\n",
    "cultural_index = place_df.장소[place_df.장소.isin(place_df.장소[7:10])].index\n",
    "dense_index = place_df.장소[place_df.장소.isin(place_df.장소[10:25])].index\n",
    "develop_index = place_df.장소[place_df.장소.isin(place_df.장소[25:38])].index\n",
    "park_index = place_df.장소[place_df.장소.isin(place_df.장소[38:50])].index"
   ]
  },
  {
   "cell_type": "code",
   "execution_count": 22,
   "id": "66273c58",
   "metadata": {},
   "outputs": [
    {
     "data": {
      "text/plain": [
       "Index([  38,   39,   40,   41,   42,   43,   44,   45,   46,   47,\n",
       "       ...\n",
       "       3840, 3841, 3842, 3843, 3844, 3845, 3846, 3847, 3848, 3849],\n",
       "      dtype='int64', length=924)"
      ]
     },
     "execution_count": 22,
     "metadata": {},
     "output_type": "execute_result"
    }
   ],
   "source": [
    "park_index"
   ]
  },
  {
   "cell_type": "code",
   "execution_count": 23,
   "id": "eec71438",
   "metadata": {},
   "outputs": [
    {
     "data": {
      "text/html": [
       "<div>\n",
       "<style scoped>\n",
       "    .dataframe tbody tr th:only-of-type {\n",
       "        vertical-align: middle;\n",
       "    }\n",
       "\n",
       "    .dataframe tbody tr th {\n",
       "        vertical-align: top;\n",
       "    }\n",
       "\n",
       "    .dataframe thead th {\n",
       "        text-align: right;\n",
       "    }\n",
       "</style>\n",
       "<table border=\"1\" class=\"dataframe\">\n",
       "  <thead>\n",
       "    <tr style=\"text-align: right;\">\n",
       "      <th></th>\n",
       "      <th>수집일시</th>\n",
       "      <th>장소</th>\n",
       "      <th>장소분류</th>\n",
       "      <th>최대인구</th>\n",
       "      <th>최소인구</th>\n",
       "      <th>10대</th>\n",
       "      <th>2030대</th>\n",
       "      <th>4050대</th>\n",
       "      <th>6070대</th>\n",
       "    </tr>\n",
       "  </thead>\n",
       "  <tbody>\n",
       "    <tr>\n",
       "      <th>0</th>\n",
       "      <td>2023-05-20 10:00:00</td>\n",
       "      <td>강남 MICE 관광특구</td>\n",
       "      <td>0</td>\n",
       "      <td>5500</td>\n",
       "      <td>5000</td>\n",
       "      <td>4.7</td>\n",
       "      <td>45.5</td>\n",
       "      <td>38.6</td>\n",
       "      <td>11.3</td>\n",
       "    </tr>\n",
       "    <tr>\n",
       "      <th>1</th>\n",
       "      <td>2023-05-20 10:00:00</td>\n",
       "      <td>동대문 관광특구</td>\n",
       "      <td>0</td>\n",
       "      <td>14000</td>\n",
       "      <td>12000</td>\n",
       "      <td>4.3</td>\n",
       "      <td>41.6</td>\n",
       "      <td>34.6</td>\n",
       "      <td>19.5</td>\n",
       "    </tr>\n",
       "    <tr>\n",
       "      <th>2</th>\n",
       "      <td>2023-05-20 10:00:00</td>\n",
       "      <td>명동 관광특구</td>\n",
       "      <td>0</td>\n",
       "      <td>20000</td>\n",
       "      <td>18000</td>\n",
       "      <td>3.5</td>\n",
       "      <td>39.0</td>\n",
       "      <td>38.4</td>\n",
       "      <td>19.2</td>\n",
       "    </tr>\n",
       "    <tr>\n",
       "      <th>3</th>\n",
       "      <td>2023-05-20 10:00:00</td>\n",
       "      <td>이태원 관광특구</td>\n",
       "      <td>0</td>\n",
       "      <td>5000</td>\n",
       "      <td>4500</td>\n",
       "      <td>3.4</td>\n",
       "      <td>43.5</td>\n",
       "      <td>34.7</td>\n",
       "      <td>18.5</td>\n",
       "    </tr>\n",
       "    <tr>\n",
       "      <th>4</th>\n",
       "      <td>2023-05-20 10:00:00</td>\n",
       "      <td>잠실 관광특구</td>\n",
       "      <td>0</td>\n",
       "      <td>30000</td>\n",
       "      <td>28000</td>\n",
       "      <td>10.8</td>\n",
       "      <td>40.5</td>\n",
       "      <td>32.4</td>\n",
       "      <td>16.2</td>\n",
       "    </tr>\n",
       "    <tr>\n",
       "      <th>...</th>\n",
       "      <td>...</td>\n",
       "      <td>...</td>\n",
       "      <td>...</td>\n",
       "      <td>...</td>\n",
       "      <td>...</td>\n",
       "      <td>...</td>\n",
       "      <td>...</td>\n",
       "      <td>...</td>\n",
       "      <td>...</td>\n",
       "    </tr>\n",
       "    <tr>\n",
       "      <th>3845</th>\n",
       "      <td>2023-05-23 23:00:00</td>\n",
       "      <td>서울숲공원</td>\n",
       "      <td>0</td>\n",
       "      <td>7000</td>\n",
       "      <td>6500</td>\n",
       "      <td>5.4</td>\n",
       "      <td>43.5</td>\n",
       "      <td>37.2</td>\n",
       "      <td>13.9</td>\n",
       "    </tr>\n",
       "    <tr>\n",
       "      <th>3846</th>\n",
       "      <td>2023-05-23 23:00:00</td>\n",
       "      <td>월드컵공원</td>\n",
       "      <td>0</td>\n",
       "      <td>3500</td>\n",
       "      <td>3000</td>\n",
       "      <td>9.6</td>\n",
       "      <td>38.5</td>\n",
       "      <td>36.9</td>\n",
       "      <td>15.1</td>\n",
       "    </tr>\n",
       "    <tr>\n",
       "      <th>3847</th>\n",
       "      <td>2023-05-23 23:00:00</td>\n",
       "      <td>이촌한강공원</td>\n",
       "      <td>0</td>\n",
       "      <td>3000</td>\n",
       "      <td>2500</td>\n",
       "      <td>6.5</td>\n",
       "      <td>39.9</td>\n",
       "      <td>35.8</td>\n",
       "      <td>17.9</td>\n",
       "    </tr>\n",
       "    <tr>\n",
       "      <th>3848</th>\n",
       "      <td>2023-05-23 23:00:00</td>\n",
       "      <td>잠실종합운동장</td>\n",
       "      <td>0</td>\n",
       "      <td>1500</td>\n",
       "      <td>1000</td>\n",
       "      <td>12.9</td>\n",
       "      <td>34.7</td>\n",
       "      <td>40.7</td>\n",
       "      <td>11.7</td>\n",
       "    </tr>\n",
       "    <tr>\n",
       "      <th>3849</th>\n",
       "      <td>2023-05-23 23:00:00</td>\n",
       "      <td>잠실한강공원</td>\n",
       "      <td>0</td>\n",
       "      <td>3500</td>\n",
       "      <td>3000</td>\n",
       "      <td>10.3</td>\n",
       "      <td>31.7</td>\n",
       "      <td>44.9</td>\n",
       "      <td>13.1</td>\n",
       "    </tr>\n",
       "  </tbody>\n",
       "</table>\n",
       "<p>3850 rows × 9 columns</p>\n",
       "</div>"
      ],
      "text/plain": [
       "                    수집일시            장소  장소분류   최대인구   최소인구   10대  2030대   \n",
       "0    2023-05-20 10:00:00  강남 MICE 관광특구     0   5500   5000   4.7   45.5  \\\n",
       "1    2023-05-20 10:00:00      동대문 관광특구     0  14000  12000   4.3   41.6   \n",
       "2    2023-05-20 10:00:00       명동 관광특구     0  20000  18000   3.5   39.0   \n",
       "3    2023-05-20 10:00:00      이태원 관광특구     0   5000   4500   3.4   43.5   \n",
       "4    2023-05-20 10:00:00       잠실 관광특구     0  30000  28000  10.8   40.5   \n",
       "...                  ...           ...   ...    ...    ...   ...    ...   \n",
       "3845 2023-05-23 23:00:00         서울숲공원     0   7000   6500   5.4   43.5   \n",
       "3846 2023-05-23 23:00:00         월드컵공원     0   3500   3000   9.6   38.5   \n",
       "3847 2023-05-23 23:00:00        이촌한강공원     0   3000   2500   6.5   39.9   \n",
       "3848 2023-05-23 23:00:00       잠실종합운동장     0   1500   1000  12.9   34.7   \n",
       "3849 2023-05-23 23:00:00        잠실한강공원     0   3500   3000  10.3   31.7   \n",
       "\n",
       "      4050대  6070대  \n",
       "0      38.6   11.3  \n",
       "1      34.6   19.5  \n",
       "2      38.4   19.2  \n",
       "3      34.7   18.5  \n",
       "4      32.4   16.2  \n",
       "...     ...    ...  \n",
       "3845   37.2   13.9  \n",
       "3846   36.9   15.1  \n",
       "3847   35.8   17.9  \n",
       "3848   40.7   11.7  \n",
       "3849   44.9   13.1  \n",
       "\n",
       "[3850 rows x 9 columns]"
      ]
     },
     "execution_count": 23,
     "metadata": {},
     "output_type": "execute_result"
    }
   ],
   "source": [
    "# 장소분류 컬럼 추가\n",
    "place_df.insert(loc=2, column='장소분류', value=0)\n",
    "place_df"
   ]
  },
  {
   "cell_type": "code",
   "execution_count": 24,
   "id": "4c903954",
   "metadata": {},
   "outputs": [],
   "source": [
    "# 장소분류 설정\n",
    "place_df.loc[travel_index, '장소분류'] = '관광특구'\n",
    "place_df.loc[cultural_index, '장소분류'] = '고궁문화유산'\n",
    "place_df.loc[dense_index, '장소분류'] = '인구밀집지역'\n",
    "place_df.loc[develop_index, '장소분류'] = '발달상권'\n",
    "place_df.loc[park_index, '장소분류'] = '공원'"
   ]
  },
  {
   "cell_type": "code",
   "execution_count": 25,
   "id": "51534230",
   "metadata": {
    "scrolled": true
   },
   "outputs": [
    {
     "data": {
      "text/plain": [
       "장소분류\n",
       "인구밀집지역    1155\n",
       "발달상권      1001\n",
       "공원         924\n",
       "관광특구       539\n",
       "고궁문화유산     231\n",
       "Name: count, dtype: int64"
      ]
     },
     "execution_count": 25,
     "metadata": {},
     "output_type": "execute_result"
    }
   ],
   "source": [
    "place_df.장소분류.value_counts()"
   ]
  },
  {
   "cell_type": "markdown",
   "id": "ec174321",
   "metadata": {},
   "source": [
    "## 인구수 컬럼 추가"
   ]
  },
  {
   "cell_type": "code",
   "execution_count": 26,
   "id": "7d2c6f2d",
   "metadata": {},
   "outputs": [
    {
     "data": {
      "text/plain": [
       "0        5250\n",
       "1       13000\n",
       "2       19000\n",
       "3        4750\n",
       "4       29000\n",
       "        ...  \n",
       "3845     6750\n",
       "3846     3250\n",
       "3847     2750\n",
       "3848     1250\n",
       "3849     3250\n",
       "Length: 3850, dtype: int64"
      ]
     },
     "execution_count": 26,
     "metadata": {},
     "output_type": "execute_result"
    }
   ],
   "source": [
    "# 인구수\n",
    "(place_df.최대인구+place_df.최소인구) // 2"
   ]
  },
  {
   "cell_type": "code",
   "execution_count": 27,
   "id": "6ce53c94",
   "metadata": {},
   "outputs": [
    {
     "data": {
      "text/html": [
       "<div>\n",
       "<style scoped>\n",
       "    .dataframe tbody tr th:only-of-type {\n",
       "        vertical-align: middle;\n",
       "    }\n",
       "\n",
       "    .dataframe tbody tr th {\n",
       "        vertical-align: top;\n",
       "    }\n",
       "\n",
       "    .dataframe thead th {\n",
       "        text-align: right;\n",
       "    }\n",
       "</style>\n",
       "<table border=\"1\" class=\"dataframe\">\n",
       "  <thead>\n",
       "    <tr style=\"text-align: right;\">\n",
       "      <th></th>\n",
       "      <th>수집일시</th>\n",
       "      <th>장소</th>\n",
       "      <th>장소분류</th>\n",
       "      <th>인구수</th>\n",
       "      <th>최대인구</th>\n",
       "      <th>최소인구</th>\n",
       "      <th>10대</th>\n",
       "      <th>2030대</th>\n",
       "      <th>4050대</th>\n",
       "      <th>6070대</th>\n",
       "    </tr>\n",
       "  </thead>\n",
       "  <tbody>\n",
       "    <tr>\n",
       "      <th>0</th>\n",
       "      <td>2023-05-20 10:00:00</td>\n",
       "      <td>강남 MICE 관광특구</td>\n",
       "      <td>관광특구</td>\n",
       "      <td>5250</td>\n",
       "      <td>5500</td>\n",
       "      <td>5000</td>\n",
       "      <td>4.7</td>\n",
       "      <td>45.5</td>\n",
       "      <td>38.6</td>\n",
       "      <td>11.3</td>\n",
       "    </tr>\n",
       "    <tr>\n",
       "      <th>1</th>\n",
       "      <td>2023-05-20 10:00:00</td>\n",
       "      <td>동대문 관광특구</td>\n",
       "      <td>관광특구</td>\n",
       "      <td>13000</td>\n",
       "      <td>14000</td>\n",
       "      <td>12000</td>\n",
       "      <td>4.3</td>\n",
       "      <td>41.6</td>\n",
       "      <td>34.6</td>\n",
       "      <td>19.5</td>\n",
       "    </tr>\n",
       "    <tr>\n",
       "      <th>2</th>\n",
       "      <td>2023-05-20 10:00:00</td>\n",
       "      <td>명동 관광특구</td>\n",
       "      <td>관광특구</td>\n",
       "      <td>19000</td>\n",
       "      <td>20000</td>\n",
       "      <td>18000</td>\n",
       "      <td>3.5</td>\n",
       "      <td>39.0</td>\n",
       "      <td>38.4</td>\n",
       "      <td>19.2</td>\n",
       "    </tr>\n",
       "    <tr>\n",
       "      <th>3</th>\n",
       "      <td>2023-05-20 10:00:00</td>\n",
       "      <td>이태원 관광특구</td>\n",
       "      <td>관광특구</td>\n",
       "      <td>4750</td>\n",
       "      <td>5000</td>\n",
       "      <td>4500</td>\n",
       "      <td>3.4</td>\n",
       "      <td>43.5</td>\n",
       "      <td>34.7</td>\n",
       "      <td>18.5</td>\n",
       "    </tr>\n",
       "    <tr>\n",
       "      <th>4</th>\n",
       "      <td>2023-05-20 10:00:00</td>\n",
       "      <td>잠실 관광특구</td>\n",
       "      <td>관광특구</td>\n",
       "      <td>29000</td>\n",
       "      <td>30000</td>\n",
       "      <td>28000</td>\n",
       "      <td>10.8</td>\n",
       "      <td>40.5</td>\n",
       "      <td>32.4</td>\n",
       "      <td>16.2</td>\n",
       "    </tr>\n",
       "    <tr>\n",
       "      <th>...</th>\n",
       "      <td>...</td>\n",
       "      <td>...</td>\n",
       "      <td>...</td>\n",
       "      <td>...</td>\n",
       "      <td>...</td>\n",
       "      <td>...</td>\n",
       "      <td>...</td>\n",
       "      <td>...</td>\n",
       "      <td>...</td>\n",
       "      <td>...</td>\n",
       "    </tr>\n",
       "    <tr>\n",
       "      <th>3845</th>\n",
       "      <td>2023-05-23 23:00:00</td>\n",
       "      <td>서울숲공원</td>\n",
       "      <td>공원</td>\n",
       "      <td>6750</td>\n",
       "      <td>7000</td>\n",
       "      <td>6500</td>\n",
       "      <td>5.4</td>\n",
       "      <td>43.5</td>\n",
       "      <td>37.2</td>\n",
       "      <td>13.9</td>\n",
       "    </tr>\n",
       "    <tr>\n",
       "      <th>3846</th>\n",
       "      <td>2023-05-23 23:00:00</td>\n",
       "      <td>월드컵공원</td>\n",
       "      <td>공원</td>\n",
       "      <td>3250</td>\n",
       "      <td>3500</td>\n",
       "      <td>3000</td>\n",
       "      <td>9.6</td>\n",
       "      <td>38.5</td>\n",
       "      <td>36.9</td>\n",
       "      <td>15.1</td>\n",
       "    </tr>\n",
       "    <tr>\n",
       "      <th>3847</th>\n",
       "      <td>2023-05-23 23:00:00</td>\n",
       "      <td>이촌한강공원</td>\n",
       "      <td>공원</td>\n",
       "      <td>2750</td>\n",
       "      <td>3000</td>\n",
       "      <td>2500</td>\n",
       "      <td>6.5</td>\n",
       "      <td>39.9</td>\n",
       "      <td>35.8</td>\n",
       "      <td>17.9</td>\n",
       "    </tr>\n",
       "    <tr>\n",
       "      <th>3848</th>\n",
       "      <td>2023-05-23 23:00:00</td>\n",
       "      <td>잠실종합운동장</td>\n",
       "      <td>공원</td>\n",
       "      <td>1250</td>\n",
       "      <td>1500</td>\n",
       "      <td>1000</td>\n",
       "      <td>12.9</td>\n",
       "      <td>34.7</td>\n",
       "      <td>40.7</td>\n",
       "      <td>11.7</td>\n",
       "    </tr>\n",
       "    <tr>\n",
       "      <th>3849</th>\n",
       "      <td>2023-05-23 23:00:00</td>\n",
       "      <td>잠실한강공원</td>\n",
       "      <td>공원</td>\n",
       "      <td>3250</td>\n",
       "      <td>3500</td>\n",
       "      <td>3000</td>\n",
       "      <td>10.3</td>\n",
       "      <td>31.7</td>\n",
       "      <td>44.9</td>\n",
       "      <td>13.1</td>\n",
       "    </tr>\n",
       "  </tbody>\n",
       "</table>\n",
       "<p>3850 rows × 10 columns</p>\n",
       "</div>"
      ],
      "text/plain": [
       "                    수집일시            장소  장소분류    인구수   최대인구   최소인구   10대   \n",
       "0    2023-05-20 10:00:00  강남 MICE 관광특구  관광특구   5250   5500   5000   4.7  \\\n",
       "1    2023-05-20 10:00:00      동대문 관광특구  관광특구  13000  14000  12000   4.3   \n",
       "2    2023-05-20 10:00:00       명동 관광특구  관광특구  19000  20000  18000   3.5   \n",
       "3    2023-05-20 10:00:00      이태원 관광특구  관광특구   4750   5000   4500   3.4   \n",
       "4    2023-05-20 10:00:00       잠실 관광특구  관광특구  29000  30000  28000  10.8   \n",
       "...                  ...           ...   ...    ...    ...    ...   ...   \n",
       "3845 2023-05-23 23:00:00         서울숲공원    공원   6750   7000   6500   5.4   \n",
       "3846 2023-05-23 23:00:00         월드컵공원    공원   3250   3500   3000   9.6   \n",
       "3847 2023-05-23 23:00:00        이촌한강공원    공원   2750   3000   2500   6.5   \n",
       "3848 2023-05-23 23:00:00       잠실종합운동장    공원   1250   1500   1000  12.9   \n",
       "3849 2023-05-23 23:00:00        잠실한강공원    공원   3250   3500   3000  10.3   \n",
       "\n",
       "      2030대  4050대  6070대  \n",
       "0      45.5   38.6   11.3  \n",
       "1      41.6   34.6   19.5  \n",
       "2      39.0   38.4   19.2  \n",
       "3      43.5   34.7   18.5  \n",
       "4      40.5   32.4   16.2  \n",
       "...     ...    ...    ...  \n",
       "3845   43.5   37.2   13.9  \n",
       "3846   38.5   36.9   15.1  \n",
       "3847   39.9   35.8   17.9  \n",
       "3848   34.7   40.7   11.7  \n",
       "3849   31.7   44.9   13.1  \n",
       "\n",
       "[3850 rows x 10 columns]"
      ]
     },
     "execution_count": 27,
     "metadata": {},
     "output_type": "execute_result"
    }
   ],
   "source": [
    "# 인구수 컬럼 추가\n",
    "place_df.insert(loc=3, column='인구수', value=(place_df.최대인구+place_df.최소인구) // 2)\n",
    "place_df"
   ]
  },
  {
   "cell_type": "code",
   "execution_count": 58,
   "id": "f91234c6",
   "metadata": {},
   "outputs": [
    {
     "data": {
      "text/html": [
       "<div>\n",
       "<style scoped>\n",
       "    .dataframe tbody tr th:only-of-type {\n",
       "        vertical-align: middle;\n",
       "    }\n",
       "\n",
       "    .dataframe tbody tr th {\n",
       "        vertical-align: top;\n",
       "    }\n",
       "\n",
       "    .dataframe thead th {\n",
       "        text-align: right;\n",
       "    }\n",
       "</style>\n",
       "<table border=\"1\" class=\"dataframe\">\n",
       "  <thead>\n",
       "    <tr style=\"text-align: right;\">\n",
       "      <th></th>\n",
       "      <th>수집일시</th>\n",
       "      <th>장소</th>\n",
       "      <th>10대</th>\n",
       "      <th>2030대</th>\n",
       "      <th>4050대</th>\n",
       "      <th>6070대</th>\n",
       "    </tr>\n",
       "  </thead>\n",
       "  <tbody>\n",
       "    <tr>\n",
       "      <th>0</th>\n",
       "      <td>2023-05-20 10</td>\n",
       "      <td>강남 MICE 관광특구</td>\n",
       "      <td>4.7</td>\n",
       "      <td>45.5</td>\n",
       "      <td>38.6</td>\n",
       "      <td>11.3</td>\n",
       "    </tr>\n",
       "    <tr>\n",
       "      <th>1</th>\n",
       "      <td>2023-05-20 10</td>\n",
       "      <td>동대문 관광특구</td>\n",
       "      <td>4.3</td>\n",
       "      <td>41.6</td>\n",
       "      <td>34.6</td>\n",
       "      <td>19.5</td>\n",
       "    </tr>\n",
       "    <tr>\n",
       "      <th>2</th>\n",
       "      <td>2023-05-20 10</td>\n",
       "      <td>명동 관광특구</td>\n",
       "      <td>3.5</td>\n",
       "      <td>39.0</td>\n",
       "      <td>38.4</td>\n",
       "      <td>19.2</td>\n",
       "    </tr>\n",
       "    <tr>\n",
       "      <th>3</th>\n",
       "      <td>2023-05-20 10</td>\n",
       "      <td>이태원 관광특구</td>\n",
       "      <td>3.4</td>\n",
       "      <td>43.5</td>\n",
       "      <td>34.7</td>\n",
       "      <td>18.5</td>\n",
       "    </tr>\n",
       "    <tr>\n",
       "      <th>4</th>\n",
       "      <td>2023-05-20 10</td>\n",
       "      <td>잠실 관광특구</td>\n",
       "      <td>10.8</td>\n",
       "      <td>40.5</td>\n",
       "      <td>32.4</td>\n",
       "      <td>16.2</td>\n",
       "    </tr>\n",
       "    <tr>\n",
       "      <th>...</th>\n",
       "      <td>...</td>\n",
       "      <td>...</td>\n",
       "      <td>...</td>\n",
       "      <td>...</td>\n",
       "      <td>...</td>\n",
       "      <td>...</td>\n",
       "    </tr>\n",
       "    <tr>\n",
       "      <th>4245</th>\n",
       "      <td>2023-05-24 07</td>\n",
       "      <td>서울숲공원</td>\n",
       "      <td>3.3</td>\n",
       "      <td>27.5</td>\n",
       "      <td>48.9</td>\n",
       "      <td>20.3</td>\n",
       "    </tr>\n",
       "    <tr>\n",
       "      <th>4246</th>\n",
       "      <td>2023-05-24 07</td>\n",
       "      <td>월드컵공원</td>\n",
       "      <td>4.7</td>\n",
       "      <td>24.9</td>\n",
       "      <td>48.7</td>\n",
       "      <td>21.7</td>\n",
       "    </tr>\n",
       "    <tr>\n",
       "      <th>4247</th>\n",
       "      <td>2023-05-24 07</td>\n",
       "      <td>이촌한강공원</td>\n",
       "      <td>4.7</td>\n",
       "      <td>25.7</td>\n",
       "      <td>48.7</td>\n",
       "      <td>20.9</td>\n",
       "    </tr>\n",
       "    <tr>\n",
       "      <th>4248</th>\n",
       "      <td>2023-05-24 07</td>\n",
       "      <td>잠실종합운동장</td>\n",
       "      <td>3.6</td>\n",
       "      <td>19.8</td>\n",
       "      <td>55.8</td>\n",
       "      <td>20.8</td>\n",
       "    </tr>\n",
       "    <tr>\n",
       "      <th>4249</th>\n",
       "      <td>2023-05-24 07</td>\n",
       "      <td>잠실한강공원</td>\n",
       "      <td>8.0</td>\n",
       "      <td>23.2</td>\n",
       "      <td>49.6</td>\n",
       "      <td>19.2</td>\n",
       "    </tr>\n",
       "  </tbody>\n",
       "</table>\n",
       "<p>4250 rows × 6 columns</p>\n",
       "</div>"
      ],
      "text/plain": [
       "               수집일시            장소   10대  2030대  4050대  6070대\n",
       "0     2023-05-20 10  강남 MICE 관광특구   4.7   45.5   38.6   11.3\n",
       "1     2023-05-20 10      동대문 관광특구   4.3   41.6   34.6   19.5\n",
       "2     2023-05-20 10       명동 관광특구   3.5   39.0   38.4   19.2\n",
       "3     2023-05-20 10      이태원 관광특구   3.4   43.5   34.7   18.5\n",
       "4     2023-05-20 10       잠실 관광특구  10.8   40.5   32.4   16.2\n",
       "...             ...           ...   ...    ...    ...    ...\n",
       "4245  2023-05-24 07         서울숲공원   3.3   27.5   48.9   20.3\n",
       "4246  2023-05-24 07         월드컵공원   4.7   24.9   48.7   21.7\n",
       "4247  2023-05-24 07        이촌한강공원   4.7   25.7   48.7   20.9\n",
       "4248  2023-05-24 07       잠실종합운동장   3.6   19.8   55.8   20.8\n",
       "4249  2023-05-24 07        잠실한강공원   8.0   23.2   49.6   19.2\n",
       "\n",
       "[4250 rows x 6 columns]"
      ]
     },
     "execution_count": 58,
     "metadata": {},
     "output_type": "execute_result"
    }
   ],
   "source": [
    "# 최대인구 최소인구 컬럼 삭제\n",
    "place_df.drop(columns=['최대인구', '최소인구'])"
   ]
  },
  {
   "cell_type": "code",
   "execution_count": 59,
   "id": "b1d49ea5",
   "metadata": {},
   "outputs": [
    {
     "data": {
      "text/plain": [
       "Index(['수집일시', '장소', '10대', '2030대', '4050대', '6070대'], dtype='object')"
      ]
     },
     "execution_count": 59,
     "metadata": {},
     "output_type": "execute_result"
    }
   ],
   "source": [
    "# 최대인구 최소인구 컬럼 삭제 원본 적용\n",
    "place_df.drop(columns=['최대인구', '최소인구'], inplace=True)\n",
    "place_df.columns"
   ]
  },
  {
   "cell_type": "markdown",
   "id": "d53957d1",
   "metadata": {},
   "source": [
    "## people_activate 멀티인덱스 설정"
   ]
  },
  {
   "cell_type": "code",
   "execution_count": 60,
   "id": "2f59aa31",
   "metadata": {},
   "outputs": [
    {
     "data": {
      "text/plain": [
       "Index(['평일', '토요일', '일요일'], dtype='object')"
      ]
     },
     "execution_count": 60,
     "metadata": {},
     "output_type": "execute_result"
    }
   ],
   "source": [
    "people_activate = people_activate.set_index(['연령대별', '행동분류별'])\n",
    "people_activate.columns = people_activate.iloc[0].values\n",
    "people_activate.drop(index='연령대별', inplace=True)\n",
    "people_activate.columns"
   ]
  },
  {
   "cell_type": "code",
   "execution_count": 61,
   "id": "d24b4a6a",
   "metadata": {
    "scrolled": true
   },
   "outputs": [
    {
     "data": {
      "text/plain": [
       "MultiIndex([('10~19세(10대)',         '개인유지'),\n",
       "            ('10~19세(10대)',            '일'),\n",
       "            ('10~19세(10대)',           '학습'),\n",
       "            ('10~19세(10대)',         '가정관리'),\n",
       "            ('10~19세(10대)', '가족 및 가구원 돌보기'),\n",
       "            ('10~19세(10대)',  '자원봉사 및 무급연수'),\n",
       "            ('10~19세(10대)',    '교제 및 참여활동'),\n",
       "            ('10~19세(10대)',    '문화 및 여가활동'),\n",
       "            ('10~19세(10대)',           '이동'),\n",
       "            ('20~29세(20대)',         '개인유지'),\n",
       "            ('20~29세(20대)',            '일'),\n",
       "            ('20~29세(20대)',           '학습'),\n",
       "            ('20~29세(20대)',         '가정관리'),\n",
       "            ('20~29세(20대)', '가족 및 가구원 돌보기'),\n",
       "            ('20~29세(20대)',  '자원봉사 및 무급연수'),\n",
       "            ('20~29세(20대)',    '교제 및 참여활동'),\n",
       "            ('20~29세(20대)',    '문화 및 여가활동'),\n",
       "            ('20~29세(20대)',           '이동'),\n",
       "            ('30~39세(30대)',         '개인유지'),\n",
       "            ('30~39세(30대)',            '일'),\n",
       "            ('30~39세(30대)',           '학습'),\n",
       "            ('30~39세(30대)',         '가정관리'),\n",
       "            ('30~39세(30대)', '가족 및 가구원 돌보기'),\n",
       "            ('30~39세(30대)',  '자원봉사 및 무급연수'),\n",
       "            ('30~39세(30대)',    '교제 및 참여활동'),\n",
       "            ('30~39세(30대)',    '문화 및 여가활동'),\n",
       "            ('30~39세(30대)',           '이동'),\n",
       "            ('40~49세(40대)',         '개인유지'),\n",
       "            ('40~49세(40대)',            '일'),\n",
       "            ('40~49세(40대)',           '학습'),\n",
       "            ('40~49세(40대)',         '가정관리'),\n",
       "            ('40~49세(40대)', '가족 및 가구원 돌보기'),\n",
       "            ('40~49세(40대)',  '자원봉사 및 무급연수'),\n",
       "            ('40~49세(40대)',    '교제 및 참여활동'),\n",
       "            ('40~49세(40대)',    '문화 및 여가활동'),\n",
       "            ('40~49세(40대)',           '이동'),\n",
       "            ('50~59세(50대)',         '개인유지'),\n",
       "            ('50~59세(50대)',            '일'),\n",
       "            ('50~59세(50대)',           '학습'),\n",
       "            ('50~59세(50대)',         '가정관리'),\n",
       "            ('50~59세(50대)', '가족 및 가구원 돌보기'),\n",
       "            ('50~59세(50대)',  '자원봉사 및 무급연수'),\n",
       "            ('50~59세(50대)',    '교제 및 참여활동'),\n",
       "            ('50~59세(50대)',    '문화 및 여가활동'),\n",
       "            ('50~59세(50대)',           '이동'),\n",
       "            (      '60세이상',         '개인유지'),\n",
       "            (      '60세이상',            '일'),\n",
       "            (      '60세이상',           '학습'),\n",
       "            (      '60세이상',         '가정관리'),\n",
       "            (      '60세이상', '가족 및 가구원 돌보기'),\n",
       "            (      '60세이상',  '자원봉사 및 무급연수'),\n",
       "            (      '60세이상',    '교제 및 참여활동'),\n",
       "            (      '60세이상',    '문화 및 여가활동'),\n",
       "            (      '60세이상',           '이동')],\n",
       "           names=['연령대별', '행동분류별'])"
      ]
     },
     "execution_count": 61,
     "metadata": {},
     "output_type": "execute_result"
    }
   ],
   "source": [
    "people_activate.index"
   ]
  },
  {
   "cell_type": "markdown",
   "id": "6f3a723c",
   "metadata": {},
   "source": [
    "## dtype 설정"
   ]
  },
  {
   "cell_type": "code",
   "execution_count": 78,
   "id": "de7d55d7",
   "metadata": {},
   "outputs": [
    {
     "data": {
      "text/plain": [
       "평일     object\n",
       "토요일    object\n",
       "일요일    object\n",
       "dtype: object"
      ]
     },
     "execution_count": 78,
     "metadata": {},
     "output_type": "execute_result"
    }
   ],
   "source": [
    "people_activate.dtypes"
   ]
  },
  {
   "cell_type": "code",
   "execution_count": 80,
   "id": "03fa3e00",
   "metadata": {
    "scrolled": true
   },
   "outputs": [
    {
     "name": "stderr",
     "output_type": "stream",
     "text": [
      "C:\\Users\\hi-sinchon\\AppData\\Local\\Temp\\ipykernel_16528\\3609761498.py:2: UserWarning: Could not infer format, so each element will be parsed individually, falling back to `dateutil`. To ensure parsing is consistent and as-expected, please specify a format.\n",
      "  people_activate = people_activate.astype('datetime64[ns]')\n",
      "C:\\Users\\hi-sinchon\\AppData\\Local\\Temp\\ipykernel_16528\\3609761498.py:2: UserWarning: Could not infer format, so each element will be parsed individually, falling back to `dateutil`. To ensure parsing is consistent and as-expected, please specify a format.\n",
      "  people_activate = people_activate.astype('datetime64[ns]')\n",
      "C:\\Users\\hi-sinchon\\AppData\\Local\\Temp\\ipykernel_16528\\3609761498.py:2: UserWarning: Could not infer format, so each element will be parsed individually, falling back to `dateutil`. To ensure parsing is consistent and as-expected, please specify a format.\n",
      "  people_activate = people_activate.astype('datetime64[ns]')\n"
     ]
    },
    {
     "data": {
      "text/html": [
       "<div>\n",
       "<style scoped>\n",
       "    .dataframe tbody tr th:only-of-type {\n",
       "        vertical-align: middle;\n",
       "    }\n",
       "\n",
       "    .dataframe tbody tr th {\n",
       "        vertical-align: top;\n",
       "    }\n",
       "\n",
       "    .dataframe thead th {\n",
       "        text-align: right;\n",
       "    }\n",
       "</style>\n",
       "<table border=\"1\" class=\"dataframe\">\n",
       "  <thead>\n",
       "    <tr style=\"text-align: right;\">\n",
       "      <th></th>\n",
       "      <th></th>\n",
       "      <th>평일</th>\n",
       "      <th>토요일</th>\n",
       "      <th>일요일</th>\n",
       "    </tr>\n",
       "    <tr>\n",
       "      <th>연령대별</th>\n",
       "      <th>행동분류별</th>\n",
       "      <th></th>\n",
       "      <th></th>\n",
       "      <th></th>\n",
       "    </tr>\n",
       "  </thead>\n",
       "  <tbody>\n",
       "    <tr>\n",
       "      <th rowspan=\"9\" valign=\"top\">10~19세(10대)</th>\n",
       "      <th>개인유지</th>\n",
       "      <td>2023-05-25 11:17:00</td>\n",
       "      <td>2023-05-25 12:46:00</td>\n",
       "      <td>2023-05-25 13:03:00</td>\n",
       "    </tr>\n",
       "    <tr>\n",
       "      <th>일</th>\n",
       "      <td>2023-05-25 00:15:00</td>\n",
       "      <td>2023-05-25 00:18:00</td>\n",
       "      <td>2023-05-25 00:13:00</td>\n",
       "    </tr>\n",
       "    <tr>\n",
       "      <th>학습</th>\n",
       "      <td>2023-05-25 06:38:00</td>\n",
       "      <td>2023-05-25 02:32:00</td>\n",
       "      <td>2023-05-25 02:19:00</td>\n",
       "    </tr>\n",
       "    <tr>\n",
       "      <th>가정관리</th>\n",
       "      <td>2023-05-25 00:14:00</td>\n",
       "      <td>2023-05-25 00:29:00</td>\n",
       "      <td>2023-05-25 00:35:00</td>\n",
       "    </tr>\n",
       "    <tr>\n",
       "      <th>가족 및 가구원 돌보기</th>\n",
       "      <td>2023-05-25 00:01:00</td>\n",
       "      <td>2023-05-25 00:02:00</td>\n",
       "      <td>2023-05-25 00:01:00</td>\n",
       "    </tr>\n",
       "    <tr>\n",
       "      <th>자원봉사 및 무급연수</th>\n",
       "      <td>2023-05-25 00:01:00</td>\n",
       "      <td>2023-05-25 00:03:00</td>\n",
       "      <td>2023-05-25 00:01:00</td>\n",
       "    </tr>\n",
       "    <tr>\n",
       "      <th>교제 및 참여활동</th>\n",
       "      <td>2023-05-25 00:53:00</td>\n",
       "      <td>2023-05-25 01:02:00</td>\n",
       "      <td>2023-05-25 01:13:00</td>\n",
       "    </tr>\n",
       "    <tr>\n",
       "      <th>문화 및 여가활동</th>\n",
       "      <td>2023-05-25 03:15:00</td>\n",
       "      <td>2023-05-25 05:33:00</td>\n",
       "      <td>2023-05-25 05:22:00</td>\n",
       "    </tr>\n",
       "    <tr>\n",
       "      <th>이동</th>\n",
       "      <td>2023-05-25 01:26:00</td>\n",
       "      <td>2023-05-25 01:15:00</td>\n",
       "      <td>2023-05-25 01:11:00</td>\n",
       "    </tr>\n",
       "    <tr>\n",
       "      <th rowspan=\"9\" valign=\"top\">20~29세(20대)</th>\n",
       "      <th>개인유지</th>\n",
       "      <td>2023-05-25 11:22:00</td>\n",
       "      <td>2023-05-25 12:17:00</td>\n",
       "      <td>2023-05-25 12:49:00</td>\n",
       "    </tr>\n",
       "    <tr>\n",
       "      <th>일</th>\n",
       "      <td>2023-05-25 04:03:00</td>\n",
       "      <td>2023-05-25 02:01:00</td>\n",
       "      <td>2023-05-25 01:23:00</td>\n",
       "    </tr>\n",
       "    <tr>\n",
       "      <th>학습</th>\n",
       "      <td>2023-05-25 01:55:00</td>\n",
       "      <td>2023-05-25 01:11:00</td>\n",
       "      <td>2023-05-25 01:09:00</td>\n",
       "    </tr>\n",
       "    <tr>\n",
       "      <th>가정관리</th>\n",
       "      <td>2023-05-25 00:42:00</td>\n",
       "      <td>2023-05-25 01:02:00</td>\n",
       "      <td>2023-05-25 01:03:00</td>\n",
       "    </tr>\n",
       "    <tr>\n",
       "      <th>가족 및 가구원 돌보기</th>\n",
       "      <td>2023-05-25 00:13:00</td>\n",
       "      <td>2023-05-25 00:11:00</td>\n",
       "      <td>2023-05-25 00:11:00</td>\n",
       "    </tr>\n",
       "    <tr>\n",
       "      <th>자원봉사 및 무급연수</th>\n",
       "      <td>2023-05-25 00:01:00</td>\n",
       "      <td>2023-05-25 00:02:00</td>\n",
       "      <td>2023-05-25 00:01:00</td>\n",
       "    </tr>\n",
       "    <tr>\n",
       "      <th>교제 및 참여활동</th>\n",
       "      <td>2023-05-25 00:55:00</td>\n",
       "      <td>2023-05-25 01:11:00</td>\n",
       "      <td>2023-05-25 01:25:00</td>\n",
       "    </tr>\n",
       "    <tr>\n",
       "      <th>문화 및 여가활동</th>\n",
       "      <td>2023-05-25 03:03:00</td>\n",
       "      <td>2023-05-25 04:24:00</td>\n",
       "      <td>2023-05-25 04:36:00</td>\n",
       "    </tr>\n",
       "    <tr>\n",
       "      <th>이동</th>\n",
       "      <td>2023-05-25 01:47:00</td>\n",
       "      <td>2023-05-25 01:41:00</td>\n",
       "      <td>2023-05-25 01:23:00</td>\n",
       "    </tr>\n",
       "    <tr>\n",
       "      <th rowspan=\"9\" valign=\"top\">30~39세(30대)</th>\n",
       "      <th>개인유지</th>\n",
       "      <td>2023-05-25 10:56:00</td>\n",
       "      <td>2023-05-25 12:17:00</td>\n",
       "      <td>2023-05-25 12:41:00</td>\n",
       "    </tr>\n",
       "    <tr>\n",
       "      <th>일</th>\n",
       "      <td>2023-05-25 05:21:00</td>\n",
       "      <td>2023-05-25 02:04:00</td>\n",
       "      <td>2023-05-25 01:18:00</td>\n",
       "    </tr>\n",
       "    <tr>\n",
       "      <th>학습</th>\n",
       "      <td>2023-05-25 00:15:00</td>\n",
       "      <td>2023-05-25 00:15:00</td>\n",
       "      <td>2023-05-25 00:14:00</td>\n",
       "    </tr>\n",
       "    <tr>\n",
       "      <th>가정관리</th>\n",
       "      <td>2023-05-25 01:22:00</td>\n",
       "      <td>2023-05-25 01:50:00</td>\n",
       "      <td>2023-05-25 01:52:00</td>\n",
       "    </tr>\n",
       "    <tr>\n",
       "      <th>가족 및 가구원 돌보기</th>\n",
       "      <td>2023-05-25 01:11:00</td>\n",
       "      <td>2023-05-25 01:12:00</td>\n",
       "      <td>2023-05-25 01:07:00</td>\n",
       "    </tr>\n",
       "    <tr>\n",
       "      <th>자원봉사 및 무급연수</th>\n",
       "      <td>2023-05-25 00:01:00</td>\n",
       "      <td>2023-05-25 00:02:00</td>\n",
       "      <td>2023-05-25 00:02:00</td>\n",
       "    </tr>\n",
       "    <tr>\n",
       "      <th>교제 및 참여활동</th>\n",
       "      <td>2023-05-25 00:39:00</td>\n",
       "      <td>2023-05-25 00:54:00</td>\n",
       "      <td>2023-05-25 01:05:00</td>\n",
       "    </tr>\n",
       "    <tr>\n",
       "      <th>문화 및 여가활동</th>\n",
       "      <td>2023-05-25 02:24:00</td>\n",
       "      <td>2023-05-25 03:46:00</td>\n",
       "      <td>2023-05-25 04:15:00</td>\n",
       "    </tr>\n",
       "    <tr>\n",
       "      <th>이동</th>\n",
       "      <td>2023-05-25 01:50:00</td>\n",
       "      <td>2023-05-25 01:40:00</td>\n",
       "      <td>2023-05-25 01:25:00</td>\n",
       "    </tr>\n",
       "    <tr>\n",
       "      <th rowspan=\"9\" valign=\"top\">40~49세(40대)</th>\n",
       "      <th>개인유지</th>\n",
       "      <td>2023-05-25 10:50:00</td>\n",
       "      <td>2023-05-25 11:59:00</td>\n",
       "      <td>2023-05-25 12:30:00</td>\n",
       "    </tr>\n",
       "    <tr>\n",
       "      <th>일</th>\n",
       "      <td>2023-05-25 05:29:00</td>\n",
       "      <td>2023-05-25 02:18:00</td>\n",
       "      <td>2023-05-25 01:27:00</td>\n",
       "    </tr>\n",
       "    <tr>\n",
       "      <th>학습</th>\n",
       "      <td>2023-05-25 00:09:00</td>\n",
       "      <td>2023-05-25 00:07:00</td>\n",
       "      <td>2023-05-25 00:06:00</td>\n",
       "    </tr>\n",
       "    <tr>\n",
       "      <th>가정관리</th>\n",
       "      <td>2023-05-25 01:40:00</td>\n",
       "      <td>2023-05-25 02:13:00</td>\n",
       "      <td>2023-05-25 02:16:00</td>\n",
       "    </tr>\n",
       "    <tr>\n",
       "      <th>가족 및 가구원 돌보기</th>\n",
       "      <td>2023-05-25 00:31:00</td>\n",
       "      <td>2023-05-25 00:32:00</td>\n",
       "      <td>2023-05-25 00:31:00</td>\n",
       "    </tr>\n",
       "    <tr>\n",
       "      <th>자원봉사 및 무급연수</th>\n",
       "      <td>2023-05-25 00:01:00</td>\n",
       "      <td>2023-05-25 00:02:00</td>\n",
       "      <td>2023-05-25 00:01:00</td>\n",
       "    </tr>\n",
       "    <tr>\n",
       "      <th>교제 및 참여활동</th>\n",
       "      <td>2023-05-25 00:45:00</td>\n",
       "      <td>2023-05-25 00:57:00</td>\n",
       "      <td>2023-05-25 01:07:00</td>\n",
       "    </tr>\n",
       "    <tr>\n",
       "      <th>문화 및 여가활동</th>\n",
       "      <td>2023-05-25 02:40:00</td>\n",
       "      <td>2023-05-25 04:10:00</td>\n",
       "      <td>2023-05-25 04:34:00</td>\n",
       "    </tr>\n",
       "    <tr>\n",
       "      <th>이동</th>\n",
       "      <td>2023-05-25 01:55:00</td>\n",
       "      <td>2023-05-25 01:43:00</td>\n",
       "      <td>2023-05-25 01:27:00</td>\n",
       "    </tr>\n",
       "    <tr>\n",
       "      <th rowspan=\"9\" valign=\"top\">50~59세(50대)</th>\n",
       "      <th>개인유지</th>\n",
       "      <td>2023-05-25 11:06:00</td>\n",
       "      <td>2023-05-25 11:39:00</td>\n",
       "      <td>2023-05-25 12:11:00</td>\n",
       "    </tr>\n",
       "    <tr>\n",
       "      <th>일</th>\n",
       "      <td>2023-05-25 05:03:00</td>\n",
       "      <td>2023-05-25 03:04:00</td>\n",
       "      <td>2023-05-25 01:49:00</td>\n",
       "    </tr>\n",
       "    <tr>\n",
       "      <th>학습</th>\n",
       "      <td>2023-05-25 00:05:00</td>\n",
       "      <td>2023-05-25 00:05:00</td>\n",
       "      <td>2023-05-25 00:05:00</td>\n",
       "    </tr>\n",
       "    <tr>\n",
       "      <th>가정관리</th>\n",
       "      <td>2023-05-25 01:46:00</td>\n",
       "      <td>2023-05-25 02:05:00</td>\n",
       "      <td>2023-05-25 02:12:00</td>\n",
       "    </tr>\n",
       "    <tr>\n",
       "      <th>가족 및 가구원 돌보기</th>\n",
       "      <td>2023-05-25 00:09:00</td>\n",
       "      <td>2023-05-25 00:07:00</td>\n",
       "      <td>2023-05-25 00:06:00</td>\n",
       "    </tr>\n",
       "    <tr>\n",
       "      <th>자원봉사 및 무급연수</th>\n",
       "      <td>2023-05-25 00:01:00</td>\n",
       "      <td>2023-05-25 00:02:00</td>\n",
       "      <td>2023-05-25 00:02:00</td>\n",
       "    </tr>\n",
       "    <tr>\n",
       "      <th>교제 및 참여활동</th>\n",
       "      <td>2023-05-25 00:51:00</td>\n",
       "      <td>2023-05-25 01:02:00</td>\n",
       "      <td>2023-05-25 01:22:00</td>\n",
       "    </tr>\n",
       "    <tr>\n",
       "      <th>문화 및 여가활동</th>\n",
       "      <td>2023-05-25 03:15:00</td>\n",
       "      <td>2023-05-25 04:13:00</td>\n",
       "      <td>2023-05-25 04:44:00</td>\n",
       "    </tr>\n",
       "    <tr>\n",
       "      <th>이동</th>\n",
       "      <td>2023-05-25 01:44:00</td>\n",
       "      <td>2023-05-25 01:43:00</td>\n",
       "      <td>2023-05-25 01:28:00</td>\n",
       "    </tr>\n",
       "    <tr>\n",
       "      <th rowspan=\"9\" valign=\"top\">60세이상</th>\n",
       "      <th>개인유지</th>\n",
       "      <td>2023-05-25 11:52:00</td>\n",
       "      <td>2023-05-25 12:07:00</td>\n",
       "      <td>2023-05-25 12:11:00</td>\n",
       "    </tr>\n",
       "    <tr>\n",
       "      <th>일</th>\n",
       "      <td>2023-05-25 02:19:00</td>\n",
       "      <td>2023-05-25 01:33:00</td>\n",
       "      <td>2023-05-25 01:15:00</td>\n",
       "    </tr>\n",
       "    <tr>\n",
       "      <th>학습</th>\n",
       "      <td>2023-05-25 00:03:00</td>\n",
       "      <td>2023-05-25 00:02:00</td>\n",
       "      <td>2023-05-25 00:02:00</td>\n",
       "    </tr>\n",
       "    <tr>\n",
       "      <th>가정관리</th>\n",
       "      <td>2023-05-25 02:07:00</td>\n",
       "      <td>2023-05-25 02:17:00</td>\n",
       "      <td>2023-05-25 02:09:00</td>\n",
       "    </tr>\n",
       "    <tr>\n",
       "      <th>가족 및 가구원 돌보기</th>\n",
       "      <td>2023-05-25 00:10:00</td>\n",
       "      <td>2023-05-25 00:07:00</td>\n",
       "      <td>2023-05-25 00:06:00</td>\n",
       "    </tr>\n",
       "    <tr>\n",
       "      <th>자원봉사 및 무급연수</th>\n",
       "      <td>2023-05-25 00:03:00</td>\n",
       "      <td>2023-05-25 00:02:00</td>\n",
       "      <td>2023-05-25 00:02:00</td>\n",
       "    </tr>\n",
       "    <tr>\n",
       "      <th>교제 및 참여활동</th>\n",
       "      <td>2023-05-25 01:11:00</td>\n",
       "      <td>2023-05-25 01:19:00</td>\n",
       "      <td>2023-05-25 01:41:00</td>\n",
       "    </tr>\n",
       "    <tr>\n",
       "      <th>문화 및 여가활동</th>\n",
       "      <td>2023-05-25 04:54:00</td>\n",
       "      <td>2023-05-25 05:20:00</td>\n",
       "      <td>2023-05-25 05:27:00</td>\n",
       "    </tr>\n",
       "    <tr>\n",
       "      <th>이동</th>\n",
       "      <td>2023-05-25 01:22:00</td>\n",
       "      <td>2023-05-25 01:13:00</td>\n",
       "      <td>2023-05-25 01:09:00</td>\n",
       "    </tr>\n",
       "  </tbody>\n",
       "</table>\n",
       "</div>"
      ],
      "text/plain": [
       "                                          평일                 토요일   \n",
       "연령대별        행동분류별                                                  \n",
       "10~19세(10대) 개인유지         2023-05-25 11:17:00 2023-05-25 12:46:00  \\\n",
       "            일            2023-05-25 00:15:00 2023-05-25 00:18:00   \n",
       "            학습           2023-05-25 06:38:00 2023-05-25 02:32:00   \n",
       "            가정관리         2023-05-25 00:14:00 2023-05-25 00:29:00   \n",
       "            가족 및 가구원 돌보기 2023-05-25 00:01:00 2023-05-25 00:02:00   \n",
       "            자원봉사 및 무급연수  2023-05-25 00:01:00 2023-05-25 00:03:00   \n",
       "            교제 및 참여활동    2023-05-25 00:53:00 2023-05-25 01:02:00   \n",
       "            문화 및 여가활동    2023-05-25 03:15:00 2023-05-25 05:33:00   \n",
       "            이동           2023-05-25 01:26:00 2023-05-25 01:15:00   \n",
       "20~29세(20대) 개인유지         2023-05-25 11:22:00 2023-05-25 12:17:00   \n",
       "            일            2023-05-25 04:03:00 2023-05-25 02:01:00   \n",
       "            학습           2023-05-25 01:55:00 2023-05-25 01:11:00   \n",
       "            가정관리         2023-05-25 00:42:00 2023-05-25 01:02:00   \n",
       "            가족 및 가구원 돌보기 2023-05-25 00:13:00 2023-05-25 00:11:00   \n",
       "            자원봉사 및 무급연수  2023-05-25 00:01:00 2023-05-25 00:02:00   \n",
       "            교제 및 참여활동    2023-05-25 00:55:00 2023-05-25 01:11:00   \n",
       "            문화 및 여가활동    2023-05-25 03:03:00 2023-05-25 04:24:00   \n",
       "            이동           2023-05-25 01:47:00 2023-05-25 01:41:00   \n",
       "30~39세(30대) 개인유지         2023-05-25 10:56:00 2023-05-25 12:17:00   \n",
       "            일            2023-05-25 05:21:00 2023-05-25 02:04:00   \n",
       "            학습           2023-05-25 00:15:00 2023-05-25 00:15:00   \n",
       "            가정관리         2023-05-25 01:22:00 2023-05-25 01:50:00   \n",
       "            가족 및 가구원 돌보기 2023-05-25 01:11:00 2023-05-25 01:12:00   \n",
       "            자원봉사 및 무급연수  2023-05-25 00:01:00 2023-05-25 00:02:00   \n",
       "            교제 및 참여활동    2023-05-25 00:39:00 2023-05-25 00:54:00   \n",
       "            문화 및 여가활동    2023-05-25 02:24:00 2023-05-25 03:46:00   \n",
       "            이동           2023-05-25 01:50:00 2023-05-25 01:40:00   \n",
       "40~49세(40대) 개인유지         2023-05-25 10:50:00 2023-05-25 11:59:00   \n",
       "            일            2023-05-25 05:29:00 2023-05-25 02:18:00   \n",
       "            학습           2023-05-25 00:09:00 2023-05-25 00:07:00   \n",
       "            가정관리         2023-05-25 01:40:00 2023-05-25 02:13:00   \n",
       "            가족 및 가구원 돌보기 2023-05-25 00:31:00 2023-05-25 00:32:00   \n",
       "            자원봉사 및 무급연수  2023-05-25 00:01:00 2023-05-25 00:02:00   \n",
       "            교제 및 참여활동    2023-05-25 00:45:00 2023-05-25 00:57:00   \n",
       "            문화 및 여가활동    2023-05-25 02:40:00 2023-05-25 04:10:00   \n",
       "            이동           2023-05-25 01:55:00 2023-05-25 01:43:00   \n",
       "50~59세(50대) 개인유지         2023-05-25 11:06:00 2023-05-25 11:39:00   \n",
       "            일            2023-05-25 05:03:00 2023-05-25 03:04:00   \n",
       "            학습           2023-05-25 00:05:00 2023-05-25 00:05:00   \n",
       "            가정관리         2023-05-25 01:46:00 2023-05-25 02:05:00   \n",
       "            가족 및 가구원 돌보기 2023-05-25 00:09:00 2023-05-25 00:07:00   \n",
       "            자원봉사 및 무급연수  2023-05-25 00:01:00 2023-05-25 00:02:00   \n",
       "            교제 및 참여활동    2023-05-25 00:51:00 2023-05-25 01:02:00   \n",
       "            문화 및 여가활동    2023-05-25 03:15:00 2023-05-25 04:13:00   \n",
       "            이동           2023-05-25 01:44:00 2023-05-25 01:43:00   \n",
       "60세이상       개인유지         2023-05-25 11:52:00 2023-05-25 12:07:00   \n",
       "            일            2023-05-25 02:19:00 2023-05-25 01:33:00   \n",
       "            학습           2023-05-25 00:03:00 2023-05-25 00:02:00   \n",
       "            가정관리         2023-05-25 02:07:00 2023-05-25 02:17:00   \n",
       "            가족 및 가구원 돌보기 2023-05-25 00:10:00 2023-05-25 00:07:00   \n",
       "            자원봉사 및 무급연수  2023-05-25 00:03:00 2023-05-25 00:02:00   \n",
       "            교제 및 참여활동    2023-05-25 01:11:00 2023-05-25 01:19:00   \n",
       "            문화 및 여가활동    2023-05-25 04:54:00 2023-05-25 05:20:00   \n",
       "            이동           2023-05-25 01:22:00 2023-05-25 01:13:00   \n",
       "\n",
       "                                         일요일  \n",
       "연령대별        행동분류별                             \n",
       "10~19세(10대) 개인유지         2023-05-25 13:03:00  \n",
       "            일            2023-05-25 00:13:00  \n",
       "            학습           2023-05-25 02:19:00  \n",
       "            가정관리         2023-05-25 00:35:00  \n",
       "            가족 및 가구원 돌보기 2023-05-25 00:01:00  \n",
       "            자원봉사 및 무급연수  2023-05-25 00:01:00  \n",
       "            교제 및 참여활동    2023-05-25 01:13:00  \n",
       "            문화 및 여가활동    2023-05-25 05:22:00  \n",
       "            이동           2023-05-25 01:11:00  \n",
       "20~29세(20대) 개인유지         2023-05-25 12:49:00  \n",
       "            일            2023-05-25 01:23:00  \n",
       "            학습           2023-05-25 01:09:00  \n",
       "            가정관리         2023-05-25 01:03:00  \n",
       "            가족 및 가구원 돌보기 2023-05-25 00:11:00  \n",
       "            자원봉사 및 무급연수  2023-05-25 00:01:00  \n",
       "            교제 및 참여활동    2023-05-25 01:25:00  \n",
       "            문화 및 여가활동    2023-05-25 04:36:00  \n",
       "            이동           2023-05-25 01:23:00  \n",
       "30~39세(30대) 개인유지         2023-05-25 12:41:00  \n",
       "            일            2023-05-25 01:18:00  \n",
       "            학습           2023-05-25 00:14:00  \n",
       "            가정관리         2023-05-25 01:52:00  \n",
       "            가족 및 가구원 돌보기 2023-05-25 01:07:00  \n",
       "            자원봉사 및 무급연수  2023-05-25 00:02:00  \n",
       "            교제 및 참여활동    2023-05-25 01:05:00  \n",
       "            문화 및 여가활동    2023-05-25 04:15:00  \n",
       "            이동           2023-05-25 01:25:00  \n",
       "40~49세(40대) 개인유지         2023-05-25 12:30:00  \n",
       "            일            2023-05-25 01:27:00  \n",
       "            학습           2023-05-25 00:06:00  \n",
       "            가정관리         2023-05-25 02:16:00  \n",
       "            가족 및 가구원 돌보기 2023-05-25 00:31:00  \n",
       "            자원봉사 및 무급연수  2023-05-25 00:01:00  \n",
       "            교제 및 참여활동    2023-05-25 01:07:00  \n",
       "            문화 및 여가활동    2023-05-25 04:34:00  \n",
       "            이동           2023-05-25 01:27:00  \n",
       "50~59세(50대) 개인유지         2023-05-25 12:11:00  \n",
       "            일            2023-05-25 01:49:00  \n",
       "            학습           2023-05-25 00:05:00  \n",
       "            가정관리         2023-05-25 02:12:00  \n",
       "            가족 및 가구원 돌보기 2023-05-25 00:06:00  \n",
       "            자원봉사 및 무급연수  2023-05-25 00:02:00  \n",
       "            교제 및 참여활동    2023-05-25 01:22:00  \n",
       "            문화 및 여가활동    2023-05-25 04:44:00  \n",
       "            이동           2023-05-25 01:28:00  \n",
       "60세이상       개인유지         2023-05-25 12:11:00  \n",
       "            일            2023-05-25 01:15:00  \n",
       "            학습           2023-05-25 00:02:00  \n",
       "            가정관리         2023-05-25 02:09:00  \n",
       "            가족 및 가구원 돌보기 2023-05-25 00:06:00  \n",
       "            자원봉사 및 무급연수  2023-05-25 00:02:00  \n",
       "            교제 및 참여활동    2023-05-25 01:41:00  \n",
       "            문화 및 여가활동    2023-05-25 05:27:00  \n",
       "            이동           2023-05-25 01:09:00  "
      ]
     },
     "execution_count": 80,
     "metadata": {},
     "output_type": "execute_result"
    }
   ],
   "source": [
    "# 모든 컬럼의 dtype을 datetime64[ns]으로 변경\n",
    "people_activate = people_activate.astype('datetime64[ns]')\n",
    "people_activate"
   ]
  },
  {
   "cell_type": "markdown",
   "id": "0b207bb7",
   "metadata": {},
   "source": [
    "# 가설 검증\n",
    "- 나이대별 평일과 주말의 장소 이용 시간대를 분석해 혼잡한 시간을 피해 이용할 수 있게 데이터를 제공"
   ]
  },
  {
   "cell_type": "markdown",
   "id": "f8c47a33",
   "metadata": {},
   "source": [
    "## 주말에 문화 및 여가활동을 가장 많이 하는 나이대는 2030대일 것이다.\n",
    "- people_activate"
   ]
  },
  {
   "cell_type": "code",
   "execution_count": 121,
   "id": "bab8ed72",
   "metadata": {},
   "outputs": [
    {
     "data": {
      "text/html": [
       "<div>\n",
       "<style scoped>\n",
       "    .dataframe tbody tr th:only-of-type {\n",
       "        vertical-align: middle;\n",
       "    }\n",
       "\n",
       "    .dataframe tbody tr th {\n",
       "        vertical-align: top;\n",
       "    }\n",
       "\n",
       "    .dataframe thead th {\n",
       "        text-align: right;\n",
       "    }\n",
       "</style>\n",
       "<table border=\"1\" class=\"dataframe\">\n",
       "  <thead>\n",
       "    <tr style=\"text-align: right;\">\n",
       "      <th></th>\n",
       "      <th></th>\n",
       "      <th>평일</th>\n",
       "      <th>토요일</th>\n",
       "      <th>일요일</th>\n",
       "    </tr>\n",
       "    <tr>\n",
       "      <th>연령대별</th>\n",
       "      <th>행동분류별</th>\n",
       "      <th></th>\n",
       "      <th></th>\n",
       "      <th></th>\n",
       "    </tr>\n",
       "  </thead>\n",
       "  <tbody>\n",
       "    <tr>\n",
       "      <th>10~19세(10대)</th>\n",
       "      <th>문화 및 여가활동</th>\n",
       "      <td>2023-05-25 03:15:00</td>\n",
       "      <td>2023-05-25 05:33:00</td>\n",
       "      <td>2023-05-25 05:22:00</td>\n",
       "    </tr>\n",
       "    <tr>\n",
       "      <th>20~29세(20대)</th>\n",
       "      <th>문화 및 여가활동</th>\n",
       "      <td>2023-05-25 03:03:00</td>\n",
       "      <td>2023-05-25 04:24:00</td>\n",
       "      <td>2023-05-25 04:36:00</td>\n",
       "    </tr>\n",
       "    <tr>\n",
       "      <th>30~39세(30대)</th>\n",
       "      <th>문화 및 여가활동</th>\n",
       "      <td>2023-05-25 02:24:00</td>\n",
       "      <td>2023-05-25 03:46:00</td>\n",
       "      <td>2023-05-25 04:15:00</td>\n",
       "    </tr>\n",
       "    <tr>\n",
       "      <th>40~49세(40대)</th>\n",
       "      <th>문화 및 여가활동</th>\n",
       "      <td>2023-05-25 02:40:00</td>\n",
       "      <td>2023-05-25 04:10:00</td>\n",
       "      <td>2023-05-25 04:34:00</td>\n",
       "    </tr>\n",
       "    <tr>\n",
       "      <th>50~59세(50대)</th>\n",
       "      <th>문화 및 여가활동</th>\n",
       "      <td>2023-05-25 03:15:00</td>\n",
       "      <td>2023-05-25 04:13:00</td>\n",
       "      <td>2023-05-25 04:44:00</td>\n",
       "    </tr>\n",
       "    <tr>\n",
       "      <th>60세이상</th>\n",
       "      <th>문화 및 여가활동</th>\n",
       "      <td>2023-05-25 04:54:00</td>\n",
       "      <td>2023-05-25 05:20:00</td>\n",
       "      <td>2023-05-25 05:27:00</td>\n",
       "    </tr>\n",
       "  </tbody>\n",
       "</table>\n",
       "</div>"
      ],
      "text/plain": [
       "                                       평일                 토요일   \n",
       "연령대별        행동분류별                                               \n",
       "10~19세(10대) 문화 및 여가활동 2023-05-25 03:15:00 2023-05-25 05:33:00  \\\n",
       "20~29세(20대) 문화 및 여가활동 2023-05-25 03:03:00 2023-05-25 04:24:00   \n",
       "30~39세(30대) 문화 및 여가활동 2023-05-25 02:24:00 2023-05-25 03:46:00   \n",
       "40~49세(40대) 문화 및 여가활동 2023-05-25 02:40:00 2023-05-25 04:10:00   \n",
       "50~59세(50대) 문화 및 여가활동 2023-05-25 03:15:00 2023-05-25 04:13:00   \n",
       "60세이상       문화 및 여가활동 2023-05-25 04:54:00 2023-05-25 05:20:00   \n",
       "\n",
       "                                      일요일  \n",
       "연령대별        행동분류별                          \n",
       "10~19세(10대) 문화 및 여가활동 2023-05-25 05:22:00  \n",
       "20~29세(20대) 문화 및 여가활동 2023-05-25 04:36:00  \n",
       "30~39세(30대) 문화 및 여가활동 2023-05-25 04:15:00  \n",
       "40~49세(40대) 문화 및 여가활동 2023-05-25 04:34:00  \n",
       "50~59세(50대) 문화 및 여가활동 2023-05-25 04:44:00  \n",
       "60세이상       문화 및 여가활동 2023-05-25 05:27:00  "
      ]
     },
     "execution_count": 121,
     "metadata": {},
     "output_type": "execute_result"
    }
   ],
   "source": [
    "people_activate.iloc[7::9]"
   ]
  },
  {
   "cell_type": "code",
   "execution_count": 120,
   "id": "7e2c31aa",
   "metadata": {},
   "outputs": [
    {
     "data": {
      "image/png": "[encoded data removed]",
      "text/plain": [
       "<Figure size 640x480 with 1 Axes>"
      ]
     },
     "metadata": {},
     "output_type": "display_data"
    }
   ],
   "source": [
    "fig = people_activate.iloc[7::9].T.plot()"
   ]
  },
  {
   "cell_type": "markdown",
   "id": "3a37b602",
   "metadata": {},
   "source": [
    "- 토요일에 여가활동을 가장 많이 하는 나이대는 5시간 33분으로 10대가 가장 높았고, 다음으로 5시간 20분으로 60세이상이 높았다. 가장 높을 것이라 예상한 20대의 여과활동시간은 4시간 24분으로 3번째에 위치했다.\n",
    "<br><br>\n",
    "- 일요일에 여가활동을 가장 많이 하는 나이대는 5시간 27분으로 60세이상이 가장 높았고, 다음으로 5시간 22분으로 10대가 높았다. 가장 높을 것이라 예상한 20대의 여과활동시간은 4시간 36분으로 4시간 44분 여가활동을 하는 50대 다음으로 높은 4번째에 위치했다."
   ]
  },
  {
   "cell_type": "code",
   "execution_count": null,
   "id": "46110bc4",
   "metadata": {
    "scrolled": true
   },
   "outputs": [],
   "source": [
    "people_activate.loc['10~19세(10대)']"
   ]
  },
  {
   "cell_type": "code",
   "execution_count": null,
   "id": "4e4200a7",
   "metadata": {},
   "outputs": [],
   "source": [
    "people_activate.iloc[7::9,3::3]"
   ]
  },
  {
   "cell_type": "code",
   "execution_count": null,
   "id": "feb2791f",
   "metadata": {},
   "outputs": [],
   "source": [
    "\n",
    "people_activate.plot(\n",
    "    x=\n",
    ")"
   ]
  },
  {
   "cell_type": "code",
   "execution_count": null,
   "id": "83c3496c",
   "metadata": {},
   "outputs": [],
   "source": [
    "# 장소별 요일별 시간별 데이터 추출\n",
    "s_loc_df = place_df.sort_values(by=['장소', '수집일시'])\n",
    "loc_weekend = s_loc_df[s_loc_df.수집일시.dt.day < 22][['수집일시', '장소', '인구수']].reset_index(drop=True)\n",
    "loc_week = s_loc_df[s_loc_df.수집일시.dt.day >= 22][['수집일시', '장소', '인구수']].reset_index(drop=True)"
   ]
  },
  {
   "cell_type": "code",
   "execution_count": null,
   "id": "fd5c5e10",
   "metadata": {
    "scrolled": true
   },
   "outputs": [],
   "source": [
    "loc_weekend.tail()"
   ]
  },
  {
   "cell_type": "markdown",
   "id": "a2472f75",
   "metadata": {},
   "source": [
    "## 주말에 10대가 가장 많이 이용하는 장소는 관광특구인 강남일 것이다."
   ]
  },
  {
   "cell_type": "code",
   "execution_count": null,
   "id": "82f8239a",
   "metadata": {
    "scrolled": true
   },
   "outputs": [],
   "source": [
    "loc_week.tail()"
   ]
  },
  {
   "cell_type": "code",
   "execution_count": null,
   "id": "45f7c8dc",
   "metadata": {},
   "outputs": [],
   "source": [
    "# 주말의 시간별 인구 증감률 컬럼 추가\n",
    "loc_weekend['인구증감률'] = loc_weekend.인구수 - loc_weekend.인구수.shift()\n",
    "loc_weekend[:5]"
   ]
  },
  {
   "cell_type": "code",
   "execution_count": null,
   "id": "127624e0",
   "metadata": {
    "scrolled": false
   },
   "outputs": [],
   "source": [
    "# 결측치 처리, dtype 변경\n",
    "loc_weekend.인구증감률 = loc_weekend.인구증감률.fillna(0).astype(int)\n",
    "loc_weekend[:5]"
   ]
  },
  {
   "cell_type": "code",
   "execution_count": null,
   "id": "d95f6598",
   "metadata": {},
   "outputs": [],
   "source": [
    "# 평일의 시간별 인구 증감률 컬럼 추가\n",
    "loc_week['인구증감률'] = loc_week.인구수 - loc_week.인구수.shift()\n",
    "loc_week[:5]"
   ]
  },
  {
   "cell_type": "code",
   "execution_count": null,
   "id": "d19e71b0",
   "metadata": {
    "scrolled": false
   },
   "outputs": [],
   "source": [
    "# 결측치 처리, dtype 변경\n",
    "loc_week.인구증감률 = loc_week.인구증감률.fillna(0).astype(int)\n",
    "loc_week[:5]"
   ]
  },
  {
   "cell_type": "code",
   "execution_count": null,
   "id": "378ef572",
   "metadata": {},
   "outputs": [],
   "source": []
  },
  {
   "cell_type": "code",
   "execution_count": null,
   "id": "f0c6ca39",
   "metadata": {},
   "outputs": [],
   "source": []
  },
  {
   "cell_type": "markdown",
   "id": "dd7a119b",
   "metadata": {},
   "source": [
    "## 가설 3. 평일에 가장 많이 활동하는 나이대는 2030대일 것이다."
   ]
  },
  {
   "cell_type": "code",
   "execution_count": null,
   "id": "a665ea35",
   "metadata": {},
   "outputs": [],
   "source": []
  },
  {
   "cell_type": "markdown",
   "id": "16bc2b98",
   "metadata": {},
   "source": [
    "## 가설 4. 평일에 2030대가 가장 많이 이용하는 장소는 역삼일 것이다."
   ]
  },
  {
   "cell_type": "code",
   "execution_count": null,
   "id": "95d00ffe",
   "metadata": {},
   "outputs": [],
   "source": []
  },
  {
   "cell_type": "code",
   "execution_count": null,
   "id": "1ad9986f",
   "metadata": {},
   "outputs": [],
   "source": []
  },
  {
   "cell_type": "code",
   "execution_count": null,
   "id": "0932a19d",
   "metadata": {},
   "outputs": [],
   "source": []
  },
  {
   "cell_type": "code",
   "execution_count": null,
   "id": "a3f2324c",
   "metadata": {},
   "outputs": [],
   "source": []
  }
 ],
 "metadata": {
  "kernelspec": {
   "display_name": "ex_kernel",
   "language": "python",
   "name": "ex"
  },
  "language_info": {
   "codemirror_mode": {
    "name": "ipython",
    "version": 3
   },
   "file_extension": ".py",
   "mimetype": "text/x-python",
   "name": "python",
   "nbconvert_exporter": "python",
   "pygments_lexer": "ipython3",
   "version": "3.8.10"
  },
  "toc": {
   "base_numbering": 1,
   "nav_menu": {},
   "number_sections": true,
   "sideBar": true,
   "skip_h1_title": false,
   "title_cell": "Table of Contents",
   "title_sidebar": "Contents",
   "toc_cell": false,
   "toc_position": {
    "height": "calc(100% - 180px)",
    "left": "10px",
    "top": "150px",
    "width": "245px"
   },
   "toc_section_display": true,
   "toc_window_display": true
  }
 },
 "nbformat": 4,
 "nbformat_minor": 5
}
