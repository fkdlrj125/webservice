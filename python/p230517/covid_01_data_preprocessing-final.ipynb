{
 "cells": [
  {
   "cell_type": "code",
   "execution_count": 1,
   "id": "c7f8648d",
   "metadata": {},
   "outputs": [],
   "source": [
    "import pandas as pd\n",
    "import matplotlib.pyplot as plt\n",
    "import seaborn as sns\n",
    "import json\n",
    "from pandas import DataFrame"
   ]
  },
  {
   "cell_type": "markdown",
   "id": "8ad21583",
   "metadata": {},
   "source": [
    "# covid19.json 파일 읽어오기"
   ]
  },
  {
   "cell_type": "code",
   "execution_count": 2,
   "id": "93041d32",
   "metadata": {},
   "outputs": [],
   "source": [
    "# covid19.json 파일 읽어오기\n",
    "with open('covid19.json', 'r') as file:\n",
    "    covid = json.load(file)"
   ]
  },
  {
   "cell_type": "markdown",
   "id": "6e2c0eae",
   "metadata": {},
   "source": [
    "# DataFrame 생성"
   ]
  },
  {
   "cell_type": "code",
   "execution_count": 3,
   "id": "d7abce52",
   "metadata": {
    "scrolled": true
   },
   "outputs": [
    {
     "data": {
      "text/html": [
       "<div>\n",
       "<style scoped>\n",
       "    .dataframe tbody tr th:only-of-type {\n",
       "        vertical-align: middle;\n",
       "    }\n",
       "\n",
       "    .dataframe tbody tr th {\n",
       "        vertical-align: top;\n",
       "    }\n",
       "\n",
       "    .dataframe thead th {\n",
       "        text-align: right;\n",
       "    }\n",
       "</style>\n",
       "<table border=\"1\" class=\"dataframe\">\n",
       "  <thead>\n",
       "    <tr style=\"text-align: right;\">\n",
       "      <th></th>\n",
       "      <th>accExamCnt</th>\n",
       "      <th>createDt</th>\n",
       "      <th>deathCnt</th>\n",
       "      <th>decideCnt</th>\n",
       "      <th>seq</th>\n",
       "      <th>stateDt</th>\n",
       "      <th>stateTime</th>\n",
       "      <th>updateDt</th>\n",
       "      <th>accDefRate</th>\n",
       "    </tr>\n",
       "  </thead>\n",
       "  <tbody>\n",
       "    <tr>\n",
       "      <th>0</th>\n",
       "      <td>21518073</td>\n",
       "      <td>2022-01-31 09:22:37.347</td>\n",
       "      <td>6755</td>\n",
       "      <td>845688</td>\n",
       "      <td>775</td>\n",
       "      <td>20220131</td>\n",
       "      <td>00:00</td>\n",
       "      <td>2022-02-07 09:06:04.861</td>\n",
       "      <td>NaN</td>\n",
       "    </tr>\n",
       "    <tr>\n",
       "      <th>1</th>\n",
       "      <td>21448119</td>\n",
       "      <td>2022-01-30 09:13:00.269</td>\n",
       "      <td>6732</td>\n",
       "      <td>828611</td>\n",
       "      <td>774</td>\n",
       "      <td>20220130</td>\n",
       "      <td>00:00</td>\n",
       "      <td>2022-02-07 09:05:54.937</td>\n",
       "      <td>NaN</td>\n",
       "    </tr>\n",
       "    <tr>\n",
       "      <th>2</th>\n",
       "      <td>21377393</td>\n",
       "      <td>2022-01-29 08:46:05.752</td>\n",
       "      <td>6712</td>\n",
       "      <td>811089</td>\n",
       "      <td>773</td>\n",
       "      <td>20220129</td>\n",
       "      <td>00:00</td>\n",
       "      <td>2022-02-04 08:59:02.84</td>\n",
       "      <td>NaN</td>\n",
       "    </tr>\n",
       "    <tr>\n",
       "      <th>3</th>\n",
       "      <td>21269304</td>\n",
       "      <td>2022-01-28 09:04:52.588</td>\n",
       "      <td>6678</td>\n",
       "      <td>793576</td>\n",
       "      <td>772</td>\n",
       "      <td>20220128</td>\n",
       "      <td>00:00</td>\n",
       "      <td>2022-02-04 08:58:55.443</td>\n",
       "      <td>NaN</td>\n",
       "    </tr>\n",
       "    <tr>\n",
       "      <th>4</th>\n",
       "      <td>21196354</td>\n",
       "      <td>2022-01-27 09:04:10.687</td>\n",
       "      <td>6654</td>\n",
       "      <td>777483</td>\n",
       "      <td>771</td>\n",
       "      <td>20220127</td>\n",
       "      <td>00:00</td>\n",
       "      <td>2022-02-02 09:05:52.264</td>\n",
       "      <td>NaN</td>\n",
       "    </tr>\n",
       "  </tbody>\n",
       "</table>\n",
       "</div>"
      ],
      "text/plain": [
       "  accExamCnt                 createDt deathCnt decideCnt  seq   stateDt   \n",
       "0   21518073  2022-01-31 09:22:37.347     6755    845688  775  20220131  \\\n",
       "1   21448119  2022-01-30 09:13:00.269     6732    828611  774  20220130   \n",
       "2   21377393  2022-01-29 08:46:05.752     6712    811089  773  20220129   \n",
       "3   21269304  2022-01-28 09:04:52.588     6678    793576  772  20220128   \n",
       "4   21196354  2022-01-27 09:04:10.687     6654    777483  771  20220127   \n",
       "\n",
       "  stateTime                 updateDt accDefRate  \n",
       "0     00:00  2022-02-07 09:06:04.861        NaN  \n",
       "1     00:00  2022-02-07 09:05:54.937        NaN  \n",
       "2     00:00   2022-02-04 08:59:02.84        NaN  \n",
       "3     00:00  2022-02-04 08:58:55.443        NaN  \n",
       "4     00:00  2022-02-02 09:05:52.264        NaN  "
      ]
     },
     "execution_count": 3,
     "metadata": {},
     "output_type": "execute_result"
    }
   ],
   "source": [
    "covid_item = covid['response']['body']['items']['item']\n",
    "covid_df = DataFrame(covid_item)\n",
    "covid_df.head()"
   ]
  },
  {
   "cell_type": "markdown",
   "id": "a78f1262",
   "metadata": {},
   "source": [
    "# 데이터 분석"
   ]
  },
  {
   "cell_type": "code",
   "execution_count": 4,
   "id": "fac76165",
   "metadata": {},
   "outputs": [
    {
     "data": {
      "text/plain": [
       "(742, 9)"
      ]
     },
     "execution_count": 4,
     "metadata": {},
     "output_type": "execute_result"
    }
   ],
   "source": [
    "# 행과 열 정보\n",
    "covid_df.shape"
   ]
  },
  {
   "cell_type": "code",
   "execution_count": 5,
   "id": "f25acad1",
   "metadata": {},
   "outputs": [
    {
     "name": "stdout",
     "output_type": "stream",
     "text": [
      "<class 'pandas.core.frame.DataFrame'>\n",
      "RangeIndex: 742 entries, 0 to 741\n",
      "Data columns (total 9 columns):\n",
      " #   Column      Non-Null Count  Dtype \n",
      "---  ------      --------------  ----- \n",
      " 0   accExamCnt  742 non-null    object\n",
      " 1   createDt    742 non-null    object\n",
      " 2   deathCnt    742 non-null    object\n",
      " 3   decideCnt   742 non-null    object\n",
      " 4   seq         742 non-null    object\n",
      " 5   stateDt     742 non-null    object\n",
      " 6   stateTime   742 non-null    object\n",
      " 7   updateDt    741 non-null    object\n",
      " 8   accDefRate  673 non-null    object\n",
      "dtypes: object(9)\n",
      "memory usage: 52.3+ KB\n"
     ]
    }
   ],
   "source": [
    "# 전체 정보 : dtype\n",
    "covid_df.info()"
   ]
  },
  {
   "cell_type": "code",
   "execution_count": 6,
   "id": "837e57c4",
   "metadata": {},
   "outputs": [
    {
     "data": {
      "text/plain": [
       "accExamCnt     0\n",
       "createDt       0\n",
       "deathCnt       0\n",
       "decideCnt      0\n",
       "seq            0\n",
       "stateDt        0\n",
       "stateTime      0\n",
       "updateDt       1\n",
       "accDefRate    69\n",
       "dtype: int64"
      ]
     },
     "execution_count": 6,
     "metadata": {},
     "output_type": "execute_result"
    }
   ],
   "source": [
    "# 결측치 개수\n",
    "covid_df.isna().sum()"
   ]
  },
  {
   "cell_type": "markdown",
   "id": "c1739121",
   "metadata": {},
   "source": [
    "# 전처리"
   ]
  },
  {
   "cell_type": "markdown",
   "id": "53cf46e2",
   "metadata": {},
   "source": [
    "## 필요 없는 컬럼 삭제"
   ]
  },
  {
   "cell_type": "code",
   "execution_count": 7,
   "id": "edf6936c",
   "metadata": {
    "scrolled": true
   },
   "outputs": [
    {
     "data": {
      "text/html": [
       "<div>\n",
       "<style scoped>\n",
       "    .dataframe tbody tr th:only-of-type {\n",
       "        vertical-align: middle;\n",
       "    }\n",
       "\n",
       "    .dataframe tbody tr th {\n",
       "        vertical-align: top;\n",
       "    }\n",
       "\n",
       "    .dataframe thead th {\n",
       "        text-align: right;\n",
       "    }\n",
       "</style>\n",
       "<table border=\"1\" class=\"dataframe\">\n",
       "  <thead>\n",
       "    <tr style=\"text-align: right;\">\n",
       "      <th></th>\n",
       "      <th>accExamCnt</th>\n",
       "      <th>deathCnt</th>\n",
       "      <th>decideCnt</th>\n",
       "      <th>stateDt</th>\n",
       "    </tr>\n",
       "  </thead>\n",
       "  <tbody>\n",
       "    <tr>\n",
       "      <th>0</th>\n",
       "      <td>21518073</td>\n",
       "      <td>6755</td>\n",
       "      <td>845688</td>\n",
       "      <td>20220131</td>\n",
       "    </tr>\n",
       "    <tr>\n",
       "      <th>1</th>\n",
       "      <td>21448119</td>\n",
       "      <td>6732</td>\n",
       "      <td>828611</td>\n",
       "      <td>20220130</td>\n",
       "    </tr>\n",
       "    <tr>\n",
       "      <th>2</th>\n",
       "      <td>21377393</td>\n",
       "      <td>6712</td>\n",
       "      <td>811089</td>\n",
       "      <td>20220129</td>\n",
       "    </tr>\n",
       "    <tr>\n",
       "      <th>3</th>\n",
       "      <td>21269304</td>\n",
       "      <td>6678</td>\n",
       "      <td>793576</td>\n",
       "      <td>20220128</td>\n",
       "    </tr>\n",
       "    <tr>\n",
       "      <th>4</th>\n",
       "      <td>21196354</td>\n",
       "      <td>6654</td>\n",
       "      <td>777483</td>\n",
       "      <td>20220127</td>\n",
       "    </tr>\n",
       "    <tr>\n",
       "      <th>...</th>\n",
       "      <td>...</td>\n",
       "      <td>...</td>\n",
       "      <td>...</td>\n",
       "      <td>...</td>\n",
       "    </tr>\n",
       "    <tr>\n",
       "      <th>737</th>\n",
       "      <td>29</td>\n",
       "      <td>0</td>\n",
       "      <td>2</td>\n",
       "      <td>20200124</td>\n",
       "    </tr>\n",
       "    <tr>\n",
       "      <th>738</th>\n",
       "      <td>25</td>\n",
       "      <td>0</td>\n",
       "      <td>1</td>\n",
       "      <td>20200123</td>\n",
       "    </tr>\n",
       "    <tr>\n",
       "      <th>739</th>\n",
       "      <td>21</td>\n",
       "      <td>0</td>\n",
       "      <td>1</td>\n",
       "      <td>20200122</td>\n",
       "    </tr>\n",
       "    <tr>\n",
       "      <th>740</th>\n",
       "      <td>15</td>\n",
       "      <td>0</td>\n",
       "      <td>1</td>\n",
       "      <td>20200121</td>\n",
       "    </tr>\n",
       "    <tr>\n",
       "      <th>741</th>\n",
       "      <td>4</td>\n",
       "      <td>0</td>\n",
       "      <td>1</td>\n",
       "      <td>20200120</td>\n",
       "    </tr>\n",
       "  </tbody>\n",
       "</table>\n",
       "<p>742 rows × 4 columns</p>\n",
       "</div>"
      ],
      "text/plain": [
       "    accExamCnt deathCnt decideCnt   stateDt\n",
       "0     21518073     6755    845688  20220131\n",
       "1     21448119     6732    828611  20220130\n",
       "2     21377393     6712    811089  20220129\n",
       "3     21269304     6678    793576  20220128\n",
       "4     21196354     6654    777483  20220127\n",
       "..         ...      ...       ...       ...\n",
       "737         29        0         2  20200124\n",
       "738         25        0         1  20200123\n",
       "739         21        0         1  20200122\n",
       "740         15        0         1  20200121\n",
       "741          4        0         1  20200120\n",
       "\n",
       "[742 rows x 4 columns]"
      ]
     },
     "execution_count": 7,
     "metadata": {},
     "output_type": "execute_result"
    }
   ],
   "source": [
    "# 필요 없는 컬럼 삭제\n",
    "covid_df.drop(columns=['createDt','seq', 'stateTime', 'updateDt', 'accDefRate'])"
   ]
  },
  {
   "cell_type": "code",
   "execution_count": 8,
   "id": "120aca25",
   "metadata": {},
   "outputs": [],
   "source": [
    "# 필요 없는 컬럼 삭제\n",
    "covid_df.drop(columns=['createDt','seq', 'stateTime', 'updateDt', 'accDefRate'], inplace=True)"
   ]
  },
  {
   "cell_type": "markdown",
   "id": "ebe6d330",
   "metadata": {},
   "source": [
    "## 컬럼명 한글로 변경"
   ]
  },
  {
   "cell_type": "code",
   "execution_count": 9,
   "id": "94b62085",
   "metadata": {},
   "outputs": [
    {
     "data": {
      "text/plain": [
       "Index(['누적의심신고검사자', '사망자수', '확진자수', '기준일'], dtype='object')"
      ]
     },
     "execution_count": 9,
     "metadata": {},
     "output_type": "execute_result"
    }
   ],
   "source": [
    "# 컬럼명 한글로 변경\n",
    "covid_df.columns = ['누적의심신고검사자', '사망자수', '확진자수', '기준일']\n",
    "covid_df.columns"
   ]
  },
  {
   "cell_type": "markdown",
   "id": "3a85ed9c",
   "metadata": {},
   "source": [
    "## 컬럼 Dtype 변경"
   ]
  },
  {
   "cell_type": "markdown",
   "id": "c1e4f102",
   "metadata": {},
   "source": [
    "### 기준일 : object -> datetime\n",
    "- date타입이 없기 때문에 datetime으로 변경\n",
    "- datetime의 Dtype은 datetime64[ns]로 고정"
   ]
  },
  {
   "cell_type": "code",
   "execution_count": 10,
   "id": "b2c04a8e",
   "metadata": {},
   "outputs": [
    {
     "data": {
      "text/plain": [
       "0     2022-01-31\n",
       "1     2022-01-30\n",
       "2     2022-01-29\n",
       "3     2022-01-28\n",
       "4     2022-01-27\n",
       "         ...    \n",
       "737   2020-01-24\n",
       "738   2020-01-23\n",
       "739   2020-01-22\n",
       "740   2020-01-21\n",
       "741   2020-01-20\n",
       "Name: 기준일, Length: 742, dtype: datetime64[ns]"
      ]
     },
     "execution_count": 10,
     "metadata": {},
     "output_type": "execute_result"
    }
   ],
   "source": [
    "# 방법 1\n",
    "pd.to_datetime(covid_df.기준일)"
   ]
  },
  {
   "cell_type": "code",
   "execution_count": 11,
   "id": "ebf00225",
   "metadata": {
    "scrolled": false
   },
   "outputs": [
    {
     "data": {
      "text/plain": [
       "0     2022-01-31\n",
       "1     2022-01-30\n",
       "2     2022-01-29\n",
       "3     2022-01-28\n",
       "4     2022-01-27\n",
       "         ...    \n",
       "737   2020-01-24\n",
       "738   2020-01-23\n",
       "739   2020-01-22\n",
       "740   2020-01-21\n",
       "741   2020-01-20\n",
       "Name: 기준일, Length: 742, dtype: datetime64[ns]"
      ]
     },
     "execution_count": 11,
     "metadata": {},
     "output_type": "execute_result"
    }
   ],
   "source": [
    "# 방법 2\n",
    "covid_df.기준일.astype('datetime64[ns]')"
   ]
  },
  {
   "cell_type": "markdown",
   "id": "29b4f108",
   "metadata": {},
   "source": [
    "### 누적의심신고검사자수, 사망자수, 확진자수 : object -> int"
   ]
  },
  {
   "cell_type": "code",
   "execution_count": 12,
   "id": "54d682e0",
   "metadata": {},
   "outputs": [
    {
     "data": {
      "text/plain": [
       "누적의심신고검사자             int32\n",
       "사망자수                  int32\n",
       "확진자수                  int32\n",
       "기준일          datetime64[ns]\n",
       "dtype: object"
      ]
     },
     "execution_count": 12,
     "metadata": {},
     "output_type": "execute_result"
    }
   ],
   "source": [
    "covid_df.기준일 = covid_df.기준일.astype('datetime64[ns]')\n",
    "covid_df = covid_df.astype({'누적의심신고검사자' : int, '사망자수' : int , '확진자수' : int})\n",
    "covid_df.dtypes"
   ]
  },
  {
   "cell_type": "markdown",
   "id": "928ad543",
   "metadata": {},
   "source": [
    "## 컬럼 순서 변경"
   ]
  },
  {
   "cell_type": "code",
   "execution_count": 13,
   "id": "4ce5dfd4",
   "metadata": {},
   "outputs": [
    {
     "data": {
      "text/html": [
       "<div>\n",
       "<style scoped>\n",
       "    .dataframe tbody tr th:only-of-type {\n",
       "        vertical-align: middle;\n",
       "    }\n",
       "\n",
       "    .dataframe tbody tr th {\n",
       "        vertical-align: top;\n",
       "    }\n",
       "\n",
       "    .dataframe thead th {\n",
       "        text-align: right;\n",
       "    }\n",
       "</style>\n",
       "<table border=\"1\" class=\"dataframe\">\n",
       "  <thead>\n",
       "    <tr style=\"text-align: right;\">\n",
       "      <th></th>\n",
       "      <th>기준일</th>\n",
       "      <th>확진자수</th>\n",
       "      <th>사망자수</th>\n",
       "      <th>누적의심신고검사자</th>\n",
       "    </tr>\n",
       "  </thead>\n",
       "  <tbody>\n",
       "    <tr>\n",
       "      <th>0</th>\n",
       "      <td>2022-01-31</td>\n",
       "      <td>845688</td>\n",
       "      <td>6755</td>\n",
       "      <td>21518073</td>\n",
       "    </tr>\n",
       "    <tr>\n",
       "      <th>1</th>\n",
       "      <td>2022-01-30</td>\n",
       "      <td>828611</td>\n",
       "      <td>6732</td>\n",
       "      <td>21448119</td>\n",
       "    </tr>\n",
       "  </tbody>\n",
       "</table>\n",
       "</div>"
      ],
      "text/plain": [
       "         기준일    확진자수  사망자수  누적의심신고검사자\n",
       "0 2022-01-31  845688  6755   21518073\n",
       "1 2022-01-30  828611  6732   21448119"
      ]
     },
     "execution_count": 13,
     "metadata": {},
     "output_type": "execute_result"
    }
   ],
   "source": [
    "covid_df = covid_df[['기준일', '확진자수', '사망자수', '누적의심신고검사자']]\n",
    "covid_df[:2]"
   ]
  },
  {
   "cell_type": "markdown",
   "id": "64effd0c",
   "metadata": {},
   "source": [
    "## 기준일 기준으로 오름차순 정렬"
   ]
  },
  {
   "cell_type": "code",
   "execution_count": 14,
   "id": "35450317",
   "metadata": {},
   "outputs": [
    {
     "data": {
      "text/html": [
       "<div>\n",
       "<style scoped>\n",
       "    .dataframe tbody tr th:only-of-type {\n",
       "        vertical-align: middle;\n",
       "    }\n",
       "\n",
       "    .dataframe tbody tr th {\n",
       "        vertical-align: top;\n",
       "    }\n",
       "\n",
       "    .dataframe thead th {\n",
       "        text-align: right;\n",
       "    }\n",
       "</style>\n",
       "<table border=\"1\" class=\"dataframe\">\n",
       "  <thead>\n",
       "    <tr style=\"text-align: right;\">\n",
       "      <th></th>\n",
       "      <th>기준일</th>\n",
       "      <th>확진자수</th>\n",
       "      <th>사망자수</th>\n",
       "      <th>누적의심신고검사자</th>\n",
       "    </tr>\n",
       "  </thead>\n",
       "  <tbody>\n",
       "    <tr>\n",
       "      <th>741</th>\n",
       "      <td>2020-01-20</td>\n",
       "      <td>1</td>\n",
       "      <td>0</td>\n",
       "      <td>4</td>\n",
       "    </tr>\n",
       "    <tr>\n",
       "      <th>740</th>\n",
       "      <td>2020-01-21</td>\n",
       "      <td>1</td>\n",
       "      <td>0</td>\n",
       "      <td>15</td>\n",
       "    </tr>\n",
       "  </tbody>\n",
       "</table>\n",
       "</div>"
      ],
      "text/plain": [
       "           기준일  확진자수  사망자수  누적의심신고검사자\n",
       "741 2020-01-20     1     0          4\n",
       "740 2020-01-21     1     0         15"
      ]
     },
     "execution_count": 14,
     "metadata": {},
     "output_type": "execute_result"
    }
   ],
   "source": [
    "covid_df.sort_values(by='기준일', inplace=True)\n",
    "covid_df[:2]"
   ]
  },
  {
   "cell_type": "markdown",
   "id": "f0ce4d4b",
   "metadata": {},
   "source": [
    "## 인덱스 재설정\n",
    "- 기존 인덱스 삭제, 원본 적용"
   ]
  },
  {
   "cell_type": "code",
   "execution_count": 15,
   "id": "7a3ac5a8",
   "metadata": {},
   "outputs": [
    {
     "data": {
      "text/html": [
       "<div>\n",
       "<style scoped>\n",
       "    .dataframe tbody tr th:only-of-type {\n",
       "        vertical-align: middle;\n",
       "    }\n",
       "\n",
       "    .dataframe tbody tr th {\n",
       "        vertical-align: top;\n",
       "    }\n",
       "\n",
       "    .dataframe thead th {\n",
       "        text-align: right;\n",
       "    }\n",
       "</style>\n",
       "<table border=\"1\" class=\"dataframe\">\n",
       "  <thead>\n",
       "    <tr style=\"text-align: right;\">\n",
       "      <th></th>\n",
       "      <th>기준일</th>\n",
       "      <th>확진자수</th>\n",
       "      <th>사망자수</th>\n",
       "      <th>누적의심신고검사자</th>\n",
       "    </tr>\n",
       "  </thead>\n",
       "  <tbody>\n",
       "    <tr>\n",
       "      <th>0</th>\n",
       "      <td>2020-01-20</td>\n",
       "      <td>1</td>\n",
       "      <td>0</td>\n",
       "      <td>4</td>\n",
       "    </tr>\n",
       "    <tr>\n",
       "      <th>1</th>\n",
       "      <td>2020-01-21</td>\n",
       "      <td>1</td>\n",
       "      <td>0</td>\n",
       "      <td>15</td>\n",
       "    </tr>\n",
       "  </tbody>\n",
       "</table>\n",
       "</div>"
      ],
      "text/plain": [
       "         기준일  확진자수  사망자수  누적의심신고검사자\n",
       "0 2020-01-20     1     0          4\n",
       "1 2020-01-21     1     0         15"
      ]
     },
     "execution_count": 15,
     "metadata": {},
     "output_type": "execute_result"
    }
   ],
   "source": [
    "covid_df.reset_index(drop=True, inplace=True)\n",
    "covid_df[:2]"
   ]
  },
  {
   "cell_type": "markdown",
   "id": "8b026a3b",
   "metadata": {},
   "source": [
    "## 컬럼명 변경\n",
    "- 확진자수 -> 누적확진자수\n",
    "- 사망자수 -> 누적사망자수"
   ]
  },
  {
   "cell_type": "code",
   "execution_count": 16,
   "id": "bba22ab1",
   "metadata": {},
   "outputs": [
    {
     "data": {
      "text/plain": [
       "Index(['기준일', '누적확진자수', '누적사망자수', '누적의심신고검사자수'], dtype='object')"
      ]
     },
     "execution_count": 16,
     "metadata": {},
     "output_type": "execute_result"
    }
   ],
   "source": [
    "covid_df.rename(columns={'확진자수' : '누적확진자수', '사망자수' : '누적사망자수', '누적의심신고검사자' : '누적의심신고검사자수'}, inplace=True)\n",
    "covid_df.columns"
   ]
  },
  {
   "cell_type": "markdown",
   "id": "d798609b",
   "metadata": {},
   "source": [
    "## 당일 확장자 수, 사망자 수 컬럼 추가"
   ]
  },
  {
   "cell_type": "markdown",
   "id": "bc8b196c",
   "metadata": {},
   "source": [
    "### 당일 확장자 수"
   ]
  },
  {
   "cell_type": "code",
   "execution_count": 17,
   "id": "425e65a2",
   "metadata": {},
   "outputs": [],
   "source": [
    "# 확진자수 컬럼 추가\n",
    "covid_df.insert(loc=1, column='확진자수', value=0)"
   ]
  },
  {
   "cell_type": "code",
   "execution_count": 18,
   "id": "a03379c4",
   "metadata": {},
   "outputs": [
    {
     "data": {
      "text/plain": [
       "0          1\n",
       "1          0\n",
       "2          0\n",
       "3          0\n",
       "4          1\n",
       "       ...  \n",
       "737    14514\n",
       "738    16093\n",
       "739    17513\n",
       "740    17522\n",
       "741    17077\n",
       "Name: 확진자수, Length: 742, dtype: int32"
      ]
     },
     "execution_count": 18,
     "metadata": {},
     "output_type": "execute_result"
    }
   ],
   "source": [
    "covid_df.확진자수 = covid_df.누적확진자수 - covid_df.누적확진자수.shift(fill_value=0)\n",
    "covid_df.확진자수"
   ]
  },
  {
   "cell_type": "markdown",
   "id": "9c17afe5",
   "metadata": {},
   "source": [
    "### 당일 사망자 수"
   ]
  },
  {
   "cell_type": "code",
   "execution_count": 19,
   "id": "e37712c7",
   "metadata": {},
   "outputs": [
    {
     "data": {
      "text/html": [
       "<div>\n",
       "<style scoped>\n",
       "    .dataframe tbody tr th:only-of-type {\n",
       "        vertical-align: middle;\n",
       "    }\n",
       "\n",
       "    .dataframe tbody tr th {\n",
       "        vertical-align: top;\n",
       "    }\n",
       "\n",
       "    .dataframe thead th {\n",
       "        text-align: right;\n",
       "    }\n",
       "</style>\n",
       "<table border=\"1\" class=\"dataframe\">\n",
       "  <thead>\n",
       "    <tr style=\"text-align: right;\">\n",
       "      <th></th>\n",
       "      <th>기준일</th>\n",
       "      <th>확진자수</th>\n",
       "      <th>누적확진자수</th>\n",
       "      <th>사망자수</th>\n",
       "      <th>누적사망자수</th>\n",
       "      <th>누적의심신고검사자수</th>\n",
       "    </tr>\n",
       "  </thead>\n",
       "  <tbody>\n",
       "    <tr>\n",
       "      <th>0</th>\n",
       "      <td>2020-01-20</td>\n",
       "      <td>1</td>\n",
       "      <td>1</td>\n",
       "      <td>0</td>\n",
       "      <td>0</td>\n",
       "      <td>4</td>\n",
       "    </tr>\n",
       "    <tr>\n",
       "      <th>1</th>\n",
       "      <td>2020-01-21</td>\n",
       "      <td>0</td>\n",
       "      <td>1</td>\n",
       "      <td>0</td>\n",
       "      <td>0</td>\n",
       "      <td>15</td>\n",
       "    </tr>\n",
       "  </tbody>\n",
       "</table>\n",
       "</div>"
      ],
      "text/plain": [
       "         기준일  확진자수  누적확진자수  사망자수  누적사망자수  누적의심신고검사자수\n",
       "0 2020-01-20     1       1     0       0           4\n",
       "1 2020-01-21     0       1     0       0          15"
      ]
     },
     "execution_count": 19,
     "metadata": {},
     "output_type": "execute_result"
    }
   ],
   "source": [
    "# 사망자수 컬럼 추가\n",
    "covid_df.insert(loc=3, column='사망자수', value=0)\n",
    "covid_df[:2]"
   ]
  },
  {
   "cell_type": "code",
   "execution_count": 20,
   "id": "f8733e83",
   "metadata": {},
   "outputs": [
    {
     "data": {
      "text/html": [
       "<div>\n",
       "<style scoped>\n",
       "    .dataframe tbody tr th:only-of-type {\n",
       "        vertical-align: middle;\n",
       "    }\n",
       "\n",
       "    .dataframe tbody tr th {\n",
       "        vertical-align: top;\n",
       "    }\n",
       "\n",
       "    .dataframe thead th {\n",
       "        text-align: right;\n",
       "    }\n",
       "</style>\n",
       "<table border=\"1\" class=\"dataframe\">\n",
       "  <thead>\n",
       "    <tr style=\"text-align: right;\">\n",
       "      <th></th>\n",
       "      <th>기준일</th>\n",
       "      <th>확진자수</th>\n",
       "      <th>누적확진자수</th>\n",
       "      <th>사망자수</th>\n",
       "      <th>누적사망자수</th>\n",
       "      <th>누적의심신고검사자수</th>\n",
       "    </tr>\n",
       "  </thead>\n",
       "  <tbody>\n",
       "    <tr>\n",
       "      <th>0</th>\n",
       "      <td>2020-01-20</td>\n",
       "      <td>1</td>\n",
       "      <td>1</td>\n",
       "      <td>0</td>\n",
       "      <td>0</td>\n",
       "      <td>4</td>\n",
       "    </tr>\n",
       "    <tr>\n",
       "      <th>1</th>\n",
       "      <td>2020-01-21</td>\n",
       "      <td>0</td>\n",
       "      <td>1</td>\n",
       "      <td>0</td>\n",
       "      <td>0</td>\n",
       "      <td>15</td>\n",
       "    </tr>\n",
       "    <tr>\n",
       "      <th>2</th>\n",
       "      <td>2020-01-22</td>\n",
       "      <td>0</td>\n",
       "      <td>1</td>\n",
       "      <td>0</td>\n",
       "      <td>0</td>\n",
       "      <td>21</td>\n",
       "    </tr>\n",
       "    <tr>\n",
       "      <th>3</th>\n",
       "      <td>2020-01-23</td>\n",
       "      <td>0</td>\n",
       "      <td>1</td>\n",
       "      <td>0</td>\n",
       "      <td>0</td>\n",
       "      <td>25</td>\n",
       "    </tr>\n",
       "    <tr>\n",
       "      <th>4</th>\n",
       "      <td>2020-01-24</td>\n",
       "      <td>1</td>\n",
       "      <td>2</td>\n",
       "      <td>0</td>\n",
       "      <td>0</td>\n",
       "      <td>29</td>\n",
       "    </tr>\n",
       "    <tr>\n",
       "      <th>...</th>\n",
       "      <td>...</td>\n",
       "      <td>...</td>\n",
       "      <td>...</td>\n",
       "      <td>...</td>\n",
       "      <td>...</td>\n",
       "      <td>...</td>\n",
       "    </tr>\n",
       "    <tr>\n",
       "      <th>737</th>\n",
       "      <td>2022-01-27</td>\n",
       "      <td>14514</td>\n",
       "      <td>777483</td>\n",
       "      <td>34</td>\n",
       "      <td>6654</td>\n",
       "      <td>21196354</td>\n",
       "    </tr>\n",
       "    <tr>\n",
       "      <th>738</th>\n",
       "      <td>2022-01-28</td>\n",
       "      <td>16093</td>\n",
       "      <td>793576</td>\n",
       "      <td>24</td>\n",
       "      <td>6678</td>\n",
       "      <td>21269304</td>\n",
       "    </tr>\n",
       "    <tr>\n",
       "      <th>739</th>\n",
       "      <td>2022-01-29</td>\n",
       "      <td>17513</td>\n",
       "      <td>811089</td>\n",
       "      <td>34</td>\n",
       "      <td>6712</td>\n",
       "      <td>21377393</td>\n",
       "    </tr>\n",
       "    <tr>\n",
       "      <th>740</th>\n",
       "      <td>2022-01-30</td>\n",
       "      <td>17522</td>\n",
       "      <td>828611</td>\n",
       "      <td>20</td>\n",
       "      <td>6732</td>\n",
       "      <td>21448119</td>\n",
       "    </tr>\n",
       "    <tr>\n",
       "      <th>741</th>\n",
       "      <td>2022-01-31</td>\n",
       "      <td>17077</td>\n",
       "      <td>845688</td>\n",
       "      <td>23</td>\n",
       "      <td>6755</td>\n",
       "      <td>21518073</td>\n",
       "    </tr>\n",
       "  </tbody>\n",
       "</table>\n",
       "<p>742 rows × 6 columns</p>\n",
       "</div>"
      ],
      "text/plain": [
       "           기준일   확진자수  누적확진자수  사망자수  누적사망자수  누적의심신고검사자수\n",
       "0   2020-01-20      1       1     0       0           4\n",
       "1   2020-01-21      0       1     0       0          15\n",
       "2   2020-01-22      0       1     0       0          21\n",
       "3   2020-01-23      0       1     0       0          25\n",
       "4   2020-01-24      1       2     0       0          29\n",
       "..         ...    ...     ...   ...     ...         ...\n",
       "737 2022-01-27  14514  777483    34    6654    21196354\n",
       "738 2022-01-28  16093  793576    24    6678    21269304\n",
       "739 2022-01-29  17513  811089    34    6712    21377393\n",
       "740 2022-01-30  17522  828611    20    6732    21448119\n",
       "741 2022-01-31  17077  845688    23    6755    21518073\n",
       "\n",
       "[742 rows x 6 columns]"
      ]
     },
     "execution_count": 20,
     "metadata": {},
     "output_type": "execute_result"
    }
   ],
   "source": [
    "covid_df.사망자수 = covid_df.누적사망자수 - covid_df.누적사망자수.shift(fill_value=0)\n",
    "covid_df"
   ]
  },
  {
   "cell_type": "markdown",
   "id": "8ddaa1c4",
   "metadata": {},
   "source": [
    "# csv파일로 저장"
   ]
  },
  {
   "cell_type": "code",
   "execution_count": 21,
   "id": "fca359a5",
   "metadata": {},
   "outputs": [
    {
     "name": "stdout",
     "output_type": "stream",
     "text": [
      "<class 'pandas.core.frame.DataFrame'>\n",
      "RangeIndex: 742 entries, 0 to 741\n",
      "Data columns (total 6 columns):\n",
      " #   Column      Non-Null Count  Dtype         \n",
      "---  ------      --------------  -----         \n",
      " 0   기준일         742 non-null    datetime64[ns]\n",
      " 1   확진자수        742 non-null    int32         \n",
      " 2   누적확진자수      742 non-null    int32         \n",
      " 3   사망자수        742 non-null    int32         \n",
      " 4   누적사망자수      742 non-null    int32         \n",
      " 5   누적의심신고검사자수  742 non-null    int32         \n",
      "dtypes: datetime64[ns](1), int32(5)\n",
      "memory usage: 20.4 KB\n"
     ]
    }
   ],
   "source": [
    "covid_df.info()"
   ]
  },
  {
   "cell_type": "code",
   "execution_count": 22,
   "id": "b4aa285f",
   "metadata": {},
   "outputs": [],
   "source": [
    "covid_df.to_csv('corona_table.csv', encoding='utf-8', index=False)"
   ]
  }
 ],
 "metadata": {
  "kernelspec": {
   "display_name": "ex_kernel",
   "language": "python",
   "name": "ex"
  },
  "language_info": {
   "codemirror_mode": {
    "name": "ipython",
    "version": 3
   },
   "file_extension": ".py",
   "mimetype": "text/x-python",
   "name": "python",
   "nbconvert_exporter": "python",
   "pygments_lexer": "ipython3",
   "version": "3.8.10"
  },
  "toc": {
   "base_numbering": 1,
   "nav_menu": {},
   "number_sections": true,
   "sideBar": true,
   "skip_h1_title": false,
   "title_cell": "Table of Contents",
   "title_sidebar": "Contents",
   "toc_cell": false,
   "toc_position": {},
   "toc_section_display": true,
   "toc_window_display": false
  }
 },
 "nbformat": 4,
 "nbformat_minor": 5
}
