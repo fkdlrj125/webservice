{
 "cells": [
  {
   "cell_type": "code",
   "execution_count": 1,
   "id": "6a1b3534",
   "metadata": {},
   "outputs": [],
   "source": [
    "import requests"
   ]
  },
  {
   "cell_type": "code",
   "execution_count": 3,
   "id": "b57cc3fa",
   "metadata": {},
   "outputs": [
    {
     "name": "stdout",
     "output_type": "stream",
     "text": [
      "b'<?xml version=\"1.0\" encoding=\"UTF-8\" standalone=\"yes\"?><response><header><resultCode>00</resultCode><resultMsg>NORMAL SERVICE.</resultMsg></header><body><item><avgFnlPrvsAmt>996693</avgFnlPrvsAmt><avgPrvsPrdMcnt>1</avgPrvsPrdMcnt><avgTotPrvsAmt>1221287</avgTotPrvsAmt><totPrsnCnt>9</totPrsnCnt><whlPymtCtstPrvsRate>0.02</whlPymtCtstPrvsRate></item></body></response>'\n"
     ]
    }
   ],
   "source": [
    "url = 'http://apis.data.go.kr/B552015/NpsReciptInfoProvdService/getReciptSttusInfoSearch'\n",
    "\n",
    "service_key = 'HyHs0eKcYTNSD1IUcAMpkzGHpZWOcVLIuygrd71M/f9zCqPTeJRdQ1+8AKu1g/lxfcCbhzLdJ94DmEvHzs/sTw=='\n",
    "\n",
    "params ={'serviceKey' : service_key, 'ldong_addr_mgpl_dg_cd' : '11', 'ldong_addr_mgpl_sggu_cd' : '11110', 'ldong_addr_mgpl_sggu_emd_cd' : '11110101', 'crtr_age' : '67', 'sex_dvcd' : 'M', 'pay_clss_cd' : '10' }\n",
    "\n",
    "response = requests.get(url, params=params)\n",
    "print(response.content)"
   ]
  },
  {
   "cell_type": "markdown",
   "id": "e0d1b996",
   "metadata": {},
   "source": [
    "# XML 처리\n",
    "## [방법 1] 파싱"
   ]
  },
  {
   "cell_type": "code",
   "execution_count": 5,
   "id": "ce6675a1",
   "metadata": {},
   "outputs": [
    {
     "data": {
      "text/plain": [
       "'<?xml version=\"1.0\" encoding=\"UTF-8\" standalone=\"yes\"?><response><header><resultCode>00</resultCode><resultMsg>NORMAL SERVICE.</resultMsg></header><body><item><avgFnlPrvsAmt>996693</avgFnlPrvsAmt><avgPrvsPrdMcnt>1</avgPrvsPrdMcnt><avgTotPrvsAmt>1221287</avgTotPrvsAmt><totPrsnCnt>9</totPrsnCnt><whlPymtCtstPrvsRate>0.02</whlPymtCtstPrvsRate></item></body></response>'"
      ]
     },
     "execution_count": 5,
     "metadata": {},
     "output_type": "execute_result"
    }
   ],
   "source": [
    "response.text"
   ]
  },
  {
   "cell_type": "code",
   "execution_count": 6,
   "id": "e98bb353",
   "metadata": {},
   "outputs": [],
   "source": [
    "from bs4 import BeautifulSoup"
   ]
  },
  {
   "cell_type": "code",
   "execution_count": 22,
   "id": "a6bfe366",
   "metadata": {},
   "outputs": [],
   "source": [
    "soup = BeautifulSoup(response.text, features='xml')"
   ]
  },
  {
   "cell_type": "code",
   "execution_count": 23,
   "id": "23f4a013",
   "metadata": {},
   "outputs": [
    {
     "data": {
      "text/plain": [
       "<item><avgFnlPrvsAmt>996693</avgFnlPrvsAmt><avgPrvsPrdMcnt>1</avgPrvsPrdMcnt><avgTotPrvsAmt>1221287</avgTotPrvsAmt><totPrsnCnt>9</totPrsnCnt><whlPymtCtstPrvsRate>0.02</whlPymtCtstPrvsRate></item>"
      ]
     },
     "execution_count": 23,
     "metadata": {},
     "output_type": "execute_result"
    }
   ],
   "source": [
    "soup.item"
   ]
  },
  {
   "cell_type": "code",
   "execution_count": 24,
   "id": "1e3a61fb",
   "metadata": {},
   "outputs": [
    {
     "data": {
      "text/plain": [
       "<resultMsg>NORMAL SERVICE.</resultMsg>"
      ]
     },
     "execution_count": 24,
     "metadata": {},
     "output_type": "execute_result"
    }
   ],
   "source": [
    "soup.resultMsg"
   ]
  },
  {
   "cell_type": "markdown",
   "id": "d8c07738",
   "metadata": {},
   "source": [
    "## [파일 변환] xml -> json "
   ]
  },
  {
   "cell_type": "code",
   "execution_count": 26,
   "id": "2cb394b0",
   "metadata": {},
   "outputs": [],
   "source": [
    "import xmltodict # xml을 딕셔너리로 변환해주는 라이브러리\n",
    "\n",
    "parsing_dict = xmltodict.parse(response.text) # xml을 문자열로 넣어줌"
   ]
  },
  {
   "cell_type": "code",
   "execution_count": 29,
   "id": "23bfe686",
   "metadata": {},
   "outputs": [
    {
     "data": {
      "text/plain": [
       "{'response': {'header': {'resultCode': '00', 'resultMsg': 'NORMAL SERVICE.'},\n",
       "  'body': {'item': {'avgFnlPrvsAmt': '996693',\n",
       "    'avgPrvsPrdMcnt': '1',\n",
       "    'avgTotPrvsAmt': '1221287',\n",
       "    'totPrsnCnt': '9',\n",
       "    'whlPymtCtstPrvsRate': '0.02'}}}}"
      ]
     },
     "execution_count": 29,
     "metadata": {},
     "output_type": "execute_result"
    }
   ],
   "source": [
    "parsing_dict"
   ]
  },
  {
   "cell_type": "code",
   "execution_count": 30,
   "id": "60f854d4",
   "metadata": {},
   "outputs": [
    {
     "data": {
      "text/plain": [
       "dict_keys(['response'])"
      ]
     },
     "execution_count": 30,
     "metadata": {},
     "output_type": "execute_result"
    }
   ],
   "source": [
    "parsing_dict.keys()"
   ]
  },
  {
   "cell_type": "code",
   "execution_count": 31,
   "id": "c35fc24a",
   "metadata": {},
   "outputs": [
    {
     "data": {
      "text/plain": [
       "{'header': {'resultCode': '00', 'resultMsg': 'NORMAL SERVICE.'},\n",
       " 'body': {'item': {'avgFnlPrvsAmt': '996693',\n",
       "   'avgPrvsPrdMcnt': '1',\n",
       "   'avgTotPrvsAmt': '1221287',\n",
       "   'totPrsnCnt': '9',\n",
       "   'whlPymtCtstPrvsRate': '0.02'}}}"
      ]
     },
     "execution_count": 31,
     "metadata": {},
     "output_type": "execute_result"
    }
   ],
   "source": [
    "parsing_dict['response']"
   ]
  },
  {
   "cell_type": "code",
   "execution_count": 33,
   "id": "d33a72eb",
   "metadata": {
    "scrolled": true
   },
   "outputs": [
    {
     "data": {
      "text/plain": [
       "dict_keys(['header', 'body'])"
      ]
     },
     "execution_count": 33,
     "metadata": {},
     "output_type": "execute_result"
    }
   ],
   "source": [
    "parsing_dict['response'].keys()"
   ]
  },
  {
   "cell_type": "code",
   "execution_count": 34,
   "id": "465d294d",
   "metadata": {},
   "outputs": [
    {
     "data": {
      "text/plain": [
       "{'item': {'avgFnlPrvsAmt': '996693',\n",
       "  'avgPrvsPrdMcnt': '1',\n",
       "  'avgTotPrvsAmt': '1221287',\n",
       "  'totPrsnCnt': '9',\n",
       "  'whlPymtCtstPrvsRate': '0.02'}}"
      ]
     },
     "execution_count": 34,
     "metadata": {},
     "output_type": "execute_result"
    }
   ],
   "source": [
    "parsing_dict['response']['body']"
   ]
  },
  {
   "cell_type": "code",
   "execution_count": 35,
   "id": "17e5195d",
   "metadata": {},
   "outputs": [
    {
     "data": {
      "text/plain": [
       "{'avgFnlPrvsAmt': '996693',\n",
       " 'avgPrvsPrdMcnt': '1',\n",
       " 'avgTotPrvsAmt': '1221287',\n",
       " 'totPrsnCnt': '9',\n",
       " 'whlPymtCtstPrvsRate': '0.02'}"
      ]
     },
     "execution_count": 35,
     "metadata": {},
     "output_type": "execute_result"
    }
   ],
   "source": [
    "# 해당 API는 데이터를 직접 바꿔가면 요청을 해줘야 되서 비효율적\n",
    "parsing_dict['response']['body']['item']"
   ]
  }
 ],
 "metadata": {
  "kernelspec": {
   "display_name": "ex_kernel",
   "language": "python",
   "name": "ex"
  },
  "language_info": {
   "codemirror_mode": {
    "name": "ipython",
    "version": 3
   },
   "file_extension": ".py",
   "mimetype": "text/x-python",
   "name": "python",
   "nbconvert_exporter": "python",
   "pygments_lexer": "ipython3",
   "version": "3.8.10"
  },
  "toc": {
   "base_numbering": 1,
   "nav_menu": {},
   "number_sections": true,
   "sideBar": true,
   "skip_h1_title": false,
   "title_cell": "Table of Contents",
   "title_sidebar": "Contents",
   "toc_cell": false,
   "toc_position": {},
   "toc_section_display": true,
   "toc_window_display": false
  }
 },
 "nbformat": 4,
 "nbformat_minor": 5
}
