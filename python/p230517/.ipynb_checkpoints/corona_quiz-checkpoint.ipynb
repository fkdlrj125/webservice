{
 "cells": [
  {
   "cell_type": "code",
   "execution_count": 23,
   "id": "00d04ea1",
   "metadata": {},
   "outputs": [],
   "source": [
    "import pandas as pd\n",
    "import matplotlib.pyplot as plt\n",
    "import seaborn as sns\n",
    "plt.rc('font', family='D2coding')"
   ]
  },
  {
   "cell_type": "markdown",
   "id": "961bb624",
   "metadata": {},
   "source": [
    "# 파일 읽어오기"
   ]
  },
  {
   "cell_type": "code",
   "execution_count": 24,
   "id": "37907562",
   "metadata": {
    "scrolled": true
   },
   "outputs": [
    {
     "data": {
      "text/html": [
       "<div>\n",
       "<style scoped>\n",
       "    .dataframe tbody tr th:only-of-type {\n",
       "        vertical-align: middle;\n",
       "    }\n",
       "\n",
       "    .dataframe tbody tr th {\n",
       "        vertical-align: top;\n",
       "    }\n",
       "\n",
       "    .dataframe thead th {\n",
       "        text-align: right;\n",
       "    }\n",
       "</style>\n",
       "<table border=\"1\" class=\"dataframe\">\n",
       "  <thead>\n",
       "    <tr style=\"text-align: right;\">\n",
       "      <th></th>\n",
       "      <th>기준일</th>\n",
       "      <th>확진자수</th>\n",
       "      <th>누적확진자수</th>\n",
       "      <th>사망자수</th>\n",
       "      <th>누적사망자수</th>\n",
       "      <th>누적의심신고검사자수</th>\n",
       "    </tr>\n",
       "  </thead>\n",
       "  <tbody>\n",
       "    <tr>\n",
       "      <th>0</th>\n",
       "      <td>2020-01-20</td>\n",
       "      <td>1</td>\n",
       "      <td>1</td>\n",
       "      <td>0</td>\n",
       "      <td>0</td>\n",
       "      <td>4</td>\n",
       "    </tr>\n",
       "    <tr>\n",
       "      <th>1</th>\n",
       "      <td>2020-01-21</td>\n",
       "      <td>0</td>\n",
       "      <td>1</td>\n",
       "      <td>0</td>\n",
       "      <td>0</td>\n",
       "      <td>15</td>\n",
       "    </tr>\n",
       "    <tr>\n",
       "      <th>2</th>\n",
       "      <td>2020-01-22</td>\n",
       "      <td>0</td>\n",
       "      <td>1</td>\n",
       "      <td>0</td>\n",
       "      <td>0</td>\n",
       "      <td>21</td>\n",
       "    </tr>\n",
       "  </tbody>\n",
       "</table>\n",
       "</div>"
      ],
      "text/plain": [
       "          기준일  확진자수  누적확진자수  사망자수  누적사망자수  누적의심신고검사자수\n",
       "0  2020-01-20     1       1     0       0           4\n",
       "1  2020-01-21     0       1     0       0          15\n",
       "2  2020-01-22     0       1     0       0          21"
      ]
     },
     "execution_count": 24,
     "metadata": {},
     "output_type": "execute_result"
    }
   ],
   "source": [
    "corona_table = pd.read_csv('corona_table.csv')\n",
    "corona_table[:3]"
   ]
  },
  {
   "cell_type": "markdown",
   "id": "71cef329",
   "metadata": {},
   "source": [
    "# 기준일 컬럼의 Dtype 변경"
   ]
  },
  {
   "cell_type": "code",
   "execution_count": 25,
   "id": "bb4dfa89",
   "metadata": {},
   "outputs": [],
   "source": [
    "corona_table.기준일 = corona_table.기준일.astype('datetime64[ns]')"
   ]
  },
  {
   "cell_type": "markdown",
   "id": "c6caeeb9",
   "metadata": {},
   "source": [
    "# 데이터 프레임 복사 후 기준일을 yy-mm으로 포맷팅 "
   ]
  },
  {
   "cell_type": "code",
   "execution_count": 26,
   "id": "0101d058",
   "metadata": {},
   "outputs": [
    {
     "data": {
      "text/html": [
       "<div>\n",
       "<style scoped>\n",
       "    .dataframe tbody tr th:only-of-type {\n",
       "        vertical-align: middle;\n",
       "    }\n",
       "\n",
       "    .dataframe tbody tr th {\n",
       "        vertical-align: top;\n",
       "    }\n",
       "\n",
       "    .dataframe thead th {\n",
       "        text-align: right;\n",
       "    }\n",
       "</style>\n",
       "<table border=\"1\" class=\"dataframe\">\n",
       "  <thead>\n",
       "    <tr style=\"text-align: right;\">\n",
       "      <th></th>\n",
       "      <th>기준일</th>\n",
       "      <th>확진자수</th>\n",
       "      <th>누적확진자수</th>\n",
       "      <th>사망자수</th>\n",
       "      <th>누적사망자수</th>\n",
       "      <th>누적의심신고검사자수</th>\n",
       "    </tr>\n",
       "  </thead>\n",
       "  <tbody>\n",
       "    <tr>\n",
       "      <th>0</th>\n",
       "      <td>2020-01-20</td>\n",
       "      <td>1</td>\n",
       "      <td>1</td>\n",
       "      <td>0</td>\n",
       "      <td>0</td>\n",
       "      <td>4</td>\n",
       "    </tr>\n",
       "    <tr>\n",
       "      <th>1</th>\n",
       "      <td>2020-01-21</td>\n",
       "      <td>0</td>\n",
       "      <td>1</td>\n",
       "      <td>0</td>\n",
       "      <td>0</td>\n",
       "      <td>15</td>\n",
       "    </tr>\n",
       "    <tr>\n",
       "      <th>2</th>\n",
       "      <td>2020-01-22</td>\n",
       "      <td>0</td>\n",
       "      <td>1</td>\n",
       "      <td>0</td>\n",
       "      <td>0</td>\n",
       "      <td>21</td>\n",
       "    </tr>\n",
       "    <tr>\n",
       "      <th>3</th>\n",
       "      <td>2020-01-23</td>\n",
       "      <td>0</td>\n",
       "      <td>1</td>\n",
       "      <td>0</td>\n",
       "      <td>0</td>\n",
       "      <td>25</td>\n",
       "    </tr>\n",
       "    <tr>\n",
       "      <th>4</th>\n",
       "      <td>2020-01-24</td>\n",
       "      <td>1</td>\n",
       "      <td>2</td>\n",
       "      <td>0</td>\n",
       "      <td>0</td>\n",
       "      <td>29</td>\n",
       "    </tr>\n",
       "    <tr>\n",
       "      <th>...</th>\n",
       "      <td>...</td>\n",
       "      <td>...</td>\n",
       "      <td>...</td>\n",
       "      <td>...</td>\n",
       "      <td>...</td>\n",
       "      <td>...</td>\n",
       "    </tr>\n",
       "    <tr>\n",
       "      <th>737</th>\n",
       "      <td>2022-01-27</td>\n",
       "      <td>14514</td>\n",
       "      <td>777483</td>\n",
       "      <td>34</td>\n",
       "      <td>6654</td>\n",
       "      <td>21196354</td>\n",
       "    </tr>\n",
       "    <tr>\n",
       "      <th>738</th>\n",
       "      <td>2022-01-28</td>\n",
       "      <td>16093</td>\n",
       "      <td>793576</td>\n",
       "      <td>24</td>\n",
       "      <td>6678</td>\n",
       "      <td>21269304</td>\n",
       "    </tr>\n",
       "    <tr>\n",
       "      <th>739</th>\n",
       "      <td>2022-01-29</td>\n",
       "      <td>17513</td>\n",
       "      <td>811089</td>\n",
       "      <td>34</td>\n",
       "      <td>6712</td>\n",
       "      <td>21377393</td>\n",
       "    </tr>\n",
       "    <tr>\n",
       "      <th>740</th>\n",
       "      <td>2022-01-30</td>\n",
       "      <td>17522</td>\n",
       "      <td>828611</td>\n",
       "      <td>20</td>\n",
       "      <td>6732</td>\n",
       "      <td>21448119</td>\n",
       "    </tr>\n",
       "    <tr>\n",
       "      <th>741</th>\n",
       "      <td>2022-01-31</td>\n",
       "      <td>17077</td>\n",
       "      <td>845688</td>\n",
       "      <td>23</td>\n",
       "      <td>6755</td>\n",
       "      <td>21518073</td>\n",
       "    </tr>\n",
       "  </tbody>\n",
       "</table>\n",
       "<p>742 rows × 6 columns</p>\n",
       "</div>"
      ],
      "text/plain": [
       "           기준일   확진자수  누적확진자수  사망자수  누적사망자수  누적의심신고검사자수\n",
       "0   2020-01-20      1       1     0       0           4\n",
       "1   2020-01-21      0       1     0       0          15\n",
       "2   2020-01-22      0       1     0       0          21\n",
       "3   2020-01-23      0       1     0       0          25\n",
       "4   2020-01-24      1       2     0       0          29\n",
       "..         ...    ...     ...   ...     ...         ...\n",
       "737 2022-01-27  14514  777483    34    6654    21196354\n",
       "738 2022-01-28  16093  793576    24    6678    21269304\n",
       "739 2022-01-29  17513  811089    34    6712    21377393\n",
       "740 2022-01-30  17522  828611    20    6732    21448119\n",
       "741 2022-01-31  17077  845688    23    6755    21518073\n",
       "\n",
       "[742 rows x 6 columns]"
      ]
     },
     "execution_count": 26,
     "metadata": {},
     "output_type": "execute_result"
    }
   ],
   "source": [
    "corona_table"
   ]
  },
  {
   "cell_type": "code",
   "execution_count": 45,
   "id": "5f1fa06a",
   "metadata": {},
   "outputs": [
    {
     "data": {
      "text/html": [
       "<div>\n",
       "<style scoped>\n",
       "    .dataframe tbody tr th:only-of-type {\n",
       "        vertical-align: middle;\n",
       "    }\n",
       "\n",
       "    .dataframe tbody tr th {\n",
       "        vertical-align: top;\n",
       "    }\n",
       "\n",
       "    .dataframe thead th {\n",
       "        text-align: right;\n",
       "    }\n",
       "</style>\n",
       "<table border=\"1\" class=\"dataframe\">\n",
       "  <thead>\n",
       "    <tr style=\"text-align: right;\">\n",
       "      <th></th>\n",
       "      <th>확진자수</th>\n",
       "      <th>누적확진자수</th>\n",
       "      <th>사망자수</th>\n",
       "      <th>누적사망자수</th>\n",
       "      <th>누적의심신고검사자수</th>\n",
       "    </tr>\n",
       "    <tr>\n",
       "      <th>기준일</th>\n",
       "      <th></th>\n",
       "      <th></th>\n",
       "      <th></th>\n",
       "      <th></th>\n",
       "      <th></th>\n",
       "    </tr>\n",
       "  </thead>\n",
       "  <tbody>\n",
       "    <tr>\n",
       "      <th>2020</th>\n",
       "      <td>60726</td>\n",
       "      <td>5949023</td>\n",
       "      <td>900</td>\n",
       "      <td>103691</td>\n",
       "      <td>513952592</td>\n",
       "    </tr>\n",
       "    <tr>\n",
       "      <th>2021</th>\n",
       "      <td>570102</td>\n",
       "      <td>79737991</td>\n",
       "      <td>4663</td>\n",
       "      <td>824940</td>\n",
       "      <td>4074074842</td>\n",
       "    </tr>\n",
       "    <tr>\n",
       "      <th>2022</th>\n",
       "      <td>214860</td>\n",
       "      <td>21908081</td>\n",
       "      <td>1192</td>\n",
       "      <td>194438</td>\n",
       "      <td>634968707</td>\n",
       "    </tr>\n",
       "  </tbody>\n",
       "</table>\n",
       "</div>"
      ],
      "text/plain": [
       "        확진자수    누적확진자수  사망자수  누적사망자수  누적의심신고검사자수\n",
       "기준일                                             \n",
       "2020   60726   5949023   900  103691   513952592\n",
       "2021  570102  79737991  4663  824940  4074074842\n",
       "2022  214860  21908081  1192  194438   634968707"
      ]
     },
     "execution_count": 45,
     "metadata": {},
     "output_type": "execute_result"
    }
   ],
   "source": [
    "corona_table.groupby(corona_table.기준일.dt.year).sum(numeric_only=True)"
   ]
  },
  {
   "cell_type": "code",
   "execution_count": 46,
   "id": "34f9a27e",
   "metadata": {},
   "outputs": [
    {
     "data": {
      "text/html": [
       "<div>\n",
       "<style scoped>\n",
       "    .dataframe tbody tr th:only-of-type {\n",
       "        vertical-align: middle;\n",
       "    }\n",
       "\n",
       "    .dataframe tbody tr th {\n",
       "        vertical-align: top;\n",
       "    }\n",
       "\n",
       "    .dataframe thead th {\n",
       "        text-align: right;\n",
       "    }\n",
       "</style>\n",
       "<table border=\"1\" class=\"dataframe\">\n",
       "  <thead>\n",
       "    <tr style=\"text-align: right;\">\n",
       "      <th></th>\n",
       "      <th>확진자수</th>\n",
       "      <th>누적확진자수</th>\n",
       "      <th>사망자수</th>\n",
       "      <th>누적사망자수</th>\n",
       "      <th>누적의심신고검사자수</th>\n",
       "    </tr>\n",
       "    <tr>\n",
       "      <th>기준일</th>\n",
       "      <th></th>\n",
       "      <th></th>\n",
       "      <th></th>\n",
       "      <th></th>\n",
       "      <th></th>\n",
       "    </tr>\n",
       "  </thead>\n",
       "  <tbody>\n",
       "    <tr>\n",
       "      <th>1</th>\n",
       "      <td>232342</td>\n",
       "      <td>24111724</td>\n",
       "      <td>1712</td>\n",
       "      <td>231918</td>\n",
       "      <td>789492003</td>\n",
       "    </tr>\n",
       "    <tr>\n",
       "      <th>2</th>\n",
       "      <td>14387</td>\n",
       "      <td>2363282</td>\n",
       "      <td>199</td>\n",
       "      <td>42577</td>\n",
       "      <td>173354766</td>\n",
       "    </tr>\n",
       "    <tr>\n",
       "      <th>3</th>\n",
       "      <td>20270</td>\n",
       "      <td>3231889</td>\n",
       "      <td>274</td>\n",
       "      <td>54478</td>\n",
       "      <td>230260588</td>\n",
       "    </tr>\n",
       "    <tr>\n",
       "      <th>4</th>\n",
       "      <td>19906</td>\n",
       "      <td>3691377</td>\n",
       "      <td>182</td>\n",
       "      <td>60052</td>\n",
       "      <td>264839419</td>\n",
       "    </tr>\n",
       "    <tr>\n",
       "      <th>5</th>\n",
       "      <td>19034</td>\n",
       "      <td>4409974</td>\n",
       "      <td>154</td>\n",
       "      <td>66656</td>\n",
       "      <td>311421134</td>\n",
       "    </tr>\n",
       "    <tr>\n",
       "      <th>6</th>\n",
       "      <td>17954</td>\n",
       "      <td>4832380</td>\n",
       "      <td>71</td>\n",
       "      <td>68059</td>\n",
       "      <td>339661053</td>\n",
       "    </tr>\n",
       "    <tr>\n",
       "      <th>7</th>\n",
       "      <td>42880</td>\n",
       "      <td>5874385</td>\n",
       "      <td>96</td>\n",
       "      <td>72684</td>\n",
       "      <td>389072675</td>\n",
       "    </tr>\n",
       "    <tr>\n",
       "      <th>8</th>\n",
       "      <td>58720</td>\n",
       "      <td>7486381</td>\n",
       "      <td>213</td>\n",
       "      <td>77036</td>\n",
       "      <td>437483004</td>\n",
       "    </tr>\n",
       "    <tr>\n",
       "      <th>9</th>\n",
       "      <td>63728</td>\n",
       "      <td>9070927</td>\n",
       "      <td>285</td>\n",
       "      <td>82474</td>\n",
       "      <td>480489695</td>\n",
       "    </tr>\n",
       "    <tr>\n",
       "      <th>10</th>\n",
       "      <td>56121</td>\n",
       "      <td>11311118</td>\n",
       "      <td>419</td>\n",
       "      <td>95966</td>\n",
       "      <td>547209331</td>\n",
       "    </tr>\n",
       "    <tr>\n",
       "      <th>11</th>\n",
       "      <td>90213</td>\n",
       "      <td>12947638</td>\n",
       "      <td>837</td>\n",
       "      <td>109885</td>\n",
       "      <td>580522221</td>\n",
       "    </tr>\n",
       "    <tr>\n",
       "      <th>12</th>\n",
       "      <td>210133</td>\n",
       "      <td>18264020</td>\n",
       "      <td>2313</td>\n",
       "      <td>161284</td>\n",
       "      <td>679190252</td>\n",
       "    </tr>\n",
       "  </tbody>\n",
       "</table>\n",
       "</div>"
      ],
      "text/plain": [
       "       확진자수    누적확진자수  사망자수  누적사망자수  누적의심신고검사자수\n",
       "기준일                                            \n",
       "1    232342  24111724  1712  231918   789492003\n",
       "2     14387   2363282   199   42577   173354766\n",
       "3     20270   3231889   274   54478   230260588\n",
       "4     19906   3691377   182   60052   264839419\n",
       "5     19034   4409974   154   66656   311421134\n",
       "6     17954   4832380    71   68059   339661053\n",
       "7     42880   5874385    96   72684   389072675\n",
       "8     58720   7486381   213   77036   437483004\n",
       "9     63728   9070927   285   82474   480489695\n",
       "10    56121  11311118   419   95966   547209331\n",
       "11    90213  12947638   837  109885   580522221\n",
       "12   210133  18264020  2313  161284   679190252"
      ]
     },
     "execution_count": 46,
     "metadata": {},
     "output_type": "execute_result"
    }
   ],
   "source": [
    "corona_table.groupby(corona_table.기준일.dt.month).sum(numeric_only=True)"
   ]
  },
  {
   "cell_type": "code",
   "execution_count": 51,
   "id": "689ccb9b",
   "metadata": {},
   "outputs": [
    {
     "data": {
      "text/html": [
       "<div>\n",
       "<style scoped>\n",
       "    .dataframe tbody tr th:only-of-type {\n",
       "        vertical-align: middle;\n",
       "    }\n",
       "\n",
       "    .dataframe tbody tr th {\n",
       "        vertical-align: top;\n",
       "    }\n",
       "\n",
       "    .dataframe thead th {\n",
       "        text-align: right;\n",
       "    }\n",
       "</style>\n",
       "<table border=\"1\" class=\"dataframe\">\n",
       "  <thead>\n",
       "    <tr style=\"text-align: right;\">\n",
       "      <th></th>\n",
       "      <th>확진자수</th>\n",
       "      <th>누적확진자수</th>\n",
       "      <th>사망자수</th>\n",
       "      <th>누적사망자수</th>\n",
       "      <th>누적의심신고검사자수</th>\n",
       "    </tr>\n",
       "    <tr>\n",
       "      <th>기준일</th>\n",
       "      <th></th>\n",
       "      <th></th>\n",
       "      <th></th>\n",
       "      <th></th>\n",
       "      <th></th>\n",
       "    </tr>\n",
       "  </thead>\n",
       "  <tbody>\n",
       "    <tr>\n",
       "      <th>1</th>\n",
       "      <td>232342</td>\n",
       "      <td>24111724</td>\n",
       "      <td>1712</td>\n",
       "      <td>231918</td>\n",
       "      <td>789492003</td>\n",
       "    </tr>\n",
       "  </tbody>\n",
       "</table>\n",
       "</div>"
      ],
      "text/plain": [
       "       확진자수    누적확진자수  사망자수  누적사망자수  누적의심신고검사자수\n",
       "기준일                                            \n",
       "1    232342  24111724  1712  231918   789492003"
      ]
     },
     "execution_count": 51,
     "metadata": {},
     "output_type": "execute_result"
    }
   ],
   "source": [
    "# 월별 확진자수가 가장 많은 데이터(행)\n",
    "\n",
    "corona_table.groupby(corona_table.기준일.dt.month).sum(numeric_only=True).sort_values(by='확진자수', ascending=False)[:1]"
   ]
  },
  {
   "cell_type": "code",
   "execution_count": 129,
   "id": "81934243",
   "metadata": {
    "scrolled": true
   },
   "outputs": [],
   "source": [
    "# dt(DateTimeProperties) :  Datetime인 시리즈의 정보를 추출하기 위한 클래스\n",
    "# corona_table_copy = corona_table[:]\n",
    "# corona_table_copy.기준일 = corona_table_copy.기준일.dt.strftime('%y-%m')\n",
    "\n",
    "# 월별 확진자, 사망자 수\n",
    "# datetime은 년, 월, 일, 시, 분, 초로 그룹화 가능\n",
    "g_date_ddsum = corona_table.groupby(corona_table.기준일.dt.strftime('%y-%m'))[['확진자수', '사망자수']].sum()"
   ]
  },
  {
   "cell_type": "code",
   "execution_count": 56,
   "id": "d6dfa9c7",
   "metadata": {},
   "outputs": [
    {
     "data": {
      "text/plain": [
       "0      2020\n",
       "1      2020\n",
       "2      2020\n",
       "3      2020\n",
       "4      2020\n",
       "       ... \n",
       "737    2022\n",
       "738    2022\n",
       "739    2022\n",
       "740    2022\n",
       "741    2022\n",
       "Name: 기준일, Length: 742, dtype: object"
      ]
     },
     "execution_count": 56,
     "metadata": {},
     "output_type": "execute_result"
    }
   ],
   "source": [
    "corona_table.기준일.dt.strftime('%Y')"
   ]
  },
  {
   "cell_type": "code",
   "execution_count": 57,
   "id": "8481f315",
   "metadata": {},
   "outputs": [
    {
     "data": {
      "text/plain": [
       "0      20\n",
       "1      20\n",
       "2      20\n",
       "3      20\n",
       "4      20\n",
       "       ..\n",
       "737    22\n",
       "738    22\n",
       "739    22\n",
       "740    22\n",
       "741    22\n",
       "Name: 기준일, Length: 742, dtype: object"
      ]
     },
     "execution_count": 57,
     "metadata": {},
     "output_type": "execute_result"
    }
   ],
   "source": [
    "corona_table.기준일.dt.strftime('%y')"
   ]
  },
  {
   "cell_type": "code",
   "execution_count": 58,
   "id": "1725d6e6",
   "metadata": {},
   "outputs": [
    {
     "data": {
      "text/plain": [
       "0      00\n",
       "1      00\n",
       "2      00\n",
       "3      00\n",
       "4      00\n",
       "       ..\n",
       "737    00\n",
       "738    00\n",
       "739    00\n",
       "740    00\n",
       "741    00\n",
       "Name: 기준일, Length: 742, dtype: object"
      ]
     },
     "execution_count": 58,
     "metadata": {},
     "output_type": "execute_result"
    }
   ],
   "source": [
    "corona_table.기준일.dt.strftime('%M')"
   ]
  },
  {
   "cell_type": "code",
   "execution_count": 60,
   "id": "060d1522",
   "metadata": {},
   "outputs": [
    {
     "data": {
      "text/plain": [
       "0      20\n",
       "1      21\n",
       "2      22\n",
       "3      23\n",
       "4      24\n",
       "       ..\n",
       "737    27\n",
       "738    28\n",
       "739    29\n",
       "740    30\n",
       "741    31\n",
       "Name: 기준일, Length: 742, dtype: object"
      ]
     },
     "execution_count": 60,
     "metadata": {},
     "output_type": "execute_result"
    }
   ],
   "source": [
    "corona_table.기준일.dt.strftime('%d')"
   ]
  },
  {
   "cell_type": "code",
   "execution_count": 60,
   "id": "8c6d19d9",
   "metadata": {},
   "outputs": [
    {
     "data": {
      "text/plain": [
       "0      20\n",
       "1      21\n",
       "2      22\n",
       "3      23\n",
       "4      24\n",
       "       ..\n",
       "737    27\n",
       "738    28\n",
       "739    29\n",
       "740    30\n",
       "741    31\n",
       "Name: 기준일, Length: 742, dtype: object"
      ]
     },
     "execution_count": 60,
     "metadata": {},
     "output_type": "execute_result"
    }
   ],
   "source": [
    "corona_table.기준일.dt.strftime('%d')"
   ]
  },
  {
   "cell_type": "code",
   "execution_count": 61,
   "id": "01d82bf3",
   "metadata": {},
   "outputs": [
    {
     "data": {
      "text/plain": [
       "0      01/20/20\n",
       "1      01/21/20\n",
       "2      01/22/20\n",
       "3      01/23/20\n",
       "4      01/24/20\n",
       "         ...   \n",
       "737    01/27/22\n",
       "738    01/28/22\n",
       "739    01/29/22\n",
       "740    01/30/22\n",
       "741    01/31/22\n",
       "Name: 기준일, Length: 742, dtype: object"
      ]
     },
     "execution_count": 61,
     "metadata": {},
     "output_type": "execute_result"
    }
   ],
   "source": [
    "corona_table.기준일.dt.strftime('%D')"
   ]
  },
  {
   "cell_type": "code",
   "execution_count": 91,
   "id": "ea39a0ad",
   "metadata": {},
   "outputs": [],
   "source": [
    "# 년-월 기준으로 사망자 수가 가장 높았던 년-월\n",
    "g_death = corona_table.groupby(corona_table.기준일.dt.strftime('%y-%m')).사망자수.sum()"
   ]
  },
  {
   "cell_type": "code",
   "execution_count": 92,
   "id": "d1a3f0d9",
   "metadata": {},
   "outputs": [],
   "source": [
    "# 년-월 기준으로 확진자 수가 가장 높았던 년-월\n",
    "g_decide = corona_table.groupby(corona_table.기준일.dt.strftime('%y-%m')).sum(numeric_only=True).확진자수"
   ]
  },
  {
   "cell_type": "markdown",
   "id": "b82acea4",
   "metadata": {},
   "source": [
    "# 월별 확진자 수와 사망자 수를 시각화"
   ]
  },
  {
   "cell_type": "code",
   "execution_count": 127,
   "id": "0dc80059",
   "metadata": {},
   "outputs": [
    {
     "data": {
      "image/png": "[encoded data removed]",
      "text/plain": [
       "<Figure size 1500x500 with 2 Axes>"
      ]
     },
     "metadata": {},
     "output_type": "display_data"
    }
   ],
   "source": [
    "g_date_ddsum.plot(\n",
    "    figsize=(15,5),\n",
    "    color=['olive', 'orange'],\n",
    "    title='년-월 확진자 수와 사망자 수',\n",
    "    secondary_y='사망자수',\n",
    "    xticks=range(0,25),\n",
    "    xlabel='년-월',\n",
    "    rot=20,\n",
    ")\n",
    "\n",
    "plt.show()"
   ]
  },
  {
   "cell_type": "code",
   "execution_count": 124,
   "id": "cf644279",
   "metadata": {
    "scrolled": true
   },
   "outputs": [
    {
     "data": {
      "image/png": "[encoded data removed]",
      "text/plain": [
       "<Figure size 1200x500 with 2 Axes>"
      ]
     },
     "metadata": {},
     "output_type": "display_data"
    }
   ],
   "source": [
    "plt.figure(\n",
    "    figsize=(12,5)\n",
    ")\n",
    "\n",
    "g_death.plot(\n",
    "    x='기준일',\n",
    "    color='orange',\n",
    "    label='사망자수'\n",
    ")\n",
    "g_decide.plot(\n",
    "    secondary_y='확진자수',\n",
    "    color='olive',\n",
    "    label='확진자수',\n",
    "    rot=25\n",
    ")\n",
    "\n",
    "plt.legend()\n",
    "plt.xticks(\n",
    "    ticks=range(len(g_decide)),\n",
    "    labels=g_death.index,\n",
    ")\n",
    "plt.show()"
   ]
  },
  {
   "cell_type": "code",
   "execution_count": 140,
   "id": "d711993d",
   "metadata": {},
   "outputs": [
    {
     "data": {
      "text/plain": [
       "기준일\n",
       "22-01    214860\n",
       "Name: 확진자수, dtype: int64"
      ]
     },
     "execution_count": 140,
     "metadata": {},
     "output_type": "execute_result"
    }
   ],
   "source": [
    "# 월별 확진자 수와 사망자 수가 높았던 날(행) 추출\n",
    "g_decide.sort_values(ascending=False)[:1]"
   ]
  },
  {
   "cell_type": "code",
   "execution_count": 141,
   "id": "34fd25ce",
   "metadata": {
    "scrolled": true
   },
   "outputs": [
    {
     "data": {
      "text/plain": [
       "기준일\n",
       "21-12    1939\n",
       "Name: 사망자수, dtype: int64"
      ]
     },
     "execution_count": 141,
     "metadata": {},
     "output_type": "execute_result"
    }
   ],
   "source": [
    "g_death.sort_values(ascending=False)[:1]"
   ]
  },
  {
   "cell_type": "markdown",
   "id": "66eac014",
   "metadata": {},
   "source": [
    "2020년 1월 20일 ~ 2022년 1월 31일 기간 중  \n",
    "확진자 수가 가장 높았던 날은 2022년 01월 30일로 17,522명이었고,  \n",
    "사망자 수가 가장 높았던 날은 2021년 12월 23일로 109명이었다.  \n",
    "\n",
    "확진자 수가 가장 높았던 달은 2022년 1월로 214,860명이었고,  \n",
    "사망자 수가 가장 높았던 달은 2021년 12월로 1,939명이었다."
   ]
  }
 ],
 "metadata": {
  "kernelspec": {
   "display_name": "ex_kernel",
   "language": "python",
   "name": "ex"
  },
  "language_info": {
   "codemirror_mode": {
    "name": "ipython",
    "version": 3
   },
   "file_extension": ".py",
   "mimetype": "text/x-python",
   "name": "python",
   "nbconvert_exporter": "python",
   "pygments_lexer": "ipython3",
   "version": "3.8.10"
  },
  "toc": {
   "base_numbering": 1,
   "nav_menu": {},
   "number_sections": true,
   "sideBar": true,
   "skip_h1_title": false,
   "title_cell": "Table of Contents",
   "title_sidebar": "Contents",
   "toc_cell": false,
   "toc_position": {},
   "toc_section_display": true,
   "toc_window_display": false
  }
 },
 "nbformat": 4,
 "nbformat_minor": 5
}
