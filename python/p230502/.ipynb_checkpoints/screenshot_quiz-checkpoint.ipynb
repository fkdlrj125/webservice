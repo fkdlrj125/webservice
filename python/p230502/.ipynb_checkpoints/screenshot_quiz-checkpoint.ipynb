{
 "cells": [
  {
   "cell_type": "code",
   "execution_count": 2,
   "id": "45b38bce",
   "metadata": {},
   "outputs": [],
   "source": [
    "from selenium import webdriver\n",
    "from selenium.webdriver.common.by import By\n",
    "from time import sleep"
   ]
  },
  {
   "cell_type": "code",
   "execution_count": 10,
   "id": "23b5267c",
   "metadata": {},
   "outputs": [
    {
     "name": "stdout",
     "output_type": "stream",
     "text": [
      "스크린샷 완료\n"
     ]
    }
   ],
   "source": [
    "# 크롬 브라우저 옵션 설정\n",
    "chromeOptions = webdriver.ChromeOptions()\n",
    "# 브라우저 최대화\n",
    "chromeOptions.add_argument('--start-maximized')\n",
    "\n",
    "# 브라우저 옵션 적용, 실행\n",
    "driver = webdriver.Chrome(options=chromeOptions)\n",
    "\n",
    "# 네이버 접속\n",
    "driver.get('https://www.naver.com')\n",
    "\n",
    "sleep(2)\n",
    "\n",
    "# 광고 영역 엘리먼트 추출\n",
    "ad_element = driver.find_element(By.CSS_SELECTOR, '#veta_branding')\n",
    "\n",
    "# 추출한 엘리먼트 바이트로 변환\n",
    "ad_element_byte = ad_element.screenshot_as_png\n",
    "\n",
    "# 이미지 파일로 저장\n",
    "with open('naver_ad.png', 'wb') as file:\n",
    "    file.write(ad_element_byte)\n",
    "    \n",
    "print('스크린샷 완료')"
   ]
  }
 ],
 "metadata": {
  "kernelspec": {
   "display_name": "ex_kernel",
   "language": "python",
   "name": "ex"
  },
  "language_info": {
   "codemirror_mode": {
    "name": "ipython",
    "version": 3
   },
   "file_extension": ".py",
   "mimetype": "text/x-python",
   "name": "python",
   "nbconvert_exporter": "python",
   "pygments_lexer": "ipython3",
   "version": "3.8.10"
  }
 },
 "nbformat": 4,
 "nbformat_minor": 5
}
