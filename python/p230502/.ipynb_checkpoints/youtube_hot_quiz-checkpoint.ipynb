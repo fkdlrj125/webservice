{
 "cells": [
  {
   "cell_type": "code",
   "execution_count": null,
   "id": "478a4b98",
   "metadata": {},
   "outputs": [],
   "source": [
    "# 인기 급상승에서 최근 인기 동영상 목록에서 요소 추출\n",
    "# 제목, 게시자, 조회수(만), 게시일\n",
    "# 데이터 프레임으로 만들고 csv파일로 저장\n",
    "# 파일명 : youtube_hot.csv(인덱스 제외)"
   ]
  },
  {
   "cell_type": "code",
   "execution_count": 2,
   "id": "6db7a6c4",
   "metadata": {},
   "outputs": [],
   "source": [
    "from selenium import webdriver\n",
    "from selenium.webdriver.common.by import By\n",
    "from time import sleep\n",
    "import pandas"
   ]
  },
  {
   "cell_type": "code",
   "execution_count": 3,
   "id": "86dcda7c",
   "metadata": {},
   "outputs": [
    {
     "ename": "KeyError",
     "evalue": "'조회수(만)'",
     "output_type": "error",
     "traceback": [
      "\u001b[1;31m---------------------------------------------------------------------------\u001b[0m",
      "\u001b[1;31mKeyError\u001b[0m                                  Traceback (most recent call last)",
      "Cell \u001b[1;32mIn[3], line 37\u001b[0m\n\u001b[0;32m     35\u001b[0m     trend[\u001b[38;5;124m'\u001b[39m\u001b[38;5;124m제목\u001b[39m\u001b[38;5;124m'\u001b[39m]\u001b[38;5;241m.\u001b[39mappend(title)\n\u001b[0;32m     36\u001b[0m     trend[\u001b[38;5;124m'\u001b[39m\u001b[38;5;124m게시자\u001b[39m\u001b[38;5;124m'\u001b[39m]\u001b[38;5;241m.\u001b[39mappend(channel)\n\u001b[1;32m---> 37\u001b[0m     \u001b[43mtrend\u001b[49m\u001b[43m[\u001b[49m\u001b[38;5;124;43m'\u001b[39;49m\u001b[38;5;124;43m조회수(만)\u001b[39;49m\u001b[38;5;124;43m'\u001b[39;49m\u001b[43m]\u001b[49m\u001b[38;5;241m.\u001b[39mappend(watch)\n\u001b[0;32m     38\u001b[0m     trend[\u001b[38;5;124m'\u001b[39m\u001b[38;5;124m게시일\u001b[39m\u001b[38;5;124m'\u001b[39m]\u001b[38;5;241m.\u001b[39mappend(upload)\n\u001b[0;32m     40\u001b[0m df \u001b[38;5;241m=\u001b[39m pandas\u001b[38;5;241m.\u001b[39mDataFrame(trend)\n",
      "\u001b[1;31mKeyError\u001b[0m: '조회수(만)'"
     ]
    }
   ],
   "source": [
    "chromeOptions = webdriver.ChromeOptions()\n",
    "# 브라우저 화면 최대화\n",
    "chromeOptions.add_argument('--start-maximized')\n",
    "\n",
    "# DataFrame에 저장할 딕셔너리 생성\n",
    "trend = {'제목' : [], '게시자' : [], '조회수' : [], '게시일' : []}\n",
    "\n",
    "# 1. 크롬 브라우저 실행\n",
    "driver = webdriver.Chrome(options=chromeOptions)\n",
    "\n",
    "# 2. 유튜브 접속\n",
    "url = 'https://www.youtube.com/'\n",
    "driver.get(url)\n",
    "\n",
    "# 페이지 로드를 기다리기 위한 딜레이\n",
    "sleep(1)\n",
    "\n",
    "# 3. 인기 급상승 클릭\n",
    "index_xpath = '//*[@id=\"sections\"]/ytd-guide-section-renderer[3]//a[@id=\"endpoint\"]'\n",
    "driver.find_element(By.XPATH, index_xpath).click()\n",
    "\n",
    "# 페이지 동적 처리를 기다리기 위한 딜레이\n",
    "sleep(1)\n",
    "\n",
    "# 4. 아이디가 contents인 엘리먼트 내 4번째 엘리먼트 추출\n",
    "trending_list_xpath = '//*[@id=\"contents\"]/ytd-item-section-renderer[4]'\n",
    "trending_list_element = driver.find_element(By.XPATH, trending_list_xpath)\n",
    "\n",
    "# 5. 추출한 엘리먼트에서 Tag이름이 ytd-video-renderer인 엘리먼트들 추출\n",
    "trending_elements = trending_list_element.find_elements(By.TAG_NAME, 'ytd-video-renderer')\n",
    "\n",
    "# 6. 추출한 엘리먼트들에서 제목, 게시자, 조회수, 게시일 추출\n",
    "for element in trending_elements:\n",
    "    title = element.find_element(By.CSS_SELECTOR, 'a#video-title').text\n",
    "    channel = element.find_element(By.CSS_SELECTOR, 'div#text-container a').text\n",
    "    watch = element.find_element(By.CSS_SELECTOR, 'div#metadata-line span').text.split(' ')[1]\n",
    "    upload = element.find_element(By.CSS_SELECTOR, 'div#metadata-line > span:nth-of-type(2)').text.split(' ')[0]\n",
    "    \n",
    "    trend['제목'].append(title)\n",
    "    trend['게시자'].append(channel)\n",
    "    trend['조회수'].append(watch)\n",
    "    trend['게시일'].append(upload)\n",
    "\n",
    "# 7. 데이터 프레임 생성\n",
    "df = pandas.DataFrame(trend)\n",
    "\n",
    "# 8. csv파일 생성\n",
    "df.to_csv('youtube_hot.csv', index=False, encoding='UTF-8')\n",
    "driver.close()"
   ]
  }
 ],
 "metadata": {
  "kernelspec": {
   "display_name": "ex_kernel",
   "language": "python",
   "name": "ex"
  },
  "language_info": {
   "codemirror_mode": {
    "name": "ipython",
    "version": 3
   },
   "file_extension": ".py",
   "mimetype": "text/x-python",
   "name": "python",
   "nbconvert_exporter": "python",
   "pygments_lexer": "ipython3",
   "version": "3.8.10"
  },
  "toc": {
   "base_numbering": 1,
   "nav_menu": {},
   "number_sections": true,
   "sideBar": true,
   "skip_h1_title": false,
   "title_cell": "Table of Contents",
   "title_sidebar": "Contents",
   "toc_cell": false,
   "toc_position": {},
   "toc_section_display": true,
   "toc_window_display": false
  }
 },
 "nbformat": 4,
 "nbformat_minor": 5
}
