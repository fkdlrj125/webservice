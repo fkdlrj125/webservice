{
 "cells": [
  {
   "cell_type": "code",
   "execution_count": 1,
   "id": "89f3fea7",
   "metadata": {},
   "outputs": [],
   "source": [
    "from selenium import webdriver\n",
    "from selenium.webdriver.common.by import By\n",
    "from selenium.webdriver.common.keys import Keys\n",
    "from time import sleep"
   ]
  },
  {
   "cell_type": "code",
   "execution_count": 2,
   "id": "12f4e7f9",
   "metadata": {},
   "outputs": [
    {
     "name": "stdout",
     "output_type": "stream",
     "text": [
      "1. 크롬 웹 브라우저 실행\n",
      "2. 네이버 접속\n"
     ]
    }
   ],
   "source": [
    "# 크롬 웹 브라우저 실행\n",
    "driver = webdriver.Chrome()\n",
    "print('1. 크롬 웹 브라우저 실행')\n",
    "\n",
    "# 네이버 접속\n",
    "driver.get('https://www.naver.com')\n",
    "print('2. 네이버 접속')"
   ]
  },
  {
   "cell_type": "code",
   "execution_count": 18,
   "id": "7e4e8c9d",
   "metadata": {},
   "outputs": [
    {
     "name": "stdout",
     "output_type": "stream",
     "text": [
      "4. 뉴스 스탠드로 이동\n"
     ]
    }
   ],
   "source": [
    "# # 현재 페이지 전체 높이\n",
    "# web_page_height = driver.execute_script('return document.body.scrollHeight')\n",
    "# web_page_height\n",
    "\n",
    "# # 페이지 하단으로 이동\n",
    "# driver.execute_script(f'window.scrollTo(0, {web_page_height})')\n",
    "# print('3. 페이지 하단으로 이동')\n",
    "\n",
    "# 특정 위치로 이동 : 포커스 이동\n",
    "# 해당 엘리먼트의 하단이 브라우저 하단에 위치하게 이동\n",
    "from selenium.webdriver import ActionChains\n",
    "\n",
    "xpath = '//*[@id=\"NM_THEME_CONTAINER\"]/div[1]'\n",
    "move_element = driver.find_element(By.XPATH, xpath)\n",
    "ActionChains(driver).move_to_element(move_element).perform()\n",
    "print('4. 뉴스 스탠드로 이동')"
   ]
  }
 ],
 "metadata": {
  "kernelspec": {
   "display_name": "ex_kernel",
   "language": "python",
   "name": "ex"
  },
  "language_info": {
   "codemirror_mode": {
    "name": "ipython",
    "version": 3
   },
   "file_extension": ".py",
   "mimetype": "text/x-python",
   "name": "python",
   "nbconvert_exporter": "python",
   "pygments_lexer": "ipython3",
   "version": "3.8.10"
  }
 },
 "nbformat": 4,
 "nbformat_minor": 5
}
