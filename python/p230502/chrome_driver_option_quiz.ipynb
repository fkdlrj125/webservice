{
 "cells": [
  {
   "cell_type": "code",
   "execution_count": null,
   "id": "2a081781",
   "metadata": {},
   "outputs": [],
   "source": [
    "# w3school에 접속 후 검색창에 input 검색 후 창을 닫고 검색창에 input 지우기\n",
    "# 윈도우 크기 : 360,800\n",
    "# 작업 후 창 닫기"
   ]
  },
  {
   "cell_type": "code",
   "execution_count": 4,
   "id": "a509009d",
   "metadata": {},
   "outputs": [],
   "source": [
    "from selenium import webdriver\n",
    "from selenium.webdriver.common.keys import Keys\n",
    "from selenium.webdriver.common.by import By\n",
    "from time import sleep"
   ]
  },
  {
   "cell_type": "code",
   "execution_count": 15,
   "id": "dda77ff5",
   "metadata": {},
   "outputs": [],
   "source": [
    "# 크롬 드라이버 옵션 설정\n",
    "chromeOptions = webdriver.ChromeOptions()\n",
    "chromeOptions.add_argument('--window-size=360,800')\n",
    "\n",
    "# 크롬 웹 브라우저 실행\n",
    "driver = webdriver.Chrome(options=chromeOptions)\n",
    "\n",
    "# w3school 접속\n",
    "driver.get('https://www.w3schools.com/')\n",
    "\n",
    "sleep(1)\n",
    "\n",
    "# 검색창에 input 입력\n",
    "search_bar = driver.find_element(By.CSS_SELECTOR, 'form > input')\n",
    "search_bar.send_keys('input', Keys.ENTER)\n",
    "\n",
    "sleep(2)\n",
    "\n",
    "# 검색 결과 창 닫기\n",
    "driver.find_element(By.CSS_SELECTOR, '.gsc-results-close-btn').click()\n",
    "\n",
    "sleep(2)\n",
    "\n",
    "# 검색창에 추가로 입력\n",
    "search_bar.send_keys('추가 입력')\n",
    "\n",
    "sleep(3)\n",
    "\n",
    "# 검색창에서 검색어 지우기\n",
    "# search_bar.send_keys(Keys.CONTROL, 'A')\n",
    "# search_bar.send_keys(Keys.BACKSPACE)\n",
    "search_bar.clear()\n",
    "\n",
    "sleep(2)\n",
    "\n",
    "# 크롬 웹 브라우저 종료\n",
    "driver.quit()"
   ]
  }
 ],
 "metadata": {
  "kernelspec": {
   "display_name": "ex_kernel",
   "language": "python",
   "name": "ex"
  },
  "language_info": {
   "codemirror_mode": {
    "name": "ipython",
    "version": 3
   },
   "file_extension": ".py",
   "mimetype": "text/x-python",
   "name": "python",
   "nbconvert_exporter": "python",
   "pygments_lexer": "ipython3",
   "version": "3.8.10"
  }
 },
 "nbformat": 4,
 "nbformat_minor": 5
}
