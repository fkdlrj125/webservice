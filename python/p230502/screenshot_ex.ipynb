{
 "cells": [
  {
   "cell_type": "code",
   "execution_count": 1,
   "id": "4acb1bdc",
   "metadata": {},
   "outputs": [],
   "source": [
    "from selenium import webdriver\n",
    "from selenium.webdriver import ActionChains\n",
    "from selenium.webdriver.common.by import By\n",
    "from selenium.webdriver.common.keys import Keys\n",
    "from time import sleep"
   ]
  },
  {
   "cell_type": "code",
   "execution_count": 8,
   "id": "79a0d513",
   "metadata": {},
   "outputs": [
    {
     "name": "stdout",
     "output_type": "stream",
     "text": [
      "스크린샷 완료!!\n"
     ]
    }
   ],
   "source": [
    "# 크롬 드라이버 옵션 설정\n",
    "chromeOptions = webdriver.ChromeOptions()\n",
    "chromeOptions.add_argument('--window-size=360,800')\n",
    "\n",
    "# 크롬 웹 브라우저 실행\n",
    "driver = webdriver.Chrome(options=chromeOptions)\n",
    "\n",
    "# w3school 접속\n",
    "url = 'https://www.w3schools.com/'\n",
    "driver.get(url)\n",
    "\n",
    "sleep(2)\n",
    "\n",
    "# # 실행된 웹 브라우저 전체 스크린샷\n",
    "# driver.save_screenshot('screenshot.png')\n",
    "# print('전체 스크린샷 저장 완료!')\n",
    "\n",
    "# 페이지 파이썬 영역 스크린샷\n",
    "xpath = '//*[@id=\"main\"]/div[6]'\n",
    "python_area = driver.find_element(By.XPATH, xpath)\n",
    "\n",
    "# # webElement -> binary로 변환\n",
    "# python_element_byte = python_area.screenshot_as_png\n",
    "\n",
    "# with open('python_element.png', 'wb') as file:\n",
    "#     file.write(python_element_byte)\n",
    "\n",
    "python_area.screenshot('python_element2.png')\n",
    "\n",
    "print('스크린샷 완료!!')"
   ]
  }
 ],
 "metadata": {
  "kernelspec": {
   "display_name": "ex_kernel",
   "language": "python",
   "name": "ex"
  },
  "language_info": {
   "codemirror_mode": {
    "name": "ipython",
    "version": 3
   },
   "file_extension": ".py",
   "mimetype": "text/x-python",
   "name": "python",
   "nbconvert_exporter": "python",
   "pygments_lexer": "ipython3",
   "version": "3.8.10"
  }
 },
 "nbformat": 4,
 "nbformat_minor": 5
}
