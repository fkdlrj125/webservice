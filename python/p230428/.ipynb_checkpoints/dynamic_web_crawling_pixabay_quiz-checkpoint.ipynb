{
 "cells": [
  {
   "cell_type": "code",
   "execution_count": null,
   "id": "5f01eadd",
   "metadata": {},
   "outputs": [],
   "source": [
    "# pixabay에서 구슬 검색 후 이미지 전부 다운로드\n",
    "# 다운로드 폴더 : 검색어\n",
    "# 파일명 : 숫자.png\n",
    "# 경로 : 현재 작업 중인 폴더\n",
    "\n",
    "# 추가 : 검색어는 입력받아서 실행"
   ]
  },
  {
   "cell_type": "code",
   "execution_count": 10,
   "id": "a8a7f898",
   "metadata": {},
   "outputs": [],
   "source": [
    "from selenium import webdriver\n",
    "from selenium.webdriver.common.by import By\n",
    "from selenium.webdriver.common.keys import Keys\n",
    "from time import sleep\n",
    "import requests\n",
    "import os"
   ]
  },
  {
   "cell_type": "code",
   "execution_count": null,
   "id": "51a68c94",
   "metadata": {},
   "outputs": [],
   "source": [
    "search = '구슬'\n",
    "headers = 'Mozilla/5.0 (Windows NT 10.0; Win64; x64) AppleWebKit/537.36 (KHTML, like Gecko) Chrome/112.0.0.0 Safari/537.36'\n",
    "imgs = []\n",
    "\n",
    "# 1. pixabay 접속\n",
    "driver = webdriver.Chrome()\n",
    "url = 'https://pixabay.com/ko/'\n",
    "driver.get(url)\n",
    "\n",
    "# 페이지 로드 시간 딜레이\n",
    "sleep(1)\n",
    "\n",
    "# 2. 검색창 엘리먼트 접근 후 검색어 입력 \n",
    "search_bar = driver.find_element(By.XPATH, '//*[@class=\"searchForm--XoxyI\"]/input')\n",
    "search_bar.click()\n",
    "search_bar.send_keys(search)\n",
    "search_bar.send_keys(Keys.ENTER)\n",
    "\n",
    "# 이미지 렌더링 시간 딜레이\n",
    "sleep(3)\n",
    "\n",
    "# 3. 전체 페이지 추출\n",
    "pages_text = driver.find_element(By.XPATH, '//*[@class=\"add_search_params pure-form hide-xs hide-sm hide-md\"]').get_attribute('innerText')\n",
    "total_page = int(pages_text.split(' ')[1].split('\\xa0')[0])\n",
    "\n",
    "for page in range(total_page):\n",
    "    # 4. 페이지에서 무료 이미지 전부 추출\n",
    "    img_datas = driver.find_elements(By.XPATH, '//*[@class=\"row-masonry search-results\"]//img')\n",
    "    \n",
    "    # 5. 추출한 이미지의 주소들을 리스트에 저장\n",
    "    # [방법 1] - 스크롤을 통해 이미지 렌더링 \n",
    "    # 페이지가 이동되면 이전에 저장한 WebElement에 접근 불가능해 해당 페이지에서 주소 추출\n",
    "    for data in img_datas:\n",
    "        imgs.append(data.get_attribute('src'))\n",
    "        # 페이지 이동 시 모든 이미지가 로드되는 것이 아니라 일부만 로드되기 때문에 스크롤을 내려 모든 이미지를 로드\n",
    "        driver.find_element(By.TAG_NAME, 'body').send_keys(Keys.PAGE_DOWN)\n",
    "\n",
    "    # [방법 2] - 렌더링된 이미지와 렌더링되지 않은 이미지 추출\n",
    "#     for data in img_datas:\n",
    "#         if data.get_attribute('data-lazy')\n",
    "#             data.get_attribute('data-lazy')\n",
    "#         else:\n",
    "#             data.get_attribute('src')\n",
    "    \n",
    "    # 6. 마지막 페이지에선 클릭할 필요가 없기 때문에 마지막 페이지가 아니면 클릭\n",
    "    if page != total_page-1:\n",
    "        driver.find_element(By.XPATH, '//*[@id=\"content\"]/div/a').click()\n",
    "    \n",
    "    # 클릭 후 이미지 렌더링 시간 딜레이\n",
    "    sleep(3)"
   ]
  },
  {
   "cell_type": "code",
   "execution_count": 4,
   "id": "a86cfbac",
   "metadata": {},
   "outputs": [],
   "source": [
    "# 7. 이미지 저장할 폴더 생성\n",
    "save_path = f'{search}'\n",
    "os.makedirs(save_path, exist_ok=True)\n",
    "\n",
    "# os 작업은 처리속도가 상대적으로 느리기 때문에 딜레이\n",
    "sleep(2)"
   ]
  },
  {
   "cell_type": "code",
   "execution_count": 11,
   "id": "9a3e68ce",
   "metadata": {},
   "outputs": [
    {
     "name": "stdout",
     "output_type": "stream",
     "text": [
      "** 이미지 424개 저장 완료 **\n"
     ]
    }
   ],
   "source": [
    "# 8. 추출한 이미지 주소로 이미지 다운로드\n",
    "# 이미지 확장자는 맞춰서 해주기\n",
    "for idx, img in enumerate(imgs, 1):\n",
    "    img_data = requests.get(img, headers=headers).content\n",
    "    with open(f'{save_path}/{idx}.png', 'wb') as file:\n",
    "        file.write(img_data)\n",
    "        \n",
    "print(f'** 이미지 {idx}개 저장 완료 **')"
   ]
  }
 ],
 "metadata": {
  "kernelspec": {
   "display_name": "ex_kernel",
   "language": "python",
   "name": "ex"
  },
  "language_info": {
   "codemirror_mode": {
    "name": "ipython",
    "version": 3
   },
   "file_extension": ".py",
   "mimetype": "text/x-python",
   "name": "python",
   "nbconvert_exporter": "python",
   "pygments_lexer": "ipython3",
   "version": "3.8.10"
  }
 },
 "nbformat": 4,
 "nbformat_minor": 5
}
