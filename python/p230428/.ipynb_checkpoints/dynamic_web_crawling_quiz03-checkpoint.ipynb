{
 "cells": [
  {
   "cell_type": "code",
   "execution_count": null,
   "id": "7fd17dd5",
   "metadata": {},
   "outputs": [],
   "source": [
    "# [문제]네이버 뉴스 경제홈의 실시간 언론사, 뉴스 타이틀, url 1 ~ 10페이지 추출 - csv파일 저장(인덱스 제외)\n",
    "# 컬럼명 : 언론사, 제목, 주소\n",
    "# 파일명 : naver_economic_news_title"
   ]
  },
  {
   "cell_type": "code",
   "execution_count": 1,
   "id": "7e538ca7",
   "metadata": {},
   "outputs": [],
   "source": [
    "from selenium import webdriver\n",
    "from selenium.webdriver.common.by import By\n",
    "from time import sleep\n",
    "import pandas"
   ]
  },
  {
   "cell_type": "code",
   "execution_count": 2,
   "id": "70fabc9a",
   "metadata": {},
   "outputs": [],
   "source": [
    "driver = webdriver.Chrome()\n",
    "# 네이버 접속\n",
    "driver.get('https://www.naver.com/')\n",
    "\n",
    "naver_news = {'언론사' : [],'제목' : [], '주소' : []}\n",
    "\n",
    "# 뉴스 탭 클릭\n",
    "driver.find_element(By.XPATH, '//*[@id=\"NM_FAVORITE\"]/div[1]/ul[2]/li[2]/a').click()\n",
    "\n",
    "# 경제 탭 클릭\n",
    "driver.find_element(By.XPATH, '//*[@class=\"Nlnb_menu_list\"]/li[3]/a').click()\n",
    "sleep(1)\n",
    "\n",
    "for idx in range(1,11):\n",
    "    # section_body의 자손 중 dl 추출\n",
    "    dl_list = driver.find_elements(By.XPATH, '//*[@id=\"section_body\"]//dl')\n",
    "    \n",
    "    for dl in dl_list:\n",
    "        # dl의 자식 중 2번째 dt의 자식 a 태그 추출\n",
    "        a_info = dl.find_element(By.XPATH, 'dt[2]/a')\n",
    "        \n",
    "        # 추출한 a태그의 content추출\n",
    "        title = a_info.text\n",
    "        \n",
    "        # 추출한 a태그의 href속성 추출\n",
    "        url = a_info.get_attribute('href')\n",
    "        \n",
    "        # dl의 자식 중 dd의 2번째 span 추출 후 content추출\n",
    "        writing = dl.find_element(By.XPATH, 'dd/span[2]').text\n",
    "        \n",
    "        # 만들어 놓은 딕셔너리에 언론사, 제목, 주소 저장\n",
    "        naver_news['언론사'].append(writing)\n",
    "        naver_news['제목'].append(title)\n",
    "        naver_news['주소'].append(url)\n",
    "    \n",
    "    if idx == 10:\n",
    "        pass\n",
    "    else:\n",
    "        driver.find_element(By.XPATH, f'//*[@id=\"paging\"]/a[{idx}]').click()\n",
    "        sleep(2)"
   ]
  },
  {
   "cell_type": "code",
   "execution_count": 3,
   "id": "48797383",
   "metadata": {},
   "outputs": [],
   "source": [
    "df = pandas.DataFrame(naver_news)\n",
    "df.to_csv('naver_economic_news_title.csv', index=False, encoding='utf-8')\n",
    "\n",
    "driver.close()"
   ]
  }
 ],
 "metadata": {
  "kernelspec": {
   "display_name": "ex_kernel",
   "language": "python",
   "name": "ex"
  },
  "language_info": {
   "codemirror_mode": {
    "name": "ipython",
    "version": 3
   },
   "file_extension": ".py",
   "mimetype": "text/x-python",
   "name": "python",
   "nbconvert_exporter": "python",
   "pygments_lexer": "ipython3",
   "version": "3.8.10"
  }
 },
 "nbformat": 4,
 "nbformat_minor": 5
}
