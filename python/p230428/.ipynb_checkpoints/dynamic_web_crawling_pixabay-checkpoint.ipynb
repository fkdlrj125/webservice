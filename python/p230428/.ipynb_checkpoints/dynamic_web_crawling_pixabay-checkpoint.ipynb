{
 "cells": [
  {
   "cell_type": "code",
   "execution_count": 41,
   "id": "8e945134",
   "metadata": {},
   "outputs": [],
   "source": [
    "from selenium import webdriver\n",
    "from selenium.webdriver.common.by import By\n",
    "from selenium.webdriver.common.keys import Keys\n",
    "from time import sleep\n",
    "from urllib.request import urlretrieve\n",
    "import requests\n",
    "import os"
   ]
  },
  {
   "cell_type": "code",
   "execution_count": 64,
   "id": "b31d4a85",
   "metadata": {},
   "outputs": [],
   "source": [
    "driver = webdriver.Chrome()\n",
    "url = 'https://pixabay.com/ko/'\n",
    "driver.get(url)\n",
    "img_src = []\n",
    "\n",
    "# 페이지 렌더링 시간을 기다리기 위한 딜레이\n",
    "sleep(2)\n",
    "\n",
    "# 이미지 엘리먼트 하나 추출\n",
    "# img_element = driver.find_element(By.CSS_SELECTOR, 'img[alt]')\n",
    "# print(img_element.get_attribute('src'))\n",
    "\n",
    "# 이미지 엘리먼트 여러 개 추출\n",
    "img_elements = driver.find_elements(By.CSS_SELECTOR, 'img[alt]')\n",
    "# print(img_elements)\n",
    "\n",
    "# 현재 위치에 img 폴더 생성\n",
    "if not os.path.exists('img'):\n",
    "    os.mkdir('img')\n",
    "    \n",
    "# save_path = os.path.join(os.getcwd() + '\\\\img\\\\')\n",
    "# os.makedirs(save_path, exist_ok=True)\n",
    "# print('폴더 생성 완료 >>', save_path)\n",
    "\n",
    "# 폴더에 이미지 저장\n",
    "for img in img_elements:\n",
    "#     print(img.get_attribute('src'))\n",
    "    img_src.append(img.get_attribute('src'))\n",
    "    \n",
    "headers = {'user-agent' : 'Mozilla/5.0 (Windows NT 10.0; Win64; x64) AppleWebKit/537.36 (KHTML, like Gecko) Chrome/112.0.0.0 Safari/537.36'}\n",
    "\n",
    "for idx, url in enumerate(img_src, 1):\n",
    "    img = requests.get(url, headers=headers).content\n",
    "    \n",
    "    with open(f'img/{idx}.png', 'wb') as file:\n",
    "        file.write(img)\n",
    "\n",
    "driver.close()\n",
    "print(f'** 이미지 {idx}개 다운로드 완료!! **')"
   ]
  },
  {
   "cell_type": "code",
   "execution_count": 50,
   "id": "abd3e455",
   "metadata": {},
   "outputs": [],
   "source": [
    "url = 'https://cdn.pixabay.com/index/2023/04/21/00-17-54-889_1440x550.jpg'\n",
    "headers = {'user-agent' : 'Mozilla/5.0 (Windows NT 10.0; Win64; x64) AppleWebKit/537.36 (KHTML, like Gecko) Chrome/112.0.0.0 Safari/537.36'}\n",
    "img = requests.get(url, headers=headers)"
   ]
  },
  {
   "cell_type": "code",
   "execution_count": null,
   "id": "4e313975",
   "metadata": {},
   "outputs": [],
   "source": [
    "with open('img/1.png', 'wb') as file:\n",
    "    file.write(img.content)"
   ]
  }
 ],
 "metadata": {
  "kernelspec": {
   "display_name": "ex_kernel",
   "language": "python",
   "name": "ex"
  },
  "language_info": {
   "codemirror_mode": {
    "name": "ipython",
    "version": 3
   },
   "file_extension": ".py",
   "mimetype": "text/x-python",
   "name": "python",
   "nbconvert_exporter": "python",
   "pygments_lexer": "ipython3",
   "version": "3.8.10"
  }
 },
 "nbformat": 4,
 "nbformat_minor": 5
}
