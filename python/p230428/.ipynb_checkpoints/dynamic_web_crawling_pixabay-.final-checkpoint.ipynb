{
 "cells": [
  {
   "cell_type": "code",
   "execution_count": 5,
   "id": "8e945134",
   "metadata": {},
   "outputs": [
    {
     "name": "stdout",
     "output_type": "stream",
     "text": [
      "** 이미지 37개 다운로드 완료!! **\n"
     ]
    }
   ],
   "source": [
    "from selenium import webdriver\n",
    "from selenium.webdriver.common.by import By\n",
    "from selenium.webdriver.common.keys import Keys\n",
    "from time import sleep\n",
    "from urllib.request import urlretrieve\n",
    "import requests\n",
    "import os\n",
    "\n",
    "driver = webdriver.Chrome()\n",
    "url = 'https://pixabay.com/ko/'\n",
    "driver.get(url)\n",
    "\n",
    "# 페이지 렌더링 시간을 기다리기 위한 딜레이\n",
    "sleep(2)\n",
    "\n",
    "# 이미지 엘리먼트 여러 개 추출\n",
    "img_elements = driver.find_elements(By.CSS_SELECTOR, 'img[alt]')\n",
    "\n",
    "# 현재 위치에 img 폴더 생성\n",
    "folder_name = 'img2'\n",
    "if not os.path.exists(folder_name):\n",
    "    os.mkdir(folder_name)\n",
    "\n",
    "# 추출한 엘리먼트에서 이미지 주소 추출 후 \n",
    "# img 폴더에 이미지 저장\n",
    "headers = {'user-agent' : 'Mozilla/5.0 (Windows NT 10.0; Win64; x64) AppleWebKit/537.36 (KHTML, like Gecko) Chrome/112.0.0.0 Safari/537.36'}\n",
    "\n",
    "for idx, e in enumerate(img_elements, 1):\n",
    "    img = requests.get(e.get_attribute('src'), headers=headers).content\n",
    "    \n",
    "    with open(f'{folder_name}/{idx}.png', 'wb') as file:\n",
    "        file.write(img)\n",
    "\n",
    "# 웹 브라우저 닫기\n",
    "sleep(1)\n",
    "driver.close()\n",
    "print(f'** 이미지 {idx}개 다운로드 완료!! **')"
   ]
  }
 ],
 "metadata": {
  "kernelspec": {
   "display_name": "ex_kernel",
   "language": "python",
   "name": "ex"
  },
  "language_info": {
   "codemirror_mode": {
    "name": "ipython",
    "version": 3
   },
   "file_extension": ".py",
   "mimetype": "text/x-python",
   "name": "python",
   "nbconvert_exporter": "python",
   "pygments_lexer": "ipython3",
   "version": "3.8.10"
  }
 },
 "nbformat": 4,
 "nbformat_minor": 5
}
