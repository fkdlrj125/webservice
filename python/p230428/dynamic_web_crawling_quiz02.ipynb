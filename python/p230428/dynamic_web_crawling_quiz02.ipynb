{
 "cells": [
  {
   "cell_type": "code",
   "execution_count": 1,
   "id": "6aa7d004",
   "metadata": {},
   "outputs": [],
   "source": [
    "#[문제] 네이버 뉴스의 경제홈의 실시간 뉴스 타이틀을 추출하시오. "
   ]
  },
  {
   "cell_type": "code",
   "execution_count": 21,
   "id": "848936ee",
   "metadata": {},
   "outputs": [],
   "source": [
    "from selenium import webdriver\n",
    "from selenium.webdriver.common.by import By\n",
    "from time import sleep"
   ]
  },
  {
   "cell_type": "code",
   "execution_count": 24,
   "id": "783906af",
   "metadata": {},
   "outputs": [],
   "source": [
    "driver = webdriver.Chrome()\n",
    "url = 'https://www.naver.com/'\n",
    "driver.get(url)\n",
    "\n",
    "driver.find_element(By.XPATH, '//*[@id=\"NM_FAVORITE\"]/div[1]/ul[2]/li[2]/a').click()\n",
    "driver.find_element(By.XPATH, '//*[@class=\"Nlnb_menu_list\"]/li[3]/a').click()\n",
    "sleep(1)\n",
    "\n",
    "# id가 section_body인 엘리먼트의 자손 중 두 번째 dt의 자식인 a태그 접근\n",
    "titles = driver.find_elements(By.XPATH, '//*[@id=\"section_body\"]//dt[2]/a')"
   ]
  },
  {
   "cell_type": "code",
   "execution_count": 25,
   "id": "3b856cdb",
   "metadata": {},
   "outputs": [
    {
     "name": "stdout",
     "output_type": "stream",
     "text": [
      "'주가조작 핵심' 지목된 라덕연 \"수익난 사람이 범인\"…김익래 회장 저격\n",
      "은행 대출금리 넉달째 하락 5.17%…고정금리대출 비중 6년6개월 만 최고[머니뭐니]\n",
      "“50년간 동결 솔깃” 고정금리 가계대출 비중 50% 넘었다…38개월 만\n",
      "아난티 대표 \"주가 조작과 일체 관련없어…이중명 회장 울고있다\"\n",
      "\"살기 좋았었나\"...지난해 10년간 실업˙범죄발생률 '최저'\n",
      "\"최대한 비싸게 판다\"…'위스키 호구' 한국에 초고가 전략 [박동휘의 컨슈머 리포트]\n",
      "반도체 깜짝 반등에 생산 1.6% 늘었지만…\"경기회복 판단 일러\"(종합)\n",
      "금감원, 증권사 긴급소집…\"CFD·'빚투' 리스크 관리\" 주문(종합2보)\n",
      "일본·중국 여행 코로나 장벽 풀린다…LCC 날아\n",
      "인텔, 사상 최대 손실에도 '바닥 기대감'에 주가 상승\n",
      "SK바사 \"블록버스터 백신 5개 추가개발…투자액 절반 R&D에\"\n",
      "\"3년 적자 벗어나야\"…美의류업체 갭, 1800명 추가 해고\n",
      "한화 김동관 '육해공 방산' 꿈…이제 '공'만 남았다\n",
      "한·미 “반도체법·IRA 기업경영 부담·불확실성 최소화” 합의\n",
      "복수의결권 둘러싼 동상이몽…개미는 ‘우려’ VC는 ‘환영’\n",
      "세빛섬 '루이비통' vs. 경복궁 '구찌'…韓서 명품 '자존심 싸움' [양지윤의 왓츠in장바구니]\n",
      "[Asia오전] 美성장률 '예상하회'에 5월 금리동결? 닛케이 0.70%↑\n",
      "김익래 회장, 폭락 전 605억 지분 매각 논란…키움증권 사장 “우연의 일치”\n",
      "CFD 후폭풍 맞을라…한투·삼성 '중단', KB·키움 '증거금 100%로'\n",
      "LGU+, '먹통' 피해고객 1인당 평균 1천 원 요금 감면\n"
     ]
    }
   ],
   "source": [
    "for title in titles:\n",
    "    print(title.text)"
   ]
  }
 ],
 "metadata": {
  "kernelspec": {
   "display_name": "ex_kernel",
   "language": "python",
   "name": "ex"
  },
  "language_info": {
   "codemirror_mode": {
    "name": "ipython",
    "version": 3
   },
   "file_extension": ".py",
   "mimetype": "text/x-python",
   "name": "python",
   "nbconvert_exporter": "python",
   "pygments_lexer": "ipython3",
   "version": "3.8.10"
  }
 },
 "nbformat": 4,
 "nbformat_minor": 5
}
