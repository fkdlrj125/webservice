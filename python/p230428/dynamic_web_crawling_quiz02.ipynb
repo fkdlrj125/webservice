{
 "cells": [
  {
   "cell_type": "code",
   "execution_count": 1,
   "id": "6aa7d004",
   "metadata": {},
   "outputs": [],
   "source": [
    "#[문제] 네이버 뉴스의 경제홈의 실시간 뉴스 타이틀을 추출하시오. "
   ]
  },
  {
   "cell_type": "code",
   "execution_count": 7,
   "id": "7e538ca7",
   "metadata": {},
   "outputs": [],
   "source": [
    "from selenium import webdriver\n",
    "from selenium.webdriver.common.by import By\n",
    "from time import sleep"
   ]
  },
  {
   "cell_type": "code",
   "execution_count": 1,
   "id": "848936ee",
   "metadata": {},
   "outputs": [],
   "source": [
    "# naver 접속\n",
    "driver = webdriver.Chrome()\n",
    "url = 'https://www.naver.com/'\n",
    "driver.get(url)\n",
    "\n",
    "# 뉴스 탭 클릭\n",
    "driver.find_element(By.XPATH, '//*[@id=\"NM_FAVORITE\"]/div[1]/ul[2]/li[2]/a').click()\n",
    "\n",
    "# 경제 탭 클릭\n",
    "driver.find_element(By.XPATH, '//*[@class=\"Nlnb_menu_list\"]/li[3]/a').click()\n",
    "sleep(2)\n",
    "\n",
    "# 뉴스 타이틀 추출\n",
    "# id가 section_body인 엘리먼트의 자손 중 두 번째 dt의 자식인 a태그 접근\n",
    "titles = driver.find_elements(By.XPATH, '//*[@id=\"section_body\"]//dt[2]/a')\n",
    "\n",
    "# 뉴스 타이틀 출력\n",
    "for idx, title in enumerate(titles, 1):\n",
    "    print(f'{idx}. {title.text}')"
   ]
  },
  {
   "cell_type": "code",
   "execution_count": null,
   "id": "7fd17dd5",
   "metadata": {},
   "outputs": [],
   "source": [
    "# [문제]네이버 뉴스 경제홈의 실시간 언론사, 뉴스 타이틀, url 1 ~ 10페이지 추출 - csv파일 저장(인덱스 제외)"
   ]
  },
  {
   "cell_type": "code",
   "execution_count": null,
   "id": "70fabc9a",
   "metadata": {},
   "outputs": [],
   "source": [
    "driver = webdriver.Chrome()\n",
    "driver.get('https://www.naver.com/')\n",
    "\n",
    "naver_news = ['언론사' : {}, '제목' : {}, '주소' : {}]\n",
    "\n"
   ]
  },
  {
   "cell_type": "code",
   "execution_count": null,
   "id": "48797383",
   "metadata": {},
   "outputs": [],
   "source": []
  },
  {
   "cell_type": "code",
   "execution_count": null,
   "id": "b5ca942e",
   "metadata": {},
   "outputs": [],
   "source": []
  }
 ],
 "metadata": {
  "kernelspec": {
   "display_name": "ex_kernel",
   "language": "python",
   "name": "ex"
  },
  "language_info": {
   "codemirror_mode": {
    "name": "ipython",
    "version": 3
   },
   "file_extension": ".py",
   "mimetype": "text/x-python",
   "name": "python",
   "nbconvert_exporter": "python",
   "pygments_lexer": "ipython3",
   "version": "3.8.10"
  }
 },
 "nbformat": 4,
 "nbformat_minor": 5
}
