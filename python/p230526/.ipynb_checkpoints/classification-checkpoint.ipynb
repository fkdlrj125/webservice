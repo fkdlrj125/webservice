{
 "cells": [
  {
   "cell_type": "markdown",
   "id": "84e7a0d6",
   "metadata": {},
   "source": [
    "# 분류(Classification) 성능 평가 지표\n",
    "- 정확도(Accuracy) : 예측의 정답 비율\n",
    "    - 2진 분류에서 성능 평가 지표로 사용하기 적합하지 않음\n",
    "    - 2진 분류에서 데이터가 편향됐을 때 성능 지표가 부정확할 수 있음\n",
    "- 오차행렬(Confusion Matrix)\n",
    "    - 정확도 : TN + TP / TN + FP + FN + TP\n",
    "    - 정밀도(Precision) : TP / FP + TP -> 예측 Positive \n",
    "        - 예측 중 정답이라 한 것중에 실제 정답인 비율\n",
    "        - 정밀도를 높이기 위해 FP(틀린 예측)비율을 낮춤\n",
    "        - 예측이 중요하지만 틀려도 큰 문제가 발생하지 않는 상황에 사용\n",
    "    - 재현율(Recall) : TP / FN + TP -> 실제 Positive\n",
    "        - 실제 정답 중 예측이 정답인 비율\n",
    "        - 재현율을 높이기 위해 FN(틀린 정답)비율을 낮춤\n",
    "        - 예측이 틀리면 안 되는 상황에 사용\n",
    "    \n",
    " . | Negative | Positive\n",
    "- | - | -\n",
    "Negative | TN(True Negative) | FP(False Positive)\n",
    "Positive | FN(False Negative) | TP(True Positive)\n",
    "    \n",
    "\n",
    "<BR><BR>\n",
    "- 정밀도(Precision) : TP / FP + TP -> 예측 Positive \n",
    "    - 예측 중 정답이라 한 것중에 실제 정답인 비율\n",
    "    - 정밀도를 높이기 위해 FP(틀린 예측)비율을 낮춤\n",
    "    - 예측이 중요하지만 틀려도 큰 문제가 발생하지 않는 상황에 사용\n",
    "- 재현율(Recall) : TP / FN + TP -> 실제 Positive\n",
    "    - 실제 정답 중 예측이 정답인 비율\n",
    "    - 재현율을 높이기 위해 FN(틀린 정답)비율을 낮춤\n",
    "    - 예측이 틀리면 안 되는 상황에 사용\n",
    "- F1 Score\n",
    "- ROC AUC\n",
    "\n",
    "- 분류 종류\n",
    "    - 2진 분류 : 2가지 결과값으로 분류"
   ]
  },
  {
   "cell_type": "code",
   "execution_count": null,
   "id": "c0892acf",
   "metadata": {},
   "outputs": [],
   "source": []
  }
 ],
 "metadata": {
  "kernelspec": {
   "display_name": "ex_kernel",
   "language": "python",
   "name": "ex"
  },
  "language_info": {
   "codemirror_mode": {
    "name": "ipython",
    "version": 3
   },
   "file_extension": ".py",
   "mimetype": "text/x-python",
   "name": "python",
   "nbconvert_exporter": "python",
   "pygments_lexer": "ipython3",
   "version": "3.8.10"
  },
  "toc": {
   "base_numbering": 1,
   "nav_menu": {},
   "number_sections": true,
   "sideBar": true,
   "skip_h1_title": false,
   "title_cell": "Table of Contents",
   "title_sidebar": "Contents",
   "toc_cell": false,
   "toc_position": {},
   "toc_section_display": true,
   "toc_window_display": false
  }
 },
 "nbformat": 4,
 "nbformat_minor": 5
}
