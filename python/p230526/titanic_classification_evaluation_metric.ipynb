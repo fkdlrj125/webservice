{
 "cells": [
  {
   "cell_type": "code",
   "execution_count": 11,
   "id": "7ada9064",
   "metadata": {},
   "outputs": [],
   "source": [
    "from sklearn.model_selection import train_test_split\n",
    "from sklearn.tree import DecisionTreeClassifier\n",
    "from sklearn.metrics import accuracy_score, confusion_matrix\n",
    "import pandas as pd\n",
    "import numpy as np"
   ]
  },
  {
   "cell_type": "code",
   "execution_count": 2,
   "id": "f83a841e",
   "metadata": {},
   "outputs": [
    {
     "data": {
      "text/html": [
       "<div>\n",
       "<style scoped>\n",
       "    .dataframe tbody tr th:only-of-type {\n",
       "        vertical-align: middle;\n",
       "    }\n",
       "\n",
       "    .dataframe tbody tr th {\n",
       "        vertical-align: top;\n",
       "    }\n",
       "\n",
       "    .dataframe thead th {\n",
       "        text-align: right;\n",
       "    }\n",
       "</style>\n",
       "<table border=\"1\" class=\"dataframe\">\n",
       "  <thead>\n",
       "    <tr style=\"text-align: right;\">\n",
       "      <th></th>\n",
       "      <th>Survived</th>\n",
       "      <th>Pclass</th>\n",
       "      <th>Sex</th>\n",
       "      <th>Age</th>\n",
       "      <th>SibSp</th>\n",
       "      <th>Parch</th>\n",
       "      <th>Fare</th>\n",
       "      <th>Cabin</th>\n",
       "      <th>Embarked</th>\n",
       "    </tr>\n",
       "  </thead>\n",
       "  <tbody>\n",
       "    <tr>\n",
       "      <th>0</th>\n",
       "      <td>0</td>\n",
       "      <td>3</td>\n",
       "      <td>1</td>\n",
       "      <td>22.0</td>\n",
       "      <td>1</td>\n",
       "      <td>0</td>\n",
       "      <td>7.2500</td>\n",
       "      <td>7</td>\n",
       "      <td>3</td>\n",
       "    </tr>\n",
       "    <tr>\n",
       "      <th>1</th>\n",
       "      <td>1</td>\n",
       "      <td>1</td>\n",
       "      <td>0</td>\n",
       "      <td>38.0</td>\n",
       "      <td>1</td>\n",
       "      <td>0</td>\n",
       "      <td>71.2833</td>\n",
       "      <td>2</td>\n",
       "      <td>0</td>\n",
       "    </tr>\n",
       "    <tr>\n",
       "      <th>2</th>\n",
       "      <td>1</td>\n",
       "      <td>3</td>\n",
       "      <td>0</td>\n",
       "      <td>26.0</td>\n",
       "      <td>0</td>\n",
       "      <td>0</td>\n",
       "      <td>7.9250</td>\n",
       "      <td>7</td>\n",
       "      <td>3</td>\n",
       "    </tr>\n",
       "    <tr>\n",
       "      <th>3</th>\n",
       "      <td>1</td>\n",
       "      <td>1</td>\n",
       "      <td>0</td>\n",
       "      <td>35.0</td>\n",
       "      <td>1</td>\n",
       "      <td>0</td>\n",
       "      <td>53.1000</td>\n",
       "      <td>2</td>\n",
       "      <td>3</td>\n",
       "    </tr>\n",
       "    <tr>\n",
       "      <th>4</th>\n",
       "      <td>0</td>\n",
       "      <td>3</td>\n",
       "      <td>1</td>\n",
       "      <td>35.0</td>\n",
       "      <td>0</td>\n",
       "      <td>0</td>\n",
       "      <td>8.0500</td>\n",
       "      <td>7</td>\n",
       "      <td>3</td>\n",
       "    </tr>\n",
       "  </tbody>\n",
       "</table>\n",
       "</div>"
      ],
      "text/plain": [
       "   Survived  Pclass  Sex   Age  SibSp  Parch     Fare  Cabin  Embarked\n",
       "0         0       3    1  22.0      1      0   7.2500      7         3\n",
       "1         1       1    0  38.0      1      0  71.2833      2         0\n",
       "2         1       3    0  26.0      0      0   7.9250      7         3\n",
       "3         1       1    0  35.0      1      0  53.1000      2         3\n",
       "4         0       3    1  35.0      0      0   8.0500      7         3"
      ]
     },
     "execution_count": 2,
     "metadata": {},
     "output_type": "execute_result"
    }
   ],
   "source": [
    "titanic = pd.read_csv('titanic_clean.csv')\n",
    "titanic[:5]"
   ]
  },
  {
   "cell_type": "markdown",
   "id": "1136a8d1",
   "metadata": {},
   "source": [
    "# 학습, 테스트 데이터 분리"
   ]
  },
  {
   "cell_type": "code",
   "execution_count": 34,
   "id": "3bfedca5",
   "metadata": {},
   "outputs": [],
   "source": [
    "# 학습, 테스트 데이터 분리\n",
    "t_feature = titanic.iloc[:,1:]\n",
    "t_target = titanic.iloc[:,0]\n",
    "\n",
    "x_train, x_test, y_train, y_test = train_test_split(\n",
    "    t_feature,\n",
    "    t_target,\n",
    "    test_size=0.2,\n",
    "    random_state=136,\n",
    ")"
   ]
  },
  {
   "cell_type": "markdown",
   "id": "575d3ec9",
   "metadata": {},
   "source": [
    "# 결정트리 객체 생성 : 학습 / 예측 / 평가"
   ]
  },
  {
   "cell_type": "code",
   "execution_count": 35,
   "id": "4838805b",
   "metadata": {},
   "outputs": [
    {
     "name": "stdout",
     "output_type": "stream",
     "text": [
      "예측 정확도 >> 0.770949720670391\n"
     ]
    }
   ],
   "source": [
    "# 결정트리 객체 생성\n",
    "dt_clf = DecisionTreeClassifier(random_state=136)\n",
    "\n",
    "# 학습\n",
    "dt_clf.fit(x_train, y_train)\n",
    "\n",
    "# 예측\n",
    "pred = dt_clf.predict(x_test)\n",
    "\n",
    "# 평가\n",
    "print('예측 정확도 >>', accuracy_score(y_test, pred))"
   ]
  },
  {
   "cell_type": "markdown",
   "id": "60ac4930",
   "metadata": {},
   "source": [
    "# 성능 평가 지표"
   ]
  },
  {
   "cell_type": "markdown",
   "id": "eeb4b16d",
   "metadata": {},
   "source": [
    "## 오차행렬"
   ]
  },
  {
   "cell_type": "code",
   "execution_count": 38,
   "id": "426d5b8f",
   "metadata": {},
   "outputs": [
    {
     "data": {
      "text/plain": [
       "Survived\n",
       "0    0.659218\n",
       "1    0.340782\n",
       "Name: proportion, dtype: float64"
      ]
     },
     "execution_count": 38,
     "metadata": {},
     "output_type": "execute_result"
    }
   ],
   "source": [
    "## y_test : 생존비율 확인\n",
    "y_test.value_counts(normalize=True)"
   ]
  },
  {
   "cell_type": "code",
   "execution_count": 36,
   "id": "2603d496",
   "metadata": {},
   "outputs": [
    {
     "data": {
      "text/plain": [
       "array([[95, 23],\n",
       "       [18, 43]], dtype=int64)"
      ]
     },
     "execution_count": 36,
     "metadata": {},
     "output_type": "execute_result"
    }
   ],
   "source": [
    "confusion_matrix(y_test, pred)"
   ]
  },
  {
   "cell_type": "markdown",
   "id": "438747d1",
   "metadata": {},
   "source": [
    "## 정확도"
   ]
  },
  {
   "cell_type": "code",
   "execution_count": 39,
   "id": "ccab2c04",
   "metadata": {},
   "outputs": [
    {
     "data": {
      "text/plain": [
       "0.770949720670391"
      ]
     },
     "execution_count": 39,
     "metadata": {},
     "output_type": "execute_result"
    }
   ],
   "source": [
    "accuracy_score(y_test, pred)"
   ]
  },
  {
   "cell_type": "code",
   "execution_count": 40,
   "id": "bc7fa4b4",
   "metadata": {},
   "outputs": [],
   "source": [
    "cm = confusion_matrix(y_test, pred)"
   ]
  },
  {
   "cell_type": "code",
   "execution_count": 43,
   "id": "16267be7",
   "metadata": {},
   "outputs": [
    {
     "data": {
      "text/plain": [
       "0.770949720670391"
      ]
     },
     "execution_count": 43,
     "metadata": {},
     "output_type": "execute_result"
    }
   ],
   "source": [
    "# 정확도\n",
    "(cm[0, 0] + cm[1, 1]) / np.sum(cm)"
   ]
  },
  {
   "cell_type": "markdown",
   "id": "9778b28f",
   "metadata": {},
   "source": [
    "## 정밀도\n",
    "- 예측을 Positive로 한 대상 중에 예측과 실제 값이 Positive로 일치한 데이터의 비율을 뜻한다.\n",
    "- 주체가 예측"
   ]
  },
  {
   "cell_type": "code",
   "execution_count": 46,
   "id": "a90e0495",
   "metadata": {},
   "outputs": [
    {
     "data": {
      "text/plain": [
       "0.6515151515151515"
      ]
     },
     "execution_count": 46,
     "metadata": {},
     "output_type": "execute_result"
    }
   ],
   "source": [
    "from sklearn.metrics import precision_score\n",
    "\n",
    "# 정밀도\n",
    "precision_score(y_test, pred)"
   ]
  },
  {
   "cell_type": "code",
   "execution_count": 49,
   "id": "696a8cf4",
   "metadata": {
    "scrolled": true
   },
   "outputs": [
    {
     "data": {
      "text/plain": [
       "0.6515151515151515"
      ]
     },
     "execution_count": 49,
     "metadata": {},
     "output_type": "execute_result"
    }
   ],
   "source": [
    "cm[1, 1] / (cm[0,1] + cm[1,1])\n",
    "cm[1, 1] / cm[:, 1].sum()"
   ]
  },
  {
   "cell_type": "markdown",
   "id": "002b1ef2",
   "metadata": {},
   "source": [
    "## 재현율\n",
    "- 실제 값이 Positive인 대상 중에 예측과 실제 값이 Positive로 일치한 데이터의 비율을 뜻한다.\n",
    "- 주체가 실제 값"
   ]
  },
  {
   "cell_type": "code",
   "execution_count": 50,
   "id": "a36d2727",
   "metadata": {},
   "outputs": [
    {
     "data": {
      "text/plain": [
       "0.7049180327868853"
      ]
     },
     "execution_count": 50,
     "metadata": {},
     "output_type": "execute_result"
    }
   ],
   "source": [
    "from sklearn.metrics import recall_score\n",
    "\n",
    "# 재현률\n",
    "recall_score(y_test, pred)"
   ]
  },
  {
   "cell_type": "code",
   "execution_count": 55,
   "id": "8b77e052",
   "metadata": {},
   "outputs": [
    {
     "data": {
      "text/plain": [
       "0.7049180327868853"
      ]
     },
     "execution_count": 55,
     "metadata": {},
     "output_type": "execute_result"
    }
   ],
   "source": [
    "cm[1, 1] / cm[1, :].sum()"
   ]
  },
  {
   "cell_type": "code",
   "execution_count": null,
   "id": "c038b556",
   "metadata": {},
   "outputs": [],
   "source": [
    "# threshold"
   ]
  }
 ],
 "metadata": {
  "kernelspec": {
   "display_name": "ex_kernel",
   "language": "python",
   "name": "ex"
  },
  "language_info": {
   "codemirror_mode": {
    "name": "ipython",
    "version": 3
   },
   "file_extension": ".py",
   "mimetype": "text/x-python",
   "name": "python",
   "nbconvert_exporter": "python",
   "pygments_lexer": "ipython3",
   "version": "3.8.10"
  },
  "toc": {
   "base_numbering": 1,
   "nav_menu": {},
   "number_sections": true,
   "sideBar": true,
   "skip_h1_title": false,
   "title_cell": "Table of Contents",
   "title_sidebar": "Contents",
   "toc_cell": false,
   "toc_position": {},
   "toc_section_display": true,
   "toc_window_display": false
  }
 },
 "nbformat": 4,
 "nbformat_minor": 5
}
