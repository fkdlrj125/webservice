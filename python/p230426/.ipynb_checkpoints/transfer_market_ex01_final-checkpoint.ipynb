{
 "cells": [
  {
   "cell_type": "code",
   "execution_count": 1,
   "id": "af086dc8",
   "metadata": {},
   "outputs": [],
   "source": [
    "from urllib import request\n",
    "from bs4 import BeautifulSoup\n",
    "import requests\n",
    "import pandas"
   ]
  },
  {
   "cell_type": "code",
   "execution_count": 2,
   "id": "479c0b50",
   "metadata": {},
   "outputs": [
    {
     "data": {
      "text/plain": [
       "200"
      ]
     },
     "execution_count": 2,
     "metadata": {},
     "output_type": "execute_result"
    }
   ],
   "source": [
    "# 1. 웹 페이지 요청\n",
    "url = 'https://www.transfermarkt.com/spieler-statistik/wertvollstespieler/marktwertetop'\n",
    "headers = {'user-agent' : 'Mozilla/5.0 (Windows NT 10.0; Win64; x64) AppleWebKit/537.36 (KHTML, like Gecko) Chrome/112.0.0.0 Safari/537.36'}\n",
    "\n",
    "# [방법 1.] - 404\n",
    "# 정상적인 요청이 아니라 응답 X\n",
    "\n",
    "# html = requests.get(url)\n",
    "html = requests.get(url, headers=headers)\n",
    "\n",
    "html.status_code"
   ]
  },
  {
   "cell_type": "code",
   "execution_count": 5,
   "id": "aee7b9da",
   "metadata": {},
   "outputs": [],
   "source": [
    "# 2. 파싱\n",
    "\n",
    "soup = BeautifulSoup(html.text, 'html.parser')"
   ]
  },
  {
   "cell_type": "code",
   "execution_count": 6,
   "id": "8c170beb",
   "metadata": {
    "collapsed": true
   },
   "outputs": [
    {
     "data": {
      "text/plain": [
       "[<tr class=\"odd\">\n",
       " <td class=\"zentriert\">1</td><td class=\"\"><table class=\"inline-table\"><tr><td rowspan=\"2\"><a href=\"#\"><img alt=\"Kylian Mbappé\" class=\"bilderrahmen-fixed\" src=\"https://img.a.transfermarkt.technology/portrait/small/342229-1632686046.jpg?lm=1\" title=\"Kylian Mbappé\"/></a></td><td class=\"hauptlink\"><a href=\"/kylian-mbappe/profil/spieler/342229\" title=\"Kylian Mbappé\">Kylian Mbappé</a></td></tr><tr><td>Centre-Forward</td></tr></table></td><td class=\"zentriert\">24</td><td class=\"zentriert\"><img alt=\"France\" class=\"flaggenrahmen\" src=\"https://tmssl.akamaized.net/images/flagge/verysmall/50.png?lm=1520611569\" title=\"France\"/><br/><img alt=\"Cameroon\" class=\"flaggenrahmen\" src=\"https://tmssl.akamaized.net/images/flagge/verysmall/31.png?lm=1520611569\" title=\"Cameroon\"/></td><td class=\"zentriert\"><a href=\"/fc-paris-saint-germain/startseite/verein/583\" title=\"Paris Saint-Germain\"><img alt=\"Paris Saint-Germain\" class=\"\" src=\"https://tmssl.akamaized.net/images/wappen/verysmall/583.png?lm=1522312728\" title=\"Paris Saint-Germain\"/></a></td><td class=\"rechts hauptlink\"><a href=\"/kylian-mbappe/marktwertverlauf/spieler/342229\">€180.00m</a> </td></tr>,\n",
       " <tr class=\"even\">\n",
       " <td class=\"zentriert\">2</td><td class=\"\"><table class=\"inline-table\"><tr><td rowspan=\"2\"><a href=\"#\"><img alt=\"Erling Haaland\" class=\"bilderrahmen-fixed\" src=\"https://img.a.transfermarkt.technology/portrait/small/418560-1656179352.jpg?lm=1\" title=\"Erling Haaland\"/></a></td><td class=\"hauptlink\"><a href=\"/erling-haaland/profil/spieler/418560\" title=\"Erling Haaland\">Erling Haaland</a></td></tr><tr><td>Centre-Forward</td></tr></table></td><td class=\"zentriert\">22</td><td class=\"zentriert\"><img alt=\"Norway\" class=\"flaggenrahmen\" src=\"https://tmssl.akamaized.net/images/flagge/verysmall/125.png?lm=1520611569\" title=\"Norway\"/></td><td class=\"zentriert\"><a href=\"/manchester-city/startseite/verein/281\" title=\"Manchester City\"><img alt=\"Manchester City\" class=\"\" src=\"https://tmssl.akamaized.net/images/wappen/verysmall/281.png?lm=1467356331\" title=\"Manchester City\"/></a></td><td class=\"rechts hauptlink\"><a href=\"/erling-haaland/marktwertverlauf/spieler/418560\">€170.00m</a> </td></tr>,\n",
       " <tr class=\"odd\">\n",
       " <td class=\"zentriert\">3</td><td class=\"\"><table class=\"inline-table\"><tr><td rowspan=\"2\"><a href=\"#\"><img alt=\"Jude Bellingham\" class=\"bilderrahmen-fixed\" src=\"https://img.a.transfermarkt.technology/portrait/small/581678-1661412719.jpg?lm=1\" title=\"Jude Bellingham\"/></a></td><td class=\"hauptlink\"><a href=\"/jude-bellingham/profil/spieler/581678\" title=\"Jude Bellingham\">Jude Bellingham</a></td></tr><tr><td>Central Midfield</td></tr></table></td><td class=\"zentriert\">19</td><td class=\"zentriert\"><img alt=\"England\" class=\"flaggenrahmen\" src=\"https://tmssl.akamaized.net/images/flagge/verysmall/189.png?lm=1520611569\" title=\"England\"/></td><td class=\"zentriert\"><a href=\"/borussia-dortmund/startseite/verein/16\" title=\"Borussia Dortmund\"><img alt=\"Borussia Dortmund\" class=\"\" src=\"https://tmssl.akamaized.net/images/wappen/verysmall/16.png?lm=1396275280\" title=\"Borussia Dortmund\"/></a></td><td class=\"rechts hauptlink\"><a href=\"/jude-bellingham/marktwertverlauf/spieler/581678\">€120.00m</a> </td></tr>,\n",
       " <tr class=\"even\">\n",
       " <td class=\"zentriert\">4</td><td class=\"\"><table class=\"inline-table\"><tr><td rowspan=\"2\"><a href=\"#\"><img alt=\"Vinicius Junior\" class=\"bilderrahmen-fixed\" src=\"https://img.a.transfermarkt.technology/portrait/small/371998-1664869583.jpg?lm=1\" title=\"Vinicius Junior\"/></a></td><td class=\"hauptlink\"><a href=\"/vinicius-junior/profil/spieler/371998\" title=\"Vinicius Junior\">Vinicius Junior</a></td></tr><tr><td>Left Winger</td></tr></table></td><td class=\"zentriert\">22</td><td class=\"zentriert\"><img alt=\"Brazil\" class=\"flaggenrahmen\" src=\"https://tmssl.akamaized.net/images/flagge/verysmall/26.png?lm=1520611569\" title=\"Brazil\"/><br/><img alt=\"Spain\" class=\"flaggenrahmen\" src=\"https://tmssl.akamaized.net/images/flagge/verysmall/157.png?lm=1520611569\" title=\"Spain\"/></td><td class=\"zentriert\"><a href=\"/real-madrid/startseite/verein/418\" title=\"Real Madrid\"><img alt=\"Real Madrid\" class=\"\" src=\"https://tmssl.akamaized.net/images/wappen/verysmall/418.png?lm=1580722449\" title=\"Real Madrid\"/></a></td><td class=\"rechts hauptlink\"><a href=\"/vinicius-junior/marktwertverlauf/spieler/371998\">€120.00m</a> </td></tr>,\n",
       " <tr class=\"odd\">\n",
       " <td class=\"zentriert\">5</td><td class=\"\"><table class=\"inline-table\"><tr><td rowspan=\"2\"><a href=\"#\"><img alt=\"Jamal Musiala\" class=\"bilderrahmen-fixed\" src=\"https://img.a.transfermarkt.technology/portrait/small/580195-1667830802.jpg?lm=1\" title=\"Jamal Musiala\"/></a></td><td class=\"hauptlink\"><a href=\"/jamal-musiala/profil/spieler/580195\" title=\"Jamal Musiala\">Jamal Musiala</a></td></tr><tr><td>Attacking Midfield</td></tr></table></td><td class=\"zentriert\">20</td><td class=\"zentriert\"><img alt=\"Germany\" class=\"flaggenrahmen\" src=\"https://tmssl.akamaized.net/images/flagge/verysmall/40.png?lm=1520612525\" title=\"Germany\"/><br/><img alt=\"England\" class=\"flaggenrahmen\" src=\"https://tmssl.akamaized.net/images/flagge/verysmall/189.png?lm=1520611569\" title=\"England\"/></td><td class=\"zentriert\"><a href=\"/fc-bayern-munchen/startseite/verein/27\" title=\"Bayern Munich\"><img alt=\"Bayern Munich\" class=\"\" src=\"https://tmssl.akamaized.net/images/wappen/verysmall/27.png?lm=1498251238\" title=\"Bayern Munich\"/></a></td><td class=\"rechts hauptlink\"><a href=\"/jamal-musiala/marktwertverlauf/spieler/580195\">€110.00m</a> </td></tr>,\n",
       " <tr class=\"even\">\n",
       " <td class=\"zentriert\">6</td><td class=\"\"><table class=\"inline-table\"><tr><td rowspan=\"2\"><a href=\"#\"><img alt=\"Bukayo Saka\" class=\"bilderrahmen-fixed\" src=\"https://img.a.transfermarkt.technology/portrait/small/433177-1669294809.jpg?lm=1\" title=\"Bukayo Saka\"/></a></td><td class=\"hauptlink\"><a href=\"/bukayo-saka/profil/spieler/433177\" title=\"Bukayo Saka\">Bukayo Saka</a></td></tr><tr><td>Right Winger</td></tr></table></td><td class=\"zentriert\">21</td><td class=\"zentriert\"><img alt=\"England\" class=\"flaggenrahmen\" src=\"https://tmssl.akamaized.net/images/flagge/verysmall/189.png?lm=1520611569\" title=\"England\"/><br/><img alt=\"Nigeria\" class=\"flaggenrahmen\" src=\"https://tmssl.akamaized.net/images/flagge/verysmall/124.png?lm=1520611569\" title=\"Nigeria\"/></td><td class=\"zentriert\"><a href=\"/fc-arsenal/startseite/verein/11\" title=\"Arsenal FC\"><img alt=\"Arsenal FC\" class=\"\" src=\"https://tmssl.akamaized.net/images/wappen/verysmall/11.png?lm=1489787850\" title=\"Arsenal FC\"/></a></td><td class=\"rechts hauptlink\"><a href=\"/bukayo-saka/marktwertverlauf/spieler/433177\">€110.00m</a> </td></tr>,\n",
       " <tr class=\"odd\">\n",
       " <td class=\"zentriert\">7</td><td class=\"\"><table class=\"inline-table\"><tr><td rowspan=\"2\"><a href=\"#\"><img alt=\"Phil Foden\" class=\"bilderrahmen-fixed\" src=\"https://img.a.transfermarkt.technology/portrait/small/406635-1668524492.jpg?lm=1\" title=\"Phil Foden\"/></a></td><td class=\"hauptlink\"><a href=\"/phil-foden/profil/spieler/406635\" title=\"Phil Foden\">Phil Foden</a></td></tr><tr><td>Left Winger</td></tr></table></td><td class=\"zentriert\">22</td><td class=\"zentriert\"><img alt=\"England\" class=\"flaggenrahmen\" src=\"https://tmssl.akamaized.net/images/flagge/verysmall/189.png?lm=1520611569\" title=\"England\"/></td><td class=\"zentriert\"><a href=\"/manchester-city/startseite/verein/281\" title=\"Manchester City\"><img alt=\"Manchester City\" class=\"\" src=\"https://tmssl.akamaized.net/images/wappen/verysmall/281.png?lm=1467356331\" title=\"Manchester City\"/></a></td><td class=\"rechts hauptlink\"><a href=\"/phil-foden/marktwertverlauf/spieler/406635\">€110.00m</a> </td></tr>,\n",
       " <tr class=\"even\">\n",
       " <td class=\"zentriert\">8</td><td class=\"\"><table class=\"inline-table\"><tr><td rowspan=\"2\"><a href=\"#\"><img alt=\"Pedri\" class=\"bilderrahmen-fixed\" src=\"https://img.a.transfermarkt.technology/portrait/small/683840-1620304992.jpg?lm=1\" title=\"Pedri\"/></a></td><td class=\"hauptlink\"><a href=\"/pedri/profil/spieler/683840\" title=\"Pedri\">Pedri</a></td></tr><tr><td>Central Midfield</td></tr></table></td><td class=\"zentriert\">20</td><td class=\"zentriert\"><img alt=\"Spain\" class=\"flaggenrahmen\" src=\"https://tmssl.akamaized.net/images/flagge/verysmall/157.png?lm=1520611569\" title=\"Spain\"/></td><td class=\"zentriert\"><a href=\"/fc-barcelona/startseite/verein/131\" title=\"FC Barcelona\"><img alt=\"FC Barcelona\" class=\"\" src=\"https://tmssl.akamaized.net/images/wappen/verysmall/131.png?lm=1406739548\" title=\"FC Barcelona\"/></a></td><td class=\"rechts hauptlink\"><a href=\"/pedri/marktwertverlauf/spieler/683840\">€100.00m</a> </td></tr>,\n",
       " <tr class=\"odd\">\n",
       " <td class=\"zentriert\">9</td><td class=\"\"><table class=\"inline-table\"><tr><td rowspan=\"2\"><a href=\"#\"><img alt=\"Victor Osimhen\" class=\"bilderrahmen-fixed\" src=\"https://img.a.transfermarkt.technology/portrait/small/401923-1661352899.jpg?lm=1\" title=\"Victor Osimhen\"/></a></td><td class=\"hauptlink\"><a href=\"/victor-osimhen/profil/spieler/401923\" title=\"Victor Osimhen\">Victor Osimhen</a></td></tr><tr><td>Centre-Forward</td></tr></table></td><td class=\"zentriert\">24</td><td class=\"zentriert\"><img alt=\"Nigeria\" class=\"flaggenrahmen\" src=\"https://tmssl.akamaized.net/images/flagge/verysmall/124.png?lm=1520611569\" title=\"Nigeria\"/></td><td class=\"zentriert\"><a href=\"/ssc-neapel/startseite/verein/6195\" title=\"SSC Napoli\"><img alt=\"SSC Napoli\" class=\"\" src=\"https://tmssl.akamaized.net/images/wappen/verysmall/6195.png?lm=1437135876\" title=\"SSC Napoli\"/></a></td><td class=\"rechts hauptlink\"><a href=\"/victor-osimhen/marktwertverlauf/spieler/401923\">€100.00m</a> </td></tr>,\n",
       " <tr class=\"even\">\n",
       " <td class=\"zentriert\">10</td><td class=\"\"><table class=\"inline-table\"><tr><td rowspan=\"2\"><a href=\"#\"><img alt=\"Federico Valverde\" class=\"bilderrahmen-fixed\" src=\"https://img.a.transfermarkt.technology/portrait/small/369081-1681999815.jpg?lm=1\" title=\"Federico Valverde\"/></a></td><td class=\"hauptlink\"><a href=\"/federico-valverde/profil/spieler/369081\" title=\"Federico Valverde\">Federico Valverde</a></td></tr><tr><td>Central Midfield</td></tr></table></td><td class=\"zentriert\">24</td><td class=\"zentriert\"><img alt=\"Uruguay\" class=\"flaggenrahmen\" src=\"https://tmssl.akamaized.net/images/flagge/verysmall/179.png?lm=1520611569\" title=\"Uruguay\"/><br/><img alt=\"Spain\" class=\"flaggenrahmen\" src=\"https://tmssl.akamaized.net/images/flagge/verysmall/157.png?lm=1520611569\" title=\"Spain\"/></td><td class=\"zentriert\"><a href=\"/real-madrid/startseite/verein/418\" title=\"Real Madrid\"><img alt=\"Real Madrid\" class=\"\" src=\"https://tmssl.akamaized.net/images/wappen/verysmall/418.png?lm=1580722449\" title=\"Real Madrid\"/></a></td><td class=\"rechts hauptlink\"><a href=\"/federico-valverde/marktwertverlauf/spieler/369081\">€100.00m</a> </td></tr>,\n",
       " <tr class=\"odd\">\n",
       " <td class=\"zentriert\">11</td><td class=\"\"><table class=\"inline-table\"><tr><td rowspan=\"2\"><a href=\"#\"><img alt=\"Gavi\" class=\"bilderrahmen-fixed\" src=\"https://img.a.transfermarkt.technology/portrait/small/646740-1653039221.jpg?lm=1\" title=\"Gavi\"/></a></td><td class=\"hauptlink\"><a href=\"/gavi/profil/spieler/646740\" title=\"Gavi\">Gavi</a></td></tr><tr><td>Central Midfield</td></tr></table></td><td class=\"zentriert\">18</td><td class=\"zentriert\"><img alt=\"Spain\" class=\"flaggenrahmen\" src=\"https://tmssl.akamaized.net/images/flagge/verysmall/157.png?lm=1520611569\" title=\"Spain\"/></td><td class=\"zentriert\"><a href=\"/fc-barcelona/startseite/verein/131\" title=\"FC Barcelona\"><img alt=\"FC Barcelona\" class=\"\" src=\"https://tmssl.akamaized.net/images/wappen/verysmall/131.png?lm=1406739548\" title=\"FC Barcelona\"/></a></td><td class=\"rechts hauptlink\"><a href=\"/gavi/marktwertverlauf/spieler/646740\">€90.00m</a> </td></tr>,\n",
       " <tr class=\"even\">\n",
       " <td class=\"zentriert\">12</td><td class=\"\"><table class=\"inline-table\"><tr><td rowspan=\"2\"><a href=\"#\"><img alt=\"Aurélien Tchouaméni\" class=\"bilderrahmen-fixed\" src=\"https://img.a.transfermarkt.technology/portrait/small/413112-1668500754.jpg?lm=1\" title=\"Aurélien Tchouaméni\"/></a></td><td class=\"hauptlink\"><a href=\"/aurelien-tchouameni/profil/spieler/413112\" title=\"Aurélien Tchouaméni\">Aurélien Tchouaméni</a></td></tr><tr><td>Defensive Midfield</td></tr></table></td><td class=\"zentriert\">23</td><td class=\"zentriert\"><img alt=\"France\" class=\"flaggenrahmen\" src=\"https://tmssl.akamaized.net/images/flagge/verysmall/50.png?lm=1520611569\" title=\"France\"/><br/><img alt=\"Cameroon\" class=\"flaggenrahmen\" src=\"https://tmssl.akamaized.net/images/flagge/verysmall/31.png?lm=1520611569\" title=\"Cameroon\"/></td><td class=\"zentriert\"><a href=\"/real-madrid/startseite/verein/418\" title=\"Real Madrid\"><img alt=\"Real Madrid\" class=\"\" src=\"https://tmssl.akamaized.net/images/wappen/verysmall/418.png?lm=1580722449\" title=\"Real Madrid\"/></a></td><td class=\"rechts hauptlink\"><a href=\"/aurelien-tchouameni/marktwertverlauf/spieler/413112\">€90.00m</a> </td></tr>,\n",
       " <tr class=\"odd\">\n",
       " <td class=\"zentriert\">13</td><td class=\"\"><table class=\"inline-table\"><tr><td rowspan=\"2\"><a href=\"#\"><img alt=\"Harry Kane\" class=\"bilderrahmen-fixed\" src=\"https://img.a.transfermarkt.technology/portrait/small/132098-1681379945.jpg?lm=1\" title=\"Harry Kane\"/></a></td><td class=\"hauptlink\"><a href=\"/harry-kane/profil/spieler/132098\" title=\"Harry Kane\">Harry Kane</a></td></tr><tr><td>Centre-Forward</td></tr></table></td><td class=\"zentriert\">29</td><td class=\"zentriert\"><img alt=\"England\" class=\"flaggenrahmen\" src=\"https://tmssl.akamaized.net/images/flagge/verysmall/189.png?lm=1520611569\" title=\"England\"/></td><td class=\"zentriert\"><a href=\"/tottenham-hotspur/startseite/verein/148\" title=\"Tottenham Hotspur\"><img alt=\"Tottenham Hotspur\" class=\"\" src=\"https://tmssl.akamaized.net/images/wappen/verysmall/148.png?lm=1544345801\" title=\"Tottenham Hotspur\"/></a></td><td class=\"rechts hauptlink\"><a href=\"/harry-kane/marktwertverlauf/spieler/132098\">€90.00m</a> </td></tr>,\n",
       " <tr class=\"even\">\n",
       " <td class=\"zentriert\">14</td><td class=\"\"><table class=\"inline-table\"><tr><td rowspan=\"2\"><a href=\"#\"><img alt=\"Enzo Fernández\" class=\"bilderrahmen-fixed\" src=\"https://img.a.transfermarkt.technology/portrait/small/648195-1669894717.jpg?lm=1\" title=\"Enzo Fernández\"/></a></td><td class=\"hauptlink\"><a href=\"/enzo-fernandez/profil/spieler/648195\" title=\"Enzo Fernández\">Enzo Fernández</a></td></tr><tr><td>Defensive Midfield</td></tr></table></td><td class=\"zentriert\">22</td><td class=\"zentriert\"><img alt=\"Argentina\" class=\"flaggenrahmen\" src=\"https://tmssl.akamaized.net/images/flagge/verysmall/9.png?lm=1520611569\" title=\"Argentina\"/></td><td class=\"zentriert\"><a href=\"/fc-chelsea/startseite/verein/631\" title=\"Chelsea FC\"><img alt=\"Chelsea FC\" class=\"\" src=\"https://tmssl.akamaized.net/images/wappen/verysmall/631.png?lm=1682435911\" title=\"Chelsea FC\"/></a></td><td class=\"rechts hauptlink\"><a href=\"/enzo-fernandez/marktwertverlauf/spieler/648195\">€85.00m</a> </td></tr>,\n",
       " <tr class=\"odd\">\n",
       " <td class=\"zentriert\">15</td><td class=\"\"><table class=\"inline-table\"><tr><td rowspan=\"2\"><a href=\"#\"><img alt=\"Florian Wirtz\" class=\"bilderrahmen-fixed\" src=\"https://img.a.transfermarkt.technology/portrait/small/598577-1642607052.jpg?lm=1\" title=\"Florian Wirtz\"/></a></td><td class=\"hauptlink\"><a href=\"/florian-wirtz/profil/spieler/598577\" title=\"Florian Wirtz\">Florian Wirtz</a></td></tr><tr><td>Attacking Midfield</td></tr></table></td><td class=\"zentriert\">19</td><td class=\"zentriert\"><img alt=\"Germany\" class=\"flaggenrahmen\" src=\"https://tmssl.akamaized.net/images/flagge/verysmall/40.png?lm=1520612525\" title=\"Germany\"/></td><td class=\"zentriert\"><a href=\"/bayer-04-leverkusen/startseite/verein/15\" title=\"Bayer 04 Leverkusen\"><img alt=\"Bayer 04 Leverkusen\" class=\"\" src=\"https://tmssl.akamaized.net/images/wappen/verysmall/15.png?lm=1651221781\" title=\"Bayer 04 Leverkusen\"/></a></td><td class=\"rechts hauptlink\"><a href=\"/florian-wirtz/marktwertverlauf/spieler/598577\">€85.00m</a> </td></tr>,\n",
       " <tr class=\"even\">\n",
       " <td class=\"zentriert\">16</td><td class=\"\"><table class=\"inline-table\"><tr><td rowspan=\"2\"><a href=\"#\"><img alt=\"Khvicha Kvaratskhelia\" class=\"bilderrahmen-fixed\" src=\"https://img.a.transfermarkt.technology/portrait/small/502670-1663578995.jpg?lm=1\" title=\"Khvicha Kvaratskhelia\"/></a></td><td class=\"hauptlink\"><a href=\"/khvicha-kvaratskhelia/profil/spieler/502670\" title=\"Khvicha Kvaratskhelia\">Khvicha Kvaratskhelia</a></td></tr><tr><td>Left Winger</td></tr></table></td><td class=\"zentriert\">22</td><td class=\"zentriert\"><img alt=\"Georgia\" class=\"flaggenrahmen\" src=\"https://tmssl.akamaized.net/images/flagge/verysmall/53.png?lm=1520611569\" title=\"Georgia\"/></td><td class=\"zentriert\"><a href=\"/ssc-neapel/startseite/verein/6195\" title=\"SSC Napoli\"><img alt=\"SSC Napoli\" class=\"\" src=\"https://tmssl.akamaized.net/images/wappen/verysmall/6195.png?lm=1437135876\" title=\"SSC Napoli\"/></a></td><td class=\"rechts hauptlink\"><a href=\"/khvicha-kvaratskhelia/marktwertverlauf/spieler/502670\">€85.00m</a> </td></tr>,\n",
       " <tr class=\"odd\">\n",
       " <td class=\"zentriert\">17</td><td class=\"\"><table class=\"inline-table\"><tr><td rowspan=\"2\"><a href=\"#\"><img alt=\"Rodrygo\" class=\"bilderrahmen-fixed\" src=\"https://img.a.transfermarkt.technology/portrait/small/412363-1653297541.jpg?lm=1\" title=\"Rodrygo\"/></a></td><td class=\"hauptlink\"><a href=\"/rodrygo/profil/spieler/412363\" title=\"Rodrygo\">Rodrygo</a></td></tr><tr><td>Right Winger</td></tr></table></td><td class=\"zentriert\">22</td><td class=\"zentriert\"><img alt=\"Brazil\" class=\"flaggenrahmen\" src=\"https://tmssl.akamaized.net/images/flagge/verysmall/26.png?lm=1520611569\" title=\"Brazil\"/><br/><img alt=\"Spain\" class=\"flaggenrahmen\" src=\"https://tmssl.akamaized.net/images/flagge/verysmall/157.png?lm=1520611569\" title=\"Spain\"/></td><td class=\"zentriert\"><a href=\"/real-madrid/startseite/verein/418\" title=\"Real Madrid\"><img alt=\"Real Madrid\" class=\"\" src=\"https://tmssl.akamaized.net/images/wappen/verysmall/418.png?lm=1580722449\" title=\"Real Madrid\"/></a></td><td class=\"rechts hauptlink\"><a href=\"/rodrygo/marktwertverlauf/spieler/412363\">€80.00m</a> </td></tr>,\n",
       " <tr class=\"even\">\n",
       " <td class=\"zentriert\">18</td><td class=\"\"><table class=\"inline-table\"><tr><td rowspan=\"2\"><a href=\"#\"><img alt=\"Lautaro Martínez\" class=\"bilderrahmen-fixed\" src=\"https://img.a.transfermarkt.technology/portrait/small/406625-1661352429.jpg?lm=1\" title=\"Lautaro Martínez\"/></a></td><td class=\"hauptlink\"><a href=\"/lautaro-martinez/profil/spieler/406625\" title=\"Lautaro Martínez\">Lautaro Martínez</a></td></tr><tr><td>Centre-Forward</td></tr></table></td><td class=\"zentriert\">25</td><td class=\"zentriert\"><img alt=\"Argentina\" class=\"flaggenrahmen\" src=\"https://tmssl.akamaized.net/images/flagge/verysmall/9.png?lm=1520611569\" title=\"Argentina\"/></td><td class=\"zentriert\"><a href=\"/inter-mailand/startseite/verein/46\" title=\"Inter Milan\"><img alt=\"Inter Milan\" class=\"\" src=\"https://tmssl.akamaized.net/images/wappen/verysmall/46.png?lm=1618900989\" title=\"Inter Milan\"/></a></td><td class=\"rechts hauptlink\"><a href=\"/lautaro-martinez/marktwertverlauf/spieler/406625\">€80.00m</a> </td></tr>,\n",
       " <tr class=\"odd\">\n",
       " <td class=\"zentriert\">19</td><td class=\"\"><table class=\"inline-table\"><tr><td rowspan=\"2\"><a href=\"#\"><img alt=\"Declan Rice\" class=\"bilderrahmen-fixed\" src=\"https://img.a.transfermarkt.technology/portrait/small/357662-1624883831.jpg?lm=1\" title=\"Declan Rice\"/></a></td><td class=\"hauptlink\"><a href=\"/declan-rice/profil/spieler/357662\" title=\"Declan Rice\">Declan Rice</a></td></tr><tr><td>Defensive Midfield</td></tr></table></td><td class=\"zentriert\">24</td><td class=\"zentriert\"><img alt=\"England\" class=\"flaggenrahmen\" src=\"https://tmssl.akamaized.net/images/flagge/verysmall/189.png?lm=1520611569\" title=\"England\"/><br/><img alt=\"Ireland\" class=\"flaggenrahmen\" src=\"https://tmssl.akamaized.net/images/flagge/verysmall/72.png?lm=1520611569\" title=\"Ireland\"/></td><td class=\"zentriert\"><a href=\"/west-ham-united/startseite/verein/379\" title=\"West Ham United\"><img alt=\"West Ham United\" class=\"\" src=\"https://tmssl.akamaized.net/images/wappen/verysmall/379.png?lm=1464675260\" title=\"West Ham United\"/></a></td><td class=\"rechts hauptlink\"><a href=\"/declan-rice/marktwertverlauf/spieler/357662\">€80.00m</a> </td></tr>,\n",
       " <tr class=\"even\">\n",
       " <td class=\"zentriert\">20</td><td class=\"\"><table class=\"inline-table\"><tr><td rowspan=\"2\"><a href=\"#\"><img alt=\"Rodri\" class=\"bilderrahmen-fixed\" src=\"https://img.a.transfermarkt.technology/portrait/small/357565-1668168488.jpg?lm=1\" title=\"Rodri\"/></a></td><td class=\"hauptlink\"><a href=\"/rodri/profil/spieler/357565\" title=\"Rodri\">Rodri</a></td></tr><tr><td>Defensive Midfield</td></tr></table></td><td class=\"zentriert\">26</td><td class=\"zentriert\"><img alt=\"Spain\" class=\"flaggenrahmen\" src=\"https://tmssl.akamaized.net/images/flagge/verysmall/157.png?lm=1520611569\" title=\"Spain\"/></td><td class=\"zentriert\"><a href=\"/manchester-city/startseite/verein/281\" title=\"Manchester City\"><img alt=\"Manchester City\" class=\"\" src=\"https://tmssl.akamaized.net/images/wappen/verysmall/281.png?lm=1467356331\" title=\"Manchester City\"/></a></td><td class=\"rechts hauptlink\"><a href=\"/rodri/marktwertverlauf/spieler/357565\">€80.00m</a> </td></tr>,\n",
       " <tr class=\"odd\">\n",
       " <td class=\"zentriert\">21</td><td class=\"\"><table class=\"inline-table\"><tr><td rowspan=\"2\"><a href=\"#\"><img alt=\"Rafael Leão\" class=\"bilderrahmen-fixed\" src=\"https://img.a.transfermarkt.technology/portrait/small/357164-1661352687.jpg?lm=1\" title=\"Rafael Leão\"/></a></td><td class=\"hauptlink\"><a href=\"/rafael-leao/profil/spieler/357164\" title=\"Rafael Leão\">Rafael Leão</a></td></tr><tr><td>Left Winger</td></tr></table></td><td class=\"zentriert\">23</td><td class=\"zentriert\"><img alt=\"Portugal\" class=\"flaggenrahmen\" src=\"https://tmssl.akamaized.net/images/flagge/verysmall/136.png?lm=1520611569\" title=\"Portugal\"/><br/><img alt=\"Angola\" class=\"flaggenrahmen\" src=\"https://tmssl.akamaized.net/images/flagge/verysmall/6.png?lm=1520611569\" title=\"Angola\"/></td><td class=\"zentriert\"><a href=\"/ac-mailand/startseite/verein/5\" title=\"AC Milan\"><img alt=\"AC Milan\" class=\"\" src=\"https://tmssl.akamaized.net/images/wappen/verysmall/5.png?lm=1605166627\" title=\"AC Milan\"/></a></td><td class=\"rechts hauptlink\"><a href=\"/rafael-leao/marktwertverlauf/spieler/357164\">€80.00m</a> </td></tr>,\n",
       " <tr class=\"even\">\n",
       " <td class=\"zentriert\">22</td><td class=\"\"><table class=\"inline-table\"><tr><td rowspan=\"2\"><a href=\"#\"><img alt=\"Christopher Nkunku\" class=\"bilderrahmen-fixed\" src=\"https://img.a.transfermarkt.technology/portrait/small/344381-1663686834.jpg?lm=1\" title=\"Christopher Nkunku\"/></a></td><td class=\"hauptlink\"><a href=\"/christopher-nkunku/profil/spieler/344381\" title=\"Christopher Nkunku\">Christopher Nkunku</a></td></tr><tr><td>Second Striker</td></tr></table></td><td class=\"zentriert\">25</td><td class=\"zentriert\"><img alt=\"France\" class=\"flaggenrahmen\" src=\"https://tmssl.akamaized.net/images/flagge/verysmall/50.png?lm=1520611569\" title=\"France\"/><br/><img alt=\"DR Congo\" class=\"flaggenrahmen\" src=\"https://tmssl.akamaized.net/images/flagge/verysmall/193.png?lm=1520611569\" title=\"DR Congo\"/></td><td class=\"zentriert\"><a href=\"/rasenballsport-leipzig/startseite/verein/23826\" title=\"RB Leipzig\"><img alt=\"RB Leipzig\" class=\"\" src=\"https://tmssl.akamaized.net/images/wappen/verysmall/23826.png?lm=1619431624\" title=\"RB Leipzig\"/></a></td><td class=\"rechts hauptlink\"><a href=\"/christopher-nkunku/marktwertverlauf/spieler/344381\">€80.00m</a> </td></tr>,\n",
       " <tr class=\"odd\">\n",
       " <td class=\"zentriert\">23</td><td class=\"\"><table class=\"inline-table\"><tr><td rowspan=\"2\"><a href=\"#\"><img alt=\"Martin Ødegaard\" class=\"bilderrahmen-fixed\" src=\"https://img.a.transfermarkt.technology/portrait/small/316264-1678877651.jpg?lm=1\" title=\"Martin Ødegaard\"/></a></td><td class=\"hauptlink\"><a href=\"/martin-odegaard/profil/spieler/316264\" title=\"Martin Ødegaard\">Martin Ødegaard</a></td></tr><tr><td>Attacking Midfield</td></tr></table></td><td class=\"zentriert\">24</td><td class=\"zentriert\"><img alt=\"Norway\" class=\"flaggenrahmen\" src=\"https://tmssl.akamaized.net/images/flagge/verysmall/125.png?lm=1520611569\" title=\"Norway\"/></td><td class=\"zentriert\"><a href=\"/fc-arsenal/startseite/verein/11\" title=\"Arsenal FC\"><img alt=\"Arsenal FC\" class=\"\" src=\"https://tmssl.akamaized.net/images/wappen/verysmall/11.png?lm=1489787850\" title=\"Arsenal FC\"/></a></td><td class=\"rechts hauptlink\"><a href=\"/martin-odegaard/marktwertverlauf/spieler/316264\">€80.00m</a> </td></tr>,\n",
       " <tr class=\"even\">\n",
       " <td class=\"zentriert\">24</td><td class=\"\"><table class=\"inline-table\"><tr><td rowspan=\"2\"><a href=\"#\"><img alt=\"Marcus Rashford\" class=\"bilderrahmen-fixed\" src=\"https://img.a.transfermarkt.technology/portrait/small/258923-1674473054.jpg?lm=1\" title=\"Marcus Rashford\"/></a></td><td class=\"hauptlink\"><a href=\"/marcus-rashford/profil/spieler/258923\" title=\"Marcus Rashford\">Marcus Rashford</a></td></tr><tr><td>Left Winger</td></tr></table></td><td class=\"zentriert\">25</td><td class=\"zentriert\"><img alt=\"England\" class=\"flaggenrahmen\" src=\"https://tmssl.akamaized.net/images/flagge/verysmall/189.png?lm=1520611569\" title=\"England\"/><br/><img alt=\"St. Kitts &amp; Nevis\" class=\"flaggenrahmen\" src=\"https://tmssl.akamaized.net/images/flagge/verysmall/225.png?lm=1520611569\" title=\"St. Kitts &amp; Nevis\"/></td><td class=\"zentriert\"><a href=\"/manchester-united/startseite/verein/985\" title=\"Manchester United\"><img alt=\"Manchester United\" class=\"\" src=\"https://tmssl.akamaized.net/images/wappen/verysmall/985.png?lm=1457975903\" title=\"Manchester United\"/></a></td><td class=\"rechts hauptlink\"><a href=\"/marcus-rashford/marktwertverlauf/spieler/258923\">€80.00m</a> </td></tr>,\n",
       " <tr class=\"odd\">\n",
       " <td class=\"zentriert\">25</td><td class=\"\"><table class=\"inline-table\"><tr><td rowspan=\"2\"><a href=\"#\"><img alt=\"Bernardo Silva\" class=\"bilderrahmen-fixed\" src=\"https://img.a.transfermarkt.technology/portrait/small/241641-1669364275.jpg?lm=1\" title=\"Bernardo Silva\"/></a></td><td class=\"hauptlink\"><a href=\"/bernardo-silva/profil/spieler/241641\" title=\"Bernardo Silva\">Bernardo Silva</a></td></tr><tr><td>Attacking Midfield</td></tr></table></td><td class=\"zentriert\">28</td><td class=\"zentriert\"><img alt=\"Portugal\" class=\"flaggenrahmen\" src=\"https://tmssl.akamaized.net/images/flagge/verysmall/136.png?lm=1520611569\" title=\"Portugal\"/></td><td class=\"zentriert\"><a href=\"/manchester-city/startseite/verein/281\" title=\"Manchester City\"><img alt=\"Manchester City\" class=\"\" src=\"https://tmssl.akamaized.net/images/wappen/verysmall/281.png?lm=1467356331\" title=\"Manchester City\"/></a></td><td class=\"rechts hauptlink\"><a href=\"/bernardo-silva/marktwertverlauf/spieler/241641\">€80.00m</a> </td></tr>]"
      ]
     },
     "execution_count": 6,
     "metadata": {},
     "output_type": "execute_result"
    }
   ],
   "source": [
    "# 3. 테이블 추출\n",
    "\n",
    "# 값을 Iterable로 넣어줘 여러 개 비교 가능\n",
    "player_info = soup.find_all('tr', class_=['odd','even'])"
   ]
  },
  {
   "cell_type": "code",
   "execution_count": 37,
   "id": "c8c451f4",
   "metadata": {},
   "outputs": [],
   "source": [
    "number = []\n",
    "name = []\n",
    "position = []\n",
    "age = []\n",
    "nation = []\n",
    "team = []\n",
    "value = []\n"
   ]
  },
  {
   "cell_type": "code",
   "execution_count": 38,
   "id": "fbd985fd",
   "metadata": {
    "collapsed": true
   },
   "outputs": [
    {
     "name": "stdout",
     "output_type": "stream",
     "text": [
      "['1', '2', '3', '4', '5', '6', '7', '8', '9', '10', '11', '12', '13', '14', '15', '16', '17', '18', '19', '20', '21', '22', '23', '24', '25']\n",
      "['Kylian Mbappé', 'Erling Haaland', 'Jude Bellingham', 'Vinicius Junior', 'Jamal Musiala', 'Bukayo Saka', 'Phil Foden', 'Pedri', 'Victor Osimhen', 'Federico Valverde', 'Gavi', 'Aurélien Tchouaméni', 'Harry Kane', 'Enzo Fernández', 'Florian Wirtz', 'Khvicha Kvaratskhelia', 'Rodrygo', 'Lautaro Martínez', 'Declan Rice', 'Rodri', 'Rafael Leão', 'Christopher Nkunku', 'Martin Ødegaard', 'Marcus Rashford', 'Bernardo Silva']\n",
      "['Centre-Forward', 'Centre-Forward', 'Central Midfield', 'Left Winger', 'Attacking Midfield', 'Right Winger', 'Left Winger', 'Central Midfield', 'Centre-Forward', 'Central Midfield', 'Central Midfield', 'Defensive Midfield', 'Centre-Forward', 'Defensive Midfield', 'Attacking Midfield', 'Left Winger', 'Right Winger', 'Centre-Forward', 'Defensive Midfield', 'Defensive Midfield', 'Left Winger', 'Second Striker', 'Attacking Midfield', 'Left Winger', 'Attacking Midfield']\n",
      "['24', '22', '19', '22', '20', '21', '22', '20', '24', '24', '18', '23', '29', '22', '19', '22', '22', '25', '24', '26', '23', '25', '24', '25', '28']\n",
      "['France', 'Norway', 'England', 'Brazil', 'Germany', 'England', 'England', 'Spain', 'Nigeria', 'Uruguay', 'Spain', 'France', 'England', 'Argentina', 'Germany', 'Georgia', 'Brazil', 'Argentina', 'England', 'Spain', 'Portugal', 'France', 'Norway', 'England', 'Portugal']\n",
      "['Paris Saint-Germain', 'Manchester City', 'Borussia Dortmund', 'Real Madrid', 'Bayern Munich', 'Arsenal FC', 'Manchester City', 'FC Barcelona', 'SSC Napoli', 'Real Madrid', 'FC Barcelona', 'Real Madrid', 'Tottenham Hotspur', 'Chelsea FC', 'Bayer 04 Leverkusen', 'SSC Napoli', 'Real Madrid', 'Inter Milan', 'West Ham United', 'Manchester City', 'AC Milan', 'RB Leipzig', 'Arsenal FC', 'Manchester United', 'Manchester City']\n",
      "['€180.00m', '€170.00m', '€120.00m', '€120.00m', '€110.00m', '€110.00m', '€110.00m', '€100.00m', '€100.00m', '€100.00m', '€90.00m', '€90.00m', '€90.00m', '€85.00m', '€85.00m', '€85.00m', '€80.00m', '€80.00m', '€80.00m', '€80.00m', '€80.00m', '€80.00m', '€80.00m', '€80.00m', '€80.00m']\n"
     ]
    }
   ],
   "source": [
    "for info in player_info:\n",
    "    player = info.find_all('td')\n",
    "    number.append(player[0].text)\n",
    "    name.append(player[3].text)\n",
    "    position.append(player[4].text)\n",
    "    age.append(player[5].text)\n",
    "    nation.append(player[6].img['alt'])\n",
    "    team.append(player[7].a['title'])\n",
    "    value.append(player[8].a.text)"
   ]
  },
  {
   "cell_type": "code",
   "execution_count": 46,
   "id": "9229fe94",
   "metadata": {},
   "outputs": [],
   "source": [
    "# DataFrame 생성\n",
    "df = pandas.DataFrame({\n",
    "    'number' : number,\n",
    "    'name' : name,\n",
    "    'position' : position,\n",
    "    'age' : age,\n",
    "    'nation' : nation,\n",
    "    'team' : team,\n",
    "    'value' : value\n",
    "})"
   ]
  },
  {
   "cell_type": "code",
   "execution_count": 48,
   "id": "fd560c50",
   "metadata": {},
   "outputs": [
    {
     "name": "stdout",
     "output_type": "stream",
     "text": [
      "** 저장 완료 **\n"
     ]
    }
   ],
   "source": [
    "# csv 파일 저장 - notebook의 상대 경로 : 현재 디렉토리\n",
    "df.to_csv('market25.csv', index=False)\n",
    "print('** 저장 완료 **')"
   ]
  }
 ],
 "metadata": {
  "kernelspec": {
   "display_name": "ex_kernel",
   "language": "python",
   "name": "ex"
  },
  "language_info": {
   "codemirror_mode": {
    "name": "ipython",
    "version": 3
   },
   "file_extension": ".py",
   "mimetype": "text/x-python",
   "name": "python",
   "nbconvert_exporter": "python",
   "pygments_lexer": "ipython3",
   "version": "3.8.10"
  }
 },
 "nbformat": 4,
 "nbformat_minor": 5
}
