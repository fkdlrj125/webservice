{
 "cells": [
  {
   "cell_type": "code",
   "execution_count": 1,
   "id": "dedcaea4",
   "metadata": {},
   "outputs": [],
   "source": [
    "from sklearn.model_selection import train_test_split, KFold, StratifiedKFold, cross_val_score, GridSearchCV\n",
    "from sklearn.tree import DecisionTreeClassifier\n",
    "from sklearn.preprocessing import LabelEncoder\n",
    "from sklearn.metrics import accuracy_score\n",
    "import pandas as pd\n",
    "import numpy as np\n",
    "import matplotlib.pyplot as plt\n",
    "import seaborn as sns"
   ]
  },
  {
   "cell_type": "code",
   "execution_count": 2,
   "id": "d0a95bee",
   "metadata": {},
   "outputs": [
    {
     "data": {
      "text/html": [
       "<div>\n",
       "<style scoped>\n",
       "    .dataframe tbody tr th:only-of-type {\n",
       "        vertical-align: middle;\n",
       "    }\n",
       "\n",
       "    .dataframe tbody tr th {\n",
       "        vertical-align: top;\n",
       "    }\n",
       "\n",
       "    .dataframe thead th {\n",
       "        text-align: right;\n",
       "    }\n",
       "</style>\n",
       "<table border=\"1\" class=\"dataframe\">\n",
       "  <thead>\n",
       "    <tr style=\"text-align: right;\">\n",
       "      <th></th>\n",
       "      <th>PassengerId</th>\n",
       "      <th>Survived</th>\n",
       "      <th>Pclass</th>\n",
       "      <th>Name</th>\n",
       "      <th>Sex</th>\n",
       "      <th>Age</th>\n",
       "      <th>SibSp</th>\n",
       "      <th>Parch</th>\n",
       "      <th>Ticket</th>\n",
       "      <th>Fare</th>\n",
       "      <th>Cabin</th>\n",
       "      <th>Embarked</th>\n",
       "    </tr>\n",
       "  </thead>\n",
       "  <tbody>\n",
       "    <tr>\n",
       "      <th>0</th>\n",
       "      <td>1</td>\n",
       "      <td>0</td>\n",
       "      <td>3</td>\n",
       "      <td>Braund, Mr. Owen Harris</td>\n",
       "      <td>male</td>\n",
       "      <td>22.0</td>\n",
       "      <td>1</td>\n",
       "      <td>0</td>\n",
       "      <td>A/5 21171</td>\n",
       "      <td>7.2500</td>\n",
       "      <td>NaN</td>\n",
       "      <td>S</td>\n",
       "    </tr>\n",
       "    <tr>\n",
       "      <th>1</th>\n",
       "      <td>2</td>\n",
       "      <td>1</td>\n",
       "      <td>1</td>\n",
       "      <td>Cumings, Mrs. John Bradley (Florence Briggs Th...</td>\n",
       "      <td>female</td>\n",
       "      <td>38.0</td>\n",
       "      <td>1</td>\n",
       "      <td>0</td>\n",
       "      <td>PC 17599</td>\n",
       "      <td>71.2833</td>\n",
       "      <td>C85</td>\n",
       "      <td>C</td>\n",
       "    </tr>\n",
       "  </tbody>\n",
       "</table>\n",
       "</div>"
      ],
      "text/plain": [
       "   PassengerId  Survived  Pclass   \n",
       "0            1         0       3  \\\n",
       "1            2         1       1   \n",
       "\n",
       "                                                Name     Sex   Age  SibSp   \n",
       "0                            Braund, Mr. Owen Harris    male  22.0      1  \\\n",
       "1  Cumings, Mrs. John Bradley (Florence Briggs Th...  female  38.0      1   \n",
       "\n",
       "   Parch     Ticket     Fare Cabin Embarked  \n",
       "0      0  A/5 21171   7.2500   NaN        S  \n",
       "1      0   PC 17599  71.2833   C85        C  "
      ]
     },
     "execution_count": 2,
     "metadata": {},
     "output_type": "execute_result"
    }
   ],
   "source": [
    "titanic = pd.read_csv('titanic.csv')\n",
    "titanic[:2]"
   ]
  },
  {
   "cell_type": "code",
   "execution_count": 3,
   "id": "b322f638",
   "metadata": {},
   "outputs": [
    {
     "name": "stdout",
     "output_type": "stream",
     "text": [
      "<class 'pandas.core.frame.DataFrame'>\n",
      "RangeIndex: 891 entries, 0 to 890\n",
      "Data columns (total 12 columns):\n",
      " #   Column       Non-Null Count  Dtype  \n",
      "---  ------       --------------  -----  \n",
      " 0   PassengerId  891 non-null    int64  \n",
      " 1   Survived     891 non-null    int64  \n",
      " 2   Pclass       891 non-null    int64  \n",
      " 3   Name         891 non-null    object \n",
      " 4   Sex          891 non-null    object \n",
      " 5   Age          714 non-null    float64\n",
      " 6   SibSp        891 non-null    int64  \n",
      " 7   Parch        891 non-null    int64  \n",
      " 8   Ticket       891 non-null    object \n",
      " 9   Fare         891 non-null    float64\n",
      " 10  Cabin        204 non-null    object \n",
      " 11  Embarked     889 non-null    object \n",
      "dtypes: float64(2), int64(5), object(5)\n",
      "memory usage: 83.7+ KB\n"
     ]
    }
   ],
   "source": [
    "titanic.info()"
   ]
  },
  {
   "cell_type": "markdown",
   "id": "215d923a",
   "metadata": {},
   "source": [
    "# 타이타닉 생존자 예측"
   ]
  },
  {
   "cell_type": "markdown",
   "id": "6ed620f5",
   "metadata": {},
   "source": [
    "## 전처리\n",
    "- 결측치\n",
    "    - 나이 : 평균\n",
    "    - 선실번호(Cabin) : N\n",
    "    - 중간 정착 항구(Embarked) : N\n",
    "- 레이블 인코딩 : 성별, 선실 번호, 중간 정착 항구\n",
    "- 피처 제거 : PassengerId, Name, Ticket"
   ]
  },
  {
   "cell_type": "markdown",
   "id": "32b1bac6",
   "metadata": {},
   "source": [
    "### 피처 제거"
   ]
  },
  {
   "cell_type": "code",
   "execution_count": 4,
   "id": "2657079d",
   "metadata": {},
   "outputs": [
    {
     "data": {
      "text/plain": [
       "Index(['PassengerId', 'Survived', 'Pclass', 'Name', 'Sex', 'Age', 'SibSp',\n",
       "       'Parch', 'Ticket', 'Fare', 'Cabin', 'Embarked'],\n",
       "      dtype='object')"
      ]
     },
     "execution_count": 4,
     "metadata": {},
     "output_type": "execute_result"
    }
   ],
   "source": [
    "titanic.columns"
   ]
  },
  {
   "cell_type": "code",
   "execution_count": 5,
   "id": "0294ea4e",
   "metadata": {
    "scrolled": true
   },
   "outputs": [
    {
     "data": {
      "text/html": [
       "<div>\n",
       "<style scoped>\n",
       "    .dataframe tbody tr th:only-of-type {\n",
       "        vertical-align: middle;\n",
       "    }\n",
       "\n",
       "    .dataframe tbody tr th {\n",
       "        vertical-align: top;\n",
       "    }\n",
       "\n",
       "    .dataframe thead th {\n",
       "        text-align: right;\n",
       "    }\n",
       "</style>\n",
       "<table border=\"1\" class=\"dataframe\">\n",
       "  <thead>\n",
       "    <tr style=\"text-align: right;\">\n",
       "      <th></th>\n",
       "      <th>Survived</th>\n",
       "      <th>Pclass</th>\n",
       "      <th>Sex</th>\n",
       "      <th>Age</th>\n",
       "      <th>SibSp</th>\n",
       "      <th>Parch</th>\n",
       "      <th>Fare</th>\n",
       "      <th>Cabin</th>\n",
       "      <th>Embarked</th>\n",
       "    </tr>\n",
       "  </thead>\n",
       "  <tbody>\n",
       "    <tr>\n",
       "      <th>0</th>\n",
       "      <td>0</td>\n",
       "      <td>3</td>\n",
       "      <td>male</td>\n",
       "      <td>22.0</td>\n",
       "      <td>1</td>\n",
       "      <td>0</td>\n",
       "      <td>7.2500</td>\n",
       "      <td>NaN</td>\n",
       "      <td>S</td>\n",
       "    </tr>\n",
       "    <tr>\n",
       "      <th>1</th>\n",
       "      <td>1</td>\n",
       "      <td>1</td>\n",
       "      <td>female</td>\n",
       "      <td>38.0</td>\n",
       "      <td>1</td>\n",
       "      <td>0</td>\n",
       "      <td>71.2833</td>\n",
       "      <td>C85</td>\n",
       "      <td>C</td>\n",
       "    </tr>\n",
       "  </tbody>\n",
       "</table>\n",
       "</div>"
      ],
      "text/plain": [
       "   Survived  Pclass     Sex   Age  SibSp  Parch     Fare Cabin Embarked\n",
       "0         0       3    male  22.0      1      0   7.2500   NaN        S\n",
       "1         1       1  female  38.0      1      0  71.2833   C85        C"
      ]
     },
     "execution_count": 5,
     "metadata": {},
     "output_type": "execute_result"
    }
   ],
   "source": [
    "titanic = titanic[['Survived', 'Pclass','Sex', 'Age','SibSp',\n",
    "       'Parch','Fare', 'Cabin', 'Embarked']]\n",
    "titanic[:2]"
   ]
  },
  {
   "cell_type": "markdown",
   "id": "023d3a9c",
   "metadata": {},
   "source": [
    "### 결측치 처리"
   ]
  },
  {
   "cell_type": "markdown",
   "id": "aa9c233a",
   "metadata": {},
   "source": [
    "#### Age 컬럼 결측치 처리"
   ]
  },
  {
   "cell_type": "code",
   "execution_count": 6,
   "id": "2e2772d9",
   "metadata": {},
   "outputs": [
    {
     "data": {
      "text/plain": [
       "Survived      0\n",
       "Pclass        0\n",
       "Sex           0\n",
       "Age         177\n",
       "SibSp         0\n",
       "Parch         0\n",
       "Fare          0\n",
       "Cabin       687\n",
       "Embarked      2\n",
       "dtype: int64"
      ]
     },
     "execution_count": 6,
     "metadata": {},
     "output_type": "execute_result"
    }
   ],
   "source": [
    "# 결측치 확인\n",
    "titanic.isna().sum()"
   ]
  },
  {
   "cell_type": "code",
   "execution_count": 7,
   "id": "4674a060",
   "metadata": {
    "scrolled": true
   },
   "outputs": [
    {
     "data": {
      "text/plain": [
       "0"
      ]
     },
     "execution_count": 7,
     "metadata": {},
     "output_type": "execute_result"
    }
   ],
   "source": [
    "# Age 컬럼 결측치 평균으로 변경(복사본)\n",
    "titanic.Age.fillna(titanic.Age.mean()).isna().sum()"
   ]
  },
  {
   "cell_type": "code",
   "execution_count": 8,
   "id": "10f72071",
   "metadata": {
    "scrolled": true
   },
   "outputs": [],
   "source": [
    "# Age 컬럼 결측치 평균으로 변경 후 원본 적용\n",
    "titanic.Age.fillna(titanic.Age.mean(), inplace=True)"
   ]
  },
  {
   "cell_type": "code",
   "execution_count": 9,
   "id": "a6f60988",
   "metadata": {},
   "outputs": [
    {
     "data": {
      "text/plain": [
       "Age\n",
       "False    884\n",
       "True       7\n",
       "Name: count, dtype: int64"
      ]
     },
     "execution_count": 9,
     "metadata": {},
     "output_type": "execute_result"
    }
   ],
   "source": [
    "# 나이가 1 이하인 값 확인\n",
    "(titanic.Age < 1).value_counts()\n",
    "# 나이가 1 이하인 값이 존재하기 때문에 dtype 변경 x"
   ]
  },
  {
   "cell_type": "markdown",
   "id": "91a0d810",
   "metadata": {},
   "source": [
    "#### 선실번호, 중간 정착 항구 결측치 처리"
   ]
  },
  {
   "cell_type": "code",
   "execution_count": 10,
   "id": "3e209c76",
   "metadata": {},
   "outputs": [
    {
     "data": {
      "text/plain": [
       "Survived      0\n",
       "Pclass        0\n",
       "Sex           0\n",
       "Age           0\n",
       "SibSp         0\n",
       "Parch         0\n",
       "Fare          0\n",
       "Cabin       687\n",
       "Embarked      2\n",
       "dtype: int64"
      ]
     },
     "execution_count": 10,
     "metadata": {},
     "output_type": "execute_result"
    }
   ],
   "source": [
    "# 결측치 확인\n",
    "titanic.isna().sum()"
   ]
  },
  {
   "cell_type": "code",
   "execution_count": 11,
   "id": "8ccf320c",
   "metadata": {},
   "outputs": [
    {
     "data": {
      "text/plain": [
       "Survived    0\n",
       "Pclass      0\n",
       "Sex         0\n",
       "Age         0\n",
       "SibSp       0\n",
       "Parch       0\n",
       "Fare        0\n",
       "Cabin       0\n",
       "Embarked    0\n",
       "dtype: int64"
      ]
     },
     "execution_count": 11,
     "metadata": {},
     "output_type": "execute_result"
    }
   ],
   "source": [
    "# 결측치 처리(복사본)\n",
    "titanic.fillna('N').isna().sum()"
   ]
  },
  {
   "cell_type": "code",
   "execution_count": 12,
   "id": "31215c59",
   "metadata": {},
   "outputs": [],
   "source": [
    "# 결측치 처리 적용\n",
    "titanic.fillna('N', inplace=True)"
   ]
  },
  {
   "cell_type": "code",
   "execution_count": 13,
   "id": "bfdad74d",
   "metadata": {},
   "outputs": [
    {
     "data": {
      "text/plain": [
       "Survived    0\n",
       "Pclass      0\n",
       "Sex         0\n",
       "Age         0\n",
       "SibSp       0\n",
       "Parch       0\n",
       "Fare        0\n",
       "Cabin       0\n",
       "Embarked    0\n",
       "dtype: int64"
      ]
     },
     "execution_count": 13,
     "metadata": {},
     "output_type": "execute_result"
    }
   ],
   "source": [
    "# 결측치 처리 확인\n",
    "titanic.isna().sum()"
   ]
  },
  {
   "cell_type": "markdown",
   "id": "f5e6e38f",
   "metadata": {},
   "source": [
    "### 레이블 인코딩\n",
    "- Sex, Cabin, Embarked"
   ]
  },
  {
   "cell_type": "code",
   "execution_count": 14,
   "id": "5383958d",
   "metadata": {},
   "outputs": [],
   "source": [
    "# LabelEncoder 객체 생성\n",
    "encoder = LabelEncoder()"
   ]
  },
  {
   "cell_type": "code",
   "execution_count": 15,
   "id": "9481d93a",
   "metadata": {},
   "outputs": [
    {
     "data": {
      "text/plain": [
       "array(['female', 'male'], dtype=object)"
      ]
     },
     "execution_count": 15,
     "metadata": {},
     "output_type": "execute_result"
    }
   ],
   "source": [
    "# 성별 인코딩\n",
    "sex_encoder = encoder.fit(titanic.Sex)\n",
    "titanic.Sex = sex_encoder.transform(titanic.Sex)\n",
    "sex_encoder.classes_"
   ]
  },
  {
   "cell_type": "code",
   "execution_count": 16,
   "id": "f5d54d6a",
   "metadata": {},
   "outputs": [],
   "source": [
    "# 선실 번호의 앞 문자만 사용하기 위해 슬라이싱\n",
    "titanic.Cabin = titanic.Cabin.str[:1]"
   ]
  },
  {
   "cell_type": "code",
   "execution_count": 17,
   "id": "5c2a04a9",
   "metadata": {
    "scrolled": true
   },
   "outputs": [
    {
     "data": {
      "text/plain": [
       "array(['A', 'B', 'C', 'D', 'E', 'F', 'G', 'N', 'T'], dtype=object)"
      ]
     },
     "execution_count": 17,
     "metadata": {},
     "output_type": "execute_result"
    }
   ],
   "source": [
    "# 선실 번호 인코딩\n",
    "cabin_encoder = encoder.fit(titanic.Cabin)\n",
    "titanic.Cabin = cabin_encoder.transform(titanic.Cabin)\n",
    "cabin_encoder.classes_"
   ]
  },
  {
   "cell_type": "code",
   "execution_count": 18,
   "id": "6c441b2c",
   "metadata": {},
   "outputs": [
    {
     "data": {
      "text/plain": [
       "array(['C', 'N', 'Q', 'S'], dtype=object)"
      ]
     },
     "execution_count": 18,
     "metadata": {},
     "output_type": "execute_result"
    }
   ],
   "source": [
    "# 중간 정착 항구\n",
    "embarked_encoder = encoder.fit(titanic.Embarked)\n",
    "titanic.Embarked = embarked_encoder.transform(titanic.Embarked)\n",
    "embarked_encoder.classes_"
   ]
  },
  {
   "cell_type": "markdown",
   "id": "0a85452e",
   "metadata": {},
   "source": [
    "### 전처리 후 데이터프레임"
   ]
  },
  {
   "cell_type": "code",
   "execution_count": 19,
   "id": "903100e1",
   "metadata": {
    "scrolled": true
   },
   "outputs": [
    {
     "data": {
      "text/html": [
       "<div>\n",
       "<style scoped>\n",
       "    .dataframe tbody tr th:only-of-type {\n",
       "        vertical-align: middle;\n",
       "    }\n",
       "\n",
       "    .dataframe tbody tr th {\n",
       "        vertical-align: top;\n",
       "    }\n",
       "\n",
       "    .dataframe thead th {\n",
       "        text-align: right;\n",
       "    }\n",
       "</style>\n",
       "<table border=\"1\" class=\"dataframe\">\n",
       "  <thead>\n",
       "    <tr style=\"text-align: right;\">\n",
       "      <th></th>\n",
       "      <th>Survived</th>\n",
       "      <th>Pclass</th>\n",
       "      <th>Sex</th>\n",
       "      <th>Age</th>\n",
       "      <th>SibSp</th>\n",
       "      <th>Parch</th>\n",
       "      <th>Fare</th>\n",
       "      <th>Cabin</th>\n",
       "      <th>Embarked</th>\n",
       "    </tr>\n",
       "  </thead>\n",
       "  <tbody>\n",
       "    <tr>\n",
       "      <th>0</th>\n",
       "      <td>0</td>\n",
       "      <td>3</td>\n",
       "      <td>1</td>\n",
       "      <td>22.000000</td>\n",
       "      <td>1</td>\n",
       "      <td>0</td>\n",
       "      <td>7.2500</td>\n",
       "      <td>7</td>\n",
       "      <td>3</td>\n",
       "    </tr>\n",
       "    <tr>\n",
       "      <th>1</th>\n",
       "      <td>1</td>\n",
       "      <td>1</td>\n",
       "      <td>0</td>\n",
       "      <td>38.000000</td>\n",
       "      <td>1</td>\n",
       "      <td>0</td>\n",
       "      <td>71.2833</td>\n",
       "      <td>2</td>\n",
       "      <td>0</td>\n",
       "    </tr>\n",
       "    <tr>\n",
       "      <th>2</th>\n",
       "      <td>1</td>\n",
       "      <td>3</td>\n",
       "      <td>0</td>\n",
       "      <td>26.000000</td>\n",
       "      <td>0</td>\n",
       "      <td>0</td>\n",
       "      <td>7.9250</td>\n",
       "      <td>7</td>\n",
       "      <td>3</td>\n",
       "    </tr>\n",
       "    <tr>\n",
       "      <th>3</th>\n",
       "      <td>1</td>\n",
       "      <td>1</td>\n",
       "      <td>0</td>\n",
       "      <td>35.000000</td>\n",
       "      <td>1</td>\n",
       "      <td>0</td>\n",
       "      <td>53.1000</td>\n",
       "      <td>2</td>\n",
       "      <td>3</td>\n",
       "    </tr>\n",
       "    <tr>\n",
       "      <th>4</th>\n",
       "      <td>0</td>\n",
       "      <td>3</td>\n",
       "      <td>1</td>\n",
       "      <td>35.000000</td>\n",
       "      <td>0</td>\n",
       "      <td>0</td>\n",
       "      <td>8.0500</td>\n",
       "      <td>7</td>\n",
       "      <td>3</td>\n",
       "    </tr>\n",
       "    <tr>\n",
       "      <th>5</th>\n",
       "      <td>0</td>\n",
       "      <td>3</td>\n",
       "      <td>1</td>\n",
       "      <td>29.699118</td>\n",
       "      <td>0</td>\n",
       "      <td>0</td>\n",
       "      <td>8.4583</td>\n",
       "      <td>7</td>\n",
       "      <td>2</td>\n",
       "    </tr>\n",
       "    <tr>\n",
       "      <th>6</th>\n",
       "      <td>0</td>\n",
       "      <td>1</td>\n",
       "      <td>1</td>\n",
       "      <td>54.000000</td>\n",
       "      <td>0</td>\n",
       "      <td>0</td>\n",
       "      <td>51.8625</td>\n",
       "      <td>4</td>\n",
       "      <td>3</td>\n",
       "    </tr>\n",
       "    <tr>\n",
       "      <th>7</th>\n",
       "      <td>0</td>\n",
       "      <td>3</td>\n",
       "      <td>1</td>\n",
       "      <td>2.000000</td>\n",
       "      <td>3</td>\n",
       "      <td>1</td>\n",
       "      <td>21.0750</td>\n",
       "      <td>7</td>\n",
       "      <td>3</td>\n",
       "    </tr>\n",
       "    <tr>\n",
       "      <th>8</th>\n",
       "      <td>1</td>\n",
       "      <td>3</td>\n",
       "      <td>0</td>\n",
       "      <td>27.000000</td>\n",
       "      <td>0</td>\n",
       "      <td>2</td>\n",
       "      <td>11.1333</td>\n",
       "      <td>7</td>\n",
       "      <td>3</td>\n",
       "    </tr>\n",
       "    <tr>\n",
       "      <th>9</th>\n",
       "      <td>1</td>\n",
       "      <td>2</td>\n",
       "      <td>0</td>\n",
       "      <td>14.000000</td>\n",
       "      <td>1</td>\n",
       "      <td>0</td>\n",
       "      <td>30.0708</td>\n",
       "      <td>7</td>\n",
       "      <td>0</td>\n",
       "    </tr>\n",
       "  </tbody>\n",
       "</table>\n",
       "</div>"
      ],
      "text/plain": [
       "   Survived  Pclass  Sex        Age  SibSp  Parch     Fare  Cabin  Embarked\n",
       "0         0       3    1  22.000000      1      0   7.2500      7         3\n",
       "1         1       1    0  38.000000      1      0  71.2833      2         0\n",
       "2         1       3    0  26.000000      0      0   7.9250      7         3\n",
       "3         1       1    0  35.000000      1      0  53.1000      2         3\n",
       "4         0       3    1  35.000000      0      0   8.0500      7         3\n",
       "5         0       3    1  29.699118      0      0   8.4583      7         2\n",
       "6         0       1    1  54.000000      0      0  51.8625      4         3\n",
       "7         0       3    1   2.000000      3      1  21.0750      7         3\n",
       "8         1       3    0  27.000000      0      2  11.1333      7         3\n",
       "9         1       2    0  14.000000      1      0  30.0708      7         0"
      ]
     },
     "execution_count": 19,
     "metadata": {},
     "output_type": "execute_result"
    }
   ],
   "source": [
    "# 전처리 후 데이터프레임\n",
    "titanic[:10]"
   ]
  },
  {
   "cell_type": "markdown",
   "id": "27007862",
   "metadata": {},
   "source": [
    "## DecisionTreeClassifier : 학습/예측/평가"
   ]
  },
  {
   "cell_type": "code",
   "execution_count": 20,
   "id": "5c06d34f",
   "metadata": {},
   "outputs": [],
   "source": [
    "# feature, target 분리\n",
    "t_feature = titanic.iloc[:,1:]\n",
    "t_target = titanic.iloc[:,0]"
   ]
  },
  {
   "cell_type": "code",
   "execution_count": 21,
   "id": "e0388123",
   "metadata": {},
   "outputs": [],
   "source": [
    "# 학습, 테스트 데이터 분리\n",
    "x_train, x_test, y_train, y_test = train_test_split(\n",
    "    t_feature,\n",
    "    t_target,\n",
    "    test_size=0.2,\n",
    "    random_state=11,\n",
    "    stratify=titanic.Pclass\n",
    ")\n",
    "\n",
    "x_train2, x_test2, y_train2, y_test2 = train_test_split(\n",
    "    t_feature,\n",
    "    t_target,\n",
    "    test_size=0.2,\n",
    "    random_state=11,\n",
    "    stratify=titanic.Sex\n",
    ")\n",
    "\n",
    "x_train3, x_test3, y_train3, y_test3 = train_test_split(\n",
    "    t_feature,\n",
    "    t_target,\n",
    "    test_size=0.2,\n",
    "    random_state=11,\n",
    ")"
   ]
  },
  {
   "cell_type": "code",
   "execution_count": 22,
   "id": "14c5c5bf",
   "metadata": {},
   "outputs": [
    {
     "data": {
      "text/plain": [
       "(891, 9)"
      ]
     },
     "execution_count": 22,
     "metadata": {},
     "output_type": "execute_result"
    }
   ],
   "source": [
    "titanic.shape"
   ]
  },
  {
   "cell_type": "code",
   "execution_count": 23,
   "id": "0bf42d58",
   "metadata": {},
   "outputs": [
    {
     "data": {
      "text/plain": [
       "(712, 8)"
      ]
     },
     "execution_count": 23,
     "metadata": {},
     "output_type": "execute_result"
    }
   ],
   "source": [
    "x_train.shape"
   ]
  },
  {
   "cell_type": "code",
   "execution_count": 24,
   "id": "9cdfd68a",
   "metadata": {},
   "outputs": [
    {
     "data": {
      "text/plain": [
       "(712,)"
      ]
     },
     "execution_count": 24,
     "metadata": {},
     "output_type": "execute_result"
    }
   ],
   "source": [
    "y_train.shape"
   ]
  },
  {
   "cell_type": "code",
   "execution_count": 25,
   "id": "6ea1e84e",
   "metadata": {},
   "outputs": [
    {
     "data": {
      "text/plain": [
       "(179, 8)"
      ]
     },
     "execution_count": 25,
     "metadata": {},
     "output_type": "execute_result"
    }
   ],
   "source": [
    "x_test.shape"
   ]
  },
  {
   "cell_type": "code",
   "execution_count": 26,
   "id": "51b175d9",
   "metadata": {},
   "outputs": [
    {
     "data": {
      "text/plain": [
       "(179,)"
      ]
     },
     "execution_count": 26,
     "metadata": {},
     "output_type": "execute_result"
    }
   ],
   "source": [
    "y_test.shape"
   ]
  },
  {
   "cell_type": "code",
   "execution_count": 27,
   "id": "1c762b9c",
   "metadata": {},
   "outputs": [],
   "source": [
    "# 결정트리 객체 생성\n",
    "dt_clf = DecisionTreeClassifier(random_state=11)"
   ]
  },
  {
   "cell_type": "code",
   "execution_count": 28,
   "id": "d8ae60c6",
   "metadata": {},
   "outputs": [
    {
     "name": "stdout",
     "output_type": "stream",
     "text": [
      "예측 정확도 >> 0.8100558659217877\n"
     ]
    }
   ],
   "source": [
    "# 학습\n",
    "dt_clf.fit(x_train, y_train)\n",
    "\n",
    "# 예측\n",
    "pred = dt_clf.predict(x_test)\n",
    "\n",
    "# 평가\n",
    "print('예측 정확도 >>', accuracy_score(y_test, pred))"
   ]
  },
  {
   "cell_type": "code",
   "execution_count": 29,
   "id": "41f7d033",
   "metadata": {},
   "outputs": [
    {
     "name": "stdout",
     "output_type": "stream",
     "text": [
      "예측 정확도 >> 0.770949720670391\n"
     ]
    }
   ],
   "source": [
    "# 불필요한 feature 제거 후 학습\n",
    "# 학습\n",
    "dt_clf.fit(x_train[['Pclass', 'Sex', 'Age']], y_train)\n",
    "\n",
    "# 예측\n",
    "pred = dt_clf.predict(x_test[['Pclass', 'Sex', 'Age']])\n",
    "\n",
    "# 평가\n",
    "print('예측 정확도 >>', accuracy_score(y_test, pred))"
   ]
  },
  {
   "cell_type": "code",
   "execution_count": 30,
   "id": "3c3bae33",
   "metadata": {},
   "outputs": [
    {
     "name": "stdout",
     "output_type": "stream",
     "text": [
      "예측 정확도 >> 0.7262569832402235\n"
     ]
    }
   ],
   "source": [
    "# 학습\n",
    "dt_clf.fit(x_train2, y_train2)\n",
    "\n",
    "# 예측\n",
    "pred = dt_clf.predict(x_test2)\n",
    "\n",
    "# 평가\n",
    "print('예측 정확도 >>', accuracy_score(y_test2, pred))"
   ]
  },
  {
   "cell_type": "code",
   "execution_count": 31,
   "id": "f54e6a39",
   "metadata": {},
   "outputs": [
    {
     "name": "stdout",
     "output_type": "stream",
     "text": [
      "예측 정확도 >> 0.7877094972067039\n"
     ]
    }
   ],
   "source": [
    "# 학습\n",
    "dt_clf.fit(x_train3, y_train3)\n",
    "\n",
    "# 예측\n",
    "pred = dt_clf.predict(x_test3)\n",
    "\n",
    "# 평가\n",
    "print('예측 정확도 >>', accuracy_score(y_test3, pred))"
   ]
  },
  {
   "cell_type": "code",
   "execution_count": 32,
   "id": "384a8151",
   "metadata": {},
   "outputs": [
    {
     "data": {
      "text/plain": [
       "array([0.0826082 , 0.28371894, 0.24767893, 0.04561896, 0.01963887,\n",
       "       0.22423181, 0.05628073, 0.04022358])"
      ]
     },
     "execution_count": 32,
     "metadata": {},
     "output_type": "execute_result"
    }
   ],
   "source": [
    "# feature importance\n",
    "# 학습 중요도\n",
    "dt_clf.feature_importances_"
   ]
  },
  {
   "cell_type": "code",
   "execution_count": 33,
   "id": "31367820",
   "metadata": {
    "scrolled": true
   },
   "outputs": [
    {
     "data": {
      "text/plain": [
       "Index(['Pclass', 'Sex', 'Age', 'SibSp', 'Parch', 'Fare', 'Cabin', 'Embarked'], dtype='object')"
      ]
     },
     "execution_count": 33,
     "metadata": {},
     "output_type": "execute_result"
    }
   ],
   "source": [
    "x_train.columns"
   ]
  },
  {
   "cell_type": "code",
   "execution_count": 34,
   "id": "b365565c",
   "metadata": {},
   "outputs": [
    {
     "name": "stdout",
     "output_type": "stream",
     "text": [
      "Pclass : 0.08260820037500148\n",
      "Sex : 0.2837189364182245\n",
      "Age : 0.24767892651898044\n",
      "SibSp : 0.04561895611637998\n",
      "Parch : 0.019638870267613618\n",
      "Fare : 0.2242318050646934\n",
      "Cabin : 0.05628072854745321\n",
      "Embarked : 0.04022357669165342\n"
     ]
    }
   ],
   "source": [
    "for col, val in zip(x_train.columns, dt_clf.feature_importances_):\n",
    "    print(f'{col} : {val}')"
   ]
  },
  {
   "cell_type": "code",
   "execution_count": 35,
   "id": "2831a935",
   "metadata": {},
   "outputs": [
    {
     "data": {
      "text/plain": [
       "<Axes: >"
      ]
     },
     "execution_count": 35,
     "metadata": {},
     "output_type": "execute_result"
    },
    {
     "data": {
      "image/png": "[encoded data removed]",
      "text/plain": [
       "<Figure size 640x480 with 1 Axes>"
      ]
     },
     "metadata": {},
     "output_type": "display_data"
    }
   ],
   "source": [
    "sns.barplot(x=dt_clf.feature_importances_, y=x_train.columns)"
   ]
  },
  {
   "cell_type": "code",
   "execution_count": 36,
   "id": "edff0856",
   "metadata": {},
   "outputs": [
    {
     "name": "stdout",
     "output_type": "stream",
     "text": [
      "예측 정확도 >> 0.8603351955307262\n"
     ]
    }
   ],
   "source": [
    "# 불필요한 feature 제거 후 학습\n",
    "# 학습\n",
    "dt_clf.fit(x_train3[['Pclass', 'Sex', 'Age']], y_train3)\n",
    "\n",
    "# 예측\n",
    "pred = dt_clf.predict(x_test3[['Pclass', 'Sex', 'Age']])\n",
    "\n",
    "# 평가\n",
    "print('예측 정확도 >>', accuracy_score(y_test3, pred))"
   ]
  },
  {
   "cell_type": "markdown",
   "id": "6e15c3c7",
   "metadata": {},
   "source": [
    "## KFold : fold set = 5"
   ]
  },
  {
   "cell_type": "code",
   "execution_count": 37,
   "id": "5e147017",
   "metadata": {},
   "outputs": [],
   "source": [
    "# 폴드 셋이 5개인 KFold 객체 생성\n",
    "kfold = KFold(n_splits=5)"
   ]
  },
  {
   "cell_type": "code",
   "execution_count": 38,
   "id": "90e69062",
   "metadata": {
    "scrolled": true
   },
   "outputs": [
    {
     "name": "stdout",
     "output_type": "stream",
     "text": [
      "[1차 평가]\n",
      "예측 정확도 : 0.7542, 학습 데이터 크기 : 712, 검증 데이터 크기 : 179\n",
      "==================================================\n",
      "\n",
      "[2차 평가]\n",
      "예측 정확도 : 0.7809, 학습 데이터 크기 : 713, 검증 데이터 크기 : 178\n",
      "==================================================\n",
      "\n",
      "[3차 평가]\n",
      "예측 정확도 : 0.7865, 학습 데이터 크기 : 713, 검증 데이터 크기 : 178\n",
      "==================================================\n",
      "\n",
      "[4차 평가]\n",
      "예측 정확도 : 0.7697, 학습 데이터 크기 : 713, 검증 데이터 크기 : 178\n",
      "==================================================\n",
      "\n",
      "[5차 평가]\n",
      "예측 정확도 : 0.8202, 학습 데이터 크기 : 713, 검증 데이터 크기 : 178\n",
      "==================================================\n",
      "\n",
      "평균 정확도 : 0.7823\n"
     ]
    }
   ],
   "source": [
    "n_iter = 0\n",
    "accuracy_list = []\n",
    "\n",
    "for train_index, test_index in kfold.split(t_feature):\n",
    "    n_iter += 1\n",
    "    \n",
    "    x_train, y_train = t_feature.iloc[train_index], t_target[train_index]\n",
    "    x_test, y_test = t_feature.iloc[test_index], t_target[test_index]\n",
    "    \n",
    "    # 학습\n",
    "    dt_clf.fit(x_train, y_train)\n",
    "    \n",
    "    # 예측\n",
    "    pred = dt_clf.predict(x_test)\n",
    "    \n",
    "    # 평가\n",
    "    acc = np.round(accuracy_score(y_test, pred), 4)\n",
    "    accuracy_list.append(acc)\n",
    "    print(f'[{n_iter}차 평가]')\n",
    "    print(f'예측 정확도 : {acc}, 학습 데이터 크기 : {x_train.shape[0]}, 검증 데이터 크기 : {x_test.shape[0]}')\n",
    "    print('=' * 50, end='\\n\\n')\n",
    "    \n",
    "print(f'평균 정확도 : {np.mean(accuracy_list)}')"
   ]
  },
  {
   "cell_type": "code",
   "execution_count": 39,
   "id": "3915e5d4",
   "metadata": {
    "scrolled": true
   },
   "outputs": [
    {
     "name": "stdout",
     "output_type": "stream",
     "text": [
      "[1차 평가]\n",
      "예측 정확도 : 0.7542, 학습 데이터 크기 : 712, 검증 데이터 크기 : 179\n",
      "==================================================\n",
      "\n",
      "[2차 평가]\n",
      "예측 정확도 : 0.7809, 학습 데이터 크기 : 713, 검증 데이터 크기 : 178\n",
      "==================================================\n",
      "\n",
      "[3차 평가]\n",
      "예측 정확도 : 0.7865, 학습 데이터 크기 : 713, 검증 데이터 크기 : 178\n",
      "==================================================\n",
      "\n",
      "[4차 평가]\n",
      "예측 정확도 : 0.7697, 학습 데이터 크기 : 713, 검증 데이터 크기 : 178\n",
      "==================================================\n",
      "\n",
      "[5차 평가]\n",
      "예측 정확도 : 0.8202, 학습 데이터 크기 : 713, 검증 데이터 크기 : 178\n",
      "==================================================\n",
      "\n",
      "평균 정확도 : 0.7823\n"
     ]
    }
   ],
   "source": [
    "accuracy_list = []\n",
    "\n",
    "for idx, (train_index, test_index) in enumerate(kfold.split(t_feature), 1):\n",
    "    \n",
    "#     x_train, y_train = t_feature.iloc[train_index], t_target[train_index]\n",
    "#     x_test, y_test = t_feature.iloc[test_index], t_target[test_index]\n",
    "    \n",
    "    x_train, y_train = t_feature.values[train_index], t_target.values[train_index]\n",
    "    x_test, y_test = t_feature.values[test_index], t_target.values[test_index]\n",
    "    \n",
    "    # 학습\n",
    "    dt_clf.fit(x_train, y_train)\n",
    "    \n",
    "    # 예측\n",
    "    pred = dt_clf.predict(x_test)\n",
    "    \n",
    "    # 평가\n",
    "    acc = np.round(accuracy_score(y_test, pred), 4)\n",
    "    accuracy_list.append(acc)\n",
    "    print(f'[{idx}차 평가]')\n",
    "    print(f'예측 정확도 : {acc}, 학습 데이터 크기 : {x_train.shape[0]}, 검증 데이터 크기 : {x_test.shape[0]}')\n",
    "    print('=' * 50, end='\\n\\n')\n",
    "    \n",
    "print(f'평균 정확도 : {np.mean(accuracy_list)}')"
   ]
  },
  {
   "cell_type": "code",
   "execution_count": 40,
   "id": "39254c94",
   "metadata": {},
   "outputs": [
    {
     "data": {
      "text/plain": [
       "<Axes: >"
      ]
     },
     "execution_count": 40,
     "metadata": {},
     "output_type": "execute_result"
    },
    {
     "data": {
      "image/png": "[encoded data removed]",
      "text/plain": [
       "<Figure size 640x480 with 1 Axes>"
      ]
     },
     "metadata": {},
     "output_type": "display_data"
    }
   ],
   "source": [
    "sns.barplot(x=dt_clf.feature_importances_, y=t_feature.columns)"
   ]
  },
  {
   "cell_type": "markdown",
   "id": "7b215516",
   "metadata": {},
   "source": [
    "## Stratified KFold : fold set = 5"
   ]
  },
  {
   "cell_type": "code",
   "execution_count": 41,
   "id": "3b06b0e4",
   "metadata": {},
   "outputs": [],
   "source": [
    "# 폴드 셋이 5개인 StratifiedKFold 객체 생성\n",
    "skf = StratifiedKFold(n_splits=5)"
   ]
  },
  {
   "cell_type": "code",
   "execution_count": 42,
   "id": "b794f804",
   "metadata": {},
   "outputs": [
    {
     "name": "stdout",
     "output_type": "stream",
     "text": [
      "[1차 평가]\n",
      "예측 정확도 : 0.743, 학습 데이터 크기 : 712, 검증 데이터 크기 : 179\n",
      "==================================================\n",
      "\n",
      "[2차 평가]\n",
      "예측 정확도 : 0.7753, 학습 데이터 크기 : 713, 검증 데이터 크기 : 178\n",
      "==================================================\n",
      "\n",
      "[3차 평가]\n",
      "예측 정확도 : 0.7921, 학습 데이터 크기 : 713, 검증 데이터 크기 : 178\n",
      "==================================================\n",
      "\n",
      "[4차 평가]\n",
      "예측 정확도 : 0.7865, 학습 데이터 크기 : 713, 검증 데이터 크기 : 178\n",
      "==================================================\n",
      "\n",
      "[5차 평가]\n",
      "예측 정확도 : 0.8427, 학습 데이터 크기 : 713, 검증 데이터 크기 : 178\n",
      "==================================================\n",
      "\n",
      "평균 정확도 : 0.78792\n"
     ]
    }
   ],
   "source": [
    "accuracy_list = []\n",
    "\n",
    "for idx, (train_index, test_index) in enumerate(skf.split(t_feature, y=t_target), 1):\n",
    "    x_train, y_train = t_feature.iloc[train_index], t_target[train_index]\n",
    "    x_test, y_test = t_feature.iloc[test_index], t_target[test_index]\n",
    "    \n",
    "    # 학습\n",
    "    dt_clf.fit(x_train, y_train)\n",
    "    \n",
    "    # 예측\n",
    "    pred = dt_clf.predict(x_test)\n",
    "    \n",
    "    # 평가\n",
    "    acc = np.round(accuracy_score(y_test, pred), 4)\n",
    "    accuracy_list.append(acc)\n",
    "    print(f'[{idx}차 평가]')\n",
    "    print(f'예측 정확도 : {acc}, 학습 데이터 크기 : {x_train.shape[0]}, 검증 데이터 크기 : {x_test.shape[0]}')\n",
    "    print('=' * 50, end='\\n\\n')\n",
    "    \n",
    "print(f'평균 정확도 : {np.mean(accuracy_list)}')"
   ]
  },
  {
   "cell_type": "code",
   "execution_count": 43,
   "id": "ce08bbe8",
   "metadata": {},
   "outputs": [
    {
     "name": "stdout",
     "output_type": "stream",
     "text": [
      "[1차 평가]\n",
      "예측 정확도 : 0.7486, 학습 데이터 크기 : 712, 검증 데이터 크기 : 179\n",
      "==================================================\n",
      "\n",
      "[2차 평가]\n",
      "예측 정확도 : 0.7697, 학습 데이터 크기 : 713, 검증 데이터 크기 : 178\n",
      "==================================================\n",
      "\n",
      "[3차 평가]\n",
      "예측 정확도 : 0.764, 학습 데이터 크기 : 713, 검증 데이터 크기 : 178\n",
      "==================================================\n",
      "\n",
      "[4차 평가]\n",
      "예측 정확도 : 0.7584, 학습 데이터 크기 : 713, 검증 데이터 크기 : 178\n",
      "==================================================\n",
      "\n",
      "[5차 평가]\n",
      "예측 정확도 : 0.8315, 학습 데이터 크기 : 713, 검증 데이터 크기 : 178\n",
      "==================================================\n",
      "\n",
      "평균 정확도 : 0.77444\n"
     ]
    }
   ],
   "source": [
    "accuracy_list = []\n",
    "\n",
    "for idx, (train_index, test_index) in enumerate(skf.split(t_feature, y=t_feature.Sex), 1):\n",
    "    x_train, y_train = t_feature.iloc[train_index], t_target[train_index]\n",
    "    x_test, y_test = t_feature.iloc[test_index], t_target[test_index]\n",
    "    \n",
    "    # 학습\n",
    "    dt_clf.fit(x_train, y_train)\n",
    "    \n",
    "    # 예측\n",
    "    pred = dt_clf.predict(x_test)\n",
    "    \n",
    "    # 평가\n",
    "    acc = np.round(accuracy_score(y_test, pred), 4)\n",
    "    accuracy_list.append(acc)\n",
    "    print(f'[{idx}차 평가]')\n",
    "    print(f'예측 정확도 : {acc}, 학습 데이터 크기 : {x_train.shape[0]}, 검증 데이터 크기 : {x_test.shape[0]}')\n",
    "    print('=' * 50, end='\\n\\n')\n",
    "    \n",
    "print(f'평균 정확도 : {np.mean(accuracy_list)}')"
   ]
  },
  {
   "cell_type": "markdown",
   "id": "71526a2c",
   "metadata": {},
   "source": [
    "## cross val score : cv = 5"
   ]
  },
  {
   "cell_type": "code",
   "execution_count": 44,
   "id": "aa1f488f",
   "metadata": {},
   "outputs": [],
   "source": [
    "scores = cross_val_score(\n",
    "    dt_clf,\n",
    "    t_feature,\n",
    "    t_target,\n",
    "    scoring='accuracy',\n",
    "    cv=5\n",
    ")"
   ]
  },
  {
   "cell_type": "code",
   "execution_count": 45,
   "id": "87041f10",
   "metadata": {},
   "outputs": [
    {
     "data": {
      "text/plain": [
       "array([0.74301676, 0.7752809 , 0.79213483, 0.78651685, 0.84269663])"
      ]
     },
     "execution_count": 45,
     "metadata": {},
     "output_type": "execute_result"
    }
   ],
   "source": [
    "scores"
   ]
  },
  {
   "cell_type": "code",
   "execution_count": 46,
   "id": "34e1d2bd",
   "metadata": {},
   "outputs": [
    {
     "name": "stdout",
     "output_type": "stream",
     "text": [
      "교차 검증 : 1, 정확도 : 0.7430167597765364\n",
      "교차 검증 : 2, 정확도 : 0.7752808988764045\n",
      "교차 검증 : 3, 정확도 : 0.7921348314606742\n",
      "교차 검증 : 4, 정확도 : 0.7865168539325843\n",
      "교차 검증 : 5, 정확도 : 0.8426966292134831\n"
     ]
    }
   ],
   "source": [
    "for idx, accuracy in enumerate(scores, 1):\n",
    "    print(f'교차 검증 : {idx}, 정확도 : {accuracy}')"
   ]
  },
  {
   "cell_type": "code",
   "execution_count": 47,
   "id": "40db484d",
   "metadata": {},
   "outputs": [
    {
     "data": {
      "text/plain": [
       "0.7879291946519366"
      ]
     },
     "execution_count": 47,
     "metadata": {},
     "output_type": "execute_result"
    }
   ],
   "source": [
    "np.mean(scores)"
   ]
  },
  {
   "cell_type": "markdown",
   "id": "952c9aed",
   "metadata": {},
   "source": [
    "## GridSearchCV : cv = 5\n",
    "- max_depth : [2, 3, 5, 10]\n",
    "- min_samples_split : [2, 3, 5]\n",
    "- min_samples_leaf : [1, 5, 8]"
   ]
  },
  {
   "cell_type": "code",
   "execution_count": 48,
   "id": "75ee970c",
   "metadata": {},
   "outputs": [
    {
     "data": {
      "text/html": [
       "<div>\n",
       "<style scoped>\n",
       "    .dataframe tbody tr th:only-of-type {\n",
       "        vertical-align: middle;\n",
       "    }\n",
       "\n",
       "    .dataframe tbody tr th {\n",
       "        vertical-align: top;\n",
       "    }\n",
       "\n",
       "    .dataframe thead th {\n",
       "        text-align: right;\n",
       "    }\n",
       "</style>\n",
       "<table border=\"1\" class=\"dataframe\">\n",
       "  <thead>\n",
       "    <tr style=\"text-align: right;\">\n",
       "      <th></th>\n",
       "      <th>Pclass</th>\n",
       "      <th>Sex</th>\n",
       "      <th>Age</th>\n",
       "      <th>SibSp</th>\n",
       "      <th>Parch</th>\n",
       "      <th>Fare</th>\n",
       "      <th>Cabin</th>\n",
       "      <th>Embarked</th>\n",
       "    </tr>\n",
       "  </thead>\n",
       "  <tbody>\n",
       "    <tr>\n",
       "      <th>118</th>\n",
       "      <td>1</td>\n",
       "      <td>1</td>\n",
       "      <td>24.0</td>\n",
       "      <td>0</td>\n",
       "      <td>1</td>\n",
       "      <td>247.5208</td>\n",
       "      <td>1</td>\n",
       "      <td>0</td>\n",
       "    </tr>\n",
       "    <tr>\n",
       "      <th>763</th>\n",
       "      <td>1</td>\n",
       "      <td>0</td>\n",
       "      <td>36.0</td>\n",
       "      <td>1</td>\n",
       "      <td>2</td>\n",
       "      <td>120.0000</td>\n",
       "      <td>1</td>\n",
       "      <td>3</td>\n",
       "    </tr>\n",
       "  </tbody>\n",
       "</table>\n",
       "</div>"
      ],
      "text/plain": [
       "     Pclass  Sex   Age  SibSp  Parch      Fare  Cabin  Embarked\n",
       "118       1    1  24.0      0      1  247.5208      1         0\n",
       "763       1    0  36.0      1      2  120.0000      1         3"
      ]
     },
     "execution_count": 48,
     "metadata": {},
     "output_type": "execute_result"
    }
   ],
   "source": [
    "# 학습, 테스트 데이터 분리\n",
    "x_train, x_test, y_train, y_test = train_test_split(\n",
    "    t_feature,\n",
    "    t_target,\n",
    "    test_size=0.2,\n",
    "    random_state=11,\n",
    "    stratify=titanic.Pclass\n",
    ")\n",
    "\n",
    "x_train2, x_test2, y_train2, y_test2 = train_test_split(\n",
    "    t_feature,\n",
    "    t_target,\n",
    "    test_size=0.2,\n",
    "    random_state=11,\n",
    "    stratify=titanic.Sex\n",
    ")\n",
    "\n",
    "x_train3, x_test3, y_train3, y_test3 = train_test_split(\n",
    "    t_feature,\n",
    "    t_target,\n",
    "    test_size=0.2,\n",
    "    random_state=11,\n",
    ")\n",
    "\n",
    "x_test[:2]"
   ]
  },
  {
   "cell_type": "code",
   "execution_count": 49,
   "id": "3ebbdfa4",
   "metadata": {},
   "outputs": [],
   "source": [
    "# 파라미터 설정\n",
    "parameters = {'max_depth' : [2, 3, 5, 10],\n",
    "            'min_samples_split' : [2, 3, 5],\n",
    "             'min_samples_leaf' : [1, 5, 8]}\n",
    "\n",
    "# GridSearchCV 객체 생성\n",
    "grid_tree = GridSearchCV(\n",
    "    dt_clf,\n",
    "    param_grid=parameters,\n",
    "#     refit=True, # default : True\n",
    "    cv=5,\n",
    "    return_train_score=True,\n",
    "    scoring='accuracy'\n",
    ")"
   ]
  },
  {
   "cell_type": "code",
   "execution_count": 50,
   "id": "01adf5df",
   "metadata": {},
   "outputs": [
    {
     "data": {
      "text/html": [
       "<style>#sk-container-id-1 {color: black;background-color: white;}#sk-container-id-1 pre{padding: 0;}#sk-container-id-1 div.sk-toggleable {background-color: white;}#sk-container-id-1 label.sk-toggleable__label {cursor: pointer;display: block;width: 100%;margin-bottom: 0;padding: 0.3em;box-sizing: border-box;text-align: center;}#sk-container-id-1 label.sk-toggleable__label-arrow:before {content: \"▸\";float: left;margin-right: 0.25em;color: #696969;}#sk-container-id-1 label.sk-toggleable__label-arrow:hover:before {color: black;}#sk-container-id-1 div.sk-estimator:hover label.sk-toggleable__label-arrow:before {color: black;}#sk-container-id-1 div.sk-toggleable__content {max-height: 0;max-width: 0;overflow: hidden;text-align: left;background-color: #f0f8ff;}#sk-container-id-1 div.sk-toggleable__content pre {margin: 0.2em;color: black;border-radius: 0.25em;background-color: #f0f8ff;}#sk-container-id-1 input.sk-toggleable__control:checked~div.sk-toggleable__content {max-height: 200px;max-width: 100%;overflow: auto;}#sk-container-id-1 input.sk-toggleable__control:checked~label.sk-toggleable__label-arrow:before {content: \"▾\";}#sk-container-id-1 div.sk-estimator input.sk-toggleable__control:checked~label.sk-toggleable__label {background-color: #d4ebff;}#sk-container-id-1 div.sk-label input.sk-toggleable__control:checked~label.sk-toggleable__label {background-color: #d4ebff;}#sk-container-id-1 input.sk-hidden--visually {border: 0;clip: rect(1px 1px 1px 1px);clip: rect(1px, 1px, 1px, 1px);height: 1px;margin: -1px;overflow: hidden;padding: 0;position: absolute;width: 1px;}#sk-container-id-1 div.sk-estimator {font-family: monospace;background-color: #f0f8ff;border: 1px dotted black;border-radius: 0.25em;box-sizing: border-box;margin-bottom: 0.5em;}#sk-container-id-1 div.sk-estimator:hover {background-color: #d4ebff;}#sk-container-id-1 div.sk-parallel-item::after {content: \"\";width: 100%;border-bottom: 1px solid gray;flex-grow: 1;}#sk-container-id-1 div.sk-label:hover label.sk-toggleable__label {background-color: #d4ebff;}#sk-container-id-1 div.sk-serial::before {content: \"\";position: absolute;border-left: 1px solid gray;box-sizing: border-box;top: 0;bottom: 0;left: 50%;z-index: 0;}#sk-container-id-1 div.sk-serial {display: flex;flex-direction: column;align-items: center;background-color: white;padding-right: 0.2em;padding-left: 0.2em;position: relative;}#sk-container-id-1 div.sk-item {position: relative;z-index: 1;}#sk-container-id-1 div.sk-parallel {display: flex;align-items: stretch;justify-content: center;background-color: white;position: relative;}#sk-container-id-1 div.sk-item::before, #sk-container-id-1 div.sk-parallel-item::before {content: \"\";position: absolute;border-left: 1px solid gray;box-sizing: border-box;top: 0;bottom: 0;left: 50%;z-index: -1;}#sk-container-id-1 div.sk-parallel-item {display: flex;flex-direction: column;z-index: 1;position: relative;background-color: white;}#sk-container-id-1 div.sk-parallel-item:first-child::after {align-self: flex-end;width: 50%;}#sk-container-id-1 div.sk-parallel-item:last-child::after {align-self: flex-start;width: 50%;}#sk-container-id-1 div.sk-parallel-item:only-child::after {width: 0;}#sk-container-id-1 div.sk-dashed-wrapped {border: 1px dashed gray;margin: 0 0.4em 0.5em 0.4em;box-sizing: border-box;padding-bottom: 0.4em;background-color: white;}#sk-container-id-1 div.sk-label label {font-family: monospace;font-weight: bold;display: inline-block;line-height: 1.2em;}#sk-container-id-1 div.sk-label-container {text-align: center;}#sk-container-id-1 div.sk-container {/* jupyter's `normalize.less` sets `[hidden] { display: none; }` but bootstrap.min.css set `[hidden] { display: none !important; }` so we also need the `!important` here to be able to override the default hidden behavior on the sphinx rendered scikit-learn.org. See: https://github.com/scikit-learn/scikit-learn/issues/21755 */display: inline-block !important;position: relative;}#sk-container-id-1 div.sk-text-repr-fallback {display: none;}</style><div id=\"sk-container-id-1\" class=\"sk-top-container\"><div class=\"sk-text-repr-fallback\"><pre>GridSearchCV(cv=5, estimator=DecisionTreeClassifier(random_state=11),\n",
       "             param_grid={&#x27;max_depth&#x27;: [2, 3, 5, 10],\n",
       "                         &#x27;min_samples_leaf&#x27;: [1, 5, 8],\n",
       "                         &#x27;min_samples_split&#x27;: [2, 3, 5]},\n",
       "             return_train_score=True, scoring=&#x27;accuracy&#x27;)</pre><b>In a Jupyter environment, please rerun this cell to show the HTML representation or trust the notebook. <br />On GitHub, the HTML representation is unable to render, please try loading this page with nbviewer.org.</b></div><div class=\"sk-container\" hidden><div class=\"sk-item sk-dashed-wrapped\"><div class=\"sk-label-container\"><div class=\"sk-label sk-toggleable\"><input class=\"sk-toggleable__control sk-hidden--visually\" id=\"sk-estimator-id-1\" type=\"checkbox\" ><label for=\"sk-estimator-id-1\" class=\"sk-toggleable__label sk-toggleable__label-arrow\">GridSearchCV</label><div class=\"sk-toggleable__content\"><pre>GridSearchCV(cv=5, estimator=DecisionTreeClassifier(random_state=11),\n",
       "             param_grid={&#x27;max_depth&#x27;: [2, 3, 5, 10],\n",
       "                         &#x27;min_samples_leaf&#x27;: [1, 5, 8],\n",
       "                         &#x27;min_samples_split&#x27;: [2, 3, 5]},\n",
       "             return_train_score=True, scoring=&#x27;accuracy&#x27;)</pre></div></div></div><div class=\"sk-parallel\"><div class=\"sk-parallel-item\"><div class=\"sk-item\"><div class=\"sk-label-container\"><div class=\"sk-label sk-toggleable\"><input class=\"sk-toggleable__control sk-hidden--visually\" id=\"sk-estimator-id-2\" type=\"checkbox\" ><label for=\"sk-estimator-id-2\" class=\"sk-toggleable__label sk-toggleable__label-arrow\">estimator: DecisionTreeClassifier</label><div class=\"sk-toggleable__content\"><pre>DecisionTreeClassifier(random_state=11)</pre></div></div></div><div class=\"sk-serial\"><div class=\"sk-item\"><div class=\"sk-estimator sk-toggleable\"><input class=\"sk-toggleable__control sk-hidden--visually\" id=\"sk-estimator-id-3\" type=\"checkbox\" ><label for=\"sk-estimator-id-3\" class=\"sk-toggleable__label sk-toggleable__label-arrow\">DecisionTreeClassifier</label><div class=\"sk-toggleable__content\"><pre>DecisionTreeClassifier(random_state=11)</pre></div></div></div></div></div></div></div></div></div></div>"
      ],
      "text/plain": [
       "GridSearchCV(cv=5, estimator=DecisionTreeClassifier(random_state=11),\n",
       "             param_grid={'max_depth': [2, 3, 5, 10],\n",
       "                         'min_samples_leaf': [1, 5, 8],\n",
       "                         'min_samples_split': [2, 3, 5]},\n",
       "             return_train_score=True, scoring='accuracy')"
      ]
     },
     "execution_count": 50,
     "metadata": {},
     "output_type": "execute_result"
    }
   ],
   "source": [
    "# 학습, 예측, 평가과정 실행\n",
    "grid_tree.fit(x_train, y_train)"
   ]
  },
  {
   "cell_type": "code",
   "execution_count": 51,
   "id": "4df71aa3",
   "metadata": {},
   "outputs": [
    {
     "data": {
      "text/html": [
       "<div>\n",
       "<style scoped>\n",
       "    .dataframe tbody tr th:only-of-type {\n",
       "        vertical-align: middle;\n",
       "    }\n",
       "\n",
       "    .dataframe tbody tr th {\n",
       "        vertical-align: top;\n",
       "    }\n",
       "\n",
       "    .dataframe thead th {\n",
       "        text-align: right;\n",
       "    }\n",
       "</style>\n",
       "<table border=\"1\" class=\"dataframe\">\n",
       "  <thead>\n",
       "    <tr style=\"text-align: right;\">\n",
       "      <th></th>\n",
       "      <th>mean_fit_time</th>\n",
       "      <th>std_fit_time</th>\n",
       "      <th>mean_score_time</th>\n",
       "      <th>std_score_time</th>\n",
       "      <th>param_max_depth</th>\n",
       "      <th>param_min_samples_leaf</th>\n",
       "      <th>param_min_samples_split</th>\n",
       "      <th>params</th>\n",
       "      <th>split0_test_score</th>\n",
       "      <th>split1_test_score</th>\n",
       "      <th>...</th>\n",
       "      <th>mean_test_score</th>\n",
       "      <th>std_test_score</th>\n",
       "      <th>rank_test_score</th>\n",
       "      <th>split0_train_score</th>\n",
       "      <th>split1_train_score</th>\n",
       "      <th>split2_train_score</th>\n",
       "      <th>split3_train_score</th>\n",
       "      <th>split4_train_score</th>\n",
       "      <th>mean_train_score</th>\n",
       "      <th>std_train_score</th>\n",
       "    </tr>\n",
       "  </thead>\n",
       "  <tbody>\n",
       "    <tr>\n",
       "      <th>0</th>\n",
       "      <td>0.002000</td>\n",
       "      <td>6.323344e-04</td>\n",
       "      <td>0.000800</td>\n",
       "      <td>4.000902e-04</td>\n",
       "      <td>2</td>\n",
       "      <td>1</td>\n",
       "      <td>2</td>\n",
       "      <td>{'max_depth': 2, 'min_samples_leaf': 1, 'min_s...</td>\n",
       "      <td>0.755245</td>\n",
       "      <td>0.790210</td>\n",
       "      <td>...</td>\n",
       "      <td>0.773880</td>\n",
       "      <td>0.016186</td>\n",
       "      <td>31</td>\n",
       "      <td>0.804921</td>\n",
       "      <td>0.789104</td>\n",
       "      <td>0.791228</td>\n",
       "      <td>0.798246</td>\n",
       "      <td>0.794737</td>\n",
       "      <td>0.795647</td>\n",
       "      <td>0.005584</td>\n",
       "    </tr>\n",
       "    <tr>\n",
       "      <th>1</th>\n",
       "      <td>0.001401</td>\n",
       "      <td>4.898625e-04</td>\n",
       "      <td>0.001000</td>\n",
       "      <td>9.536743e-08</td>\n",
       "      <td>2</td>\n",
       "      <td>1</td>\n",
       "      <td>3</td>\n",
       "      <td>{'max_depth': 2, 'min_samples_leaf': 1, 'min_s...</td>\n",
       "      <td>0.755245</td>\n",
       "      <td>0.790210</td>\n",
       "      <td>...</td>\n",
       "      <td>0.773880</td>\n",
       "      <td>0.016186</td>\n",
       "      <td>31</td>\n",
       "      <td>0.804921</td>\n",
       "      <td>0.789104</td>\n",
       "      <td>0.791228</td>\n",
       "      <td>0.798246</td>\n",
       "      <td>0.794737</td>\n",
       "      <td>0.795647</td>\n",
       "      <td>0.005584</td>\n",
       "    </tr>\n",
       "    <tr>\n",
       "      <th>2</th>\n",
       "      <td>0.001400</td>\n",
       "      <td>4.900377e-04</td>\n",
       "      <td>0.001000</td>\n",
       "      <td>1.784161e-07</td>\n",
       "      <td>2</td>\n",
       "      <td>1</td>\n",
       "      <td>5</td>\n",
       "      <td>{'max_depth': 2, 'min_samples_leaf': 1, 'min_s...</td>\n",
       "      <td>0.755245</td>\n",
       "      <td>0.790210</td>\n",
       "      <td>...</td>\n",
       "      <td>0.773880</td>\n",
       "      <td>0.016186</td>\n",
       "      <td>31</td>\n",
       "      <td>0.804921</td>\n",
       "      <td>0.789104</td>\n",
       "      <td>0.791228</td>\n",
       "      <td>0.798246</td>\n",
       "      <td>0.794737</td>\n",
       "      <td>0.795647</td>\n",
       "      <td>0.005584</td>\n",
       "    </tr>\n",
       "    <tr>\n",
       "      <th>3</th>\n",
       "      <td>0.001400</td>\n",
       "      <td>4.900182e-04</td>\n",
       "      <td>0.000800</td>\n",
       "      <td>4.000664e-04</td>\n",
       "      <td>2</td>\n",
       "      <td>5</td>\n",
       "      <td>2</td>\n",
       "      <td>{'max_depth': 2, 'min_samples_leaf': 5, 'min_s...</td>\n",
       "      <td>0.755245</td>\n",
       "      <td>0.790210</td>\n",
       "      <td>...</td>\n",
       "      <td>0.773880</td>\n",
       "      <td>0.016186</td>\n",
       "      <td>31</td>\n",
       "      <td>0.804921</td>\n",
       "      <td>0.789104</td>\n",
       "      <td>0.791228</td>\n",
       "      <td>0.798246</td>\n",
       "      <td>0.794737</td>\n",
       "      <td>0.795647</td>\n",
       "      <td>0.005584</td>\n",
       "    </tr>\n",
       "    <tr>\n",
       "      <th>4</th>\n",
       "      <td>0.001400</td>\n",
       "      <td>4.900571e-04</td>\n",
       "      <td>0.000800</td>\n",
       "      <td>4.000664e-04</td>\n",
       "      <td>2</td>\n",
       "      <td>5</td>\n",
       "      <td>3</td>\n",
       "      <td>{'max_depth': 2, 'min_samples_leaf': 5, 'min_s...</td>\n",
       "      <td>0.755245</td>\n",
       "      <td>0.790210</td>\n",
       "      <td>...</td>\n",
       "      <td>0.773880</td>\n",
       "      <td>0.016186</td>\n",
       "      <td>31</td>\n",
       "      <td>0.804921</td>\n",
       "      <td>0.789104</td>\n",
       "      <td>0.791228</td>\n",
       "      <td>0.798246</td>\n",
       "      <td>0.794737</td>\n",
       "      <td>0.795647</td>\n",
       "      <td>0.005584</td>\n",
       "    </tr>\n",
       "    <tr>\n",
       "      <th>5</th>\n",
       "      <td>0.001400</td>\n",
       "      <td>4.898236e-04</td>\n",
       "      <td>0.001000</td>\n",
       "      <td>0.000000e+00</td>\n",
       "      <td>2</td>\n",
       "      <td>5</td>\n",
       "      <td>5</td>\n",
       "      <td>{'max_depth': 2, 'min_samples_leaf': 5, 'min_s...</td>\n",
       "      <td>0.755245</td>\n",
       "      <td>0.790210</td>\n",
       "      <td>...</td>\n",
       "      <td>0.773880</td>\n",
       "      <td>0.016186</td>\n",
       "      <td>31</td>\n",
       "      <td>0.804921</td>\n",
       "      <td>0.789104</td>\n",
       "      <td>0.791228</td>\n",
       "      <td>0.798246</td>\n",
       "      <td>0.794737</td>\n",
       "      <td>0.795647</td>\n",
       "      <td>0.005584</td>\n",
       "    </tr>\n",
       "    <tr>\n",
       "      <th>6</th>\n",
       "      <td>0.001600</td>\n",
       "      <td>4.897654e-04</td>\n",
       "      <td>0.001000</td>\n",
       "      <td>1.907349e-07</td>\n",
       "      <td>2</td>\n",
       "      <td>8</td>\n",
       "      <td>2</td>\n",
       "      <td>{'max_depth': 2, 'min_samples_leaf': 8, 'min_s...</td>\n",
       "      <td>0.755245</td>\n",
       "      <td>0.790210</td>\n",
       "      <td>...</td>\n",
       "      <td>0.775288</td>\n",
       "      <td>0.017657</td>\n",
       "      <td>28</td>\n",
       "      <td>0.804921</td>\n",
       "      <td>0.789104</td>\n",
       "      <td>0.791228</td>\n",
       "      <td>0.798246</td>\n",
       "      <td>0.792982</td>\n",
       "      <td>0.795296</td>\n",
       "      <td>0.005685</td>\n",
       "    </tr>\n",
       "    <tr>\n",
       "      <th>7</th>\n",
       "      <td>0.001600</td>\n",
       "      <td>4.899792e-04</td>\n",
       "      <td>0.000801</td>\n",
       "      <td>4.003056e-04</td>\n",
       "      <td>2</td>\n",
       "      <td>8</td>\n",
       "      <td>3</td>\n",
       "      <td>{'max_depth': 2, 'min_samples_leaf': 8, 'min_s...</td>\n",
       "      <td>0.755245</td>\n",
       "      <td>0.790210</td>\n",
       "      <td>...</td>\n",
       "      <td>0.775288</td>\n",
       "      <td>0.017657</td>\n",
       "      <td>28</td>\n",
       "      <td>0.804921</td>\n",
       "      <td>0.789104</td>\n",
       "      <td>0.791228</td>\n",
       "      <td>0.798246</td>\n",
       "      <td>0.792982</td>\n",
       "      <td>0.795296</td>\n",
       "      <td>0.005685</td>\n",
       "    </tr>\n",
       "    <tr>\n",
       "      <th>8</th>\n",
       "      <td>0.001400</td>\n",
       "      <td>4.900377e-04</td>\n",
       "      <td>0.000800</td>\n",
       "      <td>4.000664e-04</td>\n",
       "      <td>2</td>\n",
       "      <td>8</td>\n",
       "      <td>5</td>\n",
       "      <td>{'max_depth': 2, 'min_samples_leaf': 8, 'min_s...</td>\n",
       "      <td>0.755245</td>\n",
       "      <td>0.790210</td>\n",
       "      <td>...</td>\n",
       "      <td>0.775288</td>\n",
       "      <td>0.017657</td>\n",
       "      <td>28</td>\n",
       "      <td>0.804921</td>\n",
       "      <td>0.789104</td>\n",
       "      <td>0.791228</td>\n",
       "      <td>0.798246</td>\n",
       "      <td>0.792982</td>\n",
       "      <td>0.795296</td>\n",
       "      <td>0.005685</td>\n",
       "    </tr>\n",
       "    <tr>\n",
       "      <th>9</th>\n",
       "      <td>0.001600</td>\n",
       "      <td>4.900960e-04</td>\n",
       "      <td>0.000801</td>\n",
       "      <td>4.002814e-04</td>\n",
       "      <td>3</td>\n",
       "      <td>1</td>\n",
       "      <td>2</td>\n",
       "      <td>{'max_depth': 3, 'min_samples_leaf': 1, 'min_s...</td>\n",
       "      <td>0.762238</td>\n",
       "      <td>0.853147</td>\n",
       "      <td>...</td>\n",
       "      <td>0.786457</td>\n",
       "      <td>0.035394</td>\n",
       "      <td>25</td>\n",
       "      <td>0.834798</td>\n",
       "      <td>0.808436</td>\n",
       "      <td>0.810526</td>\n",
       "      <td>0.828070</td>\n",
       "      <td>0.815789</td>\n",
       "      <td>0.819524</td>\n",
       "      <td>0.010239</td>\n",
       "    </tr>\n",
       "    <tr>\n",
       "      <th>10</th>\n",
       "      <td>0.001600</td>\n",
       "      <td>4.900961e-04</td>\n",
       "      <td>0.001000</td>\n",
       "      <td>0.000000e+00</td>\n",
       "      <td>3</td>\n",
       "      <td>1</td>\n",
       "      <td>3</td>\n",
       "      <td>{'max_depth': 3, 'min_samples_leaf': 1, 'min_s...</td>\n",
       "      <td>0.762238</td>\n",
       "      <td>0.853147</td>\n",
       "      <td>...</td>\n",
       "      <td>0.786457</td>\n",
       "      <td>0.035394</td>\n",
       "      <td>25</td>\n",
       "      <td>0.834798</td>\n",
       "      <td>0.808436</td>\n",
       "      <td>0.810526</td>\n",
       "      <td>0.828070</td>\n",
       "      <td>0.815789</td>\n",
       "      <td>0.819524</td>\n",
       "      <td>0.010239</td>\n",
       "    </tr>\n",
       "    <tr>\n",
       "      <th>11</th>\n",
       "      <td>0.001600</td>\n",
       "      <td>4.900182e-04</td>\n",
       "      <td>0.000800</td>\n",
       "      <td>4.001141e-04</td>\n",
       "      <td>3</td>\n",
       "      <td>1</td>\n",
       "      <td>5</td>\n",
       "      <td>{'max_depth': 3, 'min_samples_leaf': 1, 'min_s...</td>\n",
       "      <td>0.762238</td>\n",
       "      <td>0.853147</td>\n",
       "      <td>...</td>\n",
       "      <td>0.786457</td>\n",
       "      <td>0.035394</td>\n",
       "      <td>25</td>\n",
       "      <td>0.834798</td>\n",
       "      <td>0.808436</td>\n",
       "      <td>0.810526</td>\n",
       "      <td>0.828070</td>\n",
       "      <td>0.815789</td>\n",
       "      <td>0.819524</td>\n",
       "      <td>0.010239</td>\n",
       "    </tr>\n",
       "    <tr>\n",
       "      <th>12</th>\n",
       "      <td>0.001400</td>\n",
       "      <td>4.899598e-04</td>\n",
       "      <td>0.001000</td>\n",
       "      <td>1.507891e-07</td>\n",
       "      <td>3</td>\n",
       "      <td>5</td>\n",
       "      <td>2</td>\n",
       "      <td>{'max_depth': 3, 'min_samples_leaf': 5, 'min_s...</td>\n",
       "      <td>0.769231</td>\n",
       "      <td>0.853147</td>\n",
       "      <td>...</td>\n",
       "      <td>0.793490</td>\n",
       "      <td>0.032433</td>\n",
       "      <td>14</td>\n",
       "      <td>0.833040</td>\n",
       "      <td>0.808436</td>\n",
       "      <td>0.808772</td>\n",
       "      <td>0.828070</td>\n",
       "      <td>0.814035</td>\n",
       "      <td>0.818471</td>\n",
       "      <td>0.010187</td>\n",
       "    </tr>\n",
       "    <tr>\n",
       "      <th>13</th>\n",
       "      <td>0.001600</td>\n",
       "      <td>4.900961e-04</td>\n",
       "      <td>0.001000</td>\n",
       "      <td>9.536743e-08</td>\n",
       "      <td>3</td>\n",
       "      <td>5</td>\n",
       "      <td>3</td>\n",
       "      <td>{'max_depth': 3, 'min_samples_leaf': 5, 'min_s...</td>\n",
       "      <td>0.769231</td>\n",
       "      <td>0.853147</td>\n",
       "      <td>...</td>\n",
       "      <td>0.793490</td>\n",
       "      <td>0.032433</td>\n",
       "      <td>14</td>\n",
       "      <td>0.833040</td>\n",
       "      <td>0.808436</td>\n",
       "      <td>0.808772</td>\n",
       "      <td>0.828070</td>\n",
       "      <td>0.814035</td>\n",
       "      <td>0.818471</td>\n",
       "      <td>0.010187</td>\n",
       "    </tr>\n",
       "    <tr>\n",
       "      <th>14</th>\n",
       "      <td>0.001400</td>\n",
       "      <td>4.901350e-04</td>\n",
       "      <td>0.000800</td>\n",
       "      <td>4.000902e-04</td>\n",
       "      <td>3</td>\n",
       "      <td>5</td>\n",
       "      <td>5</td>\n",
       "      <td>{'max_depth': 3, 'min_samples_leaf': 5, 'min_s...</td>\n",
       "      <td>0.769231</td>\n",
       "      <td>0.853147</td>\n",
       "      <td>...</td>\n",
       "      <td>0.793490</td>\n",
       "      <td>0.032433</td>\n",
       "      <td>14</td>\n",
       "      <td>0.833040</td>\n",
       "      <td>0.808436</td>\n",
       "      <td>0.808772</td>\n",
       "      <td>0.828070</td>\n",
       "      <td>0.814035</td>\n",
       "      <td>0.818471</td>\n",
       "      <td>0.010187</td>\n",
       "    </tr>\n",
       "    <tr>\n",
       "      <th>15</th>\n",
       "      <td>0.001400</td>\n",
       "      <td>4.900182e-04</td>\n",
       "      <td>0.000600</td>\n",
       "      <td>4.900182e-04</td>\n",
       "      <td>3</td>\n",
       "      <td>8</td>\n",
       "      <td>2</td>\n",
       "      <td>{'max_depth': 3, 'min_samples_leaf': 8, 'min_s...</td>\n",
       "      <td>0.762238</td>\n",
       "      <td>0.839161</td>\n",
       "      <td>...</td>\n",
       "      <td>0.789294</td>\n",
       "      <td>0.030599</td>\n",
       "      <td>22</td>\n",
       "      <td>0.827768</td>\n",
       "      <td>0.804921</td>\n",
       "      <td>0.805263</td>\n",
       "      <td>0.828070</td>\n",
       "      <td>0.817544</td>\n",
       "      <td>0.816713</td>\n",
       "      <td>0.010218</td>\n",
       "    </tr>\n",
       "    <tr>\n",
       "      <th>16</th>\n",
       "      <td>0.001600</td>\n",
       "      <td>4.899014e-04</td>\n",
       "      <td>0.000400</td>\n",
       "      <td>4.899793e-04</td>\n",
       "      <td>3</td>\n",
       "      <td>8</td>\n",
       "      <td>3</td>\n",
       "      <td>{'max_depth': 3, 'min_samples_leaf': 8, 'min_s...</td>\n",
       "      <td>0.762238</td>\n",
       "      <td>0.839161</td>\n",
       "      <td>...</td>\n",
       "      <td>0.789294</td>\n",
       "      <td>0.030599</td>\n",
       "      <td>22</td>\n",
       "      <td>0.827768</td>\n",
       "      <td>0.804921</td>\n",
       "      <td>0.805263</td>\n",
       "      <td>0.828070</td>\n",
       "      <td>0.817544</td>\n",
       "      <td>0.816713</td>\n",
       "      <td>0.010218</td>\n",
       "    </tr>\n",
       "    <tr>\n",
       "      <th>17</th>\n",
       "      <td>0.001400</td>\n",
       "      <td>4.900571e-04</td>\n",
       "      <td>0.000600</td>\n",
       "      <td>4.899403e-04</td>\n",
       "      <td>3</td>\n",
       "      <td>8</td>\n",
       "      <td>5</td>\n",
       "      <td>{'max_depth': 3, 'min_samples_leaf': 8, 'min_s...</td>\n",
       "      <td>0.762238</td>\n",
       "      <td>0.839161</td>\n",
       "      <td>...</td>\n",
       "      <td>0.789294</td>\n",
       "      <td>0.030599</td>\n",
       "      <td>22</td>\n",
       "      <td>0.827768</td>\n",
       "      <td>0.804921</td>\n",
       "      <td>0.805263</td>\n",
       "      <td>0.828070</td>\n",
       "      <td>0.817544</td>\n",
       "      <td>0.816713</td>\n",
       "      <td>0.010218</td>\n",
       "    </tr>\n",
       "    <tr>\n",
       "      <th>18</th>\n",
       "      <td>0.001600</td>\n",
       "      <td>4.899987e-04</td>\n",
       "      <td>0.001000</td>\n",
       "      <td>0.000000e+00</td>\n",
       "      <td>5</td>\n",
       "      <td>1</td>\n",
       "      <td>2</td>\n",
       "      <td>{'max_depth': 5, 'min_samples_leaf': 1, 'min_s...</td>\n",
       "      <td>0.769231</td>\n",
       "      <td>0.797203</td>\n",
       "      <td>...</td>\n",
       "      <td>0.790752</td>\n",
       "      <td>0.029156</td>\n",
       "      <td>18</td>\n",
       "      <td>0.869947</td>\n",
       "      <td>0.847100</td>\n",
       "      <td>0.847368</td>\n",
       "      <td>0.878947</td>\n",
       "      <td>0.857895</td>\n",
       "      <td>0.860252</td>\n",
       "      <td>0.012554</td>\n",
       "    </tr>\n",
       "    <tr>\n",
       "      <th>19</th>\n",
       "      <td>0.001800</td>\n",
       "      <td>4.001379e-04</td>\n",
       "      <td>0.000800</td>\n",
       "      <td>4.000664e-04</td>\n",
       "      <td>5</td>\n",
       "      <td>1</td>\n",
       "      <td>3</td>\n",
       "      <td>{'max_depth': 5, 'min_samples_leaf': 1, 'min_s...</td>\n",
       "      <td>0.769231</td>\n",
       "      <td>0.804196</td>\n",
       "      <td>...</td>\n",
       "      <td>0.790742</td>\n",
       "      <td>0.030871</td>\n",
       "      <td>19</td>\n",
       "      <td>0.868190</td>\n",
       "      <td>0.843585</td>\n",
       "      <td>0.847368</td>\n",
       "      <td>0.875439</td>\n",
       "      <td>0.857895</td>\n",
       "      <td>0.858495</td>\n",
       "      <td>0.012063</td>\n",
       "    </tr>\n",
       "    <tr>\n",
       "      <th>20</th>\n",
       "      <td>0.001800</td>\n",
       "      <td>3.999949e-04</td>\n",
       "      <td>0.001000</td>\n",
       "      <td>1.168008e-07</td>\n",
       "      <td>5</td>\n",
       "      <td>1</td>\n",
       "      <td>5</td>\n",
       "      <td>{'max_depth': 5, 'min_samples_leaf': 1, 'min_s...</td>\n",
       "      <td>0.769231</td>\n",
       "      <td>0.804196</td>\n",
       "      <td>...</td>\n",
       "      <td>0.790742</td>\n",
       "      <td>0.030871</td>\n",
       "      <td>19</td>\n",
       "      <td>0.868190</td>\n",
       "      <td>0.843585</td>\n",
       "      <td>0.845614</td>\n",
       "      <td>0.875439</td>\n",
       "      <td>0.857895</td>\n",
       "      <td>0.858144</td>\n",
       "      <td>0.012402</td>\n",
       "    </tr>\n",
       "    <tr>\n",
       "      <th>21</th>\n",
       "      <td>0.001400</td>\n",
       "      <td>4.899792e-04</td>\n",
       "      <td>0.000800</td>\n",
       "      <td>4.001141e-04</td>\n",
       "      <td>5</td>\n",
       "      <td>5</td>\n",
       "      <td>2</td>\n",
       "      <td>{'max_depth': 5, 'min_samples_leaf': 5, 'min_s...</td>\n",
       "      <td>0.776224</td>\n",
       "      <td>0.783217</td>\n",
       "      <td>...</td>\n",
       "      <td>0.794987</td>\n",
       "      <td>0.028662</td>\n",
       "      <td>11</td>\n",
       "      <td>0.857645</td>\n",
       "      <td>0.843585</td>\n",
       "      <td>0.842105</td>\n",
       "      <td>0.861404</td>\n",
       "      <td>0.849123</td>\n",
       "      <td>0.850772</td>\n",
       "      <td>0.007612</td>\n",
       "    </tr>\n",
       "    <tr>\n",
       "      <th>22</th>\n",
       "      <td>0.001800</td>\n",
       "      <td>4.000188e-04</td>\n",
       "      <td>0.000800</td>\n",
       "      <td>4.001618e-04</td>\n",
       "      <td>5</td>\n",
       "      <td>5</td>\n",
       "      <td>3</td>\n",
       "      <td>{'max_depth': 5, 'min_samples_leaf': 5, 'min_s...</td>\n",
       "      <td>0.776224</td>\n",
       "      <td>0.783217</td>\n",
       "      <td>...</td>\n",
       "      <td>0.794987</td>\n",
       "      <td>0.028662</td>\n",
       "      <td>11</td>\n",
       "      <td>0.857645</td>\n",
       "      <td>0.843585</td>\n",
       "      <td>0.842105</td>\n",
       "      <td>0.861404</td>\n",
       "      <td>0.849123</td>\n",
       "      <td>0.850772</td>\n",
       "      <td>0.007612</td>\n",
       "    </tr>\n",
       "    <tr>\n",
       "      <th>23</th>\n",
       "      <td>0.001600</td>\n",
       "      <td>4.900571e-04</td>\n",
       "      <td>0.001000</td>\n",
       "      <td>5.722046e-07</td>\n",
       "      <td>5</td>\n",
       "      <td>5</td>\n",
       "      <td>5</td>\n",
       "      <td>{'max_depth': 5, 'min_samples_leaf': 5, 'min_s...</td>\n",
       "      <td>0.776224</td>\n",
       "      <td>0.783217</td>\n",
       "      <td>...</td>\n",
       "      <td>0.794987</td>\n",
       "      <td>0.028662</td>\n",
       "      <td>11</td>\n",
       "      <td>0.857645</td>\n",
       "      <td>0.843585</td>\n",
       "      <td>0.842105</td>\n",
       "      <td>0.861404</td>\n",
       "      <td>0.849123</td>\n",
       "      <td>0.850772</td>\n",
       "      <td>0.007612</td>\n",
       "    </tr>\n",
       "    <tr>\n",
       "      <th>24</th>\n",
       "      <td>0.001800</td>\n",
       "      <td>4.000187e-04</td>\n",
       "      <td>0.001001</td>\n",
       "      <td>4.422006e-07</td>\n",
       "      <td>5</td>\n",
       "      <td>8</td>\n",
       "      <td>2</td>\n",
       "      <td>{'max_depth': 5, 'min_samples_leaf': 8, 'min_s...</td>\n",
       "      <td>0.790210</td>\n",
       "      <td>0.832168</td>\n",
       "      <td>...</td>\n",
       "      <td>0.811799</td>\n",
       "      <td>0.035414</td>\n",
       "      <td>1</td>\n",
       "      <td>0.857645</td>\n",
       "      <td>0.848858</td>\n",
       "      <td>0.849123</td>\n",
       "      <td>0.849123</td>\n",
       "      <td>0.843860</td>\n",
       "      <td>0.849722</td>\n",
       "      <td>0.004441</td>\n",
       "    </tr>\n",
       "    <tr>\n",
       "      <th>25</th>\n",
       "      <td>0.001600</td>\n",
       "      <td>4.899598e-04</td>\n",
       "      <td>0.000800</td>\n",
       "      <td>4.001141e-04</td>\n",
       "      <td>5</td>\n",
       "      <td>8</td>\n",
       "      <td>3</td>\n",
       "      <td>{'max_depth': 5, 'min_samples_leaf': 8, 'min_s...</td>\n",
       "      <td>0.790210</td>\n",
       "      <td>0.832168</td>\n",
       "      <td>...</td>\n",
       "      <td>0.811799</td>\n",
       "      <td>0.035414</td>\n",
       "      <td>1</td>\n",
       "      <td>0.857645</td>\n",
       "      <td>0.848858</td>\n",
       "      <td>0.849123</td>\n",
       "      <td>0.849123</td>\n",
       "      <td>0.843860</td>\n",
       "      <td>0.849722</td>\n",
       "      <td>0.004441</td>\n",
       "    </tr>\n",
       "    <tr>\n",
       "      <th>26</th>\n",
       "      <td>0.001400</td>\n",
       "      <td>4.900571e-04</td>\n",
       "      <td>0.001000</td>\n",
       "      <td>9.536743e-08</td>\n",
       "      <td>5</td>\n",
       "      <td>8</td>\n",
       "      <td>5</td>\n",
       "      <td>{'max_depth': 5, 'min_samples_leaf': 8, 'min_s...</td>\n",
       "      <td>0.790210</td>\n",
       "      <td>0.832168</td>\n",
       "      <td>...</td>\n",
       "      <td>0.811799</td>\n",
       "      <td>0.035414</td>\n",
       "      <td>1</td>\n",
       "      <td>0.857645</td>\n",
       "      <td>0.848858</td>\n",
       "      <td>0.849123</td>\n",
       "      <td>0.849123</td>\n",
       "      <td>0.843860</td>\n",
       "      <td>0.849722</td>\n",
       "      <td>0.004441</td>\n",
       "    </tr>\n",
       "    <tr>\n",
       "      <th>27</th>\n",
       "      <td>0.002001</td>\n",
       "      <td>2.780415e-07</td>\n",
       "      <td>0.001000</td>\n",
       "      <td>9.536743e-08</td>\n",
       "      <td>10</td>\n",
       "      <td>1</td>\n",
       "      <td>2</td>\n",
       "      <td>{'max_depth': 10, 'min_samples_leaf': 1, 'min_...</td>\n",
       "      <td>0.755245</td>\n",
       "      <td>0.755245</td>\n",
       "      <td>...</td>\n",
       "      <td>0.792239</td>\n",
       "      <td>0.044090</td>\n",
       "      <td>17</td>\n",
       "      <td>0.964851</td>\n",
       "      <td>0.936731</td>\n",
       "      <td>0.928070</td>\n",
       "      <td>0.952632</td>\n",
       "      <td>0.952632</td>\n",
       "      <td>0.946983</td>\n",
       "      <td>0.013007</td>\n",
       "    </tr>\n",
       "    <tr>\n",
       "      <th>28</th>\n",
       "      <td>0.002000</td>\n",
       "      <td>1.168008e-07</td>\n",
       "      <td>0.000600</td>\n",
       "      <td>4.900182e-04</td>\n",
       "      <td>10</td>\n",
       "      <td>1</td>\n",
       "      <td>3</td>\n",
       "      <td>{'max_depth': 10, 'min_samples_leaf': 1, 'min_...</td>\n",
       "      <td>0.755245</td>\n",
       "      <td>0.790210</td>\n",
       "      <td>...</td>\n",
       "      <td>0.796415</td>\n",
       "      <td>0.043263</td>\n",
       "      <td>10</td>\n",
       "      <td>0.954306</td>\n",
       "      <td>0.926186</td>\n",
       "      <td>0.922807</td>\n",
       "      <td>0.942105</td>\n",
       "      <td>0.938596</td>\n",
       "      <td>0.936800</td>\n",
       "      <td>0.011369</td>\n",
       "    </tr>\n",
       "    <tr>\n",
       "      <th>29</th>\n",
       "      <td>0.001600</td>\n",
       "      <td>4.900766e-04</td>\n",
       "      <td>0.000800</td>\n",
       "      <td>4.001141e-04</td>\n",
       "      <td>10</td>\n",
       "      <td>1</td>\n",
       "      <td>5</td>\n",
       "      <td>{'max_depth': 10, 'min_samples_leaf': 1, 'min_...</td>\n",
       "      <td>0.741259</td>\n",
       "      <td>0.769231</td>\n",
       "      <td>...</td>\n",
       "      <td>0.789422</td>\n",
       "      <td>0.044879</td>\n",
       "      <td>21</td>\n",
       "      <td>0.949033</td>\n",
       "      <td>0.920914</td>\n",
       "      <td>0.915789</td>\n",
       "      <td>0.936842</td>\n",
       "      <td>0.928070</td>\n",
       "      <td>0.930130</td>\n",
       "      <td>0.011809</td>\n",
       "    </tr>\n",
       "    <tr>\n",
       "      <th>30</th>\n",
       "      <td>0.001959</td>\n",
       "      <td>8.208895e-05</td>\n",
       "      <td>0.001000</td>\n",
       "      <td>2.132481e-07</td>\n",
       "      <td>10</td>\n",
       "      <td>5</td>\n",
       "      <td>2</td>\n",
       "      <td>{'max_depth': 10, 'min_samples_leaf': 5, 'min_...</td>\n",
       "      <td>0.797203</td>\n",
       "      <td>0.797203</td>\n",
       "      <td>...</td>\n",
       "      <td>0.809022</td>\n",
       "      <td>0.013133</td>\n",
       "      <td>4</td>\n",
       "      <td>0.903339</td>\n",
       "      <td>0.892794</td>\n",
       "      <td>0.884211</td>\n",
       "      <td>0.896491</td>\n",
       "      <td>0.884211</td>\n",
       "      <td>0.892209</td>\n",
       "      <td>0.007355</td>\n",
       "    </tr>\n",
       "    <tr>\n",
       "      <th>31</th>\n",
       "      <td>0.001800</td>\n",
       "      <td>4.000187e-04</td>\n",
       "      <td>0.000800</td>\n",
       "      <td>4.000664e-04</td>\n",
       "      <td>10</td>\n",
       "      <td>5</td>\n",
       "      <td>3</td>\n",
       "      <td>{'max_depth': 10, 'min_samples_leaf': 5, 'min_...</td>\n",
       "      <td>0.797203</td>\n",
       "      <td>0.797203</td>\n",
       "      <td>...</td>\n",
       "      <td>0.809022</td>\n",
       "      <td>0.013133</td>\n",
       "      <td>4</td>\n",
       "      <td>0.903339</td>\n",
       "      <td>0.892794</td>\n",
       "      <td>0.884211</td>\n",
       "      <td>0.896491</td>\n",
       "      <td>0.884211</td>\n",
       "      <td>0.892209</td>\n",
       "      <td>0.007355</td>\n",
       "    </tr>\n",
       "    <tr>\n",
       "      <th>32</th>\n",
       "      <td>0.002001</td>\n",
       "      <td>2.132481e-07</td>\n",
       "      <td>0.001000</td>\n",
       "      <td>4.623108e-07</td>\n",
       "      <td>10</td>\n",
       "      <td>5</td>\n",
       "      <td>5</td>\n",
       "      <td>{'max_depth': 10, 'min_samples_leaf': 5, 'min_...</td>\n",
       "      <td>0.797203</td>\n",
       "      <td>0.797203</td>\n",
       "      <td>...</td>\n",
       "      <td>0.809022</td>\n",
       "      <td>0.013133</td>\n",
       "      <td>4</td>\n",
       "      <td>0.903339</td>\n",
       "      <td>0.892794</td>\n",
       "      <td>0.884211</td>\n",
       "      <td>0.896491</td>\n",
       "      <td>0.884211</td>\n",
       "      <td>0.892209</td>\n",
       "      <td>0.007355</td>\n",
       "    </tr>\n",
       "    <tr>\n",
       "      <th>33</th>\n",
       "      <td>0.001800</td>\n",
       "      <td>4.001618e-04</td>\n",
       "      <td>0.000800</td>\n",
       "      <td>4.000664e-04</td>\n",
       "      <td>10</td>\n",
       "      <td>8</td>\n",
       "      <td>2</td>\n",
       "      <td>{'max_depth': 10, 'min_samples_leaf': 8, 'min_...</td>\n",
       "      <td>0.790210</td>\n",
       "      <td>0.797203</td>\n",
       "      <td>...</td>\n",
       "      <td>0.807623</td>\n",
       "      <td>0.033257</td>\n",
       "      <td>7</td>\n",
       "      <td>0.869947</td>\n",
       "      <td>0.873462</td>\n",
       "      <td>0.863158</td>\n",
       "      <td>0.864912</td>\n",
       "      <td>0.854386</td>\n",
       "      <td>0.865173</td>\n",
       "      <td>0.006511</td>\n",
       "    </tr>\n",
       "    <tr>\n",
       "      <th>34</th>\n",
       "      <td>0.001600</td>\n",
       "      <td>4.898820e-04</td>\n",
       "      <td>0.001000</td>\n",
       "      <td>1.168008e-07</td>\n",
       "      <td>10</td>\n",
       "      <td>8</td>\n",
       "      <td>3</td>\n",
       "      <td>{'max_depth': 10, 'min_samples_leaf': 8, 'min_...</td>\n",
       "      <td>0.790210</td>\n",
       "      <td>0.797203</td>\n",
       "      <td>...</td>\n",
       "      <td>0.807623</td>\n",
       "      <td>0.033257</td>\n",
       "      <td>7</td>\n",
       "      <td>0.869947</td>\n",
       "      <td>0.873462</td>\n",
       "      <td>0.863158</td>\n",
       "      <td>0.864912</td>\n",
       "      <td>0.854386</td>\n",
       "      <td>0.865173</td>\n",
       "      <td>0.006511</td>\n",
       "    </tr>\n",
       "    <tr>\n",
       "      <th>35</th>\n",
       "      <td>0.001800</td>\n",
       "      <td>4.001379e-04</td>\n",
       "      <td>0.001000</td>\n",
       "      <td>9.536743e-08</td>\n",
       "      <td>10</td>\n",
       "      <td>8</td>\n",
       "      <td>5</td>\n",
       "      <td>{'max_depth': 10, 'min_samples_leaf': 8, 'min_...</td>\n",
       "      <td>0.790210</td>\n",
       "      <td>0.797203</td>\n",
       "      <td>...</td>\n",
       "      <td>0.807623</td>\n",
       "      <td>0.033257</td>\n",
       "      <td>7</td>\n",
       "      <td>0.869947</td>\n",
       "      <td>0.873462</td>\n",
       "      <td>0.863158</td>\n",
       "      <td>0.864912</td>\n",
       "      <td>0.854386</td>\n",
       "      <td>0.865173</td>\n",
       "      <td>0.006511</td>\n",
       "    </tr>\n",
       "  </tbody>\n",
       "</table>\n",
       "<p>36 rows × 23 columns</p>\n",
       "</div>"
      ],
      "text/plain": [
       "    mean_fit_time  std_fit_time  mean_score_time  std_score_time   \n",
       "0        0.002000  6.323344e-04         0.000800    4.000902e-04  \\\n",
       "1        0.001401  4.898625e-04         0.001000    9.536743e-08   \n",
       "2        0.001400  4.900377e-04         0.001000    1.784161e-07   \n",
       "3        0.001400  4.900182e-04         0.000800    4.000664e-04   \n",
       "4        0.001400  4.900571e-04         0.000800    4.000664e-04   \n",
       "5        0.001400  4.898236e-04         0.001000    0.000000e+00   \n",
       "6        0.001600  4.897654e-04         0.001000    1.907349e-07   \n",
       "7        0.001600  4.899792e-04         0.000801    4.003056e-04   \n",
       "8        0.001400  4.900377e-04         0.000800    4.000664e-04   \n",
       "9        0.001600  4.900960e-04         0.000801    4.002814e-04   \n",
       "10       0.001600  4.900961e-04         0.001000    0.000000e+00   \n",
       "11       0.001600  4.900182e-04         0.000800    4.001141e-04   \n",
       "12       0.001400  4.899598e-04         0.001000    1.507891e-07   \n",
       "13       0.001600  4.900961e-04         0.001000    9.536743e-08   \n",
       "14       0.001400  4.901350e-04         0.000800    4.000902e-04   \n",
       "15       0.001400  4.900182e-04         0.000600    4.900182e-04   \n",
       "16       0.001600  4.899014e-04         0.000400    4.899793e-04   \n",
       "17       0.001400  4.900571e-04         0.000600    4.899403e-04   \n",
       "18       0.001600  4.899987e-04         0.001000    0.000000e+00   \n",
       "19       0.001800  4.001379e-04         0.000800    4.000664e-04   \n",
       "20       0.001800  3.999949e-04         0.001000    1.168008e-07   \n",
       "21       0.001400  4.899792e-04         0.000800    4.001141e-04   \n",
       "22       0.001800  4.000188e-04         0.000800    4.001618e-04   \n",
       "23       0.001600  4.900571e-04         0.001000    5.722046e-07   \n",
       "24       0.001800  4.000187e-04         0.001001    4.422006e-07   \n",
       "25       0.001600  4.899598e-04         0.000800    4.001141e-04   \n",
       "26       0.001400  4.900571e-04         0.001000    9.536743e-08   \n",
       "27       0.002001  2.780415e-07         0.001000    9.536743e-08   \n",
       "28       0.002000  1.168008e-07         0.000600    4.900182e-04   \n",
       "29       0.001600  4.900766e-04         0.000800    4.001141e-04   \n",
       "30       0.001959  8.208895e-05         0.001000    2.132481e-07   \n",
       "31       0.001800  4.000187e-04         0.000800    4.000664e-04   \n",
       "32       0.002001  2.132481e-07         0.001000    4.623108e-07   \n",
       "33       0.001800  4.001618e-04         0.000800    4.000664e-04   \n",
       "34       0.001600  4.898820e-04         0.001000    1.168008e-07   \n",
       "35       0.001800  4.001379e-04         0.001000    9.536743e-08   \n",
       "\n",
       "   param_max_depth param_min_samples_leaf param_min_samples_split   \n",
       "0                2                      1                       2  \\\n",
       "1                2                      1                       3   \n",
       "2                2                      1                       5   \n",
       "3                2                      5                       2   \n",
       "4                2                      5                       3   \n",
       "5                2                      5                       5   \n",
       "6                2                      8                       2   \n",
       "7                2                      8                       3   \n",
       "8                2                      8                       5   \n",
       "9                3                      1                       2   \n",
       "10               3                      1                       3   \n",
       "11               3                      1                       5   \n",
       "12               3                      5                       2   \n",
       "13               3                      5                       3   \n",
       "14               3                      5                       5   \n",
       "15               3                      8                       2   \n",
       "16               3                      8                       3   \n",
       "17               3                      8                       5   \n",
       "18               5                      1                       2   \n",
       "19               5                      1                       3   \n",
       "20               5                      1                       5   \n",
       "21               5                      5                       2   \n",
       "22               5                      5                       3   \n",
       "23               5                      5                       5   \n",
       "24               5                      8                       2   \n",
       "25               5                      8                       3   \n",
       "26               5                      8                       5   \n",
       "27              10                      1                       2   \n",
       "28              10                      1                       3   \n",
       "29              10                      1                       5   \n",
       "30              10                      5                       2   \n",
       "31              10                      5                       3   \n",
       "32              10                      5                       5   \n",
       "33              10                      8                       2   \n",
       "34              10                      8                       3   \n",
       "35              10                      8                       5   \n",
       "\n",
       "                                               params  split0_test_score   \n",
       "0   {'max_depth': 2, 'min_samples_leaf': 1, 'min_s...           0.755245  \\\n",
       "1   {'max_depth': 2, 'min_samples_leaf': 1, 'min_s...           0.755245   \n",
       "2   {'max_depth': 2, 'min_samples_leaf': 1, 'min_s...           0.755245   \n",
       "3   {'max_depth': 2, 'min_samples_leaf': 5, 'min_s...           0.755245   \n",
       "4   {'max_depth': 2, 'min_samples_leaf': 5, 'min_s...           0.755245   \n",
       "5   {'max_depth': 2, 'min_samples_leaf': 5, 'min_s...           0.755245   \n",
       "6   {'max_depth': 2, 'min_samples_leaf': 8, 'min_s...           0.755245   \n",
       "7   {'max_depth': 2, 'min_samples_leaf': 8, 'min_s...           0.755245   \n",
       "8   {'max_depth': 2, 'min_samples_leaf': 8, 'min_s...           0.755245   \n",
       "9   {'max_depth': 3, 'min_samples_leaf': 1, 'min_s...           0.762238   \n",
       "10  {'max_depth': 3, 'min_samples_leaf': 1, 'min_s...           0.762238   \n",
       "11  {'max_depth': 3, 'min_samples_leaf': 1, 'min_s...           0.762238   \n",
       "12  {'max_depth': 3, 'min_samples_leaf': 5, 'min_s...           0.769231   \n",
       "13  {'max_depth': 3, 'min_samples_leaf': 5, 'min_s...           0.769231   \n",
       "14  {'max_depth': 3, 'min_samples_leaf': 5, 'min_s...           0.769231   \n",
       "15  {'max_depth': 3, 'min_samples_leaf': 8, 'min_s...           0.762238   \n",
       "16  {'max_depth': 3, 'min_samples_leaf': 8, 'min_s...           0.762238   \n",
       "17  {'max_depth': 3, 'min_samples_leaf': 8, 'min_s...           0.762238   \n",
       "18  {'max_depth': 5, 'min_samples_leaf': 1, 'min_s...           0.769231   \n",
       "19  {'max_depth': 5, 'min_samples_leaf': 1, 'min_s...           0.769231   \n",
       "20  {'max_depth': 5, 'min_samples_leaf': 1, 'min_s...           0.769231   \n",
       "21  {'max_depth': 5, 'min_samples_leaf': 5, 'min_s...           0.776224   \n",
       "22  {'max_depth': 5, 'min_samples_leaf': 5, 'min_s...           0.776224   \n",
       "23  {'max_depth': 5, 'min_samples_leaf': 5, 'min_s...           0.776224   \n",
       "24  {'max_depth': 5, 'min_samples_leaf': 8, 'min_s...           0.790210   \n",
       "25  {'max_depth': 5, 'min_samples_leaf': 8, 'min_s...           0.790210   \n",
       "26  {'max_depth': 5, 'min_samples_leaf': 8, 'min_s...           0.790210   \n",
       "27  {'max_depth': 10, 'min_samples_leaf': 1, 'min_...           0.755245   \n",
       "28  {'max_depth': 10, 'min_samples_leaf': 1, 'min_...           0.755245   \n",
       "29  {'max_depth': 10, 'min_samples_leaf': 1, 'min_...           0.741259   \n",
       "30  {'max_depth': 10, 'min_samples_leaf': 5, 'min_...           0.797203   \n",
       "31  {'max_depth': 10, 'min_samples_leaf': 5, 'min_...           0.797203   \n",
       "32  {'max_depth': 10, 'min_samples_leaf': 5, 'min_...           0.797203   \n",
       "33  {'max_depth': 10, 'min_samples_leaf': 8, 'min_...           0.790210   \n",
       "34  {'max_depth': 10, 'min_samples_leaf': 8, 'min_...           0.790210   \n",
       "35  {'max_depth': 10, 'min_samples_leaf': 8, 'min_...           0.790210   \n",
       "\n",
       "    split1_test_score  ...  mean_test_score  std_test_score  rank_test_score   \n",
       "0            0.790210  ...         0.773880        0.016186               31  \\\n",
       "1            0.790210  ...         0.773880        0.016186               31   \n",
       "2            0.790210  ...         0.773880        0.016186               31   \n",
       "3            0.790210  ...         0.773880        0.016186               31   \n",
       "4            0.790210  ...         0.773880        0.016186               31   \n",
       "5            0.790210  ...         0.773880        0.016186               31   \n",
       "6            0.790210  ...         0.775288        0.017657               28   \n",
       "7            0.790210  ...         0.775288        0.017657               28   \n",
       "8            0.790210  ...         0.775288        0.017657               28   \n",
       "9            0.853147  ...         0.786457        0.035394               25   \n",
       "10           0.853147  ...         0.786457        0.035394               25   \n",
       "11           0.853147  ...         0.786457        0.035394               25   \n",
       "12           0.853147  ...         0.793490        0.032433               14   \n",
       "13           0.853147  ...         0.793490        0.032433               14   \n",
       "14           0.853147  ...         0.793490        0.032433               14   \n",
       "15           0.839161  ...         0.789294        0.030599               22   \n",
       "16           0.839161  ...         0.789294        0.030599               22   \n",
       "17           0.839161  ...         0.789294        0.030599               22   \n",
       "18           0.797203  ...         0.790752        0.029156               18   \n",
       "19           0.804196  ...         0.790742        0.030871               19   \n",
       "20           0.804196  ...         0.790742        0.030871               19   \n",
       "21           0.783217  ...         0.794987        0.028662               11   \n",
       "22           0.783217  ...         0.794987        0.028662               11   \n",
       "23           0.783217  ...         0.794987        0.028662               11   \n",
       "24           0.832168  ...         0.811799        0.035414                1   \n",
       "25           0.832168  ...         0.811799        0.035414                1   \n",
       "26           0.832168  ...         0.811799        0.035414                1   \n",
       "27           0.755245  ...         0.792239        0.044090               17   \n",
       "28           0.790210  ...         0.796415        0.043263               10   \n",
       "29           0.769231  ...         0.789422        0.044879               21   \n",
       "30           0.797203  ...         0.809022        0.013133                4   \n",
       "31           0.797203  ...         0.809022        0.013133                4   \n",
       "32           0.797203  ...         0.809022        0.013133                4   \n",
       "33           0.797203  ...         0.807623        0.033257                7   \n",
       "34           0.797203  ...         0.807623        0.033257                7   \n",
       "35           0.797203  ...         0.807623        0.033257                7   \n",
       "\n",
       "    split0_train_score  split1_train_score  split2_train_score   \n",
       "0             0.804921            0.789104            0.791228  \\\n",
       "1             0.804921            0.789104            0.791228   \n",
       "2             0.804921            0.789104            0.791228   \n",
       "3             0.804921            0.789104            0.791228   \n",
       "4             0.804921            0.789104            0.791228   \n",
       "5             0.804921            0.789104            0.791228   \n",
       "6             0.804921            0.789104            0.791228   \n",
       "7             0.804921            0.789104            0.791228   \n",
       "8             0.804921            0.789104            0.791228   \n",
       "9             0.834798            0.808436            0.810526   \n",
       "10            0.834798            0.808436            0.810526   \n",
       "11            0.834798            0.808436            0.810526   \n",
       "12            0.833040            0.808436            0.808772   \n",
       "13            0.833040            0.808436            0.808772   \n",
       "14            0.833040            0.808436            0.808772   \n",
       "15            0.827768            0.804921            0.805263   \n",
       "16            0.827768            0.804921            0.805263   \n",
       "17            0.827768            0.804921            0.805263   \n",
       "18            0.869947            0.847100            0.847368   \n",
       "19            0.868190            0.843585            0.847368   \n",
       "20            0.868190            0.843585            0.845614   \n",
       "21            0.857645            0.843585            0.842105   \n",
       "22            0.857645            0.843585            0.842105   \n",
       "23            0.857645            0.843585            0.842105   \n",
       "24            0.857645            0.848858            0.849123   \n",
       "25            0.857645            0.848858            0.849123   \n",
       "26            0.857645            0.848858            0.849123   \n",
       "27            0.964851            0.936731            0.928070   \n",
       "28            0.954306            0.926186            0.922807   \n",
       "29            0.949033            0.920914            0.915789   \n",
       "30            0.903339            0.892794            0.884211   \n",
       "31            0.903339            0.892794            0.884211   \n",
       "32            0.903339            0.892794            0.884211   \n",
       "33            0.869947            0.873462            0.863158   \n",
       "34            0.869947            0.873462            0.863158   \n",
       "35            0.869947            0.873462            0.863158   \n",
       "\n",
       "    split3_train_score  split4_train_score  mean_train_score  std_train_score  \n",
       "0             0.798246            0.794737          0.795647         0.005584  \n",
       "1             0.798246            0.794737          0.795647         0.005584  \n",
       "2             0.798246            0.794737          0.795647         0.005584  \n",
       "3             0.798246            0.794737          0.795647         0.005584  \n",
       "4             0.798246            0.794737          0.795647         0.005584  \n",
       "5             0.798246            0.794737          0.795647         0.005584  \n",
       "6             0.798246            0.792982          0.795296         0.005685  \n",
       "7             0.798246            0.792982          0.795296         0.005685  \n",
       "8             0.798246            0.792982          0.795296         0.005685  \n",
       "9             0.828070            0.815789          0.819524         0.010239  \n",
       "10            0.828070            0.815789          0.819524         0.010239  \n",
       "11            0.828070            0.815789          0.819524         0.010239  \n",
       "12            0.828070            0.814035          0.818471         0.010187  \n",
       "13            0.828070            0.814035          0.818471         0.010187  \n",
       "14            0.828070            0.814035          0.818471         0.010187  \n",
       "15            0.828070            0.817544          0.816713         0.010218  \n",
       "16            0.828070            0.817544          0.816713         0.010218  \n",
       "17            0.828070            0.817544          0.816713         0.010218  \n",
       "18            0.878947            0.857895          0.860252         0.012554  \n",
       "19            0.875439            0.857895          0.858495         0.012063  \n",
       "20            0.875439            0.857895          0.858144         0.012402  \n",
       "21            0.861404            0.849123          0.850772         0.007612  \n",
       "22            0.861404            0.849123          0.850772         0.007612  \n",
       "23            0.861404            0.849123          0.850772         0.007612  \n",
       "24            0.849123            0.843860          0.849722         0.004441  \n",
       "25            0.849123            0.843860          0.849722         0.004441  \n",
       "26            0.849123            0.843860          0.849722         0.004441  \n",
       "27            0.952632            0.952632          0.946983         0.013007  \n",
       "28            0.942105            0.938596          0.936800         0.011369  \n",
       "29            0.936842            0.928070          0.930130         0.011809  \n",
       "30            0.896491            0.884211          0.892209         0.007355  \n",
       "31            0.896491            0.884211          0.892209         0.007355  \n",
       "32            0.896491            0.884211          0.892209         0.007355  \n",
       "33            0.864912            0.854386          0.865173         0.006511  \n",
       "34            0.864912            0.854386          0.865173         0.006511  \n",
       "35            0.864912            0.854386          0.865173         0.006511  \n",
       "\n",
       "[36 rows x 23 columns]"
      ]
     },
     "execution_count": 51,
     "metadata": {},
     "output_type": "execute_result"
    }
   ],
   "source": [
    "grid_tree_df = pd.DataFrame(grid_tree.cv_results_)\n",
    "grid_tree_df"
   ]
  },
  {
   "cell_type": "code",
   "execution_count": 52,
   "id": "d5ecd4d4",
   "metadata": {},
   "outputs": [
    {
     "name": "stdout",
     "output_type": "stream",
     "text": [
      "최고 정확도 : 0.8117994681374963\n",
      "최적 하이퍼 파라미터 모델의 정확도 : 0.776536312849162\n"
     ]
    }
   ],
   "source": [
    "print(f'최고 정확도 : {grid_tree.best_score_}')\n",
    "\n",
    "estimator = grid_tree.best_estimator_\n",
    "\n",
    "# 예측\n",
    "pred = estimator.predict(x_test)\n",
    "\n",
    "# 평가\n",
    "print(f'최적 하이퍼 파라미터 모델의 정확도 : {accuracy_score(y_test, pred)}')"
   ]
  },
  {
   "cell_type": "code",
   "execution_count": 53,
   "id": "34165d13",
   "metadata": {},
   "outputs": [
    {
     "name": "stdout",
     "output_type": "stream",
     "text": [
      "최고 정확도 : 0.8272628779671033\n",
      "최적 하이퍼 파라미터 모델의 정확도 : 0.8379888268156425\n"
     ]
    }
   ],
   "source": [
    "grid_tree.fit(x_train2, y_train2)\n",
    "\n",
    "print(f'최고 정확도 : {grid_tree.best_score_}')\n",
    "\n",
    "estimator = grid_tree.best_estimator_\n",
    "\n",
    "# 예측\n",
    "pred = estimator.predict(x_test)\n",
    "\n",
    "# 평가\n",
    "print(f'최적 하이퍼 파라미터 모델의 정확도 : {accuracy_score(y_test, pred)}')"
   ]
  },
  {
   "cell_type": "code",
   "execution_count": 54,
   "id": "62bfebf9",
   "metadata": {},
   "outputs": [
    {
     "name": "stdout",
     "output_type": "stream",
     "text": [
      "최고 정확도 : 0.7991825076332119\n",
      "최적 하이퍼 파라미터 모델의 정확도 : 0.8435754189944135\n"
     ]
    }
   ],
   "source": [
    "grid_tree.fit(x_train3, y_train3)\n",
    "\n",
    "print(f'최고 정확도 : {grid_tree.best_score_}')\n",
    "\n",
    "estimator = grid_tree.best_estimator_\n",
    "\n",
    "# 예측\n",
    "pred = estimator.predict(x_test)\n",
    "\n",
    "# 평가\n",
    "print(f'최적 하이퍼 파라미터 모델의 정확도 : {accuracy_score(y_test, pred)}')"
   ]
  }
 ],
 "metadata": {
  "kernelspec": {
   "display_name": "ex_kernel",
   "language": "python",
   "name": "ex"
  },
  "language_info": {
   "codemirror_mode": {
    "name": "ipython",
    "version": 3
   },
   "file_extension": ".py",
   "mimetype": "text/x-python",
   "name": "python",
   "nbconvert_exporter": "python",
   "pygments_lexer": "ipython3",
   "version": "3.8.10"
  },
  "toc": {
   "base_numbering": 1,
   "nav_menu": {},
   "number_sections": true,
   "sideBar": true,
   "skip_h1_title": false,
   "title_cell": "Table of Contents",
   "title_sidebar": "Contents",
   "toc_cell": false,
   "toc_position": {
    "height": "calc(100% - 180px)",
    "left": "10px",
    "top": "150px",
    "width": "327px"
   },
   "toc_section_display": true,
   "toc_window_display": true
  }
 },
 "nbformat": 4,
 "nbformat_minor": 5
}
