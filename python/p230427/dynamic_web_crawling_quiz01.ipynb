{
 "cells": [
  {
   "cell_type": "code",
   "execution_count": 4,
   "id": "08830ef7",
   "metadata": {},
   "outputs": [],
   "source": [
    "# 구글 검색창에 리팩토링 검색\n",
    "from selenium import webdriver\n",
    "from selenium.webdriver.common.keys import Keys\n",
    "from selenium.webdriver.common.by import By\n",
    "from time import sleep"
   ]
  },
  {
   "cell_type": "code",
   "execution_count": 8,
   "id": "8126b469",
   "metadata": {},
   "outputs": [],
   "source": [
    "# 1. 구글 드라이버\n",
    "driver = webdriver.Chrome()\n",
    "\n",
    "# 2. 웹 주소\n",
    "driver.get('https://www.google.com')\n",
    "\n",
    "# 3. 검색창 엘리먼트 접근\n",
    "# search_bar = driver.find_element(By.CSS_SELECTOR, '#APjFqb')\n",
    "search_bar = driver.find_element(By.ID, 'APjFqb')\n",
    "\n",
    "sleep(2)\n",
    "\n",
    "# 4. 리팩토링 입력\n",
    "search_bar.send_keys('리팩토링')\n",
    "\n",
    "# 5. 엔터 입력\n",
    "search_bar.send_keys(Keys.ENTER)\n",
    "\n",
    "sleep(2)\n",
    "\n",
    "# 6. 웹 브라우저 닫기\n",
    "driver.close()"
   ]
  }
 ],
 "metadata": {
  "kernelspec": {
   "display_name": "ex_kernel",
   "language": "python",
   "name": "ex"
  },
  "language_info": {
   "codemirror_mode": {
    "name": "ipython",
    "version": 3
   },
   "file_extension": ".py",
   "mimetype": "text/x-python",
   "name": "python",
   "nbconvert_exporter": "python",
   "pygments_lexer": "ipython3",
   "version": "3.8.10"
  }
 },
 "nbformat": 4,
 "nbformat_minor": 5
}
