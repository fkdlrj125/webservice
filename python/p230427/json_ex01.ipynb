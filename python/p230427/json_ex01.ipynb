{
 "cells": [
  {
   "cell_type": "code",
   "execution_count": 1,
   "id": "086d4f47",
   "metadata": {},
   "outputs": [],
   "source": [
    "import json"
   ]
  },
  {
   "cell_type": "code",
   "execution_count": 2,
   "id": "1bdd5f41",
   "metadata": {},
   "outputs": [
    {
     "data": {
      "text/plain": [
       "dict"
      ]
     },
     "execution_count": 2,
     "metadata": {},
     "output_type": "execute_result"
    }
   ],
   "source": [
    "data = {}"
   ]
  },
  {
   "cell_type": "code",
   "execution_count": 3,
   "id": "73c8e9c2",
   "metadata": {},
   "outputs": [
    {
     "name": "stdout",
     "output_type": "stream",
     "text": [
      "data >> {'student': []}\n"
     ]
    }
   ],
   "source": [
    "# 요소 추가\n",
    "data['student'] = []\n",
    "print('data >>', data)"
   ]
  },
  {
   "cell_type": "code",
   "execution_count": 5,
   "id": "b989a1ed",
   "metadata": {},
   "outputs": [
    {
     "name": "stdout",
     "output_type": "stream",
     "text": [
      "data[\"student\"] >> <class 'list'>\n"
     ]
    }
   ],
   "source": [
    "print('data[\"student\"] >>',type(data['student']))"
   ]
  },
  {
   "cell_type": "code",
   "execution_count": 8,
   "id": "6b2ae0cc",
   "metadata": {},
   "outputs": [
    {
     "data": {
      "text/plain": [
       "{'student': [{'name': 'hong', 'website': 'daum.net', 'from': 'Jeju'},\n",
       "  {'name': 'hong', 'website': 'daum.net', 'from': 'Jeju'},\n",
       "  {'name': 'hong', 'website': 'daum.net', 'from': 'Jeju'}]}"
      ]
     },
     "execution_count": 8,
     "metadata": {},
     "output_type": "execute_result"
    }
   ],
   "source": [
    "data['student'].append({\n",
    "    'name' : 'hong',\n",
    "    'website' : 'daum.net',\n",
    "    'from' : 'Jeju'\n",
    "})"
   ]
  },
  {
   "cell_type": "code",
   "execution_count": 17,
   "id": "c1e7423a",
   "metadata": {},
   "outputs": [
    {
     "data": {
      "text/plain": [
       "'Jeju'"
      ]
     },
     "execution_count": 17,
     "metadata": {},
     "output_type": "execute_result"
    }
   ],
   "source": [
    "# 학생 이름 출력\n",
    "# data['student'][0]['name']\n",
    "# data['student'][0].get('name')\n",
    "# data['student'][0].get('website')\n",
    "data['student'][0].get('from')"
   ]
  },
  {
   "cell_type": "code",
   "execution_count": 18,
   "id": "072b02a2",
   "metadata": {},
   "outputs": [],
   "source": [
    "data['student'].append({\n",
    "    'name' : 'park',\n",
    "    'website' : 'google.com',\n",
    "    'from' : 'Busan'\n",
    "})"
   ]
  },
  {
   "cell_type": "code",
   "execution_count": 20,
   "id": "ae24f435",
   "metadata": {},
   "outputs": [],
   "source": [
    "data['student'].append({\n",
    "    'name' : 'lee',\n",
    "    'website' : 'naver.com',\n",
    "    'from' : 'Seoul'\n",
    "})"
   ]
  },
  {
   "cell_type": "code",
   "execution_count": 21,
   "id": "483e0494",
   "metadata": {},
   "outputs": [
    {
     "data": {
      "text/plain": [
       "{'student': [{'name': 'hong', 'website': 'daum.net', 'from': 'Jeju'},\n",
       "  {'name': 'park', 'website': 'google.com', 'from': 'Busan'},\n",
       "  {'name': 'lee', 'website': 'naver.com', 'from': 'Seoul'}]}"
      ]
     },
     "execution_count": 21,
     "metadata": {},
     "output_type": "execute_result"
    }
   ],
   "source": [
    "data"
   ]
  },
  {
   "cell_type": "code",
   "execution_count": 23,
   "id": "78a35f94",
   "metadata": {},
   "outputs": [
    {
     "name": "stdout",
     "output_type": "stream",
     "text": [
      "str_data 타입 >> <class 'str'>\n",
      "str_data >> {\"student\": [{\"name\": \"hong\", \"website\": \"daum.net\", \"from\": \"Jeju\"}, {\"name\": \"park\", \"website\": \"google.com\", \"from\": \"Busan\"}, {\"name\": \"lee\", \"website\": \"naver.com\", \"from\": \"Seoul\"}]}\n",
      "** student.json 파일 생성 완료 **\n"
     ]
    }
   ],
   "source": [
    "# dict -> json\n",
    "# 방법 1. dict -> str -> json\n",
    "str_data = json.dumps(data)\n",
    "print('str_data 타입 >>', type(str_data))\n",
    "print('str_data >>', str_data)\n",
    "\n",
    "with open('student.json', 'w') as file:\n",
    "    file.write(str_data)\n",
    "    \n",
    "print('** student.json 파일 생성 완료 **')"
   ]
  },
  {
   "cell_type": "code",
   "execution_count": 30,
   "id": "a0051b75",
   "metadata": {},
   "outputs": [
    {
     "name": "stdout",
     "output_type": "stream",
     "text": [
      "** student2.json 파일 생성 완료 **\n"
     ]
    }
   ],
   "source": [
    "# 방법 2. dict -> json\n",
    "with open('student2.json', 'w') as file:\n",
    "    json.dump(data, file)\n",
    "    \n",
    "print('** student2.json 파일 생성 완료 **')"
   ]
  },
  {
   "cell_type": "code",
   "execution_count": 28,
   "id": "e742ae26",
   "metadata": {},
   "outputs": [
    {
     "name": "stdout",
     "output_type": "stream",
     "text": [
      "<class 'dict'>\n"
     ]
    },
    {
     "data": {
      "text/plain": [
       "{'student': [{'name': 'hong', 'website': 'daum.net', 'from': 'Jeju'},\n",
       "  {'name': 'park', 'website': 'google.com', 'from': 'Busan'},\n",
       "  {'name': 'lee', 'website': 'naver.com', 'from': 'Seoul'}]}"
      ]
     },
     "execution_count": 28,
     "metadata": {},
     "output_type": "execute_result"
    }
   ],
   "source": [
    "# json 파일 읽어오기\n",
    "# 방법 1\n",
    "# json -> str -> dict\n",
    "with open('student.json', 'r') as file:\n",
    "    # print(file.read())\n",
    "    # print(type(file.read()))\n",
    "    read_file = json.loads(file.read())\n",
    "    print(type(read_file))\n",
    "\n",
    "read_file"
   ]
  },
  {
   "cell_type": "code",
   "execution_count": 32,
   "id": "d6164452",
   "metadata": {},
   "outputs": [
    {
     "name": "stdout",
     "output_type": "stream",
     "text": [
      "{'student': [{'name': 'hong', 'website': 'daum.net', 'from': 'Jeju'}, {'name': 'park', 'website': 'google.com', 'from': 'Busan'}, {'name': 'lee', 'website': 'naver.com', 'from': 'Seoul'}]}\n",
      "<class 'dict'>\n"
     ]
    }
   ],
   "source": [
    "# 방법 2\n",
    "# json -> dict\n",
    "with open('student2.json', 'r') as file:\n",
    "    read_file2 = json.load(file)\n",
    "    print(read_file2)    \n",
    "    print(type(read_file2))"
   ]
  }
 ],
 "metadata": {
  "kernelspec": {
   "display_name": "ex_kernel",
   "language": "python",
   "name": "ex"
  },
  "language_info": {
   "codemirror_mode": {
    "name": "ipython",
    "version": 3
   },
   "file_extension": ".py",
   "mimetype": "text/x-python",
   "name": "python",
   "nbconvert_exporter": "python",
   "pygments_lexer": "ipython3",
   "version": "3.8.10"
  }
 },
 "nbformat": 4,
 "nbformat_minor": 5
}
