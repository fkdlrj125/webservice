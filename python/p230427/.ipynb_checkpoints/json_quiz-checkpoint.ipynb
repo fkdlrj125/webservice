{
 "cells": [
  {
   "cell_type": "code",
   "execution_count": 2,
   "id": "073975f3",
   "metadata": {},
   "outputs": [],
   "source": [
    "import requests\n",
    "import json\n",
    "import pandas as pd"
   ]
  },
  {
   "cell_type": "code",
   "execution_count": 13,
   "id": "c2bd01ba",
   "metadata": {},
   "outputs": [],
   "source": [
    "headers = {'user-agent' : 'Mozilla/5.0 (Windows NT 10.0; Win64; x64) AppleWebKit/537.36 (KHTML, like Gecko) Chrome/112.0.0.0 Safari/537.36'}\n",
    "data_list = list()\n",
    "\n",
    "for idx in range(1,11):\n",
    "    url = f'https://finance.naver.com/world/worldDayListJson.naver?symbol=SPI@SPX&fdtc=0&page=1'\n",
    "    # 1. json파일 요청\n",
    "    httpResponse = requests.get(url, headers=headers)\n",
    "\n",
    "    # 2. json파일 -> dict\n",
    "    dict_data = httpResponse.json()\n",
    "    # data_list.append(json_data)\n",
    "    for info in dict_data:\n",
    "        data_list.append(info)\n",
    "\n",
    "# 3. dict -> DataFrame\n",
    "table = pd.json_normalize(data_list)\n",
    "\n",
    "# 4. json파일로 저장\n",
    "with open ('stock.json', 'w') as file:\n",
    "    json.dump(data_list, file)"
   ]
  },
  {
   "cell_type": "code",
   "execution_count": null,
   "id": "c55ecc13",
   "metadata": {},
   "outputs": [],
   "source": []
  },
  {
   "cell_type": "code",
   "execution_count": null,
   "id": "8aef091c",
   "metadata": {},
   "outputs": [],
   "source": []
  },
  {
   "cell_type": "code",
   "execution_count": null,
   "id": "75b2815e",
   "metadata": {},
   "outputs": [],
   "source": []
  },
  {
   "cell_type": "code",
   "execution_count": null,
   "id": "88d39b9f",
   "metadata": {},
   "outputs": [],
   "source": []
  },
  {
   "cell_type": "code",
   "execution_count": null,
   "id": "2e14b72a",
   "metadata": {},
   "outputs": [],
   "source": []
  },
  {
   "cell_type": "code",
   "execution_count": null,
   "id": "15e51366",
   "metadata": {},
   "outputs": [],
   "source": []
  }
 ],
 "metadata": {
  "kernelspec": {
   "display_name": "ex_kernel",
   "language": "python",
   "name": "ex"
  },
  "language_info": {
   "codemirror_mode": {
    "name": "ipython",
    "version": 3
   },
   "file_extension": ".py",
   "mimetype": "text/x-python",
   "name": "python",
   "nbconvert_exporter": "python",
   "pygments_lexer": "ipython3",
   "version": "3.8.10"
  }
 },
 "nbformat": 4,
 "nbformat_minor": 5
}
