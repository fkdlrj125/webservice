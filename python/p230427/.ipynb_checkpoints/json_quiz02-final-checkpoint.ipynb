{
 "cells": [
  {
   "cell_type": "code",
   "execution_count": 2,
   "id": "0abee2da",
   "metadata": {},
   "outputs": [
    {
     "name": "stdout",
     "output_type": "stream",
     "text": [
      "<Response [200]>\n",
      "<Response [200]>\n",
      "<Response [200]>\n",
      "<Response [200]>\n",
      "<Response [200]>\n",
      "<Response [200]>\n",
      "<Response [200]>\n",
      "<Response [200]>\n",
      "<Response [200]>\n",
      "<Response [200]>\n"
     ]
    }
   ],
   "source": [
    "import requests\n",
    "import json\n",
    "import pandas\n",
    "\n",
    "# 1~10page의 뉴스 타이틀을 화면에 출력\n",
    "# - 출력 형태 : 1. '일시 맡겨놓고 나올까' 현대차 러시아 공장 '골치'...\"결정된 바 없다\"\n",
    "# json을 통한 동적 데이터 추출\n",
    "headers = {'user-agent' : 'Mozilla/5.0 (Windows NT 10.0; Win64; x64) AppleWebKit/537.36 (KHTML, like Gecko) Chrome/112.0.0.0 Safari/537.36'}\n",
    "num = 1\n",
    "# titles = [{'title':[]}]\n",
    "titles = []\n",
    "\n",
    "for idx in range(1, 11):\n",
    "    # json파일 요청\n",
    "    url = f'https://news.naver.com/main/mainNews.naver?sid1=101&date=%2000:00:00&page={idx}'\n",
    "    httpResponse = requests.get(url, headers=headers)\n",
    "    print(httpResponse)\n",
    "    \n",
    "    # json -> dict\n",
    "    data = httpResponse.json()\n",
    "\n",
    "    # airsResult의 json value -> dict, 뉴스 정보 리스트 추출\n",
    "    news_data = json.loads(data['airsResult'])['result']['101']\n",
    "    # 방법 1\n",
    "#     for title in news_data:\n",
    "# #         # title 추출\n",
    "# #         print(f'{num}. {title[\"title\"]}')\n",
    "# #         num += 1\n",
    "#         titles[0]['title'].append(title['title'])\n",
    "    # 방법 2\n",
    "    titles.extend(news_data)\n",
    "    \n",
    "## title 추출\n",
    "# for idx, line in enumerate(titles, 1):\n",
    "#     print(f'{idx}. {line[\"title\"]}')\n",
    "\n",
    "# DataFrame 생성\n",
    "# df = pandas.DataFrame(titles, columns=['title'])\n",
    "df = pandas.DataFrame(titles)\n",
    "\n",
    "# DataFrame 저장 : naver_news.csv\n",
    "df.to_csv('naver_news.csv', index=False)\n",
    "print('** naver_news.csv 파일 저장 완료 **')"
   ]
  },
  {
   "cell_type": "code",
   "execution_count": 23,
   "id": "03e86c32",
   "metadata": {},
   "outputs": [],
   "source": [
    "## 동적 크롤링을 통한 동적 데이터 추출\n",
    "# from selenium import webdriver\n",
    "# from selenium.webdriver.common.by import By\n",
    "# from time import sleep\n",
    "# import pandas\n",
    "\n",
    "# driver = webdriver.Chrome()\n",
    "# title_list = {'title' : []}\n",
    "\n",
    "# driver.get('https://www.naver.com')\n",
    "\n",
    "# news = driver.find_element(By.XPATH, '//*[@id=\"NM_FAVORITE\"]/div[1]/ul[2]/li[2]/a')\n",
    "# news.click()\n",
    "# economy = driver.find_element(By.XPATH, '/html/body/section/header/div[2]/div/div/div[1]/div/div/ul/li[3]/a')\n",
    "# economy.click()\n",
    "# sleep(2)\n",
    "\n",
    "# for idx in range(1, 11):\n",
    "#         section = driver.find_element(By.ID, 'section_body')\n",
    "#         titles = section.find_elements(By.CSS_SELECTOR, 'dt:nth-child(2) > a')\n",
    "#         for title in titles:\n",
    "#             title_list['title'].append(title.text)\n",
    "#         driver.find_element(By.XPATH, f'//*[@id=\"paging\"]/a[{idx}]').click()\n",
    "#         sleep(2)\n",
    "# df = pandas.DataFrame(title_list)\n",
    "# df"
   ]
  }
 ],
 "metadata": {
  "kernelspec": {
   "display_name": "ex_kernel",
   "language": "python",
   "name": "ex"
  },
  "language_info": {
   "codemirror_mode": {
    "name": "ipython",
    "version": 3
   },
   "file_extension": ".py",
   "mimetype": "text/x-python",
   "name": "python",
   "nbconvert_exporter": "python",
   "pygments_lexer": "ipython3",
   "version": "3.8.10"
  }
 },
 "nbformat": 4,
 "nbformat_minor": 5
}
