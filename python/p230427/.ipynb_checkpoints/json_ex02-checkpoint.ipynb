{
 "cells": [
  {
   "cell_type": "code",
   "execution_count": 19,
   "id": "b3fa4946",
   "metadata": {},
   "outputs": [],
   "source": [
    "import requests\n",
    "import json\n",
    "import pandas as pd"
   ]
  },
  {
   "cell_type": "code",
   "execution_count": 5,
   "id": "2460eea9",
   "metadata": {},
   "outputs": [
    {
     "data": {
      "text/plain": [
       "200"
      ]
     },
     "execution_count": 5,
     "metadata": {},
     "output_type": "execute_result"
    }
   ],
   "source": [
    "url = 'https://finance.naver.com/world/worldDayListJson.naver?symbol=SPI@SPX&fdtc=0&page=1'\n",
    "headers = {'user-agent' : 'Mozilla/5.0 (Windows NT 10.0; Win64; x64) AppleWebKit/537.36 (KHTML, like Gecko) Chrome/112.0.0.0 Safari/537.36'}\n",
    "\n",
    "httpResponse = requests.get(url, headers=headers)\n",
    "httpResponse.status_code"
   ]
  },
  {
   "cell_type": "code",
   "execution_count": 7,
   "id": "24d2515a",
   "metadata": {},
   "outputs": [
    {
     "name": "stdout",
     "output_type": "stream",
     "text": [
      "<class 'str'>\n"
     ]
    }
   ],
   "source": [
    "httpResponse.text"
   ]
  },
  {
   "cell_type": "code",
   "execution_count": 8,
   "id": "d0ebe4b9",
   "metadata": {},
   "outputs": [
    {
     "data": {
      "text/plain": [
       "[{'symb': 'SPI@SPX',\n",
       "  'xymd': '20230426',\n",
       "  'open': 4087.78,\n",
       "  'high': 4089.67,\n",
       "  'low': 4049.35,\n",
       "  'clos': 4055.99,\n",
       "  'diff': -15.64,\n",
       "  'rate': -0.38,\n",
       "  'gvol': 2698867820},\n",
       " {'symb': 'SPI@SPX',\n",
       "  'xymd': '20230425',\n",
       "  'open': 4126.43,\n",
       "  'high': 4126.43,\n",
       "  'low': 4071.38,\n",
       "  'clos': 4071.63,\n",
       "  'diff': -65.41,\n",
       "  'rate': -1.58,\n",
       "  'gvol': 2559843600},\n",
       " {'symb': 'SPI@SPX',\n",
       "  'xymd': '20230424',\n",
       "  'open': 4132.07,\n",
       "  'high': 4142.41,\n",
       "  'low': 4117.77,\n",
       "  'clos': 4137.04,\n",
       "  'diff': 3.52,\n",
       "  'rate': 0.09,\n",
       "  'gvol': 2113777660},\n",
       " {'symb': 'SPI@SPX',\n",
       "  'xymd': '20230421',\n",
       "  'open': 4132.14,\n",
       "  'high': 4138.02,\n",
       "  'low': 4113.86,\n",
       "  'clos': 4133.52,\n",
       "  'diff': 3.73,\n",
       "  'rate': 0.09,\n",
       "  'gvol': 2304130060},\n",
       " {'symb': 'SPI@SPX',\n",
       "  'xymd': '20230420',\n",
       "  'open': 4130.48,\n",
       "  'high': 4148.57,\n",
       "  'low': 4114.57,\n",
       "  'clos': 4129.79,\n",
       "  'diff': -24.73,\n",
       "  'rate': -0.6,\n",
       "  'gvol': 2453132510},\n",
       " {'symb': 'SPI@SPX',\n",
       "  'xymd': '20230419',\n",
       "  'open': 4139.33,\n",
       "  'high': 4162.57,\n",
       "  'low': 4134.49,\n",
       "  'clos': 4154.52,\n",
       "  'diff': -0.35,\n",
       "  'rate': -0.01,\n",
       "  'gvol': 2158289230},\n",
       " {'symb': 'SPI@SPX',\n",
       "  'xymd': '20230418',\n",
       "  'open': 4164.26,\n",
       "  'high': 4169.48,\n",
       "  'low': 4140.36,\n",
       "  'clos': 4154.87,\n",
       "  'diff': 3.55,\n",
       "  'rate': 0.09,\n",
       "  'gvol': 2124684260},\n",
       " {'symb': 'SPI@SPX',\n",
       "  'xymd': '20230417',\n",
       "  'open': 4137.17,\n",
       "  'high': 4151.72,\n",
       "  'low': 4123.18,\n",
       "  'clos': 4151.32,\n",
       "  'diff': 13.68,\n",
       "  'rate': 0.33,\n",
       "  'gvol': 2132427050},\n",
       " {'symb': 'SPI@SPX',\n",
       "  'xymd': '20230414',\n",
       "  'open': 4140.11,\n",
       "  'high': 4163.19,\n",
       "  'low': 4113.2,\n",
       "  'clos': 4137.64,\n",
       "  'diff': -8.58,\n",
       "  'rate': -0.21,\n",
       "  'gvol': 2077040800},\n",
       " {'symb': 'SPI@SPX',\n",
       "  'xymd': '20230413',\n",
       "  'open': 4100.04,\n",
       "  'high': 4150.26,\n",
       "  'low': 4099.4,\n",
       "  'clos': 4146.22,\n",
       "  'diff': 54.27,\n",
       "  'rate': 1.33,\n",
       "  'gvol': 2196995300}]"
      ]
     },
     "execution_count": 8,
     "metadata": {},
     "output_type": "execute_result"
    }
   ],
   "source": [
    "# 방법 1. json -> str -> dict\n",
    "dict_data = json.loads(httpResponse.text)\n",
    "dict_data"
   ]
  },
  {
   "cell_type": "code",
   "execution_count": 10,
   "id": "38e19aa4",
   "metadata": {},
   "outputs": [
    {
     "data": {
      "text/plain": [
       "list"
      ]
     },
     "execution_count": 10,
     "metadata": {},
     "output_type": "execute_result"
    }
   ],
   "source": [
    "type(dict_data)"
   ]
  },
  {
   "cell_type": "code",
   "execution_count": 15,
   "id": "f9b42a5b",
   "metadata": {},
   "outputs": [
    {
     "data": {
      "text/plain": [
       "dict"
      ]
     },
     "execution_count": 15,
     "metadata": {},
     "output_type": "execute_result"
    }
   ],
   "source": [
    "# 방법 2 json -> dict\n",
    "dict_data_two = httpResponse.json()\n",
    "type(dict_data_two[0])"
   ]
  },
  {
   "cell_type": "code",
   "execution_count": 20,
   "id": "f12e1115",
   "metadata": {},
   "outputs": [
    {
     "data": {
      "text/html": [
       "<div>\n",
       "<style scoped>\n",
       "    .dataframe tbody tr th:only-of-type {\n",
       "        vertical-align: middle;\n",
       "    }\n",
       "\n",
       "    .dataframe tbody tr th {\n",
       "        vertical-align: top;\n",
       "    }\n",
       "\n",
       "    .dataframe thead th {\n",
       "        text-align: right;\n",
       "    }\n",
       "</style>\n",
       "<table border=\"1\" class=\"dataframe\">\n",
       "  <thead>\n",
       "    <tr style=\"text-align: right;\">\n",
       "      <th></th>\n",
       "      <th>symb</th>\n",
       "      <th>xymd</th>\n",
       "      <th>open</th>\n",
       "      <th>high</th>\n",
       "      <th>low</th>\n",
       "      <th>clos</th>\n",
       "      <th>diff</th>\n",
       "      <th>rate</th>\n",
       "      <th>gvol</th>\n",
       "    </tr>\n",
       "  </thead>\n",
       "  <tbody>\n",
       "    <tr>\n",
       "      <th>0</th>\n",
       "      <td>SPI@SPX</td>\n",
       "      <td>20230426</td>\n",
       "      <td>4087.78</td>\n",
       "      <td>4089.67</td>\n",
       "      <td>4049.35</td>\n",
       "      <td>4055.99</td>\n",
       "      <td>-15.64</td>\n",
       "      <td>-0.38</td>\n",
       "      <td>2698867820</td>\n",
       "    </tr>\n",
       "    <tr>\n",
       "      <th>1</th>\n",
       "      <td>SPI@SPX</td>\n",
       "      <td>20230425</td>\n",
       "      <td>4126.43</td>\n",
       "      <td>4126.43</td>\n",
       "      <td>4071.38</td>\n",
       "      <td>4071.63</td>\n",
       "      <td>-65.41</td>\n",
       "      <td>-1.58</td>\n",
       "      <td>2559843600</td>\n",
       "    </tr>\n",
       "    <tr>\n",
       "      <th>2</th>\n",
       "      <td>SPI@SPX</td>\n",
       "      <td>20230424</td>\n",
       "      <td>4132.07</td>\n",
       "      <td>4142.41</td>\n",
       "      <td>4117.77</td>\n",
       "      <td>4137.04</td>\n",
       "      <td>3.52</td>\n",
       "      <td>0.09</td>\n",
       "      <td>2113777660</td>\n",
       "    </tr>\n",
       "    <tr>\n",
       "      <th>3</th>\n",
       "      <td>SPI@SPX</td>\n",
       "      <td>20230421</td>\n",
       "      <td>4132.14</td>\n",
       "      <td>4138.02</td>\n",
       "      <td>4113.86</td>\n",
       "      <td>4133.52</td>\n",
       "      <td>3.73</td>\n",
       "      <td>0.09</td>\n",
       "      <td>2304130060</td>\n",
       "    </tr>\n",
       "    <tr>\n",
       "      <th>4</th>\n",
       "      <td>SPI@SPX</td>\n",
       "      <td>20230420</td>\n",
       "      <td>4130.48</td>\n",
       "      <td>4148.57</td>\n",
       "      <td>4114.57</td>\n",
       "      <td>4129.79</td>\n",
       "      <td>-24.73</td>\n",
       "      <td>-0.60</td>\n",
       "      <td>2453132510</td>\n",
       "    </tr>\n",
       "    <tr>\n",
       "      <th>5</th>\n",
       "      <td>SPI@SPX</td>\n",
       "      <td>20230419</td>\n",
       "      <td>4139.33</td>\n",
       "      <td>4162.57</td>\n",
       "      <td>4134.49</td>\n",
       "      <td>4154.52</td>\n",
       "      <td>-0.35</td>\n",
       "      <td>-0.01</td>\n",
       "      <td>2158289230</td>\n",
       "    </tr>\n",
       "    <tr>\n",
       "      <th>6</th>\n",
       "      <td>SPI@SPX</td>\n",
       "      <td>20230418</td>\n",
       "      <td>4164.26</td>\n",
       "      <td>4169.48</td>\n",
       "      <td>4140.36</td>\n",
       "      <td>4154.87</td>\n",
       "      <td>3.55</td>\n",
       "      <td>0.09</td>\n",
       "      <td>2124684260</td>\n",
       "    </tr>\n",
       "    <tr>\n",
       "      <th>7</th>\n",
       "      <td>SPI@SPX</td>\n",
       "      <td>20230417</td>\n",
       "      <td>4137.17</td>\n",
       "      <td>4151.72</td>\n",
       "      <td>4123.18</td>\n",
       "      <td>4151.32</td>\n",
       "      <td>13.68</td>\n",
       "      <td>0.33</td>\n",
       "      <td>2132427050</td>\n",
       "    </tr>\n",
       "    <tr>\n",
       "      <th>8</th>\n",
       "      <td>SPI@SPX</td>\n",
       "      <td>20230414</td>\n",
       "      <td>4140.11</td>\n",
       "      <td>4163.19</td>\n",
       "      <td>4113.20</td>\n",
       "      <td>4137.64</td>\n",
       "      <td>-8.58</td>\n",
       "      <td>-0.21</td>\n",
       "      <td>2077040800</td>\n",
       "    </tr>\n",
       "    <tr>\n",
       "      <th>9</th>\n",
       "      <td>SPI@SPX</td>\n",
       "      <td>20230413</td>\n",
       "      <td>4100.04</td>\n",
       "      <td>4150.26</td>\n",
       "      <td>4099.40</td>\n",
       "      <td>4146.22</td>\n",
       "      <td>54.27</td>\n",
       "      <td>1.33</td>\n",
       "      <td>2196995300</td>\n",
       "    </tr>\n",
       "  </tbody>\n",
       "</table>\n",
       "</div>"
      ],
      "text/plain": [
       "      symb      xymd     open     high      low     clos   diff  rate   \n",
       "0  SPI@SPX  20230426  4087.78  4089.67  4049.35  4055.99 -15.64 -0.38  \\\n",
       "1  SPI@SPX  20230425  4126.43  4126.43  4071.38  4071.63 -65.41 -1.58   \n",
       "2  SPI@SPX  20230424  4132.07  4142.41  4117.77  4137.04   3.52  0.09   \n",
       "3  SPI@SPX  20230421  4132.14  4138.02  4113.86  4133.52   3.73  0.09   \n",
       "4  SPI@SPX  20230420  4130.48  4148.57  4114.57  4129.79 -24.73 -0.60   \n",
       "5  SPI@SPX  20230419  4139.33  4162.57  4134.49  4154.52  -0.35 -0.01   \n",
       "6  SPI@SPX  20230418  4164.26  4169.48  4140.36  4154.87   3.55  0.09   \n",
       "7  SPI@SPX  20230417  4137.17  4151.72  4123.18  4151.32  13.68  0.33   \n",
       "8  SPI@SPX  20230414  4140.11  4163.19  4113.20  4137.64  -8.58 -0.21   \n",
       "9  SPI@SPX  20230413  4100.04  4150.26  4099.40  4146.22  54.27  1.33   \n",
       "\n",
       "         gvol  \n",
       "0  2698867820  \n",
       "1  2559843600  \n",
       "2  2113777660  \n",
       "3  2304130060  \n",
       "4  2453132510  \n",
       "5  2158289230  \n",
       "6  2124684260  \n",
       "7  2132427050  \n",
       "8  2077040800  \n",
       "9  2196995300  "
      ]
     },
     "execution_count": 20,
     "metadata": {},
     "output_type": "execute_result"
    }
   ],
   "source": [
    "table = pd.json_normalize(dict_data_two)\n",
    "table"
   ]
  },
  {
   "cell_type": "code",
   "execution_count": null,
   "id": "24d873b2",
   "metadata": {},
   "outputs": [],
   "source": []
  },
  {
   "cell_type": "code",
   "execution_count": null,
   "id": "89228700",
   "metadata": {},
   "outputs": [],
   "source": []
  }
 ],
 "metadata": {
  "kernelspec": {
   "display_name": "ex_kernel",
   "language": "python",
   "name": "ex"
  },
  "language_info": {
   "codemirror_mode": {
    "name": "ipython",
    "version": 3
   },
   "file_extension": ".py",
   "mimetype": "text/x-python",
   "name": "python",
   "nbconvert_exporter": "python",
   "pygments_lexer": "ipython3",
   "version": "3.8.10"
  }
 },
 "nbformat": 4,
 "nbformat_minor": 5
}
