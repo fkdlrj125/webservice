{
 "cells": [
  {
   "cell_type": "code",
   "execution_count": 20,
   "id": "ccb3a8a0",
   "metadata": {},
   "outputs": [],
   "source": [
    "from selenium import webdriver\n",
    "from selenium.webdriver.common.by import By\n",
    "from selenium.webdriver.common.keys import Keys\n",
    "from time import sleep\n",
    "from bs4 import BeautifulSoup"
   ]
  },
  {
   "cell_type": "code",
   "execution_count": 9,
   "id": "1282989f",
   "metadata": {},
   "outputs": [
    {
     "name": "stdout",
     "output_type": "stream",
     "text": [
      "1. 크롬 웹 브라우저 실행됨...\n",
      "<selenium.webdriver.chrome.webdriver.WebDriver (session=\"f46a3ba8d79647d1eb9d3943dc13b4b6\")>\n",
      "2. 다음 접속...\n",
      "3. 3초 쉬기\n",
      "4. 크롬 웹 브라우저 닫기...\n"
     ]
    }
   ],
   "source": [
    "driver = webdriver.Chrome()\n",
    "print('1. 크롬 웹 브라우저 실행됨...')\n",
    "\n",
    "url = 'https://www.daum.net'\n",
    "driver.get(url)\n",
    "print('2. 다음 접속...')\n",
    "\n",
    "sleep(3)\n",
    "print('3. 3초 쉬기')\n",
    "\n",
    "driver.close()\n",
    "print('4. 크롬 웹 브라우저 닫기...')"
   ]
  },
  {
   "cell_type": "code",
   "execution_count": 17,
   "id": "09c30880",
   "metadata": {},
   "outputs": [
    {
     "name": "stdout",
     "output_type": "stream",
     "text": [
      "타입 >> <class 'selenium.webdriver.remote.webelement.WebElement'>\n"
     ]
    }
   ],
   "source": [
    "# 1. 크롬 드라이버\n",
    "driver = webdriver.Chrome()\n",
    "\n",
    "# 2. 웹 주소\n",
    "url = 'https://www.daum.net'\n",
    "driver.get(url)\n",
    "\n",
    "# 3초 쉬기\n",
    "sleep(3)\n",
    "\n",
    "# 3. 뉴스 탭 클릭\n",
    "news_xpath = '//*[@id=\"daumHead\"]/div[2]/div/div[1]/ul/li[3]/a'\n",
    "news_element = driver.find_element(By.XPATH, news_xpath)\n",
    "print('타입 >>', type(news_element))\n",
    "\n",
    "news_element.click()\n",
    "\n",
    "# 3초 쉬기\n",
    "sleep(3)\n",
    "\n",
    "# 4. 웹 브라우저 닫기\n",
    "driver.close()"
   ]
  },
  {
   "cell_type": "code",
   "execution_count": 18,
   "id": "f0c5460b",
   "metadata": {},
   "outputs": [],
   "source": [
    "# [문제] 구글 창 띄우기\n",
    "\n",
    "driver = webdriver.Chrome()\n",
    "\n",
    "url = 'https://www.google.com'\n",
    "driver.get(url)\n",
    "sleep(2)\n",
    "\n",
    "driver.close()"
   ]
  },
  {
   "cell_type": "code",
   "execution_count": 41,
   "id": "7d5b8a3a",
   "metadata": {},
   "outputs": [
    {
     "data": {
      "text/plain": [
       "list"
      ]
     },
     "execution_count": 41,
     "metadata": {},
     "output_type": "execute_result"
    }
   ],
   "source": [
    "# 네이버에 접속 후 날씨 검색 후 뉴스 탭 클릭 후 뉴스 타이틀을 수집\n",
    "# 1. 크롬 드라이버\n",
    "driver = webdriver.Chrome()\n",
    "\n",
    "# 2. 웹 주소\n",
    "driver.get('https://www.naver.com/')\n",
    "\n",
    "# 3. 엘리먼트 접근 : 검색창(selector)\n",
    "query_input_text = driver.find_element(by=By.CSS_SELECTOR, value='#query')\n",
    "\n",
    "# 4. 검색어 입력\n",
    "query_input_text.send_keys('날씨')\n",
    "\n",
    "# 5. 엔터\n",
    "# query_input_text.send_keys(Keys.ENTER)\n",
    "query_input_text.send_keys(Keys.RETURN)\n",
    "# Enter와 Return은 같은것\n",
    "\n",
    "# 6. 뉴스 탭 클릭\n",
    "news_tab = driver.find_element(By.XPATH, '//*[@id=\"lnb\"]/div[1]/div/ul/li[8]/a')\n",
    "news_tab.click()\n",
    "\n",
    "# 7. 뉴스 타이틀 추출\n",
    "# 방법 1. html 파일 전체 요청\n",
    "# html = driver.page_source\n",
    "\n",
    "# 방법 2. 특정 엘리먼트만 추출 : 뉴스 타이틀\n",
    "news_title_element = driver.find_elements(By.CSS_SELECTOR, 'a.news_tit')"
   ]
  },
  {
   "cell_type": "code",
   "execution_count": 32,
   "id": "8c2da97e",
   "metadata": {},
   "outputs": [
    {
     "data": {
      "text/plain": [
       "bs4.BeautifulSoup"
      ]
     },
     "execution_count": 32,
     "metadata": {},
     "output_type": "execute_result"
    }
   ],
   "source": [
    "soup = BeautifulSoup(html, 'html.parser')"
   ]
  },
  {
   "cell_type": "code",
   "execution_count": 39,
   "id": "05b2a8c2",
   "metadata": {},
   "outputs": [
    {
     "name": "stdout",
     "output_type": "stream",
     "text": [
      "\"날씨가 쌀쌀해\" 잔디밭 불 지르고 몸 녹인 외국인 검거\n",
      "포근한 날씨\n",
      "\"전남친 애라서\"…영하 날씨에 남친과 여행중 아기 버린 20대\n",
      "일교차 큰 날씨 속 시원함\n",
      "[출근길 날씨] 아침에 쌀쌀…맑고 기온 일교차 커요!\n",
      "[날씨] 출근길, 어제보다 쌀쌀...낮 동안 맑고 따뜻, 큰 일교차\n",
      "쌀쌀한 날씨에 돋지 않는 옻순…옥천참옻축제 '비상'\n",
      "낮에는 따뜻한 날씨\n",
      "[오늘의 날씨] 전국 맑고 쌀쌀…미세먼지 '보통'\n",
      "[날씨] 전국 맑고 일교차 커…출근길 짙은 안개\n"
     ]
    }
   ],
   "source": [
    "# 방법 1\n",
    "# news_title = soup.find_all('a', class_='news_tit')\n",
    "news_title = soup.select('a.news_tit')\n",
    "for title in news_title:\n",
    "    # print(title['title'])\n",
    "    print(title.text)    "
   ]
  },
  {
   "cell_type": "code",
   "execution_count": 42,
   "id": "895a5fbf",
   "metadata": {},
   "outputs": [
    {
     "name": "stdout",
     "output_type": "stream",
     "text": [
      "\"날씨가 쌀쌀해\" 잔디밭 불 지르고 몸 녹인 외국인 검거\n",
      "포근한 날씨\n",
      "\"전남친 애라서\"…영하 날씨에 남친과 여행중 아기 버린 20대\n",
      "일교차 큰 날씨 속 시원함\n",
      "[출근길 날씨] 아침에 쌀쌀…맑고 기온 일교차 커요!\n",
      "[날씨] 출근길, 어제보다 쌀쌀...낮 동안 맑고 따뜻, 큰 일교차\n",
      "[날씨] 전국 맑고 일교차 커…출근길 짙은 안개\n",
      "쌀쌀한 날씨에 돋지 않는 옻순…옥천참옻축제 '비상'\n",
      "낮에는 따뜻한 날씨\n",
      "[오늘의 날씨] 전국 맑고 쌀쌀…미세먼지 '보통'\n"
     ]
    }
   ],
   "source": [
    "# 방법 2\n",
    "for t in news_title_element:\n",
    "    print(t.text)"
   ]
  },
  {
   "cell_type": "code",
   "execution_count": null,
   "id": "43a9e03e",
   "metadata": {},
   "outputs": [],
   "source": []
  }
 ],
 "metadata": {
  "kernelspec": {
   "display_name": "ex_kernel",
   "language": "python",
   "name": "ex"
  },
  "language_info": {
   "codemirror_mode": {
    "name": "ipython",
    "version": 3
   },
   "file_extension": ".py",
   "mimetype": "text/x-python",
   "name": "python",
   "nbconvert_exporter": "python",
   "pygments_lexer": "ipython3",
   "version": "3.8.10"
  }
 },
 "nbformat": 4,
 "nbformat_minor": 5
}
