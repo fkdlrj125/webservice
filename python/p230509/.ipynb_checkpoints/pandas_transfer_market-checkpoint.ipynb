{
 "cells": [
  {
   "cell_type": "code",
   "execution_count": 1,
   "id": "b6d19e89",
   "metadata": {},
   "outputs": [],
   "source": [
    "import pandas as pd"
   ]
  },
  {
   "cell_type": "code",
   "execution_count": 45,
   "id": "e16e4d88",
   "metadata": {},
   "outputs": [],
   "source": [
    "market = pd.read_csv('market100.csv')"
   ]
  },
  {
   "cell_type": "code",
   "execution_count": 6,
   "id": "4ddfd13e",
   "metadata": {},
   "outputs": [
    {
     "data": {
      "text/html": [
       "<div>\n",
       "<style scoped>\n",
       "    .dataframe tbody tr th:only-of-type {\n",
       "        vertical-align: middle;\n",
       "    }\n",
       "\n",
       "    .dataframe tbody tr th {\n",
       "        vertical-align: top;\n",
       "    }\n",
       "\n",
       "    .dataframe thead th {\n",
       "        text-align: right;\n",
       "    }\n",
       "</style>\n",
       "<table border=\"1\" class=\"dataframe\">\n",
       "  <thead>\n",
       "    <tr style=\"text-align: right;\">\n",
       "      <th></th>\n",
       "      <th>number</th>\n",
       "      <th>name</th>\n",
       "      <th>position</th>\n",
       "      <th>age</th>\n",
       "      <th>nation</th>\n",
       "      <th>team</th>\n",
       "      <th>value</th>\n",
       "    </tr>\n",
       "  </thead>\n",
       "  <tbody>\n",
       "    <tr>\n",
       "      <th>0</th>\n",
       "      <td>1</td>\n",
       "      <td>Kylian Mbappé</td>\n",
       "      <td>Centre-Forward</td>\n",
       "      <td>24</td>\n",
       "      <td>France</td>\n",
       "      <td>Paris Saint-Germain</td>\n",
       "      <td>180</td>\n",
       "    </tr>\n",
       "    <tr>\n",
       "      <th>1</th>\n",
       "      <td>2</td>\n",
       "      <td>Erling Haaland</td>\n",
       "      <td>Centre-Forward</td>\n",
       "      <td>22</td>\n",
       "      <td>Norway</td>\n",
       "      <td>Manchester City</td>\n",
       "      <td>170</td>\n",
       "    </tr>\n",
       "    <tr>\n",
       "      <th>2</th>\n",
       "      <td>3</td>\n",
       "      <td>Jude Bellingham</td>\n",
       "      <td>Central Midfield</td>\n",
       "      <td>19</td>\n",
       "      <td>England</td>\n",
       "      <td>Borussia Dortmund</td>\n",
       "      <td>120</td>\n",
       "    </tr>\n",
       "    <tr>\n",
       "      <th>3</th>\n",
       "      <td>4</td>\n",
       "      <td>Vinicius Junior</td>\n",
       "      <td>Left Winger</td>\n",
       "      <td>22</td>\n",
       "      <td>Brazil</td>\n",
       "      <td>Real Madrid</td>\n",
       "      <td>120</td>\n",
       "    </tr>\n",
       "    <tr>\n",
       "      <th>4</th>\n",
       "      <td>5</td>\n",
       "      <td>Jamal Musiala</td>\n",
       "      <td>Attacking Midfield</td>\n",
       "      <td>20</td>\n",
       "      <td>Germany</td>\n",
       "      <td>Bayern Munich</td>\n",
       "      <td>110</td>\n",
       "    </tr>\n",
       "  </tbody>\n",
       "</table>\n",
       "</div>"
      ],
      "text/plain": [
       "   number             name            position  age   nation   \n",
       "0       1    Kylian Mbappé      Centre-Forward   24   France  \\\n",
       "1       2   Erling Haaland      Centre-Forward   22   Norway   \n",
       "2       3  Jude Bellingham    Central Midfield   19  England   \n",
       "3       4  Vinicius Junior         Left Winger   22   Brazil   \n",
       "4       5    Jamal Musiala  Attacking Midfield   20  Germany   \n",
       "\n",
       "                  team  value  \n",
       "0  Paris Saint-Germain    180  \n",
       "1      Manchester City    170  \n",
       "2    Borussia Dortmund    120  \n",
       "3          Real Madrid    120  \n",
       "4        Bayern Munich    110  "
      ]
     },
     "execution_count": 6,
     "metadata": {},
     "output_type": "execute_result"
    }
   ],
   "source": [
    "market.head()"
   ]
  },
  {
   "cell_type": "code",
   "execution_count": 22,
   "id": "682b3959",
   "metadata": {},
   "outputs": [
    {
     "data": {
      "text/plain": [
       "number                                                   5050\n",
       "name        Kylian MbappéErling HaalandJude BellinghamVini...\n",
       "position    Centre-ForwardCentre-ForwardCentral MidfieldLe...\n",
       "age                                                      2458\n",
       "nation      FranceNorwayEnglandBrazilGermanyEnglandEngland...\n",
       "team        Paris Saint-GermainManchester CityBorussia Dor...\n",
       "value                                                    7060\n",
       "dtype: object"
      ]
     },
     "execution_count": 22,
     "metadata": {},
     "output_type": "execute_result"
    }
   ],
   "source": [
    "# 데이터프레임 : 변수의 합(행의 합)\n",
    "market.sum(axis=0)"
   ]
  },
  {
   "cell_type": "code",
   "execution_count": 25,
   "id": "de081d86",
   "metadata": {},
   "outputs": [
    {
     "data": {
      "text/plain": [
       "0     205\n",
       "1     194\n",
       "2     142\n",
       "3     146\n",
       "4     135\n",
       "     ... \n",
       "95    170\n",
       "96    174\n",
       "97    175\n",
       "98    179\n",
       "99    180\n",
       "Length: 100, dtype: int64"
      ]
     },
     "execution_count": 25,
     "metadata": {},
     "output_type": "execute_result"
    }
   ],
   "source": [
    "# 데이터프레임 : 관측치의 합(열의 합)\n",
    "# market.sum(axis=1) # Error -> 문자와 숫자의 합\n",
    "market.sum(axis=1, numeric_only=True)"
   ]
  },
  {
   "cell_type": "code",
   "execution_count": 23,
   "id": "09858260",
   "metadata": {},
   "outputs": [
    {
     "data": {
      "text/plain": [
       "number    5050\n",
       "age       2458\n",
       "value     7060\n",
       "dtype: int64"
      ]
     },
     "execution_count": 23,
     "metadata": {},
     "output_type": "execute_result"
    }
   ],
   "source": [
    "# 데이터 프레임 : 숫자로 이루어진 변수들의 합\n",
    "market.sum(numeric_only=True)"
   ]
  },
  {
   "cell_type": "code",
   "execution_count": 21,
   "id": "17ad909c",
   "metadata": {},
   "outputs": [
    {
     "data": {
      "text/plain": [
       "age      2458\n",
       "value    7060\n",
       "dtype: object"
      ]
     },
     "execution_count": 21,
     "metadata": {},
     "output_type": "execute_result"
    }
   ],
   "source": [
    "# 특정 컬럼 : 행의 합\n",
    "# 나이, 이적료 총합\n",
    "# market[['age', 'value']].sum()\n",
    "# market.loc[:, ['age', 'value']].sum()\n",
    "# market.sum(numeric_only=True)[1:]\n",
    "# market.sum()[['age', 'value']] # 데이터프레임의 모든 변수를 더하고 특정 컬럼만 추출해 Dtype이 object"
   ]
  },
  {
   "cell_type": "code",
   "execution_count": 27,
   "id": "09ad146c",
   "metadata": {},
   "outputs": [
    {
     "data": {
      "text/plain": [
       "0    205\n",
       "1    194\n",
       "2    142\n",
       "3    146\n",
       "4    135\n",
       "5    137\n",
       "6    139\n",
       "7    128\n",
       "8    133\n",
       "9    134\n",
       "dtype: int64"
      ]
     },
     "execution_count": 27,
     "metadata": {},
     "output_type": "execute_result"
    }
   ],
   "source": [
    "# 특정 행 : 열의 합\n",
    "# 1 ~ 10위 \n",
    "# market.head(10).sum(axis=1, numeric_only=True)\n",
    "market[:10].sum(axis='columns', numeric_only=True)"
   ]
  },
  {
   "cell_type": "code",
   "execution_count": 34,
   "id": "8fd34d07",
   "metadata": {},
   "outputs": [
    {
     "data": {
      "text/plain": [
       "0    205\n",
       "2    142\n",
       "4    135\n",
       "6    139\n",
       "8    133\n",
       "dtype: int64"
      ]
     },
     "execution_count": 34,
     "metadata": {},
     "output_type": "execute_result"
    }
   ],
   "source": [
    "# 특정 행 : 열의 합\n",
    "# 짝수행\n",
    "# market[market.index%2==0].sum(axis=1, numeric_only=True).head()\n",
    "# market.loc[market.index%2==0].sum(axis=1, numeric_only=True).head()\n",
    "market[::2].sum(axis=1, numeric_only=True).head() # step을 이용해 짝수 표현"
   ]
  },
  {
   "cell_type": "code",
   "execution_count": null,
   "id": "d2821712",
   "metadata": {},
   "outputs": [],
   "source": [
    "# 열의 합 컬럼 추가\n",
    "# market['합'] = market[['age','value']].sum(axis=1)\n",
    "market.insert(7,column='합', value=market[['age','value']].sum(axis=1))"
   ]
  },
  {
   "cell_type": "code",
   "execution_count": 59,
   "id": "6d0cea39",
   "metadata": {},
   "outputs": [
    {
     "data": {
      "text/html": [
       "<div>\n",
       "<style scoped>\n",
       "    .dataframe tbody tr th:only-of-type {\n",
       "        vertical-align: middle;\n",
       "    }\n",
       "\n",
       "    .dataframe tbody tr th {\n",
       "        vertical-align: top;\n",
       "    }\n",
       "\n",
       "    .dataframe thead th {\n",
       "        text-align: right;\n",
       "    }\n",
       "</style>\n",
       "<table border=\"1\" class=\"dataframe\">\n",
       "  <thead>\n",
       "    <tr style=\"text-align: right;\">\n",
       "      <th></th>\n",
       "      <th>number</th>\n",
       "      <th>name</th>\n",
       "      <th>position</th>\n",
       "      <th>age</th>\n",
       "      <th>nation</th>\n",
       "      <th>team</th>\n",
       "      <th>value</th>\n",
       "      <th>합</th>\n",
       "    </tr>\n",
       "  </thead>\n",
       "  <tbody>\n",
       "    <tr>\n",
       "      <th>0</th>\n",
       "      <td>1</td>\n",
       "      <td>Kylian Mbappé</td>\n",
       "      <td>Centre-Forward</td>\n",
       "      <td>24</td>\n",
       "      <td>France</td>\n",
       "      <td>Paris Saint-Germain</td>\n",
       "      <td>180</td>\n",
       "      <td>204</td>\n",
       "    </tr>\n",
       "    <tr>\n",
       "      <th>1</th>\n",
       "      <td>2</td>\n",
       "      <td>Erling Haaland</td>\n",
       "      <td>Centre-Forward</td>\n",
       "      <td>22</td>\n",
       "      <td>Norway</td>\n",
       "      <td>Manchester City</td>\n",
       "      <td>170</td>\n",
       "      <td>192</td>\n",
       "    </tr>\n",
       "    <tr>\n",
       "      <th>2</th>\n",
       "      <td>3</td>\n",
       "      <td>Jude Bellingham</td>\n",
       "      <td>Central Midfield</td>\n",
       "      <td>19</td>\n",
       "      <td>England</td>\n",
       "      <td>Borussia Dortmund</td>\n",
       "      <td>120</td>\n",
       "      <td>139</td>\n",
       "    </tr>\n",
       "    <tr>\n",
       "      <th>3</th>\n",
       "      <td>4</td>\n",
       "      <td>Vinicius Junior</td>\n",
       "      <td>Left Winger</td>\n",
       "      <td>22</td>\n",
       "      <td>Brazil</td>\n",
       "      <td>Real Madrid</td>\n",
       "      <td>120</td>\n",
       "      <td>142</td>\n",
       "    </tr>\n",
       "    <tr>\n",
       "      <th>4</th>\n",
       "      <td>5</td>\n",
       "      <td>Jamal Musiala</td>\n",
       "      <td>Attacking Midfield</td>\n",
       "      <td>20</td>\n",
       "      <td>Germany</td>\n",
       "      <td>Bayern Munich</td>\n",
       "      <td>110</td>\n",
       "      <td>130</td>\n",
       "    </tr>\n",
       "  </tbody>\n",
       "</table>\n",
       "</div>"
      ],
      "text/plain": [
       "   number             name            position  age   nation   \n",
       "0       1    Kylian Mbappé      Centre-Forward   24   France  \\\n",
       "1       2   Erling Haaland      Centre-Forward   22   Norway   \n",
       "2       3  Jude Bellingham    Central Midfield   19  England   \n",
       "3       4  Vinicius Junior         Left Winger   22   Brazil   \n",
       "4       5    Jamal Musiala  Attacking Midfield   20  Germany   \n",
       "\n",
       "                  team  value    합  \n",
       "0  Paris Saint-Germain    180  204  \n",
       "1      Manchester City    170  192  \n",
       "2    Borussia Dortmund    120  139  \n",
       "3          Real Madrid    120  142  \n",
       "4        Bayern Munich    110  130  "
      ]
     },
     "execution_count": 59,
     "metadata": {},
     "output_type": "execute_result"
    }
   ],
   "source": [
    "# del market['합']\n",
    "market.head()"
   ]
  },
  {
   "cell_type": "code",
   "execution_count": 60,
   "id": "fbee5979",
   "metadata": {},
   "outputs": [],
   "source": [
    "import numpy as np"
   ]
  },
  {
   "cell_type": "code",
   "execution_count": 64,
   "id": "574da56f",
   "metadata": {},
   "outputs": [
    {
     "data": {
      "text/html": [
       "<div>\n",
       "<style scoped>\n",
       "    .dataframe tbody tr th:only-of-type {\n",
       "        vertical-align: middle;\n",
       "    }\n",
       "\n",
       "    .dataframe tbody tr th {\n",
       "        vertical-align: top;\n",
       "    }\n",
       "\n",
       "    .dataframe thead th {\n",
       "        text-align: right;\n",
       "    }\n",
       "</style>\n",
       "<table border=\"1\" class=\"dataframe\">\n",
       "  <thead>\n",
       "    <tr style=\"text-align: right;\">\n",
       "      <th></th>\n",
       "      <th>홀수</th>\n",
       "      <th>짝수</th>\n",
       "    </tr>\n",
       "  </thead>\n",
       "  <tbody>\n",
       "    <tr>\n",
       "      <th>0</th>\n",
       "      <td>1</td>\n",
       "      <td>2.0</td>\n",
       "    </tr>\n",
       "    <tr>\n",
       "      <th>1</th>\n",
       "      <td>3</td>\n",
       "      <td>4.0</td>\n",
       "    </tr>\n",
       "    <tr>\n",
       "      <th>2</th>\n",
       "      <td>5</td>\n",
       "      <td>NaN</td>\n",
       "    </tr>\n",
       "  </tbody>\n",
       "</table>\n",
       "</div>"
      ],
      "text/plain": [
       "   홀수   짝수\n",
       "0   1  2.0\n",
       "1   3  4.0\n",
       "2   5  NaN"
      ]
     },
     "execution_count": 64,
     "metadata": {},
     "output_type": "execute_result"
    }
   ],
   "source": [
    "data = pd.DataFrame({\n",
    "    '홀수' : [1, 3, 5],\n",
    "    '짝수' : [2, 4, np.nan]\n",
    "})\n",
    "data"
   ]
  },
  {
   "cell_type": "code",
   "execution_count": 65,
   "id": "1f212220",
   "metadata": {},
   "outputs": [
    {
     "name": "stdout",
     "output_type": "stream",
     "text": [
      "<class 'pandas.core.frame.DataFrame'>\n",
      "RangeIndex: 3 entries, 0 to 2\n",
      "Data columns (total 2 columns):\n",
      " #   Column  Non-Null Count  Dtype  \n",
      "---  ------  --------------  -----  \n",
      " 0   홀수      3 non-null      int64  \n",
      " 1   짝수      2 non-null      float64\n",
      "dtypes: float64(1), int64(1)\n",
      "memory usage: 176.0 bytes\n"
     ]
    }
   ],
   "source": [
    "data.info()"
   ]
  },
  {
   "cell_type": "code",
   "execution_count": 66,
   "id": "c74b4237",
   "metadata": {},
   "outputs": [
    {
     "data": {
      "text/plain": [
       "홀수    9.0\n",
       "짝수    6.0\n",
       "dtype: float64"
      ]
     },
     "execution_count": 66,
     "metadata": {},
     "output_type": "execute_result"
    }
   ],
   "source": [
    "# 행의 합\n",
    "data.sum()"
   ]
  },
  {
   "cell_type": "code",
   "execution_count": 69,
   "id": "088d0cfc",
   "metadata": {},
   "outputs": [
    {
     "data": {
      "text/plain": [
       "홀수    9.0\n",
       "짝수    NaN\n",
       "dtype: float64"
      ]
     },
     "execution_count": 69,
     "metadata": {},
     "output_type": "execute_result"
    }
   ],
   "source": [
    "# 결측치가 포함된 연산의 결과는 결측치\n",
    "data.sum(skipna=False)"
   ]
  },
  {
   "cell_type": "code",
   "execution_count": 70,
   "id": "17d0f4fa",
   "metadata": {},
   "outputs": [
    {
     "data": {
      "text/plain": [
       "9"
      ]
     },
     "execution_count": 70,
     "metadata": {},
     "output_type": "execute_result"
    }
   ],
   "source": [
    "data.홀수.sum()"
   ]
  },
  {
   "cell_type": "code",
   "execution_count": 71,
   "id": "b9c43989",
   "metadata": {},
   "outputs": [
    {
     "data": {
      "text/plain": [
       "0    3.0\n",
       "1    7.0\n",
       "2    5.0\n",
       "dtype: float64"
      ]
     },
     "execution_count": 71,
     "metadata": {},
     "output_type": "execute_result"
    }
   ],
   "source": [
    "# 열의 합\n",
    "data.sum(axis=1)"
   ]
  },
  {
   "cell_type": "code",
   "execution_count": 72,
   "id": "ef46148f",
   "metadata": {},
   "outputs": [
    {
     "data": {
      "text/plain": [
       "0    3.0\n",
       "1    7.0\n",
       "2    NaN\n",
       "dtype: float64"
      ]
     },
     "execution_count": 72,
     "metadata": {},
     "output_type": "execute_result"
    }
   ],
   "source": [
    "data.sum(axis=1, skipna=False)"
   ]
  },
  {
   "cell_type": "code",
   "execution_count": 73,
   "id": "0ecb4730",
   "metadata": {},
   "outputs": [
    {
     "data": {
      "text/plain": [
       "홀수    3.0\n",
       "짝수    3.0\n",
       "dtype: float64"
      ]
     },
     "execution_count": 73,
     "metadata": {},
     "output_type": "execute_result"
    }
   ],
   "source": [
    "# 행의 평균\n",
    "data.mean()"
   ]
  },
  {
   "cell_type": "code",
   "execution_count": 74,
   "id": "1df24e6e",
   "metadata": {},
   "outputs": [
    {
     "data": {
      "text/plain": [
       "홀수    3.0\n",
       "짝수    NaN\n",
       "dtype: float64"
      ]
     },
     "execution_count": 74,
     "metadata": {},
     "output_type": "execute_result"
    }
   ],
   "source": [
    "data.mean(skipna=False)"
   ]
  },
  {
   "cell_type": "code",
   "execution_count": 75,
   "id": "f5876c61",
   "metadata": {},
   "outputs": [
    {
     "data": {
      "text/plain": [
       "0    1.5\n",
       "1    3.5\n",
       "2    5.0\n",
       "dtype: float64"
      ]
     },
     "execution_count": 75,
     "metadata": {},
     "output_type": "execute_result"
    }
   ],
   "source": [
    "# 열의 평균\n",
    "data.mean(axis=1)"
   ]
  },
  {
   "cell_type": "code",
   "execution_count": 76,
   "id": "cfc47297",
   "metadata": {},
   "outputs": [
    {
     "data": {
      "text/plain": [
       "0    1.5\n",
       "1    3.5\n",
       "2    NaN\n",
       "dtype: float64"
      ]
     },
     "execution_count": 76,
     "metadata": {},
     "output_type": "execute_result"
    }
   ],
   "source": [
    "data.mean(axis=1, skipna=False)"
   ]
  },
  {
   "cell_type": "code",
   "execution_count": 78,
   "id": "c65df207",
   "metadata": {},
   "outputs": [
    {
     "data": {
      "text/plain": [
       "홀수    3\n",
       "짝수    2\n",
       "dtype: int64"
      ]
     },
     "execution_count": 78,
     "metadata": {},
     "output_type": "execute_result"
    }
   ],
   "source": [
    "# 행의 개수(결측치 포함 불가능)\n",
    "data.count()"
   ]
  },
  {
   "cell_type": "code",
   "execution_count": 85,
   "id": "e9576130",
   "metadata": {},
   "outputs": [],
   "source": [
    "# 행의 합 추가\n",
    "# data.loc['합'] = data.sum()\n",
    "data.loc[data.shape[0]] = data.sum()"
   ]
  }
 ],
 "metadata": {
  "kernelspec": {
   "display_name": "ex_kernel",
   "language": "python",
   "name": "ex"
  },
  "language_info": {
   "codemirror_mode": {
    "name": "ipython",
    "version": 3
   },
   "file_extension": ".py",
   "mimetype": "text/x-python",
   "name": "python",
   "nbconvert_exporter": "python",
   "pygments_lexer": "ipython3",
   "version": "3.8.10"
  },
  "toc": {
   "base_numbering": 1,
   "nav_menu": {},
   "number_sections": true,
   "sideBar": true,
   "skip_h1_title": false,
   "title_cell": "Table of Contents",
   "title_sidebar": "Contents",
   "toc_cell": false,
   "toc_position": {},
   "toc_section_display": true,
   "toc_window_display": false
  }
 },
 "nbformat": 4,
 "nbformat_minor": 5
}
