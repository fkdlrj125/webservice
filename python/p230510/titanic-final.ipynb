{
 "cells": [
  {
   "cell_type": "code",
   "execution_count": 1,
   "id": "d491368c",
   "metadata": {},
   "outputs": [],
   "source": [
    "import pandas as pd\n",
    "import matplotlib.pyplot as plt"
   ]
  },
  {
   "cell_type": "markdown",
   "id": "0074c842",
   "metadata": {},
   "source": [
    "# 웹에서 titanic.csv 파일 읽어오기"
   ]
  },
  {
   "cell_type": "code",
   "execution_count": 2,
   "id": "b923e49a",
   "metadata": {
    "scrolled": true
   },
   "outputs": [],
   "source": [
    "# 파일 읽어오기\n",
    "url = 'https://web.stanford.edu/class/archive/cs/cs109/cs109.1166/stuff/titanic.csv'\n",
    "titanic = pd.read_csv(url)"
   ]
  },
  {
   "cell_type": "markdown",
   "id": "2f0be289",
   "metadata": {},
   "source": [
    "# 데이터 파악"
   ]
  },
  {
   "cell_type": "code",
   "execution_count": 3,
   "id": "cd26e6b3",
   "metadata": {},
   "outputs": [
    {
     "name": "stdout",
     "output_type": "stream",
     "text": [
      "<class 'pandas.core.frame.DataFrame'>\n",
      "RangeIndex: 887 entries, 0 to 886\n",
      "Data columns (total 8 columns):\n",
      " #   Column                   Non-Null Count  Dtype  \n",
      "---  ------                   --------------  -----  \n",
      " 0   Survived                 887 non-null    int64  \n",
      " 1   Pclass                   887 non-null    int64  \n",
      " 2   Name                     887 non-null    object \n",
      " 3   Sex                      887 non-null    object \n",
      " 4   Age                      887 non-null    float64\n",
      " 5   Siblings/Spouses Aboard  887 non-null    int64  \n",
      " 6   Parents/Children Aboard  887 non-null    int64  \n",
      " 7   Fare                     887 non-null    float64\n",
      "dtypes: float64(2), int64(4), object(2)\n",
      "memory usage: 55.6+ KB\n"
     ]
    }
   ],
   "source": [
    "# 데이터 파악 : 결측치, 행, 열 파악\n",
    "titanic.info()"
   ]
  },
  {
   "cell_type": "markdown",
   "id": "22fc1742",
   "metadata": {},
   "source": [
    "# 전처리"
   ]
  },
  {
   "cell_type": "code",
   "execution_count": 4,
   "id": "de33d467",
   "metadata": {},
   "outputs": [],
   "source": [
    "# 전처리\n",
    "# 결측치 여부 확인\n",
    "titanic.isnull().sum()\n",
    "\n",
    "# 컬럼명 변경 : Sex -> Gender\n",
    "titanic.rename(columns={'Sex' : 'Gender'}, inplace=True)"
   ]
  },
  {
   "cell_type": "markdown",
   "id": "760b580b",
   "metadata": {},
   "source": [
    "# titanic.csv파일로 저장"
   ]
  },
  {
   "cell_type": "code",
   "execution_count": 5,
   "id": "09bf2e4c",
   "metadata": {},
   "outputs": [],
   "source": [
    "# .csv파일로 저장\n",
    "titanic.to_csv('titanic.csv', encoding='UTF-8', index=False)"
   ]
  },
  {
   "cell_type": "markdown",
   "id": "e0dfd596",
   "metadata": {},
   "source": [
    "# titanic.csv파일 읽어오기"
   ]
  },
  {
   "cell_type": "code",
   "execution_count": 6,
   "id": "26645e0a",
   "metadata": {
    "scrolled": true
   },
   "outputs": [],
   "source": [
    "# titanic.csv파일 읽어오기\n",
    "titanic = pd.read_csv('titanic.csv')"
   ]
  },
  {
   "cell_type": "markdown",
   "id": "559d3dbf",
   "metadata": {},
   "source": [
    "# 가설\n",
    "- 분석 내용\n",
    "1. 생존자의 성별 비율\n",
    "1. 1등실 승객의 생존율\n",
    "1. 사망자 고령비율"
   ]
  },
  {
   "cell_type": "markdown",
   "id": "8ed9962d",
   "metadata": {},
   "source": [
    "## [가설 1] 생존자의 성별비율"
   ]
  },
  {
   "cell_type": "markdown",
   "id": "dd7ed4b3",
   "metadata": {},
   "source": [
    "### 분석 : 첫 번째 방법"
   ]
  },
  {
   "cell_type": "code",
   "execution_count": 7,
   "id": "7397b8ef",
   "metadata": {},
   "outputs": [
    {
     "data": {
      "text/plain": [
       "Gender\n",
       "female    68.128655\n",
       "male      31.871345\n",
       "dtype: float64"
      ]
     },
     "execution_count": 7,
     "metadata": {},
     "output_type": "execute_result"
    }
   ],
   "source": [
    "# 분석 -> 변수 사이의 관계로 가설을 세워 무엇을 분석할 것인지 정함\n",
    "# 1. 생존자의 성별비율\n",
    "surviver = titanic[titanic.Survived == 1].groupby('Gender').size()\n",
    "\n",
    "surviver / surviver.sum() * 100"
   ]
  },
  {
   "cell_type": "markdown",
   "id": "e330efb1",
   "metadata": {},
   "source": [
    "### 분석 : 두 번째 방법"
   ]
  },
  {
   "cell_type": "code",
   "execution_count": 8,
   "id": "4e9b655c",
   "metadata": {},
   "outputs": [
    {
     "data": {
      "text/plain": [
       "Gender  Survived\n",
       "female  0           25.796178\n",
       "        1           74.203822\n",
       "male    0           80.977312\n",
       "        1           19.022688\n",
       "Name: proportion, dtype: float64"
      ]
     },
     "execution_count": 8,
     "metadata": {},
     "output_type": "execute_result"
    }
   ],
   "source": [
    "# 방법 2. 구하기 쉬운 형태로 구한 후 행 위치 변경\n",
    "g_s = titanic.groupby('Gender').Survived.value_counts(normalize=True).sort_index() * 100\n",
    "g_s"
   ]
  },
  {
   "cell_type": "code",
   "execution_count": 9,
   "id": "70dbf2c6",
   "metadata": {},
   "outputs": [
    {
     "data": {
      "text/plain": [
       "Survived  Gender\n",
       "0         female    25.796178\n",
       "          male      80.977312\n",
       "1         female    74.203822\n",
       "          male      19.022688\n",
       "dtype: float64"
      ]
     },
     "execution_count": 9,
     "metadata": {},
     "output_type": "execute_result"
    }
   ],
   "source": [
    "# 행을 언스택한 후 다시 스택형태로 만듦\n",
    "g_s.unstack(0).stack()"
   ]
  },
  {
   "cell_type": "code",
   "execution_count": 10,
   "id": "627238cb",
   "metadata": {
    "scrolled": true
   },
   "outputs": [
    {
     "data": {
      "text/plain": [
       "Survived  Gender\n",
       "0         female    25.796178\n",
       "          male      80.977312\n",
       "1         female    74.203822\n",
       "          male      19.022688\n",
       "Name: proportion, dtype: float64"
      ]
     },
     "execution_count": 10,
     "metadata": {},
     "output_type": "execute_result"
    }
   ],
   "source": [
    "# 행 위치 변경\n",
    "g_s.swaplevel().sort_index()"
   ]
  },
  {
   "cell_type": "markdown",
   "id": "6708d456",
   "metadata": {},
   "source": [
    "### 시각화"
   ]
  },
  {
   "cell_type": "code",
   "execution_count": 11,
   "id": "f0573362",
   "metadata": {},
   "outputs": [
    {
     "data": {
      "image/png": "[encoded data removed]",
      "text/plain": [
       "<Figure size 600x600 with 1 Axes>"
      ]
     },
     "metadata": {},
     "output_type": "display_data"
    }
   ],
   "source": [
    "# 시각화 \n",
    "# 생존자 남여 비율 원형 그래프로 출력\n",
    "# 조각에 이름 부여, 퍼센트 출력\n",
    "plt.rcParams['font.family']='Malgun Gothic'\n",
    "plt.rc('font', size=12)\n",
    "\n",
    "plt.figure(figsize=(6, 6), facecolor='#dfd')\n",
    "plt.title('생존자 남여 비율')\n",
    "\n",
    "plt.pie(surviver,\n",
    "        autopct='%.f%%',\n",
    "        labels=['여', '남'],\n",
    "        colors=['#abcdef', '#fedcba'],\n",
    "        explode=[0.05, 0],\n",
    "        startangle=57.5)\n",
    "\n",
    "# plt.show()\n",
    "plt.savefig('생존자 남여 비율.png', dpi=150) # show함수가 실행되면 저장 불가"
   ]
  },
  {
   "cell_type": "markdown",
   "id": "15486e77",
   "metadata": {},
   "source": [
    "### 결론 \n",
    "- 가설1. 생존자의 성별 비율은 비슷할 것이다.\n",
    "    - 생존자 342명 중 여자는 233명(68%), 남자는 109(32%)으로 여자가 남자의 2배 이상 생존\n",
    "    - 여성과 아이를 우선으로 대피시켜 여자의 생존율이 더 높게 나왔다"
   ]
  },
  {
   "cell_type": "markdown",
   "id": "d854358c",
   "metadata": {},
   "source": [
    "## [가설 2] 1등실 승객의 생존율"
   ]
  },
  {
   "cell_type": "markdown",
   "id": "8af2650e",
   "metadata": {},
   "source": [
    "### 분석"
   ]
  },
  {
   "cell_type": "code",
   "execution_count": 12,
   "id": "d90b0105",
   "metadata": {
    "scrolled": true
   },
   "outputs": [
    {
     "data": {
      "text/plain": [
       "Pclass  Survived\n",
       "1       0            80\n",
       "        1           136\n",
       "2       0            97\n",
       "        1            87\n",
       "3       0           368\n",
       "        1           119\n",
       "dtype: int64"
      ]
     },
     "execution_count": 12,
     "metadata": {},
     "output_type": "execute_result"
    }
   ],
   "source": [
    "# 가설 2. 1등실 승객의 생존율\n",
    "pclass_survived = titanic.groupby(['Pclass', 'Survived']).size()\n",
    "pclass_survived"
   ]
  },
  {
   "cell_type": "code",
   "execution_count": 13,
   "id": "a69e6d0a",
   "metadata": {},
   "outputs": [
    {
     "data": {
      "text/html": [
       "<div>\n",
       "<style scoped>\n",
       "    .dataframe tbody tr th:only-of-type {\n",
       "        vertical-align: middle;\n",
       "    }\n",
       "\n",
       "    .dataframe tbody tr th {\n",
       "        vertical-align: top;\n",
       "    }\n",
       "\n",
       "    .dataframe thead th {\n",
       "        text-align: right;\n",
       "    }\n",
       "</style>\n",
       "<table border=\"1\" class=\"dataframe\">\n",
       "  <thead>\n",
       "    <tr style=\"text-align: right;\">\n",
       "      <th>Survived</th>\n",
       "      <th>0</th>\n",
       "      <th>1</th>\n",
       "      <th>합</th>\n",
       "    </tr>\n",
       "    <tr>\n",
       "      <th>Pclass</th>\n",
       "      <th></th>\n",
       "      <th></th>\n",
       "      <th></th>\n",
       "    </tr>\n",
       "  </thead>\n",
       "  <tbody>\n",
       "    <tr>\n",
       "      <th>1</th>\n",
       "      <td>80</td>\n",
       "      <td>136</td>\n",
       "      <td>216</td>\n",
       "    </tr>\n",
       "    <tr>\n",
       "      <th>2</th>\n",
       "      <td>97</td>\n",
       "      <td>87</td>\n",
       "      <td>184</td>\n",
       "    </tr>\n",
       "    <tr>\n",
       "      <th>3</th>\n",
       "      <td>368</td>\n",
       "      <td>119</td>\n",
       "      <td>487</td>\n",
       "    </tr>\n",
       "  </tbody>\n",
       "</table>\n",
       "</div>"
      ],
      "text/plain": [
       "Survived    0    1    합\n",
       "Pclass                 \n",
       "1          80  136  216\n",
       "2          97   87  184\n",
       "3         368  119  487"
      ]
     },
     "execution_count": 13,
     "metadata": {},
     "output_type": "execute_result"
    }
   ],
   "source": [
    "# 열의 합 추가\n",
    "g_pclass_survived_unstack = titanic.groupby(['Pclass', 'Survived']).size().unstack()\n",
    "g_pclass_survived_unstack['합'] = g_pclass_survived_unstack.sum(axis=1)\n",
    "g_pclass_survived_unstack"
   ]
  },
  {
   "cell_type": "code",
   "execution_count": 14,
   "id": "d8d1ea8a",
   "metadata": {},
   "outputs": [
    {
     "data": {
      "text/html": [
       "<div>\n",
       "<style scoped>\n",
       "    .dataframe tbody tr th:only-of-type {\n",
       "        vertical-align: middle;\n",
       "    }\n",
       "\n",
       "    .dataframe tbody tr th {\n",
       "        vertical-align: top;\n",
       "    }\n",
       "\n",
       "    .dataframe thead th {\n",
       "        text-align: right;\n",
       "    }\n",
       "</style>\n",
       "<table border=\"1\" class=\"dataframe\">\n",
       "  <thead>\n",
       "    <tr style=\"text-align: right;\">\n",
       "      <th>Survived</th>\n",
       "      <th>0</th>\n",
       "      <th>1</th>\n",
       "      <th>합</th>\n",
       "      <th>사망자 비율</th>\n",
       "    </tr>\n",
       "    <tr>\n",
       "      <th>Pclass</th>\n",
       "      <th></th>\n",
       "      <th></th>\n",
       "      <th></th>\n",
       "      <th></th>\n",
       "    </tr>\n",
       "  </thead>\n",
       "  <tbody>\n",
       "    <tr>\n",
       "      <th>1</th>\n",
       "      <td>80</td>\n",
       "      <td>136</td>\n",
       "      <td>216</td>\n",
       "      <td>0.370370</td>\n",
       "    </tr>\n",
       "    <tr>\n",
       "      <th>2</th>\n",
       "      <td>97</td>\n",
       "      <td>87</td>\n",
       "      <td>184</td>\n",
       "      <td>0.527174</td>\n",
       "    </tr>\n",
       "    <tr>\n",
       "      <th>3</th>\n",
       "      <td>368</td>\n",
       "      <td>119</td>\n",
       "      <td>487</td>\n",
       "      <td>0.755647</td>\n",
       "    </tr>\n",
       "  </tbody>\n",
       "</table>\n",
       "</div>"
      ],
      "text/plain": [
       "Survived    0    1    합    사망자 비율\n",
       "Pclass                           \n",
       "1          80  136  216  0.370370\n",
       "2          97   87  184  0.527174\n",
       "3         368  119  487  0.755647"
      ]
     },
     "execution_count": 14,
     "metadata": {},
     "output_type": "execute_result"
    }
   ],
   "source": [
    "# 사망자 비율 추가\n",
    "g_pclass_survived_unstack['사망자 비율'] = g_pclass_survived_unstack[0] / g_pclass_survived_unstack.합\n",
    "g_pclass_survived_unstack"
   ]
  },
  {
   "cell_type": "code",
   "execution_count": 15,
   "id": "8ab256b1",
   "metadata": {},
   "outputs": [
    {
     "data": {
      "text/html": [
       "<div>\n",
       "<style scoped>\n",
       "    .dataframe tbody tr th:only-of-type {\n",
       "        vertical-align: middle;\n",
       "    }\n",
       "\n",
       "    .dataframe tbody tr th {\n",
       "        vertical-align: top;\n",
       "    }\n",
       "\n",
       "    .dataframe thead th {\n",
       "        text-align: right;\n",
       "    }\n",
       "</style>\n",
       "<table border=\"1\" class=\"dataframe\">\n",
       "  <thead>\n",
       "    <tr style=\"text-align: right;\">\n",
       "      <th>Survived</th>\n",
       "      <th>0</th>\n",
       "      <th>1</th>\n",
       "      <th>합</th>\n",
       "      <th>사망자 비율</th>\n",
       "      <th>생존자 비율</th>\n",
       "    </tr>\n",
       "    <tr>\n",
       "      <th>Pclass</th>\n",
       "      <th></th>\n",
       "      <th></th>\n",
       "      <th></th>\n",
       "      <th></th>\n",
       "      <th></th>\n",
       "    </tr>\n",
       "  </thead>\n",
       "  <tbody>\n",
       "    <tr>\n",
       "      <th>1</th>\n",
       "      <td>80</td>\n",
       "      <td>136</td>\n",
       "      <td>216</td>\n",
       "      <td>0.370370</td>\n",
       "      <td>0.629630</td>\n",
       "    </tr>\n",
       "    <tr>\n",
       "      <th>2</th>\n",
       "      <td>97</td>\n",
       "      <td>87</td>\n",
       "      <td>184</td>\n",
       "      <td>0.527174</td>\n",
       "      <td>0.472826</td>\n",
       "    </tr>\n",
       "    <tr>\n",
       "      <th>3</th>\n",
       "      <td>368</td>\n",
       "      <td>119</td>\n",
       "      <td>487</td>\n",
       "      <td>0.755647</td>\n",
       "      <td>0.244353</td>\n",
       "    </tr>\n",
       "  </tbody>\n",
       "</table>\n",
       "</div>"
      ],
      "text/plain": [
       "Survived    0    1    합    사망자 비율    생존자 비율\n",
       "Pclass                                     \n",
       "1          80  136  216  0.370370  0.629630\n",
       "2          97   87  184  0.527174  0.472826\n",
       "3         368  119  487  0.755647  0.244353"
      ]
     },
     "execution_count": 15,
     "metadata": {},
     "output_type": "execute_result"
    }
   ],
   "source": [
    "# 생존자 비율 추가\n",
    "g_pclass_survived_unstack['생존자 비율'] = g_pclass_survived_unstack[1] / g_pclass_survived_unstack.합\n",
    "g_pclass_survived_unstack"
   ]
  },
  {
   "cell_type": "code",
   "execution_count": 16,
   "id": "e92cc10a",
   "metadata": {
    "scrolled": true
   },
   "outputs": [
    {
     "data": {
      "text/html": [
       "<div>\n",
       "<style scoped>\n",
       "    .dataframe tbody tr th:only-of-type {\n",
       "        vertical-align: middle;\n",
       "    }\n",
       "\n",
       "    .dataframe tbody tr th {\n",
       "        vertical-align: top;\n",
       "    }\n",
       "\n",
       "    .dataframe thead th {\n",
       "        text-align: right;\n",
       "    }\n",
       "</style>\n",
       "<table border=\"1\" class=\"dataframe\">\n",
       "  <thead>\n",
       "    <tr style=\"text-align: right;\">\n",
       "      <th>Survived</th>\n",
       "      <th>0</th>\n",
       "      <th>1</th>\n",
       "    </tr>\n",
       "    <tr>\n",
       "      <th>Pclass</th>\n",
       "      <th></th>\n",
       "      <th></th>\n",
       "    </tr>\n",
       "  </thead>\n",
       "  <tbody>\n",
       "    <tr>\n",
       "      <th>1</th>\n",
       "      <td>0.370370</td>\n",
       "      <td>0.629630</td>\n",
       "    </tr>\n",
       "    <tr>\n",
       "      <th>2</th>\n",
       "      <td>0.527174</td>\n",
       "      <td>0.472826</td>\n",
       "    </tr>\n",
       "    <tr>\n",
       "      <th>3</th>\n",
       "      <td>0.755647</td>\n",
       "      <td>0.244353</td>\n",
       "    </tr>\n",
       "  </tbody>\n",
       "</table>\n",
       "</div>"
      ],
      "text/plain": [
       "Survived         0         1\n",
       "Pclass                      \n",
       "1         0.370370  0.629630\n",
       "2         0.527174  0.472826\n",
       "3         0.755647  0.244353"
      ]
     },
     "execution_count": 16,
     "metadata": {},
     "output_type": "execute_result"
    }
   ],
   "source": [
    "# 카테고리\n",
    "titanic.groupby('Pclass').Survived.value_counts(normalize=True).unstack()"
   ]
  },
  {
   "cell_type": "markdown",
   "id": "f6986c37",
   "metadata": {},
   "source": [
    "### 시각화"
   ]
  },
  {
   "cell_type": "code",
   "execution_count": 17,
   "id": "47eb6302",
   "metadata": {
    "scrolled": true
   },
   "outputs": [
    {
     "data": {
      "image/png": "[encoded data removed]",
      "text/plain": [
       "<Figure size 1000x500 with 3 Axes>"
      ]
     },
     "metadata": {},
     "output_type": "display_data"
    }
   ],
   "source": [
    "plt.rcParams['font.family']='Malgun Gothic'\n",
    "\n",
    "pclass_survived = titanic.groupby(['Pclass', 'Survived']).size()\n",
    "\n",
    "fig, ax = plt.subplots(1,3)\n",
    "fig.set_size_inches(10,5)\n",
    "\n",
    "labels=['사망자', '생존자']\n",
    "colors=['#abcdef', '#fedcba']\n",
    "\n",
    "for idx in range(0,3):\n",
    "    ax[idx].pie(pclass_survived[idx+1],\n",
    "          autopct='%.0f%%',\n",
    "          explode=[0.1, 0],\n",
    "          labels=labels,\n",
    "          colors=colors,\n",
    "          counterclock=False,)\n",
    "    ax[idx].set_title(f'{idx+1}등실')\n",
    "\n",
    "# plt.show()\n",
    "plt.savefig('등실별 생존 사망 비율', dpi=150)"
   ]
  },
  {
   "cell_type": "markdown",
   "id": "823e1164",
   "metadata": {},
   "source": [
    "### 결론\n",
    "- [가설2] 1등실 승객의 생존율이 가장 높을 것이다\n",
    "    - 승객 총 887명 \n",
    "        - 1등실 인원 216명 : 생존자 136명(약 63%)\n",
    "        - 2등실 인원 184명 : 생존자 87명(약 47%)\n",
    "        - 3등실 인원 487명 : 생존자 119명(약 24%)\n",
    "        \n",
    "    - 생존율이 가장 높은 등실은 약 63%로 1등실 승객이 가장 높고, 다음으로 약 47%인 2등실, 마지막으로 약 24%인 3등실 순이었다."
   ]
  },
  {
   "cell_type": "markdown",
   "id": "6c82ebb7",
   "metadata": {},
   "source": [
    "- “고령자”란 55세 이상인 사람을 말합니다\n",
    "- 「고용상 연령차별금지 및 고령자고용촉진에 관한 법률」 제2조제1호 \n",
    "- 「고용상 연령차별금지 및 고령자고용촉진에 관한 법률 시행령」 제2조제1항"
   ]
  },
  {
   "cell_type": "markdown",
   "id": "4165e442",
   "metadata": {},
   "source": [
    "## [가설 3] 사망자 고령비율"
   ]
  },
  {
   "cell_type": "markdown",
   "id": "5a27befb",
   "metadata": {},
   "source": [
    "### 분석"
   ]
  },
  {
   "cell_type": "code",
   "execution_count": 18,
   "id": "82b9af17",
   "metadata": {},
   "outputs": [],
   "source": [
    "# 연속형 -> 범주형\n",
    "# 범주 : 55세 미만, 55세 이상\n",
    "\n",
    "# 방법 1. 직접 레이블링 -> object\n",
    "# 레이블링(labeling) : 분류된 데이터나 정보에 이름(label)을 부여\n",
    "# 55세 미만 - A\n",
    "# 55세 이상 - B\n",
    "\n",
    "# 1-1. 모든 값이 0인 AgeBand 컬럼 추가\n",
    "titanic['AgeBand'] = 0\n",
    "\n",
    "# 1-2. 55세 미만 - A, 55세 이상 - B\n",
    "for idx, age in enumerate(titanic.Age, 0):\n",
    "    titanic.iloc[idx, -1] = 'A' if (age < 55) else 'B'"
   ]
  },
  {
   "cell_type": "code",
   "execution_count": 19,
   "id": "119c1755",
   "metadata": {},
   "outputs": [],
   "source": [
    "# 방법 2. cut() -> category\n",
    "\n",
    "# cut함수를 통해 레이블링 후 AgeCut컬럼에 대입\n",
    "titanic['AgeCut'] = pd.cut(titanic.Age, bins=[0, 54, 80], labels=['A', 'B'])"
   ]
  },
  {
   "cell_type": "code",
   "execution_count": 20,
   "id": "f9b062ff",
   "metadata": {},
   "outputs": [],
   "source": [
    "# 사망자 데이터 추출 : 545명\n",
    "g_agecut = titanic[titanic.Survived==0].groupby('AgeCut').size().to_frame() # 시리즈를 프레임으로"
   ]
  },
  {
   "cell_type": "code",
   "execution_count": 21,
   "id": "515a87ae",
   "metadata": {},
   "outputs": [
    {
     "data": {
      "text/html": [
       "<div>\n",
       "<style scoped>\n",
       "    .dataframe tbody tr th:only-of-type {\n",
       "        vertical-align: middle;\n",
       "    }\n",
       "\n",
       "    .dataframe tbody tr th {\n",
       "        vertical-align: top;\n",
       "    }\n",
       "\n",
       "    .dataframe thead th {\n",
       "        text-align: right;\n",
       "    }\n",
       "</style>\n",
       "<table border=\"1\" class=\"dataframe\">\n",
       "  <thead>\n",
       "    <tr style=\"text-align: right;\">\n",
       "      <th></th>\n",
       "      <th>0</th>\n",
       "      <th>rate</th>\n",
       "    </tr>\n",
       "    <tr>\n",
       "      <th>AgeCut</th>\n",
       "      <th></th>\n",
       "      <th></th>\n",
       "    </tr>\n",
       "  </thead>\n",
       "  <tbody>\n",
       "    <tr>\n",
       "      <th>A</th>\n",
       "      <td>509</td>\n",
       "      <td>0.933945</td>\n",
       "    </tr>\n",
       "    <tr>\n",
       "      <th>B</th>\n",
       "      <td>36</td>\n",
       "      <td>0.066055</td>\n",
       "    </tr>\n",
       "  </tbody>\n",
       "</table>\n",
       "</div>"
      ],
      "text/plain": [
       "          0      rate\n",
       "AgeCut               \n",
       "A       509  0.933945\n",
       "B        36  0.066055"
      ]
     },
     "execution_count": 21,
     "metadata": {},
     "output_type": "execute_result"
    }
   ],
   "source": [
    "# 55세 이상 미만의 사망자 비율 rate컬럼으로 추가\n",
    "g_agecut['rate'] = g_agecut / g_agecut.sum()\n",
    "g_agecut"
   ]
  },
  {
   "cell_type": "code",
   "execution_count": 22,
   "id": "05f6f719",
   "metadata": {},
   "outputs": [
    {
     "data": {
      "text/html": [
       "<div>\n",
       "<style scoped>\n",
       "    .dataframe tbody tr th:only-of-type {\n",
       "        vertical-align: middle;\n",
       "    }\n",
       "\n",
       "    .dataframe tbody tr th {\n",
       "        vertical-align: top;\n",
       "    }\n",
       "\n",
       "    .dataframe thead th {\n",
       "        text-align: right;\n",
       "    }\n",
       "</style>\n",
       "<table border=\"1\" class=\"dataframe\">\n",
       "  <thead>\n",
       "    <tr style=\"text-align: right;\">\n",
       "      <th></th>\n",
       "      <th>0</th>\n",
       "      <th>rate</th>\n",
       "    </tr>\n",
       "    <tr>\n",
       "      <th>AgeCut</th>\n",
       "      <th></th>\n",
       "      <th></th>\n",
       "    </tr>\n",
       "  </thead>\n",
       "  <tbody>\n",
       "    <tr>\n",
       "      <th>A</th>\n",
       "      <td>509</td>\n",
       "      <td>0.933945</td>\n",
       "    </tr>\n",
       "    <tr>\n",
       "      <th>B</th>\n",
       "      <td>36</td>\n",
       "      <td>0.066055</td>\n",
       "    </tr>\n",
       "  </tbody>\n",
       "</table>\n",
       "</div>"
      ],
      "text/plain": [
       "          0      rate\n",
       "AgeCut               \n",
       "A       509  0.933945\n",
       "B        36  0.066055"
      ]
     },
     "execution_count": 22,
     "metadata": {},
     "output_type": "execute_result"
    }
   ],
   "source": [
    "g_agecut[0] = g_agecut[0].astype(int)\n",
    "g_agecut"
   ]
  },
  {
   "cell_type": "markdown",
   "id": "b0495856",
   "metadata": {},
   "source": [
    "### 시각화"
   ]
  },
  {
   "cell_type": "code",
   "execution_count": 23,
   "id": "b8703f5d",
   "metadata": {},
   "outputs": [
    {
     "data": {
      "image/png": "[encoded data removed]",
      "text/plain": [
       "<Figure size 500x500 with 1 Axes>"
      ]
     },
     "metadata": {},
     "output_type": "display_data"
    }
   ],
   "source": [
    "plt.rc('font', family='Malgun Gothic')\n",
    "\n",
    "# 시각화\n",
    "g_agecut[0][['A','B']].plot(\n",
    "    kind='pie',\n",
    "    title='사망자 중 고령자 비율',\n",
    "    figsize=(5, 5),\n",
    "    autopct='%.f%%',\n",
    "    labels=['55세 미만', '55세 이상'],\n",
    "    explode=[0, 0.3],\n",
    "    colors=['#abcdef', '#fedcba'],\n",
    "    ylabel='',\n",
    "    shadow=True\n",
    ")\n",
    "\n",
    "plt.savefig('사망자 중 고령자 비율.png')"
   ]
  },
  {
   "cell_type": "markdown",
   "id": "e0cc6a0c",
   "metadata": {},
   "source": [
    "### 결론\n",
    "- [가설 3] 사망자는 고령자가 많을 것이다.\n",
    "    - 사망자 총 545명 중 고령자는 36명(약 7%)로 나타났다.\n",
    "    - 사망자의 약 93%는 고령자가 아닌 55세 미만으로 나타났다."
   ]
  }
 ],
 "metadata": {
  "kernelspec": {
   "display_name": "ex_kernel",
   "language": "python",
   "name": "ex"
  },
  "language_info": {
   "codemirror_mode": {
    "name": "ipython",
    "version": 3
   },
   "file_extension": ".py",
   "mimetype": "text/x-python",
   "name": "python",
   "nbconvert_exporter": "python",
   "pygments_lexer": "ipython3",
   "version": "3.8.10"
  },
  "toc": {
   "base_numbering": 1,
   "nav_menu": {},
   "number_sections": true,
   "sideBar": true,
   "skip_h1_title": false,
   "title_cell": "Table of Contents",
   "title_sidebar": "Contents",
   "toc_cell": false,
   "toc_position": {
    "height": "calc(100% - 180px)",
    "left": "10px",
    "top": "150px",
    "width": "266px"
   },
   "toc_section_display": true,
   "toc_window_display": true
  }
 },
 "nbformat": 4,
 "nbformat_minor": 5
}
