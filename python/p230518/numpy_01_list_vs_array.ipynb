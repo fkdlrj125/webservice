{
 "cells": [
  {
   "cell_type": "code",
   "execution_count": 3,
   "id": "077ac6d8",
   "metadata": {},
   "outputs": [],
   "source": [
    "import numpy as np"
   ]
  },
  {
   "cell_type": "markdown",
   "id": "8ab548cb",
   "metadata": {},
   "source": [
    "# 요소 차이\n",
    "- list : 숫자형, 문자열 등 모든 자료 타입을 가질 수 있음(여러 자료형 허용)\n",
    "- array : 숫자형과 문자열이 혼합되면 모두 문자열로 변환(여러 자료형 불가)"
   ]
  },
  {
   "cell_type": "code",
   "execution_count": 4,
   "id": "f4b10b48",
   "metadata": {},
   "outputs": [],
   "source": [
    "lt = [1, 3, 'a', 'b']\n",
    "ar = np.array([1, 3, 'a', 'b'])"
   ]
  },
  {
   "cell_type": "code",
   "execution_count": 5,
   "id": "9727c073",
   "metadata": {},
   "outputs": [
    {
     "data": {
      "text/plain": [
       "[1, 3, 'a', 'b']"
      ]
     },
     "execution_count": 5,
     "metadata": {},
     "output_type": "execute_result"
    }
   ],
   "source": [
    "lt"
   ]
  },
  {
   "cell_type": "code",
   "execution_count": 6,
   "id": "99557b02",
   "metadata": {},
   "outputs": [
    {
     "data": {
      "text/plain": [
       "array(['1', '3', 'a', 'b'], dtype='<U11')"
      ]
     },
     "execution_count": 6,
     "metadata": {},
     "output_type": "execute_result"
    }
   ],
   "source": [
    "ar"
   ]
  },
  {
   "cell_type": "markdown",
   "id": "56cdaf59",
   "metadata": {},
   "source": [
    "# 2차원 이상일 경우, 원소 개수\n",
    "- list : 모든 요소의 길이가 달라도 가능\n",
    "- array : 모든 요소의 길이가 같아야 함"
   ]
  },
  {
   "cell_type": "code",
   "execution_count": 8,
   "id": "92099157",
   "metadata": {},
   "outputs": [
    {
     "ename": "ValueError",
     "evalue": "setting an array element with a sequence. The requested array has an inhomogeneous shape after 1 dimensions. The detected shape was (3,) + inhomogeneous part.",
     "output_type": "error",
     "traceback": [
      "\u001b[1;31m---------------------------------------------------------------------------\u001b[0m",
      "\u001b[1;31mValueError\u001b[0m                                Traceback (most recent call last)",
      "Cell \u001b[1;32mIn[8], line 2\u001b[0m\n\u001b[0;32m      1\u001b[0m lt \u001b[38;5;241m=\u001b[39m [[\u001b[38;5;241m1\u001b[39m], [\u001b[38;5;241m3\u001b[39m, \u001b[38;5;241m5\u001b[39m], [\u001b[38;5;241m7\u001b[39m, \u001b[38;5;241m9\u001b[39m, \u001b[38;5;241m10\u001b[39m]]\n\u001b[1;32m----> 2\u001b[0m ar \u001b[38;5;241m=\u001b[39m \u001b[43mnp\u001b[49m\u001b[38;5;241;43m.\u001b[39;49m\u001b[43marray\u001b[49m\u001b[43m(\u001b[49m\u001b[43m[\u001b[49m\u001b[43m[\u001b[49m\u001b[38;5;241;43m1\u001b[39;49m\u001b[43m]\u001b[49m\u001b[43m,\u001b[49m\u001b[43m \u001b[49m\u001b[43m[\u001b[49m\u001b[38;5;241;43m3\u001b[39;49m\u001b[43m,\u001b[49m\u001b[43m \u001b[49m\u001b[38;5;241;43m5\u001b[39;49m\u001b[43m]\u001b[49m\u001b[43m,\u001b[49m\u001b[43m \u001b[49m\u001b[43m[\u001b[49m\u001b[38;5;241;43m7\u001b[39;49m\u001b[43m,\u001b[49m\u001b[43m \u001b[49m\u001b[38;5;241;43m9\u001b[39;49m\u001b[43m,\u001b[49m\u001b[43m \u001b[49m\u001b[38;5;241;43m10\u001b[39;49m\u001b[43m]\u001b[49m\u001b[43m]\u001b[49m\u001b[43m)\u001b[49m\n",
      "\u001b[1;31mValueError\u001b[0m: setting an array element with a sequence. The requested array has an inhomogeneous shape after 1 dimensions. The detected shape was (3,) + inhomogeneous part."
     ]
    }
   ],
   "source": [
    "lt = [[1], [3, 5], [7, 9, 10]]\n",
    "# ar = np.array([[1], [3, 5], [7, 9, 10]]) # Error"
   ]
  },
  {
   "cell_type": "code",
   "execution_count": 9,
   "id": "5786fea6",
   "metadata": {},
   "outputs": [],
   "source": [
    "ar = np.array([[1, 3], [3, 5], [7, 9]])"
   ]
  },
  {
   "cell_type": "code",
   "execution_count": 10,
   "id": "778851f4",
   "metadata": {},
   "outputs": [
    {
     "data": {
      "text/plain": [
       "[[1], [3, 5], [7, 9, 10]]"
      ]
     },
     "execution_count": 10,
     "metadata": {},
     "output_type": "execute_result"
    }
   ],
   "source": [
    "lt"
   ]
  },
  {
   "cell_type": "code",
   "execution_count": 11,
   "id": "4778b1ba",
   "metadata": {
    "scrolled": true
   },
   "outputs": [
    {
     "data": {
      "text/plain": [
       "array([[1, 3],\n",
       "       [3, 5],\n",
       "       [7, 9]])"
      ]
     },
     "execution_count": 11,
     "metadata": {},
     "output_type": "execute_result"
    }
   ],
   "source": [
    "ar"
   ]
  },
  {
   "cell_type": "markdown",
   "id": "c4248968",
   "metadata": {},
   "source": [
    "# 연산\n",
    "- list \n",
    "    - + : 결합\n",
    "    - -,/ : Error\n",
    "    - * : 반복\n",
    "- array  \n",
    "    - 사칙연산 가능\n",
    "    - 배열끼리 연산은 길이가 같아야 가능\n",
    "    - 숫자형 데이터와 연산하면 모든 요소에 적용"
   ]
  },
  {
   "cell_type": "code",
   "execution_count": 12,
   "id": "57da8f73",
   "metadata": {},
   "outputs": [
    {
     "data": {
      "text/plain": [
       "[1, 3, 5, 2, 4, 6]"
      ]
     },
     "execution_count": 12,
     "metadata": {},
     "output_type": "execute_result"
    }
   ],
   "source": [
    "lt_one = [1, 3, 5]\n",
    "lt_two = [2, 4, 6]\n",
    "\n",
    "# 덧셈\n",
    "lt_one + lt_two"
   ]
  },
  {
   "cell_type": "code",
   "execution_count": 14,
   "id": "bdcb7deb",
   "metadata": {},
   "outputs": [
    {
     "ename": "TypeError",
     "evalue": "unsupported operand type(s) for -: 'list' and 'list'",
     "output_type": "error",
     "traceback": [
      "\u001b[1;31m---------------------------------------------------------------------------\u001b[0m",
      "\u001b[1;31mTypeError\u001b[0m                                 Traceback (most recent call last)",
      "Cell \u001b[1;32mIn[14], line 2\u001b[0m\n\u001b[0;32m      1\u001b[0m \u001b[38;5;66;03m# 뺄셈\u001b[39;00m\n\u001b[1;32m----> 2\u001b[0m \u001b[43mlt_one\u001b[49m\u001b[43m \u001b[49m\u001b[38;5;241;43m-\u001b[39;49m\u001b[43m \u001b[49m\u001b[43mlt_two\u001b[49m\n",
      "\u001b[1;31mTypeError\u001b[0m: unsupported operand type(s) for -: 'list' and 'list'"
     ]
    }
   ],
   "source": [
    "# 뺄셈\n",
    "# lt_one - lt_two #Error"
   ]
  },
  {
   "cell_type": "code",
   "execution_count": 15,
   "id": "526e5e00",
   "metadata": {},
   "outputs": [
    {
     "data": {
      "text/plain": [
       "[1, 3, 5, 1, 3, 5, 1, 3, 5]"
      ]
     },
     "execution_count": 15,
     "metadata": {},
     "output_type": "execute_result"
    }
   ],
   "source": [
    "# 곱셈\n",
    "lt_one * 3"
   ]
  },
  {
   "cell_type": "code",
   "execution_count": 18,
   "id": "576684a8",
   "metadata": {},
   "outputs": [
    {
     "data": {
      "text/plain": [
       "array([ 3,  7, 11])"
      ]
     },
     "execution_count": 18,
     "metadata": {},
     "output_type": "execute_result"
    }
   ],
   "source": [
    "ar_one = np.array([1, 3, 5])\n",
    "ar_two = np.array([2, 4, 6])\n",
    "\n",
    "ar_one + ar_two"
   ]
  },
  {
   "cell_type": "code",
   "execution_count": 17,
   "id": "66bb544a",
   "metadata": {},
   "outputs": [
    {
     "ename": "ValueError",
     "evalue": "operands could not be broadcast together with shapes (3,) (4,) ",
     "output_type": "error",
     "traceback": [
      "\u001b[1;31m---------------------------------------------------------------------------\u001b[0m",
      "\u001b[1;31mValueError\u001b[0m                                Traceback (most recent call last)",
      "Cell \u001b[1;32mIn[17], line 4\u001b[0m\n\u001b[0;32m      1\u001b[0m ar_one \u001b[38;5;241m=\u001b[39m np\u001b[38;5;241m.\u001b[39marray([\u001b[38;5;241m1\u001b[39m, \u001b[38;5;241m3\u001b[39m, \u001b[38;5;241m5\u001b[39m])\n\u001b[0;32m      2\u001b[0m ar_two \u001b[38;5;241m=\u001b[39m np\u001b[38;5;241m.\u001b[39marray([\u001b[38;5;241m2\u001b[39m, \u001b[38;5;241m4\u001b[39m, \u001b[38;5;241m6\u001b[39m, \u001b[38;5;241m8\u001b[39m])\n\u001b[1;32m----> 4\u001b[0m \u001b[43mar_one\u001b[49m\u001b[43m \u001b[49m\u001b[38;5;241;43m+\u001b[39;49m\u001b[43m \u001b[49m\u001b[43mar_two\u001b[49m\n",
      "\u001b[1;31mValueError\u001b[0m: operands could not be broadcast together with shapes (3,) (4,) "
     ]
    }
   ],
   "source": [
    "# ar_one = np.array([1, 3, 5])\n",
    "# ar_two = np.array([2, 4, 6, 8])\n",
    "\n",
    "# ar_one + ar_two # 길이가 서로 다른 배열끼리 연산하면 Error"
   ]
  },
  {
   "cell_type": "code",
   "execution_count": 19,
   "id": "c16a107a",
   "metadata": {},
   "outputs": [
    {
     "data": {
      "text/plain": [
       "array([-1, -1, -1])"
      ]
     },
     "execution_count": 19,
     "metadata": {},
     "output_type": "execute_result"
    }
   ],
   "source": [
    "ar_one - ar_two"
   ]
  },
  {
   "cell_type": "code",
   "execution_count": 20,
   "id": "35ce4723",
   "metadata": {},
   "outputs": [
    {
     "data": {
      "text/plain": [
       "array([ 2, 12, 30])"
      ]
     },
     "execution_count": 20,
     "metadata": {},
     "output_type": "execute_result"
    }
   ],
   "source": [
    "ar_one * ar_two"
   ]
  },
  {
   "cell_type": "code",
   "execution_count": 21,
   "id": "5740235c",
   "metadata": {},
   "outputs": [
    {
     "data": {
      "text/plain": [
       "array([0.5       , 0.75      , 0.83333333])"
      ]
     },
     "execution_count": 21,
     "metadata": {},
     "output_type": "execute_result"
    }
   ],
   "source": [
    "ar_one / ar_two"
   ]
  },
  {
   "cell_type": "code",
   "execution_count": 23,
   "id": "7feb5e1d",
   "metadata": {},
   "outputs": [
    {
     "data": {
      "text/plain": [
       "array([2, 4, 6])"
      ]
     },
     "execution_count": 23,
     "metadata": {},
     "output_type": "execute_result"
    }
   ],
   "source": [
    "ar_one + 1"
   ]
  },
  {
   "cell_type": "code",
   "execution_count": 24,
   "id": "ef852ee8",
   "metadata": {},
   "outputs": [
    {
     "data": {
      "text/plain": [
       "array([-9, -7, -5])"
      ]
     },
     "execution_count": 24,
     "metadata": {},
     "output_type": "execute_result"
    }
   ],
   "source": [
    "ar_one - 10"
   ]
  },
  {
   "cell_type": "code",
   "execution_count": 22,
   "id": "270265f3",
   "metadata": {},
   "outputs": [
    {
     "data": {
      "text/plain": [
       "array([ 2,  6, 10])"
      ]
     },
     "execution_count": 22,
     "metadata": {},
     "output_type": "execute_result"
    }
   ],
   "source": [
    "ar_one * 2"
   ]
  },
  {
   "cell_type": "code",
   "execution_count": 25,
   "id": "2e91c59c",
   "metadata": {},
   "outputs": [
    {
     "data": {
      "text/plain": [
       "array([0.2, 0.6, 1. ])"
      ]
     },
     "execution_count": 25,
     "metadata": {},
     "output_type": "execute_result"
    }
   ],
   "source": [
    "ar_one / 5"
   ]
  },
  {
   "cell_type": "markdown",
   "id": "acb6354b",
   "metadata": {},
   "source": [
    "# 연산 속도\n",
    "- time.time()\n",
    "    - 1970년 1월 1일 0시 0분 0초 이후 경과한 시간을 초단위로 반환\n",
    "    - 정수부는 초단위이고, 소수부는 마이크로(micro) 초단위\n",
    "    - 마이크로초(micro-second) : 백만 분의 1초"
   ]
  },
  {
   "cell_type": "code",
   "execution_count": 39,
   "id": "bd765fb3",
   "metadata": {},
   "outputs": [
    {
     "name": "stdout",
     "output_type": "stream",
     "text": [
      "9.610230207443237\n"
     ]
    }
   ],
   "source": [
    "import time\n",
    "\n",
    "# 리스트 연산 속도\n",
    "lt = list(range(10 ** 8))\n",
    "\n",
    "start = time.time()\n",
    "\n",
    "for i in lt:\n",
    "    lt[i] *= 2\n",
    "    \n",
    "end = time.time()\n",
    "\n",
    "print(end - start)"
   ]
  },
  {
   "cell_type": "code",
   "execution_count": 40,
   "id": "5470682c",
   "metadata": {},
   "outputs": [
    {
     "name": "stdout",
     "output_type": "stream",
     "text": [
      "0.10402250289916992\n"
     ]
    }
   ],
   "source": [
    "# 배열 연산 속도\n",
    "ar = np.array(range(10 ** 8))\n",
    "\n",
    "start = time.time()\n",
    "\n",
    "ar * 2\n",
    "    \n",
    "end = time.time()\n",
    "\n",
    "print(end - start)"
   ]
  }
 ],
 "metadata": {
  "kernelspec": {
   "display_name": "ex_kernel",
   "language": "python",
   "name": "ex"
  },
  "language_info": {
   "codemirror_mode": {
    "name": "ipython",
    "version": 3
   },
   "file_extension": ".py",
   "mimetype": "text/x-python",
   "name": "python",
   "nbconvert_exporter": "python",
   "pygments_lexer": "ipython3",
   "version": "3.8.10"
  },
  "toc": {
   "base_numbering": 1,
   "nav_menu": {},
   "number_sections": true,
   "sideBar": true,
   "skip_h1_title": false,
   "title_cell": "Table of Contents",
   "title_sidebar": "Contents",
   "toc_cell": false,
   "toc_position": {},
   "toc_section_display": true,
   "toc_window_display": false
  }
 },
 "nbformat": 4,
 "nbformat_minor": 5
}
