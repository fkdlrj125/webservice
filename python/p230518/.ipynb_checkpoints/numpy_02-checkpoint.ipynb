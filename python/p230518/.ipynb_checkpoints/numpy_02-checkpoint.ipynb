{
 "cells": [
  {
   "cell_type": "markdown",
   "id": "8ca684bb",
   "metadata": {},
   "source": [
    "# numpy ndarray 개요\n",
    "- ndarray : n-dimentinal array(n차원 배열)"
   ]
  },
  {
   "cell_type": "code",
   "execution_count": 2,
   "id": "808b9334",
   "metadata": {},
   "outputs": [],
   "source": [
    "import numpy as np"
   ]
  },
  {
   "cell_type": "code",
   "execution_count": 8,
   "id": "1b385536",
   "metadata": {},
   "outputs": [
    {
     "name": "stdout",
     "output_type": "stream",
     "text": [
      "lt 타입 >> <class 'list'>\n",
      "ar 타입 >> <class 'numpy.ndarray'>\n",
      "ar.shape >> (3,)\n",
      "ar.shape 타입 >> <class 'tuple'>\n"
     ]
    }
   ],
   "source": [
    "lt = [1, 2, 3]\n",
    "print('lt 타입 >>', type(lt))\n",
    "\n",
    "ar = np.array(lt)\n",
    "print('ar 타입 >>', type(ar))\n",
    "\n",
    "print('ar.shape >>', ar.shape)\n",
    "print('ar.shape 타입 >>', type(ar.shape))"
   ]
  },
  {
   "cell_type": "code",
   "execution_count": 12,
   "id": "6fe8cd93",
   "metadata": {},
   "outputs": [
    {
     "name": "stdout",
     "output_type": "stream",
     "text": [
      "ar2 타입 >> <class 'numpy.ndarray'>\n",
      "ar2.shape >> (2, 3)\n",
      "ar2.shape >> <class 'tuple'>\n"
     ]
    },
    {
     "data": {
      "text/plain": [
       "array([[1, 2, 3],\n",
       "       [2, 3, 4]])"
      ]
     },
     "execution_count": 12,
     "metadata": {},
     "output_type": "execute_result"
    }
   ],
   "source": [
    "ar2 = np.array([\n",
    "    [1, 2, 3],\n",
    "    [2, 3, 4], \n",
    "])\n",
    "\n",
    "print('ar2 타입 >>', type(ar2))\n",
    "print('ar2.shape >>', ar2.shape)\n",
    "print('ar2.shape >>', type(ar2.shape))\n",
    "ar2"
   ]
  },
  {
   "cell_type": "code",
   "execution_count": 13,
   "id": "4e627d8b",
   "metadata": {},
   "outputs": [
    {
     "name": "stdout",
     "output_type": "stream",
     "text": [
      "ar3 타입 >> <class 'numpy.ndarray'>\n",
      "ar3.shape >> (1, 3)\n",
      "ar3.shape >> <class 'tuple'>\n"
     ]
    },
    {
     "data": {
      "text/plain": [
       "array([[1, 2, 3]])"
      ]
     },
     "execution_count": 13,
     "metadata": {},
     "output_type": "execute_result"
    }
   ],
   "source": [
    "ar3 = np.array([\n",
    "    [1, 2, 3]\n",
    "])\n",
    "\n",
    "print('ar3 타입 >>', type(ar3))\n",
    "print('ar3.shape >>', ar3.shape)\n",
    "print('ar3.shape >>', type(ar3.shape))\n",
    "ar3"
   ]
  },
  {
   "cell_type": "code",
   "execution_count": 14,
   "id": "934a9d66",
   "metadata": {},
   "outputs": [
    {
     "data": {
      "text/plain": [
       "1"
      ]
     },
     "execution_count": 14,
     "metadata": {},
     "output_type": "execute_result"
    }
   ],
   "source": [
    "ar.ndim"
   ]
  },
  {
   "cell_type": "code",
   "execution_count": 16,
   "id": "13ab0a21",
   "metadata": {},
   "outputs": [
    {
     "data": {
      "text/plain": [
       "'ar : 1차원, ar2 : 2차원, ar3 : 2차원'"
      ]
     },
     "execution_count": 16,
     "metadata": {},
     "output_type": "execute_result"
    }
   ],
   "source": [
    "f'ar : {ar.ndim}차원, ar2 : {ar2.ndim}차원, ar3 : {ar3.ndim}차원'"
   ]
  },
  {
   "cell_type": "markdown",
   "id": "88cc0285",
   "metadata": {},
   "source": [
    "# ndarray 데이터 타입"
   ]
  },
  {
   "cell_type": "code",
   "execution_count": 20,
   "id": "792e1176",
   "metadata": {},
   "outputs": [
    {
     "name": "stdout",
     "output_type": "stream",
     "text": [
      "ar type >> <class 'numpy.ndarray'>\n",
      "ar dtype >> float64\n",
      "ar shape >> (4,)\n"
     ]
    },
    {
     "data": {
      "text/plain": [
       "array([1. , 2. , 3. , 2.5])"
      ]
     },
     "execution_count": 20,
     "metadata": {},
     "output_type": "execute_result"
    }
   ],
   "source": [
    "ar = np.array([1, 2, 3, 2.5])\n",
    "print('ar type >>', type(ar))\n",
    "print('ar dtype >>', ar.dtype)\n",
    "print('ar shape >>', ar.shape)\n",
    "ar"
   ]
  },
  {
   "cell_type": "code",
   "execution_count": 21,
   "id": "fd71fbee",
   "metadata": {},
   "outputs": [
    {
     "data": {
      "text/plain": [
       "array(['1', '2', 'test'], dtype='<U11')"
      ]
     },
     "execution_count": 21,
     "metadata": {},
     "output_type": "execute_result"
    }
   ],
   "source": [
    "ar2 = np.array([1, 2, 'test'])\n",
    "ar2"
   ]
  },
  {
   "cell_type": "code",
   "execution_count": 34,
   "id": "22f81059",
   "metadata": {},
   "outputs": [
    {
     "name": "stdout",
     "output_type": "stream",
     "text": [
      "ar_int >> [1 2 3]\n",
      "ar_int type >> int32\n",
      "\n",
      "ar_float >> [1. 2. 3.]\n",
      "ar_float type >> float64\n"
     ]
    }
   ],
   "source": [
    "# 타입 변경 : int -> float\n",
    "ar_int = np.array([1, 2, 3])\n",
    "print('ar_int >>', ar_int)\n",
    "print('ar_int type >>', ar_int.dtype, end='\\n\\n')\n",
    "\n",
    "ar_float = ar_int.astype(float)\n",
    "print('ar_float >>', ar_float)\n",
    "print('ar_float type >>', ar_float.dtype)"
   ]
  },
  {
   "cell_type": "code",
   "execution_count": 35,
   "id": "fe93edc4",
   "metadata": {},
   "outputs": [
    {
     "data": {
      "text/plain": [
       "array([1, 2, 3])"
      ]
     },
     "execution_count": 35,
     "metadata": {},
     "output_type": "execute_result"
    }
   ],
   "source": [
    "ar_float2 = np.array([1.1, 2.5, 3.8])\n",
    "ar_float2.astype(int)"
   ]
  },
  {
   "cell_type": "markdown",
   "id": "759d526d",
   "metadata": {},
   "source": [
    "# ndarray를 편하게 생성 - arange, zeros, ones\n",
    "- range : 지정한 범위의 배열\n",
    "- zeros : 모든 요소가 0인 배열\n",
    "- ones : 모든 요소가 1인 배열"
   ]
  },
  {
   "cell_type": "code",
   "execution_count": 39,
   "id": "e9d1c283",
   "metadata": {},
   "outputs": [
    {
     "data": {
      "text/plain": [
       "array([5, 7, 9])"
      ]
     },
     "execution_count": 39,
     "metadata": {},
     "output_type": "execute_result"
    }
   ],
   "source": [
    "np.arange(5, 10, 2)"
   ]
  },
  {
   "cell_type": "code",
   "execution_count": 40,
   "id": "d039580f",
   "metadata": {},
   "outputs": [
    {
     "data": {
      "text/plain": [
       "array([5. , 5.5, 6. , 6.5, 7. , 7.5, 8. , 8.5, 9. , 9.5])"
      ]
     },
     "execution_count": 40,
     "metadata": {},
     "output_type": "execute_result"
    }
   ],
   "source": [
    "np.arange(5, 10, 0.5)"
   ]
  },
  {
   "cell_type": "code",
   "execution_count": 41,
   "id": "9ea9a09c",
   "metadata": {},
   "outputs": [
    {
     "name": "stdout",
     "output_type": "stream",
     "text": [
      "sequence_ar1 >> [0 1 2 3 4 5 6 7 8 9]\n",
      "sequence_ar1 type >> <class 'numpy.ndarray'>\n",
      "sequence_ar1 dtype >> int32\n",
      "sequence_ar1 shape >> (10,)\n"
     ]
    }
   ],
   "source": [
    "sequence_ar1 = np.arange(10)\n",
    "print('sequence_ar1 >>', sequence_ar1)\n",
    "print('sequence_ar1 type >>', type(sequence_ar1))\n",
    "print('sequence_ar1 dtype >>', sequence_ar1.dtype)\n",
    "print('sequence_ar1 shape >>', sequence_ar1.shape)"
   ]
  },
  {
   "cell_type": "code",
   "execution_count": 46,
   "id": "3a9ee570",
   "metadata": {},
   "outputs": [
    {
     "data": {
      "text/plain": [
       "dtype('float64')"
      ]
     },
     "execution_count": 46,
     "metadata": {},
     "output_type": "execute_result"
    }
   ],
   "source": [
    "# 모든 요소가 0인 ndarray 생성\n",
    "# shape : (3, 2)\n",
    "# dtype : int32\n",
    "zero_ar = np.zeros((3,2))\n",
    "zero_ar.dtype"
   ]
  },
  {
   "cell_type": "code",
   "execution_count": 47,
   "id": "cfa9a4db",
   "metadata": {},
   "outputs": [
    {
     "data": {
      "text/plain": [
       "array([[0., 0.],\n",
       "       [0., 0.],\n",
       "       [0., 0.]])"
      ]
     },
     "execution_count": 47,
     "metadata": {},
     "output_type": "execute_result"
    }
   ],
   "source": [
    "zero_ar"
   ]
  },
  {
   "cell_type": "code",
   "execution_count": 48,
   "id": "442d3267",
   "metadata": {},
   "outputs": [
    {
     "data": {
      "text/plain": [
       "dtype('int32')"
      ]
     },
     "execution_count": 48,
     "metadata": {},
     "output_type": "execute_result"
    }
   ],
   "source": [
    "zero_ar = np.zeros((3,2), dtype='int32')\n",
    "zero_ar.dtype"
   ]
  },
  {
   "cell_type": "code",
   "execution_count": 49,
   "id": "0b7166a8",
   "metadata": {},
   "outputs": [
    {
     "data": {
      "text/plain": [
       "array([[0, 0],\n",
       "       [0, 0],\n",
       "       [0, 0]])"
      ]
     },
     "execution_count": 49,
     "metadata": {},
     "output_type": "execute_result"
    }
   ],
   "source": [
    "zero_ar"
   ]
  },
  {
   "cell_type": "code",
   "execution_count": 50,
   "id": "e0fd510c",
   "metadata": {},
   "outputs": [
    {
     "data": {
      "text/plain": [
       "(3, 2)"
      ]
     },
     "execution_count": 50,
     "metadata": {},
     "output_type": "execute_result"
    }
   ],
   "source": [
    "zero_ar.shape"
   ]
  },
  {
   "cell_type": "code",
   "execution_count": 54,
   "id": "52cbc27e",
   "metadata": {},
   "outputs": [
    {
     "name": "stdout",
     "output_type": "stream",
     "text": [
      "[[1. 1.]\n",
      " [1. 1.]\n",
      " [1. 1.]]\n",
      "ones_ar dtype >> float64\n",
      "ones_ar shape >> (3, 2)\n"
     ]
    }
   ],
   "source": [
    "# 모든 요소가 1인 ndarray 생성\n",
    "# shape : (3, 2)\n",
    "# dtype : float64\n",
    "ones_ar = np.ones((3, 2))\n",
    "print(ones_ar)\n",
    "print('ones_ar dtype >>', ones_ar.dtype)\n",
    "print('ones_ar shape >>', ones_ar.shape)"
   ]
  },
  {
   "cell_type": "markdown",
   "id": "b5e214c3",
   "metadata": {},
   "source": [
    "# ndarray의 차원과 크기 변경 : reshape"
   ]
  },
  {
   "cell_type": "code",
   "execution_count": 56,
   "id": "730fe184",
   "metadata": {},
   "outputs": [
    {
     "data": {
      "text/plain": [
       "array([0, 1, 2, 3, 4, 5, 6, 7, 8, 9])"
      ]
     },
     "execution_count": 56,
     "metadata": {},
     "output_type": "execute_result"
    }
   ],
   "source": [
    "ar = np.arange(10)\n",
    "ar"
   ]
  },
  {
   "cell_type": "code",
   "execution_count": 57,
   "id": "0f62742a",
   "metadata": {},
   "outputs": [
    {
     "data": {
      "text/plain": [
       "(10,)"
      ]
     },
     "execution_count": 57,
     "metadata": {},
     "output_type": "execute_result"
    }
   ],
   "source": [
    "ar.shape"
   ]
  },
  {
   "cell_type": "code",
   "execution_count": 59,
   "id": "7f162b71",
   "metadata": {},
   "outputs": [
    {
     "data": {
      "text/plain": [
       "array([[0, 1, 2, 3, 4],\n",
       "       [5, 6, 7, 8, 9]])"
      ]
     },
     "execution_count": 59,
     "metadata": {},
     "output_type": "execute_result"
    }
   ],
   "source": [
    "# 1차원 배열(10,) -> 2차원 배열(2, 5) 변환\n",
    "ar2 = ar.reshape(2, 5)\n",
    "ar2"
   ]
  },
  {
   "cell_type": "code",
   "execution_count": 60,
   "id": "a62e4bc2",
   "metadata": {},
   "outputs": [
    {
     "data": {
      "text/plain": [
       "(2, 5)"
      ]
     },
     "execution_count": 60,
     "metadata": {},
     "output_type": "execute_result"
    }
   ],
   "source": [
    "ar2.shape"
   ]
  },
  {
   "cell_type": "code",
   "execution_count": 62,
   "id": "5e990dbb",
   "metadata": {},
   "outputs": [
    {
     "ename": "ValueError",
     "evalue": "cannot reshape array of size 10 into shape (2,)",
     "output_type": "error",
     "traceback": [
      "\u001b[1;31m---------------------------------------------------------------------------\u001b[0m",
      "\u001b[1;31mValueError\u001b[0m                                Traceback (most recent call last)",
      "Cell \u001b[1;32mIn[62], line 1\u001b[0m\n\u001b[1;32m----> 1\u001b[0m \u001b[43mar\u001b[49m\u001b[38;5;241;43m.\u001b[39;49m\u001b[43mreshape\u001b[49m\u001b[43m(\u001b[49m\u001b[38;5;241;43m2\u001b[39;49m\u001b[43m)\u001b[49m\n",
      "\u001b[1;31mValueError\u001b[0m: cannot reshape array of size 10 into shape (2,)"
     ]
    }
   ],
   "source": [
    "ar.reshape(2, 4) # 차원을 바꿀 때 배열의 크기를 맞춰 바꿔줘야 함"
   ]
  },
  {
   "cell_type": "code",
   "execution_count": 64,
   "id": "dd0229a0",
   "metadata": {},
   "outputs": [
    {
     "name": "stdout",
     "output_type": "stream",
     "text": [
      "[[0 1]\n",
      " [2 3]\n",
      " [4 5]\n",
      " [6 7]\n",
      " [8 9]]\n",
      "(5, 2)\n"
     ]
    }
   ],
   "source": [
    "## 2차원 배열(2, 5) -> 2차원 배열(5, 2)\n",
    "ar3 = ar2.reshape(5,2)\n",
    "print(ar3)\n",
    "print(ar3.shape)"
   ]
  },
  {
   "cell_type": "code",
   "execution_count": 69,
   "id": "fef9755f",
   "metadata": {},
   "outputs": [
    {
     "data": {
      "text/plain": [
       "array([[0, 1, 2, 3, 4],\n",
       "       [5, 6, 7, 8, 9]])"
      ]
     },
     "execution_count": 69,
     "metadata": {},
     "output_type": "execute_result"
    }
   ],
   "source": [
    "# 자동으로 행 또는 열 설정\n",
    "ar4 = ar.reshape(-1, 5)\n",
    "ar4"
   ]
  },
  {
   "cell_type": "code",
   "execution_count": 71,
   "id": "cd6d6170",
   "metadata": {},
   "outputs": [
    {
     "data": {
      "text/plain": [
       "array([[0, 1, 2, 3, 4],\n",
       "       [5, 6, 7, 8, 9]])"
      ]
     },
     "execution_count": 71,
     "metadata": {},
     "output_type": "execute_result"
    }
   ],
   "source": [
    "ar5 = ar.reshape(2, -1)\n",
    "ar5"
   ]
  },
  {
   "cell_type": "code",
   "execution_count": 72,
   "id": "4c3850fe",
   "metadata": {},
   "outputs": [
    {
     "ename": "ValueError",
     "evalue": "cannot reshape array of size 10 into shape (4,newaxis)",
     "output_type": "error",
     "traceback": [
      "\u001b[1;31m---------------------------------------------------------------------------\u001b[0m",
      "\u001b[1;31mValueError\u001b[0m                                Traceback (most recent call last)",
      "Cell \u001b[1;32mIn[72], line 1\u001b[0m\n\u001b[1;32m----> 1\u001b[0m \u001b[43mar\u001b[49m\u001b[38;5;241;43m.\u001b[39;49m\u001b[43mreshape\u001b[49m\u001b[43m(\u001b[49m\u001b[38;5;241;43m4\u001b[39;49m\u001b[43m,\u001b[49m\u001b[43m \u001b[49m\u001b[38;5;241;43m-\u001b[39;49m\u001b[38;5;241;43m1\u001b[39;49m\u001b[43m)\u001b[49m\n",
      "\u001b[1;31mValueError\u001b[0m: cannot reshape array of size 10 into shape (4,newaxis)"
     ]
    }
   ],
   "source": [
    "# ar.reshape(4, -1) # 자동으로 행 또는 열을 설정할 수 없으면 에러"
   ]
  },
  {
   "cell_type": "code",
   "execution_count": 73,
   "id": "e5264e7b",
   "metadata": {},
   "outputs": [
    {
     "data": {
      "text/plain": [
       "array([0, 1, 2, 3, 4, 5, 6, 7])"
      ]
     },
     "execution_count": 73,
     "metadata": {},
     "output_type": "execute_result"
    }
   ],
   "source": [
    "ar = np.arange(8)\n",
    "ar"
   ]
  },
  {
   "cell_type": "code",
   "execution_count": 77,
   "id": "8eac5abf",
   "metadata": {},
   "outputs": [
    {
     "data": {
      "text/plain": [
       "[[[0, 1], [2, 3]], [[4, 5], [6, 7]]]"
      ]
     },
     "execution_count": 77,
     "metadata": {},
     "output_type": "execute_result"
    }
   ],
   "source": [
    "# 1차원(8, 0) -> 3차원(2, 2, 2)\n",
    "ar2 = ar.reshape(2, 2, 2)\n",
    "ar2.shape\n",
    "ar2.ndim\n",
    "ar2.tolist()"
   ]
  },
  {
   "cell_type": "code",
   "execution_count": 83,
   "id": "9855483f",
   "metadata": {},
   "outputs": [
    {
     "data": {
      "text/plain": [
       "(4, 2)"
      ]
     },
     "execution_count": 83,
     "metadata": {},
     "output_type": "execute_result"
    }
   ],
   "source": [
    "# 3차원(2, 2, 2) -> 2차원(4, 2)\n",
    "ar3 = ar2.reshape(4, 2)\n",
    "ar3.shape"
   ]
  },
  {
   "cell_type": "code",
   "execution_count": 89,
   "id": "cac3493f",
   "metadata": {},
   "outputs": [
    {
     "data": {
      "text/plain": [
       "array([0, 1, 2, 3, 4, 5, 6, 7])"
      ]
     },
     "execution_count": 89,
     "metadata": {},
     "output_type": "execute_result"
    }
   ],
   "source": [
    "# 3차원(2, 2, 2) -> 1차원(8, 0)\n",
    "# ar4 = ar3.reshape(8,)\n",
    "ar4 = ar2.reshape(-1,)\n",
    "ar4"
   ]
  },
  {
   "cell_type": "markdown",
   "id": "55cb3a19",
   "metadata": {},
   "source": [
    "# ndarray의 요소 선택"
   ]
  },
  {
   "cell_type": "code",
   "execution_count": 90,
   "id": "6084c780",
   "metadata": {},
   "outputs": [
    {
     "data": {
      "text/plain": [
       "array([1, 2, 3, 4, 5, 6, 7, 8, 9])"
      ]
     },
     "execution_count": 90,
     "metadata": {},
     "output_type": "execute_result"
    }
   ],
   "source": [
    "ar = np.arange(start=1, stop=10)\n",
    "ar"
   ]
  },
  {
   "cell_type": "code",
   "execution_count": 94,
   "id": "9dd238c2",
   "metadata": {},
   "outputs": [
    {
     "data": {
      "text/plain": [
       "dtype('int32')"
      ]
     },
     "execution_count": 94,
     "metadata": {},
     "output_type": "execute_result"
    }
   ],
   "source": [
    "ar.dtype"
   ]
  },
  {
   "cell_type": "code",
   "execution_count": 93,
   "id": "32c6299f",
   "metadata": {},
   "outputs": [
    {
     "data": {
      "text/plain": [
       "numpy.int32"
      ]
     },
     "execution_count": 93,
     "metadata": {},
     "output_type": "execute_result"
    }
   ],
   "source": [
    "type(ar[2])"
   ]
  },
  {
   "cell_type": "code",
   "execution_count": 95,
   "id": "2131b500",
   "metadata": {},
   "outputs": [
    {
     "data": {
      "text/plain": [
       "9"
      ]
     },
     "execution_count": 95,
     "metadata": {},
     "output_type": "execute_result"
    }
   ],
   "source": [
    "# 마지막 요소 출력\n",
    "ar[-1]"
   ]
  },
  {
   "cell_type": "code",
   "execution_count": 100,
   "id": "35a1d1be",
   "metadata": {},
   "outputs": [
    {
     "data": {
      "text/plain": [
       "array([9, 2, 3, 4, 5, 6, 7, 8, 0])"
      ]
     },
     "execution_count": 100,
     "metadata": {},
     "output_type": "execute_result"
    }
   ],
   "source": [
    "# 요소 변경\n",
    "# 첫 번째 요수 1 -> 9\n",
    "ar[0] = 9\n",
    "ar"
   ]
  },
  {
   "cell_type": "code",
   "execution_count": 101,
   "id": "949f8d1c",
   "metadata": {},
   "outputs": [
    {
     "data": {
      "text/plain": [
       "array([9, 2, 3, 4, 5, 6, 7, 8, 0])"
      ]
     },
     "execution_count": 101,
     "metadata": {},
     "output_type": "execute_result"
    }
   ],
   "source": [
    "# 마지막 요소 : 9 -> 0\n",
    "ar[-1] = 0 \n",
    "ar"
   ]
  },
  {
   "cell_type": "code",
   "execution_count": 103,
   "id": "ab3d2d8c",
   "metadata": {},
   "outputs": [
    {
     "data": {
      "text/plain": [
       "array([1, 2, 3, 4, 5, 6, 7, 8, 9])"
      ]
     },
     "execution_count": 103,
     "metadata": {},
     "output_type": "execute_result"
    }
   ],
   "source": [
    "ar = np.arange(1, 10)\n",
    "ar"
   ]
  },
  {
   "cell_type": "code",
   "execution_count": 105,
   "id": "2645d0ea",
   "metadata": {},
   "outputs": [
    {
     "data": {
      "text/plain": [
       "array([[1, 2, 3],\n",
       "       [4, 5, 6],\n",
       "       [7, 8, 9]])"
      ]
     },
     "execution_count": 105,
     "metadata": {},
     "output_type": "execute_result"
    }
   ],
   "source": [
    "ar2 = ar.reshape(3, -1)\n",
    "ar2"
   ]
  },
  {
   "cell_type": "code",
   "execution_count": 106,
   "id": "86ccb133",
   "metadata": {},
   "outputs": [
    {
     "data": {
      "text/plain": [
       "(3, 3)"
      ]
     },
     "execution_count": 106,
     "metadata": {},
     "output_type": "execute_result"
    }
   ],
   "source": [
    "ar2.shape"
   ]
  },
  {
   "cell_type": "code",
   "execution_count": 107,
   "id": "82cf0ef0",
   "metadata": {},
   "outputs": [
    {
     "data": {
      "text/plain": [
       "1"
      ]
     },
     "execution_count": 107,
     "metadata": {},
     "output_type": "execute_result"
    }
   ],
   "source": [
    "# 요소(원소) 1을 추출\n",
    "ar2[0][0]"
   ]
  },
  {
   "cell_type": "code",
   "execution_count": 108,
   "id": "bc2641b4",
   "metadata": {},
   "outputs": [
    {
     "data": {
      "text/plain": [
       "1"
      ]
     },
     "execution_count": 108,
     "metadata": {},
     "output_type": "execute_result"
    }
   ],
   "source": [
    "ar2[0, 0] # numpy의 배열만 가능"
   ]
  },
  {
   "cell_type": "code",
   "execution_count": 109,
   "id": "9be5cee8",
   "metadata": {},
   "outputs": [
    {
     "data": {
      "text/plain": [
       "8"
      ]
     },
     "execution_count": 109,
     "metadata": {},
     "output_type": "execute_result"
    }
   ],
   "source": [
    "# 요소(원소) 8을 추출\n",
    "ar2[2,1]"
   ]
  },
  {
   "cell_type": "markdown",
   "id": "10a14509",
   "metadata": {},
   "source": [
    "- 슬라이싱"
   ]
  },
  {
   "cell_type": "code",
   "execution_count": 110,
   "id": "78ba58a0",
   "metadata": {},
   "outputs": [
    {
     "data": {
      "text/plain": [
       "array([1, 2, 3, 4, 5, 6, 7, 8, 9])"
      ]
     },
     "execution_count": 110,
     "metadata": {},
     "output_type": "execute_result"
    }
   ],
   "source": [
    "ar"
   ]
  },
  {
   "cell_type": "code",
   "execution_count": 115,
   "id": "bf0c8c7c",
   "metadata": {},
   "outputs": [
    {
     "data": {
      "text/plain": [
       "array([1, 2, 3])"
      ]
     },
     "execution_count": 115,
     "metadata": {},
     "output_type": "execute_result"
    }
   ],
   "source": [
    "# 요소 1, 2, 3 추출\n",
    "ar[:3]"
   ]
  },
  {
   "cell_type": "code",
   "execution_count": 114,
   "id": "c05901c5",
   "metadata": {},
   "outputs": [
    {
     "data": {
      "text/plain": [
       "(3,)"
      ]
     },
     "execution_count": 114,
     "metadata": {},
     "output_type": "execute_result"
    }
   ],
   "source": [
    "ar[:3].shape"
   ]
  },
  {
   "cell_type": "code",
   "execution_count": 116,
   "id": "45ba90ac",
   "metadata": {},
   "outputs": [
    {
     "data": {
      "text/plain": [
       "array([1, 2, 3, 4, 5, 6, 7, 8, 9])"
      ]
     },
     "execution_count": 116,
     "metadata": {},
     "output_type": "execute_result"
    }
   ],
   "source": [
    "ar[:]"
   ]
  },
  {
   "cell_type": "code",
   "execution_count": 117,
   "id": "dd06011c",
   "metadata": {},
   "outputs": [
    {
     "data": {
      "text/plain": [
       "array([[1, 2, 3],\n",
       "       [4, 5, 6],\n",
       "       [7, 8, 9]])"
      ]
     },
     "execution_count": 117,
     "metadata": {},
     "output_type": "execute_result"
    }
   ],
   "source": [
    "ar2 = ar.reshape(-1, 3)\n",
    "ar2"
   ]
  },
  {
   "cell_type": "code",
   "execution_count": 175,
   "id": "3beb66fe",
   "metadata": {},
   "outputs": [
    {
     "data": {
      "text/plain": [
       "array([[1, 2],\n",
       "       [4, 5]])"
      ]
     },
     "execution_count": 175,
     "metadata": {},
     "output_type": "execute_result"
    }
   ],
   "source": [
    "ar2[:2, :2] # 행과 열 슬라이싱 가능"
   ]
  },
  {
   "cell_type": "code",
   "execution_count": 167,
   "id": "e9202666",
   "metadata": {},
   "outputs": [
    {
     "data": {
      "text/plain": [
       "array([[4, 5, 6],\n",
       "       [7, 8, 9]])"
      ]
     },
     "execution_count": 167,
     "metadata": {},
     "output_type": "execute_result"
    }
   ],
   "source": [
    "ar2[1:]"
   ]
  },
  {
   "cell_type": "code",
   "execution_count": 134,
   "id": "0fafbe34",
   "metadata": {},
   "outputs": [
    {
     "data": {
      "text/plain": [
       "array([[4, 5, 6],\n",
       "       [7, 8, 9]])"
      ]
     },
     "execution_count": 134,
     "metadata": {},
     "output_type": "execute_result"
    }
   ],
   "source": [
    "ar2[-2:]"
   ]
  },
  {
   "cell_type": "code",
   "execution_count": 168,
   "id": "3273a1fa",
   "metadata": {},
   "outputs": [
    {
     "data": {
      "text/plain": [
       "array([[1, 2, 3],\n",
       "       [4, 5, 6],\n",
       "       [7, 8, 9]])"
      ]
     },
     "execution_count": 168,
     "metadata": {},
     "output_type": "execute_result"
    }
   ],
   "source": [
    "ar2[:]"
   ]
  },
  {
   "cell_type": "code",
   "execution_count": 172,
   "id": "316ca3b7",
   "metadata": {},
   "outputs": [
    {
     "data": {
      "text/plain": [
       "array([[2, 3],\n",
       "       [5, 6]])"
      ]
     },
     "execution_count": 172,
     "metadata": {},
     "output_type": "execute_result"
    }
   ],
   "source": [
    "ar2[:2, 1:]"
   ]
  },
  {
   "cell_type": "code",
   "execution_count": 174,
   "id": "0a5827b2",
   "metadata": {},
   "outputs": [
    {
     "data": {
      "text/plain": [
       "array([1, 4])"
      ]
     },
     "execution_count": 174,
     "metadata": {},
     "output_type": "execute_result"
    }
   ],
   "source": [
    "ar2[:2, 0] # 슬라이싱과 인덱싱 혼합 가능\n"
   ]
  },
  {
   "cell_type": "markdown",
   "id": "5ccf488f",
   "metadata": {},
   "source": [
    "# 팬시 인덱싱(fancy indexing)\n",
    "- 배열을 인덱스로 설정\n",
    "- 배열의 요소: 정수(인덱스), 논리값(해당 인덱스를 출력할 지 논리값)\n",
    "- 정수는 배열의 크기와 상관없지만 논리값은 배열의 크기와 맞춰야 함\n",
    "- 정수(인덱스)는 같은 값을 여러 번 쓸 수 있음"
   ]
  },
  {
   "cell_type": "code",
   "execution_count": 176,
   "id": "b312158c",
   "metadata": {},
   "outputs": [
    {
     "data": {
      "text/plain": [
       "array([1, 2, 3, 4, 5])"
      ]
     },
     "execution_count": 176,
     "metadata": {},
     "output_type": "execute_result"
    }
   ],
   "source": [
    "ar = np.arange(1, 6)\n",
    "ar"
   ]
  },
  {
   "cell_type": "markdown",
   "id": "f913d309",
   "metadata": {},
   "source": [
    "- 홀수만 출력"
   ]
  },
  {
   "cell_type": "code",
   "execution_count": 178,
   "id": "8c56f04f",
   "metadata": {},
   "outputs": [
    {
     "data": {
      "text/plain": [
       "array([1, 3, 5])"
      ]
     },
     "execution_count": 178,
     "metadata": {},
     "output_type": "execute_result"
    }
   ],
   "source": [
    "ar[[0, 2, 4]]"
   ]
  },
  {
   "cell_type": "code",
   "execution_count": 180,
   "id": "f3c431d8",
   "metadata": {},
   "outputs": [
    {
     "data": {
      "text/plain": [
       "array([1, 1, 1, 3, 3, 5, 5, 5, 5])"
      ]
     },
     "execution_count": 180,
     "metadata": {},
     "output_type": "execute_result"
    }
   ],
   "source": [
    "ar[[0, 0, 0, 2, 2, 4, 4, 4, 4]]"
   ]
  },
  {
   "cell_type": "code",
   "execution_count": 182,
   "id": "db421020",
   "metadata": {},
   "outputs": [
    {
     "data": {
      "text/plain": [
       "array([1, 3, 5])"
      ]
     },
     "execution_count": 182,
     "metadata": {},
     "output_type": "execute_result"
    }
   ],
   "source": [
    "# 불린 인덱싱(boolean indexing)\n",
    "ar[[True, False, True, False, True]]"
   ]
  },
  {
   "cell_type": "code",
   "execution_count": 186,
   "id": "a7dce9d9",
   "metadata": {},
   "outputs": [
    {
     "data": {
      "text/plain": [
       "array([1, 3, 5])"
      ]
     },
     "execution_count": 186,
     "metadata": {},
     "output_type": "execute_result"
    }
   ],
   "source": [
    "# pandas의 마스크처럼 사용 가능\n",
    "ar[(ar % 2)==1]"
   ]
  },
  {
   "cell_type": "code",
   "execution_count": 194,
   "id": "5b3f2681",
   "metadata": {},
   "outputs": [
    {
     "data": {
      "text/plain": [
       "array([[1, 2, 3],\n",
       "       [4, 5, 6],\n",
       "       [7, 8, 9]])"
      ]
     },
     "execution_count": 194,
     "metadata": {},
     "output_type": "execute_result"
    }
   ],
   "source": [
    "ar2 = np.arange(1, 10).reshape(3, -1)\n",
    "ar2"
   ]
  },
  {
   "cell_type": "code",
   "execution_count": 196,
   "id": "ab6c4cfa",
   "metadata": {},
   "outputs": [
    {
     "data": {
      "text/plain": [
       "array([[1, 2, 3],\n",
       "       [1, 2, 3]])"
      ]
     },
     "execution_count": 196,
     "metadata": {},
     "output_type": "execute_result"
    }
   ],
   "source": [
    "ar2[[0, 0]]"
   ]
  },
  {
   "cell_type": "code",
   "execution_count": 207,
   "id": "b88659ff",
   "metadata": {},
   "outputs": [
    {
     "data": {
      "text/plain": [
       "array([1, 9])"
      ]
     },
     "execution_count": 207,
     "metadata": {},
     "output_type": "execute_result"
    }
   ],
   "source": [
    "# 0,0 2,2의 데이터 추출\n",
    "ar2[[0, 2], [0, 2]]"
   ]
  },
  {
   "cell_type": "code",
   "execution_count": 208,
   "id": "aaabacde",
   "metadata": {},
   "outputs": [
    {
     "data": {
      "text/plain": [
       "array([1, 7])"
      ]
     },
     "execution_count": 208,
     "metadata": {},
     "output_type": "execute_result"
    }
   ],
   "source": [
    "# 0,0 2,0의 데이터 추출\n",
    "ar2[[0, 2], 0]"
   ]
  },
  {
   "cell_type": "code",
   "execution_count": 210,
   "id": "cd5b25d6",
   "metadata": {},
   "outputs": [
    {
     "data": {
      "text/plain": [
       "array([[2, 3],\n",
       "       [8, 9]])"
      ]
     },
     "execution_count": 210,
     "metadata": {},
     "output_type": "execute_result"
    }
   ],
   "source": [
    "# 0,1 ~ 0,2 2,1 ~ 2,2의 데이터 추출\n",
    "ar2[[0, 2], 1:]"
   ]
  },
  {
   "cell_type": "code",
   "execution_count": 216,
   "id": "e5575860",
   "metadata": {},
   "outputs": [
    {
     "data": {
      "text/plain": [
       "array([[1, 3],\n",
       "       [7, 9]])"
      ]
     },
     "execution_count": 216,
     "metadata": {},
     "output_type": "execute_result"
    }
   ],
   "source": [
    "# 0,0 ~ 0,3 2,0 ~ 2,2까지 증가폭 2로 추출\n",
    "ar2[[0, 2], ::2]"
   ]
  },
  {
   "cell_type": "code",
   "execution_count": 212,
   "id": "079268cb",
   "metadata": {},
   "outputs": [],
   "source": [
    "# 다차원 배열의 불린 인덱싱은 배열을 만들어 실행\n",
    "idx = np.array(\n",
    "    [[True, False, True], [False, False, True], [True, False, False]]\n",
    ")"
   ]
  },
  {
   "cell_type": "code",
   "execution_count": 214,
   "id": "14a4ae84",
   "metadata": {},
   "outputs": [
    {
     "data": {
      "text/plain": [
       "array([1, 3, 6, 7])"
      ]
     },
     "execution_count": 214,
     "metadata": {},
     "output_type": "execute_result"
    }
   ],
   "source": [
    "ar2[idx]"
   ]
  }
 ],
 "metadata": {
  "kernelspec": {
   "display_name": "ex_kernel",
   "language": "python",
   "name": "ex"
  },
  "language_info": {
   "codemirror_mode": {
    "name": "ipython",
    "version": 3
   },
   "file_extension": ".py",
   "mimetype": "text/x-python",
   "name": "python",
   "nbconvert_exporter": "python",
   "pygments_lexer": "ipython3",
   "version": "3.8.10"
  },
  "toc": {
   "base_numbering": 1,
   "nav_menu": {},
   "number_sections": true,
   "sideBar": true,
   "skip_h1_title": false,
   "title_cell": "Table of Contents",
   "title_sidebar": "Contents",
   "toc_cell": false,
   "toc_position": {},
   "toc_section_display": true,
   "toc_window_display": false
  }
 },
 "nbformat": 4,
 "nbformat_minor": 5
}
