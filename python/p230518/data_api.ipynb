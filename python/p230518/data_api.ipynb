{
 "cells": [
  {
   "cell_type": "code",
   "execution_count": 13,
   "id": "9839edf3",
   "metadata": {},
   "outputs": [],
   "source": [
    "import requests\n",
    "import pandas as pd\n",
    "import xmltodict\n",
    "import schedule\n",
    "import time\n",
    "from datetime import datetime, timedelta"
   ]
  },
  {
   "cell_type": "code",
   "execution_count": 14,
   "id": "0ce3b54c",
   "metadata": {
    "scrolled": true
   },
   "outputs": [],
   "source": [
    "places = pd.read_csv('서울시 주요 50장소 목록.csv', encoding='cp949')"
   ]
  },
  {
   "cell_type": "code",
   "execution_count": null,
   "id": "f009e756",
   "metadata": {},
   "outputs": [],
   "source": [
    "# AREA_NM : 장소명\n",
    "# LIVE_PPLTN_STTS : 실시간 인구현황\n",
    "# ROAD_TRAFFIC_STTS : 도로소통현황\n",
    "# PRK_STTS : 주차장현황\n",
    "# SUB_STTS : 지하철 실시간 도착 현황\n",
    "# BUS_STN_STTS : 버스정류소 현황\n",
    "# ACDNT_CNTRL_STTS : 사고통제현황\n",
    "# SBIKE_STTS : 따릉이현황\n",
    "# WEATHER_STTS : 날씨현황\n",
    "# COVID_19_STTS : 코로나19현황\n",
    "# AREA_CONGEST_LVL : 장소 혼잡도 지표\n",
    "# AREA_CONGEST_MSG : 장소 혼잡도 지표 관련 메세지\n",
    "# AREA_PPLTN_MIN : 실시간 인구 지표 최소값\n",
    "# AREA_PPLTN_MAX : 실시간 인구 지표 최대값\n",
    "# 성별_PPLTN_RATE : 성별 인구 비율\n",
    "# PPLTN_RATE_나이대 : 나이대 인구 비율\n",
    "# RESNT_PPLTN_RATE : 상주 인구 비율\n",
    "# NON_RESNT_PPLTN_RATE : 비상주 인구 비율\n",
    "# REPLACE_YN : 대체 데이터 여부\n",
    "# PPLTN_TIME : 실시간 인구 데이터 업데이트 시간"
   ]
  },
  {
   "cell_type": "code",
   "execution_count": 102,
   "id": "fd5f6f3f",
   "metadata": {},
   "outputs": [],
   "source": [
    "place_df = pd.DataFrame(columns=['수집일시', '장소', '최대인구', '최소인구', '10대', '2030대', '4050대', '6070대'])"
   ]
  },
  {
   "cell_type": "code",
   "execution_count": 100,
   "id": "ca487dcf",
   "metadata": {
    "scrolled": true
   },
   "outputs": [
    {
     "name": "stdout",
     "output_type": "stream",
     "text": [
      "추가 완료\n",
      "\n"
     ]
    },
    {
     "ename": "KeyboardInterrupt",
     "evalue": "",
     "output_type": "error",
     "traceback": [
      "\u001b[1;31m---------------------------------------------------------------------------\u001b[0m",
      "\u001b[1;31mKeyboardInterrupt\u001b[0m                         Traceback (most recent call last)",
      "Cell \u001b[1;32mIn[100], line 33\u001b[0m\n\u001b[0;32m     30\u001b[0m endDate \u001b[38;5;241m=\u001b[39m (datetime\u001b[38;5;241m.\u001b[39mnow()\u001b[38;5;241m+\u001b[39mtimedelta(days\u001b[38;5;241m=\u001b[39m\u001b[38;5;241m4\u001b[39m))\u001b[38;5;241m.\u001b[39mstrftime(\u001b[38;5;124m'\u001b[39m\u001b[38;5;124m%\u001b[39m\u001b[38;5;124mY-\u001b[39m\u001b[38;5;124m%\u001b[39m\u001b[38;5;124mm-\u001b[39m\u001b[38;5;132;01m%d\u001b[39;00m\u001b[38;5;124m'\u001b[39m)\n\u001b[0;32m     32\u001b[0m \u001b[38;5;28;01mwhile\u001b[39;00m \u001b[38;5;28;01mTrue\u001b[39;00m:\n\u001b[1;32m---> 33\u001b[0m     \u001b[43mschedule\u001b[49m\u001b[38;5;241m.\u001b[39mrun_pending()\n\u001b[0;32m     34\u001b[0m     \u001b[38;5;28;01mif\u001b[39;00m endDate \u001b[38;5;241m==\u001b[39m datetime\u001b[38;5;241m.\u001b[39mnow()\u001b[38;5;241m.\u001b[39mstrftime(\u001b[38;5;124m'\u001b[39m\u001b[38;5;124m%\u001b[39m\u001b[38;5;124mY-\u001b[39m\u001b[38;5;124m%\u001b[39m\u001b[38;5;124mm-\u001b[39m\u001b[38;5;132;01m%d\u001b[39;00m\u001b[38;5;124m'\u001b[39m):\n\u001b[0;32m     35\u001b[0m         schedule\u001b[38;5;241m.\u001b[39mclear()\n",
      "\u001b[1;31mKeyboardInterrupt\u001b[0m: "
     ]
    }
   ],
   "source": [
    "def placeData():\n",
    "    for place in places.장소명:\n",
    "        url = f'http://openapi.seoul.go.kr:8088/7674687567666b6437377848736968/xml/citydata/1/1/{place}'\n",
    "        response = requests.get(url)\n",
    "        place_info = xmltodict.parse(response.text)\n",
    "\n",
    "        try:\n",
    "            place_name = place_info['SeoulRtd.citydata']['CITYDATA']['AREA_NM']\n",
    "            place_people = place_info['SeoulRtd.citydata']['CITYDATA']['LIVE_PPLTN_STTS']['LIVE_PPLTN_STTS']\n",
    "\n",
    "        except:\n",
    "            pass\n",
    "\n",
    "        else: \n",
    "            df_info = [\n",
    "                datetime.now().strftime('%Y-%m-%d %H'),\n",
    "                place_name,\n",
    "                place_people['AREA_PPLTN_MAX'],\n",
    "                place_people['AREA_PPLTN_MIN'],\n",
    "                pd.to_numeric(place_people['PPLTN_RATE_10'])+pd.to_numeric(place_people['PPLTN_RATE_0']),\n",
    "                pd.to_numeric(place_people['PPLTN_RATE_20'])+pd.to_numeric(place_people['PPLTN_RATE_30']),\n",
    "                pd.to_numeric(place_people['PPLTN_RATE_40'])+pd.to_numeric(place_people['PPLTN_RATE_50']),\n",
    "                pd.to_numeric(place_people['PPLTN_RATE_60'])+pd.to_numeric(place_people['PPLTN_RATE_70'])\n",
    "            ]\n",
    "            place_df.loc[place_df.shape[0]] = df_info\n",
    "            \n",
    "    print('추가 완료', end='\\n\\n')\n",
    "    \n",
    "schedule.every(1).minutes.do(placeData)\n",
    "endDate = (datetime.now()+timedelta(days=4)).strftime('%Y-%m-%d')\n",
    "\n",
    "while True:\n",
    "    schedule.run_pending()\n",
    "    if endDate == datetime.now().strftime('%Y-%m-%d'):\n",
    "        schedule.clear()\n",
    "        break;\n",
    "place_df.to_csv('장소데이터.csv', en)"
   ]
  },
  {
   "cell_type": "code",
   "execution_count": 103,
   "id": "4da24130",
   "metadata": {},
   "outputs": [
    {
     "data": {
      "text/plain": [
       "[]"
      ]
     },
     "execution_count": 103,
     "metadata": {},
     "output_type": "execute_result"
    }
   ],
   "source": [
    "schedule.clear()\n",
    "schedule.jobs"
   ]
  },
  {
   "cell_type": "code",
   "execution_count": 101,
   "id": "b425ffc7",
   "metadata": {
    "scrolled": true
   },
   "outputs": [
    {
     "data": {
      "text/html": [
       "<div>\n",
       "<style scoped>\n",
       "    .dataframe tbody tr th:only-of-type {\n",
       "        vertical-align: middle;\n",
       "    }\n",
       "\n",
       "    .dataframe tbody tr th {\n",
       "        vertical-align: top;\n",
       "    }\n",
       "\n",
       "    .dataframe thead th {\n",
       "        text-align: right;\n",
       "    }\n",
       "</style>\n",
       "<table border=\"1\" class=\"dataframe\">\n",
       "  <thead>\n",
       "    <tr style=\"text-align: right;\">\n",
       "      <th></th>\n",
       "      <th>수집일시</th>\n",
       "      <th>장소</th>\n",
       "      <th>최대인구</th>\n",
       "      <th>최소인구</th>\n",
       "      <th>10대</th>\n",
       "      <th>2030대</th>\n",
       "      <th>4050대</th>\n",
       "      <th>6070대</th>\n",
       "    </tr>\n",
       "  </thead>\n",
       "  <tbody>\n",
       "    <tr>\n",
       "      <th>0</th>\n",
       "      <td>2023-05-19 19</td>\n",
       "      <td>강남 MICE 관광특구</td>\n",
       "      <td>18000</td>\n",
       "      <td>16000</td>\n",
       "      <td>5.3</td>\n",
       "      <td>55.8</td>\n",
       "      <td>33.0</td>\n",
       "      <td>5.8</td>\n",
       "    </tr>\n",
       "    <tr>\n",
       "      <th>1</th>\n",
       "      <td>2023-05-19 19</td>\n",
       "      <td>동대문 관광특구</td>\n",
       "      <td>26000</td>\n",
       "      <td>24000</td>\n",
       "      <td>5.3</td>\n",
       "      <td>50.3</td>\n",
       "      <td>33.9</td>\n",
       "      <td>10.5</td>\n",
       "    </tr>\n",
       "    <tr>\n",
       "      <th>2</th>\n",
       "      <td>2023-05-19 19</td>\n",
       "      <td>명동 관광특구</td>\n",
       "      <td>56000</td>\n",
       "      <td>54000</td>\n",
       "      <td>3.2</td>\n",
       "      <td>52.1</td>\n",
       "      <td>36.6</td>\n",
       "      <td>8.1</td>\n",
       "    </tr>\n",
       "    <tr>\n",
       "      <th>3</th>\n",
       "      <td>2023-05-19 19</td>\n",
       "      <td>이태원 관광특구</td>\n",
       "      <td>12000</td>\n",
       "      <td>10000</td>\n",
       "      <td>4.5</td>\n",
       "      <td>61.5</td>\n",
       "      <td>25.2</td>\n",
       "      <td>8.8</td>\n",
       "    </tr>\n",
       "    <tr>\n",
       "      <th>4</th>\n",
       "      <td>2023-05-19 19</td>\n",
       "      <td>잠실 관광특구</td>\n",
       "      <td>68000</td>\n",
       "      <td>66000</td>\n",
       "      <td>14.1</td>\n",
       "      <td>54.0</td>\n",
       "      <td>23.7</td>\n",
       "      <td>8.2</td>\n",
       "    </tr>\n",
       "    <tr>\n",
       "      <th>...</th>\n",
       "      <td>...</td>\n",
       "      <td>...</td>\n",
       "      <td>...</td>\n",
       "      <td>...</td>\n",
       "      <td>...</td>\n",
       "      <td>...</td>\n",
       "      <td>...</td>\n",
       "      <td>...</td>\n",
       "    </tr>\n",
       "    <tr>\n",
       "      <th>95</th>\n",
       "      <td>2023-05-19 19</td>\n",
       "      <td>서울숲공원</td>\n",
       "      <td>16000</td>\n",
       "      <td>14000</td>\n",
       "      <td>5.1</td>\n",
       "      <td>52.8</td>\n",
       "      <td>31.7</td>\n",
       "      <td>10.4</td>\n",
       "    </tr>\n",
       "    <tr>\n",
       "      <th>96</th>\n",
       "      <td>2023-05-19 19</td>\n",
       "      <td>월드컵공원</td>\n",
       "      <td>7000</td>\n",
       "      <td>6500</td>\n",
       "      <td>4.8</td>\n",
       "      <td>39.0</td>\n",
       "      <td>41.5</td>\n",
       "      <td>14.8</td>\n",
       "    </tr>\n",
       "    <tr>\n",
       "      <th>97</th>\n",
       "      <td>2023-05-19 19</td>\n",
       "      <td>이촌한강공원</td>\n",
       "      <td>5000</td>\n",
       "      <td>4500</td>\n",
       "      <td>4.2</td>\n",
       "      <td>41.4</td>\n",
       "      <td>38.1</td>\n",
       "      <td>16.3</td>\n",
       "    </tr>\n",
       "    <tr>\n",
       "      <th>98</th>\n",
       "      <td>2023-05-19 19</td>\n",
       "      <td>잠실종합운동장</td>\n",
       "      <td>10000</td>\n",
       "      <td>9500</td>\n",
       "      <td>13.6</td>\n",
       "      <td>55.2</td>\n",
       "      <td>26.8</td>\n",
       "      <td>4.5</td>\n",
       "    </tr>\n",
       "    <tr>\n",
       "      <th>99</th>\n",
       "      <td>2023-05-19 19</td>\n",
       "      <td>잠실한강공원</td>\n",
       "      <td>4500</td>\n",
       "      <td>4000</td>\n",
       "      <td>7.5</td>\n",
       "      <td>38.0</td>\n",
       "      <td>38.7</td>\n",
       "      <td>15.6</td>\n",
       "    </tr>\n",
       "  </tbody>\n",
       "</table>\n",
       "<p>100 rows × 8 columns</p>\n",
       "</div>"
      ],
      "text/plain": [
       "             수집일시            장소   최대인구   최소인구   10대  2030대  4050대  6070대\n",
       "0   2023-05-19 19  강남 MICE 관광특구  18000  16000   5.3   55.8   33.0    5.8\n",
       "1   2023-05-19 19      동대문 관광특구  26000  24000   5.3   50.3   33.9   10.5\n",
       "2   2023-05-19 19       명동 관광특구  56000  54000   3.2   52.1   36.6    8.1\n",
       "3   2023-05-19 19      이태원 관광특구  12000  10000   4.5   61.5   25.2    8.8\n",
       "4   2023-05-19 19       잠실 관광특구  68000  66000  14.1   54.0   23.7    8.2\n",
       "..            ...           ...    ...    ...   ...    ...    ...    ...\n",
       "95  2023-05-19 19         서울숲공원  16000  14000   5.1   52.8   31.7   10.4\n",
       "96  2023-05-19 19         월드컵공원   7000   6500   4.8   39.0   41.5   14.8\n",
       "97  2023-05-19 19        이촌한강공원   5000   4500   4.2   41.4   38.1   16.3\n",
       "98  2023-05-19 19       잠실종합운동장  10000   9500  13.6   55.2   26.8    4.5\n",
       "99  2023-05-19 19        잠실한강공원   4500   4000   7.5   38.0   38.7   15.6\n",
       "\n",
       "[100 rows x 8 columns]"
      ]
     },
     "execution_count": 101,
     "metadata": {},
     "output_type": "execute_result"
    }
   ],
   "source": [
    "place_df"
   ]
  }
 ],
 "metadata": {
  "kernelspec": {
   "display_name": "ex_kernel",
   "language": "python",
   "name": "ex"
  },
  "language_info": {
   "codemirror_mode": {
    "name": "ipython",
    "version": 3
   },
   "file_extension": ".py",
   "mimetype": "text/x-python",
   "name": "python",
   "nbconvert_exporter": "python",
   "pygments_lexer": "ipython3",
   "version": "3.8.10"
  },
  "toc": {
   "base_numbering": 1,
   "nav_menu": {},
   "number_sections": true,
   "sideBar": true,
   "skip_h1_title": false,
   "title_cell": "Table of Contents",
   "title_sidebar": "Contents",
   "toc_cell": false,
   "toc_position": {},
   "toc_section_display": true,
   "toc_window_display": false
  }
 },
 "nbformat": 4,
 "nbformat_minor": 5
}
