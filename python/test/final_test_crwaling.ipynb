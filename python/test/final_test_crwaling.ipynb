{
 "cells": [
  {
   "cell_type": "code",
   "execution_count": 1,
   "id": "81d9ef37",
   "metadata": {},
   "outputs": [],
   "source": [
    "# 문제 1번에 ipynb파일 첨부"
   ]
  },
  {
   "cell_type": "code",
   "execution_count": 2,
   "id": "8480e58a",
   "metadata": {},
   "outputs": [],
   "source": [
    "from urllib.request import urlretrieve\n",
    "from time import sleep\n",
    "from datetime import datetime\n",
    "import os\n",
    "import requests"
   ]
  },
  {
   "cell_type": "code",
   "execution_count": 3,
   "id": "0b48f1a8",
   "metadata": {},
   "outputs": [],
   "source": [
    "#문제 1. 현재상영 json파일 요청\n",
    "json_url = 'https://movie.daum.net/api/premovie?page=1&size=20&flag=Y'\n",
    "json_url2 ='https://movie.daum.net/api/premovie?page=2&size=20&flag=Y'\n",
    "\n",
    "response = requests.get(json_url)\n",
    "movie_json = response.json()['contents']\n",
    "response2 = requests.get(json_url2)\n",
    "movie_json2 = response2.json()['contents']"
   ]
  },
  {
   "cell_type": "code",
   "execution_count": 4,
   "id": "1782ada0",
   "metadata": {},
   "outputs": [],
   "source": [
    "# 문제 2. 영어제목 말고 한국 제목만\n",
    "movie_info = dict()\n",
    "\n",
    "# ':'을 '_'로 변경\n",
    "for movie in movie_json:\n",
    "    movie_info.update({movie['titleKorean'].replace(':', '_') : movie['mainPhoto']['imageUrl']})\n",
    "\n",
    "for movie in movie_json2:\n",
    "    movie_info.update({movie['titleKorean'].replace(':', '_') : movie['mainPhoto']['imageUrl']})"
   ]
  },
  {
   "cell_type": "code",
   "execution_count": 5,
   "id": "54ccdd6d",
   "metadata": {
    "scrolled": true
   },
   "outputs": [
    {
     "data": {
      "text/plain": [
       "{'인어공주': 'https://t1.daumcdn.net/movie/bba5ebdc0a4edab6b44ed2592227a39b179d52da',\n",
       " '분노의 질주_ 라이드 오어 다이': 'https://t1.daumcdn.net/movie/6fed61e73b455aba36c3c4b434b6fafe2944e698',\n",
       " '가디언즈 오브 갤럭시_ Volume 3': 'https://t1.daumcdn.net/movie/6b0eb68a4c944965ae78c83112bbb799c25b876b',\n",
       " '남은 인생 10년': 'https://t1.daumcdn.net/movie/0df0e75760a60ae1d17cee78a3294770b54f03c4',\n",
       " '아기공룡 둘리 _ 얼음별 대모험 리마스터링': 'https://t1.daumcdn.net/movie/353b6aea0624a60cfeb7a7d402e5e2409a22d28d',\n",
       " '슈퍼 마리오 브라더스': 'https://t1.daumcdn.net/movie/8876ecefc861afc397a9943ab781bdf0316c4983',\n",
       " '극장판 짱구는 못말려_ 동물소환 닌자 배꼽수비대': 'https://t1.daumcdn.net/movie/dea3a62914133f571a8a7ef336d893f096426335',\n",
       " '스즈메의 문단속': 'https://t1.daumcdn.net/movie/3a684ccaeb7aeac8e3f060ffe7249f7fe039443a',\n",
       " '사슴의 왕': 'https://t1.daumcdn.net/movie/58abc8045be4bbe51cf21cbcae94a80e2d05f313',\n",
       " '슬픔의 삼각형': 'https://t1.daumcdn.net/movie/4a969d22500d00bf312707c53dc5433bcf942c68',\n",
       " '메리 마이 데드 바디': 'https://t1.daumcdn.net/movie/ac5ff408f9c93a74e8613c1fdfba1dadd8adca9b',\n",
       " '스프린터': 'https://t1.daumcdn.net/movie/9e59825786f828b9afc151e1afcdedb3b3c9d8a2',\n",
       " '문재인입니다': 'https://t1.daumcdn.net/movie/7d2892c758240006ffb4c0ba3e91ded61223e0a7',\n",
       " '존 윅 4': 'https://t1.daumcdn.net/movie/5605612b56736f1b4dedc8953b29b5d04c32c053',\n",
       " '드림': 'https://t1.daumcdn.net/movie/eb514ac276500897a26a8e979b130571586021b5',\n",
       " '카일리 블루스': 'https://t1.daumcdn.net/movie/ac7e589d63becfd840021702a2751522992f130c',\n",
       " '리바운드': 'https://t1.daumcdn.net/movie/541382b0a4105163dc37e4aba7d44e8c115b72d6',\n",
       " '옥수역귀신': 'https://t1.daumcdn.net/movie/fd6105e7d4919af308749f5785eee564320dfada',\n",
       " '토리와 로키타': 'https://t1.daumcdn.net/movie/40e36586854a567747b64f58f323b65a798faacd',\n",
       " '킬링 로맨스': 'https://t1.daumcdn.net/movie/be239fd29a9a82847e419e4c0d0490a6ca8dd7e4',\n",
       " '줄리아의 인생극장': 'https://t1.daumcdn.net/movie/33e24353b203b85cce0f90728bc43f8cfe283997',\n",
       " '내 아내 이야기': 'https://t1.daumcdn.net/movie/7b9cae7a5bb69a3ab5350d83214f4f92dc90424b',\n",
       " '거신_ 바람의 아이': 'https://t1.daumcdn.net/movie/7419667aaeec633fe1988808330e1dd2218a5187',\n",
       " '클로즈': 'https://t1.daumcdn.net/movie/feb0710eb68b1e099ea6ba9db23def9961c8bb22',\n",
       " '롱디': 'https://t1.daumcdn.net/movie/b9b83519e440db774b1f0502747aed85320f504b',\n",
       " '말이야 바른 말이지': 'https://t1.daumcdn.net/movie/14b8f7363ee9a251f72fa973f5bf9661bd579c6f',\n",
       " '스크림 6': 'https://t1.daumcdn.net/movie/ff4911ea16f0117b69a7136c37c632bc4a668544',\n",
       " '울지마 엄마': 'https://t1.daumcdn.net/movie/4d92b5863d23b1bc285e24db15dd5b83aa8f9045',\n",
       " '리턴 투 서울': 'https://t1.daumcdn.net/movie/06e276d169a64256b73e55903d5d8df30c9bf554',\n",
       " '거울 속 외딴 성': 'https://t1.daumcdn.net/movie/a0887bce0ec55b149326221adf015579269570ea',\n",
       " '바깥 나라의 소녀': 'https://t1.daumcdn.net/movie/d6cb64f190114303fe32b3c435a12d7e8427c929',\n",
       " '파벨만스': 'https://t1.daumcdn.net/movie/08e333efefaf4ea38c4ec0cc6d6ba66854aea08c',\n",
       " '엑소시스트_ 더 바티칸': 'https://t1.daumcdn.net/movie/58bdb4cbcb88d291746dfa07e98a4f5c8fad5f09',\n",
       " '라이스보이 슬립스': 'https://t1.daumcdn.net/movie/1e422202b9caca65297a0421972f576430374221',\n",
       " '조제, 호랑이 그리고 물고기들': 'https://t1.daumcdn.net/movie/1aa2245cb8264c94a7688a41be742e9316350f52',\n",
       " '에브리씽 에브리웨어 올 앳 원스＋': 'https://t1.daumcdn.net/movie/1011ab6e1bfd5746503f65377108fcd0885ecf37',\n",
       " '극장판 리틀 슈퍼맨 샘샘': 'https://t1.daumcdn.net/movie/54a554feca06ea7c9cc7d2eaef4d264713c61692'}"
      ]
     },
     "execution_count": 5,
     "metadata": {},
     "output_type": "execute_result"
    }
   ],
   "source": [
    "movie_info"
   ]
  },
  {
   "cell_type": "code",
   "execution_count": 6,
   "id": "158db853",
   "metadata": {},
   "outputs": [],
   "source": [
    "# 문제 3. 현재 작업 중인 위치에 'theater_img\\오늘날짜' 폴더 생성\n",
    "today = datetime.now().strftime('%Y%m%d')\n",
    "save_folder = f'theater_img\\\\{today}'\n",
    "os.makedirs(save_folder, exist_ok=True)"
   ]
  },
  {
   "cell_type": "code",
   "execution_count": 7,
   "id": "ab59b209",
   "metadata": {},
   "outputs": [],
   "source": [
    "# 문제 4. 3번에 생성한 폴더 내에 '영화제목.jpg'로 이미지 저장\n",
    "for movie in movie_info:\n",
    "    save_path = f'{save_folder}\\\\{movie}.jpg'\n",
    "    urlretrieve(movie_info[movie], save_path)\n",
    "    sleep(1)"
   ]
  }
 ],
 "metadata": {
  "kernelspec": {
   "display_name": "ex_kernel",
   "language": "python",
   "name": "ex"
  },
  "language_info": {
   "codemirror_mode": {
    "name": "ipython",
    "version": 3
   },
   "file_extension": ".py",
   "mimetype": "text/x-python",
   "name": "python",
   "nbconvert_exporter": "python",
   "pygments_lexer": "ipython3",
   "version": "3.8.10"
  },
  "toc": {
   "base_numbering": 1,
   "nav_menu": {},
   "number_sections": true,
   "sideBar": true,
   "skip_h1_title": false,
   "title_cell": "Table of Contents",
   "title_sidebar": "Contents",
   "toc_cell": false,
   "toc_position": {},
   "toc_section_display": true,
   "toc_window_display": false
  }
 },
 "nbformat": 4,
 "nbformat_minor": 5
}
