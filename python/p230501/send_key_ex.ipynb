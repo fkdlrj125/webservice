{
 "cells": [
  {
   "cell_type": "code",
   "execution_count": 1,
   "id": "8d6aee0d",
   "metadata": {},
   "outputs": [],
   "source": [
    "from selenium import webdriver\n",
    "from selenium.webdriver.common.keys import Keys\n",
    "from selenium.webdriver.common.by import By\n",
    "from time import sleep"
   ]
  },
  {
   "cell_type": "code",
   "execution_count": 88,
   "id": "e4a30a16",
   "metadata": {},
   "outputs": [],
   "source": [
    "# 1. 크롬 웹 브라우저 실행\n",
    "driver = webdriver.Chrome()\n",
    "\n",
    "# 2. 네이버 접속\n",
    "driver.get('https://www.naver.com')\n",
    "\n",
    "# 3. body 추출\n",
    "body_element = driver.find_element(By.TAG_NAME, 'body')"
   ]
  },
  {
   "cell_type": "code",
   "execution_count": 94,
   "id": "6d372397",
   "metadata": {},
   "outputs": [],
   "source": [
    "# # page down 1회 실행\n",
    "# body_element.send_keys(Keys.PAGE_UP)\n",
    "\n",
    "# # page down 2회 실행\n",
    "# body_element.send_keys(Keys.PAGE_DOWN, Keys.PAGE_DOWN)\n",
    "# body_element.send_keys(Keys.PAGE_DOWN + Keys.PAGE_DOWN)\n",
    "\n",
    "# # end : 페이지 하단으로 이동\n",
    "# body_element.send_keys(Keys.END)\n",
    "# # 조합키\n",
    "# body_element.send_keys(Keys.CONTROL + Keys.END)\n",
    "\n",
    "# sleep(1)\n",
    "\n",
    "# # home : 페이지 상단으로 이동\n",
    "# body_element.send_keys(Keys.HOME)\n",
    "# # 조합키\n",
    "# body_element.send_keys(Keys.CONTROL + Keys.HOME)\n",
    "\n",
    "# sleep(1)\n",
    "\n",
    "# # 페이지 하단 이동 후, 오른쪽 이동\n",
    "# body_element.send_keys(Keys.END, Keys.ARROW_RIGHT)\n",
    "# sleep(1)\n",
    "# body_element.send_keys(Keys.HOME)\n",
    "\n",
    "# # 뉴스를 새 탭에서 열기\n",
    "driver.switch_to.window(windows[0])\n",
    "body_element.find_element(By.XPATH, '//*[@id=\"NM_FAVORITE\"]/div[1]/ul[2]/li[2]/a').send_keys(Keys.CONTROL + Keys.ENTER)\n",
    "\n",
    "sleep(1)\n",
    "\n",
    "# 뉴스 탭으로 이동 후 닫기\n",
    "windows = driver.window_handles\n",
    "driver.switch_to.window(windows[1])\n",
    "sleep(1)\n",
    "driver.close()\n",
    "\n",
    "driver.switch_to.window(windows[0])\n",
    "\n",
    "# 회원 가입을 새 탭에서 열기\n",
    "body_element.find_element(By.CSS_SELECTOR, '.sub_area > a').send_keys(Keys.CONTROL + Keys.ENTER)\n",
    "\n",
    "sleep(1)\n",
    "\n",
    "# 회원 가입탭으로 이동 후 닫기\n",
    "windows = driver.window_handles\n",
    "driver.switch_to.window(windows[1])\n",
    "sleep(1)\n",
    "driver.quit()\n",
    "\n",
    "# # [문제] 회원가입을 새 창에서 열기\n",
    "# body_element.find_element(By.CSS_SELECTOR, '.sub_area > a').send_keys(Keys.SHIFT + Keys.RETURN)"
   ]
  },
  {
   "cell_type": "code",
   "execution_count": 87,
   "id": "4b06f5c8",
   "metadata": {},
   "outputs": [],
   "source": [
    "# # 처음 실행한 탭만 종료\n",
    "# driver.close()\n",
    "\n",
    "# # 브라우저 종료\n",
    "# driver.quit()"
   ]
  },
  {
   "cell_type": "code",
   "execution_count": 86,
   "id": "001ce734",
   "metadata": {},
   "outputs": [
    {
     "data": {
      "text/plain": [
       "['257F1BA6646F3828EE3E4404718CD244',\n",
       " 'AF58963EA88AB007318AAE513BA94747',\n",
       " '8F14978A731685880C0D3D86822C741F',\n",
       " '78B1E09E58AA1E345BC97E5DDD61CAC3']"
      ]
     },
     "execution_count": 86,
     "metadata": {},
     "output_type": "execute_result"
    }
   ],
   "source": [
    "# # 탭 이름 - 자동 부여라 순서가 보장되지 않음\n",
    "# driver.window_handles\n",
    "# type(driver.window_handles)"
   ]
  },
  {
   "cell_type": "code",
   "execution_count": 85,
   "id": "cb221e46",
   "metadata": {},
   "outputs": [],
   "source": [
    "# # 새 탭으로 이동 - 새 탭이 생기면 탭 이름을 저장\n",
    "# driver.switch_to.window(driver.window_handles[0])"
   ]
  }
 ],
 "metadata": {
  "kernelspec": {
   "display_name": "ex_kernel",
   "language": "python",
   "name": "ex"
  },
  "language_info": {
   "codemirror_mode": {
    "name": "ipython",
    "version": 3
   },
   "file_extension": ".py",
   "mimetype": "text/x-python",
   "name": "python",
   "nbconvert_exporter": "python",
   "pygments_lexer": "ipython3",
   "version": "3.8.10"
  }
 },
 "nbformat": 4,
 "nbformat_minor": 5
}
