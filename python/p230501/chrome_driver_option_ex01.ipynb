{
 "cells": [
  {
   "cell_type": "code",
   "execution_count": 1,
   "id": "1dcd8722",
   "metadata": {},
   "outputs": [],
   "source": [
    "from selenium import webdriver\n",
    "from time import sleep"
   ]
  },
  {
   "cell_type": "code",
   "execution_count": 16,
   "id": "3d44fd52",
   "metadata": {},
   "outputs": [
    {
     "name": "stdout",
     "output_type": "stream",
     "text": [
      "1. 크롬 웹 브라우저 실행\n",
      "2. 네이버 접속\n"
     ]
    }
   ],
   "source": [
    "# 크롬 드라이버 옵션 설정\n",
    "chrome_options = webdriver.ChromeOptions()\n",
    "# chrome_options.add_argument('headless') # 백그라운드로 실행\n",
    "# chrome_options.add_argument('user-agent=Mozilla/5.0 (Windows NT 10.0; Win64; x64) AppleWebKit/537.36 (KHTML, like Gecko) Chrome/112.0.0.0 Safari/537.36') # 브라우저 정보 추가\n",
    "# chrome_options.add_argument('lang=ko')\n",
    "# chrome_options.add_argument('--window-size=360,640') # 브라우저 크기\n",
    "# chrome_options.add_argument('--window-position=200,200') # 브라우저 위치 \n",
    "# chrome_options.add_argument('--start-maximized') # 최대화\n",
    "# chrome_options.add_argument('--start-fullscreen') # 풀 스크린\n",
    "chrome_options.add_argument('--disable-gpu')\n",
    "\n",
    "# 1. 웹 브라우저 실행\n",
    "driver = webdriver.Chrome(options=chrome_options)\n",
    "print('1. 크롬 웹 브라우저 실행')\n",
    "\n",
    "# 2. 네이버 접속\n",
    "driver.get('https://www.naver.com')\n",
    "print('2. 네이버 접속')"
   ]
  },
  {
   "cell_type": "code",
   "execution_count": 17,
   "id": "b6d1d4e1",
   "metadata": {},
   "outputs": [],
   "source": [
    "driver.quit()"
   ]
  }
 ],
 "metadata": {
  "kernelspec": {
   "display_name": "ex_kernel",
   "language": "python",
   "name": "ex"
  },
  "language_info": {
   "codemirror_mode": {
    "name": "ipython",
    "version": 3
   },
   "file_extension": ".py",
   "mimetype": "text/x-python",
   "name": "python",
   "nbconvert_exporter": "python",
   "pygments_lexer": "ipython3",
   "version": "3.8.10"
  }
 },
 "nbformat": 4,
 "nbformat_minor": 5
}
