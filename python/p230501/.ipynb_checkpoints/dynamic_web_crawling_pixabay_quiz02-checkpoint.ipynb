{
 "cells": [
  {
   "cell_type": "code",
   "execution_count": null,
   "id": "b86e1a7d",
   "metadata": {},
   "outputs": [],
   "source": [
    "# pixabay에서 구슬 검색 후 모든 페이지의 이미지 다운로드\n",
    "# 다운로드 폴더 : 검색어\n",
    "# 파일명 : 페이지_숫자.원래 확장자\n",
    "# 경로 : 현재 작업 중인 폴더\n",
    "\n",
    "# 추가 : 검색어는 입력받아서 실행"
   ]
  },
  {
   "cell_type": "code",
   "execution_count": 2,
   "id": "99c0cdf1",
   "metadata": {},
   "outputs": [],
   "source": [
    "from selenium import webdriver\n",
    "from selenium.webdriver.common.by import By\n",
    "from selenium.webdriver.common.keys import Keys\n",
    "from time import sleep\n",
    "import os\n",
    "import requests"
   ]
  },
  {
   "cell_type": "code",
   "execution_count": 6,
   "id": "05de989a",
   "metadata": {},
   "outputs": [
    {
     "ename": "NoSuchWindowException",
     "evalue": "Message: no such window: target window already closed\nfrom unknown error: web view not found\n  (Session info: chrome=112.0.5615.138)\nStacktrace:\nBacktrace:\n\tGetHandleVerifier [0x00E8DCE3+50899]\n\t(No symbol) [0x00E1E111]\n\t(No symbol) [0x00D25588]\n\t(No symbol) [0x00D0D333]\n\t(No symbol) [0x00D6F4DB]\n\t(No symbol) [0x00D7DB33]\n\t(No symbol) [0x00D6B6F6]\n\t(No symbol) [0x00D47708]\n\t(No symbol) [0x00D4886D]\n\tGetHandleVerifier [0x010F3EAE+2566302]\n\tGetHandleVerifier [0x011292B1+2784417]\n\tGetHandleVerifier [0x0112327C+2759788]\n\tGetHandleVerifier [0x00F25740+672048]\n\t(No symbol) [0x00E28872]\n\t(No symbol) [0x00E241C8]\n\t(No symbol) [0x00E242AB]\n\t(No symbol) [0x00E171B7]\n\tBaseThreadInitThunk [0x759D0099+25]\n\tRtlGetAppContainerNamedObjectPath [0x77827B6E+286]\n\tRtlGetAppContainerNamedObjectPath [0x77827B3E+238]\n",
     "output_type": "error",
     "traceback": [
      "\u001b[1;31m---------------------------------------------------------------------------\u001b[0m",
      "\u001b[1;31mNoSuchWindowException\u001b[0m                     Traceback (most recent call last)",
      "Cell \u001b[1;32mIn[6], line 27\u001b[0m\n\u001b[0;32m     22\u001b[0m sleep(\u001b[38;5;241m1\u001b[39m)\n\u001b[0;32m     24\u001b[0m \u001b[38;5;66;03m# 3. 전체 페이지 추출\u001b[39;00m\n\u001b[0;32m     25\u001b[0m \u001b[38;5;66;03m# 반응형 웹 사이트라 창이 작을 땐 전체 페이지 수가 나타나지 않아 innerText속성으로 추출\u001b[39;00m\n\u001b[0;32m     26\u001b[0m \u001b[38;5;66;03m# 창이 커지면 전체 페이지 수가 나타나 text로 추출\u001b[39;00m\n\u001b[1;32m---> 27\u001b[0m pages_text \u001b[38;5;241m=\u001b[39m \u001b[43mdriver\u001b[49m\u001b[38;5;241;43m.\u001b[39;49m\u001b[43mfind_element\u001b[49m\u001b[43m(\u001b[49m\u001b[43mBy\u001b[49m\u001b[38;5;241;43m.\u001b[39;49m\u001b[43mXPATH\u001b[49m\u001b[43m,\u001b[49m\u001b[43m \u001b[49m\u001b[38;5;124;43m'\u001b[39;49m\u001b[38;5;124;43m//*[@class=\u001b[39;49m\u001b[38;5;124;43m\"\u001b[39;49m\u001b[38;5;124;43mpaginator\u001b[39;49m\u001b[38;5;124;43m\"\u001b[39;49m\u001b[38;5;124;43m]/form\u001b[39;49m\u001b[38;5;124;43m'\u001b[39;49m\u001b[43m)\u001b[49m\u001b[38;5;241m.\u001b[39mtext\n\u001b[0;32m     28\u001b[0m total_pages \u001b[38;5;241m=\u001b[39m \u001b[38;5;28mint\u001b[39m(pages_text\u001b[38;5;241m.\u001b[39mreplace(\u001b[38;5;124m'\u001b[39m\u001b[38;5;124m/\u001b[39m\u001b[38;5;124m'\u001b[39m, \u001b[38;5;124m'\u001b[39m\u001b[38;5;124m'\u001b[39m)\u001b[38;5;241m.\u001b[39mstrip())\n\u001b[0;32m     30\u001b[0m \u001b[38;5;66;03m# 4. 전체 페이지만큼 반복\u001b[39;00m\n",
      "File \u001b[1;32m~\\anaconda3\\envs\\ex\\lib\\site-packages\\selenium\\webdriver\\remote\\webdriver.py:831\u001b[0m, in \u001b[0;36mWebDriver.find_element\u001b[1;34m(self, by, value)\u001b[0m\n\u001b[0;32m    828\u001b[0m     by \u001b[38;5;241m=\u001b[39m By\u001b[38;5;241m.\u001b[39mCSS_SELECTOR\n\u001b[0;32m    829\u001b[0m     value \u001b[38;5;241m=\u001b[39m \u001b[38;5;124mf\u001b[39m\u001b[38;5;124m'\u001b[39m\u001b[38;5;124m[name=\u001b[39m\u001b[38;5;124m\"\u001b[39m\u001b[38;5;132;01m{\u001b[39;00mvalue\u001b[38;5;132;01m}\u001b[39;00m\u001b[38;5;124m\"\u001b[39m\u001b[38;5;124m]\u001b[39m\u001b[38;5;124m'\u001b[39m\n\u001b[1;32m--> 831\u001b[0m \u001b[38;5;28;01mreturn\u001b[39;00m \u001b[38;5;28;43mself\u001b[39;49m\u001b[38;5;241;43m.\u001b[39;49m\u001b[43mexecute\u001b[49m\u001b[43m(\u001b[49m\u001b[43mCommand\u001b[49m\u001b[38;5;241;43m.\u001b[39;49m\u001b[43mFIND_ELEMENT\u001b[49m\u001b[43m,\u001b[49m\u001b[43m \u001b[49m\u001b[43m{\u001b[49m\u001b[38;5;124;43m\"\u001b[39;49m\u001b[38;5;124;43musing\u001b[39;49m\u001b[38;5;124;43m\"\u001b[39;49m\u001b[43m:\u001b[49m\u001b[43m \u001b[49m\u001b[43mby\u001b[49m\u001b[43m,\u001b[49m\u001b[43m \u001b[49m\u001b[38;5;124;43m\"\u001b[39;49m\u001b[38;5;124;43mvalue\u001b[39;49m\u001b[38;5;124;43m\"\u001b[39;49m\u001b[43m:\u001b[49m\u001b[43m \u001b[49m\u001b[43mvalue\u001b[49m\u001b[43m}\u001b[49m\u001b[43m)\u001b[49m[\u001b[38;5;124m\"\u001b[39m\u001b[38;5;124mvalue\u001b[39m\u001b[38;5;124m\"\u001b[39m]\n",
      "File \u001b[1;32m~\\anaconda3\\envs\\ex\\lib\\site-packages\\selenium\\webdriver\\remote\\webdriver.py:440\u001b[0m, in \u001b[0;36mWebDriver.execute\u001b[1;34m(self, driver_command, params)\u001b[0m\n\u001b[0;32m    438\u001b[0m response \u001b[38;5;241m=\u001b[39m \u001b[38;5;28mself\u001b[39m\u001b[38;5;241m.\u001b[39mcommand_executor\u001b[38;5;241m.\u001b[39mexecute(driver_command, params)\n\u001b[0;32m    439\u001b[0m \u001b[38;5;28;01mif\u001b[39;00m response:\n\u001b[1;32m--> 440\u001b[0m     \u001b[38;5;28;43mself\u001b[39;49m\u001b[38;5;241;43m.\u001b[39;49m\u001b[43merror_handler\u001b[49m\u001b[38;5;241;43m.\u001b[39;49m\u001b[43mcheck_response\u001b[49m\u001b[43m(\u001b[49m\u001b[43mresponse\u001b[49m\u001b[43m)\u001b[49m\n\u001b[0;32m    441\u001b[0m     response[\u001b[38;5;124m\"\u001b[39m\u001b[38;5;124mvalue\u001b[39m\u001b[38;5;124m\"\u001b[39m] \u001b[38;5;241m=\u001b[39m \u001b[38;5;28mself\u001b[39m\u001b[38;5;241m.\u001b[39m_unwrap_value(response\u001b[38;5;241m.\u001b[39mget(\u001b[38;5;124m\"\u001b[39m\u001b[38;5;124mvalue\u001b[39m\u001b[38;5;124m\"\u001b[39m, \u001b[38;5;28;01mNone\u001b[39;00m))\n\u001b[0;32m    442\u001b[0m     \u001b[38;5;28;01mreturn\u001b[39;00m response\n",
      "File \u001b[1;32m~\\anaconda3\\envs\\ex\\lib\\site-packages\\selenium\\webdriver\\remote\\errorhandler.py:245\u001b[0m, in \u001b[0;36mErrorHandler.check_response\u001b[1;34m(self, response)\u001b[0m\n\u001b[0;32m    243\u001b[0m         alert_text \u001b[38;5;241m=\u001b[39m value[\u001b[38;5;124m\"\u001b[39m\u001b[38;5;124malert\u001b[39m\u001b[38;5;124m\"\u001b[39m]\u001b[38;5;241m.\u001b[39mget(\u001b[38;5;124m\"\u001b[39m\u001b[38;5;124mtext\u001b[39m\u001b[38;5;124m\"\u001b[39m)\n\u001b[0;32m    244\u001b[0m     \u001b[38;5;28;01mraise\u001b[39;00m exception_class(message, screen, stacktrace, alert_text)  \u001b[38;5;66;03m# type: ignore[call-arg]  # mypy is not smart enough here\u001b[39;00m\n\u001b[1;32m--> 245\u001b[0m \u001b[38;5;28;01mraise\u001b[39;00m exception_class(message, screen, stacktrace)\n",
      "\u001b[1;31mNoSuchWindowException\u001b[0m: Message: no such window: target window already closed\nfrom unknown error: web view not found\n  (Session info: chrome=112.0.5615.138)\nStacktrace:\nBacktrace:\n\tGetHandleVerifier [0x00E8DCE3+50899]\n\t(No symbol) [0x00E1E111]\n\t(No symbol) [0x00D25588]\n\t(No symbol) [0x00D0D333]\n\t(No symbol) [0x00D6F4DB]\n\t(No symbol) [0x00D7DB33]\n\t(No symbol) [0x00D6B6F6]\n\t(No symbol) [0x00D47708]\n\t(No symbol) [0x00D4886D]\n\tGetHandleVerifier [0x010F3EAE+2566302]\n\tGetHandleVerifier [0x011292B1+2784417]\n\tGetHandleVerifier [0x0112327C+2759788]\n\tGetHandleVerifier [0x00F25740+672048]\n\t(No symbol) [0x00E28872]\n\t(No symbol) [0x00E241C8]\n\t(No symbol) [0x00E242AB]\n\t(No symbol) [0x00E171B7]\n\tBaseThreadInitThunk [0x759D0099+25]\n\tRtlGetAppContainerNamedObjectPath [0x77827B6E+286]\n\tRtlGetAppContainerNamedObjectPath [0x77827B3E+238]\n"
     ]
    }
   ],
   "source": [
    "# 브라우저 최대화\n",
    "chrome_options = webdriver.ChromeOptions()\n",
    "chrome_options.add_argument('--start-maximized')\n",
    "\n",
    "# 검색어 입력받음\n",
    "item_search = '금붕어'\n",
    "imgs = {}\n",
    "\n",
    "driver = webdriver.Chrome(options=chrome_options)\n",
    "\n",
    "# 1. pixabay 접속\n",
    "url = 'https://pixabay.com/ko/'\n",
    "driver.get(url)\n",
    "\n",
    "sleep(2)\n",
    "\n",
    "# 2. 검색어 입력\n",
    "search_bar = driver.find_element(By.CSS_SELECTOR, 'form > input')\n",
    "search_bar.send_keys(item_search)\n",
    "search_bar.send_keys(Keys.RETURN)\n",
    "\n",
    "sleep(1)\n",
    "\n",
    "# 3. 전체 페이지 추출\n",
    "# 반응형 웹 사이트라 창이 작을 땐 전체 페이지 수가 나타나지 않아 innerText속성으로 추출\n",
    "# 창이 커지면 전체 페이지 수가 나타나 text로 추출\n",
    "pages_text = driver.find_element(By.XPATH, '//*[@class=\"paginator\"]/form').text\n",
    "total_pages = int(pages_text.replace('/', '').strip())\n",
    "\n",
    "# 4. 전체 페이지만큼 반복\n",
    "for idx in range(1, total_pages+1):\n",
    "    # 5. search-results 클래스 내에 있는 이미지만 추출\n",
    "    # 마지막 페이지에서 하단에 a태그 자식인 img태그도 추출 \n",
    "    # img_elements = driver.find_elements(By.CSS_SELECTOR, '.search-results a > img')\n",
    "    img_elements = driver.find_elements(By.CSS_SELECTOR, 'a > img[\"alt\"]')\n",
    "    \n",
    "    # 6. 페이지 내 모든 이미지 추출 후 딕셔너리에 저장\n",
    "    for num, img in enumerate(img_elements, 1):\n",
    "        if img.get_attribute('data-lazy'):\n",
    "            # 이미지 주소 추출\n",
    "            img_ad = img.get_attribute('data-lazy')\n",
    "        else:\n",
    "            img_ad = img.get_attribute('src')\n",
    "        \n",
    "        # 이미지 주소의 마지막 4글자 추출 - 확장자 추출\n",
    "        # 현재 페이지_반복 횟수+확장자를 키로, 이미지 주소를 값으로 저장\n",
    "        imgs.update({f'{idx}_{num}{img_ad[-4:]}' : img_ad})\n",
    "    \n",
    "    # 7. 마지막 페이지일 땐 pass, 첫 번째 페이지일 때 첫 번째 a태그 클릭, 나머지는 두 번째 a태그 클릭\n",
    "    if idx == total_pages:\n",
    "        pass\n",
    "    elif idx == 1:\n",
    "        driver.find_element(By.XPATH, '//*[@class=\"paginator\"]/a').click()\n",
    "    else:\n",
    "        driver.find_element(By.XPATH, '//*[@class=\"paginator\"]/a[2]').click()\n",
    "        \n",
    "    # 페이지 이동후 딜레이\n",
    "    sleep(1)"
   ]
  },
  {
   "cell_type": "code",
   "execution_count": 66,
   "id": "da4a112d",
   "metadata": {},
   "outputs": [],
   "source": [
    "# 8. 이름이 검색어인 폴더 생성\n",
    "os.makedirs(item_search, exist_ok=True)\n",
    "\n",
    "# 폴더 생성 작업이 끝날 시간 딜레이\n",
    "sleep(2)\n",
    "\n",
    "# 9. 파일 저장\n",
    "# 딕셔너리의 모든 키(name)와 값(url)을 가져옴\n",
    "for name, url in imgs.items():\n",
    "    # 저장 경로 생성\n",
    "    save_path = os.path.join(item_search, name)\n",
    "    # 이미지 파일 요청\n",
    "    img_file = requests.get(url).content\n",
    "    # 이미지 저장\n",
    "    with open(save_path, 'wb') as file:\n",
    "        file.write(img_file)\n",
    "        \n",
    "driver.close()\n",
    "print('** 이미지 저장 완료 **')"
   ]
  }
 ],
 "metadata": {
  "kernelspec": {
   "display_name": "ex_kernel",
   "language": "python",
   "name": "ex"
  },
  "language_info": {
   "codemirror_mode": {
    "name": "ipython",
    "version": 3
   },
   "file_extension": ".py",
   "mimetype": "text/x-python",
   "name": "python",
   "nbconvert_exporter": "python",
   "pygments_lexer": "ipython3",
   "version": "3.8.10"
  }
 },
 "nbformat": 4,
 "nbformat_minor": 5
}
