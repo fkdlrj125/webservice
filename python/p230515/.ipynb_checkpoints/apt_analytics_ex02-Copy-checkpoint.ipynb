{
 "cells": [
  {
   "cell_type": "code",
   "execution_count": 1,
   "id": "c2e194b5",
   "metadata": {},
   "outputs": [],
   "source": [
    "import pandas as pd\n",
    "import matplotlib.pyplot as plt"
   ]
  },
  {
   "cell_type": "code",
   "execution_count": 2,
   "id": "23f06948",
   "metadata": {},
   "outputs": [],
   "source": [
    "# # 위치에서 탐색기 실행 - cmd 명령어\n",
    "# !start ."
   ]
  },
  {
   "cell_type": "markdown",
   "id": "3d4cdcb4",
   "metadata": {},
   "source": [
    "# csv 파일 읽어오기"
   ]
  },
  {
   "cell_type": "code",
   "execution_count": 3,
   "id": "5f406e80",
   "metadata": {},
   "outputs": [],
   "source": [
    "apt_price = pd.read_csv('주택도시보증공사_전국 신규 민간아파트 분양가격 동향_20220131.csv', encoding='cp949')"
   ]
  },
  {
   "cell_type": "code",
   "execution_count": 4,
   "id": "85213b37",
   "metadata": {},
   "outputs": [
    {
     "data": {
      "text/html": [
       "<div>\n",
       "<style scoped>\n",
       "    .dataframe tbody tr th:only-of-type {\n",
       "        vertical-align: middle;\n",
       "    }\n",
       "\n",
       "    .dataframe tbody tr th {\n",
       "        vertical-align: top;\n",
       "    }\n",
       "\n",
       "    .dataframe thead th {\n",
       "        text-align: right;\n",
       "    }\n",
       "</style>\n",
       "<table border=\"1\" class=\"dataframe\">\n",
       "  <thead>\n",
       "    <tr style=\"text-align: right;\">\n",
       "      <th></th>\n",
       "      <th>지역명</th>\n",
       "      <th>규모구분</th>\n",
       "      <th>연도</th>\n",
       "      <th>월</th>\n",
       "      <th>분양가격(제곱미터)</th>\n",
       "    </tr>\n",
       "  </thead>\n",
       "  <tbody>\n",
       "    <tr>\n",
       "      <th>0</th>\n",
       "      <td>서울</td>\n",
       "      <td>모든면적</td>\n",
       "      <td>2015.0</td>\n",
       "      <td>10.0</td>\n",
       "      <td>5841</td>\n",
       "    </tr>\n",
       "    <tr>\n",
       "      <th>1</th>\n",
       "      <td>서울</td>\n",
       "      <td>전용면적 60제곱미터이하</td>\n",
       "      <td>2015.0</td>\n",
       "      <td>10.0</td>\n",
       "      <td>5652</td>\n",
       "    </tr>\n",
       "    <tr>\n",
       "      <th>2</th>\n",
       "      <td>서울</td>\n",
       "      <td>전용면적 60제곱미터초과 85제곱미터이하</td>\n",
       "      <td>2015.0</td>\n",
       "      <td>10.0</td>\n",
       "      <td>5882</td>\n",
       "    </tr>\n",
       "    <tr>\n",
       "      <th>3</th>\n",
       "      <td>서울</td>\n",
       "      <td>전용면적 85제곱미터초과 102제곱미터이하</td>\n",
       "      <td>2015.0</td>\n",
       "      <td>10.0</td>\n",
       "      <td>5721</td>\n",
       "    </tr>\n",
       "    <tr>\n",
       "      <th>4</th>\n",
       "      <td>서울</td>\n",
       "      <td>전용면적 102제곱미터초과</td>\n",
       "      <td>2015.0</td>\n",
       "      <td>10.0</td>\n",
       "      <td>5879</td>\n",
       "    </tr>\n",
       "  </tbody>\n",
       "</table>\n",
       "</div>"
      ],
      "text/plain": [
       "  지역명                     규모구분      연도     월 분양가격(제곱미터)\n",
       "0  서울                     모든면적  2015.0  10.0       5841\n",
       "1  서울            전용면적 60제곱미터이하  2015.0  10.0       5652\n",
       "2  서울   전용면적 60제곱미터초과 85제곱미터이하  2015.0  10.0       5882\n",
       "3  서울  전용면적 85제곱미터초과 102제곱미터이하  2015.0  10.0       5721\n",
       "4  서울           전용면적 102제곱미터초과  2015.0  10.0       5879"
      ]
     },
     "execution_count": 4,
     "metadata": {},
     "output_type": "execute_result"
    }
   ],
   "source": [
    "apt_price.head()"
   ]
  },
  {
   "cell_type": "markdown",
   "id": "ba0ce3c4",
   "metadata": {},
   "source": [
    "# 분석"
   ]
  },
  {
   "cell_type": "code",
   "execution_count": 5,
   "id": "0f48bacc",
   "metadata": {},
   "outputs": [
    {
     "name": "stdout",
     "output_type": "stream",
     "text": [
      "<class 'pandas.core.frame.DataFrame'>\n",
      "RangeIndex: 7140 entries, 0 to 7139\n",
      "Data columns (total 5 columns):\n",
      " #   Column      Non-Null Count  Dtype  \n",
      "---  ------      --------------  -----  \n",
      " 0   지역명         6460 non-null   object \n",
      " 1   규모구분        6460 non-null   object \n",
      " 2   연도          6460 non-null   float64\n",
      " 3   월           6460 non-null   float64\n",
      " 4   분양가격(제곱미터)  5976 non-null   object \n",
      "dtypes: float64(2), object(3)\n",
      "memory usage: 279.0+ KB\n"
     ]
    }
   ],
   "source": [
    "# 1. 결측치 확인\n",
    "# 2. 연도, 월 Dtype 변경\n",
    "# 3. 분양가격(제곱미터) -> 분양가격 으로 변경\n",
    "apt_price.info()"
   ]
  },
  {
   "cell_type": "markdown",
   "id": "754fd9c8",
   "metadata": {},
   "source": [
    "# 전처리"
   ]
  },
  {
   "cell_type": "code",
   "execution_count": 6,
   "id": "ab4c7aa0",
   "metadata": {},
   "outputs": [
    {
     "data": {
      "text/plain": [
       "지역명            680\n",
       "규모구분           680\n",
       "연도             680\n",
       "월              680\n",
       "분양가격(제곱미터)    1164\n",
       "dtype: int64"
      ]
     },
     "execution_count": 6,
     "metadata": {},
     "output_type": "execute_result"
    }
   ],
   "source": [
    "# 전처리\n",
    "# 1. 결측치 개수 확인\n",
    "apt_price.isna().sum()"
   ]
  },
  {
   "cell_type": "code",
   "execution_count": 7,
   "id": "347cdb5d",
   "metadata": {},
   "outputs": [
    {
     "data": {
      "text/html": [
       "<div>\n",
       "<style scoped>\n",
       "    .dataframe tbody tr th:only-of-type {\n",
       "        vertical-align: middle;\n",
       "    }\n",
       "\n",
       "    .dataframe tbody tr th {\n",
       "        vertical-align: top;\n",
       "    }\n",
       "\n",
       "    .dataframe thead th {\n",
       "        text-align: right;\n",
       "    }\n",
       "</style>\n",
       "<table border=\"1\" class=\"dataframe\">\n",
       "  <thead>\n",
       "    <tr style=\"text-align: right;\">\n",
       "      <th></th>\n",
       "      <th>지역명</th>\n",
       "      <th>규모구분</th>\n",
       "      <th>연도</th>\n",
       "      <th>월</th>\n",
       "      <th>분양가격(제곱미터)</th>\n",
       "    </tr>\n",
       "  </thead>\n",
       "  <tbody>\n",
       "    <tr>\n",
       "      <th>368</th>\n",
       "      <td>광주</td>\n",
       "      <td>전용면적 85제곱미터초과 102제곱미터이하</td>\n",
       "      <td>2016.0</td>\n",
       "      <td>2.0</td>\n",
       "      <td>NaN</td>\n",
       "    </tr>\n",
       "    <tr>\n",
       "      <th>369</th>\n",
       "      <td>광주</td>\n",
       "      <td>전용면적 102제곱미터초과</td>\n",
       "      <td>2016.0</td>\n",
       "      <td>2.0</td>\n",
       "      <td>NaN</td>\n",
       "    </tr>\n",
       "    <tr>\n",
       "      <th>374</th>\n",
       "      <td>대전</td>\n",
       "      <td>전용면적 102제곱미터초과</td>\n",
       "      <td>2016.0</td>\n",
       "      <td>2.0</td>\n",
       "      <td>NaN</td>\n",
       "    </tr>\n",
       "    <tr>\n",
       "      <th>388</th>\n",
       "      <td>강원</td>\n",
       "      <td>전용면적 85제곱미터초과 102제곱미터이하</td>\n",
       "      <td>2016.0</td>\n",
       "      <td>2.0</td>\n",
       "      <td>NaN</td>\n",
       "    </tr>\n",
       "    <tr>\n",
       "      <th>421</th>\n",
       "      <td>제주</td>\n",
       "      <td>전용면적 60제곱미터이하</td>\n",
       "      <td>2016.0</td>\n",
       "      <td>2.0</td>\n",
       "      <td>NaN</td>\n",
       "    </tr>\n",
       "    <tr>\n",
       "      <th>...</th>\n",
       "      <td>...</td>\n",
       "      <td>...</td>\n",
       "      <td>...</td>\n",
       "      <td>...</td>\n",
       "      <td>...</td>\n",
       "    </tr>\n",
       "    <tr>\n",
       "      <th>7135</th>\n",
       "      <td>NaN</td>\n",
       "      <td>NaN</td>\n",
       "      <td>NaN</td>\n",
       "      <td>NaN</td>\n",
       "      <td>NaN</td>\n",
       "    </tr>\n",
       "    <tr>\n",
       "      <th>7136</th>\n",
       "      <td>NaN</td>\n",
       "      <td>NaN</td>\n",
       "      <td>NaN</td>\n",
       "      <td>NaN</td>\n",
       "      <td>NaN</td>\n",
       "    </tr>\n",
       "    <tr>\n",
       "      <th>7137</th>\n",
       "      <td>NaN</td>\n",
       "      <td>NaN</td>\n",
       "      <td>NaN</td>\n",
       "      <td>NaN</td>\n",
       "      <td>NaN</td>\n",
       "    </tr>\n",
       "    <tr>\n",
       "      <th>7138</th>\n",
       "      <td>NaN</td>\n",
       "      <td>NaN</td>\n",
       "      <td>NaN</td>\n",
       "      <td>NaN</td>\n",
       "      <td>NaN</td>\n",
       "    </tr>\n",
       "    <tr>\n",
       "      <th>7139</th>\n",
       "      <td>NaN</td>\n",
       "      <td>NaN</td>\n",
       "      <td>NaN</td>\n",
       "      <td>NaN</td>\n",
       "      <td>NaN</td>\n",
       "    </tr>\n",
       "  </tbody>\n",
       "</table>\n",
       "<p>1164 rows × 5 columns</p>\n",
       "</div>"
      ],
      "text/plain": [
       "      지역명                     규모구분      연도    월 분양가격(제곱미터)\n",
       "368    광주  전용면적 85제곱미터초과 102제곱미터이하  2016.0  2.0        NaN\n",
       "369    광주           전용면적 102제곱미터초과  2016.0  2.0        NaN\n",
       "374    대전           전용면적 102제곱미터초과  2016.0  2.0        NaN\n",
       "388    강원  전용면적 85제곱미터초과 102제곱미터이하  2016.0  2.0        NaN\n",
       "421    제주            전용면적 60제곱미터이하  2016.0  2.0        NaN\n",
       "...   ...                      ...     ...  ...        ...\n",
       "7135  NaN                      NaN     NaN  NaN        NaN\n",
       "7136  NaN                      NaN     NaN  NaN        NaN\n",
       "7137  NaN                      NaN     NaN  NaN        NaN\n",
       "7138  NaN                      NaN     NaN  NaN        NaN\n",
       "7139  NaN                      NaN     NaN  NaN        NaN\n",
       "\n",
       "[1164 rows x 5 columns]"
      ]
     },
     "execution_count": 7,
     "metadata": {},
     "output_type": "execute_result"
    }
   ],
   "source": [
    "# 결측치 데이터 추출\n",
    "apt_price[apt_price['분양가격(제곱미터)'].isna()]"
   ]
  },
  {
   "cell_type": "markdown",
   "id": "425100ad",
   "metadata": {},
   "source": [
    "## 컬럼명 변경\n",
    "- 분양가격(제곱미터) -> 분양가격\n",
    "- 규모구분 -> 전용면적"
   ]
  },
  {
   "cell_type": "code",
   "execution_count": 8,
   "id": "f7f2cb69",
   "metadata": {},
   "outputs": [
    {
     "data": {
      "text/html": [
       "<div>\n",
       "<style scoped>\n",
       "    .dataframe tbody tr th:only-of-type {\n",
       "        vertical-align: middle;\n",
       "    }\n",
       "\n",
       "    .dataframe tbody tr th {\n",
       "        vertical-align: top;\n",
       "    }\n",
       "\n",
       "    .dataframe thead th {\n",
       "        text-align: right;\n",
       "    }\n",
       "</style>\n",
       "<table border=\"1\" class=\"dataframe\">\n",
       "  <thead>\n",
       "    <tr style=\"text-align: right;\">\n",
       "      <th></th>\n",
       "      <th>지역명</th>\n",
       "      <th>전용면적</th>\n",
       "      <th>연도</th>\n",
       "      <th>월</th>\n",
       "      <th>분양가격</th>\n",
       "    </tr>\n",
       "  </thead>\n",
       "  <tbody>\n",
       "    <tr>\n",
       "      <th>0</th>\n",
       "      <td>서울</td>\n",
       "      <td>모든면적</td>\n",
       "      <td>2015.0</td>\n",
       "      <td>10.0</td>\n",
       "      <td>5841</td>\n",
       "    </tr>\n",
       "    <tr>\n",
       "      <th>1</th>\n",
       "      <td>서울</td>\n",
       "      <td>전용면적 60제곱미터이하</td>\n",
       "      <td>2015.0</td>\n",
       "      <td>10.0</td>\n",
       "      <td>5652</td>\n",
       "    </tr>\n",
       "    <tr>\n",
       "      <th>2</th>\n",
       "      <td>서울</td>\n",
       "      <td>전용면적 60제곱미터초과 85제곱미터이하</td>\n",
       "      <td>2015.0</td>\n",
       "      <td>10.0</td>\n",
       "      <td>5882</td>\n",
       "    </tr>\n",
       "    <tr>\n",
       "      <th>3</th>\n",
       "      <td>서울</td>\n",
       "      <td>전용면적 85제곱미터초과 102제곱미터이하</td>\n",
       "      <td>2015.0</td>\n",
       "      <td>10.0</td>\n",
       "      <td>5721</td>\n",
       "    </tr>\n",
       "    <tr>\n",
       "      <th>4</th>\n",
       "      <td>서울</td>\n",
       "      <td>전용면적 102제곱미터초과</td>\n",
       "      <td>2015.0</td>\n",
       "      <td>10.0</td>\n",
       "      <td>5879</td>\n",
       "    </tr>\n",
       "    <tr>\n",
       "      <th>...</th>\n",
       "      <td>...</td>\n",
       "      <td>...</td>\n",
       "      <td>...</td>\n",
       "      <td>...</td>\n",
       "      <td>...</td>\n",
       "    </tr>\n",
       "    <tr>\n",
       "      <th>7135</th>\n",
       "      <td>NaN</td>\n",
       "      <td>NaN</td>\n",
       "      <td>NaN</td>\n",
       "      <td>NaN</td>\n",
       "      <td>NaN</td>\n",
       "    </tr>\n",
       "    <tr>\n",
       "      <th>7136</th>\n",
       "      <td>NaN</td>\n",
       "      <td>NaN</td>\n",
       "      <td>NaN</td>\n",
       "      <td>NaN</td>\n",
       "      <td>NaN</td>\n",
       "    </tr>\n",
       "    <tr>\n",
       "      <th>7137</th>\n",
       "      <td>NaN</td>\n",
       "      <td>NaN</td>\n",
       "      <td>NaN</td>\n",
       "      <td>NaN</td>\n",
       "      <td>NaN</td>\n",
       "    </tr>\n",
       "    <tr>\n",
       "      <th>7138</th>\n",
       "      <td>NaN</td>\n",
       "      <td>NaN</td>\n",
       "      <td>NaN</td>\n",
       "      <td>NaN</td>\n",
       "      <td>NaN</td>\n",
       "    </tr>\n",
       "    <tr>\n",
       "      <th>7139</th>\n",
       "      <td>NaN</td>\n",
       "      <td>NaN</td>\n",
       "      <td>NaN</td>\n",
       "      <td>NaN</td>\n",
       "      <td>NaN</td>\n",
       "    </tr>\n",
       "  </tbody>\n",
       "</table>\n",
       "<p>7140 rows × 5 columns</p>\n",
       "</div>"
      ],
      "text/plain": [
       "      지역명                     전용면적      연도     월  분양가격\n",
       "0      서울                     모든면적  2015.0  10.0  5841\n",
       "1      서울            전용면적 60제곱미터이하  2015.0  10.0  5652\n",
       "2      서울   전용면적 60제곱미터초과 85제곱미터이하  2015.0  10.0  5882\n",
       "3      서울  전용면적 85제곱미터초과 102제곱미터이하  2015.0  10.0  5721\n",
       "4      서울           전용면적 102제곱미터초과  2015.0  10.0  5879\n",
       "...   ...                      ...     ...   ...   ...\n",
       "7135  NaN                      NaN     NaN   NaN   NaN\n",
       "7136  NaN                      NaN     NaN   NaN   NaN\n",
       "7137  NaN                      NaN     NaN   NaN   NaN\n",
       "7138  NaN                      NaN     NaN   NaN   NaN\n",
       "7139  NaN                      NaN     NaN   NaN   NaN\n",
       "\n",
       "[7140 rows x 5 columns]"
      ]
     },
     "execution_count": 8,
     "metadata": {},
     "output_type": "execute_result"
    }
   ],
   "source": [
    "apt_price.rename(columns={'규모구분' : '전용면적', '분양가격(제곱미터)' : '분양가격'})"
   ]
  },
  {
   "cell_type": "code",
   "execution_count": 9,
   "id": "87cd7368",
   "metadata": {},
   "outputs": [],
   "source": [
    "apt_price.rename(columns={'규모구분' : '전용면적', '분양가격(제곱미터)' : '분양가격'}, inplace=True)"
   ]
  },
  {
   "cell_type": "code",
   "execution_count": 10,
   "id": "fa6d57cc",
   "metadata": {},
   "outputs": [
    {
     "data": {
      "text/plain": [
       "Index(['지역명', '전용면적', '연도', '월', '분양가격'], dtype='object')"
      ]
     },
     "execution_count": 10,
     "metadata": {},
     "output_type": "execute_result"
    }
   ],
   "source": [
    "apt_price.columns"
   ]
  },
  {
   "cell_type": "markdown",
   "id": "08031e68",
   "metadata": {},
   "source": [
    "## 결측치 처리\n",
    "- 관측치가 모두 결측치인 행 삭제\n",
    "- 결측치인 데이터 변경\n",
    "- Dtype 변경"
   ]
  },
  {
   "cell_type": "markdown",
   "id": "51b0b6f9",
   "metadata": {},
   "source": [
    "### 관측치가 모두 결측치인 행 삭제"
   ]
  },
  {
   "cell_type": "code",
   "execution_count": 11,
   "id": "8b44a161",
   "metadata": {},
   "outputs": [],
   "source": [
    "# 모든 행이 결측치인 행 삭제\n",
    "apt_price.dropna(how='all', inplace=True)"
   ]
  },
  {
   "cell_type": "markdown",
   "id": "14d61c3e",
   "metadata": {},
   "source": [
    "### 분양가격 컬럼 복사\n",
    "- 컬럼명 : 분양가격_복사"
   ]
  },
  {
   "cell_type": "code",
   "execution_count": 12,
   "id": "1938c1b3",
   "metadata": {},
   "outputs": [
    {
     "data": {
      "text/plain": [
       "6455    True\n",
       "6456    True\n",
       "6457    True\n",
       "6458    True\n",
       "6459    True\n",
       "dtype: bool"
      ]
     },
     "execution_count": 12,
     "metadata": {},
     "output_type": "execute_result"
    }
   ],
   "source": [
    "apt_price['분양가격_복사'] =  apt_price.분양가격\n",
    "(apt_price.분양가격 == apt_price.분양가격_복사).tail()"
   ]
  },
  {
   "cell_type": "markdown",
   "id": "c32ee495",
   "metadata": {},
   "source": [
    "### 분양가격_복사 컬럼 : 결측치 0으로 변경"
   ]
  },
  {
   "cell_type": "code",
   "execution_count": 13,
   "id": "12b41fe9",
   "metadata": {},
   "outputs": [
    {
     "data": {
      "text/plain": [
       "484"
      ]
     },
     "execution_count": 13,
     "metadata": {},
     "output_type": "execute_result"
    }
   ],
   "source": [
    "# 분양가격_복사의 결측치 개수 확인\n",
    "apt_price.분양가격_복사.isna().sum()"
   ]
  },
  {
   "cell_type": "code",
   "execution_count": 14,
   "id": "5ce715fc",
   "metadata": {},
   "outputs": [
    {
     "data": {
      "text/plain": [
       "분양가격_복사\n",
       "0    484\n",
       "Name: count, dtype: int64"
      ]
     },
     "execution_count": 14,
     "metadata": {},
     "output_type": "execute_result"
    }
   ],
   "source": [
    "# 분양가격_복사 컬럼의 복사본으로 결측치 변경 확인\n",
    "apt_fillna = apt_price.분양가격_복사.fillna(0)\n",
    "apt_fillna[apt_fillna==0].value_counts()"
   ]
  },
  {
   "cell_type": "code",
   "execution_count": 15,
   "id": "3c311775",
   "metadata": {
    "scrolled": true
   },
   "outputs": [
    {
     "data": {
      "text/plain": [
       "지역명          0\n",
       "전용면적         0\n",
       "연도           0\n",
       "월            0\n",
       "분양가격       484\n",
       "분양가격_복사      0\n",
       "dtype: int64"
      ]
     },
     "execution_count": 15,
     "metadata": {},
     "output_type": "execute_result"
    }
   ],
   "source": [
    "# 분양가격_복사 컬럼의 결측치를 0으로 변경\n",
    "apt_price.분양가격_복사.fillna(0, inplace=True)\n",
    "apt_price.isna().sum()"
   ]
  },
  {
   "cell_type": "markdown",
   "id": "bfc7e71f",
   "metadata": {},
   "source": [
    "## Dtype 변경\n",
    "- 연도 : float -> int\n",
    "- 월 : float -> int\n",
    "- 분양가격_복사 : object -> int"
   ]
  },
  {
   "cell_type": "code",
   "execution_count": 16,
   "id": "f8fc1169",
   "metadata": {},
   "outputs": [
    {
     "name": "stdout",
     "output_type": "stream",
     "text": [
      "출력 종료\n"
     ]
    }
   ],
   "source": [
    "# 연도에 실수가 존재하는지 확인\n",
    "for num in apt_price.연도:\n",
    "    if (num - int(num)) > 0:\n",
    "        print(num)\n",
    "\n",
    "print('출력 종료')"
   ]
  },
  {
   "cell_type": "code",
   "execution_count": 17,
   "id": "ab886c2c",
   "metadata": {},
   "outputs": [
    {
     "name": "stdout",
     "output_type": "stream",
     "text": [
      "출력 종료\n"
     ]
    }
   ],
   "source": [
    "# 월에 실수가 존재하는지 확인\n",
    "for num in apt_price.월:\n",
    "    if (num - int(num)) > 0:\n",
    "        print(num)\n",
    "\n",
    "print('출력 종료')"
   ]
  },
  {
   "cell_type": "code",
   "execution_count": 18,
   "id": "a8187d69",
   "metadata": {
    "scrolled": true
   },
   "outputs": [
    {
     "name": "stdout",
     "output_type": "stream",
     "text": [
      "5976\n",
      "출력 종료\n"
     ]
    }
   ],
   "source": [
    "# 분양가격_복사에 int가 아닌 데이터가 존재하는지 확인\n",
    "count = 0\n",
    "for num in apt_price.분양가격_복사:\n",
    "    if type(num) != int:\n",
    "        count += 1\n",
    "print(count)\n",
    "print('출력 종료')"
   ]
  },
  {
   "cell_type": "code",
   "execution_count": 19,
   "id": "67ba1260",
   "metadata": {},
   "outputs": [
    {
     "data": {
      "text/plain": [
       "분양가격_복사\n",
       "0       484\n",
       "         31\n",
       "3395     18\n",
       "2221     17\n",
       "2667     17\n",
       "       ... \n",
       "3704      1\n",
       "3853      1\n",
       "4517      1\n",
       "3436      1\n",
       "2997      1\n",
       "Name: count, Length: 2316, dtype: int64"
      ]
     },
     "execution_count": 19,
     "metadata": {},
     "output_type": "execute_result"
    }
   ],
   "source": [
    "# 분양가격_복사에 문제 데이터 확인\n",
    "apt_price.분양가격_복사.value_counts()"
   ]
  },
  {
   "cell_type": "code",
   "execution_count": 20,
   "id": "165e9edd",
   "metadata": {},
   "outputs": [
    {
     "data": {
      "text/plain": [
       "5"
      ]
     },
     "execution_count": 20,
     "metadata": {},
     "output_type": "execute_result"
    }
   ],
   "source": [
    "apt_price.분양가격_복사[apt_price.분양가격_복사==' '].count()"
   ]
  },
  {
   "cell_type": "code",
   "execution_count": 21,
   "id": "709b042b",
   "metadata": {},
   "outputs": [
    {
     "data": {
      "text/plain": [
       "31"
      ]
     },
     "execution_count": 21,
     "metadata": {},
     "output_type": "execute_result"
    }
   ],
   "source": [
    "apt_price.분양가격_복사[apt_price.분양가격_복사=='  '].count()"
   ]
  },
  {
   "cell_type": "code",
   "execution_count": 22,
   "id": "369cc6f8",
   "metadata": {},
   "outputs": [
    {
     "data": {
      "text/plain": [
       "0"
      ]
     },
     "execution_count": 22,
     "metadata": {},
     "output_type": "execute_result"
    }
   ],
   "source": [
    "apt_price.분양가격_복사[apt_price.분양가격_복사=='   '].count()"
   ]
  },
  {
   "cell_type": "code",
   "execution_count": 23,
   "id": "12219cca",
   "metadata": {},
   "outputs": [
    {
     "data": {
      "text/plain": [
       "분양가격_복사\n",
       "0       520\n",
       "3395     18\n",
       "2667     17\n",
       "2221     17\n",
       "2729     16\n",
       "       ... \n",
       "3704      1\n",
       "3853      1\n",
       "4517      1\n",
       "3436      1\n",
       "2997      1\n",
       "Name: count, Length: 2314, dtype: int64"
      ]
     },
     "execution_count": 23,
     "metadata": {},
     "output_type": "execute_result"
    }
   ],
   "source": [
    "# 분양가격_복사에 '  ', ' '데이터를 0으로 변경\n",
    "apt_price.분양가격_복사[apt_price.분양가격_복사=='  '] = 0\n",
    "apt_price.분양가격_복사[apt_price.분양가격_복사==' '] = 0\n",
    "apt_price.분양가격_복사.value_counts()"
   ]
  },
  {
   "cell_type": "code",
   "execution_count": 24,
   "id": "014f4fc0",
   "metadata": {},
   "outputs": [
    {
     "data": {
      "text/html": [
       "<div>\n",
       "<style scoped>\n",
       "    .dataframe tbody tr th:only-of-type {\n",
       "        vertical-align: middle;\n",
       "    }\n",
       "\n",
       "    .dataframe tbody tr th {\n",
       "        vertical-align: top;\n",
       "    }\n",
       "\n",
       "    .dataframe thead th {\n",
       "        text-align: right;\n",
       "    }\n",
       "</style>\n",
       "<table border=\"1\" class=\"dataframe\">\n",
       "  <thead>\n",
       "    <tr style=\"text-align: right;\">\n",
       "      <th></th>\n",
       "      <th>지역명</th>\n",
       "      <th>전용면적</th>\n",
       "      <th>연도</th>\n",
       "      <th>월</th>\n",
       "      <th>분양가격</th>\n",
       "      <th>분양가격_복사</th>\n",
       "    </tr>\n",
       "  </thead>\n",
       "  <tbody>\n",
       "    <tr>\n",
       "      <th>0</th>\n",
       "      <td>서울</td>\n",
       "      <td>모든면적</td>\n",
       "      <td>2015</td>\n",
       "      <td>10</td>\n",
       "      <td>5841</td>\n",
       "      <td>5841</td>\n",
       "    </tr>\n",
       "    <tr>\n",
       "      <th>1</th>\n",
       "      <td>서울</td>\n",
       "      <td>전용면적 60제곱미터이하</td>\n",
       "      <td>2015</td>\n",
       "      <td>10</td>\n",
       "      <td>5652</td>\n",
       "      <td>5652</td>\n",
       "    </tr>\n",
       "    <tr>\n",
       "      <th>2</th>\n",
       "      <td>서울</td>\n",
       "      <td>전용면적 60제곱미터초과 85제곱미터이하</td>\n",
       "      <td>2015</td>\n",
       "      <td>10</td>\n",
       "      <td>5882</td>\n",
       "      <td>5882</td>\n",
       "    </tr>\n",
       "    <tr>\n",
       "      <th>3</th>\n",
       "      <td>서울</td>\n",
       "      <td>전용면적 85제곱미터초과 102제곱미터이하</td>\n",
       "      <td>2015</td>\n",
       "      <td>10</td>\n",
       "      <td>5721</td>\n",
       "      <td>5721</td>\n",
       "    </tr>\n",
       "    <tr>\n",
       "      <th>4</th>\n",
       "      <td>서울</td>\n",
       "      <td>전용면적 102제곱미터초과</td>\n",
       "      <td>2015</td>\n",
       "      <td>10</td>\n",
       "      <td>5879</td>\n",
       "      <td>5879</td>\n",
       "    </tr>\n",
       "    <tr>\n",
       "      <th>...</th>\n",
       "      <td>...</td>\n",
       "      <td>...</td>\n",
       "      <td>...</td>\n",
       "      <td>...</td>\n",
       "      <td>...</td>\n",
       "      <td>...</td>\n",
       "    </tr>\n",
       "    <tr>\n",
       "      <th>6455</th>\n",
       "      <td>제주</td>\n",
       "      <td>모든면적</td>\n",
       "      <td>2022</td>\n",
       "      <td>1</td>\n",
       "      <td>6574</td>\n",
       "      <td>6574</td>\n",
       "    </tr>\n",
       "    <tr>\n",
       "      <th>6456</th>\n",
       "      <td>제주</td>\n",
       "      <td>전용면적 60제곱미터이하</td>\n",
       "      <td>2022</td>\n",
       "      <td>1</td>\n",
       "      <td>2862</td>\n",
       "      <td>2862</td>\n",
       "    </tr>\n",
       "    <tr>\n",
       "      <th>6457</th>\n",
       "      <td>제주</td>\n",
       "      <td>전용면적 60제곱미터초과 85제곱미터이하</td>\n",
       "      <td>2022</td>\n",
       "      <td>1</td>\n",
       "      <td>6516</td>\n",
       "      <td>6516</td>\n",
       "    </tr>\n",
       "    <tr>\n",
       "      <th>6458</th>\n",
       "      <td>제주</td>\n",
       "      <td>전용면적 85제곱미터초과 102제곱미터이하</td>\n",
       "      <td>2022</td>\n",
       "      <td>1</td>\n",
       "      <td>5924</td>\n",
       "      <td>5924</td>\n",
       "    </tr>\n",
       "    <tr>\n",
       "      <th>6459</th>\n",
       "      <td>제주</td>\n",
       "      <td>전용면적 102제곱미터초과</td>\n",
       "      <td>2022</td>\n",
       "      <td>1</td>\n",
       "      <td>6493</td>\n",
       "      <td>6493</td>\n",
       "    </tr>\n",
       "  </tbody>\n",
       "</table>\n",
       "<p>6460 rows × 6 columns</p>\n",
       "</div>"
      ],
      "text/plain": [
       "     지역명                     전용면적    연도   월  분양가격  분양가격_복사\n",
       "0     서울                     모든면적  2015  10  5841     5841\n",
       "1     서울            전용면적 60제곱미터이하  2015  10  5652     5652\n",
       "2     서울   전용면적 60제곱미터초과 85제곱미터이하  2015  10  5882     5882\n",
       "3     서울  전용면적 85제곱미터초과 102제곱미터이하  2015  10  5721     5721\n",
       "4     서울           전용면적 102제곱미터초과  2015  10  5879     5879\n",
       "...   ..                      ...   ...  ..   ...      ...\n",
       "6455  제주                     모든면적  2022   1  6574     6574\n",
       "6456  제주            전용면적 60제곱미터이하  2022   1  2862     2862\n",
       "6457  제주   전용면적 60제곱미터초과 85제곱미터이하  2022   1  6516     6516\n",
       "6458  제주  전용면적 85제곱미터초과 102제곱미터이하  2022   1  5924     5924\n",
       "6459  제주           전용면적 102제곱미터초과  2022   1  6493     6493\n",
       "\n",
       "[6460 rows x 6 columns]"
      ]
     },
     "execution_count": 24,
     "metadata": {},
     "output_type": "execute_result"
    }
   ],
   "source": [
    "# 타입 변경\n",
    "apt_price.astype({'연도' : 'int16', '월' : 'int8', '분양가격_복사' : int})"
   ]
  },
  {
   "cell_type": "code",
   "execution_count": 25,
   "id": "18c68047",
   "metadata": {},
   "outputs": [],
   "source": [
    "apt_price = apt_price.astype({'연도' : 'int16', '월' : 'int8', '분양가격_복사' : int})"
   ]
  },
  {
   "cell_type": "markdown",
   "id": "a7a7dcf2",
   "metadata": {},
   "source": [
    "## 전용면적 : 데이터 변경\n",
    "[변경 전] | [변경 후]\n",
    "- | -\n",
    "모든면적 | 모든면적\n",
    "전용면적 60제곱미터이하 | 60\n",
    "전용면적 60제곱미터초과 85제곱미터이하 | 60~85\n",
    "전용면적 85제곱미터초과 102제곱미터이하\t| 85~102\n",
    "전용면적 102제곱미터초과 | 102~"
   ]
  },
  {
   "cell_type": "code",
   "execution_count": 26,
   "id": "6a723228",
   "metadata": {},
   "outputs": [
    {
     "data": {
      "text/plain": [
       "전용면적\n",
       "모든면적      1292\n",
       "60        1292\n",
       "60~85     1292\n",
       "85~102    1292\n",
       "102~      1292\n",
       "Name: count, dtype: int64"
      ]
     },
     "execution_count": 26,
     "metadata": {},
     "output_type": "execute_result"
    }
   ],
   "source": [
    "chage_values = ['60', '60~85', '85~102', '102~']\n",
    "for idx in range(0,4):\n",
    "    apt_price.loc[apt_price.전용면적==apt_price.iloc[idx+1, 1], '전용면적'] = chage_values[idx]\n",
    "apt_price.전용면적.value_counts()"
   ]
  },
  {
   "cell_type": "markdown",
   "id": "f8023887",
   "metadata": {},
   "source": [
    "## 컬럼정리\n",
    "- 분양가격 컬럼 삭제\n",
    "- 분양가격_복사 -> 분양가격"
   ]
  },
  {
   "cell_type": "code",
   "execution_count": 27,
   "id": "b8ccd947",
   "metadata": {},
   "outputs": [
    {
     "data": {
      "text/plain": [
       "Index(['지역명', '전용면적', '연도', '월', '분양가격_복사'], dtype='object')"
      ]
     },
     "execution_count": 27,
     "metadata": {},
     "output_type": "execute_result"
    }
   ],
   "source": [
    "# 분양가격 컬럼 삭제\n",
    "del apt_price['분양가격']\n",
    "apt_price.columns"
   ]
  },
  {
   "cell_type": "code",
   "execution_count": 28,
   "id": "9175e0ab",
   "metadata": {},
   "outputs": [
    {
     "data": {
      "text/plain": [
       "Index(['지역명', '전용면적', '연도', '월', '분양가격'], dtype='object')"
      ]
     },
     "execution_count": 28,
     "metadata": {},
     "output_type": "execute_result"
    }
   ],
   "source": [
    "apt_price.rename(columns={'분양가격_복사' : '분양가격'}, inplace=True)\n",
    "apt_price.columns"
   ]
  },
  {
   "cell_type": "markdown",
   "id": "1ee2a502",
   "metadata": {},
   "source": [
    "# csv 파일 저장\n",
    "- 파일명 : apt_price.csv\n",
    "- 인덱스 삭제\n",
    "- 인코딩 : utf-8"
   ]
  },
  {
   "cell_type": "code",
   "execution_count": 29,
   "id": "1d648e88",
   "metadata": {
    "scrolled": true
   },
   "outputs": [
    {
     "data": {
      "text/html": [
       "<div>\n",
       "<style scoped>\n",
       "    .dataframe tbody tr th:only-of-type {\n",
       "        vertical-align: middle;\n",
       "    }\n",
       "\n",
       "    .dataframe tbody tr th {\n",
       "        vertical-align: top;\n",
       "    }\n",
       "\n",
       "    .dataframe thead th {\n",
       "        text-align: right;\n",
       "    }\n",
       "</style>\n",
       "<table border=\"1\" class=\"dataframe\">\n",
       "  <thead>\n",
       "    <tr style=\"text-align: right;\">\n",
       "      <th></th>\n",
       "      <th>지역명</th>\n",
       "      <th>전용면적</th>\n",
       "      <th>연도</th>\n",
       "      <th>월</th>\n",
       "      <th>분양가격</th>\n",
       "    </tr>\n",
       "  </thead>\n",
       "  <tbody>\n",
       "    <tr>\n",
       "      <th>0</th>\n",
       "      <td>서울</td>\n",
       "      <td>모든면적</td>\n",
       "      <td>2015</td>\n",
       "      <td>10</td>\n",
       "      <td>5841</td>\n",
       "    </tr>\n",
       "    <tr>\n",
       "      <th>1</th>\n",
       "      <td>서울</td>\n",
       "      <td>60</td>\n",
       "      <td>2015</td>\n",
       "      <td>10</td>\n",
       "      <td>5652</td>\n",
       "    </tr>\n",
       "    <tr>\n",
       "      <th>2</th>\n",
       "      <td>서울</td>\n",
       "      <td>60~85</td>\n",
       "      <td>2015</td>\n",
       "      <td>10</td>\n",
       "      <td>5882</td>\n",
       "    </tr>\n",
       "    <tr>\n",
       "      <th>3</th>\n",
       "      <td>서울</td>\n",
       "      <td>85~102</td>\n",
       "      <td>2015</td>\n",
       "      <td>10</td>\n",
       "      <td>5721</td>\n",
       "    </tr>\n",
       "    <tr>\n",
       "      <th>4</th>\n",
       "      <td>서울</td>\n",
       "      <td>102~</td>\n",
       "      <td>2015</td>\n",
       "      <td>10</td>\n",
       "      <td>5879</td>\n",
       "    </tr>\n",
       "    <tr>\n",
       "      <th>...</th>\n",
       "      <td>...</td>\n",
       "      <td>...</td>\n",
       "      <td>...</td>\n",
       "      <td>...</td>\n",
       "      <td>...</td>\n",
       "    </tr>\n",
       "    <tr>\n",
       "      <th>6455</th>\n",
       "      <td>제주</td>\n",
       "      <td>모든면적</td>\n",
       "      <td>2022</td>\n",
       "      <td>1</td>\n",
       "      <td>6574</td>\n",
       "    </tr>\n",
       "    <tr>\n",
       "      <th>6456</th>\n",
       "      <td>제주</td>\n",
       "      <td>60</td>\n",
       "      <td>2022</td>\n",
       "      <td>1</td>\n",
       "      <td>2862</td>\n",
       "    </tr>\n",
       "    <tr>\n",
       "      <th>6457</th>\n",
       "      <td>제주</td>\n",
       "      <td>60~85</td>\n",
       "      <td>2022</td>\n",
       "      <td>1</td>\n",
       "      <td>6516</td>\n",
       "    </tr>\n",
       "    <tr>\n",
       "      <th>6458</th>\n",
       "      <td>제주</td>\n",
       "      <td>85~102</td>\n",
       "      <td>2022</td>\n",
       "      <td>1</td>\n",
       "      <td>5924</td>\n",
       "    </tr>\n",
       "    <tr>\n",
       "      <th>6459</th>\n",
       "      <td>제주</td>\n",
       "      <td>102~</td>\n",
       "      <td>2022</td>\n",
       "      <td>1</td>\n",
       "      <td>6493</td>\n",
       "    </tr>\n",
       "  </tbody>\n",
       "</table>\n",
       "<p>6460 rows × 5 columns</p>\n",
       "</div>"
      ],
      "text/plain": [
       "     지역명    전용면적    연도   월  분양가격\n",
       "0     서울    모든면적  2015  10  5841\n",
       "1     서울      60  2015  10  5652\n",
       "2     서울   60~85  2015  10  5882\n",
       "3     서울  85~102  2015  10  5721\n",
       "4     서울    102~  2015  10  5879\n",
       "...   ..     ...   ...  ..   ...\n",
       "6455  제주    모든면적  2022   1  6574\n",
       "6456  제주      60  2022   1  2862\n",
       "6457  제주   60~85  2022   1  6516\n",
       "6458  제주  85~102  2022   1  5924\n",
       "6459  제주    102~  2022   1  6493\n",
       "\n",
       "[6460 rows x 5 columns]"
      ]
     },
     "execution_count": 29,
     "metadata": {},
     "output_type": "execute_result"
    }
   ],
   "source": [
    "apt_price"
   ]
  },
  {
   "cell_type": "code",
   "execution_count": 30,
   "id": "0c0dcad5",
   "metadata": {},
   "outputs": [],
   "source": [
    "apt_price.to_csv('apt_price.csv', index=False, encoding='utf-8')"
   ]
  }
 ],
 "metadata": {
  "kernelspec": {
   "display_name": "ex_kernel",
   "language": "python",
   "name": "ex"
  },
  "language_info": {
   "codemirror_mode": {
    "name": "ipython",
    "version": 3
   },
   "file_extension": ".py",
   "mimetype": "text/x-python",
   "name": "python",
   "nbconvert_exporter": "python",
   "pygments_lexer": "ipython3",
   "version": "3.8.10"
  },
  "toc": {
   "base_numbering": 1,
   "nav_menu": {},
   "number_sections": true,
   "sideBar": true,
   "skip_h1_title": false,
   "title_cell": "Table of Contents",
   "title_sidebar": "Contents",
   "toc_cell": false,
   "toc_position": {},
   "toc_section_display": true,
   "toc_window_display": false
  }
 },
 "nbformat": 4,
 "nbformat_minor": 5
}
