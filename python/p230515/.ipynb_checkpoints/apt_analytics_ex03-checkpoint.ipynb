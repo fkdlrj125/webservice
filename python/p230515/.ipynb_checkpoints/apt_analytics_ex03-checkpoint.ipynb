{
 "cells": [
  {
   "cell_type": "code",
   "execution_count": 7,
   "id": "c25f675b",
   "metadata": {},
   "outputs": [],
   "source": [
    "import pandas as pd\n",
    "import matplotlib.pyplot as plt\n",
    "import numpy as np"
   ]
  },
  {
   "cell_type": "code",
   "execution_count": 8,
   "id": "282c72a1",
   "metadata": {},
   "outputs": [],
   "source": [
    "apt_price = pd.read_csv('apt_price.csv')"
   ]
  },
  {
   "cell_type": "code",
   "execution_count": 9,
   "id": "b5d3f55e",
   "metadata": {
    "scrolled": true
   },
   "outputs": [
    {
     "data": {
      "text/html": [
       "<div>\n",
       "<style scoped>\n",
       "    .dataframe tbody tr th:only-of-type {\n",
       "        vertical-align: middle;\n",
       "    }\n",
       "\n",
       "    .dataframe tbody tr th {\n",
       "        vertical-align: top;\n",
       "    }\n",
       "\n",
       "    .dataframe thead th {\n",
       "        text-align: right;\n",
       "    }\n",
       "</style>\n",
       "<table border=\"1\" class=\"dataframe\">\n",
       "  <thead>\n",
       "    <tr style=\"text-align: right;\">\n",
       "      <th></th>\n",
       "      <th>지역명</th>\n",
       "      <th>전용면적</th>\n",
       "      <th>연도</th>\n",
       "      <th>월</th>\n",
       "      <th>분양가격</th>\n",
       "    </tr>\n",
       "  </thead>\n",
       "  <tbody>\n",
       "    <tr>\n",
       "      <th>0</th>\n",
       "      <td>서울</td>\n",
       "      <td>모든면적</td>\n",
       "      <td>2015</td>\n",
       "      <td>10</td>\n",
       "      <td>5841</td>\n",
       "    </tr>\n",
       "    <tr>\n",
       "      <th>1</th>\n",
       "      <td>서울</td>\n",
       "      <td>60</td>\n",
       "      <td>2015</td>\n",
       "      <td>10</td>\n",
       "      <td>5652</td>\n",
       "    </tr>\n",
       "    <tr>\n",
       "      <th>2</th>\n",
       "      <td>서울</td>\n",
       "      <td>60~85</td>\n",
       "      <td>2015</td>\n",
       "      <td>10</td>\n",
       "      <td>5882</td>\n",
       "    </tr>\n",
       "    <tr>\n",
       "      <th>3</th>\n",
       "      <td>서울</td>\n",
       "      <td>85~102</td>\n",
       "      <td>2015</td>\n",
       "      <td>10</td>\n",
       "      <td>5721</td>\n",
       "    </tr>\n",
       "    <tr>\n",
       "      <th>4</th>\n",
       "      <td>서울</td>\n",
       "      <td>102~</td>\n",
       "      <td>2015</td>\n",
       "      <td>10</td>\n",
       "      <td>5879</td>\n",
       "    </tr>\n",
       "  </tbody>\n",
       "</table>\n",
       "</div>"
      ],
      "text/plain": [
       "  지역명    전용면적    연도   월  분양가격\n",
       "0  서울    모든면적  2015  10  5841\n",
       "1  서울      60  2015  10  5652\n",
       "2  서울   60~85  2015  10  5882\n",
       "3  서울  85~102  2015  10  5721\n",
       "4  서울    102~  2015  10  5879"
      ]
     },
     "execution_count": 9,
     "metadata": {},
     "output_type": "execute_result"
    }
   ],
   "source": [
    "apt_price.head()"
   ]
  },
  {
   "cell_type": "code",
   "execution_count": 10,
   "id": "0f8c3d99",
   "metadata": {
    "scrolled": true
   },
   "outputs": [
    {
     "name": "stdout",
     "output_type": "stream",
     "text": [
      "<class 'pandas.core.frame.DataFrame'>\n",
      "RangeIndex: 6460 entries, 0 to 6459\n",
      "Data columns (total 5 columns):\n",
      " #   Column  Non-Null Count  Dtype \n",
      "---  ------  --------------  ----- \n",
      " 0   지역명     6460 non-null   object\n",
      " 1   전용면적    6460 non-null   object\n",
      " 2   연도      6460 non-null   int64 \n",
      " 3   월       6460 non-null   int64 \n",
      " 4   분양가격    6460 non-null   int64 \n",
      "dtypes: int64(3), object(2)\n",
      "memory usage: 252.5+ KB\n"
     ]
    }
   ],
   "source": [
    "apt_price.info()"
   ]
  },
  {
   "cell_type": "code",
   "execution_count": 11,
   "id": "cc71ed67",
   "metadata": {},
   "outputs": [],
   "source": [
    "# 평당 분양가격\n",
    "# apt_price['분양가격'] * 3.3\n",
    "apt_price['평당분양가격'] = apt_price['분양가격'] * 3.3"
   ]
  },
  {
   "cell_type": "code",
   "execution_count": 12,
   "id": "798f342d",
   "metadata": {
    "scrolled": true
   },
   "outputs": [
    {
     "data": {
      "text/html": [
       "<div>\n",
       "<style scoped>\n",
       "    .dataframe tbody tr th:only-of-type {\n",
       "        vertical-align: middle;\n",
       "    }\n",
       "\n",
       "    .dataframe tbody tr th {\n",
       "        vertical-align: top;\n",
       "    }\n",
       "\n",
       "    .dataframe thead th {\n",
       "        text-align: right;\n",
       "    }\n",
       "</style>\n",
       "<table border=\"1\" class=\"dataframe\">\n",
       "  <thead>\n",
       "    <tr style=\"text-align: right;\">\n",
       "      <th></th>\n",
       "      <th>지역명</th>\n",
       "      <th>전용면적</th>\n",
       "      <th>연도</th>\n",
       "      <th>월</th>\n",
       "      <th>분양가격</th>\n",
       "      <th>평당분양가격</th>\n",
       "    </tr>\n",
       "  </thead>\n",
       "  <tbody>\n",
       "    <tr>\n",
       "      <th>0</th>\n",
       "      <td>서울</td>\n",
       "      <td>모든면적</td>\n",
       "      <td>2015</td>\n",
       "      <td>10</td>\n",
       "      <td>5841</td>\n",
       "      <td>19275.3</td>\n",
       "    </tr>\n",
       "    <tr>\n",
       "      <th>1</th>\n",
       "      <td>서울</td>\n",
       "      <td>60</td>\n",
       "      <td>2015</td>\n",
       "      <td>10</td>\n",
       "      <td>5652</td>\n",
       "      <td>18651.6</td>\n",
       "    </tr>\n",
       "    <tr>\n",
       "      <th>2</th>\n",
       "      <td>서울</td>\n",
       "      <td>60~85</td>\n",
       "      <td>2015</td>\n",
       "      <td>10</td>\n",
       "      <td>5882</td>\n",
       "      <td>19410.6</td>\n",
       "    </tr>\n",
       "    <tr>\n",
       "      <th>3</th>\n",
       "      <td>서울</td>\n",
       "      <td>85~102</td>\n",
       "      <td>2015</td>\n",
       "      <td>10</td>\n",
       "      <td>5721</td>\n",
       "      <td>18879.3</td>\n",
       "    </tr>\n",
       "    <tr>\n",
       "      <th>4</th>\n",
       "      <td>서울</td>\n",
       "      <td>102~</td>\n",
       "      <td>2015</td>\n",
       "      <td>10</td>\n",
       "      <td>5879</td>\n",
       "      <td>19400.7</td>\n",
       "    </tr>\n",
       "    <tr>\n",
       "      <th>...</th>\n",
       "      <td>...</td>\n",
       "      <td>...</td>\n",
       "      <td>...</td>\n",
       "      <td>...</td>\n",
       "      <td>...</td>\n",
       "      <td>...</td>\n",
       "    </tr>\n",
       "    <tr>\n",
       "      <th>6455</th>\n",
       "      <td>제주</td>\n",
       "      <td>모든면적</td>\n",
       "      <td>2022</td>\n",
       "      <td>1</td>\n",
       "      <td>6574</td>\n",
       "      <td>21694.2</td>\n",
       "    </tr>\n",
       "    <tr>\n",
       "      <th>6456</th>\n",
       "      <td>제주</td>\n",
       "      <td>60</td>\n",
       "      <td>2022</td>\n",
       "      <td>1</td>\n",
       "      <td>2862</td>\n",
       "      <td>9444.6</td>\n",
       "    </tr>\n",
       "    <tr>\n",
       "      <th>6457</th>\n",
       "      <td>제주</td>\n",
       "      <td>60~85</td>\n",
       "      <td>2022</td>\n",
       "      <td>1</td>\n",
       "      <td>6516</td>\n",
       "      <td>21502.8</td>\n",
       "    </tr>\n",
       "    <tr>\n",
       "      <th>6458</th>\n",
       "      <td>제주</td>\n",
       "      <td>85~102</td>\n",
       "      <td>2022</td>\n",
       "      <td>1</td>\n",
       "      <td>5924</td>\n",
       "      <td>19549.2</td>\n",
       "    </tr>\n",
       "    <tr>\n",
       "      <th>6459</th>\n",
       "      <td>제주</td>\n",
       "      <td>102~</td>\n",
       "      <td>2022</td>\n",
       "      <td>1</td>\n",
       "      <td>6493</td>\n",
       "      <td>21426.9</td>\n",
       "    </tr>\n",
       "  </tbody>\n",
       "</table>\n",
       "<p>6460 rows × 6 columns</p>\n",
       "</div>"
      ],
      "text/plain": [
       "     지역명    전용면적    연도   월  분양가격   평당분양가격\n",
       "0     서울    모든면적  2015  10  5841  19275.3\n",
       "1     서울      60  2015  10  5652  18651.6\n",
       "2     서울   60~85  2015  10  5882  19410.6\n",
       "3     서울  85~102  2015  10  5721  18879.3\n",
       "4     서울    102~  2015  10  5879  19400.7\n",
       "...   ..     ...   ...  ..   ...      ...\n",
       "6455  제주    모든면적  2022   1  6574  21694.2\n",
       "6456  제주      60  2022   1  2862   9444.6\n",
       "6457  제주   60~85  2022   1  6516  21502.8\n",
       "6458  제주  85~102  2022   1  5924  19549.2\n",
       "6459  제주    102~  2022   1  6493  21426.9\n",
       "\n",
       "[6460 rows x 6 columns]"
      ]
     },
     "execution_count": 12,
     "metadata": {},
     "output_type": "execute_result"
    }
   ],
   "source": [
    "apt_price"
   ]
  },
  {
   "cell_type": "code",
   "execution_count": 13,
   "id": "8e536f4c",
   "metadata": {},
   "outputs": [
    {
     "data": {
      "text/plain": [
       "전용면적\n",
       "102~      1292\n",
       "60        1292\n",
       "60~85     1292\n",
       "85~102    1292\n",
       "모든면적      1292\n",
       "dtype: int64"
      ]
     },
     "execution_count": 13,
     "metadata": {},
     "output_type": "execute_result"
    }
   ],
   "source": [
    "# [문제] 전용면적별 평당분양가격 평균과 합\n",
    "g_area = apt_price.groupby('전용면적')\n",
    "g_area.size()"
   ]
  },
  {
   "cell_type": "code",
   "execution_count": 14,
   "id": "7762a31f",
   "metadata": {},
   "outputs": [],
   "source": [
    "# for area in g_area:\n",
    "#     print(f'{area[0]}의 평균 : {area[1].평당분양가격.mean():.2f}')\n",
    "#     print(f'{area[0]}의 합 : {area[1].평당분양가격.sum():.2f}')"
   ]
  },
  {
   "cell_type": "code",
   "execution_count": 15,
   "id": "ce88caf5",
   "metadata": {},
   "outputs": [
    {
     "data": {
      "text/plain": [
       "전용면적\n",
       "102~      10957.7\n",
       "60        10467.6\n",
       "60~85     11019.6\n",
       "85~102     9603.7\n",
       "모든면적      11061.8\n",
       "Name: 평당분양가격, dtype: float64"
      ]
     },
     "execution_count": 15,
     "metadata": {},
     "output_type": "execute_result"
    }
   ],
   "source": [
    "g_area.평당분양가격.mean().round(1)"
   ]
  },
  {
   "cell_type": "code",
   "execution_count": 16,
   "id": "d548f6cf",
   "metadata": {},
   "outputs": [
    {
     "data": {
      "text/plain": [
       "전용면적\n",
       "102~      14157323.4\n",
       "60        13524188.7\n",
       "60~85     14237358.3\n",
       "85~102    12407927.4\n",
       "모든면적      14291844.6\n",
       "Name: 평당분양가격, dtype: float64"
      ]
     },
     "execution_count": 16,
     "metadata": {},
     "output_type": "execute_result"
    }
   ],
   "source": [
    "g_area.평당분양가격.sum()"
   ]
  },
  {
   "cell_type": "code",
   "execution_count": 17,
   "id": "44a7688e",
   "metadata": {},
   "outputs": [
    {
     "data": {
      "text/html": [
       "<div>\n",
       "<style scoped>\n",
       "    .dataframe tbody tr th:only-of-type {\n",
       "        vertical-align: middle;\n",
       "    }\n",
       "\n",
       "    .dataframe tbody tr th {\n",
       "        vertical-align: top;\n",
       "    }\n",
       "\n",
       "    .dataframe thead tr th {\n",
       "        text-align: left;\n",
       "    }\n",
       "\n",
       "    .dataframe thead tr:last-of-type th {\n",
       "        text-align: right;\n",
       "    }\n",
       "</style>\n",
       "<table border=\"1\" class=\"dataframe\">\n",
       "  <thead>\n",
       "    <tr>\n",
       "      <th></th>\n",
       "      <th colspan=\"2\" halign=\"left\">평당분양가격</th>\n",
       "    </tr>\n",
       "    <tr>\n",
       "      <th></th>\n",
       "      <th>max</th>\n",
       "      <th>min</th>\n",
       "    </tr>\n",
       "    <tr>\n",
       "      <th>전용면적</th>\n",
       "      <th></th>\n",
       "      <th></th>\n",
       "    </tr>\n",
       "  </thead>\n",
       "  <tbody>\n",
       "    <tr>\n",
       "      <th>102~</th>\n",
       "      <td>32118.9</td>\n",
       "      <td>0.0</td>\n",
       "    </tr>\n",
       "    <tr>\n",
       "      <th>60</th>\n",
       "      <td>34824.9</td>\n",
       "      <td>0.0</td>\n",
       "    </tr>\n",
       "    <tr>\n",
       "      <th>60~85</th>\n",
       "      <td>35461.8</td>\n",
       "      <td>0.0</td>\n",
       "    </tr>\n",
       "    <tr>\n",
       "      <th>85~102</th>\n",
       "      <td>45655.5</td>\n",
       "      <td>0.0</td>\n",
       "    </tr>\n",
       "    <tr>\n",
       "      <th>모든면적</th>\n",
       "      <td>32943.9</td>\n",
       "      <td>0.0</td>\n",
       "    </tr>\n",
       "  </tbody>\n",
       "</table>\n",
       "</div>"
      ],
      "text/plain": [
       "         평당분양가격     \n",
       "            max  min\n",
       "전용면적                \n",
       "102~    32118.9  0.0\n",
       "60      34824.9  0.0\n",
       "60~85   35461.8  0.0\n",
       "85~102  45655.5  0.0\n",
       "모든면적    32943.9  0.0"
      ]
     },
     "execution_count": 17,
     "metadata": {},
     "output_type": "execute_result"
    }
   ],
   "source": [
    "# 집계함수의 결과를 여러 개 사용 가능\n",
    "# 평당분양가격의 최대값, 최소값\n",
    "# g_area.평당분양가격.agg(['max', 'min'])\n",
    "g_area.agg({'평당분양가격' : [max,min]})"
   ]
  },
  {
   "cell_type": "code",
   "execution_count": 18,
   "id": "49020761",
   "metadata": {},
   "outputs": [
    {
     "data": {
      "text/html": [
       "<div>\n",
       "<style scoped>\n",
       "    .dataframe tbody tr th:only-of-type {\n",
       "        vertical-align: middle;\n",
       "    }\n",
       "\n",
       "    .dataframe tbody tr th {\n",
       "        vertical-align: top;\n",
       "    }\n",
       "\n",
       "    .dataframe thead th {\n",
       "        text-align: right;\n",
       "    }\n",
       "</style>\n",
       "<table border=\"1\" class=\"dataframe\">\n",
       "  <thead>\n",
       "    <tr style=\"text-align: right;\">\n",
       "      <th></th>\n",
       "      <th>평당분양가격</th>\n",
       "      <th>분양가격</th>\n",
       "    </tr>\n",
       "    <tr>\n",
       "      <th>전용면적</th>\n",
       "      <th></th>\n",
       "      <th></th>\n",
       "    </tr>\n",
       "  </thead>\n",
       "  <tbody>\n",
       "    <tr>\n",
       "      <th>102~</th>\n",
       "      <td>10957.680650</td>\n",
       "      <td>3320.509288</td>\n",
       "    </tr>\n",
       "    <tr>\n",
       "      <th>60</th>\n",
       "      <td>10467.638313</td>\n",
       "      <td>3172.011610</td>\n",
       "    </tr>\n",
       "    <tr>\n",
       "      <th>60~85</th>\n",
       "      <td>11019.627167</td>\n",
       "      <td>3339.280960</td>\n",
       "    </tr>\n",
       "    <tr>\n",
       "      <th>85~102</th>\n",
       "      <td>9603.658978</td>\n",
       "      <td>2910.199690</td>\n",
       "    </tr>\n",
       "    <tr>\n",
       "      <th>모든면적</th>\n",
       "      <td>11061.799226</td>\n",
       "      <td>3352.060372</td>\n",
       "    </tr>\n",
       "  </tbody>\n",
       "</table>\n",
       "</div>"
      ],
      "text/plain": [
       "              평당분양가격         분양가격\n",
       "전용면적                             \n",
       "102~    10957.680650  3320.509288\n",
       "60      10467.638313  3172.011610\n",
       "60~85   11019.627167  3339.280960\n",
       "85~102   9603.658978  2910.199690\n",
       "모든면적    11061.799226  3352.060372"
      ]
     },
     "execution_count": 18,
     "metadata": {},
     "output_type": "execute_result"
    }
   ],
   "source": [
    "# 평당분양가격의 평균, 분양가격의 평균\n",
    "g_area.agg({'평당분양가격' : 'mean', '분양가격' : 'mean'})"
   ]
  },
  {
   "cell_type": "code",
   "execution_count": 19,
   "id": "a8150f7d",
   "metadata": {},
   "outputs": [
    {
     "data": {
      "text/html": [
       "<div>\n",
       "<style scoped>\n",
       "    .dataframe tbody tr th:only-of-type {\n",
       "        vertical-align: middle;\n",
       "    }\n",
       "\n",
       "    .dataframe tbody tr th {\n",
       "        vertical-align: top;\n",
       "    }\n",
       "\n",
       "    .dataframe thead tr th {\n",
       "        text-align: left;\n",
       "    }\n",
       "\n",
       "    .dataframe thead tr:last-of-type th {\n",
       "        text-align: right;\n",
       "    }\n",
       "</style>\n",
       "<table border=\"1\" class=\"dataframe\">\n",
       "  <thead>\n",
       "    <tr>\n",
       "      <th></th>\n",
       "      <th colspan=\"2\" halign=\"left\">평당분양가격</th>\n",
       "    </tr>\n",
       "    <tr>\n",
       "      <th></th>\n",
       "      <th>mean</th>\n",
       "      <th>sum</th>\n",
       "    </tr>\n",
       "    <tr>\n",
       "      <th>전용면적</th>\n",
       "      <th></th>\n",
       "      <th></th>\n",
       "    </tr>\n",
       "  </thead>\n",
       "  <tbody>\n",
       "    <tr>\n",
       "      <th>102~</th>\n",
       "      <td>10957.680650</td>\n",
       "      <td>14157323.4</td>\n",
       "    </tr>\n",
       "    <tr>\n",
       "      <th>60</th>\n",
       "      <td>10467.638313</td>\n",
       "      <td>13524188.7</td>\n",
       "    </tr>\n",
       "    <tr>\n",
       "      <th>60~85</th>\n",
       "      <td>11019.627167</td>\n",
       "      <td>14237358.3</td>\n",
       "    </tr>\n",
       "    <tr>\n",
       "      <th>85~102</th>\n",
       "      <td>9603.658978</td>\n",
       "      <td>12407927.4</td>\n",
       "    </tr>\n",
       "    <tr>\n",
       "      <th>모든면적</th>\n",
       "      <td>11061.799226</td>\n",
       "      <td>14291844.6</td>\n",
       "    </tr>\n",
       "  </tbody>\n",
       "</table>\n",
       "</div>"
      ],
      "text/plain": [
       "              평당분양가격            \n",
       "                mean         sum\n",
       "전용면적                            \n",
       "102~    10957.680650  14157323.4\n",
       "60      10467.638313  13524188.7\n",
       "60~85   11019.627167  14237358.3\n",
       "85~102   9603.658978  12407927.4\n",
       "모든면적    11061.799226  14291844.6"
      ]
     },
     "execution_count": 19,
     "metadata": {},
     "output_type": "execute_result"
    }
   ],
   "source": [
    "# 평당분양가격의 평균, 평당분양가격의 합\n",
    "g_area.agg({'평당분양가격' : ['mean', sum]})"
   ]
  },
  {
   "cell_type": "code",
   "execution_count": 20,
   "id": "5fdb29f1",
   "metadata": {},
   "outputs": [
    {
     "data": {
      "text/plain": [
       "MultiIndex([('평당분양가격', 'mean'),\n",
       "            ('평당분양가격',  'sum')],\n",
       "           )"
      ]
     },
     "execution_count": 20,
     "metadata": {},
     "output_type": "execute_result"
    }
   ],
   "source": [
    "# 평당분양가격의 평균, 평당분양가격의 합\n",
    "g_area.agg({'평당분양가격' : ['mean', sum]}).columns"
   ]
  },
  {
   "cell_type": "code",
   "execution_count": 21,
   "id": "aef024fb",
   "metadata": {},
   "outputs": [
    {
     "data": {
      "text/html": [
       "<div>\n",
       "<style scoped>\n",
       "    .dataframe tbody tr th:only-of-type {\n",
       "        vertical-align: middle;\n",
       "    }\n",
       "\n",
       "    .dataframe tbody tr th {\n",
       "        vertical-align: top;\n",
       "    }\n",
       "\n",
       "    .dataframe thead th {\n",
       "        text-align: right;\n",
       "    }\n",
       "</style>\n",
       "<table border=\"1\" class=\"dataframe\">\n",
       "  <thead>\n",
       "    <tr style=\"text-align: right;\">\n",
       "      <th></th>\n",
       "      <th>mean</th>\n",
       "      <th>sum</th>\n",
       "    </tr>\n",
       "    <tr>\n",
       "      <th>전용면적</th>\n",
       "      <th></th>\n",
       "      <th></th>\n",
       "    </tr>\n",
       "  </thead>\n",
       "  <tbody>\n",
       "    <tr>\n",
       "      <th>102~</th>\n",
       "      <td>10957.680650</td>\n",
       "      <td>14157323.4</td>\n",
       "    </tr>\n",
       "    <tr>\n",
       "      <th>60</th>\n",
       "      <td>10467.638313</td>\n",
       "      <td>13524188.7</td>\n",
       "    </tr>\n",
       "    <tr>\n",
       "      <th>60~85</th>\n",
       "      <td>11019.627167</td>\n",
       "      <td>14237358.3</td>\n",
       "    </tr>\n",
       "    <tr>\n",
       "      <th>85~102</th>\n",
       "      <td>9603.658978</td>\n",
       "      <td>12407927.4</td>\n",
       "    </tr>\n",
       "    <tr>\n",
       "      <th>모든면적</th>\n",
       "      <td>11061.799226</td>\n",
       "      <td>14291844.6</td>\n",
       "    </tr>\n",
       "  </tbody>\n",
       "</table>\n",
       "</div>"
      ],
      "text/plain": [
       "                mean         sum\n",
       "전용면적                            \n",
       "102~    10957.680650  14157323.4\n",
       "60      10467.638313  13524188.7\n",
       "60~85   11019.627167  14237358.3\n",
       "85~102   9603.658978  12407927.4\n",
       "모든면적    11061.799226  14291844.6"
      ]
     },
     "execution_count": 21,
     "metadata": {},
     "output_type": "execute_result"
    }
   ],
   "source": [
    "g_area.평당분양가격.agg(['mean', sum])"
   ]
  },
  {
   "cell_type": "code",
   "execution_count": 22,
   "id": "f518acbb",
   "metadata": {},
   "outputs": [
    {
     "data": {
      "text/plain": [
       "Index(['mean', 'sum'], dtype='object')"
      ]
     },
     "execution_count": 22,
     "metadata": {},
     "output_type": "execute_result"
    }
   ],
   "source": [
    "g_area.평당분양가격.agg(['mean', sum]).columns"
   ]
  },
  {
   "cell_type": "code",
   "execution_count": 23,
   "id": "c35813a6",
   "metadata": {},
   "outputs": [
    {
     "data": {
      "text/html": [
       "<div>\n",
       "<style scoped>\n",
       "    .dataframe tbody tr th:only-of-type {\n",
       "        vertical-align: middle;\n",
       "    }\n",
       "\n",
       "    .dataframe tbody tr th {\n",
       "        vertical-align: top;\n",
       "    }\n",
       "\n",
       "    .dataframe thead th {\n",
       "        text-align: right;\n",
       "    }\n",
       "</style>\n",
       "<table border=\"1\" class=\"dataframe\">\n",
       "  <thead>\n",
       "    <tr style=\"text-align: right;\">\n",
       "      <th></th>\n",
       "      <th>평당분양가격의 평균</th>\n",
       "      <th>평당분양가격의 합</th>\n",
       "    </tr>\n",
       "    <tr>\n",
       "      <th>전용면적</th>\n",
       "      <th></th>\n",
       "      <th></th>\n",
       "    </tr>\n",
       "  </thead>\n",
       "  <tbody>\n",
       "    <tr>\n",
       "      <th>102~</th>\n",
       "      <td>10957.680650</td>\n",
       "      <td>14157323.4</td>\n",
       "    </tr>\n",
       "    <tr>\n",
       "      <th>60</th>\n",
       "      <td>10467.638313</td>\n",
       "      <td>13524188.7</td>\n",
       "    </tr>\n",
       "    <tr>\n",
       "      <th>60~85</th>\n",
       "      <td>11019.627167</td>\n",
       "      <td>14237358.3</td>\n",
       "    </tr>\n",
       "    <tr>\n",
       "      <th>85~102</th>\n",
       "      <td>9603.658978</td>\n",
       "      <td>12407927.4</td>\n",
       "    </tr>\n",
       "    <tr>\n",
       "      <th>모든면적</th>\n",
       "      <td>11061.799226</td>\n",
       "      <td>14291844.6</td>\n",
       "    </tr>\n",
       "  </tbody>\n",
       "</table>\n",
       "</div>"
      ],
      "text/plain": [
       "          평당분양가격의 평균   평당분양가격의 합\n",
       "전용면적                            \n",
       "102~    10957.680650  14157323.4\n",
       "60      10467.638313  13524188.7\n",
       "60~85   11019.627167  14237358.3\n",
       "85~102   9603.658978  12407927.4\n",
       "모든면적    11061.799226  14291844.6"
      ]
     },
     "execution_count": 23,
     "metadata": {},
     "output_type": "execute_result"
    }
   ],
   "source": [
    "g_area.평당분양가격.agg(**{'평당분양가격의 평균' : 'mean', '평당분양가격의 합' : 'sum'})"
   ]
  },
  {
   "cell_type": "code",
   "execution_count": 24,
   "id": "b1a638ba",
   "metadata": {},
   "outputs": [
    {
     "data": {
      "text/plain": [
       "전용면적  지역명\n",
       "102~  강원      9760.748684\n",
       "      경기     15252.165789\n",
       "      경남      9504.000000\n",
       "      경북      9537.260526\n",
       "      광주     10475.155263\n",
       "                 ...     \n",
       "모든면적  전남      7963.247368\n",
       "      전북      7725.473684\n",
       "      제주     13529.869737\n",
       "      충남      8243.052632\n",
       "      충북      7586.439474\n",
       "Name: 평당분양가격, Length: 85, dtype: float64"
      ]
     },
     "execution_count": 24,
     "metadata": {},
     "output_type": "execute_result"
    }
   ],
   "source": [
    "# [문제] 전용면적별 지역별 평당분양가격의 평균\n",
    "g_area_loc = apt_price.groupby(['전용면적', '지역명'])\n",
    "g_area_loc.평당분양가격.mean()"
   ]
  },
  {
   "cell_type": "code",
   "execution_count": 25,
   "id": "85002202",
   "metadata": {},
   "outputs": [
    {
     "data": {
      "text/html": [
       "<div>\n",
       "<style scoped>\n",
       "    .dataframe tbody tr th:only-of-type {\n",
       "        vertical-align: middle;\n",
       "    }\n",
       "\n",
       "    .dataframe tbody tr th {\n",
       "        vertical-align: top;\n",
       "    }\n",
       "\n",
       "    .dataframe thead th {\n",
       "        text-align: right;\n",
       "    }\n",
       "</style>\n",
       "<table border=\"1\" class=\"dataframe\">\n",
       "  <thead>\n",
       "    <tr style=\"text-align: right;\">\n",
       "      <th>지역명</th>\n",
       "      <th>강원</th>\n",
       "      <th>경기</th>\n",
       "      <th>경남</th>\n",
       "      <th>경북</th>\n",
       "      <th>광주</th>\n",
       "      <th>대구</th>\n",
       "      <th>대전</th>\n",
       "      <th>부산</th>\n",
       "      <th>서울</th>\n",
       "      <th>세종</th>\n",
       "      <th>울산</th>\n",
       "      <th>인천</th>\n",
       "      <th>전남</th>\n",
       "      <th>전북</th>\n",
       "      <th>제주</th>\n",
       "      <th>충남</th>\n",
       "      <th>충북</th>\n",
       "    </tr>\n",
       "    <tr>\n",
       "      <th>전용면적</th>\n",
       "      <th></th>\n",
       "      <th></th>\n",
       "      <th></th>\n",
       "      <th></th>\n",
       "      <th></th>\n",
       "      <th></th>\n",
       "      <th></th>\n",
       "      <th></th>\n",
       "      <th></th>\n",
       "      <th></th>\n",
       "      <th></th>\n",
       "      <th></th>\n",
       "      <th></th>\n",
       "      <th></th>\n",
       "      <th></th>\n",
       "      <th></th>\n",
       "      <th></th>\n",
       "    </tr>\n",
       "  </thead>\n",
       "  <tbody>\n",
       "    <tr>\n",
       "      <th>102~</th>\n",
       "      <td>9760.75</td>\n",
       "      <td>15252.17</td>\n",
       "      <td>9504.00</td>\n",
       "      <td>9537.26</td>\n",
       "      <td>10475.16</td>\n",
       "      <td>14163.34</td>\n",
       "      <td>5871.74</td>\n",
       "      <td>13510.50</td>\n",
       "      <td>23247.54</td>\n",
       "      <td>9745.59</td>\n",
       "      <td>5761.32</td>\n",
       "      <td>14506.97</td>\n",
       "      <td>9213.17</td>\n",
       "      <td>8564.80</td>\n",
       "      <td>10480.89</td>\n",
       "      <td>8181.66</td>\n",
       "      <td>8503.71</td>\n",
       "    </tr>\n",
       "    <tr>\n",
       "      <th>60</th>\n",
       "      <td>8378.74</td>\n",
       "      <td>13544.94</td>\n",
       "      <td>8854.51</td>\n",
       "      <td>8595.46</td>\n",
       "      <td>9711.12</td>\n",
       "      <td>12964.74</td>\n",
       "      <td>9253.46</td>\n",
       "      <td>12190.24</td>\n",
       "      <td>25266.58</td>\n",
       "      <td>6890.31</td>\n",
       "      <td>8239.67</td>\n",
       "      <td>12358.67</td>\n",
       "      <td>7555.09</td>\n",
       "      <td>7916.18</td>\n",
       "      <td>10524.22</td>\n",
       "      <td>8205.93</td>\n",
       "      <td>7499.99</td>\n",
       "    </tr>\n",
       "    <tr>\n",
       "      <th>60~85</th>\n",
       "      <td>8116.09</td>\n",
       "      <td>13101.26</td>\n",
       "      <td>9178.12</td>\n",
       "      <td>8678.87</td>\n",
       "      <td>10910.23</td>\n",
       "      <td>12972.82</td>\n",
       "      <td>10316.67</td>\n",
       "      <td>12597.66</td>\n",
       "      <td>24586.82</td>\n",
       "      <td>9158.02</td>\n",
       "      <td>10241.42</td>\n",
       "      <td>12504.13</td>\n",
       "      <td>7964.12</td>\n",
       "      <td>7691.34</td>\n",
       "      <td>13416.98</td>\n",
       "      <td>8261.72</td>\n",
       "      <td>7637.37</td>\n",
       "    </tr>\n",
       "    <tr>\n",
       "      <th>85~102</th>\n",
       "      <td>7640.76</td>\n",
       "      <td>14126.34</td>\n",
       "      <td>11392.38</td>\n",
       "      <td>7441.76</td>\n",
       "      <td>4726.08</td>\n",
       "      <td>11171.59</td>\n",
       "      <td>3224.92</td>\n",
       "      <td>12636.92</td>\n",
       "      <td>27792.47</td>\n",
       "      <td>9201.92</td>\n",
       "      <td>3120.98</td>\n",
       "      <td>12942.17</td>\n",
       "      <td>7330.82</td>\n",
       "      <td>8121.13</td>\n",
       "      <td>5819.81</td>\n",
       "      <td>8248.00</td>\n",
       "      <td>8324.16</td>\n",
       "    </tr>\n",
       "    <tr>\n",
       "      <th>모든면적</th>\n",
       "      <td>8159.34</td>\n",
       "      <td>13126.14</td>\n",
       "      <td>9217.20</td>\n",
       "      <td>8700.45</td>\n",
       "      <td>11020.57</td>\n",
       "      <td>12961.27</td>\n",
       "      <td>10364.95</td>\n",
       "      <td>12645.77</td>\n",
       "      <td>24584.35</td>\n",
       "      <td>9607.52</td>\n",
       "      <td>10180.80</td>\n",
       "      <td>12434.14</td>\n",
       "      <td>7963.25</td>\n",
       "      <td>7725.47</td>\n",
       "      <td>13529.87</td>\n",
       "      <td>8243.05</td>\n",
       "      <td>7586.44</td>\n",
       "    </tr>\n",
       "  </tbody>\n",
       "</table>\n",
       "</div>"
      ],
      "text/plain": [
       "지역명          강원        경기        경남       경북        광주        대구        대전   \n",
       "전용면적                                                                         \n",
       "102~    9760.75  15252.17   9504.00  9537.26  10475.16  14163.34   5871.74  \\\n",
       "60      8378.74  13544.94   8854.51  8595.46   9711.12  12964.74   9253.46   \n",
       "60~85   8116.09  13101.26   9178.12  8678.87  10910.23  12972.82  10316.67   \n",
       "85~102  7640.76  14126.34  11392.38  7441.76   4726.08  11171.59   3224.92   \n",
       "모든면적    8159.34  13126.14   9217.20  8700.45  11020.57  12961.27  10364.95   \n",
       "\n",
       "지역명           부산        서울       세종        울산        인천       전남       전북   \n",
       "전용면적                                                                        \n",
       "102~    13510.50  23247.54  9745.59   5761.32  14506.97  9213.17  8564.80  \\\n",
       "60      12190.24  25266.58  6890.31   8239.67  12358.67  7555.09  7916.18   \n",
       "60~85   12597.66  24586.82  9158.02  10241.42  12504.13  7964.12  7691.34   \n",
       "85~102  12636.92  27792.47  9201.92   3120.98  12942.17  7330.82  8121.13   \n",
       "모든면적    12645.77  24584.35  9607.52  10180.80  12434.14  7963.25  7725.47   \n",
       "\n",
       "지역명           제주       충남       충북  \n",
       "전용면적                                \n",
       "102~    10480.89  8181.66  8503.71  \n",
       "60      10524.22  8205.93  7499.99  \n",
       "60~85   13416.98  8261.72  7637.37  \n",
       "85~102   5819.81  8248.00  8324.16  \n",
       "모든면적    13529.87  8243.05  7586.44  "
      ]
     },
     "execution_count": 25,
     "metadata": {},
     "output_type": "execute_result"
    }
   ],
   "source": [
    "g_area_loc.평당분양가격.mean().unstack().round(2)"
   ]
  },
  {
   "cell_type": "code",
   "execution_count": 26,
   "id": "b7de6e04",
   "metadata": {},
   "outputs": [
    {
     "data": {
      "text/html": [
       "<div>\n",
       "<style scoped>\n",
       "    .dataframe tbody tr th:only-of-type {\n",
       "        vertical-align: middle;\n",
       "    }\n",
       "\n",
       "    .dataframe tbody tr th {\n",
       "        vertical-align: top;\n",
       "    }\n",
       "\n",
       "    .dataframe thead th {\n",
       "        text-align: right;\n",
       "    }\n",
       "</style>\n",
       "<table border=\"1\" class=\"dataframe\">\n",
       "  <thead>\n",
       "    <tr style=\"text-align: right;\">\n",
       "      <th>전용면적</th>\n",
       "      <th>102~</th>\n",
       "      <th>60</th>\n",
       "      <th>60~85</th>\n",
       "      <th>85~102</th>\n",
       "      <th>모든면적</th>\n",
       "    </tr>\n",
       "    <tr>\n",
       "      <th>지역명</th>\n",
       "      <th></th>\n",
       "      <th></th>\n",
       "      <th></th>\n",
       "      <th></th>\n",
       "      <th></th>\n",
       "    </tr>\n",
       "  </thead>\n",
       "  <tbody>\n",
       "    <tr>\n",
       "      <th>강원</th>\n",
       "      <td>9760.75</td>\n",
       "      <td>8378.74</td>\n",
       "      <td>8116.09</td>\n",
       "      <td>7640.76</td>\n",
       "      <td>8159.34</td>\n",
       "    </tr>\n",
       "    <tr>\n",
       "      <th>경기</th>\n",
       "      <td>15252.17</td>\n",
       "      <td>13544.94</td>\n",
       "      <td>13101.26</td>\n",
       "      <td>14126.34</td>\n",
       "      <td>13126.14</td>\n",
       "    </tr>\n",
       "    <tr>\n",
       "      <th>경남</th>\n",
       "      <td>9504.00</td>\n",
       "      <td>8854.51</td>\n",
       "      <td>9178.12</td>\n",
       "      <td>11392.38</td>\n",
       "      <td>9217.20</td>\n",
       "    </tr>\n",
       "    <tr>\n",
       "      <th>경북</th>\n",
       "      <td>9537.26</td>\n",
       "      <td>8595.46</td>\n",
       "      <td>8678.87</td>\n",
       "      <td>7441.76</td>\n",
       "      <td>8700.45</td>\n",
       "    </tr>\n",
       "    <tr>\n",
       "      <th>광주</th>\n",
       "      <td>10475.16</td>\n",
       "      <td>9711.12</td>\n",
       "      <td>10910.23</td>\n",
       "      <td>4726.08</td>\n",
       "      <td>11020.57</td>\n",
       "    </tr>\n",
       "    <tr>\n",
       "      <th>대구</th>\n",
       "      <td>14163.34</td>\n",
       "      <td>12964.74</td>\n",
       "      <td>12972.82</td>\n",
       "      <td>11171.59</td>\n",
       "      <td>12961.27</td>\n",
       "    </tr>\n",
       "    <tr>\n",
       "      <th>대전</th>\n",
       "      <td>5871.74</td>\n",
       "      <td>9253.46</td>\n",
       "      <td>10316.67</td>\n",
       "      <td>3224.92</td>\n",
       "      <td>10364.95</td>\n",
       "    </tr>\n",
       "    <tr>\n",
       "      <th>부산</th>\n",
       "      <td>13510.50</td>\n",
       "      <td>12190.24</td>\n",
       "      <td>12597.66</td>\n",
       "      <td>12636.92</td>\n",
       "      <td>12645.77</td>\n",
       "    </tr>\n",
       "    <tr>\n",
       "      <th>서울</th>\n",
       "      <td>23247.54</td>\n",
       "      <td>25266.58</td>\n",
       "      <td>24586.82</td>\n",
       "      <td>27792.47</td>\n",
       "      <td>24584.35</td>\n",
       "    </tr>\n",
       "    <tr>\n",
       "      <th>세종</th>\n",
       "      <td>9745.59</td>\n",
       "      <td>6890.31</td>\n",
       "      <td>9158.02</td>\n",
       "      <td>9201.92</td>\n",
       "      <td>9607.52</td>\n",
       "    </tr>\n",
       "    <tr>\n",
       "      <th>울산</th>\n",
       "      <td>5761.32</td>\n",
       "      <td>8239.67</td>\n",
       "      <td>10241.42</td>\n",
       "      <td>3120.98</td>\n",
       "      <td>10180.80</td>\n",
       "    </tr>\n",
       "    <tr>\n",
       "      <th>인천</th>\n",
       "      <td>14506.97</td>\n",
       "      <td>12358.67</td>\n",
       "      <td>12504.13</td>\n",
       "      <td>12942.17</td>\n",
       "      <td>12434.14</td>\n",
       "    </tr>\n",
       "    <tr>\n",
       "      <th>전남</th>\n",
       "      <td>9213.17</td>\n",
       "      <td>7555.09</td>\n",
       "      <td>7964.12</td>\n",
       "      <td>7330.82</td>\n",
       "      <td>7963.25</td>\n",
       "    </tr>\n",
       "    <tr>\n",
       "      <th>전북</th>\n",
       "      <td>8564.80</td>\n",
       "      <td>7916.18</td>\n",
       "      <td>7691.34</td>\n",
       "      <td>8121.13</td>\n",
       "      <td>7725.47</td>\n",
       "    </tr>\n",
       "    <tr>\n",
       "      <th>제주</th>\n",
       "      <td>10480.89</td>\n",
       "      <td>10524.22</td>\n",
       "      <td>13416.98</td>\n",
       "      <td>5819.81</td>\n",
       "      <td>13529.87</td>\n",
       "    </tr>\n",
       "    <tr>\n",
       "      <th>충남</th>\n",
       "      <td>8181.66</td>\n",
       "      <td>8205.93</td>\n",
       "      <td>8261.72</td>\n",
       "      <td>8248.00</td>\n",
       "      <td>8243.05</td>\n",
       "    </tr>\n",
       "    <tr>\n",
       "      <th>충북</th>\n",
       "      <td>8503.71</td>\n",
       "      <td>7499.99</td>\n",
       "      <td>7637.37</td>\n",
       "      <td>8324.16</td>\n",
       "      <td>7586.44</td>\n",
       "    </tr>\n",
       "  </tbody>\n",
       "</table>\n",
       "</div>"
      ],
      "text/plain": [
       "전용면적      102~        60     60~85    85~102      모든면적\n",
       "지역명                                                   \n",
       "강원     9760.75   8378.74   8116.09   7640.76   8159.34\n",
       "경기    15252.17  13544.94  13101.26  14126.34  13126.14\n",
       "경남     9504.00   8854.51   9178.12  11392.38   9217.20\n",
       "경북     9537.26   8595.46   8678.87   7441.76   8700.45\n",
       "광주    10475.16   9711.12  10910.23   4726.08  11020.57\n",
       "대구    14163.34  12964.74  12972.82  11171.59  12961.27\n",
       "대전     5871.74   9253.46  10316.67   3224.92  10364.95\n",
       "부산    13510.50  12190.24  12597.66  12636.92  12645.77\n",
       "서울    23247.54  25266.58  24586.82  27792.47  24584.35\n",
       "세종     9745.59   6890.31   9158.02   9201.92   9607.52\n",
       "울산     5761.32   8239.67  10241.42   3120.98  10180.80\n",
       "인천    14506.97  12358.67  12504.13  12942.17  12434.14\n",
       "전남     9213.17   7555.09   7964.12   7330.82   7963.25\n",
       "전북     8564.80   7916.18   7691.34   8121.13   7725.47\n",
       "제주    10480.89  10524.22  13416.98   5819.81  13529.87\n",
       "충남     8181.66   8205.93   8261.72   8248.00   8243.05\n",
       "충북     8503.71   7499.99   7637.37   8324.16   7586.44"
      ]
     },
     "execution_count": 26,
     "metadata": {},
     "output_type": "execute_result"
    }
   ],
   "source": [
    "g_area_loc.평당분양가격.mean().unstack().round(2).T"
   ]
  },
  {
   "cell_type": "code",
   "execution_count": 27,
   "id": "9e10b3cd",
   "metadata": {},
   "outputs": [
    {
     "data": {
      "text/plain": [
       "<Axes: xlabel='지역명'>"
      ]
     },
     "execution_count": 27,
     "metadata": {},
     "output_type": "execute_result"
    },
    {
     "data": {
      "image/png": "[encoded data removed]",
      "text/plain": [
       "<Figure size 640x480 with 1 Axes>"
      ]
     },
     "metadata": {},
     "output_type": "display_data"
    }
   ],
   "source": [
    "# 지역명별 분양가격의 평균을 시각화\n",
    "# plt.rcParams['font.family'] = 'Malgun Gothic'\n",
    "plt.rcParams['font.family'] = 'D2coding'\n",
    "\n",
    "apt_price.groupby('지역명').분양가격.mean().plot()"
   ]
  },
  {
   "cell_type": "code",
   "execution_count": 28,
   "id": "6d67d5c7",
   "metadata": {},
   "outputs": [
    {
     "data": {
      "text/plain": [
       "<Axes: xlabel='지역명'>"
      ]
     },
     "execution_count": 28,
     "metadata": {},
     "output_type": "execute_result"
    },
    {
     "data": {
      "image/png": "[encoded data removed]",
      "text/plain": [
       "<Figure size 640x480 with 1 Axes>"
      ]
     },
     "metadata": {},
     "output_type": "display_data"
    }
   ],
   "source": [
    "g_local_name = apt_price.groupby('지역명')\n",
    "\n",
    "# 정렬된 형태의 그래프를 원하면 데이터를 정렬 후 그래프 그림\n",
    "g_local_name.분양가격.mean().sort_values(ascending=False).plot()"
   ]
  },
  {
   "cell_type": "code",
   "execution_count": 29,
   "id": "bf9f1371",
   "metadata": {
    "scrolled": true
   },
   "outputs": [
    {
     "data": {
      "text/plain": [
       "<Axes: xlabel='지역명'>"
      ]
     },
     "execution_count": 29,
     "metadata": {},
     "output_type": "execute_result"
    },
    {
     "data": {
      "image/png": "[encoded data removed]",
      "text/plain": [
       "<Figure size 1000x500 with 1 Axes>"
      ]
     },
     "metadata": {},
     "output_type": "display_data"
    }
   ],
   "source": [
    "# bar 그래프의 rot 기본값은 90\n",
    "g_local_name.분양가격.mean().sort_values(ascending=False).plot(\n",
    "    kind='bar',\n",
    "    rot=0,\n",
    "    figsize=(10,5)\n",
    ")"
   ]
  },
  {
   "cell_type": "code",
   "execution_count": 30,
   "id": "319a55a7",
   "metadata": {},
   "outputs": [
    {
     "data": {
      "text/plain": [
       "<Axes: xlabel='전용면적'>"
      ]
     },
     "execution_count": 30,
     "metadata": {},
     "output_type": "execute_result"
    },
    {
     "data": {
      "image/png": "[encoded data removed]",
      "text/plain": [
       "<Figure size 640x480 with 1 Axes>"
      ]
     },
     "metadata": {},
     "output_type": "display_data"
    }
   ],
   "source": [
    "# 전용면적별 평당분양가격의 평균\n",
    "g_area.평당분양가격.mean().plot(\n",
    "    kind='bar',\n",
    "    rot=0,\n",
    ")"
   ]
  },
  {
   "cell_type": "code",
   "execution_count": 31,
   "id": "50052fb7",
   "metadata": {},
   "outputs": [
    {
     "data": {
      "image/png": "[encoded data removed]",
      "text/plain": [
       "<Figure size 1000x500 with 1 Axes>"
      ]
     },
     "metadata": {},
     "output_type": "display_data"
    }
   ],
   "source": [
    "# 정렬이 내림차순 오름차순이 아니라면 필요한 순서대로 추출 후 그래프 그림\n",
    "# sort_index의 key 매개변수 이용\n",
    "plt.rc('font', size=15)\n",
    "plt.rc('axes', titlesize=17)\n",
    "\n",
    "x_order = ['60', '60~85', '85~102', '102~', '모든면적']\n",
    "g_area.평당분양가격.mean().loc[x_order].plot(\n",
    "    kind='bar',\n",
    "    rot=0,\n",
    "    ylabel='만원',\n",
    "#     title='지역별 평당분양가격 평균',\n",
    "    fontsize=17, # x와 y축의 눈금 폰트 크기 지정\n",
    "    figsize=(10, 5),\n",
    "    colormap='Pastel2' # colormap 설정\n",
    ")\n",
    "\n",
    "# 타이틀 지정 ==================================================================\n",
    "# 좀 더 세분화된 타이틀 설정 가능\n",
    "\n",
    "# plt.title(label,pad,loc,fontsize,fontdict) # 차트의 이름 설정, \n",
    "plt.title(\n",
    "    '[지역별 평당분양가격 평균]',\n",
    "    pad=50,\n",
    "    loc='center',\n",
    "#     fontsize=30\n",
    "    fontdict={'fontsize' : 20, 'fontweight' : 'bold'}\n",
    ")\n",
    "\n",
    "fontdict={\n",
    "    'family' : 'Malgun Gothic',\n",
    "    'color' : 'Coral',\n",
    "    'weight' : 'bold',\n",
    "    'size' : 14\n",
    "}\n",
    "\n",
    "# x축 레이블\n",
    "plt.xlabel(\n",
    "    '전용면적 (㎡)',\n",
    "    labelpad=20,\n",
    "    loc='right',\n",
    "    fontdict=fontdict\n",
    ")\n",
    "\n",
    "# y축 레이블\n",
    "plt.ylabel(\n",
    "    '원 (만원)',\n",
    "    loc='top',\n",
    "    fontdict=fontdict\n",
    ")\n",
    "\n",
    "# 그리드\n",
    "plt.grid(\n",
    "    axis='x',\n",
    "    color='#e35f62',\n",
    "    alpha=0.5,\n",
    "    linestyle='--'\n",
    ")\n",
    "\n",
    "# 축범위\n",
    "# plt.xlim([xmin, xmax])\n",
    "plt.ylim([0, 12000])\n",
    "# plt.ylim([-100, 12000]) # 음수가 없이 없는 상태에서 범위를 음수도 포함시키면 그래프가 살짝 뜸\n",
    "\n",
    "# 눈금\n",
    "# plt.xticks([0, 1, 2])\n",
    "# plt.xticks(range(0, 100, 10))\n",
    "# plt.xticks(np.arange[0, 100, 10])\n",
    "plt.yticks(range(0, 12000, 1000))\n",
    "\n",
    "plt.show()"
   ]
  },
  {
   "cell_type": "markdown",
   "id": "1a627ce8",
   "metadata": {},
   "source": [
    "# 가설"
   ]
  },
  {
   "cell_type": "markdown",
   "id": "0dd52eda",
   "metadata": {},
   "source": [
    "## [가설1] 서울과 경기의 연도별 평당분양가 평균은 지속해서 상승했을 것이다."
   ]
  },
  {
   "cell_type": "code",
   "execution_count": 32,
   "id": "3e25122f",
   "metadata": {},
   "outputs": [
    {
     "data": {
      "text/plain": [
       "Index(['지역명', '전용면적', '연도', '월', '분양가격', '평당분양가격'], dtype='object')"
      ]
     },
     "execution_count": 32,
     "metadata": {},
     "output_type": "execute_result"
    }
   ],
   "source": [
    "apt_price.columns"
   ]
  },
  {
   "cell_type": "code",
   "execution_count": 33,
   "id": "d81b431b",
   "metadata": {},
   "outputs": [
    {
     "data": {
      "image/png": "[encoded data removed]",
      "text/plain": [
       "<Figure size 1000x500 with 1 Axes>"
      ]
     },
     "metadata": {},
     "output_type": "display_data"
    }
   ],
   "source": [
    "# matplotlib\n",
    "seoul_kyeonggi = apt_price[(apt_price.지역명=='서울') | (apt_price.지역명=='경기')]\n",
    "g_year_local = seoul_kyeonggi.groupby(['연도', '지역명'])\n",
    "g_year_local_mean = g_year_local.평당분양가격.mean().unstack().astype(int)\n",
    "\n",
    "g_year_local_mean.plot(\n",
    "    figsize=(10,5),\n",
    "    colormap=\"tab10\",\n",
    "    fontsize=10,\n",
    ")\n",
    "\n",
    "plt.xlabel(\n",
    "    '연도',\n",
    "    labelpad=20,\n",
    "    fontsize=10\n",
    ")\n",
    "\n",
    "plt.ylabel(\n",
    "    '단위 (천원)',\n",
    "    labelpad=15,\n",
    "    fontsize=10\n",
    ")\n",
    "\n",
    "plt.legend(\n",
    "    # 튜플을 통해 범례의 위치를 세밀하게 지정(좌표) \n",
    "#     loc=(0.5, 0), # 그래프의 x축 50% 위치에서 범례시작\n",
    "    fontsize=10,\n",
    "    loc=(0.03, 0.9),\n",
    "    ncols=2, # 컬럼의 개수 지정\n",
    "    shadow=True\n",
    ")\n",
    "\n",
    "plt.show()"
   ]
  },
  {
   "cell_type": "markdown",
   "id": "fc8ce048",
   "metadata": {},
   "source": [
    "- seaborn 사용한 시각화\n",
    "    - matplotlib를 기반으로 한 파이썬 시각화 라이브러리\n",
    "    - 간결한 문법\n",
    "    - DataFrame의 데이털르 바로 집계하여 쉽게 시각화 : 그룹화 과정 생략\n",
    "    - [문법] \n",
    "        - data : 데이터 프레임\n",
    "        - x : x축(컬럼)\n",
    "        - y : y축(컬럼)\n",
    "        - hue : 그룹화 기준(컬럼) <br><br>\n",
    "        \n",
    "- 오차막대(errorbar)\n",
    "    - 신뢰구간\n",
    "    - 부트 스트랩 신뢰구간(Bootstrap confidence interval)\n",
    "    - 0 ~ 100의 값을 가짐\n",
    "    - 기본값 95\n",
    "    - 신뢰구간은 mean(평균), median(중앙값), mode(최빈값) 등을 고려하여 계산\n",
    "    - 설정 가능한 값 \n",
    "        - ci : 신뢰구간\n",
    "        - pi : 백분위구간\n",
    "        - se : 표준오차\n",
    "        - sd : 표준편차\n",
    "        - None <br><br>\n",
    "- estimator\n",
    "    - 그래프 그리는 기준 설정\n",
    "    - numpy라이브러리의 집계함수를 이용\n",
    "        - np.mean\n",
    "        - np.max\n",
    "        - np.min\n",
    "        - np.median\n",
    "        - np.sum\n",
    "        - np.count_nonzero"
   ]
  },
  {
   "cell_type": "code",
   "execution_count": 34,
   "id": "941d8797",
   "metadata": {},
   "outputs": [],
   "source": [
    "# seaborn \n",
    "# matplotlib 기반이기 때문에 matplotlib가 있어야 함\n",
    "\n",
    "import seaborn as sns"
   ]
  },
  {
   "cell_type": "code",
   "execution_count": 35,
   "id": "7b8260ed",
   "metadata": {},
   "outputs": [
    {
     "data": {
      "text/html": [
       "<div>\n",
       "<style scoped>\n",
       "    .dataframe tbody tr th:only-of-type {\n",
       "        vertical-align: middle;\n",
       "    }\n",
       "\n",
       "    .dataframe tbody tr th {\n",
       "        vertical-align: top;\n",
       "    }\n",
       "\n",
       "    .dataframe thead th {\n",
       "        text-align: right;\n",
       "    }\n",
       "</style>\n",
       "<table border=\"1\" class=\"dataframe\">\n",
       "  <thead>\n",
       "    <tr style=\"text-align: right;\">\n",
       "      <th></th>\n",
       "      <th>지역명</th>\n",
       "      <th>전용면적</th>\n",
       "      <th>연도</th>\n",
       "      <th>월</th>\n",
       "      <th>분양가격</th>\n",
       "      <th>평당분양가격</th>\n",
       "    </tr>\n",
       "  </thead>\n",
       "  <tbody>\n",
       "    <tr>\n",
       "      <th>0</th>\n",
       "      <td>서울</td>\n",
       "      <td>모든면적</td>\n",
       "      <td>2015</td>\n",
       "      <td>10</td>\n",
       "      <td>5841</td>\n",
       "      <td>19275.3</td>\n",
       "    </tr>\n",
       "    <tr>\n",
       "      <th>1</th>\n",
       "      <td>서울</td>\n",
       "      <td>60</td>\n",
       "      <td>2015</td>\n",
       "      <td>10</td>\n",
       "      <td>5652</td>\n",
       "      <td>18651.6</td>\n",
       "    </tr>\n",
       "    <tr>\n",
       "      <th>2</th>\n",
       "      <td>서울</td>\n",
       "      <td>60~85</td>\n",
       "      <td>2015</td>\n",
       "      <td>10</td>\n",
       "      <td>5882</td>\n",
       "      <td>19410.6</td>\n",
       "    </tr>\n",
       "    <tr>\n",
       "      <th>3</th>\n",
       "      <td>서울</td>\n",
       "      <td>85~102</td>\n",
       "      <td>2015</td>\n",
       "      <td>10</td>\n",
       "      <td>5721</td>\n",
       "      <td>18879.3</td>\n",
       "    </tr>\n",
       "    <tr>\n",
       "      <th>4</th>\n",
       "      <td>서울</td>\n",
       "      <td>102~</td>\n",
       "      <td>2015</td>\n",
       "      <td>10</td>\n",
       "      <td>5879</td>\n",
       "      <td>19400.7</td>\n",
       "    </tr>\n",
       "    <tr>\n",
       "      <th>...</th>\n",
       "      <td>...</td>\n",
       "      <td>...</td>\n",
       "      <td>...</td>\n",
       "      <td>...</td>\n",
       "      <td>...</td>\n",
       "      <td>...</td>\n",
       "    </tr>\n",
       "    <tr>\n",
       "      <th>6385</th>\n",
       "      <td>경기</td>\n",
       "      <td>모든면적</td>\n",
       "      <td>2022</td>\n",
       "      <td>1</td>\n",
       "      <td>4567</td>\n",
       "      <td>15071.1</td>\n",
       "    </tr>\n",
       "    <tr>\n",
       "      <th>6386</th>\n",
       "      <td>경기</td>\n",
       "      <td>60</td>\n",
       "      <td>2022</td>\n",
       "      <td>1</td>\n",
       "      <td>4573</td>\n",
       "      <td>15090.9</td>\n",
       "    </tr>\n",
       "    <tr>\n",
       "      <th>6387</th>\n",
       "      <td>경기</td>\n",
       "      <td>60~85</td>\n",
       "      <td>2022</td>\n",
       "      <td>1</td>\n",
       "      <td>4646</td>\n",
       "      <td>15331.8</td>\n",
       "    </tr>\n",
       "    <tr>\n",
       "      <th>6388</th>\n",
       "      <td>경기</td>\n",
       "      <td>85~102</td>\n",
       "      <td>2022</td>\n",
       "      <td>1</td>\n",
       "      <td>4021</td>\n",
       "      <td>13269.3</td>\n",
       "    </tr>\n",
       "    <tr>\n",
       "      <th>6389</th>\n",
       "      <td>경기</td>\n",
       "      <td>102~</td>\n",
       "      <td>2022</td>\n",
       "      <td>1</td>\n",
       "      <td>4876</td>\n",
       "      <td>16090.8</td>\n",
       "    </tr>\n",
       "  </tbody>\n",
       "</table>\n",
       "<p>760 rows × 6 columns</p>\n",
       "</div>"
      ],
      "text/plain": [
       "     지역명    전용면적    연도   월  분양가격   평당분양가격\n",
       "0     서울    모든면적  2015  10  5841  19275.3\n",
       "1     서울      60  2015  10  5652  18651.6\n",
       "2     서울   60~85  2015  10  5882  19410.6\n",
       "3     서울  85~102  2015  10  5721  18879.3\n",
       "4     서울    102~  2015  10  5879  19400.7\n",
       "...   ..     ...   ...  ..   ...      ...\n",
       "6385  경기    모든면적  2022   1  4567  15071.1\n",
       "6386  경기      60  2022   1  4573  15090.9\n",
       "6387  경기   60~85  2022   1  4646  15331.8\n",
       "6388  경기  85~102  2022   1  4021  13269.3\n",
       "6389  경기    102~  2022   1  4876  16090.8\n",
       "\n",
       "[760 rows x 6 columns]"
      ]
     },
     "execution_count": 35,
     "metadata": {},
     "output_type": "execute_result"
    }
   ],
   "source": [
    "# apt_price[(apt_price.지역명=='서울') | (apt_price.지역명=='경기')]\n",
    "local_seoul_kyeonggi = apt_price[apt_price.지역명.isin(['서울', '경기'])] # 서울 또는 경기와 일치하는 지역명 추출\n",
    "local_seoul_kyeonggi"
   ]
  },
  {
   "cell_type": "code",
   "execution_count": 36,
   "id": "06373c17",
   "metadata": {},
   "outputs": [],
   "source": [
    "# ? : 해당 메소드의 사용법 출력(cmd명령어)\n",
    "sns.lineplot?"
   ]
  },
  {
   "cell_type": "code",
   "execution_count": 37,
   "id": "39addea1",
   "metadata": {},
   "outputs": [
    {
     "data": {
      "image/png": "[encoded data removed]",
      "text/plain": [
       "<Figure size 1000x700 with 1 Axes>"
      ]
     },
     "metadata": {},
     "output_type": "display_data"
    }
   ],
   "source": [
    "# seaborn의 기본으로 그래프 그리는 방식은 평균\n",
    "# 선형 그래프\n",
    "fig = sns.lineplot(\n",
    "    local_seoul_kyeonggi,\n",
    "    x='연도', # x축\n",
    "    y='평당분양가격', # y축\n",
    "    hue='지역명', # 그룹화\n",
    ")\n",
    "\n",
    "plt.xlabel(\n",
    "    '연도',\n",
    "    labelpad=20,\n",
    "    fontsize=10\n",
    ")\n",
    "\n",
    "plt.ylabel(\n",
    "    '단위 (천원)',\n",
    "    labelpad=15,\n",
    "    fontsize=10\n",
    ")\n",
    "\n",
    "plt.legend(\n",
    "    # 튜플을 통해 범례의 위치를 세밀하게 지정(좌표) \n",
    "#     loc=(0.5, 0), # 그래프의 x축 50% 위치에서 범례시작\n",
    "    fontsize=10,\n",
    "    loc=(0.03, 0.9),\n",
    "    ncols=2, # 컬럼의 개수 지정\n",
    "    shadow=True\n",
    ")\n",
    "\n",
    "fig.figure.set_size_inches(10, 7) "
   ]
  },
  {
   "cell_type": "code",
   "execution_count": 38,
   "id": "807f0100",
   "metadata": {},
   "outputs": [
    {
     "name": "stdout",
     "output_type": "stream",
     "text": [
      "[ 5000. 10000. 15000. 20000. 25000. 30000. 35000.]\n"
     ]
    },
    {
     "ename": "NameError",
     "evalue": "name 'x' is not defined",
     "output_type": "error",
     "traceback": [
      "\u001b[1;31m---------------------------------------------------------------------------\u001b[0m",
      "\u001b[1;31mNameError\u001b[0m                                 Traceback (most recent call last)",
      "Cell \u001b[1;32mIn[38], line 43\u001b[0m\n\u001b[0;32m     41\u001b[0m plt\u001b[38;5;241m.\u001b[39mgca()\u001b[38;5;241m.\u001b[39mset_yticklabels([\u001b[38;5;124mf\u001b[39m\u001b[38;5;124m'\u001b[39m\u001b[38;5;132;01m{\u001b[39;00mx\u001b[38;5;132;01m:\u001b[39;00m\u001b[38;5;124m,.0f\u001b[39m\u001b[38;5;132;01m}\u001b[39;00m\u001b[38;5;124m'\u001b[39m \u001b[38;5;28;01mfor\u001b[39;00m x \u001b[38;5;129;01min\u001b[39;00m yticks]) \u001b[38;5;66;03m# yticks를 다시 설정해줘야 경고 출력 x\u001b[39;00m\n\u001b[0;32m     42\u001b[0m \u001b[38;5;28mprint\u001b[39m(yticks)\n\u001b[1;32m---> 43\u001b[0m \u001b[38;5;28mprint\u001b[39m(\u001b[43mx\u001b[49m)\n\u001b[0;32m     44\u001b[0m fig\u001b[38;5;241m.\u001b[39mfigure\u001b[38;5;241m.\u001b[39mset_size_inches(\u001b[38;5;241m10\u001b[39m, \u001b[38;5;241m7\u001b[39m) \n",
      "\u001b[1;31mNameError\u001b[0m: name 'x' is not defined"
     ]
    },
    {
     "data": {
      "image/png": "[encoded data removed]",
      "text/plain": [
       "<Figure size 640x480 with 1 Axes>"
      ]
     },
     "metadata": {},
     "output_type": "display_data"
    }
   ],
   "source": [
    "# seaborn의 기본으로 그래프 그리는 방식은 평균\n",
    "# 선형 그래프\n",
    "fig = sns.lineplot(\n",
    "    data=local_seoul_kyeonggi,\n",
    "    x='연도', # x축\n",
    "    y='평당분양가격', # y축\n",
    "    hue='지역명', # 그룹화\n",
    "    errorbar=None, # 데이터편차 표현X\n",
    "#     estimator=np.mean # 그래프 그리는 기준(기본값은 평균)\n",
    "#     estimator=np.sum # 합으로 그래프 그림\n",
    "#     estimator=np.max # 최대값으로 그래프 그림\n",
    "    estimator=np.median # 중앙값으로 그래프 그림\n",
    ")\n",
    "\n",
    "plt.xlabel(\n",
    "    '연도',\n",
    "    labelpad=20,\n",
    "    fontsize=10\n",
    ")\n",
    "\n",
    "plt.ylabel(\n",
    "    '단위 (천원)',\n",
    "    labelpad=15,\n",
    "    fontsize=10\n",
    ")\n",
    "\n",
    "plt.legend(\n",
    "    # 튜플을 통해 범례의 위치를 세밀하게 지정(좌표) \n",
    "    # loc=(0.5, 0), # 그래프의 x축 50% 위치에서 범례시작\n",
    "    fontsize=10,\n",
    "    loc=(0.03, 0.9),\n",
    "    ncols=2, # 컬럼의 개수 지정\n",
    "    shadow=True\n",
    ")\n",
    "\n",
    "plt.grid(axis='y', alpha=0.5)\n",
    "\n",
    "# 천단위 구분기호\n",
    "yticks = plt.gca().get_yticks()\n",
    "plt.gca().set_yticks(yticks)\n",
    "plt.gca().set_yticklabels([f'{x:,.0f}' for x in yticks]) # yticks를 다시 설정해줘야 경고 출력 x\n",
    "fig.figure.set_size_inches(10, 7) "
   ]
  },
  {
   "cell_type": "code",
   "execution_count": 39,
   "id": "66ec58c4",
   "metadata": {
    "scrolled": true
   },
   "outputs": [
    {
     "data": {
      "image/png": "[encoded data removed]",
      "text/plain": [
       "<Figure size 1200x700 with 1 Axes>"
      ]
     },
     "metadata": {},
     "output_type": "display_data"
    }
   ],
   "source": [
    "sns.barplot(\n",
    "    data=local_seoul_kyeonggi,\n",
    "    x='연도',\n",
    "    y='평당분양가격',\n",
    "    hue='지역명',\n",
    "    errorbar=None\n",
    ").figure.set_size_inches(12, 7) # 그래프의 크기 조정\n",
    "\n",
    "plt.legend(ncols=2, shadow=True)\n",
    "plt.savefig('image.png')"
   ]
  },
  {
   "cell_type": "code",
   "execution_count": 40,
   "id": "5ac6c98b",
   "metadata": {
    "scrolled": true
   },
   "outputs": [
    {
     "data": {
      "text/html": [
       "<div>\n",
       "<style scoped>\n",
       "    .dataframe tbody tr th:only-of-type {\n",
       "        vertical-align: middle;\n",
       "    }\n",
       "\n",
       "    .dataframe tbody tr th {\n",
       "        vertical-align: top;\n",
       "    }\n",
       "\n",
       "    .dataframe thead th {\n",
       "        text-align: right;\n",
       "    }\n",
       "</style>\n",
       "<table border=\"1\" class=\"dataframe\">\n",
       "  <thead>\n",
       "    <tr style=\"text-align: right;\">\n",
       "      <th>연도</th>\n",
       "      <th>2015</th>\n",
       "      <th>2016</th>\n",
       "      <th>2017</th>\n",
       "      <th>2018</th>\n",
       "      <th>2019</th>\n",
       "      <th>2020</th>\n",
       "      <th>2021</th>\n",
       "      <th>2022</th>\n",
       "    </tr>\n",
       "    <tr>\n",
       "      <th>지역명</th>\n",
       "      <th></th>\n",
       "      <th></th>\n",
       "      <th></th>\n",
       "      <th></th>\n",
       "      <th></th>\n",
       "      <th></th>\n",
       "      <th></th>\n",
       "      <th></th>\n",
       "    </tr>\n",
       "  </thead>\n",
       "  <tbody>\n",
       "    <tr>\n",
       "      <th>경기</th>\n",
       "      <td>11060.94</td>\n",
       "      <td>11684.970</td>\n",
       "      <td>12296.185</td>\n",
       "      <td>14258.420</td>\n",
       "      <td>15665.54</td>\n",
       "      <td>15106.080</td>\n",
       "      <td>14567.080</td>\n",
       "      <td>14970.78</td>\n",
       "    </tr>\n",
       "    <tr>\n",
       "      <th>서울</th>\n",
       "      <td>20315.68</td>\n",
       "      <td>21753.435</td>\n",
       "      <td>21864.095</td>\n",
       "      <td>23202.245</td>\n",
       "      <td>28286.83</td>\n",
       "      <td>29781.015</td>\n",
       "      <td>26442.405</td>\n",
       "      <td>30354.72</td>\n",
       "    </tr>\n",
       "  </tbody>\n",
       "</table>\n",
       "</div>"
      ],
      "text/plain": [
       "연도       2015       2016       2017       2018      2019       2020   \n",
       "지역명                                                                   \n",
       "경기   11060.94  11684.970  12296.185  14258.420  15665.54  15106.080  \\\n",
       "서울   20315.68  21753.435  21864.095  23202.245  28286.83  29781.015   \n",
       "\n",
       "연도        2021      2022  \n",
       "지역명                       \n",
       "경기   14567.080  14970.78  \n",
       "서울   26442.405  30354.72  "
      ]
     },
     "execution_count": 40,
     "metadata": {},
     "output_type": "execute_result"
    }
   ],
   "source": [
    "apt_price[apt_price.지역명.isin(['서울', '경기'])].groupby(['지역명','연도']).평당분양가격.mean().unstack()"
   ]
  },
  {
   "cell_type": "markdown",
   "id": "12278206",
   "metadata": {},
   "source": [
    "- [가설1] 서울과 경기의 '연도별 평당분양가 평균'은 지속해서 상승했을 것이다.\n",
    "    - 서울은 '연도별 평당분양가 평균'이 2015년 이후로 상승 추세였으나, 2020년 2,978만원에서 2021년 2,644만원으로 하락했다. 하락된 분양가는 2022년 3,035만원으로 다시 급등하여 사상 최고가를 갱신하였다.\n",
    "    - 경기 또한 2015년 이후 상승 추세였으나 2019년 1,566만원에서 2020년 1,510만원, 2021년 1,456만원으로 하락했다. 하락된 분양가는 2022년 3,035만원으로 다시 급등하여 사상 최고가를 갱신하였다. \n",
    "    <br><br>\n",
    "    \n",
    "    - [천 단위 구분기호 생략] - 천 단위 구분기호가 많으면 가독성을 떨어뜨릴 수 있기 때문에 생략하기도 함\n",
    "    - 서울은 '연도별 평당분양가 평균'이 2015년 이후로 상승 추세였으나, 2020년 2978만원에서 2021년 2644만원으로 하락했다. 하락된 분양가는 2022년 3035만원으로 다시 급등하여 사상 최고가를 갱신하였다.\n",
    "    - 경기 또한 2015년 이후 상승 추세였으나 2019년 1566만원에서 2020년 1510만원, 2021년 1456만원으로 하락했다. 하락된 분양가는 2022년 1497만원으로 소폭 상승되었다.\n",
    "    <br><br><br>\n",
    "    \n",
    "    - 근거 : 원자제 가격 상승과 인건비 상승이 원인"
   ]
  },
  {
   "cell_type": "markdown",
   "id": "031f7376",
   "metadata": {},
   "source": [
    "<img src=\"image.png\" width=\"500\" align=left>\n",
    "<img src=\"image2.png\" width=\"650\">"
   ]
  },
  {
   "cell_type": "code",
   "execution_count": 41,
   "id": "a499b497",
   "metadata": {
    "scrolled": true
   },
   "outputs": [
    {
     "data": {
      "text/plain": [
       "지역명\n",
       "강원     8411.135526\n",
       "경기    13830.169737\n",
       "경남     9629.243684\n",
       "경북     8590.759737\n",
       "광주     9368.630526\n",
       "대구    12846.752368\n",
       "대전     7806.349737\n",
       "부산    12716.220000\n",
       "서울    25095.553421\n",
       "세종     8920.672895\n",
       "울산     7508.837368\n",
       "인천    12949.217368\n",
       "전남     8005.287632\n",
       "전북     8003.785263\n",
       "제주    10754.352632\n",
       "충남     8228.072368\n",
       "충북     7910.334474\n",
       "Name: 평당분양가격, dtype: float64"
      ]
     },
     "execution_count": 41,
     "metadata": {},
     "output_type": "execute_result"
    }
   ],
   "source": [
    "# [문제 1] 지역별 평당분양가격의 평균을 시각화\n",
    "# matplotlib\n",
    "\n",
    "g_local_mean = apt_price.groupby('지역명').평당분양가격.mean()\n",
    "g_local_mean"
   ]
  },
  {
   "cell_type": "code",
   "execution_count": 42,
   "id": "6706dc1e",
   "metadata": {},
   "outputs": [
    {
     "data": {
      "image/png": "[encoded data removed]",
      "text/plain": [
       "<Figure size 1000x500 with 1 Axes>"
      ]
     },
     "metadata": {},
     "output_type": "display_data"
    }
   ],
   "source": [
    "g_local_mean.sort_values(ascending=False).plot(\n",
    "    kind='bar',\n",
    "    rot=0,\n",
    "    width=0.8,\n",
    "    colormap=\"Set2\"\n",
    ").figure.set_size_inches(10,5)\n",
    "\n",
    "plt.show()"
   ]
  },
  {
   "cell_type": "code",
   "execution_count": 43,
   "id": "d751c765",
   "metadata": {},
   "outputs": [
    {
     "data": {
      "image/png": "[encoded data removed]",
      "text/plain": [
       "<Figure size 1000x500 with 1 Axes>"
      ]
     },
     "metadata": {},
     "output_type": "display_data"
    }
   ],
   "source": [
    "# 데이터 프레임으로 그래프를 그리면 자동으로 범례추가\n",
    "g_local_mean.sort_values(ascending=False).to_frame().plot(\n",
    "    kind='bar',\n",
    "    rot=0,\n",
    "    width=0.8,\n",
    "    colormap=\"Set2\"\n",
    ").figure.set_size_inches(10,5)\n",
    "\n",
    "plt.show()"
   ]
  },
  {
   "cell_type": "code",
   "execution_count": 44,
   "id": "255e3e91",
   "metadata": {
    "scrolled": true
   },
   "outputs": [
    {
     "data": {
      "text/html": [
       "<div>\n",
       "<style scoped>\n",
       "    .dataframe tbody tr th:only-of-type {\n",
       "        vertical-align: middle;\n",
       "    }\n",
       "\n",
       "    .dataframe tbody tr th {\n",
       "        vertical-align: top;\n",
       "    }\n",
       "\n",
       "    .dataframe thead th {\n",
       "        text-align: right;\n",
       "    }\n",
       "</style>\n",
       "<table border=\"1\" class=\"dataframe\">\n",
       "  <thead>\n",
       "    <tr style=\"text-align: right;\">\n",
       "      <th></th>\n",
       "      <th>평당분양가격</th>\n",
       "    </tr>\n",
       "    <tr>\n",
       "      <th>지역명</th>\n",
       "      <th></th>\n",
       "    </tr>\n",
       "  </thead>\n",
       "  <tbody>\n",
       "    <tr>\n",
       "      <th>강원</th>\n",
       "      <td>8411.135526</td>\n",
       "    </tr>\n",
       "    <tr>\n",
       "      <th>경기</th>\n",
       "      <td>13830.169737</td>\n",
       "    </tr>\n",
       "    <tr>\n",
       "      <th>경남</th>\n",
       "      <td>9629.243684</td>\n",
       "    </tr>\n",
       "    <tr>\n",
       "      <th>경북</th>\n",
       "      <td>8590.759737</td>\n",
       "    </tr>\n",
       "    <tr>\n",
       "      <th>광주</th>\n",
       "      <td>9368.630526</td>\n",
       "    </tr>\n",
       "    <tr>\n",
       "      <th>대구</th>\n",
       "      <td>12846.752368</td>\n",
       "    </tr>\n",
       "    <tr>\n",
       "      <th>대전</th>\n",
       "      <td>7806.349737</td>\n",
       "    </tr>\n",
       "    <tr>\n",
       "      <th>부산</th>\n",
       "      <td>12716.220000</td>\n",
       "    </tr>\n",
       "    <tr>\n",
       "      <th>서울</th>\n",
       "      <td>25095.553421</td>\n",
       "    </tr>\n",
       "    <tr>\n",
       "      <th>세종</th>\n",
       "      <td>8920.672895</td>\n",
       "    </tr>\n",
       "    <tr>\n",
       "      <th>울산</th>\n",
       "      <td>7508.837368</td>\n",
       "    </tr>\n",
       "    <tr>\n",
       "      <th>인천</th>\n",
       "      <td>12949.217368</td>\n",
       "    </tr>\n",
       "    <tr>\n",
       "      <th>전남</th>\n",
       "      <td>8005.287632</td>\n",
       "    </tr>\n",
       "    <tr>\n",
       "      <th>전북</th>\n",
       "      <td>8003.785263</td>\n",
       "    </tr>\n",
       "    <tr>\n",
       "      <th>제주</th>\n",
       "      <td>10754.352632</td>\n",
       "    </tr>\n",
       "    <tr>\n",
       "      <th>충남</th>\n",
       "      <td>8228.072368</td>\n",
       "    </tr>\n",
       "    <tr>\n",
       "      <th>충북</th>\n",
       "      <td>7910.334474</td>\n",
       "    </tr>\n",
       "  </tbody>\n",
       "</table>\n",
       "</div>"
      ],
      "text/plain": [
       "           평당분양가격\n",
       "지역명              \n",
       "강원    8411.135526\n",
       "경기   13830.169737\n",
       "경남    9629.243684\n",
       "경북    8590.759737\n",
       "광주    9368.630526\n",
       "대구   12846.752368\n",
       "대전    7806.349737\n",
       "부산   12716.220000\n",
       "서울   25095.553421\n",
       "세종    8920.672895\n",
       "울산    7508.837368\n",
       "인천   12949.217368\n",
       "전남    8005.287632\n",
       "전북    8003.785263\n",
       "제주   10754.352632\n",
       "충남    8228.072368\n",
       "충북    7910.334474"
      ]
     },
     "execution_count": 44,
     "metadata": {},
     "output_type": "execute_result"
    }
   ],
   "source": [
    "g_local_mean.to_frame()"
   ]
  },
  {
   "cell_type": "code",
   "execution_count": 45,
   "id": "16090410",
   "metadata": {
    "scrolled": true
   },
   "outputs": [],
   "source": [
    "# apt_price"
   ]
  },
  {
   "cell_type": "code",
   "execution_count": 46,
   "id": "4490fb23",
   "metadata": {
    "scrolled": true
   },
   "outputs": [
    {
     "data": {
      "image/png": "[encoded data removed]",
      "text/plain": [
       "<Figure size 1200x700 with 1 Axes>"
      ]
     },
     "metadata": {},
     "output_type": "display_data"
    }
   ],
   "source": [
    "# seaborn\n",
    "sns.barplot(\n",
    "    data=g_local_mean.to_frame().sort_values(by='평당분양가격', ascending=False),\n",
    "    x=g_local_mean.index, # 지역명 다름\n",
    "    y='평당분양가격',\n",
    "#     hue='지역명',\n",
    "    errorbar=None,\n",
    ").figure.set_size_inches(12, 7)"
   ]
  },
  {
   "cell_type": "code",
   "execution_count": 47,
   "id": "3f91b01f",
   "metadata": {},
   "outputs": [
    {
     "data": {
      "text/html": [
       "<div>\n",
       "<style scoped>\n",
       "    .dataframe tbody tr th:only-of-type {\n",
       "        vertical-align: middle;\n",
       "    }\n",
       "\n",
       "    .dataframe tbody tr th {\n",
       "        vertical-align: top;\n",
       "    }\n",
       "\n",
       "    .dataframe thead th {\n",
       "        text-align: right;\n",
       "    }\n",
       "</style>\n",
       "<table border=\"1\" class=\"dataframe\">\n",
       "  <thead>\n",
       "    <tr style=\"text-align: right;\">\n",
       "      <th></th>\n",
       "      <th>지역명</th>\n",
       "      <th>평당분양가격</th>\n",
       "    </tr>\n",
       "  </thead>\n",
       "  <tbody>\n",
       "    <tr>\n",
       "      <th>3194</th>\n",
       "      <td>강원</td>\n",
       "      <td>8342.4</td>\n",
       "    </tr>\n",
       "    <tr>\n",
       "      <th>2511</th>\n",
       "      <td>강원</td>\n",
       "      <td>7487.7</td>\n",
       "    </tr>\n",
       "    <tr>\n",
       "      <th>2510</th>\n",
       "      <td>강원</td>\n",
       "      <td>7890.3</td>\n",
       "    </tr>\n",
       "    <tr>\n",
       "      <th>3700</th>\n",
       "      <td>강원</td>\n",
       "      <td>8236.8</td>\n",
       "    </tr>\n",
       "    <tr>\n",
       "      <th>3701</th>\n",
       "      <td>강원</td>\n",
       "      <td>8325.9</td>\n",
       "    </tr>\n",
       "    <tr>\n",
       "      <th>...</th>\n",
       "      <td>...</td>\n",
       "      <td>...</td>\n",
       "    </tr>\n",
       "    <tr>\n",
       "      <th>1667</th>\n",
       "      <td>충북</td>\n",
       "      <td>6758.4</td>\n",
       "    </tr>\n",
       "    <tr>\n",
       "      <th>1668</th>\n",
       "      <td>충북</td>\n",
       "      <td>8457.9</td>\n",
       "    </tr>\n",
       "    <tr>\n",
       "      <th>1669</th>\n",
       "      <td>충북</td>\n",
       "      <td>8461.2</td>\n",
       "    </tr>\n",
       "    <tr>\n",
       "      <th>1584</th>\n",
       "      <td>충북</td>\n",
       "      <td>7698.9</td>\n",
       "    </tr>\n",
       "    <tr>\n",
       "      <th>2094</th>\n",
       "      <td>충북</td>\n",
       "      <td>8250.0</td>\n",
       "    </tr>\n",
       "  </tbody>\n",
       "</table>\n",
       "<p>6460 rows × 2 columns</p>\n",
       "</div>"
      ],
      "text/plain": [
       "     지역명  평당분양가격\n",
       "3194  강원  8342.4\n",
       "2511  강원  7487.7\n",
       "2510  강원  7890.3\n",
       "3700  강원  8236.8\n",
       "3701  강원  8325.9\n",
       "...   ..     ...\n",
       "1667  충북  6758.4\n",
       "1668  충북  8457.9\n",
       "1669  충북  8461.2\n",
       "1584  충북  7698.9\n",
       "2094  충북  8250.0\n",
       "\n",
       "[6460 rows x 2 columns]"
      ]
     },
     "execution_count": 47,
     "metadata": {},
     "output_type": "execute_result"
    }
   ],
   "source": [
    "apt_price[['지역명', '평당분양가격']].sort_values(by='지역명')"
   ]
  },
  {
   "cell_type": "code",
   "execution_count": 48,
   "id": "367e84c5",
   "metadata": {},
   "outputs": [
    {
     "name": "stdout",
     "output_type": "stream",
     "text": [
      "Help on function set_index in module pandas.core.frame:\n",
      "\n",
      "set_index(self, keys, *, drop: 'bool' = True, append: 'bool' = False, inplace: 'bool' = False, verify_integrity: 'bool' = False) -> 'DataFrame | None'\n",
      "    Set the DataFrame index using existing columns.\n",
      "    \n",
      "    Set the DataFrame index (row labels) using one or more existing\n",
      "    columns or arrays (of the correct length). The index can replace the\n",
      "    existing index or expand on it.\n",
      "    \n",
      "    Parameters\n",
      "    ----------\n",
      "    keys : label or array-like or list of labels/arrays\n",
      "        This parameter can be either a single column key, a single array of\n",
      "        the same length as the calling DataFrame, or a list containing an\n",
      "        arbitrary combination of column keys and arrays. Here, \"array\"\n",
      "        encompasses :class:`Series`, :class:`Index`, ``np.ndarray``, and\n",
      "        instances of :class:`~collections.abc.Iterator`.\n",
      "    drop : bool, default True\n",
      "        Delete columns to be used as the new index.\n",
      "    append : bool, default False\n",
      "        Whether to append columns to existing index.\n",
      "    inplace : bool, default False\n",
      "        Whether to modify the DataFrame rather than creating a new one.\n",
      "    verify_integrity : bool, default False\n",
      "        Check the new index for duplicates. Otherwise defer the check until\n",
      "        necessary. Setting to False will improve the performance of this\n",
      "        method.\n",
      "    \n",
      "    Returns\n",
      "    -------\n",
      "    DataFrame or None\n",
      "        Changed row labels or None if ``inplace=True``.\n",
      "    \n",
      "    See Also\n",
      "    --------\n",
      "    DataFrame.reset_index : Opposite of set_index.\n",
      "    DataFrame.reindex : Change to new indices or expand indices.\n",
      "    DataFrame.reindex_like : Change to same indices as other DataFrame.\n",
      "    \n",
      "    Examples\n",
      "    --------\n",
      "    >>> df = pd.DataFrame({'month': [1, 4, 7, 10],\n",
      "    ...                    'year': [2012, 2014, 2013, 2014],\n",
      "    ...                    'sale': [55, 40, 84, 31]})\n",
      "    >>> df\n",
      "       month  year  sale\n",
      "    0      1  2012    55\n",
      "    1      4  2014    40\n",
      "    2      7  2013    84\n",
      "    3     10  2014    31\n",
      "    \n",
      "    Set the index to become the 'month' column:\n",
      "    \n",
      "    >>> df.set_index('month')\n",
      "           year  sale\n",
      "    month\n",
      "    1      2012    55\n",
      "    4      2014    40\n",
      "    7      2013    84\n",
      "    10     2014    31\n",
      "    \n",
      "    Create a MultiIndex using columns 'year' and 'month':\n",
      "    \n",
      "    >>> df.set_index(['year', 'month'])\n",
      "                sale\n",
      "    year  month\n",
      "    2012  1     55\n",
      "    2014  4     40\n",
      "    2013  7     84\n",
      "    2014  10    31\n",
      "    \n",
      "    Create a MultiIndex using an Index and a column:\n",
      "    \n",
      "    >>> df.set_index([pd.Index([1, 2, 3, 4]), 'year'])\n",
      "             month  sale\n",
      "       year\n",
      "    1  2012  1      55\n",
      "    2  2014  4      40\n",
      "    3  2013  7      84\n",
      "    4  2014  10     31\n",
      "    \n",
      "    Create a MultiIndex using two Series:\n",
      "    \n",
      "    >>> s = pd.Series([1, 2, 3, 4])\n",
      "    >>> df.set_index([s, s**2])\n",
      "          month  year  sale\n",
      "    1 1       1  2012    55\n",
      "    2 4       4  2014    40\n",
      "    3 9       7  2013    84\n",
      "    4 16     10  2014    31\n",
      "\n"
     ]
    }
   ],
   "source": [
    "help(pd.DataFrame.set_index)"
   ]
  },
  {
   "cell_type": "code",
   "execution_count": 49,
   "id": "9d38b15d",
   "metadata": {
    "scrolled": true
   },
   "outputs": [
    {
     "data": {
      "text/html": [
       "<div>\n",
       "<style scoped>\n",
       "    .dataframe tbody tr th:only-of-type {\n",
       "        vertical-align: middle;\n",
       "    }\n",
       "\n",
       "    .dataframe tbody tr th {\n",
       "        vertical-align: top;\n",
       "    }\n",
       "\n",
       "    .dataframe thead th {\n",
       "        text-align: right;\n",
       "    }\n",
       "</style>\n",
       "<table border=\"1\" class=\"dataframe\">\n",
       "  <thead>\n",
       "    <tr style=\"text-align: right;\">\n",
       "      <th></th>\n",
       "      <th>평당분양가격</th>\n",
       "    </tr>\n",
       "    <tr>\n",
       "      <th>지역명</th>\n",
       "      <th></th>\n",
       "    </tr>\n",
       "  </thead>\n",
       "  <tbody>\n",
       "    <tr>\n",
       "      <th>서울</th>\n",
       "      <td>19275.3</td>\n",
       "    </tr>\n",
       "    <tr>\n",
       "      <th>서울</th>\n",
       "      <td>18651.6</td>\n",
       "    </tr>\n",
       "    <tr>\n",
       "      <th>서울</th>\n",
       "      <td>19410.6</td>\n",
       "    </tr>\n",
       "    <tr>\n",
       "      <th>서울</th>\n",
       "      <td>18879.3</td>\n",
       "    </tr>\n",
       "    <tr>\n",
       "      <th>서울</th>\n",
       "      <td>19400.7</td>\n",
       "    </tr>\n",
       "    <tr>\n",
       "      <th>...</th>\n",
       "      <td>...</td>\n",
       "    </tr>\n",
       "    <tr>\n",
       "      <th>제주</th>\n",
       "      <td>21694.2</td>\n",
       "    </tr>\n",
       "    <tr>\n",
       "      <th>제주</th>\n",
       "      <td>9444.6</td>\n",
       "    </tr>\n",
       "    <tr>\n",
       "      <th>제주</th>\n",
       "      <td>21502.8</td>\n",
       "    </tr>\n",
       "    <tr>\n",
       "      <th>제주</th>\n",
       "      <td>19549.2</td>\n",
       "    </tr>\n",
       "    <tr>\n",
       "      <th>제주</th>\n",
       "      <td>21426.9</td>\n",
       "    </tr>\n",
       "  </tbody>\n",
       "</table>\n",
       "<p>6460 rows × 1 columns</p>\n",
       "</div>"
      ],
      "text/plain": [
       "      평당분양가격\n",
       "지역명         \n",
       "서울   19275.3\n",
       "서울   18651.6\n",
       "서울   19410.6\n",
       "서울   18879.3\n",
       "서울   19400.7\n",
       "..       ...\n",
       "제주   21694.2\n",
       "제주    9444.6\n",
       "제주   21502.8\n",
       "제주   19549.2\n",
       "제주   21426.9\n",
       "\n",
       "[6460 rows x 1 columns]"
      ]
     },
     "execution_count": 49,
     "metadata": {},
     "output_type": "execute_result"
    }
   ],
   "source": [
    "apt_price[['지역명', '평당분양가격']].set_index('지역명')"
   ]
  },
  {
   "cell_type": "code",
   "execution_count": 50,
   "id": "674239c2",
   "metadata": {},
   "outputs": [
    {
     "data": {
      "text/html": [
       "<div>\n",
       "<style scoped>\n",
       "    .dataframe tbody tr th:only-of-type {\n",
       "        vertical-align: middle;\n",
       "    }\n",
       "\n",
       "    .dataframe tbody tr th {\n",
       "        vertical-align: top;\n",
       "    }\n",
       "\n",
       "    .dataframe thead th {\n",
       "        text-align: right;\n",
       "    }\n",
       "</style>\n",
       "<table border=\"1\" class=\"dataframe\">\n",
       "  <thead>\n",
       "    <tr style=\"text-align: right;\">\n",
       "      <th></th>\n",
       "      <th>지역명</th>\n",
       "      <th>평당분양가격</th>\n",
       "    </tr>\n",
       "  </thead>\n",
       "  <tbody>\n",
       "    <tr>\n",
       "      <th>0</th>\n",
       "      <td>서울</td>\n",
       "      <td>19275.3</td>\n",
       "    </tr>\n",
       "    <tr>\n",
       "      <th>1</th>\n",
       "      <td>서울</td>\n",
       "      <td>18651.6</td>\n",
       "    </tr>\n",
       "    <tr>\n",
       "      <th>2</th>\n",
       "      <td>서울</td>\n",
       "      <td>19410.6</td>\n",
       "    </tr>\n",
       "    <tr>\n",
       "      <th>3</th>\n",
       "      <td>서울</td>\n",
       "      <td>18879.3</td>\n",
       "    </tr>\n",
       "    <tr>\n",
       "      <th>4</th>\n",
       "      <td>서울</td>\n",
       "      <td>19400.7</td>\n",
       "    </tr>\n",
       "    <tr>\n",
       "      <th>...</th>\n",
       "      <td>...</td>\n",
       "      <td>...</td>\n",
       "    </tr>\n",
       "    <tr>\n",
       "      <th>6455</th>\n",
       "      <td>제주</td>\n",
       "      <td>21694.2</td>\n",
       "    </tr>\n",
       "    <tr>\n",
       "      <th>6456</th>\n",
       "      <td>제주</td>\n",
       "      <td>9444.6</td>\n",
       "    </tr>\n",
       "    <tr>\n",
       "      <th>6457</th>\n",
       "      <td>제주</td>\n",
       "      <td>21502.8</td>\n",
       "    </tr>\n",
       "    <tr>\n",
       "      <th>6458</th>\n",
       "      <td>제주</td>\n",
       "      <td>19549.2</td>\n",
       "    </tr>\n",
       "    <tr>\n",
       "      <th>6459</th>\n",
       "      <td>제주</td>\n",
       "      <td>21426.9</td>\n",
       "    </tr>\n",
       "  </tbody>\n",
       "</table>\n",
       "<p>6460 rows × 2 columns</p>\n",
       "</div>"
      ],
      "text/plain": [
       "     지역명   평당분양가격\n",
       "0     서울  19275.3\n",
       "1     서울  18651.6\n",
       "2     서울  19410.6\n",
       "3     서울  18879.3\n",
       "4     서울  19400.7\n",
       "...   ..      ...\n",
       "6455  제주  21694.2\n",
       "6456  제주   9444.6\n",
       "6457  제주  21502.8\n",
       "6458  제주  19549.2\n",
       "6459  제주  21426.9\n",
       "\n",
       "[6460 rows x 2 columns]"
      ]
     },
     "execution_count": 50,
     "metadata": {},
     "output_type": "execute_result"
    }
   ],
   "source": [
    "apt_price[['지역명', '평당분양가격']].reset_index(drop=True)"
   ]
  },
  {
   "cell_type": "code",
   "execution_count": 51,
   "id": "385fce84",
   "metadata": {
    "scrolled": true
   },
   "outputs": [
    {
     "data": {
      "image/png": "[encoded data removed]",
      "text/plain": [
       "<Figure size 1000x500 with 1 Axes>"
      ]
     },
     "metadata": {},
     "output_type": "display_data"
    }
   ],
   "source": [
    "fig = sns.barplot(\n",
    "    data=apt_price,\n",
    "    x='지역명',\n",
    "    y='평당분양가격',\n",
    "    errorbar=None,\n",
    "    width=0.8, # 기본값 0.8\n",
    "    palette='pastel', # colormap 차이점\n",
    "    order=apt_price.groupby('지역명').평당분양가격.mean().sort_values(ascending=False).index\n",
    ")\n",
    "fig.figure.set_size_inches(10,5)"
   ]
  },
  {
   "cell_type": "code",
   "execution_count": 52,
   "id": "66a6a611",
   "metadata": {
    "scrolled": true
   },
   "outputs": [
    {
     "data": {
      "text/plain": [
       "연도\n",
       "2015     8769.665882\n",
       "2016     9341.271176\n",
       "2017     9915.299706\n",
       "2018     9891.808235\n",
       "2019    10897.767941\n",
       "2020    11275.265294\n",
       "2021    12633.373824\n",
       "2022    13511.714118\n",
       "Name: 평당분양가격, dtype: float64"
      ]
     },
     "execution_count": 52,
     "metadata": {},
     "output_type": "execute_result"
    }
   ],
   "source": [
    "# [문제 2] 연도별 평당분양가격의 평균\n",
    "g_year_mean = apt_price.groupby('연도').평당분양가격.mean()\n",
    "g_year_mean"
   ]
  },
  {
   "cell_type": "code",
   "execution_count": 53,
   "id": "7d4cadbc",
   "metadata": {},
   "outputs": [
    {
     "data": {
      "text/plain": [
       "<matplotlib.legend.Legend at 0x2a972348670>"
      ]
     },
     "execution_count": 53,
     "metadata": {},
     "output_type": "execute_result"
    },
    {
     "data": {
      "image/png": "[encoded data removed]",
      "text/plain": [
       "<Figure size 1000x500 with 1 Axes>"
      ]
     },
     "metadata": {},
     "output_type": "display_data"
    }
   ],
   "source": [
    "g_year_mean.plot(\n",
    "    kind='bar',\n",
    "    rot=0,\n",
    "    width=0.9,\n",
    ").figure.set_size_inches(10,5)\n",
    "\n",
    "plt.legend(\n",
    "    fontsize=12\n",
    ")"
   ]
  },
  {
   "cell_type": "code",
   "execution_count": 54,
   "id": "aaccb9b0",
   "metadata": {},
   "outputs": [
    {
     "data": {
      "image/png": "[encoded data removed]",
      "text/plain": [
       "<Figure size 1000x500 with 1 Axes>"
      ]
     },
     "metadata": {},
     "output_type": "display_data"
    }
   ],
   "source": [
    "sns.barplot(\n",
    "    data=apt_price,\n",
    "    x='연도',\n",
    "    y='평당분양가격',\n",
    "    errorbar=None,\n",
    ").figure.set_size_inches(10, 5)"
   ]
  },
  {
   "cell_type": "markdown",
   "id": "a7d82514",
   "metadata": {},
   "source": [
    "## [가설 2] 코로나 펜데믹 기간(2020 ~ 2022)에 서울과 경기의 평당분양가 상승률이 낮았을 것이다.\n"
   ]
  },
  {
   "cell_type": "code",
   "execution_count": 55,
   "id": "1e28bea7",
   "metadata": {},
   "outputs": [
    {
     "data": {
      "text/html": [
       "<div>\n",
       "<style scoped>\n",
       "    .dataframe tbody tr th:only-of-type {\n",
       "        vertical-align: middle;\n",
       "    }\n",
       "\n",
       "    .dataframe tbody tr th {\n",
       "        vertical-align: top;\n",
       "    }\n",
       "\n",
       "    .dataframe thead th {\n",
       "        text-align: right;\n",
       "    }\n",
       "</style>\n",
       "<table border=\"1\" class=\"dataframe\">\n",
       "  <thead>\n",
       "    <tr style=\"text-align: right;\">\n",
       "      <th>지역명</th>\n",
       "      <th>경기</th>\n",
       "      <th>서울</th>\n",
       "    </tr>\n",
       "    <tr>\n",
       "      <th>연도</th>\n",
       "      <th></th>\n",
       "      <th></th>\n",
       "    </tr>\n",
       "  </thead>\n",
       "  <tbody>\n",
       "    <tr>\n",
       "      <th>2015</th>\n",
       "      <td>11060</td>\n",
       "      <td>20315</td>\n",
       "    </tr>\n",
       "    <tr>\n",
       "      <th>2016</th>\n",
       "      <td>11684</td>\n",
       "      <td>21753</td>\n",
       "    </tr>\n",
       "    <tr>\n",
       "      <th>2017</th>\n",
       "      <td>12296</td>\n",
       "      <td>21864</td>\n",
       "    </tr>\n",
       "    <tr>\n",
       "      <th>2018</th>\n",
       "      <td>14258</td>\n",
       "      <td>23202</td>\n",
       "    </tr>\n",
       "    <tr>\n",
       "      <th>2019</th>\n",
       "      <td>15665</td>\n",
       "      <td>28286</td>\n",
       "    </tr>\n",
       "    <tr>\n",
       "      <th>2020</th>\n",
       "      <td>15106</td>\n",
       "      <td>29781</td>\n",
       "    </tr>\n",
       "    <tr>\n",
       "      <th>2021</th>\n",
       "      <td>14567</td>\n",
       "      <td>26442</td>\n",
       "    </tr>\n",
       "    <tr>\n",
       "      <th>2022</th>\n",
       "      <td>14970</td>\n",
       "      <td>30354</td>\n",
       "    </tr>\n",
       "  </tbody>\n",
       "</table>\n",
       "</div>"
      ],
      "text/plain": [
       "지역명      경기     서울\n",
       "연도                \n",
       "2015  11060  20315\n",
       "2016  11684  21753\n",
       "2017  12296  21864\n",
       "2018  14258  23202\n",
       "2019  15665  28286\n",
       "2020  15106  29781\n",
       "2021  14567  26442\n",
       "2022  14970  30354"
      ]
     },
     "execution_count": 55,
     "metadata": {},
     "output_type": "execute_result"
    }
   ],
   "source": [
    "g_year_local_mean"
   ]
  },
  {
   "cell_type": "code",
   "execution_count": 56,
   "id": "8ac759ac",
   "metadata": {},
   "outputs": [],
   "source": [
    "g_year_local_mean['경기상승률'] = 0\n",
    "g_year_local_mean['서울상승률'] = 0"
   ]
  },
  {
   "cell_type": "code",
   "execution_count": 57,
   "id": "97fc4849",
   "metadata": {
    "scrolled": false
   },
   "outputs": [
    {
     "data": {
      "text/html": [
       "<div>\n",
       "<style scoped>\n",
       "    .dataframe tbody tr th:only-of-type {\n",
       "        vertical-align: middle;\n",
       "    }\n",
       "\n",
       "    .dataframe tbody tr th {\n",
       "        vertical-align: top;\n",
       "    }\n",
       "\n",
       "    .dataframe thead th {\n",
       "        text-align: right;\n",
       "    }\n",
       "</style>\n",
       "<table border=\"1\" class=\"dataframe\">\n",
       "  <thead>\n",
       "    <tr style=\"text-align: right;\">\n",
       "      <th>지역명</th>\n",
       "      <th>경기</th>\n",
       "      <th>서울</th>\n",
       "      <th>경기상승률</th>\n",
       "      <th>서울상승률</th>\n",
       "    </tr>\n",
       "    <tr>\n",
       "      <th>연도</th>\n",
       "      <th></th>\n",
       "      <th></th>\n",
       "      <th></th>\n",
       "      <th></th>\n",
       "    </tr>\n",
       "  </thead>\n",
       "  <tbody>\n",
       "    <tr>\n",
       "      <th>2015</th>\n",
       "      <td>11060</td>\n",
       "      <td>20315</td>\n",
       "      <td>0</td>\n",
       "      <td>0</td>\n",
       "    </tr>\n",
       "    <tr>\n",
       "      <th>2016</th>\n",
       "      <td>11684</td>\n",
       "      <td>21753</td>\n",
       "      <td>0</td>\n",
       "      <td>0</td>\n",
       "    </tr>\n",
       "    <tr>\n",
       "      <th>2017</th>\n",
       "      <td>12296</td>\n",
       "      <td>21864</td>\n",
       "      <td>0</td>\n",
       "      <td>0</td>\n",
       "    </tr>\n",
       "    <tr>\n",
       "      <th>2018</th>\n",
       "      <td>14258</td>\n",
       "      <td>23202</td>\n",
       "      <td>0</td>\n",
       "      <td>0</td>\n",
       "    </tr>\n",
       "    <tr>\n",
       "      <th>2019</th>\n",
       "      <td>15665</td>\n",
       "      <td>28286</td>\n",
       "      <td>0</td>\n",
       "      <td>0</td>\n",
       "    </tr>\n",
       "    <tr>\n",
       "      <th>2020</th>\n",
       "      <td>15106</td>\n",
       "      <td>29781</td>\n",
       "      <td>0</td>\n",
       "      <td>0</td>\n",
       "    </tr>\n",
       "    <tr>\n",
       "      <th>2021</th>\n",
       "      <td>14567</td>\n",
       "      <td>26442</td>\n",
       "      <td>0</td>\n",
       "      <td>0</td>\n",
       "    </tr>\n",
       "    <tr>\n",
       "      <th>2022</th>\n",
       "      <td>14970</td>\n",
       "      <td>30354</td>\n",
       "      <td>0</td>\n",
       "      <td>0</td>\n",
       "    </tr>\n",
       "  </tbody>\n",
       "</table>\n",
       "</div>"
      ],
      "text/plain": [
       "지역명      경기     서울  경기상승률  서울상승률\n",
       "연도                              \n",
       "2015  11060  20315      0      0\n",
       "2016  11684  21753      0      0\n",
       "2017  12296  21864      0      0\n",
       "2018  14258  23202      0      0\n",
       "2019  15665  28286      0      0\n",
       "2020  15106  29781      0      0\n",
       "2021  14567  26442      0      0\n",
       "2022  14970  30354      0      0"
      ]
     },
     "execution_count": 57,
     "metadata": {},
     "output_type": "execute_result"
    }
   ],
   "source": [
    "g_year_local_mean"
   ]
  },
  {
   "cell_type": "code",
   "execution_count": 58,
   "id": "4987c59a",
   "metadata": {},
   "outputs": [],
   "source": [
    "## 전년 대비 증감률(상승/하락)\n",
    "# (금년-작년) / 작년 * 100"
   ]
  },
  {
   "cell_type": "code",
   "execution_count": 59,
   "id": "c364d91d",
   "metadata": {},
   "outputs": [],
   "source": [
    "# for idx in range(1, len(g_year_local_mean)):\n",
    "#     g_year_local_mean.iloc[idx, 2] = (g_year_local_mean.iloc[idx, 0] - g_year_local_mean.iloc[idx-1, 0]) / g_year_local_mean.iloc[idx-1, 0] * 100\n",
    "#     g_year_local_mean.iloc[idx, 3] = (g_year_local_mean.iloc[idx, 1] - g_year_local_mean.iloc[idx-1, 1]) / g_year_local_mean.iloc[idx-1, 1] * 100\n",
    "# g_year_local_mean\n",
    "\n",
    "s_k = g_year_local_mean[['서울', '경기']].T\n",
    "\n",
    "for year in s_k.columns[1:]:\n",
    "   s_k[f'{year-1}-{year}'] = (s_k[year][:2] - s_k[year-1][:2]) / s_k[year-1][:2] * 100\n"
   ]
  },
  {
   "cell_type": "code",
   "execution_count": 60,
   "id": "32b92164",
   "metadata": {},
   "outputs": [
    {
     "data": {
      "text/html": [
       "<div>\n",
       "<style scoped>\n",
       "    .dataframe tbody tr th:only-of-type {\n",
       "        vertical-align: middle;\n",
       "    }\n",
       "\n",
       "    .dataframe tbody tr th {\n",
       "        vertical-align: top;\n",
       "    }\n",
       "\n",
       "    .dataframe thead th {\n",
       "        text-align: right;\n",
       "    }\n",
       "</style>\n",
       "<table border=\"1\" class=\"dataframe\">\n",
       "  <thead>\n",
       "    <tr style=\"text-align: right;\">\n",
       "      <th>연도</th>\n",
       "      <th>2015</th>\n",
       "      <th>2016</th>\n",
       "      <th>2017</th>\n",
       "      <th>2018</th>\n",
       "      <th>2019</th>\n",
       "      <th>2020</th>\n",
       "      <th>2021</th>\n",
       "      <th>2022</th>\n",
       "      <th>2015-2016</th>\n",
       "      <th>2016-2017</th>\n",
       "      <th>2017-2018</th>\n",
       "      <th>2018-2019</th>\n",
       "      <th>2019-2020</th>\n",
       "      <th>2020-2021</th>\n",
       "      <th>2021-2022</th>\n",
       "    </tr>\n",
       "    <tr>\n",
       "      <th>지역명</th>\n",
       "      <th></th>\n",
       "      <th></th>\n",
       "      <th></th>\n",
       "      <th></th>\n",
       "      <th></th>\n",
       "      <th></th>\n",
       "      <th></th>\n",
       "      <th></th>\n",
       "      <th></th>\n",
       "      <th></th>\n",
       "      <th></th>\n",
       "      <th></th>\n",
       "      <th></th>\n",
       "      <th></th>\n",
       "      <th></th>\n",
       "    </tr>\n",
       "  </thead>\n",
       "  <tbody>\n",
       "    <tr>\n",
       "      <th>서울</th>\n",
       "      <td>20315</td>\n",
       "      <td>21753</td>\n",
       "      <td>21864</td>\n",
       "      <td>23202</td>\n",
       "      <td>28286</td>\n",
       "      <td>29781</td>\n",
       "      <td>26442</td>\n",
       "      <td>30354</td>\n",
       "      <td>7.078513</td>\n",
       "      <td>0.510274</td>\n",
       "      <td>6.119649</td>\n",
       "      <td>21.911904</td>\n",
       "      <td>5.285300</td>\n",
       "      <td>-11.211846</td>\n",
       "      <td>14.794645</td>\n",
       "    </tr>\n",
       "    <tr>\n",
       "      <th>경기</th>\n",
       "      <td>11060</td>\n",
       "      <td>11684</td>\n",
       "      <td>12296</td>\n",
       "      <td>14258</td>\n",
       "      <td>15665</td>\n",
       "      <td>15106</td>\n",
       "      <td>14567</td>\n",
       "      <td>14970</td>\n",
       "      <td>5.641953</td>\n",
       "      <td>5.237932</td>\n",
       "      <td>15.956409</td>\n",
       "      <td>9.868144</td>\n",
       "      <td>-3.568465</td>\n",
       "      <td>-3.568119</td>\n",
       "      <td>2.766527</td>\n",
       "    </tr>\n",
       "  </tbody>\n",
       "</table>\n",
       "</div>"
      ],
      "text/plain": [
       "연도    2015   2016   2017   2018   2019   2020   2021   2022  2015-2016   \n",
       "지역명                                                                      \n",
       "서울   20315  21753  21864  23202  28286  29781  26442  30354   7.078513  \\\n",
       "경기   11060  11684  12296  14258  15665  15106  14567  14970   5.641953   \n",
       "\n",
       "연도   2016-2017  2017-2018  2018-2019  2019-2020  2020-2021  2021-2022  \n",
       "지역명                                                                    \n",
       "서울    0.510274   6.119649  21.911904   5.285300 -11.211846  14.794645  \n",
       "경기    5.237932  15.956409   9.868144  -3.568465  -3.568119   2.766527  "
      ]
     },
     "execution_count": 60,
     "metadata": {},
     "output_type": "execute_result"
    }
   ],
   "source": [
    "s_k"
   ]
  },
  {
   "cell_type": "code",
   "execution_count": 61,
   "id": "78224431",
   "metadata": {
    "scrolled": true
   },
   "outputs": [
    {
     "data": {
      "text/html": [
       "<div>\n",
       "<style scoped>\n",
       "    .dataframe tbody tr th:only-of-type {\n",
       "        vertical-align: middle;\n",
       "    }\n",
       "\n",
       "    .dataframe tbody tr th {\n",
       "        vertical-align: top;\n",
       "    }\n",
       "\n",
       "    .dataframe thead th {\n",
       "        text-align: right;\n",
       "    }\n",
       "</style>\n",
       "<table border=\"1\" class=\"dataframe\">\n",
       "  <thead>\n",
       "    <tr style=\"text-align: right;\">\n",
       "      <th>연도</th>\n",
       "      <th>2015-2016</th>\n",
       "      <th>2016-2017</th>\n",
       "      <th>2017-2018</th>\n",
       "      <th>2018-2019</th>\n",
       "      <th>2019-2020</th>\n",
       "      <th>2020-2021</th>\n",
       "      <th>2021-2022</th>\n",
       "    </tr>\n",
       "    <tr>\n",
       "      <th>지역명</th>\n",
       "      <th></th>\n",
       "      <th></th>\n",
       "      <th></th>\n",
       "      <th></th>\n",
       "      <th></th>\n",
       "      <th></th>\n",
       "      <th></th>\n",
       "    </tr>\n",
       "  </thead>\n",
       "  <tbody>\n",
       "    <tr>\n",
       "      <th>서울</th>\n",
       "      <td>7.078513</td>\n",
       "      <td>0.510274</td>\n",
       "      <td>6.119649</td>\n",
       "      <td>21.911904</td>\n",
       "      <td>5.285300</td>\n",
       "      <td>-11.211846</td>\n",
       "      <td>14.794645</td>\n",
       "    </tr>\n",
       "    <tr>\n",
       "      <th>경기</th>\n",
       "      <td>5.641953</td>\n",
       "      <td>5.237932</td>\n",
       "      <td>15.956409</td>\n",
       "      <td>9.868144</td>\n",
       "      <td>-3.568465</td>\n",
       "      <td>-3.568119</td>\n",
       "      <td>2.766527</td>\n",
       "    </tr>\n",
       "  </tbody>\n",
       "</table>\n",
       "</div>"
      ],
      "text/plain": [
       "연도   2015-2016  2016-2017  2017-2018  2018-2019  2019-2020  2020-2021   \n",
       "지역명                                                                     \n",
       "서울    7.078513   0.510274   6.119649  21.911904   5.285300 -11.211846  \\\n",
       "경기    5.641953   5.237932  15.956409   9.868144  -3.568465  -3.568119   \n",
       "\n",
       "연도   2021-2022  \n",
       "지역명             \n",
       "서울   14.794645  \n",
       "경기    2.766527  "
      ]
     },
     "execution_count": 61,
     "metadata": {},
     "output_type": "execute_result"
    }
   ],
   "source": [
    "s_k.iloc[:, 8:]"
   ]
  },
  {
   "cell_type": "code",
   "execution_count": 62,
   "id": "e6ea2c9b",
   "metadata": {
    "scrolled": false
   },
   "outputs": [
    {
     "data": {
      "text/plain": [
       "<matplotlib.legend.Legend at 0x2a972768f70>"
      ]
     },
     "execution_count": 62,
     "metadata": {},
     "output_type": "execute_result"
    },
    {
     "data": {
      "image/png": "[encoded data removed]",
      "text/plain": [
       "<Figure size 1000x500 with 1 Axes>"
      ]
     },
     "metadata": {},
     "output_type": "display_data"
    }
   ],
   "source": [
    "s_k.iloc[:, 8:].T.plot(\n",
    ").figure.set_size_inches(10, 5)\n",
    "\n",
    "plt.ylabel(\n",
    "    ylabel='상승률'\n",
    ")\n",
    "\n",
    "plt.legend(\n",
    "    ncols=2\n",
    ")"
   ]
  },
  {
   "cell_type": "code",
   "execution_count": 63,
   "id": "bc3b799b",
   "metadata": {
    "scrolled": false
   },
   "outputs": [
    {
     "data": {
      "text/plain": [
       "<matplotlib.legend.Legend at 0x2a97276bfd0>"
      ]
     },
     "execution_count": 63,
     "metadata": {},
     "output_type": "execute_result"
    },
    {
     "data": {
      "image/png": "[encoded data removed]",
      "text/plain": [
       "<Figure size 1000x500 with 1 Axes>"
      ]
     },
     "metadata": {},
     "output_type": "display_data"
    }
   ],
   "source": [
    "s_k.iloc[:, 8:].T.plot(\n",
    "    kind='bar',\n",
    "    rot=0,\n",
    "    width=0.8,\n",
    "    title='서울 경기 연도별 증감률',\n",
    ").figure.set_size_inches(10, 5)\n",
    "\n",
    "plt.ylabel(\n",
    "    ylabel='상승률'\n",
    ")\n",
    "\n",
    "plt.grid(\n",
    "    axis='y',\n",
    "    color='#ddd',\n",
    "    alpha=0.8\n",
    ")\n",
    "\n",
    "plt.legend(\n",
    "    ncols=2,\n",
    "    loc=2\n",
    ")"
   ]
  },
  {
   "cell_type": "code",
   "execution_count": 64,
   "id": "416b1af3",
   "metadata": {
    "scrolled": true
   },
   "outputs": [
    {
     "data": {
      "text/html": [
       "<div>\n",
       "<style scoped>\n",
       "    .dataframe tbody tr th:only-of-type {\n",
       "        vertical-align: middle;\n",
       "    }\n",
       "\n",
       "    .dataframe tbody tr th {\n",
       "        vertical-align: top;\n",
       "    }\n",
       "\n",
       "    .dataframe thead th {\n",
       "        text-align: right;\n",
       "    }\n",
       "</style>\n",
       "<table border=\"1\" class=\"dataframe\">\n",
       "  <thead>\n",
       "    <tr style=\"text-align: right;\">\n",
       "      <th>연도</th>\n",
       "      <th>2015-2016</th>\n",
       "      <th>2016-2017</th>\n",
       "      <th>2017-2018</th>\n",
       "      <th>2018-2019</th>\n",
       "      <th>2019-2020</th>\n",
       "      <th>2020-2021</th>\n",
       "      <th>2021-2022</th>\n",
       "    </tr>\n",
       "    <tr>\n",
       "      <th>지역명</th>\n",
       "      <th></th>\n",
       "      <th></th>\n",
       "      <th></th>\n",
       "      <th></th>\n",
       "      <th></th>\n",
       "      <th></th>\n",
       "      <th></th>\n",
       "    </tr>\n",
       "  </thead>\n",
       "  <tbody>\n",
       "    <tr>\n",
       "      <th>서울</th>\n",
       "      <td>7.078513</td>\n",
       "      <td>0.510274</td>\n",
       "      <td>6.119649</td>\n",
       "      <td>21.911904</td>\n",
       "      <td>5.285300</td>\n",
       "      <td>-11.211846</td>\n",
       "      <td>14.794645</td>\n",
       "    </tr>\n",
       "    <tr>\n",
       "      <th>경기</th>\n",
       "      <td>5.641953</td>\n",
       "      <td>5.237932</td>\n",
       "      <td>15.956409</td>\n",
       "      <td>9.868144</td>\n",
       "      <td>-3.568465</td>\n",
       "      <td>-3.568119</td>\n",
       "      <td>2.766527</td>\n",
       "    </tr>\n",
       "  </tbody>\n",
       "</table>\n",
       "</div>"
      ],
      "text/plain": [
       "연도   2015-2016  2016-2017  2017-2018  2018-2019  2019-2020  2020-2021   \n",
       "지역명                                                                     \n",
       "서울    7.078513   0.510274   6.119649  21.911904   5.285300 -11.211846  \\\n",
       "경기    5.641953   5.237932  15.956409   9.868144  -3.568465  -3.568119   \n",
       "\n",
       "연도   2021-2022  \n",
       "지역명             \n",
       "서울   14.794645  \n",
       "경기    2.766527  "
      ]
     },
     "execution_count": 64,
     "metadata": {},
     "output_type": "execute_result"
    }
   ],
   "source": [
    "s_k.iloc[:, 8:]"
   ]
  },
  {
   "cell_type": "markdown",
   "id": "c3401181",
   "metadata": {},
   "source": [
    "- [가설 2] 코로나 펜데믹 기간(2020 ~ 2022)에 서울과 경기의 평당분양가 상승률이 낮았을 것이다.\n",
    "    - 코로나 기간 서울의 평당분양가 상승률은 2020년에 5.29%로 과거대비 상대적으로 증가폭이 적고, 2021년은 -11.21%로 전년대비 하락했으나 2022년은 14.79%로 전년대비 큰 폭으로 상승했다\n",
    "    - 코로나 기간 경기의 평당분양가 상승률은 2020년부터 -3.57%로 전년대비 하락하며 하락세가 2021년까지 -3.57%로 유지됐으나 2022년 전년대비 2.77%로 소폭상승하였다.\n",
    "<br><br>\n",
    "- <결론>\n",
    "    - 2022년 서울의 평당분양가의 평균은 3,035만원, 경기의 평당분양가의 평균은 1,497만원으로 2020년 코로나 시작시기에 서울의 평당분양가의 평균 2,978만원, 경기의 평당분양가의 평균 1,510만원과 서울은 57만원 경기는 -13만원 차이로 서울은 큰 차이가 없고 경기는 하락이 나타났다. 2022년 상승률이 큰 이유는 전년의 증감률이 하락했기 때문에 상대적으로 높은 상승률이 나타나는 것으로 보인다. 결과적으로 코로나시기 평당분양가 상승률은 낮은 것으로 나타난다."
   ]
  },
  {
   "cell_type": "code",
   "execution_count": 65,
   "id": "57471f61",
   "metadata": {
    "scrolled": false
   },
   "outputs": [
    {
     "data": {
      "text/html": [
       "<div>\n",
       "<style scoped>\n",
       "    .dataframe tbody tr th:only-of-type {\n",
       "        vertical-align: middle;\n",
       "    }\n",
       "\n",
       "    .dataframe tbody tr th {\n",
       "        vertical-align: top;\n",
       "    }\n",
       "\n",
       "    .dataframe thead th {\n",
       "        text-align: right;\n",
       "    }\n",
       "</style>\n",
       "<table border=\"1\" class=\"dataframe\">\n",
       "  <thead>\n",
       "    <tr style=\"text-align: right;\">\n",
       "      <th>지역명</th>\n",
       "      <th>서울</th>\n",
       "      <th>경기</th>\n",
       "    </tr>\n",
       "    <tr>\n",
       "      <th>연도</th>\n",
       "      <th></th>\n",
       "      <th></th>\n",
       "    </tr>\n",
       "  </thead>\n",
       "  <tbody>\n",
       "    <tr>\n",
       "      <th>2015</th>\n",
       "      <td>20315</td>\n",
       "      <td>11060</td>\n",
       "    </tr>\n",
       "    <tr>\n",
       "      <th>2016</th>\n",
       "      <td>21753</td>\n",
       "      <td>11684</td>\n",
       "    </tr>\n",
       "    <tr>\n",
       "      <th>2017</th>\n",
       "      <td>21864</td>\n",
       "      <td>12296</td>\n",
       "    </tr>\n",
       "    <tr>\n",
       "      <th>2018</th>\n",
       "      <td>23202</td>\n",
       "      <td>14258</td>\n",
       "    </tr>\n",
       "    <tr>\n",
       "      <th>2019</th>\n",
       "      <td>28286</td>\n",
       "      <td>15665</td>\n",
       "    </tr>\n",
       "    <tr>\n",
       "      <th>2020</th>\n",
       "      <td>29781</td>\n",
       "      <td>15106</td>\n",
       "    </tr>\n",
       "    <tr>\n",
       "      <th>2021</th>\n",
       "      <td>26442</td>\n",
       "      <td>14567</td>\n",
       "    </tr>\n",
       "    <tr>\n",
       "      <th>2022</th>\n",
       "      <td>30354</td>\n",
       "      <td>14970</td>\n",
       "    </tr>\n",
       "  </tbody>\n",
       "</table>\n",
       "</div>"
      ],
      "text/plain": [
       "지역명      서울     경기\n",
       "연도                \n",
       "2015  20315  11060\n",
       "2016  21753  11684\n",
       "2017  21864  12296\n",
       "2018  23202  14258\n",
       "2019  28286  15665\n",
       "2020  29781  15106\n",
       "2021  26442  14567\n",
       "2022  30354  14970"
      ]
     },
     "execution_count": 65,
     "metadata": {},
     "output_type": "execute_result"
    }
   ],
   "source": [
    "g_year_local_mean[['서울', '경기']]"
   ]
  }
 ],
 "metadata": {
  "kernelspec": {
   "display_name": "ex_kernel",
   "language": "python",
   "name": "ex"
  },
  "language_info": {
   "codemirror_mode": {
    "name": "ipython",
    "version": 3
   },
   "file_extension": ".py",
   "mimetype": "text/x-python",
   "name": "python",
   "nbconvert_exporter": "python",
   "pygments_lexer": "ipython3",
   "version": "3.8.10"
  },
  "toc": {
   "base_numbering": 1,
   "nav_menu": {},
   "number_sections": true,
   "sideBar": true,
   "skip_h1_title": false,
   "title_cell": "Table of Contents",
   "title_sidebar": "Contents",
   "toc_cell": false,
   "toc_position": {
    "height": "calc(100% - 180px)",
    "left": "10px",
    "top": "150px",
    "width": "165px"
   },
   "toc_section_display": true,
   "toc_window_display": true
  }
 },
 "nbformat": 4,
 "nbformat_minor": 5
}
